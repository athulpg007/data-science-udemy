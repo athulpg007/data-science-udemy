{
 "cells": [
  {
   "cell_type": "markdown",
   "metadata": {},
   "source": [
    "___\n",
    "\n",
    "<a href='http://www.pieriandata.com'> <img src='../Pierian_Data_Logo.png' /></a>\n",
    "___\n",
    "# Plotly and Cufflinks"
   ]
  },
  {
   "cell_type": "markdown",
   "metadata": {},
   "source": [
    "Plotly is a library that allows you to create interactive plots that you can use in dashboards or websites (you can save them as html files or static images).\n",
    "\n",
    "## Installation\n",
    "\n",
    "In order for this all to work, you'll need to install plotly and cufflinks to call plots directly off of a pandas dataframe. These libraries are not currently available through **conda** but are available through **pip**. Install the libraries at your command line/terminal using:\n",
    "\n",
    "    pip install plotly\n",
    "    pip install cufflinks\n",
    "\n",
    "** NOTE: Make sure you only have one installation of Python on your computer when you do this, otherwise the installation may not work. **\n",
    "\n",
    "## Imports and Set-up"
   ]
  },
  {
   "cell_type": "code",
   "execution_count": 1,
   "metadata": {},
   "outputs": [],
   "source": [
    "import pandas as pd\n",
    "import numpy as np\n",
    "%matplotlib inline"
   ]
  },
  {
   "cell_type": "code",
   "execution_count": 2,
   "metadata": {},
   "outputs": [
    {
     "name": "stdout",
     "output_type": "stream",
     "text": [
      "4.8.1\n"
     ]
    }
   ],
   "source": [
    "from plotly import __version__\n",
    "from plotly.offline import download_plotlyjs, init_notebook_mode, plot, iplot\n",
    "\n",
    "print(__version__) # requires version >= 1.9.0"
   ]
  },
  {
   "cell_type": "code",
   "execution_count": 3,
   "metadata": {},
   "outputs": [],
   "source": [
    "import cufflinks as cf"
   ]
  },
  {
   "cell_type": "code",
   "execution_count": 4,
   "metadata": {},
   "outputs": [
    {
     "data": {
      "text/html": [
       "        <script type=\"text/javascript\">\n",
       "        window.PlotlyConfig = {MathJaxConfig: 'local'};\n",
       "        if (window.MathJax) {MathJax.Hub.Config({SVG: {font: \"STIX-Web\"}});}\n",
       "        if (typeof require !== 'undefined') {\n",
       "        require.undef(\"plotly\");\n",
       "        requirejs.config({\n",
       "            paths: {\n",
       "                'plotly': ['https://cdn.plot.ly/plotly-latest.min']\n",
       "            }\n",
       "        });\n",
       "        require(['plotly'], function(Plotly) {\n",
       "            window._Plotly = Plotly;\n",
       "        });\n",
       "        }\n",
       "        </script>\n",
       "        "
      ]
     },
     "metadata": {},
     "output_type": "display_data"
    }
   ],
   "source": [
    "# For Notebooks\n",
    "init_notebook_mode(connected=True)"
   ]
  },
  {
   "cell_type": "code",
   "execution_count": 10,
   "metadata": {},
   "outputs": [
    {
     "data": {
      "text/html": [
       "        <script type=\"text/javascript\">\n",
       "        window.PlotlyConfig = {MathJaxConfig: 'local'};\n",
       "        if (window.MathJax) {MathJax.Hub.Config({SVG: {font: \"STIX-Web\"}});}\n",
       "        if (typeof require !== 'undefined') {\n",
       "        require.undef(\"plotly\");\n",
       "        requirejs.config({\n",
       "            paths: {\n",
       "                'plotly': ['https://cdn.plot.ly/plotly-latest.min']\n",
       "            }\n",
       "        });\n",
       "        require(['plotly'], function(Plotly) {\n",
       "            window._Plotly = Plotly;\n",
       "        });\n",
       "        }\n",
       "        </script>\n",
       "        "
      ]
     },
     "metadata": {},
     "output_type": "display_data"
    }
   ],
   "source": [
    "# For offline use\n",
    "cf.go_offline()"
   ]
  },
  {
   "cell_type": "markdown",
   "metadata": {},
   "source": [
    "### Fake Data"
   ]
  },
  {
   "cell_type": "code",
   "execution_count": 5,
   "metadata": {},
   "outputs": [],
   "source": [
    "df = pd.DataFrame(np.random.randn(100,4),columns='A B C D'.split())"
   ]
  },
  {
   "cell_type": "code",
   "execution_count": 6,
   "metadata": {},
   "outputs": [
    {
     "data": {
      "text/html": [
       "<div>\n",
       "<style scoped>\n",
       "    .dataframe tbody tr th:only-of-type {\n",
       "        vertical-align: middle;\n",
       "    }\n",
       "\n",
       "    .dataframe tbody tr th {\n",
       "        vertical-align: top;\n",
       "    }\n",
       "\n",
       "    .dataframe thead th {\n",
       "        text-align: right;\n",
       "    }\n",
       "</style>\n",
       "<table border=\"1\" class=\"dataframe\">\n",
       "  <thead>\n",
       "    <tr style=\"text-align: right;\">\n",
       "      <th></th>\n",
       "      <th>A</th>\n",
       "      <th>B</th>\n",
       "      <th>C</th>\n",
       "      <th>D</th>\n",
       "    </tr>\n",
       "  </thead>\n",
       "  <tbody>\n",
       "    <tr>\n",
       "      <th>0</th>\n",
       "      <td>-1.316509</td>\n",
       "      <td>0.532221</td>\n",
       "      <td>-0.442663</td>\n",
       "      <td>-0.214113</td>\n",
       "    </tr>\n",
       "    <tr>\n",
       "      <th>1</th>\n",
       "      <td>0.656744</td>\n",
       "      <td>-0.340081</td>\n",
       "      <td>-0.639905</td>\n",
       "      <td>0.371324</td>\n",
       "    </tr>\n",
       "    <tr>\n",
       "      <th>2</th>\n",
       "      <td>-1.211725</td>\n",
       "      <td>1.136087</td>\n",
       "      <td>0.073589</td>\n",
       "      <td>1.018243</td>\n",
       "    </tr>\n",
       "    <tr>\n",
       "      <th>3</th>\n",
       "      <td>-0.779520</td>\n",
       "      <td>-0.382712</td>\n",
       "      <td>-0.309162</td>\n",
       "      <td>-0.980931</td>\n",
       "    </tr>\n",
       "    <tr>\n",
       "      <th>4</th>\n",
       "      <td>-1.308690</td>\n",
       "      <td>-0.088295</td>\n",
       "      <td>-2.110570</td>\n",
       "      <td>0.116814</td>\n",
       "    </tr>\n",
       "  </tbody>\n",
       "</table>\n",
       "</div>"
      ],
      "text/plain": [
       "          A         B         C         D\n",
       "0 -1.316509  0.532221 -0.442663 -0.214113\n",
       "1  0.656744 -0.340081 -0.639905  0.371324\n",
       "2 -1.211725  1.136087  0.073589  1.018243\n",
       "3 -0.779520 -0.382712 -0.309162 -0.980931\n",
       "4 -1.308690 -0.088295 -2.110570  0.116814"
      ]
     },
     "execution_count": 6,
     "metadata": {},
     "output_type": "execute_result"
    }
   ],
   "source": [
    "df.head()"
   ]
  },
  {
   "cell_type": "code",
   "execution_count": 7,
   "metadata": {},
   "outputs": [],
   "source": [
    "df2 = pd.DataFrame({'Category':['A','B','C'],'Values':[32,43,50]})"
   ]
  },
  {
   "cell_type": "code",
   "execution_count": 8,
   "metadata": {},
   "outputs": [
    {
     "data": {
      "text/html": [
       "<div>\n",
       "<style scoped>\n",
       "    .dataframe tbody tr th:only-of-type {\n",
       "        vertical-align: middle;\n",
       "    }\n",
       "\n",
       "    .dataframe tbody tr th {\n",
       "        vertical-align: top;\n",
       "    }\n",
       "\n",
       "    .dataframe thead th {\n",
       "        text-align: right;\n",
       "    }\n",
       "</style>\n",
       "<table border=\"1\" class=\"dataframe\">\n",
       "  <thead>\n",
       "    <tr style=\"text-align: right;\">\n",
       "      <th></th>\n",
       "      <th>Category</th>\n",
       "      <th>Values</th>\n",
       "    </tr>\n",
       "  </thead>\n",
       "  <tbody>\n",
       "    <tr>\n",
       "      <th>0</th>\n",
       "      <td>A</td>\n",
       "      <td>32</td>\n",
       "    </tr>\n",
       "    <tr>\n",
       "      <th>1</th>\n",
       "      <td>B</td>\n",
       "      <td>43</td>\n",
       "    </tr>\n",
       "    <tr>\n",
       "      <th>2</th>\n",
       "      <td>C</td>\n",
       "      <td>50</td>\n",
       "    </tr>\n",
       "  </tbody>\n",
       "</table>\n",
       "</div>"
      ],
      "text/plain": [
       "  Category  Values\n",
       "0        A      32\n",
       "1        B      43\n",
       "2        C      50"
      ]
     },
     "execution_count": 8,
     "metadata": {},
     "output_type": "execute_result"
    }
   ],
   "source": [
    "df2.head()"
   ]
  },
  {
   "cell_type": "markdown",
   "metadata": {},
   "source": [
    "## Using Cufflinks and iplot()\n",
    "\n",
    "* scatter\n",
    "* bar\n",
    "* box\n",
    "* spread\n",
    "* ratio\n",
    "* heatmap\n",
    "* surface\n",
    "* histogram\n",
    "* bubble"
   ]
  },
  {
   "cell_type": "markdown",
   "metadata": {},
   "source": [
    "## Scatter"
   ]
  },
  {
   "cell_type": "code",
   "execution_count": 11,
   "metadata": {},
   "outputs": [
    {
     "data": {
      "application/vnd.plotly.v1+json": {
       "config": {
        "linkText": "Export to plot.ly",
        "plotlyServerURL": "https://plot.ly",
        "showLink": true
       },
       "data": [
        {
         "line": {
          "color": "rgba(255, 153, 51, 1.0)",
          "dash": "solid",
          "shape": "linear",
          "width": 1.3
         },
         "marker": {
          "size": 10,
          "symbol": "circle"
         },
         "mode": "markers",
         "name": "B",
         "text": "",
         "type": "scatter",
         "x": [
          -1.316509150580487,
          0.6567439213089783,
          -1.2117246351490527,
          -0.7795197648889394,
          -1.3086898864866376,
          1.1530168155654092,
          0.13998590336540567,
          -0.11056327817001697,
          1.7537011117105172,
          0.8810323955893713,
          0.10541010497618351,
          1.011575063785946,
          2.1228749009656473,
          -0.3075112722036564,
          1.038681885646689,
          -0.6319853146199059,
          2.2189715728894632,
          -1.4770145042427665,
          -0.153470368878263,
          -0.18727900695016553,
          1.9078574381220432,
          1.0499974193565844,
          0.46542902797864877,
          -0.6260746672943875,
          -0.03689923737424436,
          -1.0944391791639074,
          1.2481303879716057,
          0.09959660652843288,
          0.057031069351861356,
          -1.4176608242708042,
          0.27913325253238075,
          0.8782737897274759,
          -3.3361675913751814,
          -0.3611118893203861,
          0.9042067738977311,
          1.0392994720741469,
          0.3020476385379728,
          -1.10241740023384,
          0.6679332094321817,
          0.2603822989676794,
          0.45894985553075557,
          -0.011014647071094298,
          -1.2018062699942935,
          -1.288958573508946,
          -0.6602935547316192,
          0.559523528635203,
          0.9105335102135964,
          0.9007433046119707,
          -0.8788546818988332,
          1.2187402667118685,
          -0.3162671648927026,
          0.9555369947525019,
          0.8331485196348947,
          0.5643353781041094,
          0.9456632663673213,
          -0.16924653010990728,
          -2.8385553526488563,
          0.4385338754031157,
          2.050375616692176,
          -0.5957780568198906,
          -0.6391337028422326,
          0.04999693554916875,
          -0.9905604339917498,
          0.7126128257249994,
          1.623879844150366,
          0.7439398470037102,
          -1.4338603239722083,
          0.4223377380195463,
          0.7047789877639619,
          1.2997906440556526,
          1.1377795006181677,
          -0.37982037981568656,
          -0.8183289865038762,
          2.1150365234629778,
          -1.6315774177580455,
          1.557670994327429,
          0.27435834635581113,
          -0.2020660134299496,
          0.6622294003232192,
          -0.7507187976400996,
          1.6841078411643216,
          0.15725059523555834,
          0.20403175525934233,
          -0.10228075446346539,
          -0.45075758084417217,
          0.23398092630605663,
          0.7020994443457834,
          -1.372013643107886,
          -0.830234550415995,
          1.0471754048685615,
          0.2791516597674779,
          0.8073438839758672,
          -1.1840786596386352,
          -1.2438633167946165,
          0.6711553346045185,
          -1.05947273041682,
          -0.21268450772722713,
          -0.7716616231268543,
          -0.6618813607239717,
          -0.7691251660875101
         ],
         "y": [
          0.5322209261277865,
          -0.3400805111723466,
          1.1360868917232188,
          -0.382712079815374,
          -0.0882949780014785,
          -0.0035050460034809156,
          1.2200036262631462,
          0.20708725596394534,
          0.24518777378961107,
          -0.9614960463159214,
          -0.18007055388579998,
          1.693862038729409,
          0.6880732306303996,
          -1.2237783345460118,
          1.5778919118755526,
          -0.9399074605700591,
          0.6502179718500561,
          0.13984189631979266,
          0.3902474711235353,
          0.79574378145543,
          -0.3187089447730361,
          1.7756327287360203,
          0.11176970117547803,
          1.1026687785809492,
          1.2655186137877001,
          2.631604659518769,
          0.38632232634692665,
          0.3918662734991667,
          -0.10269538819221184,
          2.1050347354372656,
          -0.14728435081334065,
          1.5928813916980802,
          -0.5640139867574012,
          -0.7625416520561131,
          0.6299238973321293,
          1.5259003230423187,
          0.4556062123964385,
          -0.2699051707997322,
          1.023416758001027,
          0.8544257864781147,
          -0.2113121282276364,
          -0.9889838291299777,
          0.6101685589425011,
          0.01886452624200072,
          -0.9135960987704975,
          -0.01725436138227997,
          -0.7802532086851106,
          -0.37672890325294733,
          -2.152350636544527,
          -1.1683993670480606,
          1.263532324992662,
          0.312038748908657,
          0.7780507500386404,
          0.041471470158138804,
          -0.6020767411671846,
          0.6249868830012129,
          0.5405277670128545,
          -1.1176579751594906,
          -1.433072594514869,
          1.8835573786822821,
          1.2676267128436596,
          0.18179383715069097,
          -0.6708996716626628,
          -0.8696775484368037,
          0.1348973926892778,
          0.12074046939337874,
          -0.4243922156902889,
          0.346367856345538,
          1.0526808565699703,
          -0.9373139607993218,
          -0.4420468917330237,
          0.585751073752487,
          -0.22025857587135528,
          0.48580639571538037,
          1.1910452374445943,
          -0.8409995659483239,
          1.2713211278296752,
          0.6122183465394152,
          -0.3626153112574866,
          -0.9046816910222284,
          1.492899576359809,
          -0.19437622093277626,
          -0.17496285589028385,
          1.1661687648674532,
          -0.702440894291958,
          -0.9991504450455196,
          1.015268304294555,
          -0.41527919626977905,
          1.286684649424407,
          1.0739953772854123,
          -0.5703063513870817,
          1.039240915811815,
          0.8877143919613583,
          0.864296717575613,
          -0.26344490511936275,
          0.2117153057332679,
          -1.5890334789342004,
          1.1071474916095139,
          0.04231235469678529,
          -0.5264821907576022
         ]
        }
       ],
       "layout": {
        "legend": {
         "bgcolor": "#F5F6F9",
         "font": {
          "color": "#4D5663"
         }
        },
        "paper_bgcolor": "#F5F6F9",
        "plot_bgcolor": "#F5F6F9",
        "template": {
         "data": {
          "bar": [
           {
            "error_x": {
             "color": "#2a3f5f"
            },
            "error_y": {
             "color": "#2a3f5f"
            },
            "marker": {
             "line": {
              "color": "#E5ECF6",
              "width": 0.5
             }
            },
            "type": "bar"
           }
          ],
          "barpolar": [
           {
            "marker": {
             "line": {
              "color": "#E5ECF6",
              "width": 0.5
             }
            },
            "type": "barpolar"
           }
          ],
          "carpet": [
           {
            "aaxis": {
             "endlinecolor": "#2a3f5f",
             "gridcolor": "white",
             "linecolor": "white",
             "minorgridcolor": "white",
             "startlinecolor": "#2a3f5f"
            },
            "baxis": {
             "endlinecolor": "#2a3f5f",
             "gridcolor": "white",
             "linecolor": "white",
             "minorgridcolor": "white",
             "startlinecolor": "#2a3f5f"
            },
            "type": "carpet"
           }
          ],
          "choropleth": [
           {
            "colorbar": {
             "outlinewidth": 0,
             "ticks": ""
            },
            "type": "choropleth"
           }
          ],
          "contour": [
           {
            "colorbar": {
             "outlinewidth": 0,
             "ticks": ""
            },
            "colorscale": [
             [
              0,
              "#0d0887"
             ],
             [
              0.1111111111111111,
              "#46039f"
             ],
             [
              0.2222222222222222,
              "#7201a8"
             ],
             [
              0.3333333333333333,
              "#9c179e"
             ],
             [
              0.4444444444444444,
              "#bd3786"
             ],
             [
              0.5555555555555556,
              "#d8576b"
             ],
             [
              0.6666666666666666,
              "#ed7953"
             ],
             [
              0.7777777777777778,
              "#fb9f3a"
             ],
             [
              0.8888888888888888,
              "#fdca26"
             ],
             [
              1,
              "#f0f921"
             ]
            ],
            "type": "contour"
           }
          ],
          "contourcarpet": [
           {
            "colorbar": {
             "outlinewidth": 0,
             "ticks": ""
            },
            "type": "contourcarpet"
           }
          ],
          "heatmap": [
           {
            "colorbar": {
             "outlinewidth": 0,
             "ticks": ""
            },
            "colorscale": [
             [
              0,
              "#0d0887"
             ],
             [
              0.1111111111111111,
              "#46039f"
             ],
             [
              0.2222222222222222,
              "#7201a8"
             ],
             [
              0.3333333333333333,
              "#9c179e"
             ],
             [
              0.4444444444444444,
              "#bd3786"
             ],
             [
              0.5555555555555556,
              "#d8576b"
             ],
             [
              0.6666666666666666,
              "#ed7953"
             ],
             [
              0.7777777777777778,
              "#fb9f3a"
             ],
             [
              0.8888888888888888,
              "#fdca26"
             ],
             [
              1,
              "#f0f921"
             ]
            ],
            "type": "heatmap"
           }
          ],
          "heatmapgl": [
           {
            "colorbar": {
             "outlinewidth": 0,
             "ticks": ""
            },
            "colorscale": [
             [
              0,
              "#0d0887"
             ],
             [
              0.1111111111111111,
              "#46039f"
             ],
             [
              0.2222222222222222,
              "#7201a8"
             ],
             [
              0.3333333333333333,
              "#9c179e"
             ],
             [
              0.4444444444444444,
              "#bd3786"
             ],
             [
              0.5555555555555556,
              "#d8576b"
             ],
             [
              0.6666666666666666,
              "#ed7953"
             ],
             [
              0.7777777777777778,
              "#fb9f3a"
             ],
             [
              0.8888888888888888,
              "#fdca26"
             ],
             [
              1,
              "#f0f921"
             ]
            ],
            "type": "heatmapgl"
           }
          ],
          "histogram": [
           {
            "marker": {
             "colorbar": {
              "outlinewidth": 0,
              "ticks": ""
             }
            },
            "type": "histogram"
           }
          ],
          "histogram2d": [
           {
            "colorbar": {
             "outlinewidth": 0,
             "ticks": ""
            },
            "colorscale": [
             [
              0,
              "#0d0887"
             ],
             [
              0.1111111111111111,
              "#46039f"
             ],
             [
              0.2222222222222222,
              "#7201a8"
             ],
             [
              0.3333333333333333,
              "#9c179e"
             ],
             [
              0.4444444444444444,
              "#bd3786"
             ],
             [
              0.5555555555555556,
              "#d8576b"
             ],
             [
              0.6666666666666666,
              "#ed7953"
             ],
             [
              0.7777777777777778,
              "#fb9f3a"
             ],
             [
              0.8888888888888888,
              "#fdca26"
             ],
             [
              1,
              "#f0f921"
             ]
            ],
            "type": "histogram2d"
           }
          ],
          "histogram2dcontour": [
           {
            "colorbar": {
             "outlinewidth": 0,
             "ticks": ""
            },
            "colorscale": [
             [
              0,
              "#0d0887"
             ],
             [
              0.1111111111111111,
              "#46039f"
             ],
             [
              0.2222222222222222,
              "#7201a8"
             ],
             [
              0.3333333333333333,
              "#9c179e"
             ],
             [
              0.4444444444444444,
              "#bd3786"
             ],
             [
              0.5555555555555556,
              "#d8576b"
             ],
             [
              0.6666666666666666,
              "#ed7953"
             ],
             [
              0.7777777777777778,
              "#fb9f3a"
             ],
             [
              0.8888888888888888,
              "#fdca26"
             ],
             [
              1,
              "#f0f921"
             ]
            ],
            "type": "histogram2dcontour"
           }
          ],
          "mesh3d": [
           {
            "colorbar": {
             "outlinewidth": 0,
             "ticks": ""
            },
            "type": "mesh3d"
           }
          ],
          "parcoords": [
           {
            "line": {
             "colorbar": {
              "outlinewidth": 0,
              "ticks": ""
             }
            },
            "type": "parcoords"
           }
          ],
          "pie": [
           {
            "automargin": true,
            "type": "pie"
           }
          ],
          "scatter": [
           {
            "marker": {
             "colorbar": {
              "outlinewidth": 0,
              "ticks": ""
             }
            },
            "type": "scatter"
           }
          ],
          "scatter3d": [
           {
            "line": {
             "colorbar": {
              "outlinewidth": 0,
              "ticks": ""
             }
            },
            "marker": {
             "colorbar": {
              "outlinewidth": 0,
              "ticks": ""
             }
            },
            "type": "scatter3d"
           }
          ],
          "scattercarpet": [
           {
            "marker": {
             "colorbar": {
              "outlinewidth": 0,
              "ticks": ""
             }
            },
            "type": "scattercarpet"
           }
          ],
          "scattergeo": [
           {
            "marker": {
             "colorbar": {
              "outlinewidth": 0,
              "ticks": ""
             }
            },
            "type": "scattergeo"
           }
          ],
          "scattergl": [
           {
            "marker": {
             "colorbar": {
              "outlinewidth": 0,
              "ticks": ""
             }
            },
            "type": "scattergl"
           }
          ],
          "scattermapbox": [
           {
            "marker": {
             "colorbar": {
              "outlinewidth": 0,
              "ticks": ""
             }
            },
            "type": "scattermapbox"
           }
          ],
          "scatterpolar": [
           {
            "marker": {
             "colorbar": {
              "outlinewidth": 0,
              "ticks": ""
             }
            },
            "type": "scatterpolar"
           }
          ],
          "scatterpolargl": [
           {
            "marker": {
             "colorbar": {
              "outlinewidth": 0,
              "ticks": ""
             }
            },
            "type": "scatterpolargl"
           }
          ],
          "scatterternary": [
           {
            "marker": {
             "colorbar": {
              "outlinewidth": 0,
              "ticks": ""
             }
            },
            "type": "scatterternary"
           }
          ],
          "surface": [
           {
            "colorbar": {
             "outlinewidth": 0,
             "ticks": ""
            },
            "colorscale": [
             [
              0,
              "#0d0887"
             ],
             [
              0.1111111111111111,
              "#46039f"
             ],
             [
              0.2222222222222222,
              "#7201a8"
             ],
             [
              0.3333333333333333,
              "#9c179e"
             ],
             [
              0.4444444444444444,
              "#bd3786"
             ],
             [
              0.5555555555555556,
              "#d8576b"
             ],
             [
              0.6666666666666666,
              "#ed7953"
             ],
             [
              0.7777777777777778,
              "#fb9f3a"
             ],
             [
              0.8888888888888888,
              "#fdca26"
             ],
             [
              1,
              "#f0f921"
             ]
            ],
            "type": "surface"
           }
          ],
          "table": [
           {
            "cells": {
             "fill": {
              "color": "#EBF0F8"
             },
             "line": {
              "color": "white"
             }
            },
            "header": {
             "fill": {
              "color": "#C8D4E3"
             },
             "line": {
              "color": "white"
             }
            },
            "type": "table"
           }
          ]
         },
         "layout": {
          "annotationdefaults": {
           "arrowcolor": "#2a3f5f",
           "arrowhead": 0,
           "arrowwidth": 1
          },
          "coloraxis": {
           "colorbar": {
            "outlinewidth": 0,
            "ticks": ""
           }
          },
          "colorscale": {
           "diverging": [
            [
             0,
             "#8e0152"
            ],
            [
             0.1,
             "#c51b7d"
            ],
            [
             0.2,
             "#de77ae"
            ],
            [
             0.3,
             "#f1b6da"
            ],
            [
             0.4,
             "#fde0ef"
            ],
            [
             0.5,
             "#f7f7f7"
            ],
            [
             0.6,
             "#e6f5d0"
            ],
            [
             0.7,
             "#b8e186"
            ],
            [
             0.8,
             "#7fbc41"
            ],
            [
             0.9,
             "#4d9221"
            ],
            [
             1,
             "#276419"
            ]
           ],
           "sequential": [
            [
             0,
             "#0d0887"
            ],
            [
             0.1111111111111111,
             "#46039f"
            ],
            [
             0.2222222222222222,
             "#7201a8"
            ],
            [
             0.3333333333333333,
             "#9c179e"
            ],
            [
             0.4444444444444444,
             "#bd3786"
            ],
            [
             0.5555555555555556,
             "#d8576b"
            ],
            [
             0.6666666666666666,
             "#ed7953"
            ],
            [
             0.7777777777777778,
             "#fb9f3a"
            ],
            [
             0.8888888888888888,
             "#fdca26"
            ],
            [
             1,
             "#f0f921"
            ]
           ],
           "sequentialminus": [
            [
             0,
             "#0d0887"
            ],
            [
             0.1111111111111111,
             "#46039f"
            ],
            [
             0.2222222222222222,
             "#7201a8"
            ],
            [
             0.3333333333333333,
             "#9c179e"
            ],
            [
             0.4444444444444444,
             "#bd3786"
            ],
            [
             0.5555555555555556,
             "#d8576b"
            ],
            [
             0.6666666666666666,
             "#ed7953"
            ],
            [
             0.7777777777777778,
             "#fb9f3a"
            ],
            [
             0.8888888888888888,
             "#fdca26"
            ],
            [
             1,
             "#f0f921"
            ]
           ]
          },
          "colorway": [
           "#636efa",
           "#EF553B",
           "#00cc96",
           "#ab63fa",
           "#FFA15A",
           "#19d3f3",
           "#FF6692",
           "#B6E880",
           "#FF97FF",
           "#FECB52"
          ],
          "font": {
           "color": "#2a3f5f"
          },
          "geo": {
           "bgcolor": "white",
           "lakecolor": "white",
           "landcolor": "#E5ECF6",
           "showlakes": true,
           "showland": true,
           "subunitcolor": "white"
          },
          "hoverlabel": {
           "align": "left"
          },
          "hovermode": "closest",
          "mapbox": {
           "style": "light"
          },
          "paper_bgcolor": "white",
          "plot_bgcolor": "#E5ECF6",
          "polar": {
           "angularaxis": {
            "gridcolor": "white",
            "linecolor": "white",
            "ticks": ""
           },
           "bgcolor": "#E5ECF6",
           "radialaxis": {
            "gridcolor": "white",
            "linecolor": "white",
            "ticks": ""
           }
          },
          "scene": {
           "xaxis": {
            "backgroundcolor": "#E5ECF6",
            "gridcolor": "white",
            "gridwidth": 2,
            "linecolor": "white",
            "showbackground": true,
            "ticks": "",
            "zerolinecolor": "white"
           },
           "yaxis": {
            "backgroundcolor": "#E5ECF6",
            "gridcolor": "white",
            "gridwidth": 2,
            "linecolor": "white",
            "showbackground": true,
            "ticks": "",
            "zerolinecolor": "white"
           },
           "zaxis": {
            "backgroundcolor": "#E5ECF6",
            "gridcolor": "white",
            "gridwidth": 2,
            "linecolor": "white",
            "showbackground": true,
            "ticks": "",
            "zerolinecolor": "white"
           }
          },
          "shapedefaults": {
           "line": {
            "color": "#2a3f5f"
           }
          },
          "ternary": {
           "aaxis": {
            "gridcolor": "white",
            "linecolor": "white",
            "ticks": ""
           },
           "baxis": {
            "gridcolor": "white",
            "linecolor": "white",
            "ticks": ""
           },
           "bgcolor": "#E5ECF6",
           "caxis": {
            "gridcolor": "white",
            "linecolor": "white",
            "ticks": ""
           }
          },
          "title": {
           "x": 0.05
          },
          "xaxis": {
           "automargin": true,
           "gridcolor": "white",
           "linecolor": "white",
           "ticks": "",
           "title": {
            "standoff": 15
           },
           "zerolinecolor": "white",
           "zerolinewidth": 2
          },
          "yaxis": {
           "automargin": true,
           "gridcolor": "white",
           "linecolor": "white",
           "ticks": "",
           "title": {
            "standoff": 15
           },
           "zerolinecolor": "white",
           "zerolinewidth": 2
          }
         }
        },
        "title": {
         "font": {
          "color": "#4D5663"
         }
        },
        "xaxis": {
         "gridcolor": "#E1E5ED",
         "showgrid": true,
         "tickfont": {
          "color": "#4D5663"
         },
         "title": {
          "font": {
           "color": "#4D5663"
          },
          "text": ""
         },
         "zerolinecolor": "#E1E5ED"
        },
        "yaxis": {
         "gridcolor": "#E1E5ED",
         "showgrid": true,
         "tickfont": {
          "color": "#4D5663"
         },
         "title": {
          "font": {
           "color": "#4D5663"
          },
          "text": ""
         },
         "zerolinecolor": "#E1E5ED"
        }
       }
      },
      "text/html": [
       "<div>\n",
       "        \n",
       "        \n",
       "            <div id=\"b23d5b3b-4aa9-48d8-b574-c0cb4d237f64\" class=\"plotly-graph-div\" style=\"height:525px; width:100%;\"></div>\n",
       "            <script type=\"text/javascript\">\n",
       "                require([\"plotly\"], function(Plotly) {\n",
       "                    window.PLOTLYENV=window.PLOTLYENV || {};\n",
       "                    window.PLOTLYENV.BASE_URL='https://plot.ly';\n",
       "                    \n",
       "                if (document.getElementById(\"b23d5b3b-4aa9-48d8-b574-c0cb4d237f64\")) {\n",
       "                    Plotly.newPlot(\n",
       "                        'b23d5b3b-4aa9-48d8-b574-c0cb4d237f64',\n",
       "                        [{\"line\": {\"color\": \"rgba(255, 153, 51, 1.0)\", \"dash\": \"solid\", \"shape\": \"linear\", \"width\": 1.3}, \"marker\": {\"size\": 10, \"symbol\": \"circle\"}, \"mode\": \"markers\", \"name\": \"B\", \"text\": \"\", \"type\": \"scatter\", \"x\": [-1.316509150580487, 0.6567439213089783, -1.2117246351490527, -0.7795197648889394, -1.3086898864866376, 1.1530168155654092, 0.13998590336540567, -0.11056327817001697, 1.7537011117105172, 0.8810323955893713, 0.10541010497618351, 1.011575063785946, 2.1228749009656473, -0.3075112722036564, 1.038681885646689, -0.6319853146199059, 2.2189715728894632, -1.4770145042427665, -0.153470368878263, -0.18727900695016553, 1.9078574381220432, 1.0499974193565844, 0.46542902797864877, -0.6260746672943875, -0.03689923737424436, -1.0944391791639074, 1.2481303879716057, 0.09959660652843288, 0.057031069351861356, -1.4176608242708042, 0.27913325253238075, 0.8782737897274759, -3.3361675913751814, -0.3611118893203861, 0.9042067738977311, 1.0392994720741469, 0.3020476385379728, -1.10241740023384, 0.6679332094321817, 0.2603822989676794, 0.45894985553075557, -0.011014647071094298, -1.2018062699942935, -1.288958573508946, -0.6602935547316192, 0.559523528635203, 0.9105335102135964, 0.9007433046119707, -0.8788546818988332, 1.2187402667118685, -0.3162671648927026, 0.9555369947525019, 0.8331485196348947, 0.5643353781041094, 0.9456632663673213, -0.16924653010990728, -2.8385553526488563, 0.4385338754031157, 2.050375616692176, -0.5957780568198906, -0.6391337028422326, 0.04999693554916875, -0.9905604339917498, 0.7126128257249994, 1.623879844150366, 0.7439398470037102, -1.4338603239722083, 0.4223377380195463, 0.7047789877639619, 1.2997906440556526, 1.1377795006181677, -0.37982037981568656, -0.8183289865038762, 2.1150365234629778, -1.6315774177580455, 1.557670994327429, 0.27435834635581113, -0.2020660134299496, 0.6622294003232192, -0.7507187976400996, 1.6841078411643216, 0.15725059523555834, 0.20403175525934233, -0.10228075446346539, -0.45075758084417217, 0.23398092630605663, 0.7020994443457834, -1.372013643107886, -0.830234550415995, 1.0471754048685615, 0.2791516597674779, 0.8073438839758672, -1.1840786596386352, -1.2438633167946165, 0.6711553346045185, -1.05947273041682, -0.21268450772722713, -0.7716616231268543, -0.6618813607239717, -0.7691251660875101], \"y\": [0.5322209261277865, -0.3400805111723466, 1.1360868917232188, -0.382712079815374, -0.0882949780014785, -0.0035050460034809156, 1.2200036262631462, 0.20708725596394534, 0.24518777378961107, -0.9614960463159214, -0.18007055388579998, 1.693862038729409, 0.6880732306303996, -1.2237783345460118, 1.5778919118755526, -0.9399074605700591, 0.6502179718500561, 0.13984189631979266, 0.3902474711235353, 0.79574378145543, -0.3187089447730361, 1.7756327287360203, 0.11176970117547803, 1.1026687785809492, 1.2655186137877001, 2.631604659518769, 0.38632232634692665, 0.3918662734991667, -0.10269538819221184, 2.1050347354372656, -0.14728435081334065, 1.5928813916980802, -0.5640139867574012, -0.7625416520561131, 0.6299238973321293, 1.5259003230423187, 0.4556062123964385, -0.2699051707997322, 1.023416758001027, 0.8544257864781147, -0.2113121282276364, -0.9889838291299777, 0.6101685589425011, 0.01886452624200072, -0.9135960987704975, -0.01725436138227997, -0.7802532086851106, -0.37672890325294733, -2.152350636544527, -1.1683993670480606, 1.263532324992662, 0.312038748908657, 0.7780507500386404, 0.041471470158138804, -0.6020767411671846, 0.6249868830012129, 0.5405277670128545, -1.1176579751594906, -1.433072594514869, 1.8835573786822821, 1.2676267128436596, 0.18179383715069097, -0.6708996716626628, -0.8696775484368037, 0.1348973926892778, 0.12074046939337874, -0.4243922156902889, 0.346367856345538, 1.0526808565699703, -0.9373139607993218, -0.4420468917330237, 0.585751073752487, -0.22025857587135528, 0.48580639571538037, 1.1910452374445943, -0.8409995659483239, 1.2713211278296752, 0.6122183465394152, -0.3626153112574866, -0.9046816910222284, 1.492899576359809, -0.19437622093277626, -0.17496285589028385, 1.1661687648674532, -0.702440894291958, -0.9991504450455196, 1.015268304294555, -0.41527919626977905, 1.286684649424407, 1.0739953772854123, -0.5703063513870817, 1.039240915811815, 0.8877143919613583, 0.864296717575613, -0.26344490511936275, 0.2117153057332679, -1.5890334789342004, 1.1071474916095139, 0.04231235469678529, -0.5264821907576022]}],\n",
       "                        {\"legend\": {\"bgcolor\": \"#F5F6F9\", \"font\": {\"color\": \"#4D5663\"}}, \"paper_bgcolor\": \"#F5F6F9\", \"plot_bgcolor\": \"#F5F6F9\", \"template\": {\"data\": {\"bar\": [{\"error_x\": {\"color\": \"#2a3f5f\"}, \"error_y\": {\"color\": \"#2a3f5f\"}, \"marker\": {\"line\": {\"color\": \"#E5ECF6\", \"width\": 0.5}}, \"type\": \"bar\"}], \"barpolar\": [{\"marker\": {\"line\": {\"color\": \"#E5ECF6\", \"width\": 0.5}}, \"type\": \"barpolar\"}], \"carpet\": [{\"aaxis\": {\"endlinecolor\": \"#2a3f5f\", \"gridcolor\": \"white\", \"linecolor\": \"white\", \"minorgridcolor\": \"white\", \"startlinecolor\": \"#2a3f5f\"}, \"baxis\": {\"endlinecolor\": \"#2a3f5f\", \"gridcolor\": \"white\", \"linecolor\": \"white\", \"minorgridcolor\": \"white\", \"startlinecolor\": \"#2a3f5f\"}, \"type\": \"carpet\"}], \"choropleth\": [{\"colorbar\": {\"outlinewidth\": 0, \"ticks\": \"\"}, \"type\": \"choropleth\"}], \"contour\": [{\"colorbar\": {\"outlinewidth\": 0, \"ticks\": \"\"}, \"colorscale\": [[0.0, \"#0d0887\"], [0.1111111111111111, \"#46039f\"], [0.2222222222222222, \"#7201a8\"], [0.3333333333333333, \"#9c179e\"], [0.4444444444444444, \"#bd3786\"], [0.5555555555555556, \"#d8576b\"], [0.6666666666666666, \"#ed7953\"], [0.7777777777777778, \"#fb9f3a\"], [0.8888888888888888, \"#fdca26\"], [1.0, \"#f0f921\"]], \"type\": \"contour\"}], \"contourcarpet\": [{\"colorbar\": {\"outlinewidth\": 0, \"ticks\": \"\"}, \"type\": \"contourcarpet\"}], \"heatmap\": [{\"colorbar\": {\"outlinewidth\": 0, \"ticks\": \"\"}, \"colorscale\": [[0.0, \"#0d0887\"], [0.1111111111111111, \"#46039f\"], [0.2222222222222222, \"#7201a8\"], [0.3333333333333333, \"#9c179e\"], [0.4444444444444444, \"#bd3786\"], [0.5555555555555556, \"#d8576b\"], [0.6666666666666666, \"#ed7953\"], [0.7777777777777778, \"#fb9f3a\"], [0.8888888888888888, \"#fdca26\"], [1.0, \"#f0f921\"]], \"type\": \"heatmap\"}], \"heatmapgl\": [{\"colorbar\": {\"outlinewidth\": 0, \"ticks\": \"\"}, \"colorscale\": [[0.0, \"#0d0887\"], [0.1111111111111111, \"#46039f\"], [0.2222222222222222, \"#7201a8\"], [0.3333333333333333, \"#9c179e\"], [0.4444444444444444, \"#bd3786\"], [0.5555555555555556, \"#d8576b\"], [0.6666666666666666, \"#ed7953\"], [0.7777777777777778, \"#fb9f3a\"], [0.8888888888888888, \"#fdca26\"], [1.0, \"#f0f921\"]], \"type\": \"heatmapgl\"}], \"histogram\": [{\"marker\": {\"colorbar\": {\"outlinewidth\": 0, \"ticks\": \"\"}}, \"type\": \"histogram\"}], \"histogram2d\": [{\"colorbar\": {\"outlinewidth\": 0, \"ticks\": \"\"}, \"colorscale\": [[0.0, \"#0d0887\"], [0.1111111111111111, \"#46039f\"], [0.2222222222222222, \"#7201a8\"], [0.3333333333333333, \"#9c179e\"], [0.4444444444444444, \"#bd3786\"], [0.5555555555555556, \"#d8576b\"], [0.6666666666666666, \"#ed7953\"], [0.7777777777777778, \"#fb9f3a\"], [0.8888888888888888, \"#fdca26\"], [1.0, \"#f0f921\"]], \"type\": \"histogram2d\"}], \"histogram2dcontour\": [{\"colorbar\": {\"outlinewidth\": 0, \"ticks\": \"\"}, \"colorscale\": [[0.0, \"#0d0887\"], [0.1111111111111111, \"#46039f\"], [0.2222222222222222, \"#7201a8\"], [0.3333333333333333, \"#9c179e\"], [0.4444444444444444, \"#bd3786\"], [0.5555555555555556, \"#d8576b\"], [0.6666666666666666, \"#ed7953\"], [0.7777777777777778, \"#fb9f3a\"], [0.8888888888888888, \"#fdca26\"], [1.0, \"#f0f921\"]], \"type\": \"histogram2dcontour\"}], \"mesh3d\": [{\"colorbar\": {\"outlinewidth\": 0, \"ticks\": \"\"}, \"type\": \"mesh3d\"}], \"parcoords\": [{\"line\": {\"colorbar\": {\"outlinewidth\": 0, \"ticks\": \"\"}}, \"type\": \"parcoords\"}], \"pie\": [{\"automargin\": true, \"type\": \"pie\"}], \"scatter\": [{\"marker\": {\"colorbar\": {\"outlinewidth\": 0, \"ticks\": \"\"}}, \"type\": \"scatter\"}], \"scatter3d\": [{\"line\": {\"colorbar\": {\"outlinewidth\": 0, \"ticks\": \"\"}}, \"marker\": {\"colorbar\": {\"outlinewidth\": 0, \"ticks\": \"\"}}, \"type\": \"scatter3d\"}], \"scattercarpet\": [{\"marker\": {\"colorbar\": {\"outlinewidth\": 0, \"ticks\": \"\"}}, \"type\": \"scattercarpet\"}], \"scattergeo\": [{\"marker\": {\"colorbar\": {\"outlinewidth\": 0, \"ticks\": \"\"}}, \"type\": \"scattergeo\"}], \"scattergl\": [{\"marker\": {\"colorbar\": {\"outlinewidth\": 0, \"ticks\": \"\"}}, \"type\": \"scattergl\"}], \"scattermapbox\": [{\"marker\": {\"colorbar\": {\"outlinewidth\": 0, \"ticks\": \"\"}}, \"type\": \"scattermapbox\"}], \"scatterpolar\": [{\"marker\": {\"colorbar\": {\"outlinewidth\": 0, \"ticks\": \"\"}}, \"type\": \"scatterpolar\"}], \"scatterpolargl\": [{\"marker\": {\"colorbar\": {\"outlinewidth\": 0, \"ticks\": \"\"}}, \"type\": \"scatterpolargl\"}], \"scatterternary\": [{\"marker\": {\"colorbar\": {\"outlinewidth\": 0, \"ticks\": \"\"}}, \"type\": \"scatterternary\"}], \"surface\": [{\"colorbar\": {\"outlinewidth\": 0, \"ticks\": \"\"}, \"colorscale\": [[0.0, \"#0d0887\"], [0.1111111111111111, \"#46039f\"], [0.2222222222222222, \"#7201a8\"], [0.3333333333333333, \"#9c179e\"], [0.4444444444444444, \"#bd3786\"], [0.5555555555555556, \"#d8576b\"], [0.6666666666666666, \"#ed7953\"], [0.7777777777777778, \"#fb9f3a\"], [0.8888888888888888, \"#fdca26\"], [1.0, \"#f0f921\"]], \"type\": \"surface\"}], \"table\": [{\"cells\": {\"fill\": {\"color\": \"#EBF0F8\"}, \"line\": {\"color\": \"white\"}}, \"header\": {\"fill\": {\"color\": \"#C8D4E3\"}, \"line\": {\"color\": \"white\"}}, \"type\": \"table\"}]}, \"layout\": {\"annotationdefaults\": {\"arrowcolor\": \"#2a3f5f\", \"arrowhead\": 0, \"arrowwidth\": 1}, \"coloraxis\": {\"colorbar\": {\"outlinewidth\": 0, \"ticks\": \"\"}}, \"colorscale\": {\"diverging\": [[0, \"#8e0152\"], [0.1, \"#c51b7d\"], [0.2, \"#de77ae\"], [0.3, \"#f1b6da\"], [0.4, \"#fde0ef\"], [0.5, \"#f7f7f7\"], [0.6, \"#e6f5d0\"], [0.7, \"#b8e186\"], [0.8, \"#7fbc41\"], [0.9, \"#4d9221\"], [1, \"#276419\"]], \"sequential\": [[0.0, \"#0d0887\"], [0.1111111111111111, \"#46039f\"], [0.2222222222222222, \"#7201a8\"], [0.3333333333333333, \"#9c179e\"], [0.4444444444444444, \"#bd3786\"], [0.5555555555555556, \"#d8576b\"], [0.6666666666666666, \"#ed7953\"], [0.7777777777777778, \"#fb9f3a\"], [0.8888888888888888, \"#fdca26\"], [1.0, \"#f0f921\"]], \"sequentialminus\": [[0.0, \"#0d0887\"], [0.1111111111111111, \"#46039f\"], [0.2222222222222222, \"#7201a8\"], [0.3333333333333333, \"#9c179e\"], [0.4444444444444444, \"#bd3786\"], [0.5555555555555556, \"#d8576b\"], [0.6666666666666666, \"#ed7953\"], [0.7777777777777778, \"#fb9f3a\"], [0.8888888888888888, \"#fdca26\"], [1.0, \"#f0f921\"]]}, \"colorway\": [\"#636efa\", \"#EF553B\", \"#00cc96\", \"#ab63fa\", \"#FFA15A\", \"#19d3f3\", \"#FF6692\", \"#B6E880\", \"#FF97FF\", \"#FECB52\"], \"font\": {\"color\": \"#2a3f5f\"}, \"geo\": {\"bgcolor\": \"white\", \"lakecolor\": \"white\", \"landcolor\": \"#E5ECF6\", \"showlakes\": true, \"showland\": true, \"subunitcolor\": \"white\"}, \"hoverlabel\": {\"align\": \"left\"}, \"hovermode\": \"closest\", \"mapbox\": {\"style\": \"light\"}, \"paper_bgcolor\": \"white\", \"plot_bgcolor\": \"#E5ECF6\", \"polar\": {\"angularaxis\": {\"gridcolor\": \"white\", \"linecolor\": \"white\", \"ticks\": \"\"}, \"bgcolor\": \"#E5ECF6\", \"radialaxis\": {\"gridcolor\": \"white\", \"linecolor\": \"white\", \"ticks\": \"\"}}, \"scene\": {\"xaxis\": {\"backgroundcolor\": \"#E5ECF6\", \"gridcolor\": \"white\", \"gridwidth\": 2, \"linecolor\": \"white\", \"showbackground\": true, \"ticks\": \"\", \"zerolinecolor\": \"white\"}, \"yaxis\": {\"backgroundcolor\": \"#E5ECF6\", \"gridcolor\": \"white\", \"gridwidth\": 2, \"linecolor\": \"white\", \"showbackground\": true, \"ticks\": \"\", \"zerolinecolor\": \"white\"}, \"zaxis\": {\"backgroundcolor\": \"#E5ECF6\", \"gridcolor\": \"white\", \"gridwidth\": 2, \"linecolor\": \"white\", \"showbackground\": true, \"ticks\": \"\", \"zerolinecolor\": \"white\"}}, \"shapedefaults\": {\"line\": {\"color\": \"#2a3f5f\"}}, \"ternary\": {\"aaxis\": {\"gridcolor\": \"white\", \"linecolor\": \"white\", \"ticks\": \"\"}, \"baxis\": {\"gridcolor\": \"white\", \"linecolor\": \"white\", \"ticks\": \"\"}, \"bgcolor\": \"#E5ECF6\", \"caxis\": {\"gridcolor\": \"white\", \"linecolor\": \"white\", \"ticks\": \"\"}}, \"title\": {\"x\": 0.05}, \"xaxis\": {\"automargin\": true, \"gridcolor\": \"white\", \"linecolor\": \"white\", \"ticks\": \"\", \"title\": {\"standoff\": 15}, \"zerolinecolor\": \"white\", \"zerolinewidth\": 2}, \"yaxis\": {\"automargin\": true, \"gridcolor\": \"white\", \"linecolor\": \"white\", \"ticks\": \"\", \"title\": {\"standoff\": 15}, \"zerolinecolor\": \"white\", \"zerolinewidth\": 2}}}, \"title\": {\"font\": {\"color\": \"#4D5663\"}}, \"xaxis\": {\"gridcolor\": \"#E1E5ED\", \"showgrid\": true, \"tickfont\": {\"color\": \"#4D5663\"}, \"title\": {\"font\": {\"color\": \"#4D5663\"}, \"text\": \"\"}, \"zerolinecolor\": \"#E1E5ED\"}, \"yaxis\": {\"gridcolor\": \"#E1E5ED\", \"showgrid\": true, \"tickfont\": {\"color\": \"#4D5663\"}, \"title\": {\"font\": {\"color\": \"#4D5663\"}, \"text\": \"\"}, \"zerolinecolor\": \"#E1E5ED\"}},\n",
       "                        {\"showLink\": true, \"linkText\": \"Export to plot.ly\", \"plotlyServerURL\": \"https://plot.ly\", \"responsive\": true}\n",
       "                    ).then(function(){\n",
       "                            \n",
       "var gd = document.getElementById('b23d5b3b-4aa9-48d8-b574-c0cb4d237f64');\n",
       "var x = new MutationObserver(function (mutations, observer) {{\n",
       "        var display = window.getComputedStyle(gd).display;\n",
       "        if (!display || display === 'none') {{\n",
       "            console.log([gd, 'removed!']);\n",
       "            Plotly.purge(gd);\n",
       "            observer.disconnect();\n",
       "        }}\n",
       "}});\n",
       "\n",
       "// Listen for the removal of the full notebook cells\n",
       "var notebookContainer = gd.closest('#notebook-container');\n",
       "if (notebookContainer) {{\n",
       "    x.observe(notebookContainer, {childList: true});\n",
       "}}\n",
       "\n",
       "// Listen for the clearing of the current output cell\n",
       "var outputEl = gd.closest('.output');\n",
       "if (outputEl) {{\n",
       "    x.observe(outputEl, {childList: true});\n",
       "}}\n",
       "\n",
       "                        })\n",
       "                };\n",
       "                });\n",
       "            </script>\n",
       "        </div>"
      ]
     },
     "metadata": {},
     "output_type": "display_data"
    }
   ],
   "source": [
    "df.iplot(kind='scatter',x='A',y='B',mode='markers',size=10)"
   ]
  },
  {
   "cell_type": "markdown",
   "metadata": {},
   "source": [
    "## Bar Plots"
   ]
  },
  {
   "cell_type": "code",
   "execution_count": 12,
   "metadata": {},
   "outputs": [
    {
     "data": {
      "application/vnd.plotly.v1+json": {
       "config": {
        "linkText": "Export to plot.ly",
        "plotlyServerURL": "https://plot.ly",
        "showLink": true
       },
       "data": [
        {
         "marker": {
          "color": "rgba(255, 153, 51, 0.6)",
          "line": {
           "color": "rgba(255, 153, 51, 1.0)",
           "width": 1
          }
         },
         "name": "Values",
         "orientation": "v",
         "text": "",
         "type": "bar",
         "x": [
          "A",
          "B",
          "C"
         ],
         "y": [
          32,
          43,
          50
         ]
        }
       ],
       "layout": {
        "legend": {
         "bgcolor": "#F5F6F9",
         "font": {
          "color": "#4D5663"
         }
        },
        "paper_bgcolor": "#F5F6F9",
        "plot_bgcolor": "#F5F6F9",
        "template": {
         "data": {
          "bar": [
           {
            "error_x": {
             "color": "#2a3f5f"
            },
            "error_y": {
             "color": "#2a3f5f"
            },
            "marker": {
             "line": {
              "color": "#E5ECF6",
              "width": 0.5
             }
            },
            "type": "bar"
           }
          ],
          "barpolar": [
           {
            "marker": {
             "line": {
              "color": "#E5ECF6",
              "width": 0.5
             }
            },
            "type": "barpolar"
           }
          ],
          "carpet": [
           {
            "aaxis": {
             "endlinecolor": "#2a3f5f",
             "gridcolor": "white",
             "linecolor": "white",
             "minorgridcolor": "white",
             "startlinecolor": "#2a3f5f"
            },
            "baxis": {
             "endlinecolor": "#2a3f5f",
             "gridcolor": "white",
             "linecolor": "white",
             "minorgridcolor": "white",
             "startlinecolor": "#2a3f5f"
            },
            "type": "carpet"
           }
          ],
          "choropleth": [
           {
            "colorbar": {
             "outlinewidth": 0,
             "ticks": ""
            },
            "type": "choropleth"
           }
          ],
          "contour": [
           {
            "colorbar": {
             "outlinewidth": 0,
             "ticks": ""
            },
            "colorscale": [
             [
              0,
              "#0d0887"
             ],
             [
              0.1111111111111111,
              "#46039f"
             ],
             [
              0.2222222222222222,
              "#7201a8"
             ],
             [
              0.3333333333333333,
              "#9c179e"
             ],
             [
              0.4444444444444444,
              "#bd3786"
             ],
             [
              0.5555555555555556,
              "#d8576b"
             ],
             [
              0.6666666666666666,
              "#ed7953"
             ],
             [
              0.7777777777777778,
              "#fb9f3a"
             ],
             [
              0.8888888888888888,
              "#fdca26"
             ],
             [
              1,
              "#f0f921"
             ]
            ],
            "type": "contour"
           }
          ],
          "contourcarpet": [
           {
            "colorbar": {
             "outlinewidth": 0,
             "ticks": ""
            },
            "type": "contourcarpet"
           }
          ],
          "heatmap": [
           {
            "colorbar": {
             "outlinewidth": 0,
             "ticks": ""
            },
            "colorscale": [
             [
              0,
              "#0d0887"
             ],
             [
              0.1111111111111111,
              "#46039f"
             ],
             [
              0.2222222222222222,
              "#7201a8"
             ],
             [
              0.3333333333333333,
              "#9c179e"
             ],
             [
              0.4444444444444444,
              "#bd3786"
             ],
             [
              0.5555555555555556,
              "#d8576b"
             ],
             [
              0.6666666666666666,
              "#ed7953"
             ],
             [
              0.7777777777777778,
              "#fb9f3a"
             ],
             [
              0.8888888888888888,
              "#fdca26"
             ],
             [
              1,
              "#f0f921"
             ]
            ],
            "type": "heatmap"
           }
          ],
          "heatmapgl": [
           {
            "colorbar": {
             "outlinewidth": 0,
             "ticks": ""
            },
            "colorscale": [
             [
              0,
              "#0d0887"
             ],
             [
              0.1111111111111111,
              "#46039f"
             ],
             [
              0.2222222222222222,
              "#7201a8"
             ],
             [
              0.3333333333333333,
              "#9c179e"
             ],
             [
              0.4444444444444444,
              "#bd3786"
             ],
             [
              0.5555555555555556,
              "#d8576b"
             ],
             [
              0.6666666666666666,
              "#ed7953"
             ],
             [
              0.7777777777777778,
              "#fb9f3a"
             ],
             [
              0.8888888888888888,
              "#fdca26"
             ],
             [
              1,
              "#f0f921"
             ]
            ],
            "type": "heatmapgl"
           }
          ],
          "histogram": [
           {
            "marker": {
             "colorbar": {
              "outlinewidth": 0,
              "ticks": ""
             }
            },
            "type": "histogram"
           }
          ],
          "histogram2d": [
           {
            "colorbar": {
             "outlinewidth": 0,
             "ticks": ""
            },
            "colorscale": [
             [
              0,
              "#0d0887"
             ],
             [
              0.1111111111111111,
              "#46039f"
             ],
             [
              0.2222222222222222,
              "#7201a8"
             ],
             [
              0.3333333333333333,
              "#9c179e"
             ],
             [
              0.4444444444444444,
              "#bd3786"
             ],
             [
              0.5555555555555556,
              "#d8576b"
             ],
             [
              0.6666666666666666,
              "#ed7953"
             ],
             [
              0.7777777777777778,
              "#fb9f3a"
             ],
             [
              0.8888888888888888,
              "#fdca26"
             ],
             [
              1,
              "#f0f921"
             ]
            ],
            "type": "histogram2d"
           }
          ],
          "histogram2dcontour": [
           {
            "colorbar": {
             "outlinewidth": 0,
             "ticks": ""
            },
            "colorscale": [
             [
              0,
              "#0d0887"
             ],
             [
              0.1111111111111111,
              "#46039f"
             ],
             [
              0.2222222222222222,
              "#7201a8"
             ],
             [
              0.3333333333333333,
              "#9c179e"
             ],
             [
              0.4444444444444444,
              "#bd3786"
             ],
             [
              0.5555555555555556,
              "#d8576b"
             ],
             [
              0.6666666666666666,
              "#ed7953"
             ],
             [
              0.7777777777777778,
              "#fb9f3a"
             ],
             [
              0.8888888888888888,
              "#fdca26"
             ],
             [
              1,
              "#f0f921"
             ]
            ],
            "type": "histogram2dcontour"
           }
          ],
          "mesh3d": [
           {
            "colorbar": {
             "outlinewidth": 0,
             "ticks": ""
            },
            "type": "mesh3d"
           }
          ],
          "parcoords": [
           {
            "line": {
             "colorbar": {
              "outlinewidth": 0,
              "ticks": ""
             }
            },
            "type": "parcoords"
           }
          ],
          "pie": [
           {
            "automargin": true,
            "type": "pie"
           }
          ],
          "scatter": [
           {
            "marker": {
             "colorbar": {
              "outlinewidth": 0,
              "ticks": ""
             }
            },
            "type": "scatter"
           }
          ],
          "scatter3d": [
           {
            "line": {
             "colorbar": {
              "outlinewidth": 0,
              "ticks": ""
             }
            },
            "marker": {
             "colorbar": {
              "outlinewidth": 0,
              "ticks": ""
             }
            },
            "type": "scatter3d"
           }
          ],
          "scattercarpet": [
           {
            "marker": {
             "colorbar": {
              "outlinewidth": 0,
              "ticks": ""
             }
            },
            "type": "scattercarpet"
           }
          ],
          "scattergeo": [
           {
            "marker": {
             "colorbar": {
              "outlinewidth": 0,
              "ticks": ""
             }
            },
            "type": "scattergeo"
           }
          ],
          "scattergl": [
           {
            "marker": {
             "colorbar": {
              "outlinewidth": 0,
              "ticks": ""
             }
            },
            "type": "scattergl"
           }
          ],
          "scattermapbox": [
           {
            "marker": {
             "colorbar": {
              "outlinewidth": 0,
              "ticks": ""
             }
            },
            "type": "scattermapbox"
           }
          ],
          "scatterpolar": [
           {
            "marker": {
             "colorbar": {
              "outlinewidth": 0,
              "ticks": ""
             }
            },
            "type": "scatterpolar"
           }
          ],
          "scatterpolargl": [
           {
            "marker": {
             "colorbar": {
              "outlinewidth": 0,
              "ticks": ""
             }
            },
            "type": "scatterpolargl"
           }
          ],
          "scatterternary": [
           {
            "marker": {
             "colorbar": {
              "outlinewidth": 0,
              "ticks": ""
             }
            },
            "type": "scatterternary"
           }
          ],
          "surface": [
           {
            "colorbar": {
             "outlinewidth": 0,
             "ticks": ""
            },
            "colorscale": [
             [
              0,
              "#0d0887"
             ],
             [
              0.1111111111111111,
              "#46039f"
             ],
             [
              0.2222222222222222,
              "#7201a8"
             ],
             [
              0.3333333333333333,
              "#9c179e"
             ],
             [
              0.4444444444444444,
              "#bd3786"
             ],
             [
              0.5555555555555556,
              "#d8576b"
             ],
             [
              0.6666666666666666,
              "#ed7953"
             ],
             [
              0.7777777777777778,
              "#fb9f3a"
             ],
             [
              0.8888888888888888,
              "#fdca26"
             ],
             [
              1,
              "#f0f921"
             ]
            ],
            "type": "surface"
           }
          ],
          "table": [
           {
            "cells": {
             "fill": {
              "color": "#EBF0F8"
             },
             "line": {
              "color": "white"
             }
            },
            "header": {
             "fill": {
              "color": "#C8D4E3"
             },
             "line": {
              "color": "white"
             }
            },
            "type": "table"
           }
          ]
         },
         "layout": {
          "annotationdefaults": {
           "arrowcolor": "#2a3f5f",
           "arrowhead": 0,
           "arrowwidth": 1
          },
          "coloraxis": {
           "colorbar": {
            "outlinewidth": 0,
            "ticks": ""
           }
          },
          "colorscale": {
           "diverging": [
            [
             0,
             "#8e0152"
            ],
            [
             0.1,
             "#c51b7d"
            ],
            [
             0.2,
             "#de77ae"
            ],
            [
             0.3,
             "#f1b6da"
            ],
            [
             0.4,
             "#fde0ef"
            ],
            [
             0.5,
             "#f7f7f7"
            ],
            [
             0.6,
             "#e6f5d0"
            ],
            [
             0.7,
             "#b8e186"
            ],
            [
             0.8,
             "#7fbc41"
            ],
            [
             0.9,
             "#4d9221"
            ],
            [
             1,
             "#276419"
            ]
           ],
           "sequential": [
            [
             0,
             "#0d0887"
            ],
            [
             0.1111111111111111,
             "#46039f"
            ],
            [
             0.2222222222222222,
             "#7201a8"
            ],
            [
             0.3333333333333333,
             "#9c179e"
            ],
            [
             0.4444444444444444,
             "#bd3786"
            ],
            [
             0.5555555555555556,
             "#d8576b"
            ],
            [
             0.6666666666666666,
             "#ed7953"
            ],
            [
             0.7777777777777778,
             "#fb9f3a"
            ],
            [
             0.8888888888888888,
             "#fdca26"
            ],
            [
             1,
             "#f0f921"
            ]
           ],
           "sequentialminus": [
            [
             0,
             "#0d0887"
            ],
            [
             0.1111111111111111,
             "#46039f"
            ],
            [
             0.2222222222222222,
             "#7201a8"
            ],
            [
             0.3333333333333333,
             "#9c179e"
            ],
            [
             0.4444444444444444,
             "#bd3786"
            ],
            [
             0.5555555555555556,
             "#d8576b"
            ],
            [
             0.6666666666666666,
             "#ed7953"
            ],
            [
             0.7777777777777778,
             "#fb9f3a"
            ],
            [
             0.8888888888888888,
             "#fdca26"
            ],
            [
             1,
             "#f0f921"
            ]
           ]
          },
          "colorway": [
           "#636efa",
           "#EF553B",
           "#00cc96",
           "#ab63fa",
           "#FFA15A",
           "#19d3f3",
           "#FF6692",
           "#B6E880",
           "#FF97FF",
           "#FECB52"
          ],
          "font": {
           "color": "#2a3f5f"
          },
          "geo": {
           "bgcolor": "white",
           "lakecolor": "white",
           "landcolor": "#E5ECF6",
           "showlakes": true,
           "showland": true,
           "subunitcolor": "white"
          },
          "hoverlabel": {
           "align": "left"
          },
          "hovermode": "closest",
          "mapbox": {
           "style": "light"
          },
          "paper_bgcolor": "white",
          "plot_bgcolor": "#E5ECF6",
          "polar": {
           "angularaxis": {
            "gridcolor": "white",
            "linecolor": "white",
            "ticks": ""
           },
           "bgcolor": "#E5ECF6",
           "radialaxis": {
            "gridcolor": "white",
            "linecolor": "white",
            "ticks": ""
           }
          },
          "scene": {
           "xaxis": {
            "backgroundcolor": "#E5ECF6",
            "gridcolor": "white",
            "gridwidth": 2,
            "linecolor": "white",
            "showbackground": true,
            "ticks": "",
            "zerolinecolor": "white"
           },
           "yaxis": {
            "backgroundcolor": "#E5ECF6",
            "gridcolor": "white",
            "gridwidth": 2,
            "linecolor": "white",
            "showbackground": true,
            "ticks": "",
            "zerolinecolor": "white"
           },
           "zaxis": {
            "backgroundcolor": "#E5ECF6",
            "gridcolor": "white",
            "gridwidth": 2,
            "linecolor": "white",
            "showbackground": true,
            "ticks": "",
            "zerolinecolor": "white"
           }
          },
          "shapedefaults": {
           "line": {
            "color": "#2a3f5f"
           }
          },
          "ternary": {
           "aaxis": {
            "gridcolor": "white",
            "linecolor": "white",
            "ticks": ""
           },
           "baxis": {
            "gridcolor": "white",
            "linecolor": "white",
            "ticks": ""
           },
           "bgcolor": "#E5ECF6",
           "caxis": {
            "gridcolor": "white",
            "linecolor": "white",
            "ticks": ""
           }
          },
          "title": {
           "x": 0.05
          },
          "xaxis": {
           "automargin": true,
           "gridcolor": "white",
           "linecolor": "white",
           "ticks": "",
           "title": {
            "standoff": 15
           },
           "zerolinecolor": "white",
           "zerolinewidth": 2
          },
          "yaxis": {
           "automargin": true,
           "gridcolor": "white",
           "linecolor": "white",
           "ticks": "",
           "title": {
            "standoff": 15
           },
           "zerolinecolor": "white",
           "zerolinewidth": 2
          }
         }
        },
        "title": {
         "font": {
          "color": "#4D5663"
         }
        },
        "xaxis": {
         "gridcolor": "#E1E5ED",
         "showgrid": true,
         "tickfont": {
          "color": "#4D5663"
         },
         "title": {
          "font": {
           "color": "#4D5663"
          },
          "text": ""
         },
         "zerolinecolor": "#E1E5ED"
        },
        "yaxis": {
         "gridcolor": "#E1E5ED",
         "showgrid": true,
         "tickfont": {
          "color": "#4D5663"
         },
         "title": {
          "font": {
           "color": "#4D5663"
          },
          "text": ""
         },
         "zerolinecolor": "#E1E5ED"
        }
       }
      },
      "text/html": [
       "<div>\n",
       "        \n",
       "        \n",
       "            <div id=\"32f3a8bf-a62f-4bda-8555-a25e49c3df69\" class=\"plotly-graph-div\" style=\"height:525px; width:100%;\"></div>\n",
       "            <script type=\"text/javascript\">\n",
       "                require([\"plotly\"], function(Plotly) {\n",
       "                    window.PLOTLYENV=window.PLOTLYENV || {};\n",
       "                    window.PLOTLYENV.BASE_URL='https://plot.ly';\n",
       "                    \n",
       "                if (document.getElementById(\"32f3a8bf-a62f-4bda-8555-a25e49c3df69\")) {\n",
       "                    Plotly.newPlot(\n",
       "                        '32f3a8bf-a62f-4bda-8555-a25e49c3df69',\n",
       "                        [{\"marker\": {\"color\": \"rgba(255, 153, 51, 0.6)\", \"line\": {\"color\": \"rgba(255, 153, 51, 1.0)\", \"width\": 1}}, \"name\": \"Values\", \"orientation\": \"v\", \"text\": \"\", \"type\": \"bar\", \"x\": [\"A\", \"B\", \"C\"], \"y\": [32, 43, 50]}],\n",
       "                        {\"legend\": {\"bgcolor\": \"#F5F6F9\", \"font\": {\"color\": \"#4D5663\"}}, \"paper_bgcolor\": \"#F5F6F9\", \"plot_bgcolor\": \"#F5F6F9\", \"template\": {\"data\": {\"bar\": [{\"error_x\": {\"color\": \"#2a3f5f\"}, \"error_y\": {\"color\": \"#2a3f5f\"}, \"marker\": {\"line\": {\"color\": \"#E5ECF6\", \"width\": 0.5}}, \"type\": \"bar\"}], \"barpolar\": [{\"marker\": {\"line\": {\"color\": \"#E5ECF6\", \"width\": 0.5}}, \"type\": \"barpolar\"}], \"carpet\": [{\"aaxis\": {\"endlinecolor\": \"#2a3f5f\", \"gridcolor\": \"white\", \"linecolor\": \"white\", \"minorgridcolor\": \"white\", \"startlinecolor\": \"#2a3f5f\"}, \"baxis\": {\"endlinecolor\": \"#2a3f5f\", \"gridcolor\": \"white\", \"linecolor\": \"white\", \"minorgridcolor\": \"white\", \"startlinecolor\": \"#2a3f5f\"}, \"type\": \"carpet\"}], \"choropleth\": [{\"colorbar\": {\"outlinewidth\": 0, \"ticks\": \"\"}, \"type\": \"choropleth\"}], \"contour\": [{\"colorbar\": {\"outlinewidth\": 0, \"ticks\": \"\"}, \"colorscale\": [[0.0, \"#0d0887\"], [0.1111111111111111, \"#46039f\"], [0.2222222222222222, \"#7201a8\"], [0.3333333333333333, \"#9c179e\"], [0.4444444444444444, \"#bd3786\"], [0.5555555555555556, \"#d8576b\"], [0.6666666666666666, \"#ed7953\"], [0.7777777777777778, \"#fb9f3a\"], [0.8888888888888888, \"#fdca26\"], [1.0, \"#f0f921\"]], \"type\": \"contour\"}], \"contourcarpet\": [{\"colorbar\": {\"outlinewidth\": 0, \"ticks\": \"\"}, \"type\": \"contourcarpet\"}], \"heatmap\": [{\"colorbar\": {\"outlinewidth\": 0, \"ticks\": \"\"}, \"colorscale\": [[0.0, \"#0d0887\"], [0.1111111111111111, \"#46039f\"], [0.2222222222222222, \"#7201a8\"], [0.3333333333333333, \"#9c179e\"], [0.4444444444444444, \"#bd3786\"], [0.5555555555555556, \"#d8576b\"], [0.6666666666666666, \"#ed7953\"], [0.7777777777777778, \"#fb9f3a\"], [0.8888888888888888, \"#fdca26\"], [1.0, \"#f0f921\"]], \"type\": \"heatmap\"}], \"heatmapgl\": [{\"colorbar\": {\"outlinewidth\": 0, \"ticks\": \"\"}, \"colorscale\": [[0.0, \"#0d0887\"], [0.1111111111111111, \"#46039f\"], [0.2222222222222222, \"#7201a8\"], [0.3333333333333333, \"#9c179e\"], [0.4444444444444444, \"#bd3786\"], [0.5555555555555556, \"#d8576b\"], [0.6666666666666666, \"#ed7953\"], [0.7777777777777778, \"#fb9f3a\"], [0.8888888888888888, \"#fdca26\"], [1.0, \"#f0f921\"]], \"type\": \"heatmapgl\"}], \"histogram\": [{\"marker\": {\"colorbar\": {\"outlinewidth\": 0, \"ticks\": \"\"}}, \"type\": \"histogram\"}], \"histogram2d\": [{\"colorbar\": {\"outlinewidth\": 0, \"ticks\": \"\"}, \"colorscale\": [[0.0, \"#0d0887\"], [0.1111111111111111, \"#46039f\"], [0.2222222222222222, \"#7201a8\"], [0.3333333333333333, \"#9c179e\"], [0.4444444444444444, \"#bd3786\"], [0.5555555555555556, \"#d8576b\"], [0.6666666666666666, \"#ed7953\"], [0.7777777777777778, \"#fb9f3a\"], [0.8888888888888888, \"#fdca26\"], [1.0, \"#f0f921\"]], \"type\": \"histogram2d\"}], \"histogram2dcontour\": [{\"colorbar\": {\"outlinewidth\": 0, \"ticks\": \"\"}, \"colorscale\": [[0.0, \"#0d0887\"], [0.1111111111111111, \"#46039f\"], [0.2222222222222222, \"#7201a8\"], [0.3333333333333333, \"#9c179e\"], [0.4444444444444444, \"#bd3786\"], [0.5555555555555556, \"#d8576b\"], [0.6666666666666666, \"#ed7953\"], [0.7777777777777778, \"#fb9f3a\"], [0.8888888888888888, \"#fdca26\"], [1.0, \"#f0f921\"]], \"type\": \"histogram2dcontour\"}], \"mesh3d\": [{\"colorbar\": {\"outlinewidth\": 0, \"ticks\": \"\"}, \"type\": \"mesh3d\"}], \"parcoords\": [{\"line\": {\"colorbar\": {\"outlinewidth\": 0, \"ticks\": \"\"}}, \"type\": \"parcoords\"}], \"pie\": [{\"automargin\": true, \"type\": \"pie\"}], \"scatter\": [{\"marker\": {\"colorbar\": {\"outlinewidth\": 0, \"ticks\": \"\"}}, \"type\": \"scatter\"}], \"scatter3d\": [{\"line\": {\"colorbar\": {\"outlinewidth\": 0, \"ticks\": \"\"}}, \"marker\": {\"colorbar\": {\"outlinewidth\": 0, \"ticks\": \"\"}}, \"type\": \"scatter3d\"}], \"scattercarpet\": [{\"marker\": {\"colorbar\": {\"outlinewidth\": 0, \"ticks\": \"\"}}, \"type\": \"scattercarpet\"}], \"scattergeo\": [{\"marker\": {\"colorbar\": {\"outlinewidth\": 0, \"ticks\": \"\"}}, \"type\": \"scattergeo\"}], \"scattergl\": [{\"marker\": {\"colorbar\": {\"outlinewidth\": 0, \"ticks\": \"\"}}, \"type\": \"scattergl\"}], \"scattermapbox\": [{\"marker\": {\"colorbar\": {\"outlinewidth\": 0, \"ticks\": \"\"}}, \"type\": \"scattermapbox\"}], \"scatterpolar\": [{\"marker\": {\"colorbar\": {\"outlinewidth\": 0, \"ticks\": \"\"}}, \"type\": \"scatterpolar\"}], \"scatterpolargl\": [{\"marker\": {\"colorbar\": {\"outlinewidth\": 0, \"ticks\": \"\"}}, \"type\": \"scatterpolargl\"}], \"scatterternary\": [{\"marker\": {\"colorbar\": {\"outlinewidth\": 0, \"ticks\": \"\"}}, \"type\": \"scatterternary\"}], \"surface\": [{\"colorbar\": {\"outlinewidth\": 0, \"ticks\": \"\"}, \"colorscale\": [[0.0, \"#0d0887\"], [0.1111111111111111, \"#46039f\"], [0.2222222222222222, \"#7201a8\"], [0.3333333333333333, \"#9c179e\"], [0.4444444444444444, \"#bd3786\"], [0.5555555555555556, \"#d8576b\"], [0.6666666666666666, \"#ed7953\"], [0.7777777777777778, \"#fb9f3a\"], [0.8888888888888888, \"#fdca26\"], [1.0, \"#f0f921\"]], \"type\": \"surface\"}], \"table\": [{\"cells\": {\"fill\": {\"color\": \"#EBF0F8\"}, \"line\": {\"color\": \"white\"}}, \"header\": {\"fill\": {\"color\": \"#C8D4E3\"}, \"line\": {\"color\": \"white\"}}, \"type\": \"table\"}]}, \"layout\": {\"annotationdefaults\": {\"arrowcolor\": \"#2a3f5f\", \"arrowhead\": 0, \"arrowwidth\": 1}, \"coloraxis\": {\"colorbar\": {\"outlinewidth\": 0, \"ticks\": \"\"}}, \"colorscale\": {\"diverging\": [[0, \"#8e0152\"], [0.1, \"#c51b7d\"], [0.2, \"#de77ae\"], [0.3, \"#f1b6da\"], [0.4, \"#fde0ef\"], [0.5, \"#f7f7f7\"], [0.6, \"#e6f5d0\"], [0.7, \"#b8e186\"], [0.8, \"#7fbc41\"], [0.9, \"#4d9221\"], [1, \"#276419\"]], \"sequential\": [[0.0, \"#0d0887\"], [0.1111111111111111, \"#46039f\"], [0.2222222222222222, \"#7201a8\"], [0.3333333333333333, \"#9c179e\"], [0.4444444444444444, \"#bd3786\"], [0.5555555555555556, \"#d8576b\"], [0.6666666666666666, \"#ed7953\"], [0.7777777777777778, \"#fb9f3a\"], [0.8888888888888888, \"#fdca26\"], [1.0, \"#f0f921\"]], \"sequentialminus\": [[0.0, \"#0d0887\"], [0.1111111111111111, \"#46039f\"], [0.2222222222222222, \"#7201a8\"], [0.3333333333333333, \"#9c179e\"], [0.4444444444444444, \"#bd3786\"], [0.5555555555555556, \"#d8576b\"], [0.6666666666666666, \"#ed7953\"], [0.7777777777777778, \"#fb9f3a\"], [0.8888888888888888, \"#fdca26\"], [1.0, \"#f0f921\"]]}, \"colorway\": [\"#636efa\", \"#EF553B\", \"#00cc96\", \"#ab63fa\", \"#FFA15A\", \"#19d3f3\", \"#FF6692\", \"#B6E880\", \"#FF97FF\", \"#FECB52\"], \"font\": {\"color\": \"#2a3f5f\"}, \"geo\": {\"bgcolor\": \"white\", \"lakecolor\": \"white\", \"landcolor\": \"#E5ECF6\", \"showlakes\": true, \"showland\": true, \"subunitcolor\": \"white\"}, \"hoverlabel\": {\"align\": \"left\"}, \"hovermode\": \"closest\", \"mapbox\": {\"style\": \"light\"}, \"paper_bgcolor\": \"white\", \"plot_bgcolor\": \"#E5ECF6\", \"polar\": {\"angularaxis\": {\"gridcolor\": \"white\", \"linecolor\": \"white\", \"ticks\": \"\"}, \"bgcolor\": \"#E5ECF6\", \"radialaxis\": {\"gridcolor\": \"white\", \"linecolor\": \"white\", \"ticks\": \"\"}}, \"scene\": {\"xaxis\": {\"backgroundcolor\": \"#E5ECF6\", \"gridcolor\": \"white\", \"gridwidth\": 2, \"linecolor\": \"white\", \"showbackground\": true, \"ticks\": \"\", \"zerolinecolor\": \"white\"}, \"yaxis\": {\"backgroundcolor\": \"#E5ECF6\", \"gridcolor\": \"white\", \"gridwidth\": 2, \"linecolor\": \"white\", \"showbackground\": true, \"ticks\": \"\", \"zerolinecolor\": \"white\"}, \"zaxis\": {\"backgroundcolor\": \"#E5ECF6\", \"gridcolor\": \"white\", \"gridwidth\": 2, \"linecolor\": \"white\", \"showbackground\": true, \"ticks\": \"\", \"zerolinecolor\": \"white\"}}, \"shapedefaults\": {\"line\": {\"color\": \"#2a3f5f\"}}, \"ternary\": {\"aaxis\": {\"gridcolor\": \"white\", \"linecolor\": \"white\", \"ticks\": \"\"}, \"baxis\": {\"gridcolor\": \"white\", \"linecolor\": \"white\", \"ticks\": \"\"}, \"bgcolor\": \"#E5ECF6\", \"caxis\": {\"gridcolor\": \"white\", \"linecolor\": \"white\", \"ticks\": \"\"}}, \"title\": {\"x\": 0.05}, \"xaxis\": {\"automargin\": true, \"gridcolor\": \"white\", \"linecolor\": \"white\", \"ticks\": \"\", \"title\": {\"standoff\": 15}, \"zerolinecolor\": \"white\", \"zerolinewidth\": 2}, \"yaxis\": {\"automargin\": true, \"gridcolor\": \"white\", \"linecolor\": \"white\", \"ticks\": \"\", \"title\": {\"standoff\": 15}, \"zerolinecolor\": \"white\", \"zerolinewidth\": 2}}}, \"title\": {\"font\": {\"color\": \"#4D5663\"}}, \"xaxis\": {\"gridcolor\": \"#E1E5ED\", \"showgrid\": true, \"tickfont\": {\"color\": \"#4D5663\"}, \"title\": {\"font\": {\"color\": \"#4D5663\"}, \"text\": \"\"}, \"zerolinecolor\": \"#E1E5ED\"}, \"yaxis\": {\"gridcolor\": \"#E1E5ED\", \"showgrid\": true, \"tickfont\": {\"color\": \"#4D5663\"}, \"title\": {\"font\": {\"color\": \"#4D5663\"}, \"text\": \"\"}, \"zerolinecolor\": \"#E1E5ED\"}},\n",
       "                        {\"showLink\": true, \"linkText\": \"Export to plot.ly\", \"plotlyServerURL\": \"https://plot.ly\", \"responsive\": true}\n",
       "                    ).then(function(){\n",
       "                            \n",
       "var gd = document.getElementById('32f3a8bf-a62f-4bda-8555-a25e49c3df69');\n",
       "var x = new MutationObserver(function (mutations, observer) {{\n",
       "        var display = window.getComputedStyle(gd).display;\n",
       "        if (!display || display === 'none') {{\n",
       "            console.log([gd, 'removed!']);\n",
       "            Plotly.purge(gd);\n",
       "            observer.disconnect();\n",
       "        }}\n",
       "}});\n",
       "\n",
       "// Listen for the removal of the full notebook cells\n",
       "var notebookContainer = gd.closest('#notebook-container');\n",
       "if (notebookContainer) {{\n",
       "    x.observe(notebookContainer, {childList: true});\n",
       "}}\n",
       "\n",
       "// Listen for the clearing of the current output cell\n",
       "var outputEl = gd.closest('.output');\n",
       "if (outputEl) {{\n",
       "    x.observe(outputEl, {childList: true});\n",
       "}}\n",
       "\n",
       "                        })\n",
       "                };\n",
       "                });\n",
       "            </script>\n",
       "        </div>"
      ]
     },
     "metadata": {},
     "output_type": "display_data"
    }
   ],
   "source": [
    "df2.iplot(kind='bar',x='Category',y='Values')"
   ]
  },
  {
   "cell_type": "code",
   "execution_count": 13,
   "metadata": {},
   "outputs": [
    {
     "data": {
      "application/vnd.plotly.v1+json": {
       "config": {
        "linkText": "Export to plot.ly",
        "plotlyServerURL": "https://plot.ly",
        "showLink": true
       },
       "data": [
        {
         "marker": {
          "color": "rgba(255, 153, 51, 0.6)",
          "line": {
           "color": "rgba(255, 153, 51, 1.0)",
           "width": 1
          }
         },
         "name": "None",
         "orientation": "v",
         "text": "",
         "type": "bar",
         "x": [
          "A",
          "B",
          "C",
          "D"
         ],
         "y": [
          100,
          100,
          100,
          100
         ]
        }
       ],
       "layout": {
        "legend": {
         "bgcolor": "#F5F6F9",
         "font": {
          "color": "#4D5663"
         }
        },
        "paper_bgcolor": "#F5F6F9",
        "plot_bgcolor": "#F5F6F9",
        "template": {
         "data": {
          "bar": [
           {
            "error_x": {
             "color": "#2a3f5f"
            },
            "error_y": {
             "color": "#2a3f5f"
            },
            "marker": {
             "line": {
              "color": "#E5ECF6",
              "width": 0.5
             }
            },
            "type": "bar"
           }
          ],
          "barpolar": [
           {
            "marker": {
             "line": {
              "color": "#E5ECF6",
              "width": 0.5
             }
            },
            "type": "barpolar"
           }
          ],
          "carpet": [
           {
            "aaxis": {
             "endlinecolor": "#2a3f5f",
             "gridcolor": "white",
             "linecolor": "white",
             "minorgridcolor": "white",
             "startlinecolor": "#2a3f5f"
            },
            "baxis": {
             "endlinecolor": "#2a3f5f",
             "gridcolor": "white",
             "linecolor": "white",
             "minorgridcolor": "white",
             "startlinecolor": "#2a3f5f"
            },
            "type": "carpet"
           }
          ],
          "choropleth": [
           {
            "colorbar": {
             "outlinewidth": 0,
             "ticks": ""
            },
            "type": "choropleth"
           }
          ],
          "contour": [
           {
            "colorbar": {
             "outlinewidth": 0,
             "ticks": ""
            },
            "colorscale": [
             [
              0,
              "#0d0887"
             ],
             [
              0.1111111111111111,
              "#46039f"
             ],
             [
              0.2222222222222222,
              "#7201a8"
             ],
             [
              0.3333333333333333,
              "#9c179e"
             ],
             [
              0.4444444444444444,
              "#bd3786"
             ],
             [
              0.5555555555555556,
              "#d8576b"
             ],
             [
              0.6666666666666666,
              "#ed7953"
             ],
             [
              0.7777777777777778,
              "#fb9f3a"
             ],
             [
              0.8888888888888888,
              "#fdca26"
             ],
             [
              1,
              "#f0f921"
             ]
            ],
            "type": "contour"
           }
          ],
          "contourcarpet": [
           {
            "colorbar": {
             "outlinewidth": 0,
             "ticks": ""
            },
            "type": "contourcarpet"
           }
          ],
          "heatmap": [
           {
            "colorbar": {
             "outlinewidth": 0,
             "ticks": ""
            },
            "colorscale": [
             [
              0,
              "#0d0887"
             ],
             [
              0.1111111111111111,
              "#46039f"
             ],
             [
              0.2222222222222222,
              "#7201a8"
             ],
             [
              0.3333333333333333,
              "#9c179e"
             ],
             [
              0.4444444444444444,
              "#bd3786"
             ],
             [
              0.5555555555555556,
              "#d8576b"
             ],
             [
              0.6666666666666666,
              "#ed7953"
             ],
             [
              0.7777777777777778,
              "#fb9f3a"
             ],
             [
              0.8888888888888888,
              "#fdca26"
             ],
             [
              1,
              "#f0f921"
             ]
            ],
            "type": "heatmap"
           }
          ],
          "heatmapgl": [
           {
            "colorbar": {
             "outlinewidth": 0,
             "ticks": ""
            },
            "colorscale": [
             [
              0,
              "#0d0887"
             ],
             [
              0.1111111111111111,
              "#46039f"
             ],
             [
              0.2222222222222222,
              "#7201a8"
             ],
             [
              0.3333333333333333,
              "#9c179e"
             ],
             [
              0.4444444444444444,
              "#bd3786"
             ],
             [
              0.5555555555555556,
              "#d8576b"
             ],
             [
              0.6666666666666666,
              "#ed7953"
             ],
             [
              0.7777777777777778,
              "#fb9f3a"
             ],
             [
              0.8888888888888888,
              "#fdca26"
             ],
             [
              1,
              "#f0f921"
             ]
            ],
            "type": "heatmapgl"
           }
          ],
          "histogram": [
           {
            "marker": {
             "colorbar": {
              "outlinewidth": 0,
              "ticks": ""
             }
            },
            "type": "histogram"
           }
          ],
          "histogram2d": [
           {
            "colorbar": {
             "outlinewidth": 0,
             "ticks": ""
            },
            "colorscale": [
             [
              0,
              "#0d0887"
             ],
             [
              0.1111111111111111,
              "#46039f"
             ],
             [
              0.2222222222222222,
              "#7201a8"
             ],
             [
              0.3333333333333333,
              "#9c179e"
             ],
             [
              0.4444444444444444,
              "#bd3786"
             ],
             [
              0.5555555555555556,
              "#d8576b"
             ],
             [
              0.6666666666666666,
              "#ed7953"
             ],
             [
              0.7777777777777778,
              "#fb9f3a"
             ],
             [
              0.8888888888888888,
              "#fdca26"
             ],
             [
              1,
              "#f0f921"
             ]
            ],
            "type": "histogram2d"
           }
          ],
          "histogram2dcontour": [
           {
            "colorbar": {
             "outlinewidth": 0,
             "ticks": ""
            },
            "colorscale": [
             [
              0,
              "#0d0887"
             ],
             [
              0.1111111111111111,
              "#46039f"
             ],
             [
              0.2222222222222222,
              "#7201a8"
             ],
             [
              0.3333333333333333,
              "#9c179e"
             ],
             [
              0.4444444444444444,
              "#bd3786"
             ],
             [
              0.5555555555555556,
              "#d8576b"
             ],
             [
              0.6666666666666666,
              "#ed7953"
             ],
             [
              0.7777777777777778,
              "#fb9f3a"
             ],
             [
              0.8888888888888888,
              "#fdca26"
             ],
             [
              1,
              "#f0f921"
             ]
            ],
            "type": "histogram2dcontour"
           }
          ],
          "mesh3d": [
           {
            "colorbar": {
             "outlinewidth": 0,
             "ticks": ""
            },
            "type": "mesh3d"
           }
          ],
          "parcoords": [
           {
            "line": {
             "colorbar": {
              "outlinewidth": 0,
              "ticks": ""
             }
            },
            "type": "parcoords"
           }
          ],
          "pie": [
           {
            "automargin": true,
            "type": "pie"
           }
          ],
          "scatter": [
           {
            "marker": {
             "colorbar": {
              "outlinewidth": 0,
              "ticks": ""
             }
            },
            "type": "scatter"
           }
          ],
          "scatter3d": [
           {
            "line": {
             "colorbar": {
              "outlinewidth": 0,
              "ticks": ""
             }
            },
            "marker": {
             "colorbar": {
              "outlinewidth": 0,
              "ticks": ""
             }
            },
            "type": "scatter3d"
           }
          ],
          "scattercarpet": [
           {
            "marker": {
             "colorbar": {
              "outlinewidth": 0,
              "ticks": ""
             }
            },
            "type": "scattercarpet"
           }
          ],
          "scattergeo": [
           {
            "marker": {
             "colorbar": {
              "outlinewidth": 0,
              "ticks": ""
             }
            },
            "type": "scattergeo"
           }
          ],
          "scattergl": [
           {
            "marker": {
             "colorbar": {
              "outlinewidth": 0,
              "ticks": ""
             }
            },
            "type": "scattergl"
           }
          ],
          "scattermapbox": [
           {
            "marker": {
             "colorbar": {
              "outlinewidth": 0,
              "ticks": ""
             }
            },
            "type": "scattermapbox"
           }
          ],
          "scatterpolar": [
           {
            "marker": {
             "colorbar": {
              "outlinewidth": 0,
              "ticks": ""
             }
            },
            "type": "scatterpolar"
           }
          ],
          "scatterpolargl": [
           {
            "marker": {
             "colorbar": {
              "outlinewidth": 0,
              "ticks": ""
             }
            },
            "type": "scatterpolargl"
           }
          ],
          "scatterternary": [
           {
            "marker": {
             "colorbar": {
              "outlinewidth": 0,
              "ticks": ""
             }
            },
            "type": "scatterternary"
           }
          ],
          "surface": [
           {
            "colorbar": {
             "outlinewidth": 0,
             "ticks": ""
            },
            "colorscale": [
             [
              0,
              "#0d0887"
             ],
             [
              0.1111111111111111,
              "#46039f"
             ],
             [
              0.2222222222222222,
              "#7201a8"
             ],
             [
              0.3333333333333333,
              "#9c179e"
             ],
             [
              0.4444444444444444,
              "#bd3786"
             ],
             [
              0.5555555555555556,
              "#d8576b"
             ],
             [
              0.6666666666666666,
              "#ed7953"
             ],
             [
              0.7777777777777778,
              "#fb9f3a"
             ],
             [
              0.8888888888888888,
              "#fdca26"
             ],
             [
              1,
              "#f0f921"
             ]
            ],
            "type": "surface"
           }
          ],
          "table": [
           {
            "cells": {
             "fill": {
              "color": "#EBF0F8"
             },
             "line": {
              "color": "white"
             }
            },
            "header": {
             "fill": {
              "color": "#C8D4E3"
             },
             "line": {
              "color": "white"
             }
            },
            "type": "table"
           }
          ]
         },
         "layout": {
          "annotationdefaults": {
           "arrowcolor": "#2a3f5f",
           "arrowhead": 0,
           "arrowwidth": 1
          },
          "coloraxis": {
           "colorbar": {
            "outlinewidth": 0,
            "ticks": ""
           }
          },
          "colorscale": {
           "diverging": [
            [
             0,
             "#8e0152"
            ],
            [
             0.1,
             "#c51b7d"
            ],
            [
             0.2,
             "#de77ae"
            ],
            [
             0.3,
             "#f1b6da"
            ],
            [
             0.4,
             "#fde0ef"
            ],
            [
             0.5,
             "#f7f7f7"
            ],
            [
             0.6,
             "#e6f5d0"
            ],
            [
             0.7,
             "#b8e186"
            ],
            [
             0.8,
             "#7fbc41"
            ],
            [
             0.9,
             "#4d9221"
            ],
            [
             1,
             "#276419"
            ]
           ],
           "sequential": [
            [
             0,
             "#0d0887"
            ],
            [
             0.1111111111111111,
             "#46039f"
            ],
            [
             0.2222222222222222,
             "#7201a8"
            ],
            [
             0.3333333333333333,
             "#9c179e"
            ],
            [
             0.4444444444444444,
             "#bd3786"
            ],
            [
             0.5555555555555556,
             "#d8576b"
            ],
            [
             0.6666666666666666,
             "#ed7953"
            ],
            [
             0.7777777777777778,
             "#fb9f3a"
            ],
            [
             0.8888888888888888,
             "#fdca26"
            ],
            [
             1,
             "#f0f921"
            ]
           ],
           "sequentialminus": [
            [
             0,
             "#0d0887"
            ],
            [
             0.1111111111111111,
             "#46039f"
            ],
            [
             0.2222222222222222,
             "#7201a8"
            ],
            [
             0.3333333333333333,
             "#9c179e"
            ],
            [
             0.4444444444444444,
             "#bd3786"
            ],
            [
             0.5555555555555556,
             "#d8576b"
            ],
            [
             0.6666666666666666,
             "#ed7953"
            ],
            [
             0.7777777777777778,
             "#fb9f3a"
            ],
            [
             0.8888888888888888,
             "#fdca26"
            ],
            [
             1,
             "#f0f921"
            ]
           ]
          },
          "colorway": [
           "#636efa",
           "#EF553B",
           "#00cc96",
           "#ab63fa",
           "#FFA15A",
           "#19d3f3",
           "#FF6692",
           "#B6E880",
           "#FF97FF",
           "#FECB52"
          ],
          "font": {
           "color": "#2a3f5f"
          },
          "geo": {
           "bgcolor": "white",
           "lakecolor": "white",
           "landcolor": "#E5ECF6",
           "showlakes": true,
           "showland": true,
           "subunitcolor": "white"
          },
          "hoverlabel": {
           "align": "left"
          },
          "hovermode": "closest",
          "mapbox": {
           "style": "light"
          },
          "paper_bgcolor": "white",
          "plot_bgcolor": "#E5ECF6",
          "polar": {
           "angularaxis": {
            "gridcolor": "white",
            "linecolor": "white",
            "ticks": ""
           },
           "bgcolor": "#E5ECF6",
           "radialaxis": {
            "gridcolor": "white",
            "linecolor": "white",
            "ticks": ""
           }
          },
          "scene": {
           "xaxis": {
            "backgroundcolor": "#E5ECF6",
            "gridcolor": "white",
            "gridwidth": 2,
            "linecolor": "white",
            "showbackground": true,
            "ticks": "",
            "zerolinecolor": "white"
           },
           "yaxis": {
            "backgroundcolor": "#E5ECF6",
            "gridcolor": "white",
            "gridwidth": 2,
            "linecolor": "white",
            "showbackground": true,
            "ticks": "",
            "zerolinecolor": "white"
           },
           "zaxis": {
            "backgroundcolor": "#E5ECF6",
            "gridcolor": "white",
            "gridwidth": 2,
            "linecolor": "white",
            "showbackground": true,
            "ticks": "",
            "zerolinecolor": "white"
           }
          },
          "shapedefaults": {
           "line": {
            "color": "#2a3f5f"
           }
          },
          "ternary": {
           "aaxis": {
            "gridcolor": "white",
            "linecolor": "white",
            "ticks": ""
           },
           "baxis": {
            "gridcolor": "white",
            "linecolor": "white",
            "ticks": ""
           },
           "bgcolor": "#E5ECF6",
           "caxis": {
            "gridcolor": "white",
            "linecolor": "white",
            "ticks": ""
           }
          },
          "title": {
           "x": 0.05
          },
          "xaxis": {
           "automargin": true,
           "gridcolor": "white",
           "linecolor": "white",
           "ticks": "",
           "title": {
            "standoff": 15
           },
           "zerolinecolor": "white",
           "zerolinewidth": 2
          },
          "yaxis": {
           "automargin": true,
           "gridcolor": "white",
           "linecolor": "white",
           "ticks": "",
           "title": {
            "standoff": 15
           },
           "zerolinecolor": "white",
           "zerolinewidth": 2
          }
         }
        },
        "title": {
         "font": {
          "color": "#4D5663"
         }
        },
        "xaxis": {
         "gridcolor": "#E1E5ED",
         "showgrid": true,
         "tickfont": {
          "color": "#4D5663"
         },
         "title": {
          "font": {
           "color": "#4D5663"
          },
          "text": ""
         },
         "zerolinecolor": "#E1E5ED"
        },
        "yaxis": {
         "gridcolor": "#E1E5ED",
         "showgrid": true,
         "tickfont": {
          "color": "#4D5663"
         },
         "title": {
          "font": {
           "color": "#4D5663"
          },
          "text": ""
         },
         "zerolinecolor": "#E1E5ED"
        }
       }
      },
      "text/html": [
       "<div>\n",
       "        \n",
       "        \n",
       "            <div id=\"e8adc2e4-e1a0-45f7-9fd4-ac0eec3acbff\" class=\"plotly-graph-div\" style=\"height:525px; width:100%;\"></div>\n",
       "            <script type=\"text/javascript\">\n",
       "                require([\"plotly\"], function(Plotly) {\n",
       "                    window.PLOTLYENV=window.PLOTLYENV || {};\n",
       "                    window.PLOTLYENV.BASE_URL='https://plot.ly';\n",
       "                    \n",
       "                if (document.getElementById(\"e8adc2e4-e1a0-45f7-9fd4-ac0eec3acbff\")) {\n",
       "                    Plotly.newPlot(\n",
       "                        'e8adc2e4-e1a0-45f7-9fd4-ac0eec3acbff',\n",
       "                        [{\"marker\": {\"color\": \"rgba(255, 153, 51, 0.6)\", \"line\": {\"color\": \"rgba(255, 153, 51, 1.0)\", \"width\": 1}}, \"name\": \"None\", \"orientation\": \"v\", \"text\": \"\", \"type\": \"bar\", \"x\": [\"A\", \"B\", \"C\", \"D\"], \"y\": [100, 100, 100, 100]}],\n",
       "                        {\"legend\": {\"bgcolor\": \"#F5F6F9\", \"font\": {\"color\": \"#4D5663\"}}, \"paper_bgcolor\": \"#F5F6F9\", \"plot_bgcolor\": \"#F5F6F9\", \"template\": {\"data\": {\"bar\": [{\"error_x\": {\"color\": \"#2a3f5f\"}, \"error_y\": {\"color\": \"#2a3f5f\"}, \"marker\": {\"line\": {\"color\": \"#E5ECF6\", \"width\": 0.5}}, \"type\": \"bar\"}], \"barpolar\": [{\"marker\": {\"line\": {\"color\": \"#E5ECF6\", \"width\": 0.5}}, \"type\": \"barpolar\"}], \"carpet\": [{\"aaxis\": {\"endlinecolor\": \"#2a3f5f\", \"gridcolor\": \"white\", \"linecolor\": \"white\", \"minorgridcolor\": \"white\", \"startlinecolor\": \"#2a3f5f\"}, \"baxis\": {\"endlinecolor\": \"#2a3f5f\", \"gridcolor\": \"white\", \"linecolor\": \"white\", \"minorgridcolor\": \"white\", \"startlinecolor\": \"#2a3f5f\"}, \"type\": \"carpet\"}], \"choropleth\": [{\"colorbar\": {\"outlinewidth\": 0, \"ticks\": \"\"}, \"type\": \"choropleth\"}], \"contour\": [{\"colorbar\": {\"outlinewidth\": 0, \"ticks\": \"\"}, \"colorscale\": [[0.0, \"#0d0887\"], [0.1111111111111111, \"#46039f\"], [0.2222222222222222, \"#7201a8\"], [0.3333333333333333, \"#9c179e\"], [0.4444444444444444, \"#bd3786\"], [0.5555555555555556, \"#d8576b\"], [0.6666666666666666, \"#ed7953\"], [0.7777777777777778, \"#fb9f3a\"], [0.8888888888888888, \"#fdca26\"], [1.0, \"#f0f921\"]], \"type\": \"contour\"}], \"contourcarpet\": [{\"colorbar\": {\"outlinewidth\": 0, \"ticks\": \"\"}, \"type\": \"contourcarpet\"}], \"heatmap\": [{\"colorbar\": {\"outlinewidth\": 0, \"ticks\": \"\"}, \"colorscale\": [[0.0, \"#0d0887\"], [0.1111111111111111, \"#46039f\"], [0.2222222222222222, \"#7201a8\"], [0.3333333333333333, \"#9c179e\"], [0.4444444444444444, \"#bd3786\"], [0.5555555555555556, \"#d8576b\"], [0.6666666666666666, \"#ed7953\"], [0.7777777777777778, \"#fb9f3a\"], [0.8888888888888888, \"#fdca26\"], [1.0, \"#f0f921\"]], \"type\": \"heatmap\"}], \"heatmapgl\": [{\"colorbar\": {\"outlinewidth\": 0, \"ticks\": \"\"}, \"colorscale\": [[0.0, \"#0d0887\"], [0.1111111111111111, \"#46039f\"], [0.2222222222222222, \"#7201a8\"], [0.3333333333333333, \"#9c179e\"], [0.4444444444444444, \"#bd3786\"], [0.5555555555555556, \"#d8576b\"], [0.6666666666666666, \"#ed7953\"], [0.7777777777777778, \"#fb9f3a\"], [0.8888888888888888, \"#fdca26\"], [1.0, \"#f0f921\"]], \"type\": \"heatmapgl\"}], \"histogram\": [{\"marker\": {\"colorbar\": {\"outlinewidth\": 0, \"ticks\": \"\"}}, \"type\": \"histogram\"}], \"histogram2d\": [{\"colorbar\": {\"outlinewidth\": 0, \"ticks\": \"\"}, \"colorscale\": [[0.0, \"#0d0887\"], [0.1111111111111111, \"#46039f\"], [0.2222222222222222, \"#7201a8\"], [0.3333333333333333, \"#9c179e\"], [0.4444444444444444, \"#bd3786\"], [0.5555555555555556, \"#d8576b\"], [0.6666666666666666, \"#ed7953\"], [0.7777777777777778, \"#fb9f3a\"], [0.8888888888888888, \"#fdca26\"], [1.0, \"#f0f921\"]], \"type\": \"histogram2d\"}], \"histogram2dcontour\": [{\"colorbar\": {\"outlinewidth\": 0, \"ticks\": \"\"}, \"colorscale\": [[0.0, \"#0d0887\"], [0.1111111111111111, \"#46039f\"], [0.2222222222222222, \"#7201a8\"], [0.3333333333333333, \"#9c179e\"], [0.4444444444444444, \"#bd3786\"], [0.5555555555555556, \"#d8576b\"], [0.6666666666666666, \"#ed7953\"], [0.7777777777777778, \"#fb9f3a\"], [0.8888888888888888, \"#fdca26\"], [1.0, \"#f0f921\"]], \"type\": \"histogram2dcontour\"}], \"mesh3d\": [{\"colorbar\": {\"outlinewidth\": 0, \"ticks\": \"\"}, \"type\": \"mesh3d\"}], \"parcoords\": [{\"line\": {\"colorbar\": {\"outlinewidth\": 0, \"ticks\": \"\"}}, \"type\": \"parcoords\"}], \"pie\": [{\"automargin\": true, \"type\": \"pie\"}], \"scatter\": [{\"marker\": {\"colorbar\": {\"outlinewidth\": 0, \"ticks\": \"\"}}, \"type\": \"scatter\"}], \"scatter3d\": [{\"line\": {\"colorbar\": {\"outlinewidth\": 0, \"ticks\": \"\"}}, \"marker\": {\"colorbar\": {\"outlinewidth\": 0, \"ticks\": \"\"}}, \"type\": \"scatter3d\"}], \"scattercarpet\": [{\"marker\": {\"colorbar\": {\"outlinewidth\": 0, \"ticks\": \"\"}}, \"type\": \"scattercarpet\"}], \"scattergeo\": [{\"marker\": {\"colorbar\": {\"outlinewidth\": 0, \"ticks\": \"\"}}, \"type\": \"scattergeo\"}], \"scattergl\": [{\"marker\": {\"colorbar\": {\"outlinewidth\": 0, \"ticks\": \"\"}}, \"type\": \"scattergl\"}], \"scattermapbox\": [{\"marker\": {\"colorbar\": {\"outlinewidth\": 0, \"ticks\": \"\"}}, \"type\": \"scattermapbox\"}], \"scatterpolar\": [{\"marker\": {\"colorbar\": {\"outlinewidth\": 0, \"ticks\": \"\"}}, \"type\": \"scatterpolar\"}], \"scatterpolargl\": [{\"marker\": {\"colorbar\": {\"outlinewidth\": 0, \"ticks\": \"\"}}, \"type\": \"scatterpolargl\"}], \"scatterternary\": [{\"marker\": {\"colorbar\": {\"outlinewidth\": 0, \"ticks\": \"\"}}, \"type\": \"scatterternary\"}], \"surface\": [{\"colorbar\": {\"outlinewidth\": 0, \"ticks\": \"\"}, \"colorscale\": [[0.0, \"#0d0887\"], [0.1111111111111111, \"#46039f\"], [0.2222222222222222, \"#7201a8\"], [0.3333333333333333, \"#9c179e\"], [0.4444444444444444, \"#bd3786\"], [0.5555555555555556, \"#d8576b\"], [0.6666666666666666, \"#ed7953\"], [0.7777777777777778, \"#fb9f3a\"], [0.8888888888888888, \"#fdca26\"], [1.0, \"#f0f921\"]], \"type\": \"surface\"}], \"table\": [{\"cells\": {\"fill\": {\"color\": \"#EBF0F8\"}, \"line\": {\"color\": \"white\"}}, \"header\": {\"fill\": {\"color\": \"#C8D4E3\"}, \"line\": {\"color\": \"white\"}}, \"type\": \"table\"}]}, \"layout\": {\"annotationdefaults\": {\"arrowcolor\": \"#2a3f5f\", \"arrowhead\": 0, \"arrowwidth\": 1}, \"coloraxis\": {\"colorbar\": {\"outlinewidth\": 0, \"ticks\": \"\"}}, \"colorscale\": {\"diverging\": [[0, \"#8e0152\"], [0.1, \"#c51b7d\"], [0.2, \"#de77ae\"], [0.3, \"#f1b6da\"], [0.4, \"#fde0ef\"], [0.5, \"#f7f7f7\"], [0.6, \"#e6f5d0\"], [0.7, \"#b8e186\"], [0.8, \"#7fbc41\"], [0.9, \"#4d9221\"], [1, \"#276419\"]], \"sequential\": [[0.0, \"#0d0887\"], [0.1111111111111111, \"#46039f\"], [0.2222222222222222, \"#7201a8\"], [0.3333333333333333, \"#9c179e\"], [0.4444444444444444, \"#bd3786\"], [0.5555555555555556, \"#d8576b\"], [0.6666666666666666, \"#ed7953\"], [0.7777777777777778, \"#fb9f3a\"], [0.8888888888888888, \"#fdca26\"], [1.0, \"#f0f921\"]], \"sequentialminus\": [[0.0, \"#0d0887\"], [0.1111111111111111, \"#46039f\"], [0.2222222222222222, \"#7201a8\"], [0.3333333333333333, \"#9c179e\"], [0.4444444444444444, \"#bd3786\"], [0.5555555555555556, \"#d8576b\"], [0.6666666666666666, \"#ed7953\"], [0.7777777777777778, \"#fb9f3a\"], [0.8888888888888888, \"#fdca26\"], [1.0, \"#f0f921\"]]}, \"colorway\": [\"#636efa\", \"#EF553B\", \"#00cc96\", \"#ab63fa\", \"#FFA15A\", \"#19d3f3\", \"#FF6692\", \"#B6E880\", \"#FF97FF\", \"#FECB52\"], \"font\": {\"color\": \"#2a3f5f\"}, \"geo\": {\"bgcolor\": \"white\", \"lakecolor\": \"white\", \"landcolor\": \"#E5ECF6\", \"showlakes\": true, \"showland\": true, \"subunitcolor\": \"white\"}, \"hoverlabel\": {\"align\": \"left\"}, \"hovermode\": \"closest\", \"mapbox\": {\"style\": \"light\"}, \"paper_bgcolor\": \"white\", \"plot_bgcolor\": \"#E5ECF6\", \"polar\": {\"angularaxis\": {\"gridcolor\": \"white\", \"linecolor\": \"white\", \"ticks\": \"\"}, \"bgcolor\": \"#E5ECF6\", \"radialaxis\": {\"gridcolor\": \"white\", \"linecolor\": \"white\", \"ticks\": \"\"}}, \"scene\": {\"xaxis\": {\"backgroundcolor\": \"#E5ECF6\", \"gridcolor\": \"white\", \"gridwidth\": 2, \"linecolor\": \"white\", \"showbackground\": true, \"ticks\": \"\", \"zerolinecolor\": \"white\"}, \"yaxis\": {\"backgroundcolor\": \"#E5ECF6\", \"gridcolor\": \"white\", \"gridwidth\": 2, \"linecolor\": \"white\", \"showbackground\": true, \"ticks\": \"\", \"zerolinecolor\": \"white\"}, \"zaxis\": {\"backgroundcolor\": \"#E5ECF6\", \"gridcolor\": \"white\", \"gridwidth\": 2, \"linecolor\": \"white\", \"showbackground\": true, \"ticks\": \"\", \"zerolinecolor\": \"white\"}}, \"shapedefaults\": {\"line\": {\"color\": \"#2a3f5f\"}}, \"ternary\": {\"aaxis\": {\"gridcolor\": \"white\", \"linecolor\": \"white\", \"ticks\": \"\"}, \"baxis\": {\"gridcolor\": \"white\", \"linecolor\": \"white\", \"ticks\": \"\"}, \"bgcolor\": \"#E5ECF6\", \"caxis\": {\"gridcolor\": \"white\", \"linecolor\": \"white\", \"ticks\": \"\"}}, \"title\": {\"x\": 0.05}, \"xaxis\": {\"automargin\": true, \"gridcolor\": \"white\", \"linecolor\": \"white\", \"ticks\": \"\", \"title\": {\"standoff\": 15}, \"zerolinecolor\": \"white\", \"zerolinewidth\": 2}, \"yaxis\": {\"automargin\": true, \"gridcolor\": \"white\", \"linecolor\": \"white\", \"ticks\": \"\", \"title\": {\"standoff\": 15}, \"zerolinecolor\": \"white\", \"zerolinewidth\": 2}}}, \"title\": {\"font\": {\"color\": \"#4D5663\"}}, \"xaxis\": {\"gridcolor\": \"#E1E5ED\", \"showgrid\": true, \"tickfont\": {\"color\": \"#4D5663\"}, \"title\": {\"font\": {\"color\": \"#4D5663\"}, \"text\": \"\"}, \"zerolinecolor\": \"#E1E5ED\"}, \"yaxis\": {\"gridcolor\": \"#E1E5ED\", \"showgrid\": true, \"tickfont\": {\"color\": \"#4D5663\"}, \"title\": {\"font\": {\"color\": \"#4D5663\"}, \"text\": \"\"}, \"zerolinecolor\": \"#E1E5ED\"}},\n",
       "                        {\"showLink\": true, \"linkText\": \"Export to plot.ly\", \"plotlyServerURL\": \"https://plot.ly\", \"responsive\": true}\n",
       "                    ).then(function(){\n",
       "                            \n",
       "var gd = document.getElementById('e8adc2e4-e1a0-45f7-9fd4-ac0eec3acbff');\n",
       "var x = new MutationObserver(function (mutations, observer) {{\n",
       "        var display = window.getComputedStyle(gd).display;\n",
       "        if (!display || display === 'none') {{\n",
       "            console.log([gd, 'removed!']);\n",
       "            Plotly.purge(gd);\n",
       "            observer.disconnect();\n",
       "        }}\n",
       "}});\n",
       "\n",
       "// Listen for the removal of the full notebook cells\n",
       "var notebookContainer = gd.closest('#notebook-container');\n",
       "if (notebookContainer) {{\n",
       "    x.observe(notebookContainer, {childList: true});\n",
       "}}\n",
       "\n",
       "// Listen for the clearing of the current output cell\n",
       "var outputEl = gd.closest('.output');\n",
       "if (outputEl) {{\n",
       "    x.observe(outputEl, {childList: true});\n",
       "}}\n",
       "\n",
       "                        })\n",
       "                };\n",
       "                });\n",
       "            </script>\n",
       "        </div>"
      ]
     },
     "metadata": {},
     "output_type": "display_data"
    }
   ],
   "source": [
    "df.count().iplot(kind='bar')"
   ]
  },
  {
   "cell_type": "markdown",
   "metadata": {},
   "source": [
    "## Boxplots"
   ]
  },
  {
   "cell_type": "code",
   "execution_count": 14,
   "metadata": {},
   "outputs": [
    {
     "data": {
      "application/vnd.plotly.v1+json": {
       "config": {
        "linkText": "Export to plot.ly",
        "plotlyServerURL": "https://plot.ly",
        "showLink": true
       },
       "data": [
        {
         "boxpoints": false,
         "line": {
          "width": 1.3
         },
         "marker": {
          "color": "rgba(255, 153, 51, 1.0)"
         },
         "name": "A",
         "orientation": "v",
         "type": "box",
         "y": [
          -1.316509150580487,
          0.6567439213089783,
          -1.2117246351490527,
          -0.7795197648889394,
          -1.3086898864866376,
          1.1530168155654092,
          0.13998590336540567,
          -0.11056327817001697,
          1.7537011117105172,
          0.8810323955893713,
          0.10541010497618351,
          1.011575063785946,
          2.1228749009656473,
          -0.3075112722036564,
          1.038681885646689,
          -0.6319853146199059,
          2.2189715728894632,
          -1.4770145042427665,
          -0.153470368878263,
          -0.18727900695016553,
          1.9078574381220432,
          1.0499974193565844,
          0.46542902797864877,
          -0.6260746672943875,
          -0.03689923737424436,
          -1.0944391791639074,
          1.2481303879716057,
          0.09959660652843288,
          0.057031069351861356,
          -1.4176608242708042,
          0.27913325253238075,
          0.8782737897274759,
          -3.3361675913751814,
          -0.3611118893203861,
          0.9042067738977311,
          1.0392994720741469,
          0.3020476385379728,
          -1.10241740023384,
          0.6679332094321817,
          0.2603822989676794,
          0.45894985553075557,
          -0.011014647071094298,
          -1.2018062699942935,
          -1.288958573508946,
          -0.6602935547316192,
          0.559523528635203,
          0.9105335102135964,
          0.9007433046119707,
          -0.8788546818988332,
          1.2187402667118685,
          -0.3162671648927026,
          0.9555369947525019,
          0.8331485196348947,
          0.5643353781041094,
          0.9456632663673213,
          -0.16924653010990728,
          -2.8385553526488563,
          0.4385338754031157,
          2.050375616692176,
          -0.5957780568198906,
          -0.6391337028422326,
          0.04999693554916875,
          -0.9905604339917498,
          0.7126128257249994,
          1.623879844150366,
          0.7439398470037102,
          -1.4338603239722083,
          0.4223377380195463,
          0.7047789877639619,
          1.2997906440556526,
          1.1377795006181677,
          -0.37982037981568656,
          -0.8183289865038762,
          2.1150365234629778,
          -1.6315774177580455,
          1.557670994327429,
          0.27435834635581113,
          -0.2020660134299496,
          0.6622294003232192,
          -0.7507187976400996,
          1.6841078411643216,
          0.15725059523555834,
          0.20403175525934233,
          -0.10228075446346539,
          -0.45075758084417217,
          0.23398092630605663,
          0.7020994443457834,
          -1.372013643107886,
          -0.830234550415995,
          1.0471754048685615,
          0.2791516597674779,
          0.8073438839758672,
          -1.1840786596386352,
          -1.2438633167946165,
          0.6711553346045185,
          -1.05947273041682,
          -0.21268450772722713,
          -0.7716616231268543,
          -0.6618813607239717,
          -0.7691251660875101
         ]
        },
        {
         "boxpoints": false,
         "line": {
          "width": 1.3
         },
         "marker": {
          "color": "rgba(55, 128, 191, 1.0)"
         },
         "name": "B",
         "orientation": "v",
         "type": "box",
         "y": [
          0.5322209261277865,
          -0.3400805111723466,
          1.1360868917232188,
          -0.382712079815374,
          -0.0882949780014785,
          -0.0035050460034809156,
          1.2200036262631462,
          0.20708725596394534,
          0.24518777378961107,
          -0.9614960463159214,
          -0.18007055388579998,
          1.693862038729409,
          0.6880732306303996,
          -1.2237783345460118,
          1.5778919118755526,
          -0.9399074605700591,
          0.6502179718500561,
          0.13984189631979266,
          0.3902474711235353,
          0.79574378145543,
          -0.3187089447730361,
          1.7756327287360203,
          0.11176970117547803,
          1.1026687785809492,
          1.2655186137877001,
          2.631604659518769,
          0.38632232634692665,
          0.3918662734991667,
          -0.10269538819221184,
          2.1050347354372656,
          -0.14728435081334065,
          1.5928813916980802,
          -0.5640139867574012,
          -0.7625416520561131,
          0.6299238973321293,
          1.5259003230423187,
          0.4556062123964385,
          -0.2699051707997322,
          1.023416758001027,
          0.8544257864781147,
          -0.2113121282276364,
          -0.9889838291299777,
          0.6101685589425011,
          0.01886452624200072,
          -0.9135960987704975,
          -0.01725436138227997,
          -0.7802532086851106,
          -0.37672890325294733,
          -2.152350636544527,
          -1.1683993670480606,
          1.263532324992662,
          0.312038748908657,
          0.7780507500386404,
          0.041471470158138804,
          -0.6020767411671846,
          0.6249868830012129,
          0.5405277670128545,
          -1.1176579751594906,
          -1.433072594514869,
          1.8835573786822821,
          1.2676267128436596,
          0.18179383715069097,
          -0.6708996716626628,
          -0.8696775484368037,
          0.1348973926892778,
          0.12074046939337874,
          -0.4243922156902889,
          0.346367856345538,
          1.0526808565699703,
          -0.9373139607993218,
          -0.4420468917330237,
          0.585751073752487,
          -0.22025857587135528,
          0.48580639571538037,
          1.1910452374445943,
          -0.8409995659483239,
          1.2713211278296752,
          0.6122183465394152,
          -0.3626153112574866,
          -0.9046816910222284,
          1.492899576359809,
          -0.19437622093277626,
          -0.17496285589028385,
          1.1661687648674532,
          -0.702440894291958,
          -0.9991504450455196,
          1.015268304294555,
          -0.41527919626977905,
          1.286684649424407,
          1.0739953772854123,
          -0.5703063513870817,
          1.039240915811815,
          0.8877143919613583,
          0.864296717575613,
          -0.26344490511936275,
          0.2117153057332679,
          -1.5890334789342004,
          1.1071474916095139,
          0.04231235469678529,
          -0.5264821907576022
         ]
        },
        {
         "boxpoints": false,
         "line": {
          "width": 1.3
         },
         "marker": {
          "color": "rgba(50, 171, 96, 1.0)"
         },
         "name": "C",
         "orientation": "v",
         "type": "box",
         "y": [
          -0.4426627042361103,
          -0.6399050472784629,
          0.07358865068267394,
          -0.3091615362420584,
          -2.1105700846068247,
          -0.6987203494266411,
          1.9987205565156225,
          -0.6497007420309667,
          0.20538307212912799,
          0.8983335644172407,
          0.26287310136750575,
          0.6107851851136252,
          -1.4363662311890355,
          0.36206337951561535,
          -0.2298673448032176,
          0.2265768162296731,
          0.8249414689110565,
          -0.8416150285488005,
          -0.6309024477119458,
          -0.12020366953750442,
          -0.2008317397881813,
          1.3158989235166834,
          -0.47561387029975616,
          0.3692948659360093,
          -0.5097988799863549,
          -0.38238868688924915,
          -1.5443771107613438,
          0.9322307087276408,
          -0.6038157686699996,
          0.10854617372161343,
          0.4078863543497139,
          -0.5974480890593209,
          1.7927302989916816,
          -0.27167329817764774,
          -0.10515729655119894,
          1.5046224508092376,
          1.2765081652015136,
          0.018901514535407556,
          -0.6981007178938509,
          0.2996256016902793,
          2.182783994787281,
          -0.8517021573495922,
          -0.6851326623649174,
          1.503361473348288,
          -0.10553912688797204,
          0.14975795420926277,
          0.49007051098713633,
          1.7947033295356172,
          -0.5715585020270864,
          -0.2381385005439792,
          -0.6997641418699387,
          0.11917893539522223,
          0.06952016281575028,
          0.3275008663147888,
          -0.4215140848008329,
          -0.9496352371350686,
          -1.0980805451800228,
          0.6125067193912569,
          0.1864624725803467,
          -0.15136469674670028,
          2.5960378688935712,
          0.8593240545880897,
          0.9587487407168636,
          0.8607656944499196,
          -0.3765156391993082,
          -1.2186616142210775,
          0.5178747433876127,
          -0.9975677063910462,
          -1.1910852286017317,
          -0.14787487928866896,
          -1.8047146319904626,
          1.4712403371794966,
          -0.06781497409294958,
          -1.34104990666472,
          -0.10306844664005434,
          -0.6344963461811047,
          0.9199220068790146,
          0.5874686040801018,
          0.27268255431433663,
          2.545739441802707,
          0.6586714984006848,
          1.224730402961586,
          -2.7085386943159473,
          0.01301733171174009,
          -0.2629659802082384,
          0.04500540665017078,
          -1.7927350814706264,
          0.44346558844281037,
          -0.36485627916302865,
          1.8799723626101896,
          0.6079096307392652,
          -0.810251652556461,
          0.28478379146553534,
          1.364369493564619,
          -0.6796767191131572,
          0.4878983532993825,
          -0.9801955125025105,
          1.3857556767911223,
          0.7150505765825546,
          2.380938657712917
         ]
        },
        {
         "boxpoints": false,
         "line": {
          "width": 1.3
         },
         "marker": {
          "color": "rgba(128, 0, 128, 1.0)"
         },
         "name": "D",
         "orientation": "v",
         "type": "box",
         "y": [
          -0.21411274271333836,
          0.3713237974686019,
          1.0182433694657855,
          -0.9809308780644594,
          0.11681415896180601,
          0.056113925932592144,
          1.038143121639036,
          -0.3092977150883147,
          -0.5433729141065714,
          -1.3196508208765234,
          -0.25708061763812173,
          0.0037782350897909234,
          -0.2662763824170066,
          0.0768552484861571,
          -0.9055776501046975,
          -1.0036356624024152,
          -2.97083366912784,
          0.6983562301131403,
          -0.21374284452706516,
          0.8684627325918218,
          -0.1861796533340893,
          0.8116072183269627,
          0.2479167382445622,
          -1.6149889045131847,
          1.1122405866650933,
          -0.035202215333426747,
          0.9464088148430557,
          -2.06551088435252,
          1.8003719420270903,
          1.3589645300664823,
          2.813029349767026,
          -1.0659002960154034,
          -1.144289714564388,
          -0.24400458589547835,
          0.07156212349079402,
          2.6239711417649914,
          0.7262306311124471,
          -2.0178252387141296,
          0.9910007039302287,
          -0.52634820628823,
          1.502801479836207,
          -2.5371826122745182,
          0.46687136410253677,
          0.3188656785987697,
          0.7699121598333447,
          0.15187763606796495,
          0.2793597819924499,
          1.3263442544398758,
          -0.7936811937701996,
          -0.15393616151120165,
          0.05520688739259033,
          -1.8565385606752336,
          -0.32172545332466196,
          0.5038075164847766,
          -1.9177966894565226,
          0.9632920973705353,
          1.3563311373052924,
          0.34447531381624724,
          -0.4413867171527908,
          -0.956840945349693,
          -0.3893814338755863,
          -1.1579619966744505,
          -0.8886867830976829,
          -1.5514639240822634,
          -1.2843476076274045,
          1.256439946960209,
          0.4571796955089669,
          -0.6352941465719506,
          -0.01840227830138182,
          0.012149583965205024,
          -0.7139596600384576,
          -2.2073603980461756,
          -0.3769142907166705,
          -1.1530851450231299,
          0.6545482159160557,
          -1.419920770287892,
          0.7929584155525694,
          0.9508711081337505,
          0.6127102026962786,
          0.05790749951701337,
          -0.4669327658980801,
          -0.06445765660094958,
          0.08303432679820061,
          0.7832095356792245,
          0.29008929899966,
          0.9489372515059938,
          -1.8221105051652147,
          0.25122468116482677,
          -0.688314804778081,
          1.090724486112609,
          -0.5553079114238013,
          0.782352967608839,
          0.21959952494655974,
          -0.7372885183735969,
          0.8495989359274342,
          0.9781385987871037,
          1.229655208571755,
          1.3868570877160415,
          0.8665666205235594,
          1.6780863864864783
         ]
        }
       ],
       "layout": {
        "legend": {
         "bgcolor": "#F5F6F9",
         "font": {
          "color": "#4D5663"
         }
        },
        "paper_bgcolor": "#F5F6F9",
        "plot_bgcolor": "#F5F6F9",
        "template": {
         "data": {
          "bar": [
           {
            "error_x": {
             "color": "#2a3f5f"
            },
            "error_y": {
             "color": "#2a3f5f"
            },
            "marker": {
             "line": {
              "color": "#E5ECF6",
              "width": 0.5
             }
            },
            "type": "bar"
           }
          ],
          "barpolar": [
           {
            "marker": {
             "line": {
              "color": "#E5ECF6",
              "width": 0.5
             }
            },
            "type": "barpolar"
           }
          ],
          "carpet": [
           {
            "aaxis": {
             "endlinecolor": "#2a3f5f",
             "gridcolor": "white",
             "linecolor": "white",
             "minorgridcolor": "white",
             "startlinecolor": "#2a3f5f"
            },
            "baxis": {
             "endlinecolor": "#2a3f5f",
             "gridcolor": "white",
             "linecolor": "white",
             "minorgridcolor": "white",
             "startlinecolor": "#2a3f5f"
            },
            "type": "carpet"
           }
          ],
          "choropleth": [
           {
            "colorbar": {
             "outlinewidth": 0,
             "ticks": ""
            },
            "type": "choropleth"
           }
          ],
          "contour": [
           {
            "colorbar": {
             "outlinewidth": 0,
             "ticks": ""
            },
            "colorscale": [
             [
              0,
              "#0d0887"
             ],
             [
              0.1111111111111111,
              "#46039f"
             ],
             [
              0.2222222222222222,
              "#7201a8"
             ],
             [
              0.3333333333333333,
              "#9c179e"
             ],
             [
              0.4444444444444444,
              "#bd3786"
             ],
             [
              0.5555555555555556,
              "#d8576b"
             ],
             [
              0.6666666666666666,
              "#ed7953"
             ],
             [
              0.7777777777777778,
              "#fb9f3a"
             ],
             [
              0.8888888888888888,
              "#fdca26"
             ],
             [
              1,
              "#f0f921"
             ]
            ],
            "type": "contour"
           }
          ],
          "contourcarpet": [
           {
            "colorbar": {
             "outlinewidth": 0,
             "ticks": ""
            },
            "type": "contourcarpet"
           }
          ],
          "heatmap": [
           {
            "colorbar": {
             "outlinewidth": 0,
             "ticks": ""
            },
            "colorscale": [
             [
              0,
              "#0d0887"
             ],
             [
              0.1111111111111111,
              "#46039f"
             ],
             [
              0.2222222222222222,
              "#7201a8"
             ],
             [
              0.3333333333333333,
              "#9c179e"
             ],
             [
              0.4444444444444444,
              "#bd3786"
             ],
             [
              0.5555555555555556,
              "#d8576b"
             ],
             [
              0.6666666666666666,
              "#ed7953"
             ],
             [
              0.7777777777777778,
              "#fb9f3a"
             ],
             [
              0.8888888888888888,
              "#fdca26"
             ],
             [
              1,
              "#f0f921"
             ]
            ],
            "type": "heatmap"
           }
          ],
          "heatmapgl": [
           {
            "colorbar": {
             "outlinewidth": 0,
             "ticks": ""
            },
            "colorscale": [
             [
              0,
              "#0d0887"
             ],
             [
              0.1111111111111111,
              "#46039f"
             ],
             [
              0.2222222222222222,
              "#7201a8"
             ],
             [
              0.3333333333333333,
              "#9c179e"
             ],
             [
              0.4444444444444444,
              "#bd3786"
             ],
             [
              0.5555555555555556,
              "#d8576b"
             ],
             [
              0.6666666666666666,
              "#ed7953"
             ],
             [
              0.7777777777777778,
              "#fb9f3a"
             ],
             [
              0.8888888888888888,
              "#fdca26"
             ],
             [
              1,
              "#f0f921"
             ]
            ],
            "type": "heatmapgl"
           }
          ],
          "histogram": [
           {
            "marker": {
             "colorbar": {
              "outlinewidth": 0,
              "ticks": ""
             }
            },
            "type": "histogram"
           }
          ],
          "histogram2d": [
           {
            "colorbar": {
             "outlinewidth": 0,
             "ticks": ""
            },
            "colorscale": [
             [
              0,
              "#0d0887"
             ],
             [
              0.1111111111111111,
              "#46039f"
             ],
             [
              0.2222222222222222,
              "#7201a8"
             ],
             [
              0.3333333333333333,
              "#9c179e"
             ],
             [
              0.4444444444444444,
              "#bd3786"
             ],
             [
              0.5555555555555556,
              "#d8576b"
             ],
             [
              0.6666666666666666,
              "#ed7953"
             ],
             [
              0.7777777777777778,
              "#fb9f3a"
             ],
             [
              0.8888888888888888,
              "#fdca26"
             ],
             [
              1,
              "#f0f921"
             ]
            ],
            "type": "histogram2d"
           }
          ],
          "histogram2dcontour": [
           {
            "colorbar": {
             "outlinewidth": 0,
             "ticks": ""
            },
            "colorscale": [
             [
              0,
              "#0d0887"
             ],
             [
              0.1111111111111111,
              "#46039f"
             ],
             [
              0.2222222222222222,
              "#7201a8"
             ],
             [
              0.3333333333333333,
              "#9c179e"
             ],
             [
              0.4444444444444444,
              "#bd3786"
             ],
             [
              0.5555555555555556,
              "#d8576b"
             ],
             [
              0.6666666666666666,
              "#ed7953"
             ],
             [
              0.7777777777777778,
              "#fb9f3a"
             ],
             [
              0.8888888888888888,
              "#fdca26"
             ],
             [
              1,
              "#f0f921"
             ]
            ],
            "type": "histogram2dcontour"
           }
          ],
          "mesh3d": [
           {
            "colorbar": {
             "outlinewidth": 0,
             "ticks": ""
            },
            "type": "mesh3d"
           }
          ],
          "parcoords": [
           {
            "line": {
             "colorbar": {
              "outlinewidth": 0,
              "ticks": ""
             }
            },
            "type": "parcoords"
           }
          ],
          "pie": [
           {
            "automargin": true,
            "type": "pie"
           }
          ],
          "scatter": [
           {
            "marker": {
             "colorbar": {
              "outlinewidth": 0,
              "ticks": ""
             }
            },
            "type": "scatter"
           }
          ],
          "scatter3d": [
           {
            "line": {
             "colorbar": {
              "outlinewidth": 0,
              "ticks": ""
             }
            },
            "marker": {
             "colorbar": {
              "outlinewidth": 0,
              "ticks": ""
             }
            },
            "type": "scatter3d"
           }
          ],
          "scattercarpet": [
           {
            "marker": {
             "colorbar": {
              "outlinewidth": 0,
              "ticks": ""
             }
            },
            "type": "scattercarpet"
           }
          ],
          "scattergeo": [
           {
            "marker": {
             "colorbar": {
              "outlinewidth": 0,
              "ticks": ""
             }
            },
            "type": "scattergeo"
           }
          ],
          "scattergl": [
           {
            "marker": {
             "colorbar": {
              "outlinewidth": 0,
              "ticks": ""
             }
            },
            "type": "scattergl"
           }
          ],
          "scattermapbox": [
           {
            "marker": {
             "colorbar": {
              "outlinewidth": 0,
              "ticks": ""
             }
            },
            "type": "scattermapbox"
           }
          ],
          "scatterpolar": [
           {
            "marker": {
             "colorbar": {
              "outlinewidth": 0,
              "ticks": ""
             }
            },
            "type": "scatterpolar"
           }
          ],
          "scatterpolargl": [
           {
            "marker": {
             "colorbar": {
              "outlinewidth": 0,
              "ticks": ""
             }
            },
            "type": "scatterpolargl"
           }
          ],
          "scatterternary": [
           {
            "marker": {
             "colorbar": {
              "outlinewidth": 0,
              "ticks": ""
             }
            },
            "type": "scatterternary"
           }
          ],
          "surface": [
           {
            "colorbar": {
             "outlinewidth": 0,
             "ticks": ""
            },
            "colorscale": [
             [
              0,
              "#0d0887"
             ],
             [
              0.1111111111111111,
              "#46039f"
             ],
             [
              0.2222222222222222,
              "#7201a8"
             ],
             [
              0.3333333333333333,
              "#9c179e"
             ],
             [
              0.4444444444444444,
              "#bd3786"
             ],
             [
              0.5555555555555556,
              "#d8576b"
             ],
             [
              0.6666666666666666,
              "#ed7953"
             ],
             [
              0.7777777777777778,
              "#fb9f3a"
             ],
             [
              0.8888888888888888,
              "#fdca26"
             ],
             [
              1,
              "#f0f921"
             ]
            ],
            "type": "surface"
           }
          ],
          "table": [
           {
            "cells": {
             "fill": {
              "color": "#EBF0F8"
             },
             "line": {
              "color": "white"
             }
            },
            "header": {
             "fill": {
              "color": "#C8D4E3"
             },
             "line": {
              "color": "white"
             }
            },
            "type": "table"
           }
          ]
         },
         "layout": {
          "annotationdefaults": {
           "arrowcolor": "#2a3f5f",
           "arrowhead": 0,
           "arrowwidth": 1
          },
          "coloraxis": {
           "colorbar": {
            "outlinewidth": 0,
            "ticks": ""
           }
          },
          "colorscale": {
           "diverging": [
            [
             0,
             "#8e0152"
            ],
            [
             0.1,
             "#c51b7d"
            ],
            [
             0.2,
             "#de77ae"
            ],
            [
             0.3,
             "#f1b6da"
            ],
            [
             0.4,
             "#fde0ef"
            ],
            [
             0.5,
             "#f7f7f7"
            ],
            [
             0.6,
             "#e6f5d0"
            ],
            [
             0.7,
             "#b8e186"
            ],
            [
             0.8,
             "#7fbc41"
            ],
            [
             0.9,
             "#4d9221"
            ],
            [
             1,
             "#276419"
            ]
           ],
           "sequential": [
            [
             0,
             "#0d0887"
            ],
            [
             0.1111111111111111,
             "#46039f"
            ],
            [
             0.2222222222222222,
             "#7201a8"
            ],
            [
             0.3333333333333333,
             "#9c179e"
            ],
            [
             0.4444444444444444,
             "#bd3786"
            ],
            [
             0.5555555555555556,
             "#d8576b"
            ],
            [
             0.6666666666666666,
             "#ed7953"
            ],
            [
             0.7777777777777778,
             "#fb9f3a"
            ],
            [
             0.8888888888888888,
             "#fdca26"
            ],
            [
             1,
             "#f0f921"
            ]
           ],
           "sequentialminus": [
            [
             0,
             "#0d0887"
            ],
            [
             0.1111111111111111,
             "#46039f"
            ],
            [
             0.2222222222222222,
             "#7201a8"
            ],
            [
             0.3333333333333333,
             "#9c179e"
            ],
            [
             0.4444444444444444,
             "#bd3786"
            ],
            [
             0.5555555555555556,
             "#d8576b"
            ],
            [
             0.6666666666666666,
             "#ed7953"
            ],
            [
             0.7777777777777778,
             "#fb9f3a"
            ],
            [
             0.8888888888888888,
             "#fdca26"
            ],
            [
             1,
             "#f0f921"
            ]
           ]
          },
          "colorway": [
           "#636efa",
           "#EF553B",
           "#00cc96",
           "#ab63fa",
           "#FFA15A",
           "#19d3f3",
           "#FF6692",
           "#B6E880",
           "#FF97FF",
           "#FECB52"
          ],
          "font": {
           "color": "#2a3f5f"
          },
          "geo": {
           "bgcolor": "white",
           "lakecolor": "white",
           "landcolor": "#E5ECF6",
           "showlakes": true,
           "showland": true,
           "subunitcolor": "white"
          },
          "hoverlabel": {
           "align": "left"
          },
          "hovermode": "closest",
          "mapbox": {
           "style": "light"
          },
          "paper_bgcolor": "white",
          "plot_bgcolor": "#E5ECF6",
          "polar": {
           "angularaxis": {
            "gridcolor": "white",
            "linecolor": "white",
            "ticks": ""
           },
           "bgcolor": "#E5ECF6",
           "radialaxis": {
            "gridcolor": "white",
            "linecolor": "white",
            "ticks": ""
           }
          },
          "scene": {
           "xaxis": {
            "backgroundcolor": "#E5ECF6",
            "gridcolor": "white",
            "gridwidth": 2,
            "linecolor": "white",
            "showbackground": true,
            "ticks": "",
            "zerolinecolor": "white"
           },
           "yaxis": {
            "backgroundcolor": "#E5ECF6",
            "gridcolor": "white",
            "gridwidth": 2,
            "linecolor": "white",
            "showbackground": true,
            "ticks": "",
            "zerolinecolor": "white"
           },
           "zaxis": {
            "backgroundcolor": "#E5ECF6",
            "gridcolor": "white",
            "gridwidth": 2,
            "linecolor": "white",
            "showbackground": true,
            "ticks": "",
            "zerolinecolor": "white"
           }
          },
          "shapedefaults": {
           "line": {
            "color": "#2a3f5f"
           }
          },
          "ternary": {
           "aaxis": {
            "gridcolor": "white",
            "linecolor": "white",
            "ticks": ""
           },
           "baxis": {
            "gridcolor": "white",
            "linecolor": "white",
            "ticks": ""
           },
           "bgcolor": "#E5ECF6",
           "caxis": {
            "gridcolor": "white",
            "linecolor": "white",
            "ticks": ""
           }
          },
          "title": {
           "x": 0.05
          },
          "xaxis": {
           "automargin": true,
           "gridcolor": "white",
           "linecolor": "white",
           "ticks": "",
           "title": {
            "standoff": 15
           },
           "zerolinecolor": "white",
           "zerolinewidth": 2
          },
          "yaxis": {
           "automargin": true,
           "gridcolor": "white",
           "linecolor": "white",
           "ticks": "",
           "title": {
            "standoff": 15
           },
           "zerolinecolor": "white",
           "zerolinewidth": 2
          }
         }
        },
        "title": {
         "font": {
          "color": "#4D5663"
         }
        },
        "xaxis": {
         "gridcolor": "#E1E5ED",
         "showgrid": true,
         "tickfont": {
          "color": "#4D5663"
         },
         "title": {
          "font": {
           "color": "#4D5663"
          },
          "text": ""
         },
         "zerolinecolor": "#E1E5ED"
        },
        "yaxis": {
         "gridcolor": "#E1E5ED",
         "showgrid": true,
         "tickfont": {
          "color": "#4D5663"
         },
         "title": {
          "font": {
           "color": "#4D5663"
          },
          "text": ""
         },
         "zerolinecolor": "#E1E5ED"
        }
       }
      },
      "text/html": [
       "<div>\n",
       "        \n",
       "        \n",
       "            <div id=\"04e68bbf-340f-4fa2-afe6-1feec08b9596\" class=\"plotly-graph-div\" style=\"height:525px; width:100%;\"></div>\n",
       "            <script type=\"text/javascript\">\n",
       "                require([\"plotly\"], function(Plotly) {\n",
       "                    window.PLOTLYENV=window.PLOTLYENV || {};\n",
       "                    window.PLOTLYENV.BASE_URL='https://plot.ly';\n",
       "                    \n",
       "                if (document.getElementById(\"04e68bbf-340f-4fa2-afe6-1feec08b9596\")) {\n",
       "                    Plotly.newPlot(\n",
       "                        '04e68bbf-340f-4fa2-afe6-1feec08b9596',\n",
       "                        [{\"boxpoints\": false, \"line\": {\"width\": 1.3}, \"marker\": {\"color\": \"rgba(255, 153, 51, 1.0)\"}, \"name\": \"A\", \"orientation\": \"v\", \"type\": \"box\", \"y\": [-1.316509150580487, 0.6567439213089783, -1.2117246351490527, -0.7795197648889394, -1.3086898864866376, 1.1530168155654092, 0.13998590336540567, -0.11056327817001697, 1.7537011117105172, 0.8810323955893713, 0.10541010497618351, 1.011575063785946, 2.1228749009656473, -0.3075112722036564, 1.038681885646689, -0.6319853146199059, 2.2189715728894632, -1.4770145042427665, -0.153470368878263, -0.18727900695016553, 1.9078574381220432, 1.0499974193565844, 0.46542902797864877, -0.6260746672943875, -0.03689923737424436, -1.0944391791639074, 1.2481303879716057, 0.09959660652843288, 0.057031069351861356, -1.4176608242708042, 0.27913325253238075, 0.8782737897274759, -3.3361675913751814, -0.3611118893203861, 0.9042067738977311, 1.0392994720741469, 0.3020476385379728, -1.10241740023384, 0.6679332094321817, 0.2603822989676794, 0.45894985553075557, -0.011014647071094298, -1.2018062699942935, -1.288958573508946, -0.6602935547316192, 0.559523528635203, 0.9105335102135964, 0.9007433046119707, -0.8788546818988332, 1.2187402667118685, -0.3162671648927026, 0.9555369947525019, 0.8331485196348947, 0.5643353781041094, 0.9456632663673213, -0.16924653010990728, -2.8385553526488563, 0.4385338754031157, 2.050375616692176, -0.5957780568198906, -0.6391337028422326, 0.04999693554916875, -0.9905604339917498, 0.7126128257249994, 1.623879844150366, 0.7439398470037102, -1.4338603239722083, 0.4223377380195463, 0.7047789877639619, 1.2997906440556526, 1.1377795006181677, -0.37982037981568656, -0.8183289865038762, 2.1150365234629778, -1.6315774177580455, 1.557670994327429, 0.27435834635581113, -0.2020660134299496, 0.6622294003232192, -0.7507187976400996, 1.6841078411643216, 0.15725059523555834, 0.20403175525934233, -0.10228075446346539, -0.45075758084417217, 0.23398092630605663, 0.7020994443457834, -1.372013643107886, -0.830234550415995, 1.0471754048685615, 0.2791516597674779, 0.8073438839758672, -1.1840786596386352, -1.2438633167946165, 0.6711553346045185, -1.05947273041682, -0.21268450772722713, -0.7716616231268543, -0.6618813607239717, -0.7691251660875101]}, {\"boxpoints\": false, \"line\": {\"width\": 1.3}, \"marker\": {\"color\": \"rgba(55, 128, 191, 1.0)\"}, \"name\": \"B\", \"orientation\": \"v\", \"type\": \"box\", \"y\": [0.5322209261277865, -0.3400805111723466, 1.1360868917232188, -0.382712079815374, -0.0882949780014785, -0.0035050460034809156, 1.2200036262631462, 0.20708725596394534, 0.24518777378961107, -0.9614960463159214, -0.18007055388579998, 1.693862038729409, 0.6880732306303996, -1.2237783345460118, 1.5778919118755526, -0.9399074605700591, 0.6502179718500561, 0.13984189631979266, 0.3902474711235353, 0.79574378145543, -0.3187089447730361, 1.7756327287360203, 0.11176970117547803, 1.1026687785809492, 1.2655186137877001, 2.631604659518769, 0.38632232634692665, 0.3918662734991667, -0.10269538819221184, 2.1050347354372656, -0.14728435081334065, 1.5928813916980802, -0.5640139867574012, -0.7625416520561131, 0.6299238973321293, 1.5259003230423187, 0.4556062123964385, -0.2699051707997322, 1.023416758001027, 0.8544257864781147, -0.2113121282276364, -0.9889838291299777, 0.6101685589425011, 0.01886452624200072, -0.9135960987704975, -0.01725436138227997, -0.7802532086851106, -0.37672890325294733, -2.152350636544527, -1.1683993670480606, 1.263532324992662, 0.312038748908657, 0.7780507500386404, 0.041471470158138804, -0.6020767411671846, 0.6249868830012129, 0.5405277670128545, -1.1176579751594906, -1.433072594514869, 1.8835573786822821, 1.2676267128436596, 0.18179383715069097, -0.6708996716626628, -0.8696775484368037, 0.1348973926892778, 0.12074046939337874, -0.4243922156902889, 0.346367856345538, 1.0526808565699703, -0.9373139607993218, -0.4420468917330237, 0.585751073752487, -0.22025857587135528, 0.48580639571538037, 1.1910452374445943, -0.8409995659483239, 1.2713211278296752, 0.6122183465394152, -0.3626153112574866, -0.9046816910222284, 1.492899576359809, -0.19437622093277626, -0.17496285589028385, 1.1661687648674532, -0.702440894291958, -0.9991504450455196, 1.015268304294555, -0.41527919626977905, 1.286684649424407, 1.0739953772854123, -0.5703063513870817, 1.039240915811815, 0.8877143919613583, 0.864296717575613, -0.26344490511936275, 0.2117153057332679, -1.5890334789342004, 1.1071474916095139, 0.04231235469678529, -0.5264821907576022]}, {\"boxpoints\": false, \"line\": {\"width\": 1.3}, \"marker\": {\"color\": \"rgba(50, 171, 96, 1.0)\"}, \"name\": \"C\", \"orientation\": \"v\", \"type\": \"box\", \"y\": [-0.4426627042361103, -0.6399050472784629, 0.07358865068267394, -0.3091615362420584, -2.1105700846068247, -0.6987203494266411, 1.9987205565156225, -0.6497007420309667, 0.20538307212912799, 0.8983335644172407, 0.26287310136750575, 0.6107851851136252, -1.4363662311890355, 0.36206337951561535, -0.2298673448032176, 0.2265768162296731, 0.8249414689110565, -0.8416150285488005, -0.6309024477119458, -0.12020366953750442, -0.2008317397881813, 1.3158989235166834, -0.47561387029975616, 0.3692948659360093, -0.5097988799863549, -0.38238868688924915, -1.5443771107613438, 0.9322307087276408, -0.6038157686699996, 0.10854617372161343, 0.4078863543497139, -0.5974480890593209, 1.7927302989916816, -0.27167329817764774, -0.10515729655119894, 1.5046224508092376, 1.2765081652015136, 0.018901514535407556, -0.6981007178938509, 0.2996256016902793, 2.182783994787281, -0.8517021573495922, -0.6851326623649174, 1.503361473348288, -0.10553912688797204, 0.14975795420926277, 0.49007051098713633, 1.7947033295356172, -0.5715585020270864, -0.2381385005439792, -0.6997641418699387, 0.11917893539522223, 0.06952016281575028, 0.3275008663147888, -0.4215140848008329, -0.9496352371350686, -1.0980805451800228, 0.6125067193912569, 0.1864624725803467, -0.15136469674670028, 2.5960378688935712, 0.8593240545880897, 0.9587487407168636, 0.8607656944499196, -0.3765156391993082, -1.2186616142210775, 0.5178747433876127, -0.9975677063910462, -1.1910852286017317, -0.14787487928866896, -1.8047146319904626, 1.4712403371794966, -0.06781497409294958, -1.34104990666472, -0.10306844664005434, -0.6344963461811047, 0.9199220068790146, 0.5874686040801018, 0.27268255431433663, 2.545739441802707, 0.6586714984006848, 1.224730402961586, -2.7085386943159473, 0.01301733171174009, -0.2629659802082384, 0.04500540665017078, -1.7927350814706264, 0.44346558844281037, -0.36485627916302865, 1.8799723626101896, 0.6079096307392652, -0.810251652556461, 0.28478379146553534, 1.364369493564619, -0.6796767191131572, 0.4878983532993825, -0.9801955125025105, 1.3857556767911223, 0.7150505765825546, 2.380938657712917]}, {\"boxpoints\": false, \"line\": {\"width\": 1.3}, \"marker\": {\"color\": \"rgba(128, 0, 128, 1.0)\"}, \"name\": \"D\", \"orientation\": \"v\", \"type\": \"box\", \"y\": [-0.21411274271333836, 0.3713237974686019, 1.0182433694657855, -0.9809308780644594, 0.11681415896180601, 0.056113925932592144, 1.038143121639036, -0.3092977150883147, -0.5433729141065714, -1.3196508208765234, -0.25708061763812173, 0.0037782350897909234, -0.2662763824170066, 0.0768552484861571, -0.9055776501046975, -1.0036356624024152, -2.97083366912784, 0.6983562301131403, -0.21374284452706516, 0.8684627325918218, -0.1861796533340893, 0.8116072183269627, 0.2479167382445622, -1.6149889045131847, 1.1122405866650933, -0.035202215333426747, 0.9464088148430557, -2.06551088435252, 1.8003719420270903, 1.3589645300664823, 2.813029349767026, -1.0659002960154034, -1.144289714564388, -0.24400458589547835, 0.07156212349079402, 2.6239711417649914, 0.7262306311124471, -2.0178252387141296, 0.9910007039302287, -0.52634820628823, 1.502801479836207, -2.5371826122745182, 0.46687136410253677, 0.3188656785987697, 0.7699121598333447, 0.15187763606796495, 0.2793597819924499, 1.3263442544398758, -0.7936811937701996, -0.15393616151120165, 0.05520688739259033, -1.8565385606752336, -0.32172545332466196, 0.5038075164847766, -1.9177966894565226, 0.9632920973705353, 1.3563311373052924, 0.34447531381624724, -0.4413867171527908, -0.956840945349693, -0.3893814338755863, -1.1579619966744505, -0.8886867830976829, -1.5514639240822634, -1.2843476076274045, 1.256439946960209, 0.4571796955089669, -0.6352941465719506, -0.01840227830138182, 0.012149583965205024, -0.7139596600384576, -2.2073603980461756, -0.3769142907166705, -1.1530851450231299, 0.6545482159160557, -1.419920770287892, 0.7929584155525694, 0.9508711081337505, 0.6127102026962786, 0.05790749951701337, -0.4669327658980801, -0.06445765660094958, 0.08303432679820061, 0.7832095356792245, 0.29008929899966, 0.9489372515059938, -1.8221105051652147, 0.25122468116482677, -0.688314804778081, 1.090724486112609, -0.5553079114238013, 0.782352967608839, 0.21959952494655974, -0.7372885183735969, 0.8495989359274342, 0.9781385987871037, 1.229655208571755, 1.3868570877160415, 0.8665666205235594, 1.6780863864864783]}],\n",
       "                        {\"legend\": {\"bgcolor\": \"#F5F6F9\", \"font\": {\"color\": \"#4D5663\"}}, \"paper_bgcolor\": \"#F5F6F9\", \"plot_bgcolor\": \"#F5F6F9\", \"template\": {\"data\": {\"bar\": [{\"error_x\": {\"color\": \"#2a3f5f\"}, \"error_y\": {\"color\": \"#2a3f5f\"}, \"marker\": {\"line\": {\"color\": \"#E5ECF6\", \"width\": 0.5}}, \"type\": \"bar\"}], \"barpolar\": [{\"marker\": {\"line\": {\"color\": \"#E5ECF6\", \"width\": 0.5}}, \"type\": \"barpolar\"}], \"carpet\": [{\"aaxis\": {\"endlinecolor\": \"#2a3f5f\", \"gridcolor\": \"white\", \"linecolor\": \"white\", \"minorgridcolor\": \"white\", \"startlinecolor\": \"#2a3f5f\"}, \"baxis\": {\"endlinecolor\": \"#2a3f5f\", \"gridcolor\": \"white\", \"linecolor\": \"white\", \"minorgridcolor\": \"white\", \"startlinecolor\": \"#2a3f5f\"}, \"type\": \"carpet\"}], \"choropleth\": [{\"colorbar\": {\"outlinewidth\": 0, \"ticks\": \"\"}, \"type\": \"choropleth\"}], \"contour\": [{\"colorbar\": {\"outlinewidth\": 0, \"ticks\": \"\"}, \"colorscale\": [[0.0, \"#0d0887\"], [0.1111111111111111, \"#46039f\"], [0.2222222222222222, \"#7201a8\"], [0.3333333333333333, \"#9c179e\"], [0.4444444444444444, \"#bd3786\"], [0.5555555555555556, \"#d8576b\"], [0.6666666666666666, \"#ed7953\"], [0.7777777777777778, \"#fb9f3a\"], [0.8888888888888888, \"#fdca26\"], [1.0, \"#f0f921\"]], \"type\": \"contour\"}], \"contourcarpet\": [{\"colorbar\": {\"outlinewidth\": 0, \"ticks\": \"\"}, \"type\": \"contourcarpet\"}], \"heatmap\": [{\"colorbar\": {\"outlinewidth\": 0, \"ticks\": \"\"}, \"colorscale\": [[0.0, \"#0d0887\"], [0.1111111111111111, \"#46039f\"], [0.2222222222222222, \"#7201a8\"], [0.3333333333333333, \"#9c179e\"], [0.4444444444444444, \"#bd3786\"], [0.5555555555555556, \"#d8576b\"], [0.6666666666666666, \"#ed7953\"], [0.7777777777777778, \"#fb9f3a\"], [0.8888888888888888, \"#fdca26\"], [1.0, \"#f0f921\"]], \"type\": \"heatmap\"}], \"heatmapgl\": [{\"colorbar\": {\"outlinewidth\": 0, \"ticks\": \"\"}, \"colorscale\": [[0.0, \"#0d0887\"], [0.1111111111111111, \"#46039f\"], [0.2222222222222222, \"#7201a8\"], [0.3333333333333333, \"#9c179e\"], [0.4444444444444444, \"#bd3786\"], [0.5555555555555556, \"#d8576b\"], [0.6666666666666666, \"#ed7953\"], [0.7777777777777778, \"#fb9f3a\"], [0.8888888888888888, \"#fdca26\"], [1.0, \"#f0f921\"]], \"type\": \"heatmapgl\"}], \"histogram\": [{\"marker\": {\"colorbar\": {\"outlinewidth\": 0, \"ticks\": \"\"}}, \"type\": \"histogram\"}], \"histogram2d\": [{\"colorbar\": {\"outlinewidth\": 0, \"ticks\": \"\"}, \"colorscale\": [[0.0, \"#0d0887\"], [0.1111111111111111, \"#46039f\"], [0.2222222222222222, \"#7201a8\"], [0.3333333333333333, \"#9c179e\"], [0.4444444444444444, \"#bd3786\"], [0.5555555555555556, \"#d8576b\"], [0.6666666666666666, \"#ed7953\"], [0.7777777777777778, \"#fb9f3a\"], [0.8888888888888888, \"#fdca26\"], [1.0, \"#f0f921\"]], \"type\": \"histogram2d\"}], \"histogram2dcontour\": [{\"colorbar\": {\"outlinewidth\": 0, \"ticks\": \"\"}, \"colorscale\": [[0.0, \"#0d0887\"], [0.1111111111111111, \"#46039f\"], [0.2222222222222222, \"#7201a8\"], [0.3333333333333333, \"#9c179e\"], [0.4444444444444444, \"#bd3786\"], [0.5555555555555556, \"#d8576b\"], [0.6666666666666666, \"#ed7953\"], [0.7777777777777778, \"#fb9f3a\"], [0.8888888888888888, \"#fdca26\"], [1.0, \"#f0f921\"]], \"type\": \"histogram2dcontour\"}], \"mesh3d\": [{\"colorbar\": {\"outlinewidth\": 0, \"ticks\": \"\"}, \"type\": \"mesh3d\"}], \"parcoords\": [{\"line\": {\"colorbar\": {\"outlinewidth\": 0, \"ticks\": \"\"}}, \"type\": \"parcoords\"}], \"pie\": [{\"automargin\": true, \"type\": \"pie\"}], \"scatter\": [{\"marker\": {\"colorbar\": {\"outlinewidth\": 0, \"ticks\": \"\"}}, \"type\": \"scatter\"}], \"scatter3d\": [{\"line\": {\"colorbar\": {\"outlinewidth\": 0, \"ticks\": \"\"}}, \"marker\": {\"colorbar\": {\"outlinewidth\": 0, \"ticks\": \"\"}}, \"type\": \"scatter3d\"}], \"scattercarpet\": [{\"marker\": {\"colorbar\": {\"outlinewidth\": 0, \"ticks\": \"\"}}, \"type\": \"scattercarpet\"}], \"scattergeo\": [{\"marker\": {\"colorbar\": {\"outlinewidth\": 0, \"ticks\": \"\"}}, \"type\": \"scattergeo\"}], \"scattergl\": [{\"marker\": {\"colorbar\": {\"outlinewidth\": 0, \"ticks\": \"\"}}, \"type\": \"scattergl\"}], \"scattermapbox\": [{\"marker\": {\"colorbar\": {\"outlinewidth\": 0, \"ticks\": \"\"}}, \"type\": \"scattermapbox\"}], \"scatterpolar\": [{\"marker\": {\"colorbar\": {\"outlinewidth\": 0, \"ticks\": \"\"}}, \"type\": \"scatterpolar\"}], \"scatterpolargl\": [{\"marker\": {\"colorbar\": {\"outlinewidth\": 0, \"ticks\": \"\"}}, \"type\": \"scatterpolargl\"}], \"scatterternary\": [{\"marker\": {\"colorbar\": {\"outlinewidth\": 0, \"ticks\": \"\"}}, \"type\": \"scatterternary\"}], \"surface\": [{\"colorbar\": {\"outlinewidth\": 0, \"ticks\": \"\"}, \"colorscale\": [[0.0, \"#0d0887\"], [0.1111111111111111, \"#46039f\"], [0.2222222222222222, \"#7201a8\"], [0.3333333333333333, \"#9c179e\"], [0.4444444444444444, \"#bd3786\"], [0.5555555555555556, \"#d8576b\"], [0.6666666666666666, \"#ed7953\"], [0.7777777777777778, \"#fb9f3a\"], [0.8888888888888888, \"#fdca26\"], [1.0, \"#f0f921\"]], \"type\": \"surface\"}], \"table\": [{\"cells\": {\"fill\": {\"color\": \"#EBF0F8\"}, \"line\": {\"color\": \"white\"}}, \"header\": {\"fill\": {\"color\": \"#C8D4E3\"}, \"line\": {\"color\": \"white\"}}, \"type\": \"table\"}]}, \"layout\": {\"annotationdefaults\": {\"arrowcolor\": \"#2a3f5f\", \"arrowhead\": 0, \"arrowwidth\": 1}, \"coloraxis\": {\"colorbar\": {\"outlinewidth\": 0, \"ticks\": \"\"}}, \"colorscale\": {\"diverging\": [[0, \"#8e0152\"], [0.1, \"#c51b7d\"], [0.2, \"#de77ae\"], [0.3, \"#f1b6da\"], [0.4, \"#fde0ef\"], [0.5, \"#f7f7f7\"], [0.6, \"#e6f5d0\"], [0.7, \"#b8e186\"], [0.8, \"#7fbc41\"], [0.9, \"#4d9221\"], [1, \"#276419\"]], \"sequential\": [[0.0, \"#0d0887\"], [0.1111111111111111, \"#46039f\"], [0.2222222222222222, \"#7201a8\"], [0.3333333333333333, \"#9c179e\"], [0.4444444444444444, \"#bd3786\"], [0.5555555555555556, \"#d8576b\"], [0.6666666666666666, \"#ed7953\"], [0.7777777777777778, \"#fb9f3a\"], [0.8888888888888888, \"#fdca26\"], [1.0, \"#f0f921\"]], \"sequentialminus\": [[0.0, \"#0d0887\"], [0.1111111111111111, \"#46039f\"], [0.2222222222222222, \"#7201a8\"], [0.3333333333333333, \"#9c179e\"], [0.4444444444444444, \"#bd3786\"], [0.5555555555555556, \"#d8576b\"], [0.6666666666666666, \"#ed7953\"], [0.7777777777777778, \"#fb9f3a\"], [0.8888888888888888, \"#fdca26\"], [1.0, \"#f0f921\"]]}, \"colorway\": [\"#636efa\", \"#EF553B\", \"#00cc96\", \"#ab63fa\", \"#FFA15A\", \"#19d3f3\", \"#FF6692\", \"#B6E880\", \"#FF97FF\", \"#FECB52\"], \"font\": {\"color\": \"#2a3f5f\"}, \"geo\": {\"bgcolor\": \"white\", \"lakecolor\": \"white\", \"landcolor\": \"#E5ECF6\", \"showlakes\": true, \"showland\": true, \"subunitcolor\": \"white\"}, \"hoverlabel\": {\"align\": \"left\"}, \"hovermode\": \"closest\", \"mapbox\": {\"style\": \"light\"}, \"paper_bgcolor\": \"white\", \"plot_bgcolor\": \"#E5ECF6\", \"polar\": {\"angularaxis\": {\"gridcolor\": \"white\", \"linecolor\": \"white\", \"ticks\": \"\"}, \"bgcolor\": \"#E5ECF6\", \"radialaxis\": {\"gridcolor\": \"white\", \"linecolor\": \"white\", \"ticks\": \"\"}}, \"scene\": {\"xaxis\": {\"backgroundcolor\": \"#E5ECF6\", \"gridcolor\": \"white\", \"gridwidth\": 2, \"linecolor\": \"white\", \"showbackground\": true, \"ticks\": \"\", \"zerolinecolor\": \"white\"}, \"yaxis\": {\"backgroundcolor\": \"#E5ECF6\", \"gridcolor\": \"white\", \"gridwidth\": 2, \"linecolor\": \"white\", \"showbackground\": true, \"ticks\": \"\", \"zerolinecolor\": \"white\"}, \"zaxis\": {\"backgroundcolor\": \"#E5ECF6\", \"gridcolor\": \"white\", \"gridwidth\": 2, \"linecolor\": \"white\", \"showbackground\": true, \"ticks\": \"\", \"zerolinecolor\": \"white\"}}, \"shapedefaults\": {\"line\": {\"color\": \"#2a3f5f\"}}, \"ternary\": {\"aaxis\": {\"gridcolor\": \"white\", \"linecolor\": \"white\", \"ticks\": \"\"}, \"baxis\": {\"gridcolor\": \"white\", \"linecolor\": \"white\", \"ticks\": \"\"}, \"bgcolor\": \"#E5ECF6\", \"caxis\": {\"gridcolor\": \"white\", \"linecolor\": \"white\", \"ticks\": \"\"}}, \"title\": {\"x\": 0.05}, \"xaxis\": {\"automargin\": true, \"gridcolor\": \"white\", \"linecolor\": \"white\", \"ticks\": \"\", \"title\": {\"standoff\": 15}, \"zerolinecolor\": \"white\", \"zerolinewidth\": 2}, \"yaxis\": {\"automargin\": true, \"gridcolor\": \"white\", \"linecolor\": \"white\", \"ticks\": \"\", \"title\": {\"standoff\": 15}, \"zerolinecolor\": \"white\", \"zerolinewidth\": 2}}}, \"title\": {\"font\": {\"color\": \"#4D5663\"}}, \"xaxis\": {\"gridcolor\": \"#E1E5ED\", \"showgrid\": true, \"tickfont\": {\"color\": \"#4D5663\"}, \"title\": {\"font\": {\"color\": \"#4D5663\"}, \"text\": \"\"}, \"zerolinecolor\": \"#E1E5ED\"}, \"yaxis\": {\"gridcolor\": \"#E1E5ED\", \"showgrid\": true, \"tickfont\": {\"color\": \"#4D5663\"}, \"title\": {\"font\": {\"color\": \"#4D5663\"}, \"text\": \"\"}, \"zerolinecolor\": \"#E1E5ED\"}},\n",
       "                        {\"showLink\": true, \"linkText\": \"Export to plot.ly\", \"plotlyServerURL\": \"https://plot.ly\", \"responsive\": true}\n",
       "                    ).then(function(){\n",
       "                            \n",
       "var gd = document.getElementById('04e68bbf-340f-4fa2-afe6-1feec08b9596');\n",
       "var x = new MutationObserver(function (mutations, observer) {{\n",
       "        var display = window.getComputedStyle(gd).display;\n",
       "        if (!display || display === 'none') {{\n",
       "            console.log([gd, 'removed!']);\n",
       "            Plotly.purge(gd);\n",
       "            observer.disconnect();\n",
       "        }}\n",
       "}});\n",
       "\n",
       "// Listen for the removal of the full notebook cells\n",
       "var notebookContainer = gd.closest('#notebook-container');\n",
       "if (notebookContainer) {{\n",
       "    x.observe(notebookContainer, {childList: true});\n",
       "}}\n",
       "\n",
       "// Listen for the clearing of the current output cell\n",
       "var outputEl = gd.closest('.output');\n",
       "if (outputEl) {{\n",
       "    x.observe(outputEl, {childList: true});\n",
       "}}\n",
       "\n",
       "                        })\n",
       "                };\n",
       "                });\n",
       "            </script>\n",
       "        </div>"
      ]
     },
     "metadata": {},
     "output_type": "display_data"
    }
   ],
   "source": [
    "df.iplot(kind='box')"
   ]
  },
  {
   "cell_type": "markdown",
   "metadata": {},
   "source": [
    "## 3d Surface"
   ]
  },
  {
   "cell_type": "code",
   "execution_count": 15,
   "metadata": {},
   "outputs": [
    {
     "data": {
      "application/vnd.plotly.v1+json": {
       "config": {
        "linkText": "Export to plot.ly",
        "plotlyServerURL": "https://plot.ly",
        "showLink": true
       },
       "data": [
        {
         "colorscale": [
          [
           0,
           "rgb(165,0,38)"
          ],
          [
           0.1,
           "rgb(215,48,39)"
          ],
          [
           0.2,
           "rgb(244,109,67)"
          ],
          [
           0.3,
           "rgb(253,174,97)"
          ],
          [
           0.4,
           "rgb(254,224,144)"
          ],
          [
           0.5,
           "rgb(255,255,191)"
          ],
          [
           0.6,
           "rgb(224,243,248)"
          ],
          [
           0.7,
           "rgb(171,217,233)"
          ],
          [
           0.8,
           "rgb(116,173,209)"
          ],
          [
           0.9,
           "rgb(69,117,180)"
          ],
          [
           1,
           "rgb(49,54,149)"
          ]
         ],
         "type": "surface",
         "x": [
          0,
          1,
          2,
          3,
          4
         ],
         "y": [
          "x",
          "y",
          "z"
         ],
         "z": [
          [
           1,
           2,
           3,
           4,
           5
          ],
          [
           10,
           20,
           30,
           20,
           10
          ],
          [
           5,
           4,
           3,
           2,
           1
          ]
         ]
        }
       ],
       "layout": {
        "legend": {
         "bgcolor": "#F5F6F9",
         "font": {
          "color": "#4D5663"
         }
        },
        "paper_bgcolor": "#F5F6F9",
        "plot_bgcolor": "#F5F6F9",
        "template": {
         "data": {
          "bar": [
           {
            "error_x": {
             "color": "#2a3f5f"
            },
            "error_y": {
             "color": "#2a3f5f"
            },
            "marker": {
             "line": {
              "color": "#E5ECF6",
              "width": 0.5
             }
            },
            "type": "bar"
           }
          ],
          "barpolar": [
           {
            "marker": {
             "line": {
              "color": "#E5ECF6",
              "width": 0.5
             }
            },
            "type": "barpolar"
           }
          ],
          "carpet": [
           {
            "aaxis": {
             "endlinecolor": "#2a3f5f",
             "gridcolor": "white",
             "linecolor": "white",
             "minorgridcolor": "white",
             "startlinecolor": "#2a3f5f"
            },
            "baxis": {
             "endlinecolor": "#2a3f5f",
             "gridcolor": "white",
             "linecolor": "white",
             "minorgridcolor": "white",
             "startlinecolor": "#2a3f5f"
            },
            "type": "carpet"
           }
          ],
          "choropleth": [
           {
            "colorbar": {
             "outlinewidth": 0,
             "ticks": ""
            },
            "type": "choropleth"
           }
          ],
          "contour": [
           {
            "colorbar": {
             "outlinewidth": 0,
             "ticks": ""
            },
            "colorscale": [
             [
              0,
              "#0d0887"
             ],
             [
              0.1111111111111111,
              "#46039f"
             ],
             [
              0.2222222222222222,
              "#7201a8"
             ],
             [
              0.3333333333333333,
              "#9c179e"
             ],
             [
              0.4444444444444444,
              "#bd3786"
             ],
             [
              0.5555555555555556,
              "#d8576b"
             ],
             [
              0.6666666666666666,
              "#ed7953"
             ],
             [
              0.7777777777777778,
              "#fb9f3a"
             ],
             [
              0.8888888888888888,
              "#fdca26"
             ],
             [
              1,
              "#f0f921"
             ]
            ],
            "type": "contour"
           }
          ],
          "contourcarpet": [
           {
            "colorbar": {
             "outlinewidth": 0,
             "ticks": ""
            },
            "type": "contourcarpet"
           }
          ],
          "heatmap": [
           {
            "colorbar": {
             "outlinewidth": 0,
             "ticks": ""
            },
            "colorscale": [
             [
              0,
              "#0d0887"
             ],
             [
              0.1111111111111111,
              "#46039f"
             ],
             [
              0.2222222222222222,
              "#7201a8"
             ],
             [
              0.3333333333333333,
              "#9c179e"
             ],
             [
              0.4444444444444444,
              "#bd3786"
             ],
             [
              0.5555555555555556,
              "#d8576b"
             ],
             [
              0.6666666666666666,
              "#ed7953"
             ],
             [
              0.7777777777777778,
              "#fb9f3a"
             ],
             [
              0.8888888888888888,
              "#fdca26"
             ],
             [
              1,
              "#f0f921"
             ]
            ],
            "type": "heatmap"
           }
          ],
          "heatmapgl": [
           {
            "colorbar": {
             "outlinewidth": 0,
             "ticks": ""
            },
            "colorscale": [
             [
              0,
              "#0d0887"
             ],
             [
              0.1111111111111111,
              "#46039f"
             ],
             [
              0.2222222222222222,
              "#7201a8"
             ],
             [
              0.3333333333333333,
              "#9c179e"
             ],
             [
              0.4444444444444444,
              "#bd3786"
             ],
             [
              0.5555555555555556,
              "#d8576b"
             ],
             [
              0.6666666666666666,
              "#ed7953"
             ],
             [
              0.7777777777777778,
              "#fb9f3a"
             ],
             [
              0.8888888888888888,
              "#fdca26"
             ],
             [
              1,
              "#f0f921"
             ]
            ],
            "type": "heatmapgl"
           }
          ],
          "histogram": [
           {
            "marker": {
             "colorbar": {
              "outlinewidth": 0,
              "ticks": ""
             }
            },
            "type": "histogram"
           }
          ],
          "histogram2d": [
           {
            "colorbar": {
             "outlinewidth": 0,
             "ticks": ""
            },
            "colorscale": [
             [
              0,
              "#0d0887"
             ],
             [
              0.1111111111111111,
              "#46039f"
             ],
             [
              0.2222222222222222,
              "#7201a8"
             ],
             [
              0.3333333333333333,
              "#9c179e"
             ],
             [
              0.4444444444444444,
              "#bd3786"
             ],
             [
              0.5555555555555556,
              "#d8576b"
             ],
             [
              0.6666666666666666,
              "#ed7953"
             ],
             [
              0.7777777777777778,
              "#fb9f3a"
             ],
             [
              0.8888888888888888,
              "#fdca26"
             ],
             [
              1,
              "#f0f921"
             ]
            ],
            "type": "histogram2d"
           }
          ],
          "histogram2dcontour": [
           {
            "colorbar": {
             "outlinewidth": 0,
             "ticks": ""
            },
            "colorscale": [
             [
              0,
              "#0d0887"
             ],
             [
              0.1111111111111111,
              "#46039f"
             ],
             [
              0.2222222222222222,
              "#7201a8"
             ],
             [
              0.3333333333333333,
              "#9c179e"
             ],
             [
              0.4444444444444444,
              "#bd3786"
             ],
             [
              0.5555555555555556,
              "#d8576b"
             ],
             [
              0.6666666666666666,
              "#ed7953"
             ],
             [
              0.7777777777777778,
              "#fb9f3a"
             ],
             [
              0.8888888888888888,
              "#fdca26"
             ],
             [
              1,
              "#f0f921"
             ]
            ],
            "type": "histogram2dcontour"
           }
          ],
          "mesh3d": [
           {
            "colorbar": {
             "outlinewidth": 0,
             "ticks": ""
            },
            "type": "mesh3d"
           }
          ],
          "parcoords": [
           {
            "line": {
             "colorbar": {
              "outlinewidth": 0,
              "ticks": ""
             }
            },
            "type": "parcoords"
           }
          ],
          "pie": [
           {
            "automargin": true,
            "type": "pie"
           }
          ],
          "scatter": [
           {
            "marker": {
             "colorbar": {
              "outlinewidth": 0,
              "ticks": ""
             }
            },
            "type": "scatter"
           }
          ],
          "scatter3d": [
           {
            "line": {
             "colorbar": {
              "outlinewidth": 0,
              "ticks": ""
             }
            },
            "marker": {
             "colorbar": {
              "outlinewidth": 0,
              "ticks": ""
             }
            },
            "type": "scatter3d"
           }
          ],
          "scattercarpet": [
           {
            "marker": {
             "colorbar": {
              "outlinewidth": 0,
              "ticks": ""
             }
            },
            "type": "scattercarpet"
           }
          ],
          "scattergeo": [
           {
            "marker": {
             "colorbar": {
              "outlinewidth": 0,
              "ticks": ""
             }
            },
            "type": "scattergeo"
           }
          ],
          "scattergl": [
           {
            "marker": {
             "colorbar": {
              "outlinewidth": 0,
              "ticks": ""
             }
            },
            "type": "scattergl"
           }
          ],
          "scattermapbox": [
           {
            "marker": {
             "colorbar": {
              "outlinewidth": 0,
              "ticks": ""
             }
            },
            "type": "scattermapbox"
           }
          ],
          "scatterpolar": [
           {
            "marker": {
             "colorbar": {
              "outlinewidth": 0,
              "ticks": ""
             }
            },
            "type": "scatterpolar"
           }
          ],
          "scatterpolargl": [
           {
            "marker": {
             "colorbar": {
              "outlinewidth": 0,
              "ticks": ""
             }
            },
            "type": "scatterpolargl"
           }
          ],
          "scatterternary": [
           {
            "marker": {
             "colorbar": {
              "outlinewidth": 0,
              "ticks": ""
             }
            },
            "type": "scatterternary"
           }
          ],
          "surface": [
           {
            "colorbar": {
             "outlinewidth": 0,
             "ticks": ""
            },
            "colorscale": [
             [
              0,
              "#0d0887"
             ],
             [
              0.1111111111111111,
              "#46039f"
             ],
             [
              0.2222222222222222,
              "#7201a8"
             ],
             [
              0.3333333333333333,
              "#9c179e"
             ],
             [
              0.4444444444444444,
              "#bd3786"
             ],
             [
              0.5555555555555556,
              "#d8576b"
             ],
             [
              0.6666666666666666,
              "#ed7953"
             ],
             [
              0.7777777777777778,
              "#fb9f3a"
             ],
             [
              0.8888888888888888,
              "#fdca26"
             ],
             [
              1,
              "#f0f921"
             ]
            ],
            "type": "surface"
           }
          ],
          "table": [
           {
            "cells": {
             "fill": {
              "color": "#EBF0F8"
             },
             "line": {
              "color": "white"
             }
            },
            "header": {
             "fill": {
              "color": "#C8D4E3"
             },
             "line": {
              "color": "white"
             }
            },
            "type": "table"
           }
          ]
         },
         "layout": {
          "annotationdefaults": {
           "arrowcolor": "#2a3f5f",
           "arrowhead": 0,
           "arrowwidth": 1
          },
          "coloraxis": {
           "colorbar": {
            "outlinewidth": 0,
            "ticks": ""
           }
          },
          "colorscale": {
           "diverging": [
            [
             0,
             "#8e0152"
            ],
            [
             0.1,
             "#c51b7d"
            ],
            [
             0.2,
             "#de77ae"
            ],
            [
             0.3,
             "#f1b6da"
            ],
            [
             0.4,
             "#fde0ef"
            ],
            [
             0.5,
             "#f7f7f7"
            ],
            [
             0.6,
             "#e6f5d0"
            ],
            [
             0.7,
             "#b8e186"
            ],
            [
             0.8,
             "#7fbc41"
            ],
            [
             0.9,
             "#4d9221"
            ],
            [
             1,
             "#276419"
            ]
           ],
           "sequential": [
            [
             0,
             "#0d0887"
            ],
            [
             0.1111111111111111,
             "#46039f"
            ],
            [
             0.2222222222222222,
             "#7201a8"
            ],
            [
             0.3333333333333333,
             "#9c179e"
            ],
            [
             0.4444444444444444,
             "#bd3786"
            ],
            [
             0.5555555555555556,
             "#d8576b"
            ],
            [
             0.6666666666666666,
             "#ed7953"
            ],
            [
             0.7777777777777778,
             "#fb9f3a"
            ],
            [
             0.8888888888888888,
             "#fdca26"
            ],
            [
             1,
             "#f0f921"
            ]
           ],
           "sequentialminus": [
            [
             0,
             "#0d0887"
            ],
            [
             0.1111111111111111,
             "#46039f"
            ],
            [
             0.2222222222222222,
             "#7201a8"
            ],
            [
             0.3333333333333333,
             "#9c179e"
            ],
            [
             0.4444444444444444,
             "#bd3786"
            ],
            [
             0.5555555555555556,
             "#d8576b"
            ],
            [
             0.6666666666666666,
             "#ed7953"
            ],
            [
             0.7777777777777778,
             "#fb9f3a"
            ],
            [
             0.8888888888888888,
             "#fdca26"
            ],
            [
             1,
             "#f0f921"
            ]
           ]
          },
          "colorway": [
           "#636efa",
           "#EF553B",
           "#00cc96",
           "#ab63fa",
           "#FFA15A",
           "#19d3f3",
           "#FF6692",
           "#B6E880",
           "#FF97FF",
           "#FECB52"
          ],
          "font": {
           "color": "#2a3f5f"
          },
          "geo": {
           "bgcolor": "white",
           "lakecolor": "white",
           "landcolor": "#E5ECF6",
           "showlakes": true,
           "showland": true,
           "subunitcolor": "white"
          },
          "hoverlabel": {
           "align": "left"
          },
          "hovermode": "closest",
          "mapbox": {
           "style": "light"
          },
          "paper_bgcolor": "white",
          "plot_bgcolor": "#E5ECF6",
          "polar": {
           "angularaxis": {
            "gridcolor": "white",
            "linecolor": "white",
            "ticks": ""
           },
           "bgcolor": "#E5ECF6",
           "radialaxis": {
            "gridcolor": "white",
            "linecolor": "white",
            "ticks": ""
           }
          },
          "scene": {
           "xaxis": {
            "backgroundcolor": "#E5ECF6",
            "gridcolor": "white",
            "gridwidth": 2,
            "linecolor": "white",
            "showbackground": true,
            "ticks": "",
            "zerolinecolor": "white"
           },
           "yaxis": {
            "backgroundcolor": "#E5ECF6",
            "gridcolor": "white",
            "gridwidth": 2,
            "linecolor": "white",
            "showbackground": true,
            "ticks": "",
            "zerolinecolor": "white"
           },
           "zaxis": {
            "backgroundcolor": "#E5ECF6",
            "gridcolor": "white",
            "gridwidth": 2,
            "linecolor": "white",
            "showbackground": true,
            "ticks": "",
            "zerolinecolor": "white"
           }
          },
          "shapedefaults": {
           "line": {
            "color": "#2a3f5f"
           }
          },
          "ternary": {
           "aaxis": {
            "gridcolor": "white",
            "linecolor": "white",
            "ticks": ""
           },
           "baxis": {
            "gridcolor": "white",
            "linecolor": "white",
            "ticks": ""
           },
           "bgcolor": "#E5ECF6",
           "caxis": {
            "gridcolor": "white",
            "linecolor": "white",
            "ticks": ""
           }
          },
          "title": {
           "x": 0.05
          },
          "xaxis": {
           "automargin": true,
           "gridcolor": "white",
           "linecolor": "white",
           "ticks": "",
           "title": {
            "standoff": 15
           },
           "zerolinecolor": "white",
           "zerolinewidth": 2
          },
          "yaxis": {
           "automargin": true,
           "gridcolor": "white",
           "linecolor": "white",
           "ticks": "",
           "title": {
            "standoff": 15
           },
           "zerolinecolor": "white",
           "zerolinewidth": 2
          }
         }
        },
        "title": {
         "font": {
          "color": "#4D5663"
         }
        },
        "xaxis": {
         "gridcolor": "#E1E5ED",
         "showgrid": true,
         "tickfont": {
          "color": "#4D5663"
         },
         "title": {
          "font": {
           "color": "#4D5663"
          },
          "text": ""
         },
         "zerolinecolor": "#E1E5ED"
        },
        "yaxis": {
         "gridcolor": "#E1E5ED",
         "showgrid": true,
         "tickfont": {
          "color": "#4D5663"
         },
         "title": {
          "font": {
           "color": "#4D5663"
          },
          "text": ""
         },
         "zerolinecolor": "#E1E5ED"
        }
       }
      },
      "text/html": [
       "<div>\n",
       "        \n",
       "        \n",
       "            <div id=\"f1686eef-97b2-4641-9f0a-9c5c5b69c4f1\" class=\"plotly-graph-div\" style=\"height:525px; width:100%;\"></div>\n",
       "            <script type=\"text/javascript\">\n",
       "                require([\"plotly\"], function(Plotly) {\n",
       "                    window.PLOTLYENV=window.PLOTLYENV || {};\n",
       "                    window.PLOTLYENV.BASE_URL='https://plot.ly';\n",
       "                    \n",
       "                if (document.getElementById(\"f1686eef-97b2-4641-9f0a-9c5c5b69c4f1\")) {\n",
       "                    Plotly.newPlot(\n",
       "                        'f1686eef-97b2-4641-9f0a-9c5c5b69c4f1',\n",
       "                        [{\"colorscale\": [[0.0, \"rgb(165,0,38)\"], [0.1, \"rgb(215,48,39)\"], [0.2, \"rgb(244,109,67)\"], [0.3, \"rgb(253,174,97)\"], [0.4, \"rgb(254,224,144)\"], [0.5, \"rgb(255,255,191)\"], [0.6, \"rgb(224,243,248)\"], [0.7, \"rgb(171,217,233)\"], [0.8, \"rgb(116,173,209)\"], [0.9, \"rgb(69,117,180)\"], [1.0, \"rgb(49,54,149)\"]], \"type\": \"surface\", \"x\": [0, 1, 2, 3, 4], \"y\": [\"x\", \"y\", \"z\"], \"z\": [[1, 2, 3, 4, 5], [10, 20, 30, 20, 10], [5, 4, 3, 2, 1]]}],\n",
       "                        {\"legend\": {\"bgcolor\": \"#F5F6F9\", \"font\": {\"color\": \"#4D5663\"}}, \"paper_bgcolor\": \"#F5F6F9\", \"plot_bgcolor\": \"#F5F6F9\", \"template\": {\"data\": {\"bar\": [{\"error_x\": {\"color\": \"#2a3f5f\"}, \"error_y\": {\"color\": \"#2a3f5f\"}, \"marker\": {\"line\": {\"color\": \"#E5ECF6\", \"width\": 0.5}}, \"type\": \"bar\"}], \"barpolar\": [{\"marker\": {\"line\": {\"color\": \"#E5ECF6\", \"width\": 0.5}}, \"type\": \"barpolar\"}], \"carpet\": [{\"aaxis\": {\"endlinecolor\": \"#2a3f5f\", \"gridcolor\": \"white\", \"linecolor\": \"white\", \"minorgridcolor\": \"white\", \"startlinecolor\": \"#2a3f5f\"}, \"baxis\": {\"endlinecolor\": \"#2a3f5f\", \"gridcolor\": \"white\", \"linecolor\": \"white\", \"minorgridcolor\": \"white\", \"startlinecolor\": \"#2a3f5f\"}, \"type\": \"carpet\"}], \"choropleth\": [{\"colorbar\": {\"outlinewidth\": 0, \"ticks\": \"\"}, \"type\": \"choropleth\"}], \"contour\": [{\"colorbar\": {\"outlinewidth\": 0, \"ticks\": \"\"}, \"colorscale\": [[0.0, \"#0d0887\"], [0.1111111111111111, \"#46039f\"], [0.2222222222222222, \"#7201a8\"], [0.3333333333333333, \"#9c179e\"], [0.4444444444444444, \"#bd3786\"], [0.5555555555555556, \"#d8576b\"], [0.6666666666666666, \"#ed7953\"], [0.7777777777777778, \"#fb9f3a\"], [0.8888888888888888, \"#fdca26\"], [1.0, \"#f0f921\"]], \"type\": \"contour\"}], \"contourcarpet\": [{\"colorbar\": {\"outlinewidth\": 0, \"ticks\": \"\"}, \"type\": \"contourcarpet\"}], \"heatmap\": [{\"colorbar\": {\"outlinewidth\": 0, \"ticks\": \"\"}, \"colorscale\": [[0.0, \"#0d0887\"], [0.1111111111111111, \"#46039f\"], [0.2222222222222222, \"#7201a8\"], [0.3333333333333333, \"#9c179e\"], [0.4444444444444444, \"#bd3786\"], [0.5555555555555556, \"#d8576b\"], [0.6666666666666666, \"#ed7953\"], [0.7777777777777778, \"#fb9f3a\"], [0.8888888888888888, \"#fdca26\"], [1.0, \"#f0f921\"]], \"type\": \"heatmap\"}], \"heatmapgl\": [{\"colorbar\": {\"outlinewidth\": 0, \"ticks\": \"\"}, \"colorscale\": [[0.0, \"#0d0887\"], [0.1111111111111111, \"#46039f\"], [0.2222222222222222, \"#7201a8\"], [0.3333333333333333, \"#9c179e\"], [0.4444444444444444, \"#bd3786\"], [0.5555555555555556, \"#d8576b\"], [0.6666666666666666, \"#ed7953\"], [0.7777777777777778, \"#fb9f3a\"], [0.8888888888888888, \"#fdca26\"], [1.0, \"#f0f921\"]], \"type\": \"heatmapgl\"}], \"histogram\": [{\"marker\": {\"colorbar\": {\"outlinewidth\": 0, \"ticks\": \"\"}}, \"type\": \"histogram\"}], \"histogram2d\": [{\"colorbar\": {\"outlinewidth\": 0, \"ticks\": \"\"}, \"colorscale\": [[0.0, \"#0d0887\"], [0.1111111111111111, \"#46039f\"], [0.2222222222222222, \"#7201a8\"], [0.3333333333333333, \"#9c179e\"], [0.4444444444444444, \"#bd3786\"], [0.5555555555555556, \"#d8576b\"], [0.6666666666666666, \"#ed7953\"], [0.7777777777777778, \"#fb9f3a\"], [0.8888888888888888, \"#fdca26\"], [1.0, \"#f0f921\"]], \"type\": \"histogram2d\"}], \"histogram2dcontour\": [{\"colorbar\": {\"outlinewidth\": 0, \"ticks\": \"\"}, \"colorscale\": [[0.0, \"#0d0887\"], [0.1111111111111111, \"#46039f\"], [0.2222222222222222, \"#7201a8\"], [0.3333333333333333, \"#9c179e\"], [0.4444444444444444, \"#bd3786\"], [0.5555555555555556, \"#d8576b\"], [0.6666666666666666, \"#ed7953\"], [0.7777777777777778, \"#fb9f3a\"], [0.8888888888888888, \"#fdca26\"], [1.0, \"#f0f921\"]], \"type\": \"histogram2dcontour\"}], \"mesh3d\": [{\"colorbar\": {\"outlinewidth\": 0, \"ticks\": \"\"}, \"type\": \"mesh3d\"}], \"parcoords\": [{\"line\": {\"colorbar\": {\"outlinewidth\": 0, \"ticks\": \"\"}}, \"type\": \"parcoords\"}], \"pie\": [{\"automargin\": true, \"type\": \"pie\"}], \"scatter\": [{\"marker\": {\"colorbar\": {\"outlinewidth\": 0, \"ticks\": \"\"}}, \"type\": \"scatter\"}], \"scatter3d\": [{\"line\": {\"colorbar\": {\"outlinewidth\": 0, \"ticks\": \"\"}}, \"marker\": {\"colorbar\": {\"outlinewidth\": 0, \"ticks\": \"\"}}, \"type\": \"scatter3d\"}], \"scattercarpet\": [{\"marker\": {\"colorbar\": {\"outlinewidth\": 0, \"ticks\": \"\"}}, \"type\": \"scattercarpet\"}], \"scattergeo\": [{\"marker\": {\"colorbar\": {\"outlinewidth\": 0, \"ticks\": \"\"}}, \"type\": \"scattergeo\"}], \"scattergl\": [{\"marker\": {\"colorbar\": {\"outlinewidth\": 0, \"ticks\": \"\"}}, \"type\": \"scattergl\"}], \"scattermapbox\": [{\"marker\": {\"colorbar\": {\"outlinewidth\": 0, \"ticks\": \"\"}}, \"type\": \"scattermapbox\"}], \"scatterpolar\": [{\"marker\": {\"colorbar\": {\"outlinewidth\": 0, \"ticks\": \"\"}}, \"type\": \"scatterpolar\"}], \"scatterpolargl\": [{\"marker\": {\"colorbar\": {\"outlinewidth\": 0, \"ticks\": \"\"}}, \"type\": \"scatterpolargl\"}], \"scatterternary\": [{\"marker\": {\"colorbar\": {\"outlinewidth\": 0, \"ticks\": \"\"}}, \"type\": \"scatterternary\"}], \"surface\": [{\"colorbar\": {\"outlinewidth\": 0, \"ticks\": \"\"}, \"colorscale\": [[0.0, \"#0d0887\"], [0.1111111111111111, \"#46039f\"], [0.2222222222222222, \"#7201a8\"], [0.3333333333333333, \"#9c179e\"], [0.4444444444444444, \"#bd3786\"], [0.5555555555555556, \"#d8576b\"], [0.6666666666666666, \"#ed7953\"], [0.7777777777777778, \"#fb9f3a\"], [0.8888888888888888, \"#fdca26\"], [1.0, \"#f0f921\"]], \"type\": \"surface\"}], \"table\": [{\"cells\": {\"fill\": {\"color\": \"#EBF0F8\"}, \"line\": {\"color\": \"white\"}}, \"header\": {\"fill\": {\"color\": \"#C8D4E3\"}, \"line\": {\"color\": \"white\"}}, \"type\": \"table\"}]}, \"layout\": {\"annotationdefaults\": {\"arrowcolor\": \"#2a3f5f\", \"arrowhead\": 0, \"arrowwidth\": 1}, \"coloraxis\": {\"colorbar\": {\"outlinewidth\": 0, \"ticks\": \"\"}}, \"colorscale\": {\"diverging\": [[0, \"#8e0152\"], [0.1, \"#c51b7d\"], [0.2, \"#de77ae\"], [0.3, \"#f1b6da\"], [0.4, \"#fde0ef\"], [0.5, \"#f7f7f7\"], [0.6, \"#e6f5d0\"], [0.7, \"#b8e186\"], [0.8, \"#7fbc41\"], [0.9, \"#4d9221\"], [1, \"#276419\"]], \"sequential\": [[0.0, \"#0d0887\"], [0.1111111111111111, \"#46039f\"], [0.2222222222222222, \"#7201a8\"], [0.3333333333333333, \"#9c179e\"], [0.4444444444444444, \"#bd3786\"], [0.5555555555555556, \"#d8576b\"], [0.6666666666666666, \"#ed7953\"], [0.7777777777777778, \"#fb9f3a\"], [0.8888888888888888, \"#fdca26\"], [1.0, \"#f0f921\"]], \"sequentialminus\": [[0.0, \"#0d0887\"], [0.1111111111111111, \"#46039f\"], [0.2222222222222222, \"#7201a8\"], [0.3333333333333333, \"#9c179e\"], [0.4444444444444444, \"#bd3786\"], [0.5555555555555556, \"#d8576b\"], [0.6666666666666666, \"#ed7953\"], [0.7777777777777778, \"#fb9f3a\"], [0.8888888888888888, \"#fdca26\"], [1.0, \"#f0f921\"]]}, \"colorway\": [\"#636efa\", \"#EF553B\", \"#00cc96\", \"#ab63fa\", \"#FFA15A\", \"#19d3f3\", \"#FF6692\", \"#B6E880\", \"#FF97FF\", \"#FECB52\"], \"font\": {\"color\": \"#2a3f5f\"}, \"geo\": {\"bgcolor\": \"white\", \"lakecolor\": \"white\", \"landcolor\": \"#E5ECF6\", \"showlakes\": true, \"showland\": true, \"subunitcolor\": \"white\"}, \"hoverlabel\": {\"align\": \"left\"}, \"hovermode\": \"closest\", \"mapbox\": {\"style\": \"light\"}, \"paper_bgcolor\": \"white\", \"plot_bgcolor\": \"#E5ECF6\", \"polar\": {\"angularaxis\": {\"gridcolor\": \"white\", \"linecolor\": \"white\", \"ticks\": \"\"}, \"bgcolor\": \"#E5ECF6\", \"radialaxis\": {\"gridcolor\": \"white\", \"linecolor\": \"white\", \"ticks\": \"\"}}, \"scene\": {\"xaxis\": {\"backgroundcolor\": \"#E5ECF6\", \"gridcolor\": \"white\", \"gridwidth\": 2, \"linecolor\": \"white\", \"showbackground\": true, \"ticks\": \"\", \"zerolinecolor\": \"white\"}, \"yaxis\": {\"backgroundcolor\": \"#E5ECF6\", \"gridcolor\": \"white\", \"gridwidth\": 2, \"linecolor\": \"white\", \"showbackground\": true, \"ticks\": \"\", \"zerolinecolor\": \"white\"}, \"zaxis\": {\"backgroundcolor\": \"#E5ECF6\", \"gridcolor\": \"white\", \"gridwidth\": 2, \"linecolor\": \"white\", \"showbackground\": true, \"ticks\": \"\", \"zerolinecolor\": \"white\"}}, \"shapedefaults\": {\"line\": {\"color\": \"#2a3f5f\"}}, \"ternary\": {\"aaxis\": {\"gridcolor\": \"white\", \"linecolor\": \"white\", \"ticks\": \"\"}, \"baxis\": {\"gridcolor\": \"white\", \"linecolor\": \"white\", \"ticks\": \"\"}, \"bgcolor\": \"#E5ECF6\", \"caxis\": {\"gridcolor\": \"white\", \"linecolor\": \"white\", \"ticks\": \"\"}}, \"title\": {\"x\": 0.05}, \"xaxis\": {\"automargin\": true, \"gridcolor\": \"white\", \"linecolor\": \"white\", \"ticks\": \"\", \"title\": {\"standoff\": 15}, \"zerolinecolor\": \"white\", \"zerolinewidth\": 2}, \"yaxis\": {\"automargin\": true, \"gridcolor\": \"white\", \"linecolor\": \"white\", \"ticks\": \"\", \"title\": {\"standoff\": 15}, \"zerolinecolor\": \"white\", \"zerolinewidth\": 2}}}, \"title\": {\"font\": {\"color\": \"#4D5663\"}}, \"xaxis\": {\"gridcolor\": \"#E1E5ED\", \"showgrid\": true, \"tickfont\": {\"color\": \"#4D5663\"}, \"title\": {\"font\": {\"color\": \"#4D5663\"}, \"text\": \"\"}, \"zerolinecolor\": \"#E1E5ED\"}, \"yaxis\": {\"gridcolor\": \"#E1E5ED\", \"showgrid\": true, \"tickfont\": {\"color\": \"#4D5663\"}, \"title\": {\"font\": {\"color\": \"#4D5663\"}, \"text\": \"\"}, \"zerolinecolor\": \"#E1E5ED\"}},\n",
       "                        {\"showLink\": true, \"linkText\": \"Export to plot.ly\", \"plotlyServerURL\": \"https://plot.ly\", \"responsive\": true}\n",
       "                    ).then(function(){\n",
       "                            \n",
       "var gd = document.getElementById('f1686eef-97b2-4641-9f0a-9c5c5b69c4f1');\n",
       "var x = new MutationObserver(function (mutations, observer) {{\n",
       "        var display = window.getComputedStyle(gd).display;\n",
       "        if (!display || display === 'none') {{\n",
       "            console.log([gd, 'removed!']);\n",
       "            Plotly.purge(gd);\n",
       "            observer.disconnect();\n",
       "        }}\n",
       "}});\n",
       "\n",
       "// Listen for the removal of the full notebook cells\n",
       "var notebookContainer = gd.closest('#notebook-container');\n",
       "if (notebookContainer) {{\n",
       "    x.observe(notebookContainer, {childList: true});\n",
       "}}\n",
       "\n",
       "// Listen for the clearing of the current output cell\n",
       "var outputEl = gd.closest('.output');\n",
       "if (outputEl) {{\n",
       "    x.observe(outputEl, {childList: true});\n",
       "}}\n",
       "\n",
       "                        })\n",
       "                };\n",
       "                });\n",
       "            </script>\n",
       "        </div>"
      ]
     },
     "metadata": {},
     "output_type": "display_data"
    }
   ],
   "source": [
    "df3 = pd.DataFrame({'x':[1,2,3,4,5],'y':[10,20,30,20,10],'z':[5,4,3,2,1]})\n",
    "df3.iplot(kind='surface',colorscale='rdylbu')"
   ]
  },
  {
   "cell_type": "markdown",
   "metadata": {},
   "source": [
    "## Spread"
   ]
  },
  {
   "cell_type": "code",
   "execution_count": 16,
   "metadata": {},
   "outputs": [
    {
     "data": {
      "application/vnd.plotly.v1+json": {
       "config": {
        "linkText": "Export to plot.ly",
        "plotlyServerURL": "https://plot.ly",
        "showLink": true
       },
       "data": [
        {
         "line": {
          "color": "rgba(255, 153, 51, 1.0)",
          "dash": "solid",
          "shape": "linear",
          "width": 1.3
         },
         "mode": "lines",
         "name": "A",
         "text": "",
         "type": "scatter",
         "x": [
          0,
          1,
          2,
          3,
          4,
          5,
          6,
          7,
          8,
          9,
          10,
          11,
          12,
          13,
          14,
          15,
          16,
          17,
          18,
          19,
          20,
          21,
          22,
          23,
          24,
          25,
          26,
          27,
          28,
          29,
          30,
          31,
          32,
          33,
          34,
          35,
          36,
          37,
          38,
          39,
          40,
          41,
          42,
          43,
          44,
          45,
          46,
          47,
          48,
          49,
          50,
          51,
          52,
          53,
          54,
          55,
          56,
          57,
          58,
          59,
          60,
          61,
          62,
          63,
          64,
          65,
          66,
          67,
          68,
          69,
          70,
          71,
          72,
          73,
          74,
          75,
          76,
          77,
          78,
          79,
          80,
          81,
          82,
          83,
          84,
          85,
          86,
          87,
          88,
          89,
          90,
          91,
          92,
          93,
          94,
          95,
          96,
          97,
          98,
          99
         ],
         "y": [
          -1.316509150580487,
          0.6567439213089783,
          -1.2117246351490527,
          -0.7795197648889394,
          -1.3086898864866376,
          1.1530168155654092,
          0.13998590336540567,
          -0.11056327817001697,
          1.7537011117105172,
          0.8810323955893713,
          0.10541010497618351,
          1.011575063785946,
          2.1228749009656473,
          -0.3075112722036564,
          1.038681885646689,
          -0.6319853146199059,
          2.2189715728894632,
          -1.4770145042427665,
          -0.153470368878263,
          -0.18727900695016553,
          1.9078574381220432,
          1.0499974193565844,
          0.46542902797864877,
          -0.6260746672943875,
          -0.03689923737424436,
          -1.0944391791639074,
          1.2481303879716057,
          0.09959660652843288,
          0.057031069351861356,
          -1.4176608242708042,
          0.27913325253238075,
          0.8782737897274759,
          -3.3361675913751814,
          -0.3611118893203861,
          0.9042067738977311,
          1.0392994720741469,
          0.3020476385379728,
          -1.10241740023384,
          0.6679332094321817,
          0.2603822989676794,
          0.45894985553075557,
          -0.011014647071094298,
          -1.2018062699942935,
          -1.288958573508946,
          -0.6602935547316192,
          0.559523528635203,
          0.9105335102135964,
          0.9007433046119707,
          -0.8788546818988332,
          1.2187402667118685,
          -0.3162671648927026,
          0.9555369947525019,
          0.8331485196348947,
          0.5643353781041094,
          0.9456632663673213,
          -0.16924653010990728,
          -2.8385553526488563,
          0.4385338754031157,
          2.050375616692176,
          -0.5957780568198906,
          -0.6391337028422326,
          0.04999693554916875,
          -0.9905604339917498,
          0.7126128257249994,
          1.623879844150366,
          0.7439398470037102,
          -1.4338603239722083,
          0.4223377380195463,
          0.7047789877639619,
          1.2997906440556526,
          1.1377795006181677,
          -0.37982037981568656,
          -0.8183289865038762,
          2.1150365234629778,
          -1.6315774177580455,
          1.557670994327429,
          0.27435834635581113,
          -0.2020660134299496,
          0.6622294003232192,
          -0.7507187976400996,
          1.6841078411643216,
          0.15725059523555834,
          0.20403175525934233,
          -0.10228075446346539,
          -0.45075758084417217,
          0.23398092630605663,
          0.7020994443457834,
          -1.372013643107886,
          -0.830234550415995,
          1.0471754048685615,
          0.2791516597674779,
          0.8073438839758672,
          -1.1840786596386352,
          -1.2438633167946165,
          0.6711553346045185,
          -1.05947273041682,
          -0.21268450772722713,
          -0.7716616231268543,
          -0.6618813607239717,
          -0.7691251660875101
         ]
        },
        {
         "line": {
          "color": "rgba(55, 128, 191, 1.0)",
          "dash": "solid",
          "shape": "linear",
          "width": 1.3
         },
         "mode": "lines",
         "name": "B",
         "text": "",
         "type": "scatter",
         "x": [
          0,
          1,
          2,
          3,
          4,
          5,
          6,
          7,
          8,
          9,
          10,
          11,
          12,
          13,
          14,
          15,
          16,
          17,
          18,
          19,
          20,
          21,
          22,
          23,
          24,
          25,
          26,
          27,
          28,
          29,
          30,
          31,
          32,
          33,
          34,
          35,
          36,
          37,
          38,
          39,
          40,
          41,
          42,
          43,
          44,
          45,
          46,
          47,
          48,
          49,
          50,
          51,
          52,
          53,
          54,
          55,
          56,
          57,
          58,
          59,
          60,
          61,
          62,
          63,
          64,
          65,
          66,
          67,
          68,
          69,
          70,
          71,
          72,
          73,
          74,
          75,
          76,
          77,
          78,
          79,
          80,
          81,
          82,
          83,
          84,
          85,
          86,
          87,
          88,
          89,
          90,
          91,
          92,
          93,
          94,
          95,
          96,
          97,
          98,
          99
         ],
         "y": [
          0.5322209261277865,
          -0.3400805111723466,
          1.1360868917232188,
          -0.382712079815374,
          -0.0882949780014785,
          -0.0035050460034809156,
          1.2200036262631462,
          0.20708725596394534,
          0.24518777378961107,
          -0.9614960463159214,
          -0.18007055388579998,
          1.693862038729409,
          0.6880732306303996,
          -1.2237783345460118,
          1.5778919118755526,
          -0.9399074605700591,
          0.6502179718500561,
          0.13984189631979266,
          0.3902474711235353,
          0.79574378145543,
          -0.3187089447730361,
          1.7756327287360203,
          0.11176970117547803,
          1.1026687785809492,
          1.2655186137877001,
          2.631604659518769,
          0.38632232634692665,
          0.3918662734991667,
          -0.10269538819221184,
          2.1050347354372656,
          -0.14728435081334065,
          1.5928813916980802,
          -0.5640139867574012,
          -0.7625416520561131,
          0.6299238973321293,
          1.5259003230423187,
          0.4556062123964385,
          -0.2699051707997322,
          1.023416758001027,
          0.8544257864781147,
          -0.2113121282276364,
          -0.9889838291299777,
          0.6101685589425011,
          0.01886452624200072,
          -0.9135960987704975,
          -0.01725436138227997,
          -0.7802532086851106,
          -0.37672890325294733,
          -2.152350636544527,
          -1.1683993670480606,
          1.263532324992662,
          0.312038748908657,
          0.7780507500386404,
          0.041471470158138804,
          -0.6020767411671846,
          0.6249868830012129,
          0.5405277670128545,
          -1.1176579751594906,
          -1.433072594514869,
          1.8835573786822821,
          1.2676267128436596,
          0.18179383715069097,
          -0.6708996716626628,
          -0.8696775484368037,
          0.1348973926892778,
          0.12074046939337874,
          -0.4243922156902889,
          0.346367856345538,
          1.0526808565699703,
          -0.9373139607993218,
          -0.4420468917330237,
          0.585751073752487,
          -0.22025857587135528,
          0.48580639571538037,
          1.1910452374445943,
          -0.8409995659483239,
          1.2713211278296752,
          0.6122183465394152,
          -0.3626153112574866,
          -0.9046816910222284,
          1.492899576359809,
          -0.19437622093277626,
          -0.17496285589028385,
          1.1661687648674532,
          -0.702440894291958,
          -0.9991504450455196,
          1.015268304294555,
          -0.41527919626977905,
          1.286684649424407,
          1.0739953772854123,
          -0.5703063513870817,
          1.039240915811815,
          0.8877143919613583,
          0.864296717575613,
          -0.26344490511936275,
          0.2117153057332679,
          -1.5890334789342004,
          1.1071474916095139,
          0.04231235469678529,
          -0.5264821907576022
         ]
        },
        {
         "connectgaps": false,
         "fill": "tozeroy",
         "line": {
          "color": "green",
          "dash": "solid",
          "shape": "linear",
          "width": 0.5
         },
         "mode": "lines",
         "name": "Spread",
         "showlegend": false,
         "type": "scatter",
         "x": [
          0,
          1,
          2,
          3,
          4,
          5,
          6,
          7,
          8,
          9,
          10,
          11,
          12,
          13,
          14,
          15,
          16,
          17,
          18,
          19,
          20,
          21,
          22,
          23,
          24,
          25,
          26,
          27,
          28,
          29,
          30,
          31,
          32,
          33,
          34,
          35,
          36,
          37,
          38,
          39,
          40,
          41,
          42,
          43,
          44,
          45,
          46,
          47,
          48,
          49,
          50,
          51,
          52,
          53,
          54,
          55,
          56,
          57,
          58,
          59,
          60,
          61,
          62,
          63,
          64,
          65,
          66,
          67,
          68,
          69,
          70,
          71,
          72,
          73,
          74,
          75,
          76,
          77,
          78,
          79,
          80,
          81,
          82,
          83,
          84,
          85,
          86,
          87,
          88,
          89,
          90,
          91,
          92,
          93,
          94,
          95,
          96,
          97,
          98,
          99
         ],
         "xaxis": "x2",
         "y": [
          "",
          0.9968244324813249,
          "",
          "",
          "",
          1.1565218615688901,
          "",
          "",
          1.5085133379209061,
          1.8425284419052927,
          0.2854806588619835,
          "",
          1.4348016703352477,
          0.9162670623423554,
          "",
          0.3079221459501532,
          1.5687536010394072,
          "",
          "",
          "",
          2.2265663828950792,
          "",
          0.35365932680317075,
          "",
          "",
          "",
          0.861808061624679,
          "",
          0.1597264575440732,
          "",
          0.42641760334572143,
          "",
          "",
          0.401429762735727,
          0.2742828765656018,
          "",
          "",
          "",
          "",
          "",
          0.670261983758392,
          0.9779691820588834,
          "",
          "",
          0.2533025440388783,
          0.576777890017483,
          1.690786718898707,
          1.277472207864918,
          1.2734959546456939,
          2.3871396337599293,
          "",
          0.6434982458438449,
          0.05509776959625423,
          0.5228639079459706,
          1.547740007534506,
          "",
          "",
          1.5561918505626062,
          3.483448211207045,
          "",
          "",
          "",
          "",
          1.582290374161803,
          1.488982451461088,
          0.6231993776103315,
          "",
          0.07596988167400831,
          "",
          2.2371046048549745,
          1.5798263923511913,
          "",
          "",
          1.6292301277475973,
          "",
          2.398670560275753,
          "",
          "",
          1.0248447115807058,
          0.15396289338212876,
          0.19120826480451258,
          0.3516268161683346,
          0.3789946111496262,
          "",
          0.25168331344778583,
          1.2331313713515764,
          "",
          "",
          "",
          "",
          0.8494580111545597,
          "",
          "",
          "",
          0.9346002397238813,
          "",
          1.3763489712069732,
          "",
          "",
          ""
         ],
         "yaxis": "y2"
        },
        {
         "connectgaps": false,
         "fill": "tozeroy",
         "line": {
          "color": "red",
          "dash": "solid",
          "shape": "linear",
          "width": 0.5
         },
         "mode": "lines",
         "name": "Spread",
         "showlegend": false,
         "type": "scatter",
         "x": [
          0,
          1,
          2,
          3,
          4,
          5,
          6,
          7,
          8,
          9,
          10,
          11,
          12,
          13,
          14,
          15,
          16,
          17,
          18,
          19,
          20,
          21,
          22,
          23,
          24,
          25,
          26,
          27,
          28,
          29,
          30,
          31,
          32,
          33,
          34,
          35,
          36,
          37,
          38,
          39,
          40,
          41,
          42,
          43,
          44,
          45,
          46,
          47,
          48,
          49,
          50,
          51,
          52,
          53,
          54,
          55,
          56,
          57,
          58,
          59,
          60,
          61,
          62,
          63,
          64,
          65,
          66,
          67,
          68,
          69,
          70,
          71,
          72,
          73,
          74,
          75,
          76,
          77,
          78,
          79,
          80,
          81,
          82,
          83,
          84,
          85,
          86,
          87,
          88,
          89,
          90,
          91,
          92,
          93,
          94,
          95,
          96,
          97,
          98,
          99
         ],
         "xaxis": "x2",
         "y": [
          -1.8487300767082733,
          "",
          -2.3478115268722712,
          -0.3968076850735654,
          -1.220394908485159,
          "",
          -1.0800177228977406,
          -0.3176505341339623,
          "",
          "",
          "",
          -0.682286974943463,
          "",
          "",
          -0.5392100262288635,
          "",
          "",
          -1.6168564005625592,
          -0.5437178400017983,
          -0.9830227884055955,
          "",
          -0.7256353093794359,
          "",
          -1.7287434458753368,
          -1.3024178511619444,
          -3.726043838682677,
          "",
          -0.2922696669707338,
          "",
          -3.52269555970807,
          "",
          -0.7146076019706042,
          -2.77215360461778,
          "",
          "",
          -0.48660085096817185,
          -0.15355857385846572,
          -0.8325122294341079,
          -0.35548354856884523,
          -0.5940434875104353,
          "",
          "",
          -1.8119748289367945,
          -1.3078230997509466,
          "",
          "",
          "",
          "",
          "",
          "",
          -1.5797994898853647,
          "",
          "",
          "",
          "",
          -0.7942334131111202,
          -3.379083119661711,
          "",
          "",
          -2.479335435502173,
          -1.9067604156858922,
          -0.13179690160152222,
          -0.3196607623290869,
          "",
          "",
          "",
          -1.0094681082819195,
          "",
          -0.3479018688060085,
          "",
          "",
          -0.9655714535681736,
          -0.598070410632521,
          "",
          -2.8226226552026397,
          "",
          -0.9969627814738641,
          -0.8142843599693648,
          "",
          "",
          "",
          "",
          "",
          -1.2684495193309187,
          "",
          "",
          -0.3131688599487715,
          -0.9567344468381069,
          -2.116919199840402,
          -0.026819972416850746,
          "",
          -0.2318970318359478,
          -2.0717930515999936,
          -2.1081600343702296,
          "",
          -1.271188036150088,
          "",
          -1.8788091147363681,
          -0.704193715420757,
          -0.24264297532990797
         ],
         "yaxis": "y2"
        }
       ],
       "layout": {
        "hovermode": "x",
        "legend": {
         "bgcolor": "#F5F6F9",
         "font": {
          "color": "#4D5663"
         }
        },
        "paper_bgcolor": "#F5F6F9",
        "plot_bgcolor": "#F5F6F9",
        "template": {
         "data": {
          "bar": [
           {
            "error_x": {
             "color": "#2a3f5f"
            },
            "error_y": {
             "color": "#2a3f5f"
            },
            "marker": {
             "line": {
              "color": "#E5ECF6",
              "width": 0.5
             }
            },
            "type": "bar"
           }
          ],
          "barpolar": [
           {
            "marker": {
             "line": {
              "color": "#E5ECF6",
              "width": 0.5
             }
            },
            "type": "barpolar"
           }
          ],
          "carpet": [
           {
            "aaxis": {
             "endlinecolor": "#2a3f5f",
             "gridcolor": "white",
             "linecolor": "white",
             "minorgridcolor": "white",
             "startlinecolor": "#2a3f5f"
            },
            "baxis": {
             "endlinecolor": "#2a3f5f",
             "gridcolor": "white",
             "linecolor": "white",
             "minorgridcolor": "white",
             "startlinecolor": "#2a3f5f"
            },
            "type": "carpet"
           }
          ],
          "choropleth": [
           {
            "colorbar": {
             "outlinewidth": 0,
             "ticks": ""
            },
            "type": "choropleth"
           }
          ],
          "contour": [
           {
            "colorbar": {
             "outlinewidth": 0,
             "ticks": ""
            },
            "colorscale": [
             [
              0,
              "#0d0887"
             ],
             [
              0.1111111111111111,
              "#46039f"
             ],
             [
              0.2222222222222222,
              "#7201a8"
             ],
             [
              0.3333333333333333,
              "#9c179e"
             ],
             [
              0.4444444444444444,
              "#bd3786"
             ],
             [
              0.5555555555555556,
              "#d8576b"
             ],
             [
              0.6666666666666666,
              "#ed7953"
             ],
             [
              0.7777777777777778,
              "#fb9f3a"
             ],
             [
              0.8888888888888888,
              "#fdca26"
             ],
             [
              1,
              "#f0f921"
             ]
            ],
            "type": "contour"
           }
          ],
          "contourcarpet": [
           {
            "colorbar": {
             "outlinewidth": 0,
             "ticks": ""
            },
            "type": "contourcarpet"
           }
          ],
          "heatmap": [
           {
            "colorbar": {
             "outlinewidth": 0,
             "ticks": ""
            },
            "colorscale": [
             [
              0,
              "#0d0887"
             ],
             [
              0.1111111111111111,
              "#46039f"
             ],
             [
              0.2222222222222222,
              "#7201a8"
             ],
             [
              0.3333333333333333,
              "#9c179e"
             ],
             [
              0.4444444444444444,
              "#bd3786"
             ],
             [
              0.5555555555555556,
              "#d8576b"
             ],
             [
              0.6666666666666666,
              "#ed7953"
             ],
             [
              0.7777777777777778,
              "#fb9f3a"
             ],
             [
              0.8888888888888888,
              "#fdca26"
             ],
             [
              1,
              "#f0f921"
             ]
            ],
            "type": "heatmap"
           }
          ],
          "heatmapgl": [
           {
            "colorbar": {
             "outlinewidth": 0,
             "ticks": ""
            },
            "colorscale": [
             [
              0,
              "#0d0887"
             ],
             [
              0.1111111111111111,
              "#46039f"
             ],
             [
              0.2222222222222222,
              "#7201a8"
             ],
             [
              0.3333333333333333,
              "#9c179e"
             ],
             [
              0.4444444444444444,
              "#bd3786"
             ],
             [
              0.5555555555555556,
              "#d8576b"
             ],
             [
              0.6666666666666666,
              "#ed7953"
             ],
             [
              0.7777777777777778,
              "#fb9f3a"
             ],
             [
              0.8888888888888888,
              "#fdca26"
             ],
             [
              1,
              "#f0f921"
             ]
            ],
            "type": "heatmapgl"
           }
          ],
          "histogram": [
           {
            "marker": {
             "colorbar": {
              "outlinewidth": 0,
              "ticks": ""
             }
            },
            "type": "histogram"
           }
          ],
          "histogram2d": [
           {
            "colorbar": {
             "outlinewidth": 0,
             "ticks": ""
            },
            "colorscale": [
             [
              0,
              "#0d0887"
             ],
             [
              0.1111111111111111,
              "#46039f"
             ],
             [
              0.2222222222222222,
              "#7201a8"
             ],
             [
              0.3333333333333333,
              "#9c179e"
             ],
             [
              0.4444444444444444,
              "#bd3786"
             ],
             [
              0.5555555555555556,
              "#d8576b"
             ],
             [
              0.6666666666666666,
              "#ed7953"
             ],
             [
              0.7777777777777778,
              "#fb9f3a"
             ],
             [
              0.8888888888888888,
              "#fdca26"
             ],
             [
              1,
              "#f0f921"
             ]
            ],
            "type": "histogram2d"
           }
          ],
          "histogram2dcontour": [
           {
            "colorbar": {
             "outlinewidth": 0,
             "ticks": ""
            },
            "colorscale": [
             [
              0,
              "#0d0887"
             ],
             [
              0.1111111111111111,
              "#46039f"
             ],
             [
              0.2222222222222222,
              "#7201a8"
             ],
             [
              0.3333333333333333,
              "#9c179e"
             ],
             [
              0.4444444444444444,
              "#bd3786"
             ],
             [
              0.5555555555555556,
              "#d8576b"
             ],
             [
              0.6666666666666666,
              "#ed7953"
             ],
             [
              0.7777777777777778,
              "#fb9f3a"
             ],
             [
              0.8888888888888888,
              "#fdca26"
             ],
             [
              1,
              "#f0f921"
             ]
            ],
            "type": "histogram2dcontour"
           }
          ],
          "mesh3d": [
           {
            "colorbar": {
             "outlinewidth": 0,
             "ticks": ""
            },
            "type": "mesh3d"
           }
          ],
          "parcoords": [
           {
            "line": {
             "colorbar": {
              "outlinewidth": 0,
              "ticks": ""
             }
            },
            "type": "parcoords"
           }
          ],
          "pie": [
           {
            "automargin": true,
            "type": "pie"
           }
          ],
          "scatter": [
           {
            "marker": {
             "colorbar": {
              "outlinewidth": 0,
              "ticks": ""
             }
            },
            "type": "scatter"
           }
          ],
          "scatter3d": [
           {
            "line": {
             "colorbar": {
              "outlinewidth": 0,
              "ticks": ""
             }
            },
            "marker": {
             "colorbar": {
              "outlinewidth": 0,
              "ticks": ""
             }
            },
            "type": "scatter3d"
           }
          ],
          "scattercarpet": [
           {
            "marker": {
             "colorbar": {
              "outlinewidth": 0,
              "ticks": ""
             }
            },
            "type": "scattercarpet"
           }
          ],
          "scattergeo": [
           {
            "marker": {
             "colorbar": {
              "outlinewidth": 0,
              "ticks": ""
             }
            },
            "type": "scattergeo"
           }
          ],
          "scattergl": [
           {
            "marker": {
             "colorbar": {
              "outlinewidth": 0,
              "ticks": ""
             }
            },
            "type": "scattergl"
           }
          ],
          "scattermapbox": [
           {
            "marker": {
             "colorbar": {
              "outlinewidth": 0,
              "ticks": ""
             }
            },
            "type": "scattermapbox"
           }
          ],
          "scatterpolar": [
           {
            "marker": {
             "colorbar": {
              "outlinewidth": 0,
              "ticks": ""
             }
            },
            "type": "scatterpolar"
           }
          ],
          "scatterpolargl": [
           {
            "marker": {
             "colorbar": {
              "outlinewidth": 0,
              "ticks": ""
             }
            },
            "type": "scatterpolargl"
           }
          ],
          "scatterternary": [
           {
            "marker": {
             "colorbar": {
              "outlinewidth": 0,
              "ticks": ""
             }
            },
            "type": "scatterternary"
           }
          ],
          "surface": [
           {
            "colorbar": {
             "outlinewidth": 0,
             "ticks": ""
            },
            "colorscale": [
             [
              0,
              "#0d0887"
             ],
             [
              0.1111111111111111,
              "#46039f"
             ],
             [
              0.2222222222222222,
              "#7201a8"
             ],
             [
              0.3333333333333333,
              "#9c179e"
             ],
             [
              0.4444444444444444,
              "#bd3786"
             ],
             [
              0.5555555555555556,
              "#d8576b"
             ],
             [
              0.6666666666666666,
              "#ed7953"
             ],
             [
              0.7777777777777778,
              "#fb9f3a"
             ],
             [
              0.8888888888888888,
              "#fdca26"
             ],
             [
              1,
              "#f0f921"
             ]
            ],
            "type": "surface"
           }
          ],
          "table": [
           {
            "cells": {
             "fill": {
              "color": "#EBF0F8"
             },
             "line": {
              "color": "white"
             }
            },
            "header": {
             "fill": {
              "color": "#C8D4E3"
             },
             "line": {
              "color": "white"
             }
            },
            "type": "table"
           }
          ]
         },
         "layout": {
          "annotationdefaults": {
           "arrowcolor": "#2a3f5f",
           "arrowhead": 0,
           "arrowwidth": 1
          },
          "coloraxis": {
           "colorbar": {
            "outlinewidth": 0,
            "ticks": ""
           }
          },
          "colorscale": {
           "diverging": [
            [
             0,
             "#8e0152"
            ],
            [
             0.1,
             "#c51b7d"
            ],
            [
             0.2,
             "#de77ae"
            ],
            [
             0.3,
             "#f1b6da"
            ],
            [
             0.4,
             "#fde0ef"
            ],
            [
             0.5,
             "#f7f7f7"
            ],
            [
             0.6,
             "#e6f5d0"
            ],
            [
             0.7,
             "#b8e186"
            ],
            [
             0.8,
             "#7fbc41"
            ],
            [
             0.9,
             "#4d9221"
            ],
            [
             1,
             "#276419"
            ]
           ],
           "sequential": [
            [
             0,
             "#0d0887"
            ],
            [
             0.1111111111111111,
             "#46039f"
            ],
            [
             0.2222222222222222,
             "#7201a8"
            ],
            [
             0.3333333333333333,
             "#9c179e"
            ],
            [
             0.4444444444444444,
             "#bd3786"
            ],
            [
             0.5555555555555556,
             "#d8576b"
            ],
            [
             0.6666666666666666,
             "#ed7953"
            ],
            [
             0.7777777777777778,
             "#fb9f3a"
            ],
            [
             0.8888888888888888,
             "#fdca26"
            ],
            [
             1,
             "#f0f921"
            ]
           ],
           "sequentialminus": [
            [
             0,
             "#0d0887"
            ],
            [
             0.1111111111111111,
             "#46039f"
            ],
            [
             0.2222222222222222,
             "#7201a8"
            ],
            [
             0.3333333333333333,
             "#9c179e"
            ],
            [
             0.4444444444444444,
             "#bd3786"
            ],
            [
             0.5555555555555556,
             "#d8576b"
            ],
            [
             0.6666666666666666,
             "#ed7953"
            ],
            [
             0.7777777777777778,
             "#fb9f3a"
            ],
            [
             0.8888888888888888,
             "#fdca26"
            ],
            [
             1,
             "#f0f921"
            ]
           ]
          },
          "colorway": [
           "#636efa",
           "#EF553B",
           "#00cc96",
           "#ab63fa",
           "#FFA15A",
           "#19d3f3",
           "#FF6692",
           "#B6E880",
           "#FF97FF",
           "#FECB52"
          ],
          "font": {
           "color": "#2a3f5f"
          },
          "geo": {
           "bgcolor": "white",
           "lakecolor": "white",
           "landcolor": "#E5ECF6",
           "showlakes": true,
           "showland": true,
           "subunitcolor": "white"
          },
          "hoverlabel": {
           "align": "left"
          },
          "hovermode": "closest",
          "mapbox": {
           "style": "light"
          },
          "paper_bgcolor": "white",
          "plot_bgcolor": "#E5ECF6",
          "polar": {
           "angularaxis": {
            "gridcolor": "white",
            "linecolor": "white",
            "ticks": ""
           },
           "bgcolor": "#E5ECF6",
           "radialaxis": {
            "gridcolor": "white",
            "linecolor": "white",
            "ticks": ""
           }
          },
          "scene": {
           "xaxis": {
            "backgroundcolor": "#E5ECF6",
            "gridcolor": "white",
            "gridwidth": 2,
            "linecolor": "white",
            "showbackground": true,
            "ticks": "",
            "zerolinecolor": "white"
           },
           "yaxis": {
            "backgroundcolor": "#E5ECF6",
            "gridcolor": "white",
            "gridwidth": 2,
            "linecolor": "white",
            "showbackground": true,
            "ticks": "",
            "zerolinecolor": "white"
           },
           "zaxis": {
            "backgroundcolor": "#E5ECF6",
            "gridcolor": "white",
            "gridwidth": 2,
            "linecolor": "white",
            "showbackground": true,
            "ticks": "",
            "zerolinecolor": "white"
           }
          },
          "shapedefaults": {
           "line": {
            "color": "#2a3f5f"
           }
          },
          "ternary": {
           "aaxis": {
            "gridcolor": "white",
            "linecolor": "white",
            "ticks": ""
           },
           "baxis": {
            "gridcolor": "white",
            "linecolor": "white",
            "ticks": ""
           },
           "bgcolor": "#E5ECF6",
           "caxis": {
            "gridcolor": "white",
            "linecolor": "white",
            "ticks": ""
           }
          },
          "title": {
           "x": 0.05
          },
          "xaxis": {
           "automargin": true,
           "gridcolor": "white",
           "linecolor": "white",
           "ticks": "",
           "title": {
            "standoff": 15
           },
           "zerolinecolor": "white",
           "zerolinewidth": 2
          },
          "yaxis": {
           "automargin": true,
           "gridcolor": "white",
           "linecolor": "white",
           "ticks": "",
           "title": {
            "standoff": 15
           },
           "zerolinecolor": "white",
           "zerolinewidth": 2
          }
         }
        },
        "title": {
         "font": {
          "color": "#4D5663"
         }
        },
        "xaxis": {
         "gridcolor": "#E1E5ED",
         "showgrid": true,
         "tickfont": {
          "color": "#4D5663"
         },
         "title": {
          "font": {
           "color": "#4D5663"
          },
          "text": ""
         },
         "zerolinecolor": "#E1E5ED"
        },
        "xaxis2": {
         "anchor": "y2",
         "gridcolor": "#E1E5ED",
         "showgrid": true,
         "showticklabels": false,
         "tickfont": {
          "color": "#4D5663"
         },
         "title": {
          "font": {
           "color": "#4D5663"
          },
          "text": ""
         },
         "zerolinecolor": "#E1E5ED"
        },
        "yaxis": {
         "domain": [
          0.3,
          1
         ],
         "gridcolor": "#E1E5ED",
         "showgrid": true,
         "tickfont": {
          "color": "#4D5663"
         },
         "title": {
          "font": {
           "color": "#4D5663"
          },
          "text": ""
         },
         "zerolinecolor": "#E1E5ED"
        },
        "yaxis2": {
         "domain": [
          0,
          0.25
         ],
         "gridcolor": "#E1E5ED",
         "showgrid": true,
         "tickfont": {
          "color": "#4D5663"
         },
         "title": {
          "font": {
           "color": "#4D5663"
          },
          "text": "Spread"
         },
         "zerolinecolor": "#E1E5ED"
        }
       }
      },
      "text/html": [
       "<div>\n",
       "        \n",
       "        \n",
       "            <div id=\"0207974f-3151-4800-83b5-0b9ef9991690\" class=\"plotly-graph-div\" style=\"height:525px; width:100%;\"></div>\n",
       "            <script type=\"text/javascript\">\n",
       "                require([\"plotly\"], function(Plotly) {\n",
       "                    window.PLOTLYENV=window.PLOTLYENV || {};\n",
       "                    window.PLOTLYENV.BASE_URL='https://plot.ly';\n",
       "                    \n",
       "                if (document.getElementById(\"0207974f-3151-4800-83b5-0b9ef9991690\")) {\n",
       "                    Plotly.newPlot(\n",
       "                        '0207974f-3151-4800-83b5-0b9ef9991690',\n",
       "                        [{\"line\": {\"color\": \"rgba(255, 153, 51, 1.0)\", \"dash\": \"solid\", \"shape\": \"linear\", \"width\": 1.3}, \"mode\": \"lines\", \"name\": \"A\", \"text\": \"\", \"type\": \"scatter\", \"x\": [0, 1, 2, 3, 4, 5, 6, 7, 8, 9, 10, 11, 12, 13, 14, 15, 16, 17, 18, 19, 20, 21, 22, 23, 24, 25, 26, 27, 28, 29, 30, 31, 32, 33, 34, 35, 36, 37, 38, 39, 40, 41, 42, 43, 44, 45, 46, 47, 48, 49, 50, 51, 52, 53, 54, 55, 56, 57, 58, 59, 60, 61, 62, 63, 64, 65, 66, 67, 68, 69, 70, 71, 72, 73, 74, 75, 76, 77, 78, 79, 80, 81, 82, 83, 84, 85, 86, 87, 88, 89, 90, 91, 92, 93, 94, 95, 96, 97, 98, 99], \"y\": [-1.316509150580487, 0.6567439213089783, -1.2117246351490527, -0.7795197648889394, -1.3086898864866376, 1.1530168155654092, 0.13998590336540567, -0.11056327817001697, 1.7537011117105172, 0.8810323955893713, 0.10541010497618351, 1.011575063785946, 2.1228749009656473, -0.3075112722036564, 1.038681885646689, -0.6319853146199059, 2.2189715728894632, -1.4770145042427665, -0.153470368878263, -0.18727900695016553, 1.9078574381220432, 1.0499974193565844, 0.46542902797864877, -0.6260746672943875, -0.03689923737424436, -1.0944391791639074, 1.2481303879716057, 0.09959660652843288, 0.057031069351861356, -1.4176608242708042, 0.27913325253238075, 0.8782737897274759, -3.3361675913751814, -0.3611118893203861, 0.9042067738977311, 1.0392994720741469, 0.3020476385379728, -1.10241740023384, 0.6679332094321817, 0.2603822989676794, 0.45894985553075557, -0.011014647071094298, -1.2018062699942935, -1.288958573508946, -0.6602935547316192, 0.559523528635203, 0.9105335102135964, 0.9007433046119707, -0.8788546818988332, 1.2187402667118685, -0.3162671648927026, 0.9555369947525019, 0.8331485196348947, 0.5643353781041094, 0.9456632663673213, -0.16924653010990728, -2.8385553526488563, 0.4385338754031157, 2.050375616692176, -0.5957780568198906, -0.6391337028422326, 0.04999693554916875, -0.9905604339917498, 0.7126128257249994, 1.623879844150366, 0.7439398470037102, -1.4338603239722083, 0.4223377380195463, 0.7047789877639619, 1.2997906440556526, 1.1377795006181677, -0.37982037981568656, -0.8183289865038762, 2.1150365234629778, -1.6315774177580455, 1.557670994327429, 0.27435834635581113, -0.2020660134299496, 0.6622294003232192, -0.7507187976400996, 1.6841078411643216, 0.15725059523555834, 0.20403175525934233, -0.10228075446346539, -0.45075758084417217, 0.23398092630605663, 0.7020994443457834, -1.372013643107886, -0.830234550415995, 1.0471754048685615, 0.2791516597674779, 0.8073438839758672, -1.1840786596386352, -1.2438633167946165, 0.6711553346045185, -1.05947273041682, -0.21268450772722713, -0.7716616231268543, -0.6618813607239717, -0.7691251660875101]}, {\"line\": {\"color\": \"rgba(55, 128, 191, 1.0)\", \"dash\": \"solid\", \"shape\": \"linear\", \"width\": 1.3}, \"mode\": \"lines\", \"name\": \"B\", \"text\": \"\", \"type\": \"scatter\", \"x\": [0, 1, 2, 3, 4, 5, 6, 7, 8, 9, 10, 11, 12, 13, 14, 15, 16, 17, 18, 19, 20, 21, 22, 23, 24, 25, 26, 27, 28, 29, 30, 31, 32, 33, 34, 35, 36, 37, 38, 39, 40, 41, 42, 43, 44, 45, 46, 47, 48, 49, 50, 51, 52, 53, 54, 55, 56, 57, 58, 59, 60, 61, 62, 63, 64, 65, 66, 67, 68, 69, 70, 71, 72, 73, 74, 75, 76, 77, 78, 79, 80, 81, 82, 83, 84, 85, 86, 87, 88, 89, 90, 91, 92, 93, 94, 95, 96, 97, 98, 99], \"y\": [0.5322209261277865, -0.3400805111723466, 1.1360868917232188, -0.382712079815374, -0.0882949780014785, -0.0035050460034809156, 1.2200036262631462, 0.20708725596394534, 0.24518777378961107, -0.9614960463159214, -0.18007055388579998, 1.693862038729409, 0.6880732306303996, -1.2237783345460118, 1.5778919118755526, -0.9399074605700591, 0.6502179718500561, 0.13984189631979266, 0.3902474711235353, 0.79574378145543, -0.3187089447730361, 1.7756327287360203, 0.11176970117547803, 1.1026687785809492, 1.2655186137877001, 2.631604659518769, 0.38632232634692665, 0.3918662734991667, -0.10269538819221184, 2.1050347354372656, -0.14728435081334065, 1.5928813916980802, -0.5640139867574012, -0.7625416520561131, 0.6299238973321293, 1.5259003230423187, 0.4556062123964385, -0.2699051707997322, 1.023416758001027, 0.8544257864781147, -0.2113121282276364, -0.9889838291299777, 0.6101685589425011, 0.01886452624200072, -0.9135960987704975, -0.01725436138227997, -0.7802532086851106, -0.37672890325294733, -2.152350636544527, -1.1683993670480606, 1.263532324992662, 0.312038748908657, 0.7780507500386404, 0.041471470158138804, -0.6020767411671846, 0.6249868830012129, 0.5405277670128545, -1.1176579751594906, -1.433072594514869, 1.8835573786822821, 1.2676267128436596, 0.18179383715069097, -0.6708996716626628, -0.8696775484368037, 0.1348973926892778, 0.12074046939337874, -0.4243922156902889, 0.346367856345538, 1.0526808565699703, -0.9373139607993218, -0.4420468917330237, 0.585751073752487, -0.22025857587135528, 0.48580639571538037, 1.1910452374445943, -0.8409995659483239, 1.2713211278296752, 0.6122183465394152, -0.3626153112574866, -0.9046816910222284, 1.492899576359809, -0.19437622093277626, -0.17496285589028385, 1.1661687648674532, -0.702440894291958, -0.9991504450455196, 1.015268304294555, -0.41527919626977905, 1.286684649424407, 1.0739953772854123, -0.5703063513870817, 1.039240915811815, 0.8877143919613583, 0.864296717575613, -0.26344490511936275, 0.2117153057332679, -1.5890334789342004, 1.1071474916095139, 0.04231235469678529, -0.5264821907576022]}, {\"connectgaps\": false, \"fill\": \"tozeroy\", \"line\": {\"color\": \"green\", \"dash\": \"solid\", \"shape\": \"linear\", \"width\": 0.5}, \"mode\": \"lines\", \"name\": \"Spread\", \"showlegend\": false, \"type\": \"scatter\", \"x\": [0, 1, 2, 3, 4, 5, 6, 7, 8, 9, 10, 11, 12, 13, 14, 15, 16, 17, 18, 19, 20, 21, 22, 23, 24, 25, 26, 27, 28, 29, 30, 31, 32, 33, 34, 35, 36, 37, 38, 39, 40, 41, 42, 43, 44, 45, 46, 47, 48, 49, 50, 51, 52, 53, 54, 55, 56, 57, 58, 59, 60, 61, 62, 63, 64, 65, 66, 67, 68, 69, 70, 71, 72, 73, 74, 75, 76, 77, 78, 79, 80, 81, 82, 83, 84, 85, 86, 87, 88, 89, 90, 91, 92, 93, 94, 95, 96, 97, 98, 99], \"xaxis\": \"x2\", \"y\": [\"\", 0.9968244324813249, \"\", \"\", \"\", 1.1565218615688901, \"\", \"\", 1.5085133379209061, 1.8425284419052927, 0.2854806588619835, \"\", 1.4348016703352477, 0.9162670623423554, \"\", 0.3079221459501532, 1.5687536010394072, \"\", \"\", \"\", 2.2265663828950792, \"\", 0.35365932680317075, \"\", \"\", \"\", 0.861808061624679, \"\", 0.1597264575440732, \"\", 0.42641760334572143, \"\", \"\", 0.401429762735727, 0.2742828765656018, \"\", \"\", \"\", \"\", \"\", 0.670261983758392, 0.9779691820588834, \"\", \"\", 0.2533025440388783, 0.576777890017483, 1.690786718898707, 1.277472207864918, 1.2734959546456939, 2.3871396337599293, \"\", 0.6434982458438449, 0.05509776959625423, 0.5228639079459706, 1.547740007534506, \"\", \"\", 1.5561918505626062, 3.483448211207045, \"\", \"\", \"\", \"\", 1.582290374161803, 1.488982451461088, 0.6231993776103315, \"\", 0.07596988167400831, \"\", 2.2371046048549745, 1.5798263923511913, \"\", \"\", 1.6292301277475973, \"\", 2.398670560275753, \"\", \"\", 1.0248447115807058, 0.15396289338212876, 0.19120826480451258, 0.3516268161683346, 0.3789946111496262, \"\", 0.25168331344778583, 1.2331313713515764, \"\", \"\", \"\", \"\", 0.8494580111545597, \"\", \"\", \"\", 0.9346002397238813, \"\", 1.3763489712069732, \"\", \"\", \"\"], \"yaxis\": \"y2\"}, {\"connectgaps\": false, \"fill\": \"tozeroy\", \"line\": {\"color\": \"red\", \"dash\": \"solid\", \"shape\": \"linear\", \"width\": 0.5}, \"mode\": \"lines\", \"name\": \"Spread\", \"showlegend\": false, \"type\": \"scatter\", \"x\": [0, 1, 2, 3, 4, 5, 6, 7, 8, 9, 10, 11, 12, 13, 14, 15, 16, 17, 18, 19, 20, 21, 22, 23, 24, 25, 26, 27, 28, 29, 30, 31, 32, 33, 34, 35, 36, 37, 38, 39, 40, 41, 42, 43, 44, 45, 46, 47, 48, 49, 50, 51, 52, 53, 54, 55, 56, 57, 58, 59, 60, 61, 62, 63, 64, 65, 66, 67, 68, 69, 70, 71, 72, 73, 74, 75, 76, 77, 78, 79, 80, 81, 82, 83, 84, 85, 86, 87, 88, 89, 90, 91, 92, 93, 94, 95, 96, 97, 98, 99], \"xaxis\": \"x2\", \"y\": [-1.8487300767082733, \"\", -2.3478115268722712, -0.3968076850735654, -1.220394908485159, \"\", -1.0800177228977406, -0.3176505341339623, \"\", \"\", \"\", -0.682286974943463, \"\", \"\", -0.5392100262288635, \"\", \"\", -1.6168564005625592, -0.5437178400017983, -0.9830227884055955, \"\", -0.7256353093794359, \"\", -1.7287434458753368, -1.3024178511619444, -3.726043838682677, \"\", -0.2922696669707338, \"\", -3.52269555970807, \"\", -0.7146076019706042, -2.77215360461778, \"\", \"\", -0.48660085096817185, -0.15355857385846572, -0.8325122294341079, -0.35548354856884523, -0.5940434875104353, \"\", \"\", -1.8119748289367945, -1.3078230997509466, \"\", \"\", \"\", \"\", \"\", \"\", -1.5797994898853647, \"\", \"\", \"\", \"\", -0.7942334131111202, -3.379083119661711, \"\", \"\", -2.479335435502173, -1.9067604156858922, -0.13179690160152222, -0.3196607623290869, \"\", \"\", \"\", -1.0094681082819195, \"\", -0.3479018688060085, \"\", \"\", -0.9655714535681736, -0.598070410632521, \"\", -2.8226226552026397, \"\", -0.9969627814738641, -0.8142843599693648, \"\", \"\", \"\", \"\", \"\", -1.2684495193309187, \"\", \"\", -0.3131688599487715, -0.9567344468381069, -2.116919199840402, -0.026819972416850746, \"\", -0.2318970318359478, -2.0717930515999936, -2.1081600343702296, \"\", -1.271188036150088, \"\", -1.8788091147363681, -0.704193715420757, -0.24264297532990797], \"yaxis\": \"y2\"}],\n",
       "                        {\"hovermode\": \"x\", \"legend\": {\"bgcolor\": \"#F5F6F9\", \"font\": {\"color\": \"#4D5663\"}}, \"paper_bgcolor\": \"#F5F6F9\", \"plot_bgcolor\": \"#F5F6F9\", \"template\": {\"data\": {\"bar\": [{\"error_x\": {\"color\": \"#2a3f5f\"}, \"error_y\": {\"color\": \"#2a3f5f\"}, \"marker\": {\"line\": {\"color\": \"#E5ECF6\", \"width\": 0.5}}, \"type\": \"bar\"}], \"barpolar\": [{\"marker\": {\"line\": {\"color\": \"#E5ECF6\", \"width\": 0.5}}, \"type\": \"barpolar\"}], \"carpet\": [{\"aaxis\": {\"endlinecolor\": \"#2a3f5f\", \"gridcolor\": \"white\", \"linecolor\": \"white\", \"minorgridcolor\": \"white\", \"startlinecolor\": \"#2a3f5f\"}, \"baxis\": {\"endlinecolor\": \"#2a3f5f\", \"gridcolor\": \"white\", \"linecolor\": \"white\", \"minorgridcolor\": \"white\", \"startlinecolor\": \"#2a3f5f\"}, \"type\": \"carpet\"}], \"choropleth\": [{\"colorbar\": {\"outlinewidth\": 0, \"ticks\": \"\"}, \"type\": \"choropleth\"}], \"contour\": [{\"colorbar\": {\"outlinewidth\": 0, \"ticks\": \"\"}, \"colorscale\": [[0.0, \"#0d0887\"], [0.1111111111111111, \"#46039f\"], [0.2222222222222222, \"#7201a8\"], [0.3333333333333333, \"#9c179e\"], [0.4444444444444444, \"#bd3786\"], [0.5555555555555556, \"#d8576b\"], [0.6666666666666666, \"#ed7953\"], [0.7777777777777778, \"#fb9f3a\"], [0.8888888888888888, \"#fdca26\"], [1.0, \"#f0f921\"]], \"type\": \"contour\"}], \"contourcarpet\": [{\"colorbar\": {\"outlinewidth\": 0, \"ticks\": \"\"}, \"type\": \"contourcarpet\"}], \"heatmap\": [{\"colorbar\": {\"outlinewidth\": 0, \"ticks\": \"\"}, \"colorscale\": [[0.0, \"#0d0887\"], [0.1111111111111111, \"#46039f\"], [0.2222222222222222, \"#7201a8\"], [0.3333333333333333, \"#9c179e\"], [0.4444444444444444, \"#bd3786\"], [0.5555555555555556, \"#d8576b\"], [0.6666666666666666, \"#ed7953\"], [0.7777777777777778, \"#fb9f3a\"], [0.8888888888888888, \"#fdca26\"], [1.0, \"#f0f921\"]], \"type\": \"heatmap\"}], \"heatmapgl\": [{\"colorbar\": {\"outlinewidth\": 0, \"ticks\": \"\"}, \"colorscale\": [[0.0, \"#0d0887\"], [0.1111111111111111, \"#46039f\"], [0.2222222222222222, \"#7201a8\"], [0.3333333333333333, \"#9c179e\"], [0.4444444444444444, \"#bd3786\"], [0.5555555555555556, \"#d8576b\"], [0.6666666666666666, \"#ed7953\"], [0.7777777777777778, \"#fb9f3a\"], [0.8888888888888888, \"#fdca26\"], [1.0, \"#f0f921\"]], \"type\": \"heatmapgl\"}], \"histogram\": [{\"marker\": {\"colorbar\": {\"outlinewidth\": 0, \"ticks\": \"\"}}, \"type\": \"histogram\"}], \"histogram2d\": [{\"colorbar\": {\"outlinewidth\": 0, \"ticks\": \"\"}, \"colorscale\": [[0.0, \"#0d0887\"], [0.1111111111111111, \"#46039f\"], [0.2222222222222222, \"#7201a8\"], [0.3333333333333333, \"#9c179e\"], [0.4444444444444444, \"#bd3786\"], [0.5555555555555556, \"#d8576b\"], [0.6666666666666666, \"#ed7953\"], [0.7777777777777778, \"#fb9f3a\"], [0.8888888888888888, \"#fdca26\"], [1.0, \"#f0f921\"]], \"type\": \"histogram2d\"}], \"histogram2dcontour\": [{\"colorbar\": {\"outlinewidth\": 0, \"ticks\": \"\"}, \"colorscale\": [[0.0, \"#0d0887\"], [0.1111111111111111, \"#46039f\"], [0.2222222222222222, \"#7201a8\"], [0.3333333333333333, \"#9c179e\"], [0.4444444444444444, \"#bd3786\"], [0.5555555555555556, \"#d8576b\"], [0.6666666666666666, \"#ed7953\"], [0.7777777777777778, \"#fb9f3a\"], [0.8888888888888888, \"#fdca26\"], [1.0, \"#f0f921\"]], \"type\": \"histogram2dcontour\"}], \"mesh3d\": [{\"colorbar\": {\"outlinewidth\": 0, \"ticks\": \"\"}, \"type\": \"mesh3d\"}], \"parcoords\": [{\"line\": {\"colorbar\": {\"outlinewidth\": 0, \"ticks\": \"\"}}, \"type\": \"parcoords\"}], \"pie\": [{\"automargin\": true, \"type\": \"pie\"}], \"scatter\": [{\"marker\": {\"colorbar\": {\"outlinewidth\": 0, \"ticks\": \"\"}}, \"type\": \"scatter\"}], \"scatter3d\": [{\"line\": {\"colorbar\": {\"outlinewidth\": 0, \"ticks\": \"\"}}, \"marker\": {\"colorbar\": {\"outlinewidth\": 0, \"ticks\": \"\"}}, \"type\": \"scatter3d\"}], \"scattercarpet\": [{\"marker\": {\"colorbar\": {\"outlinewidth\": 0, \"ticks\": \"\"}}, \"type\": \"scattercarpet\"}], \"scattergeo\": [{\"marker\": {\"colorbar\": {\"outlinewidth\": 0, \"ticks\": \"\"}}, \"type\": \"scattergeo\"}], \"scattergl\": [{\"marker\": {\"colorbar\": {\"outlinewidth\": 0, \"ticks\": \"\"}}, \"type\": \"scattergl\"}], \"scattermapbox\": [{\"marker\": {\"colorbar\": {\"outlinewidth\": 0, \"ticks\": \"\"}}, \"type\": \"scattermapbox\"}], \"scatterpolar\": [{\"marker\": {\"colorbar\": {\"outlinewidth\": 0, \"ticks\": \"\"}}, \"type\": \"scatterpolar\"}], \"scatterpolargl\": [{\"marker\": {\"colorbar\": {\"outlinewidth\": 0, \"ticks\": \"\"}}, \"type\": \"scatterpolargl\"}], \"scatterternary\": [{\"marker\": {\"colorbar\": {\"outlinewidth\": 0, \"ticks\": \"\"}}, \"type\": \"scatterternary\"}], \"surface\": [{\"colorbar\": {\"outlinewidth\": 0, \"ticks\": \"\"}, \"colorscale\": [[0.0, \"#0d0887\"], [0.1111111111111111, \"#46039f\"], [0.2222222222222222, \"#7201a8\"], [0.3333333333333333, \"#9c179e\"], [0.4444444444444444, \"#bd3786\"], [0.5555555555555556, \"#d8576b\"], [0.6666666666666666, \"#ed7953\"], [0.7777777777777778, \"#fb9f3a\"], [0.8888888888888888, \"#fdca26\"], [1.0, \"#f0f921\"]], \"type\": \"surface\"}], \"table\": [{\"cells\": {\"fill\": {\"color\": \"#EBF0F8\"}, \"line\": {\"color\": \"white\"}}, \"header\": {\"fill\": {\"color\": \"#C8D4E3\"}, \"line\": {\"color\": \"white\"}}, \"type\": \"table\"}]}, \"layout\": {\"annotationdefaults\": {\"arrowcolor\": \"#2a3f5f\", \"arrowhead\": 0, \"arrowwidth\": 1}, \"coloraxis\": {\"colorbar\": {\"outlinewidth\": 0, \"ticks\": \"\"}}, \"colorscale\": {\"diverging\": [[0, \"#8e0152\"], [0.1, \"#c51b7d\"], [0.2, \"#de77ae\"], [0.3, \"#f1b6da\"], [0.4, \"#fde0ef\"], [0.5, \"#f7f7f7\"], [0.6, \"#e6f5d0\"], [0.7, \"#b8e186\"], [0.8, \"#7fbc41\"], [0.9, \"#4d9221\"], [1, \"#276419\"]], \"sequential\": [[0.0, \"#0d0887\"], [0.1111111111111111, \"#46039f\"], [0.2222222222222222, \"#7201a8\"], [0.3333333333333333, \"#9c179e\"], [0.4444444444444444, \"#bd3786\"], [0.5555555555555556, \"#d8576b\"], [0.6666666666666666, \"#ed7953\"], [0.7777777777777778, \"#fb9f3a\"], [0.8888888888888888, \"#fdca26\"], [1.0, \"#f0f921\"]], \"sequentialminus\": [[0.0, \"#0d0887\"], [0.1111111111111111, \"#46039f\"], [0.2222222222222222, \"#7201a8\"], [0.3333333333333333, \"#9c179e\"], [0.4444444444444444, \"#bd3786\"], [0.5555555555555556, \"#d8576b\"], [0.6666666666666666, \"#ed7953\"], [0.7777777777777778, \"#fb9f3a\"], [0.8888888888888888, \"#fdca26\"], [1.0, \"#f0f921\"]]}, \"colorway\": [\"#636efa\", \"#EF553B\", \"#00cc96\", \"#ab63fa\", \"#FFA15A\", \"#19d3f3\", \"#FF6692\", \"#B6E880\", \"#FF97FF\", \"#FECB52\"], \"font\": {\"color\": \"#2a3f5f\"}, \"geo\": {\"bgcolor\": \"white\", \"lakecolor\": \"white\", \"landcolor\": \"#E5ECF6\", \"showlakes\": true, \"showland\": true, \"subunitcolor\": \"white\"}, \"hoverlabel\": {\"align\": \"left\"}, \"hovermode\": \"closest\", \"mapbox\": {\"style\": \"light\"}, \"paper_bgcolor\": \"white\", \"plot_bgcolor\": \"#E5ECF6\", \"polar\": {\"angularaxis\": {\"gridcolor\": \"white\", \"linecolor\": \"white\", \"ticks\": \"\"}, \"bgcolor\": \"#E5ECF6\", \"radialaxis\": {\"gridcolor\": \"white\", \"linecolor\": \"white\", \"ticks\": \"\"}}, \"scene\": {\"xaxis\": {\"backgroundcolor\": \"#E5ECF6\", \"gridcolor\": \"white\", \"gridwidth\": 2, \"linecolor\": \"white\", \"showbackground\": true, \"ticks\": \"\", \"zerolinecolor\": \"white\"}, \"yaxis\": {\"backgroundcolor\": \"#E5ECF6\", \"gridcolor\": \"white\", \"gridwidth\": 2, \"linecolor\": \"white\", \"showbackground\": true, \"ticks\": \"\", \"zerolinecolor\": \"white\"}, \"zaxis\": {\"backgroundcolor\": \"#E5ECF6\", \"gridcolor\": \"white\", \"gridwidth\": 2, \"linecolor\": \"white\", \"showbackground\": true, \"ticks\": \"\", \"zerolinecolor\": \"white\"}}, \"shapedefaults\": {\"line\": {\"color\": \"#2a3f5f\"}}, \"ternary\": {\"aaxis\": {\"gridcolor\": \"white\", \"linecolor\": \"white\", \"ticks\": \"\"}, \"baxis\": {\"gridcolor\": \"white\", \"linecolor\": \"white\", \"ticks\": \"\"}, \"bgcolor\": \"#E5ECF6\", \"caxis\": {\"gridcolor\": \"white\", \"linecolor\": \"white\", \"ticks\": \"\"}}, \"title\": {\"x\": 0.05}, \"xaxis\": {\"automargin\": true, \"gridcolor\": \"white\", \"linecolor\": \"white\", \"ticks\": \"\", \"title\": {\"standoff\": 15}, \"zerolinecolor\": \"white\", \"zerolinewidth\": 2}, \"yaxis\": {\"automargin\": true, \"gridcolor\": \"white\", \"linecolor\": \"white\", \"ticks\": \"\", \"title\": {\"standoff\": 15}, \"zerolinecolor\": \"white\", \"zerolinewidth\": 2}}}, \"title\": {\"font\": {\"color\": \"#4D5663\"}}, \"xaxis\": {\"gridcolor\": \"#E1E5ED\", \"showgrid\": true, \"tickfont\": {\"color\": \"#4D5663\"}, \"title\": {\"font\": {\"color\": \"#4D5663\"}, \"text\": \"\"}, \"zerolinecolor\": \"#E1E5ED\"}, \"xaxis2\": {\"anchor\": \"y2\", \"gridcolor\": \"#E1E5ED\", \"showgrid\": true, \"showticklabels\": false, \"tickfont\": {\"color\": \"#4D5663\"}, \"title\": {\"font\": {\"color\": \"#4D5663\"}, \"text\": \"\"}, \"zerolinecolor\": \"#E1E5ED\"}, \"yaxis\": {\"domain\": [0.3, 1], \"gridcolor\": \"#E1E5ED\", \"showgrid\": true, \"tickfont\": {\"color\": \"#4D5663\"}, \"title\": {\"font\": {\"color\": \"#4D5663\"}, \"text\": \"\"}, \"zerolinecolor\": \"#E1E5ED\"}, \"yaxis2\": {\"domain\": [0, 0.25], \"gridcolor\": \"#E1E5ED\", \"showgrid\": true, \"tickfont\": {\"color\": \"#4D5663\"}, \"title\": {\"font\": {\"color\": \"#4D5663\"}, \"text\": \"Spread\"}, \"zerolinecolor\": \"#E1E5ED\"}},\n",
       "                        {\"showLink\": true, \"linkText\": \"Export to plot.ly\", \"plotlyServerURL\": \"https://plot.ly\", \"responsive\": true}\n",
       "                    ).then(function(){\n",
       "                            \n",
       "var gd = document.getElementById('0207974f-3151-4800-83b5-0b9ef9991690');\n",
       "var x = new MutationObserver(function (mutations, observer) {{\n",
       "        var display = window.getComputedStyle(gd).display;\n",
       "        if (!display || display === 'none') {{\n",
       "            console.log([gd, 'removed!']);\n",
       "            Plotly.purge(gd);\n",
       "            observer.disconnect();\n",
       "        }}\n",
       "}});\n",
       "\n",
       "// Listen for the removal of the full notebook cells\n",
       "var notebookContainer = gd.closest('#notebook-container');\n",
       "if (notebookContainer) {{\n",
       "    x.observe(notebookContainer, {childList: true});\n",
       "}}\n",
       "\n",
       "// Listen for the clearing of the current output cell\n",
       "var outputEl = gd.closest('.output');\n",
       "if (outputEl) {{\n",
       "    x.observe(outputEl, {childList: true});\n",
       "}}\n",
       "\n",
       "                        })\n",
       "                };\n",
       "                });\n",
       "            </script>\n",
       "        </div>"
      ]
     },
     "metadata": {},
     "output_type": "display_data"
    }
   ],
   "source": [
    "df[['A','B']].iplot(kind='spread')"
   ]
  },
  {
   "cell_type": "markdown",
   "metadata": {},
   "source": [
    "## histogram"
   ]
  },
  {
   "cell_type": "code",
   "execution_count": 17,
   "metadata": {},
   "outputs": [
    {
     "data": {
      "application/vnd.plotly.v1+json": {
       "config": {
        "linkText": "Export to plot.ly",
        "plotlyServerURL": "https://plot.ly",
        "showLink": true
       },
       "data": [
        {
         "histfunc": "count",
         "histnorm": "",
         "marker": {
          "color": "rgba(255, 153, 51, 1.0)",
          "line": {
           "color": "#4D5663",
           "width": 1.3
          }
         },
         "name": "A",
         "nbinsx": 25,
         "opacity": 0.8,
         "orientation": "v",
         "type": "histogram",
         "x": [
          -1.316509150580487,
          0.6567439213089783,
          -1.2117246351490527,
          -0.7795197648889394,
          -1.3086898864866376,
          1.1530168155654092,
          0.13998590336540567,
          -0.11056327817001697,
          1.7537011117105172,
          0.8810323955893713,
          0.10541010497618351,
          1.011575063785946,
          2.1228749009656473,
          -0.3075112722036564,
          1.038681885646689,
          -0.6319853146199059,
          2.2189715728894632,
          -1.4770145042427665,
          -0.153470368878263,
          -0.18727900695016553,
          1.9078574381220432,
          1.0499974193565844,
          0.46542902797864877,
          -0.6260746672943875,
          -0.03689923737424436,
          -1.0944391791639074,
          1.2481303879716057,
          0.09959660652843288,
          0.057031069351861356,
          -1.4176608242708042,
          0.27913325253238075,
          0.8782737897274759,
          -3.3361675913751814,
          -0.3611118893203861,
          0.9042067738977311,
          1.0392994720741469,
          0.3020476385379728,
          -1.10241740023384,
          0.6679332094321817,
          0.2603822989676794,
          0.45894985553075557,
          -0.011014647071094298,
          -1.2018062699942935,
          -1.288958573508946,
          -0.6602935547316192,
          0.559523528635203,
          0.9105335102135964,
          0.9007433046119707,
          -0.8788546818988332,
          1.2187402667118685,
          -0.3162671648927026,
          0.9555369947525019,
          0.8331485196348947,
          0.5643353781041094,
          0.9456632663673213,
          -0.16924653010990728,
          -2.8385553526488563,
          0.4385338754031157,
          2.050375616692176,
          -0.5957780568198906,
          -0.6391337028422326,
          0.04999693554916875,
          -0.9905604339917498,
          0.7126128257249994,
          1.623879844150366,
          0.7439398470037102,
          -1.4338603239722083,
          0.4223377380195463,
          0.7047789877639619,
          1.2997906440556526,
          1.1377795006181677,
          -0.37982037981568656,
          -0.8183289865038762,
          2.1150365234629778,
          -1.6315774177580455,
          1.557670994327429,
          0.27435834635581113,
          -0.2020660134299496,
          0.6622294003232192,
          -0.7507187976400996,
          1.6841078411643216,
          0.15725059523555834,
          0.20403175525934233,
          -0.10228075446346539,
          -0.45075758084417217,
          0.23398092630605663,
          0.7020994443457834,
          -1.372013643107886,
          -0.830234550415995,
          1.0471754048685615,
          0.2791516597674779,
          0.8073438839758672,
          -1.1840786596386352,
          -1.2438633167946165,
          0.6711553346045185,
          -1.05947273041682,
          -0.21268450772722713,
          -0.7716616231268543,
          -0.6618813607239717,
          -0.7691251660875101
         ]
        }
       ],
       "layout": {
        "barmode": "overlay",
        "legend": {
         "bgcolor": "#F5F6F9",
         "font": {
          "color": "#4D5663"
         }
        },
        "paper_bgcolor": "#F5F6F9",
        "plot_bgcolor": "#F5F6F9",
        "template": {
         "data": {
          "bar": [
           {
            "error_x": {
             "color": "#2a3f5f"
            },
            "error_y": {
             "color": "#2a3f5f"
            },
            "marker": {
             "line": {
              "color": "#E5ECF6",
              "width": 0.5
             }
            },
            "type": "bar"
           }
          ],
          "barpolar": [
           {
            "marker": {
             "line": {
              "color": "#E5ECF6",
              "width": 0.5
             }
            },
            "type": "barpolar"
           }
          ],
          "carpet": [
           {
            "aaxis": {
             "endlinecolor": "#2a3f5f",
             "gridcolor": "white",
             "linecolor": "white",
             "minorgridcolor": "white",
             "startlinecolor": "#2a3f5f"
            },
            "baxis": {
             "endlinecolor": "#2a3f5f",
             "gridcolor": "white",
             "linecolor": "white",
             "minorgridcolor": "white",
             "startlinecolor": "#2a3f5f"
            },
            "type": "carpet"
           }
          ],
          "choropleth": [
           {
            "colorbar": {
             "outlinewidth": 0,
             "ticks": ""
            },
            "type": "choropleth"
           }
          ],
          "contour": [
           {
            "colorbar": {
             "outlinewidth": 0,
             "ticks": ""
            },
            "colorscale": [
             [
              0,
              "#0d0887"
             ],
             [
              0.1111111111111111,
              "#46039f"
             ],
             [
              0.2222222222222222,
              "#7201a8"
             ],
             [
              0.3333333333333333,
              "#9c179e"
             ],
             [
              0.4444444444444444,
              "#bd3786"
             ],
             [
              0.5555555555555556,
              "#d8576b"
             ],
             [
              0.6666666666666666,
              "#ed7953"
             ],
             [
              0.7777777777777778,
              "#fb9f3a"
             ],
             [
              0.8888888888888888,
              "#fdca26"
             ],
             [
              1,
              "#f0f921"
             ]
            ],
            "type": "contour"
           }
          ],
          "contourcarpet": [
           {
            "colorbar": {
             "outlinewidth": 0,
             "ticks": ""
            },
            "type": "contourcarpet"
           }
          ],
          "heatmap": [
           {
            "colorbar": {
             "outlinewidth": 0,
             "ticks": ""
            },
            "colorscale": [
             [
              0,
              "#0d0887"
             ],
             [
              0.1111111111111111,
              "#46039f"
             ],
             [
              0.2222222222222222,
              "#7201a8"
             ],
             [
              0.3333333333333333,
              "#9c179e"
             ],
             [
              0.4444444444444444,
              "#bd3786"
             ],
             [
              0.5555555555555556,
              "#d8576b"
             ],
             [
              0.6666666666666666,
              "#ed7953"
             ],
             [
              0.7777777777777778,
              "#fb9f3a"
             ],
             [
              0.8888888888888888,
              "#fdca26"
             ],
             [
              1,
              "#f0f921"
             ]
            ],
            "type": "heatmap"
           }
          ],
          "heatmapgl": [
           {
            "colorbar": {
             "outlinewidth": 0,
             "ticks": ""
            },
            "colorscale": [
             [
              0,
              "#0d0887"
             ],
             [
              0.1111111111111111,
              "#46039f"
             ],
             [
              0.2222222222222222,
              "#7201a8"
             ],
             [
              0.3333333333333333,
              "#9c179e"
             ],
             [
              0.4444444444444444,
              "#bd3786"
             ],
             [
              0.5555555555555556,
              "#d8576b"
             ],
             [
              0.6666666666666666,
              "#ed7953"
             ],
             [
              0.7777777777777778,
              "#fb9f3a"
             ],
             [
              0.8888888888888888,
              "#fdca26"
             ],
             [
              1,
              "#f0f921"
             ]
            ],
            "type": "heatmapgl"
           }
          ],
          "histogram": [
           {
            "marker": {
             "colorbar": {
              "outlinewidth": 0,
              "ticks": ""
             }
            },
            "type": "histogram"
           }
          ],
          "histogram2d": [
           {
            "colorbar": {
             "outlinewidth": 0,
             "ticks": ""
            },
            "colorscale": [
             [
              0,
              "#0d0887"
             ],
             [
              0.1111111111111111,
              "#46039f"
             ],
             [
              0.2222222222222222,
              "#7201a8"
             ],
             [
              0.3333333333333333,
              "#9c179e"
             ],
             [
              0.4444444444444444,
              "#bd3786"
             ],
             [
              0.5555555555555556,
              "#d8576b"
             ],
             [
              0.6666666666666666,
              "#ed7953"
             ],
             [
              0.7777777777777778,
              "#fb9f3a"
             ],
             [
              0.8888888888888888,
              "#fdca26"
             ],
             [
              1,
              "#f0f921"
             ]
            ],
            "type": "histogram2d"
           }
          ],
          "histogram2dcontour": [
           {
            "colorbar": {
             "outlinewidth": 0,
             "ticks": ""
            },
            "colorscale": [
             [
              0,
              "#0d0887"
             ],
             [
              0.1111111111111111,
              "#46039f"
             ],
             [
              0.2222222222222222,
              "#7201a8"
             ],
             [
              0.3333333333333333,
              "#9c179e"
             ],
             [
              0.4444444444444444,
              "#bd3786"
             ],
             [
              0.5555555555555556,
              "#d8576b"
             ],
             [
              0.6666666666666666,
              "#ed7953"
             ],
             [
              0.7777777777777778,
              "#fb9f3a"
             ],
             [
              0.8888888888888888,
              "#fdca26"
             ],
             [
              1,
              "#f0f921"
             ]
            ],
            "type": "histogram2dcontour"
           }
          ],
          "mesh3d": [
           {
            "colorbar": {
             "outlinewidth": 0,
             "ticks": ""
            },
            "type": "mesh3d"
           }
          ],
          "parcoords": [
           {
            "line": {
             "colorbar": {
              "outlinewidth": 0,
              "ticks": ""
             }
            },
            "type": "parcoords"
           }
          ],
          "pie": [
           {
            "automargin": true,
            "type": "pie"
           }
          ],
          "scatter": [
           {
            "marker": {
             "colorbar": {
              "outlinewidth": 0,
              "ticks": ""
             }
            },
            "type": "scatter"
           }
          ],
          "scatter3d": [
           {
            "line": {
             "colorbar": {
              "outlinewidth": 0,
              "ticks": ""
             }
            },
            "marker": {
             "colorbar": {
              "outlinewidth": 0,
              "ticks": ""
             }
            },
            "type": "scatter3d"
           }
          ],
          "scattercarpet": [
           {
            "marker": {
             "colorbar": {
              "outlinewidth": 0,
              "ticks": ""
             }
            },
            "type": "scattercarpet"
           }
          ],
          "scattergeo": [
           {
            "marker": {
             "colorbar": {
              "outlinewidth": 0,
              "ticks": ""
             }
            },
            "type": "scattergeo"
           }
          ],
          "scattergl": [
           {
            "marker": {
             "colorbar": {
              "outlinewidth": 0,
              "ticks": ""
             }
            },
            "type": "scattergl"
           }
          ],
          "scattermapbox": [
           {
            "marker": {
             "colorbar": {
              "outlinewidth": 0,
              "ticks": ""
             }
            },
            "type": "scattermapbox"
           }
          ],
          "scatterpolar": [
           {
            "marker": {
             "colorbar": {
              "outlinewidth": 0,
              "ticks": ""
             }
            },
            "type": "scatterpolar"
           }
          ],
          "scatterpolargl": [
           {
            "marker": {
             "colorbar": {
              "outlinewidth": 0,
              "ticks": ""
             }
            },
            "type": "scatterpolargl"
           }
          ],
          "scatterternary": [
           {
            "marker": {
             "colorbar": {
              "outlinewidth": 0,
              "ticks": ""
             }
            },
            "type": "scatterternary"
           }
          ],
          "surface": [
           {
            "colorbar": {
             "outlinewidth": 0,
             "ticks": ""
            },
            "colorscale": [
             [
              0,
              "#0d0887"
             ],
             [
              0.1111111111111111,
              "#46039f"
             ],
             [
              0.2222222222222222,
              "#7201a8"
             ],
             [
              0.3333333333333333,
              "#9c179e"
             ],
             [
              0.4444444444444444,
              "#bd3786"
             ],
             [
              0.5555555555555556,
              "#d8576b"
             ],
             [
              0.6666666666666666,
              "#ed7953"
             ],
             [
              0.7777777777777778,
              "#fb9f3a"
             ],
             [
              0.8888888888888888,
              "#fdca26"
             ],
             [
              1,
              "#f0f921"
             ]
            ],
            "type": "surface"
           }
          ],
          "table": [
           {
            "cells": {
             "fill": {
              "color": "#EBF0F8"
             },
             "line": {
              "color": "white"
             }
            },
            "header": {
             "fill": {
              "color": "#C8D4E3"
             },
             "line": {
              "color": "white"
             }
            },
            "type": "table"
           }
          ]
         },
         "layout": {
          "annotationdefaults": {
           "arrowcolor": "#2a3f5f",
           "arrowhead": 0,
           "arrowwidth": 1
          },
          "coloraxis": {
           "colorbar": {
            "outlinewidth": 0,
            "ticks": ""
           }
          },
          "colorscale": {
           "diverging": [
            [
             0,
             "#8e0152"
            ],
            [
             0.1,
             "#c51b7d"
            ],
            [
             0.2,
             "#de77ae"
            ],
            [
             0.3,
             "#f1b6da"
            ],
            [
             0.4,
             "#fde0ef"
            ],
            [
             0.5,
             "#f7f7f7"
            ],
            [
             0.6,
             "#e6f5d0"
            ],
            [
             0.7,
             "#b8e186"
            ],
            [
             0.8,
             "#7fbc41"
            ],
            [
             0.9,
             "#4d9221"
            ],
            [
             1,
             "#276419"
            ]
           ],
           "sequential": [
            [
             0,
             "#0d0887"
            ],
            [
             0.1111111111111111,
             "#46039f"
            ],
            [
             0.2222222222222222,
             "#7201a8"
            ],
            [
             0.3333333333333333,
             "#9c179e"
            ],
            [
             0.4444444444444444,
             "#bd3786"
            ],
            [
             0.5555555555555556,
             "#d8576b"
            ],
            [
             0.6666666666666666,
             "#ed7953"
            ],
            [
             0.7777777777777778,
             "#fb9f3a"
            ],
            [
             0.8888888888888888,
             "#fdca26"
            ],
            [
             1,
             "#f0f921"
            ]
           ],
           "sequentialminus": [
            [
             0,
             "#0d0887"
            ],
            [
             0.1111111111111111,
             "#46039f"
            ],
            [
             0.2222222222222222,
             "#7201a8"
            ],
            [
             0.3333333333333333,
             "#9c179e"
            ],
            [
             0.4444444444444444,
             "#bd3786"
            ],
            [
             0.5555555555555556,
             "#d8576b"
            ],
            [
             0.6666666666666666,
             "#ed7953"
            ],
            [
             0.7777777777777778,
             "#fb9f3a"
            ],
            [
             0.8888888888888888,
             "#fdca26"
            ],
            [
             1,
             "#f0f921"
            ]
           ]
          },
          "colorway": [
           "#636efa",
           "#EF553B",
           "#00cc96",
           "#ab63fa",
           "#FFA15A",
           "#19d3f3",
           "#FF6692",
           "#B6E880",
           "#FF97FF",
           "#FECB52"
          ],
          "font": {
           "color": "#2a3f5f"
          },
          "geo": {
           "bgcolor": "white",
           "lakecolor": "white",
           "landcolor": "#E5ECF6",
           "showlakes": true,
           "showland": true,
           "subunitcolor": "white"
          },
          "hoverlabel": {
           "align": "left"
          },
          "hovermode": "closest",
          "mapbox": {
           "style": "light"
          },
          "paper_bgcolor": "white",
          "plot_bgcolor": "#E5ECF6",
          "polar": {
           "angularaxis": {
            "gridcolor": "white",
            "linecolor": "white",
            "ticks": ""
           },
           "bgcolor": "#E5ECF6",
           "radialaxis": {
            "gridcolor": "white",
            "linecolor": "white",
            "ticks": ""
           }
          },
          "scene": {
           "xaxis": {
            "backgroundcolor": "#E5ECF6",
            "gridcolor": "white",
            "gridwidth": 2,
            "linecolor": "white",
            "showbackground": true,
            "ticks": "",
            "zerolinecolor": "white"
           },
           "yaxis": {
            "backgroundcolor": "#E5ECF6",
            "gridcolor": "white",
            "gridwidth": 2,
            "linecolor": "white",
            "showbackground": true,
            "ticks": "",
            "zerolinecolor": "white"
           },
           "zaxis": {
            "backgroundcolor": "#E5ECF6",
            "gridcolor": "white",
            "gridwidth": 2,
            "linecolor": "white",
            "showbackground": true,
            "ticks": "",
            "zerolinecolor": "white"
           }
          },
          "shapedefaults": {
           "line": {
            "color": "#2a3f5f"
           }
          },
          "ternary": {
           "aaxis": {
            "gridcolor": "white",
            "linecolor": "white",
            "ticks": ""
           },
           "baxis": {
            "gridcolor": "white",
            "linecolor": "white",
            "ticks": ""
           },
           "bgcolor": "#E5ECF6",
           "caxis": {
            "gridcolor": "white",
            "linecolor": "white",
            "ticks": ""
           }
          },
          "title": {
           "x": 0.05
          },
          "xaxis": {
           "automargin": true,
           "gridcolor": "white",
           "linecolor": "white",
           "ticks": "",
           "title": {
            "standoff": 15
           },
           "zerolinecolor": "white",
           "zerolinewidth": 2
          },
          "yaxis": {
           "automargin": true,
           "gridcolor": "white",
           "linecolor": "white",
           "ticks": "",
           "title": {
            "standoff": 15
           },
           "zerolinecolor": "white",
           "zerolinewidth": 2
          }
         }
        },
        "title": {
         "font": {
          "color": "#4D5663"
         }
        },
        "xaxis": {
         "gridcolor": "#E1E5ED",
         "showgrid": true,
         "tickfont": {
          "color": "#4D5663"
         },
         "title": {
          "font": {
           "color": "#4D5663"
          },
          "text": ""
         },
         "zerolinecolor": "#E1E5ED"
        },
        "yaxis": {
         "gridcolor": "#E1E5ED",
         "showgrid": true,
         "tickfont": {
          "color": "#4D5663"
         },
         "title": {
          "font": {
           "color": "#4D5663"
          },
          "text": ""
         },
         "zerolinecolor": "#E1E5ED"
        }
       }
      },
      "text/html": [
       "<div>\n",
       "        \n",
       "        \n",
       "            <div id=\"b1a935b6-71a4-462a-8ddd-e1c0e8be9f19\" class=\"plotly-graph-div\" style=\"height:525px; width:100%;\"></div>\n",
       "            <script type=\"text/javascript\">\n",
       "                require([\"plotly\"], function(Plotly) {\n",
       "                    window.PLOTLYENV=window.PLOTLYENV || {};\n",
       "                    window.PLOTLYENV.BASE_URL='https://plot.ly';\n",
       "                    \n",
       "                if (document.getElementById(\"b1a935b6-71a4-462a-8ddd-e1c0e8be9f19\")) {\n",
       "                    Plotly.newPlot(\n",
       "                        'b1a935b6-71a4-462a-8ddd-e1c0e8be9f19',\n",
       "                        [{\"histfunc\": \"count\", \"histnorm\": \"\", \"marker\": {\"color\": \"rgba(255, 153, 51, 1.0)\", \"line\": {\"color\": \"#4D5663\", \"width\": 1.3}}, \"name\": \"A\", \"nbinsx\": 25, \"opacity\": 0.8, \"orientation\": \"v\", \"type\": \"histogram\", \"x\": [-1.316509150580487, 0.6567439213089783, -1.2117246351490527, -0.7795197648889394, -1.3086898864866376, 1.1530168155654092, 0.13998590336540567, -0.11056327817001697, 1.7537011117105172, 0.8810323955893713, 0.10541010497618351, 1.011575063785946, 2.1228749009656473, -0.3075112722036564, 1.038681885646689, -0.6319853146199059, 2.2189715728894632, -1.4770145042427665, -0.153470368878263, -0.18727900695016553, 1.9078574381220432, 1.0499974193565844, 0.46542902797864877, -0.6260746672943875, -0.03689923737424436, -1.0944391791639074, 1.2481303879716057, 0.09959660652843288, 0.057031069351861356, -1.4176608242708042, 0.27913325253238075, 0.8782737897274759, -3.3361675913751814, -0.3611118893203861, 0.9042067738977311, 1.0392994720741469, 0.3020476385379728, -1.10241740023384, 0.6679332094321817, 0.2603822989676794, 0.45894985553075557, -0.011014647071094298, -1.2018062699942935, -1.288958573508946, -0.6602935547316192, 0.559523528635203, 0.9105335102135964, 0.9007433046119707, -0.8788546818988332, 1.2187402667118685, -0.3162671648927026, 0.9555369947525019, 0.8331485196348947, 0.5643353781041094, 0.9456632663673213, -0.16924653010990728, -2.8385553526488563, 0.4385338754031157, 2.050375616692176, -0.5957780568198906, -0.6391337028422326, 0.04999693554916875, -0.9905604339917498, 0.7126128257249994, 1.623879844150366, 0.7439398470037102, -1.4338603239722083, 0.4223377380195463, 0.7047789877639619, 1.2997906440556526, 1.1377795006181677, -0.37982037981568656, -0.8183289865038762, 2.1150365234629778, -1.6315774177580455, 1.557670994327429, 0.27435834635581113, -0.2020660134299496, 0.6622294003232192, -0.7507187976400996, 1.6841078411643216, 0.15725059523555834, 0.20403175525934233, -0.10228075446346539, -0.45075758084417217, 0.23398092630605663, 0.7020994443457834, -1.372013643107886, -0.830234550415995, 1.0471754048685615, 0.2791516597674779, 0.8073438839758672, -1.1840786596386352, -1.2438633167946165, 0.6711553346045185, -1.05947273041682, -0.21268450772722713, -0.7716616231268543, -0.6618813607239717, -0.7691251660875101]}],\n",
       "                        {\"barmode\": \"overlay\", \"legend\": {\"bgcolor\": \"#F5F6F9\", \"font\": {\"color\": \"#4D5663\"}}, \"paper_bgcolor\": \"#F5F6F9\", \"plot_bgcolor\": \"#F5F6F9\", \"template\": {\"data\": {\"bar\": [{\"error_x\": {\"color\": \"#2a3f5f\"}, \"error_y\": {\"color\": \"#2a3f5f\"}, \"marker\": {\"line\": {\"color\": \"#E5ECF6\", \"width\": 0.5}}, \"type\": \"bar\"}], \"barpolar\": [{\"marker\": {\"line\": {\"color\": \"#E5ECF6\", \"width\": 0.5}}, \"type\": \"barpolar\"}], \"carpet\": [{\"aaxis\": {\"endlinecolor\": \"#2a3f5f\", \"gridcolor\": \"white\", \"linecolor\": \"white\", \"minorgridcolor\": \"white\", \"startlinecolor\": \"#2a3f5f\"}, \"baxis\": {\"endlinecolor\": \"#2a3f5f\", \"gridcolor\": \"white\", \"linecolor\": \"white\", \"minorgridcolor\": \"white\", \"startlinecolor\": \"#2a3f5f\"}, \"type\": \"carpet\"}], \"choropleth\": [{\"colorbar\": {\"outlinewidth\": 0, \"ticks\": \"\"}, \"type\": \"choropleth\"}], \"contour\": [{\"colorbar\": {\"outlinewidth\": 0, \"ticks\": \"\"}, \"colorscale\": [[0.0, \"#0d0887\"], [0.1111111111111111, \"#46039f\"], [0.2222222222222222, \"#7201a8\"], [0.3333333333333333, \"#9c179e\"], [0.4444444444444444, \"#bd3786\"], [0.5555555555555556, \"#d8576b\"], [0.6666666666666666, \"#ed7953\"], [0.7777777777777778, \"#fb9f3a\"], [0.8888888888888888, \"#fdca26\"], [1.0, \"#f0f921\"]], \"type\": \"contour\"}], \"contourcarpet\": [{\"colorbar\": {\"outlinewidth\": 0, \"ticks\": \"\"}, \"type\": \"contourcarpet\"}], \"heatmap\": [{\"colorbar\": {\"outlinewidth\": 0, \"ticks\": \"\"}, \"colorscale\": [[0.0, \"#0d0887\"], [0.1111111111111111, \"#46039f\"], [0.2222222222222222, \"#7201a8\"], [0.3333333333333333, \"#9c179e\"], [0.4444444444444444, \"#bd3786\"], [0.5555555555555556, \"#d8576b\"], [0.6666666666666666, \"#ed7953\"], [0.7777777777777778, \"#fb9f3a\"], [0.8888888888888888, \"#fdca26\"], [1.0, \"#f0f921\"]], \"type\": \"heatmap\"}], \"heatmapgl\": [{\"colorbar\": {\"outlinewidth\": 0, \"ticks\": \"\"}, \"colorscale\": [[0.0, \"#0d0887\"], [0.1111111111111111, \"#46039f\"], [0.2222222222222222, \"#7201a8\"], [0.3333333333333333, \"#9c179e\"], [0.4444444444444444, \"#bd3786\"], [0.5555555555555556, \"#d8576b\"], [0.6666666666666666, \"#ed7953\"], [0.7777777777777778, \"#fb9f3a\"], [0.8888888888888888, \"#fdca26\"], [1.0, \"#f0f921\"]], \"type\": \"heatmapgl\"}], \"histogram\": [{\"marker\": {\"colorbar\": {\"outlinewidth\": 0, \"ticks\": \"\"}}, \"type\": \"histogram\"}], \"histogram2d\": [{\"colorbar\": {\"outlinewidth\": 0, \"ticks\": \"\"}, \"colorscale\": [[0.0, \"#0d0887\"], [0.1111111111111111, \"#46039f\"], [0.2222222222222222, \"#7201a8\"], [0.3333333333333333, \"#9c179e\"], [0.4444444444444444, \"#bd3786\"], [0.5555555555555556, \"#d8576b\"], [0.6666666666666666, \"#ed7953\"], [0.7777777777777778, \"#fb9f3a\"], [0.8888888888888888, \"#fdca26\"], [1.0, \"#f0f921\"]], \"type\": \"histogram2d\"}], \"histogram2dcontour\": [{\"colorbar\": {\"outlinewidth\": 0, \"ticks\": \"\"}, \"colorscale\": [[0.0, \"#0d0887\"], [0.1111111111111111, \"#46039f\"], [0.2222222222222222, \"#7201a8\"], [0.3333333333333333, \"#9c179e\"], [0.4444444444444444, \"#bd3786\"], [0.5555555555555556, \"#d8576b\"], [0.6666666666666666, \"#ed7953\"], [0.7777777777777778, \"#fb9f3a\"], [0.8888888888888888, \"#fdca26\"], [1.0, \"#f0f921\"]], \"type\": \"histogram2dcontour\"}], \"mesh3d\": [{\"colorbar\": {\"outlinewidth\": 0, \"ticks\": \"\"}, \"type\": \"mesh3d\"}], \"parcoords\": [{\"line\": {\"colorbar\": {\"outlinewidth\": 0, \"ticks\": \"\"}}, \"type\": \"parcoords\"}], \"pie\": [{\"automargin\": true, \"type\": \"pie\"}], \"scatter\": [{\"marker\": {\"colorbar\": {\"outlinewidth\": 0, \"ticks\": \"\"}}, \"type\": \"scatter\"}], \"scatter3d\": [{\"line\": {\"colorbar\": {\"outlinewidth\": 0, \"ticks\": \"\"}}, \"marker\": {\"colorbar\": {\"outlinewidth\": 0, \"ticks\": \"\"}}, \"type\": \"scatter3d\"}], \"scattercarpet\": [{\"marker\": {\"colorbar\": {\"outlinewidth\": 0, \"ticks\": \"\"}}, \"type\": \"scattercarpet\"}], \"scattergeo\": [{\"marker\": {\"colorbar\": {\"outlinewidth\": 0, \"ticks\": \"\"}}, \"type\": \"scattergeo\"}], \"scattergl\": [{\"marker\": {\"colorbar\": {\"outlinewidth\": 0, \"ticks\": \"\"}}, \"type\": \"scattergl\"}], \"scattermapbox\": [{\"marker\": {\"colorbar\": {\"outlinewidth\": 0, \"ticks\": \"\"}}, \"type\": \"scattermapbox\"}], \"scatterpolar\": [{\"marker\": {\"colorbar\": {\"outlinewidth\": 0, \"ticks\": \"\"}}, \"type\": \"scatterpolar\"}], \"scatterpolargl\": [{\"marker\": {\"colorbar\": {\"outlinewidth\": 0, \"ticks\": \"\"}}, \"type\": \"scatterpolargl\"}], \"scatterternary\": [{\"marker\": {\"colorbar\": {\"outlinewidth\": 0, \"ticks\": \"\"}}, \"type\": \"scatterternary\"}], \"surface\": [{\"colorbar\": {\"outlinewidth\": 0, \"ticks\": \"\"}, \"colorscale\": [[0.0, \"#0d0887\"], [0.1111111111111111, \"#46039f\"], [0.2222222222222222, \"#7201a8\"], [0.3333333333333333, \"#9c179e\"], [0.4444444444444444, \"#bd3786\"], [0.5555555555555556, \"#d8576b\"], [0.6666666666666666, \"#ed7953\"], [0.7777777777777778, \"#fb9f3a\"], [0.8888888888888888, \"#fdca26\"], [1.0, \"#f0f921\"]], \"type\": \"surface\"}], \"table\": [{\"cells\": {\"fill\": {\"color\": \"#EBF0F8\"}, \"line\": {\"color\": \"white\"}}, \"header\": {\"fill\": {\"color\": \"#C8D4E3\"}, \"line\": {\"color\": \"white\"}}, \"type\": \"table\"}]}, \"layout\": {\"annotationdefaults\": {\"arrowcolor\": \"#2a3f5f\", \"arrowhead\": 0, \"arrowwidth\": 1}, \"coloraxis\": {\"colorbar\": {\"outlinewidth\": 0, \"ticks\": \"\"}}, \"colorscale\": {\"diverging\": [[0, \"#8e0152\"], [0.1, \"#c51b7d\"], [0.2, \"#de77ae\"], [0.3, \"#f1b6da\"], [0.4, \"#fde0ef\"], [0.5, \"#f7f7f7\"], [0.6, \"#e6f5d0\"], [0.7, \"#b8e186\"], [0.8, \"#7fbc41\"], [0.9, \"#4d9221\"], [1, \"#276419\"]], \"sequential\": [[0.0, \"#0d0887\"], [0.1111111111111111, \"#46039f\"], [0.2222222222222222, \"#7201a8\"], [0.3333333333333333, \"#9c179e\"], [0.4444444444444444, \"#bd3786\"], [0.5555555555555556, \"#d8576b\"], [0.6666666666666666, \"#ed7953\"], [0.7777777777777778, \"#fb9f3a\"], [0.8888888888888888, \"#fdca26\"], [1.0, \"#f0f921\"]], \"sequentialminus\": [[0.0, \"#0d0887\"], [0.1111111111111111, \"#46039f\"], [0.2222222222222222, \"#7201a8\"], [0.3333333333333333, \"#9c179e\"], [0.4444444444444444, \"#bd3786\"], [0.5555555555555556, \"#d8576b\"], [0.6666666666666666, \"#ed7953\"], [0.7777777777777778, \"#fb9f3a\"], [0.8888888888888888, \"#fdca26\"], [1.0, \"#f0f921\"]]}, \"colorway\": [\"#636efa\", \"#EF553B\", \"#00cc96\", \"#ab63fa\", \"#FFA15A\", \"#19d3f3\", \"#FF6692\", \"#B6E880\", \"#FF97FF\", \"#FECB52\"], \"font\": {\"color\": \"#2a3f5f\"}, \"geo\": {\"bgcolor\": \"white\", \"lakecolor\": \"white\", \"landcolor\": \"#E5ECF6\", \"showlakes\": true, \"showland\": true, \"subunitcolor\": \"white\"}, \"hoverlabel\": {\"align\": \"left\"}, \"hovermode\": \"closest\", \"mapbox\": {\"style\": \"light\"}, \"paper_bgcolor\": \"white\", \"plot_bgcolor\": \"#E5ECF6\", \"polar\": {\"angularaxis\": {\"gridcolor\": \"white\", \"linecolor\": \"white\", \"ticks\": \"\"}, \"bgcolor\": \"#E5ECF6\", \"radialaxis\": {\"gridcolor\": \"white\", \"linecolor\": \"white\", \"ticks\": \"\"}}, \"scene\": {\"xaxis\": {\"backgroundcolor\": \"#E5ECF6\", \"gridcolor\": \"white\", \"gridwidth\": 2, \"linecolor\": \"white\", \"showbackground\": true, \"ticks\": \"\", \"zerolinecolor\": \"white\"}, \"yaxis\": {\"backgroundcolor\": \"#E5ECF6\", \"gridcolor\": \"white\", \"gridwidth\": 2, \"linecolor\": \"white\", \"showbackground\": true, \"ticks\": \"\", \"zerolinecolor\": \"white\"}, \"zaxis\": {\"backgroundcolor\": \"#E5ECF6\", \"gridcolor\": \"white\", \"gridwidth\": 2, \"linecolor\": \"white\", \"showbackground\": true, \"ticks\": \"\", \"zerolinecolor\": \"white\"}}, \"shapedefaults\": {\"line\": {\"color\": \"#2a3f5f\"}}, \"ternary\": {\"aaxis\": {\"gridcolor\": \"white\", \"linecolor\": \"white\", \"ticks\": \"\"}, \"baxis\": {\"gridcolor\": \"white\", \"linecolor\": \"white\", \"ticks\": \"\"}, \"bgcolor\": \"#E5ECF6\", \"caxis\": {\"gridcolor\": \"white\", \"linecolor\": \"white\", \"ticks\": \"\"}}, \"title\": {\"x\": 0.05}, \"xaxis\": {\"automargin\": true, \"gridcolor\": \"white\", \"linecolor\": \"white\", \"ticks\": \"\", \"title\": {\"standoff\": 15}, \"zerolinecolor\": \"white\", \"zerolinewidth\": 2}, \"yaxis\": {\"automargin\": true, \"gridcolor\": \"white\", \"linecolor\": \"white\", \"ticks\": \"\", \"title\": {\"standoff\": 15}, \"zerolinecolor\": \"white\", \"zerolinewidth\": 2}}}, \"title\": {\"font\": {\"color\": \"#4D5663\"}}, \"xaxis\": {\"gridcolor\": \"#E1E5ED\", \"showgrid\": true, \"tickfont\": {\"color\": \"#4D5663\"}, \"title\": {\"font\": {\"color\": \"#4D5663\"}, \"text\": \"\"}, \"zerolinecolor\": \"#E1E5ED\"}, \"yaxis\": {\"gridcolor\": \"#E1E5ED\", \"showgrid\": true, \"tickfont\": {\"color\": \"#4D5663\"}, \"title\": {\"font\": {\"color\": \"#4D5663\"}, \"text\": \"\"}, \"zerolinecolor\": \"#E1E5ED\"}},\n",
       "                        {\"showLink\": true, \"linkText\": \"Export to plot.ly\", \"plotlyServerURL\": \"https://plot.ly\", \"responsive\": true}\n",
       "                    ).then(function(){\n",
       "                            \n",
       "var gd = document.getElementById('b1a935b6-71a4-462a-8ddd-e1c0e8be9f19');\n",
       "var x = new MutationObserver(function (mutations, observer) {{\n",
       "        var display = window.getComputedStyle(gd).display;\n",
       "        if (!display || display === 'none') {{\n",
       "            console.log([gd, 'removed!']);\n",
       "            Plotly.purge(gd);\n",
       "            observer.disconnect();\n",
       "        }}\n",
       "}});\n",
       "\n",
       "// Listen for the removal of the full notebook cells\n",
       "var notebookContainer = gd.closest('#notebook-container');\n",
       "if (notebookContainer) {{\n",
       "    x.observe(notebookContainer, {childList: true});\n",
       "}}\n",
       "\n",
       "// Listen for the clearing of the current output cell\n",
       "var outputEl = gd.closest('.output');\n",
       "if (outputEl) {{\n",
       "    x.observe(outputEl, {childList: true});\n",
       "}}\n",
       "\n",
       "                        })\n",
       "                };\n",
       "                });\n",
       "            </script>\n",
       "        </div>"
      ]
     },
     "metadata": {},
     "output_type": "display_data"
    }
   ],
   "source": [
    "df['A'].iplot(kind='hist',bins=25)"
   ]
  },
  {
   "cell_type": "code",
   "execution_count": 18,
   "metadata": {},
   "outputs": [
    {
     "data": {
      "application/vnd.plotly.v1+json": {
       "config": {
        "linkText": "Export to plot.ly",
        "plotlyServerURL": "https://plot.ly",
        "showLink": true
       },
       "data": [
        {
         "marker": {
          "color": [
           "rgb(255, 153, 51)",
           "rgb(55, 128, 191)",
           "rgb(50, 171, 96)",
           "rgb(128, 0, 128)",
           "rgb(219, 64, 82)",
           "rgb(0, 128, 128)",
           "rgb(255, 255, 51)",
           "rgb(128, 128, 0)",
           "rgb(251, 128, 114)",
           "rgb(128, 177, 211)"
          ],
          "line": {
           "width": 1.3
          },
          "size": [
           54,
           50,
           64,
           57,
           23,
           49,
           100,
           50,
           66,
           79,
           68,
           74,
           35,
           69,
           58,
           67,
           78,
           47,
           51,
           60,
           59,
           87,
           54,
           70,
           53,
           55,
           33,
           80,
           51,
           65,
           70,
           51,
           96,
           57,
           61,
           91,
           87,
           63,
           49,
           68,
           104,
           47,
           50,
           91,
           61,
           65,
           72,
           96,
           52,
           58,
           49,
           65,
           64,
           69,
           55,
           45,
           42,
           74,
           66,
           60,
           111,
           79,
           81,
           79,
           55,
           40,
           72,
           44,
           40,
           60,
           29,
           90,
           61,
           37,
           61,
           51,
           80,
           74,
           68,
           111,
           75,
           86,
           12,
           63,
           58,
           63,
           29,
           71,
           56,
           98,
           74,
           47,
           68,
           88,
           50,
           72,
           44,
           89,
           76,
           107
          ],
          "symbol": "circle"
         },
         "mode": "markers",
         "text": "",
         "type": "scatter",
         "x": [
          -1.316509150580487,
          0.6567439213089783,
          -1.2117246351490527,
          -0.7795197648889394,
          -1.3086898864866376,
          1.1530168155654092,
          0.13998590336540567,
          -0.11056327817001697,
          1.7537011117105172,
          0.8810323955893713,
          0.10541010497618351,
          1.011575063785946,
          2.1228749009656473,
          -0.3075112722036564,
          1.038681885646689,
          -0.6319853146199059,
          2.2189715728894632,
          -1.4770145042427665,
          -0.153470368878263,
          -0.18727900695016553,
          1.9078574381220432,
          1.0499974193565844,
          0.46542902797864877,
          -0.6260746672943875,
          -0.03689923737424436,
          -1.0944391791639074,
          1.2481303879716057,
          0.09959660652843288,
          0.057031069351861356,
          -1.4176608242708042,
          0.27913325253238075,
          0.8782737897274759,
          -3.3361675913751814,
          -0.3611118893203861,
          0.9042067738977311,
          1.0392994720741469,
          0.3020476385379728,
          -1.10241740023384,
          0.6679332094321817,
          0.2603822989676794,
          0.45894985553075557,
          -0.011014647071094298,
          -1.2018062699942935,
          -1.288958573508946,
          -0.6602935547316192,
          0.559523528635203,
          0.9105335102135964,
          0.9007433046119707,
          -0.8788546818988332,
          1.2187402667118685,
          -0.3162671648927026,
          0.9555369947525019,
          0.8331485196348947,
          0.5643353781041094,
          0.9456632663673213,
          -0.16924653010990728,
          -2.8385553526488563,
          0.4385338754031157,
          2.050375616692176,
          -0.5957780568198906,
          -0.6391337028422326,
          0.04999693554916875,
          -0.9905604339917498,
          0.7126128257249994,
          1.623879844150366,
          0.7439398470037102,
          -1.4338603239722083,
          0.4223377380195463,
          0.7047789877639619,
          1.2997906440556526,
          1.1377795006181677,
          -0.37982037981568656,
          -0.8183289865038762,
          2.1150365234629778,
          -1.6315774177580455,
          1.557670994327429,
          0.27435834635581113,
          -0.2020660134299496,
          0.6622294003232192,
          -0.7507187976400996,
          1.6841078411643216,
          0.15725059523555834,
          0.20403175525934233,
          -0.10228075446346539,
          -0.45075758084417217,
          0.23398092630605663,
          0.7020994443457834,
          -1.372013643107886,
          -0.830234550415995,
          1.0471754048685615,
          0.2791516597674779,
          0.8073438839758672,
          -1.1840786596386352,
          -1.2438633167946165,
          0.6711553346045185,
          -1.05947273041682,
          -0.21268450772722713,
          -0.7716616231268543,
          -0.6618813607239717,
          -0.7691251660875101
         ],
         "y": [
          0.5322209261277865,
          -0.3400805111723466,
          1.1360868917232188,
          -0.382712079815374,
          -0.0882949780014785,
          -0.0035050460034809156,
          1.2200036262631462,
          0.20708725596394534,
          0.24518777378961107,
          -0.9614960463159214,
          -0.18007055388579998,
          1.693862038729409,
          0.6880732306303996,
          -1.2237783345460118,
          1.5778919118755526,
          -0.9399074605700591,
          0.6502179718500561,
          0.13984189631979266,
          0.3902474711235353,
          0.79574378145543,
          -0.3187089447730361,
          1.7756327287360203,
          0.11176970117547803,
          1.1026687785809492,
          1.2655186137877001,
          2.631604659518769,
          0.38632232634692665,
          0.3918662734991667,
          -0.10269538819221184,
          2.1050347354372656,
          -0.14728435081334065,
          1.5928813916980802,
          -0.5640139867574012,
          -0.7625416520561131,
          0.6299238973321293,
          1.5259003230423187,
          0.4556062123964385,
          -0.2699051707997322,
          1.023416758001027,
          0.8544257864781147,
          -0.2113121282276364,
          -0.9889838291299777,
          0.6101685589425011,
          0.01886452624200072,
          -0.9135960987704975,
          -0.01725436138227997,
          -0.7802532086851106,
          -0.37672890325294733,
          -2.152350636544527,
          -1.1683993670480606,
          1.263532324992662,
          0.312038748908657,
          0.7780507500386404,
          0.041471470158138804,
          -0.6020767411671846,
          0.6249868830012129,
          0.5405277670128545,
          -1.1176579751594906,
          -1.433072594514869,
          1.8835573786822821,
          1.2676267128436596,
          0.18179383715069097,
          -0.6708996716626628,
          -0.8696775484368037,
          0.1348973926892778,
          0.12074046939337874,
          -0.4243922156902889,
          0.346367856345538,
          1.0526808565699703,
          -0.9373139607993218,
          -0.4420468917330237,
          0.585751073752487,
          -0.22025857587135528,
          0.48580639571538037,
          1.1910452374445943,
          -0.8409995659483239,
          1.2713211278296752,
          0.6122183465394152,
          -0.3626153112574866,
          -0.9046816910222284,
          1.492899576359809,
          -0.19437622093277626,
          -0.17496285589028385,
          1.1661687648674532,
          -0.702440894291958,
          -0.9991504450455196,
          1.015268304294555,
          -0.41527919626977905,
          1.286684649424407,
          1.0739953772854123,
          -0.5703063513870817,
          1.039240915811815,
          0.8877143919613583,
          0.864296717575613,
          -0.26344490511936275,
          0.2117153057332679,
          -1.5890334789342004,
          1.1071474916095139,
          0.04231235469678529,
          -0.5264821907576022
         ]
        }
       ],
       "layout": {
        "legend": {
         "bgcolor": "#F5F6F9",
         "font": {
          "color": "#4D5663"
         }
        },
        "paper_bgcolor": "#F5F6F9",
        "plot_bgcolor": "#F5F6F9",
        "template": {
         "data": {
          "bar": [
           {
            "error_x": {
             "color": "#2a3f5f"
            },
            "error_y": {
             "color": "#2a3f5f"
            },
            "marker": {
             "line": {
              "color": "#E5ECF6",
              "width": 0.5
             }
            },
            "type": "bar"
           }
          ],
          "barpolar": [
           {
            "marker": {
             "line": {
              "color": "#E5ECF6",
              "width": 0.5
             }
            },
            "type": "barpolar"
           }
          ],
          "carpet": [
           {
            "aaxis": {
             "endlinecolor": "#2a3f5f",
             "gridcolor": "white",
             "linecolor": "white",
             "minorgridcolor": "white",
             "startlinecolor": "#2a3f5f"
            },
            "baxis": {
             "endlinecolor": "#2a3f5f",
             "gridcolor": "white",
             "linecolor": "white",
             "minorgridcolor": "white",
             "startlinecolor": "#2a3f5f"
            },
            "type": "carpet"
           }
          ],
          "choropleth": [
           {
            "colorbar": {
             "outlinewidth": 0,
             "ticks": ""
            },
            "type": "choropleth"
           }
          ],
          "contour": [
           {
            "colorbar": {
             "outlinewidth": 0,
             "ticks": ""
            },
            "colorscale": [
             [
              0,
              "#0d0887"
             ],
             [
              0.1111111111111111,
              "#46039f"
             ],
             [
              0.2222222222222222,
              "#7201a8"
             ],
             [
              0.3333333333333333,
              "#9c179e"
             ],
             [
              0.4444444444444444,
              "#bd3786"
             ],
             [
              0.5555555555555556,
              "#d8576b"
             ],
             [
              0.6666666666666666,
              "#ed7953"
             ],
             [
              0.7777777777777778,
              "#fb9f3a"
             ],
             [
              0.8888888888888888,
              "#fdca26"
             ],
             [
              1,
              "#f0f921"
             ]
            ],
            "type": "contour"
           }
          ],
          "contourcarpet": [
           {
            "colorbar": {
             "outlinewidth": 0,
             "ticks": ""
            },
            "type": "contourcarpet"
           }
          ],
          "heatmap": [
           {
            "colorbar": {
             "outlinewidth": 0,
             "ticks": ""
            },
            "colorscale": [
             [
              0,
              "#0d0887"
             ],
             [
              0.1111111111111111,
              "#46039f"
             ],
             [
              0.2222222222222222,
              "#7201a8"
             ],
             [
              0.3333333333333333,
              "#9c179e"
             ],
             [
              0.4444444444444444,
              "#bd3786"
             ],
             [
              0.5555555555555556,
              "#d8576b"
             ],
             [
              0.6666666666666666,
              "#ed7953"
             ],
             [
              0.7777777777777778,
              "#fb9f3a"
             ],
             [
              0.8888888888888888,
              "#fdca26"
             ],
             [
              1,
              "#f0f921"
             ]
            ],
            "type": "heatmap"
           }
          ],
          "heatmapgl": [
           {
            "colorbar": {
             "outlinewidth": 0,
             "ticks": ""
            },
            "colorscale": [
             [
              0,
              "#0d0887"
             ],
             [
              0.1111111111111111,
              "#46039f"
             ],
             [
              0.2222222222222222,
              "#7201a8"
             ],
             [
              0.3333333333333333,
              "#9c179e"
             ],
             [
              0.4444444444444444,
              "#bd3786"
             ],
             [
              0.5555555555555556,
              "#d8576b"
             ],
             [
              0.6666666666666666,
              "#ed7953"
             ],
             [
              0.7777777777777778,
              "#fb9f3a"
             ],
             [
              0.8888888888888888,
              "#fdca26"
             ],
             [
              1,
              "#f0f921"
             ]
            ],
            "type": "heatmapgl"
           }
          ],
          "histogram": [
           {
            "marker": {
             "colorbar": {
              "outlinewidth": 0,
              "ticks": ""
             }
            },
            "type": "histogram"
           }
          ],
          "histogram2d": [
           {
            "colorbar": {
             "outlinewidth": 0,
             "ticks": ""
            },
            "colorscale": [
             [
              0,
              "#0d0887"
             ],
             [
              0.1111111111111111,
              "#46039f"
             ],
             [
              0.2222222222222222,
              "#7201a8"
             ],
             [
              0.3333333333333333,
              "#9c179e"
             ],
             [
              0.4444444444444444,
              "#bd3786"
             ],
             [
              0.5555555555555556,
              "#d8576b"
             ],
             [
              0.6666666666666666,
              "#ed7953"
             ],
             [
              0.7777777777777778,
              "#fb9f3a"
             ],
             [
              0.8888888888888888,
              "#fdca26"
             ],
             [
              1,
              "#f0f921"
             ]
            ],
            "type": "histogram2d"
           }
          ],
          "histogram2dcontour": [
           {
            "colorbar": {
             "outlinewidth": 0,
             "ticks": ""
            },
            "colorscale": [
             [
              0,
              "#0d0887"
             ],
             [
              0.1111111111111111,
              "#46039f"
             ],
             [
              0.2222222222222222,
              "#7201a8"
             ],
             [
              0.3333333333333333,
              "#9c179e"
             ],
             [
              0.4444444444444444,
              "#bd3786"
             ],
             [
              0.5555555555555556,
              "#d8576b"
             ],
             [
              0.6666666666666666,
              "#ed7953"
             ],
             [
              0.7777777777777778,
              "#fb9f3a"
             ],
             [
              0.8888888888888888,
              "#fdca26"
             ],
             [
              1,
              "#f0f921"
             ]
            ],
            "type": "histogram2dcontour"
           }
          ],
          "mesh3d": [
           {
            "colorbar": {
             "outlinewidth": 0,
             "ticks": ""
            },
            "type": "mesh3d"
           }
          ],
          "parcoords": [
           {
            "line": {
             "colorbar": {
              "outlinewidth": 0,
              "ticks": ""
             }
            },
            "type": "parcoords"
           }
          ],
          "pie": [
           {
            "automargin": true,
            "type": "pie"
           }
          ],
          "scatter": [
           {
            "marker": {
             "colorbar": {
              "outlinewidth": 0,
              "ticks": ""
             }
            },
            "type": "scatter"
           }
          ],
          "scatter3d": [
           {
            "line": {
             "colorbar": {
              "outlinewidth": 0,
              "ticks": ""
             }
            },
            "marker": {
             "colorbar": {
              "outlinewidth": 0,
              "ticks": ""
             }
            },
            "type": "scatter3d"
           }
          ],
          "scattercarpet": [
           {
            "marker": {
             "colorbar": {
              "outlinewidth": 0,
              "ticks": ""
             }
            },
            "type": "scattercarpet"
           }
          ],
          "scattergeo": [
           {
            "marker": {
             "colorbar": {
              "outlinewidth": 0,
              "ticks": ""
             }
            },
            "type": "scattergeo"
           }
          ],
          "scattergl": [
           {
            "marker": {
             "colorbar": {
              "outlinewidth": 0,
              "ticks": ""
             }
            },
            "type": "scattergl"
           }
          ],
          "scattermapbox": [
           {
            "marker": {
             "colorbar": {
              "outlinewidth": 0,
              "ticks": ""
             }
            },
            "type": "scattermapbox"
           }
          ],
          "scatterpolar": [
           {
            "marker": {
             "colorbar": {
              "outlinewidth": 0,
              "ticks": ""
             }
            },
            "type": "scatterpolar"
           }
          ],
          "scatterpolargl": [
           {
            "marker": {
             "colorbar": {
              "outlinewidth": 0,
              "ticks": ""
             }
            },
            "type": "scatterpolargl"
           }
          ],
          "scatterternary": [
           {
            "marker": {
             "colorbar": {
              "outlinewidth": 0,
              "ticks": ""
             }
            },
            "type": "scatterternary"
           }
          ],
          "surface": [
           {
            "colorbar": {
             "outlinewidth": 0,
             "ticks": ""
            },
            "colorscale": [
             [
              0,
              "#0d0887"
             ],
             [
              0.1111111111111111,
              "#46039f"
             ],
             [
              0.2222222222222222,
              "#7201a8"
             ],
             [
              0.3333333333333333,
              "#9c179e"
             ],
             [
              0.4444444444444444,
              "#bd3786"
             ],
             [
              0.5555555555555556,
              "#d8576b"
             ],
             [
              0.6666666666666666,
              "#ed7953"
             ],
             [
              0.7777777777777778,
              "#fb9f3a"
             ],
             [
              0.8888888888888888,
              "#fdca26"
             ],
             [
              1,
              "#f0f921"
             ]
            ],
            "type": "surface"
           }
          ],
          "table": [
           {
            "cells": {
             "fill": {
              "color": "#EBF0F8"
             },
             "line": {
              "color": "white"
             }
            },
            "header": {
             "fill": {
              "color": "#C8D4E3"
             },
             "line": {
              "color": "white"
             }
            },
            "type": "table"
           }
          ]
         },
         "layout": {
          "annotationdefaults": {
           "arrowcolor": "#2a3f5f",
           "arrowhead": 0,
           "arrowwidth": 1
          },
          "coloraxis": {
           "colorbar": {
            "outlinewidth": 0,
            "ticks": ""
           }
          },
          "colorscale": {
           "diverging": [
            [
             0,
             "#8e0152"
            ],
            [
             0.1,
             "#c51b7d"
            ],
            [
             0.2,
             "#de77ae"
            ],
            [
             0.3,
             "#f1b6da"
            ],
            [
             0.4,
             "#fde0ef"
            ],
            [
             0.5,
             "#f7f7f7"
            ],
            [
             0.6,
             "#e6f5d0"
            ],
            [
             0.7,
             "#b8e186"
            ],
            [
             0.8,
             "#7fbc41"
            ],
            [
             0.9,
             "#4d9221"
            ],
            [
             1,
             "#276419"
            ]
           ],
           "sequential": [
            [
             0,
             "#0d0887"
            ],
            [
             0.1111111111111111,
             "#46039f"
            ],
            [
             0.2222222222222222,
             "#7201a8"
            ],
            [
             0.3333333333333333,
             "#9c179e"
            ],
            [
             0.4444444444444444,
             "#bd3786"
            ],
            [
             0.5555555555555556,
             "#d8576b"
            ],
            [
             0.6666666666666666,
             "#ed7953"
            ],
            [
             0.7777777777777778,
             "#fb9f3a"
            ],
            [
             0.8888888888888888,
             "#fdca26"
            ],
            [
             1,
             "#f0f921"
            ]
           ],
           "sequentialminus": [
            [
             0,
             "#0d0887"
            ],
            [
             0.1111111111111111,
             "#46039f"
            ],
            [
             0.2222222222222222,
             "#7201a8"
            ],
            [
             0.3333333333333333,
             "#9c179e"
            ],
            [
             0.4444444444444444,
             "#bd3786"
            ],
            [
             0.5555555555555556,
             "#d8576b"
            ],
            [
             0.6666666666666666,
             "#ed7953"
            ],
            [
             0.7777777777777778,
             "#fb9f3a"
            ],
            [
             0.8888888888888888,
             "#fdca26"
            ],
            [
             1,
             "#f0f921"
            ]
           ]
          },
          "colorway": [
           "#636efa",
           "#EF553B",
           "#00cc96",
           "#ab63fa",
           "#FFA15A",
           "#19d3f3",
           "#FF6692",
           "#B6E880",
           "#FF97FF",
           "#FECB52"
          ],
          "font": {
           "color": "#2a3f5f"
          },
          "geo": {
           "bgcolor": "white",
           "lakecolor": "white",
           "landcolor": "#E5ECF6",
           "showlakes": true,
           "showland": true,
           "subunitcolor": "white"
          },
          "hoverlabel": {
           "align": "left"
          },
          "hovermode": "closest",
          "mapbox": {
           "style": "light"
          },
          "paper_bgcolor": "white",
          "plot_bgcolor": "#E5ECF6",
          "polar": {
           "angularaxis": {
            "gridcolor": "white",
            "linecolor": "white",
            "ticks": ""
           },
           "bgcolor": "#E5ECF6",
           "radialaxis": {
            "gridcolor": "white",
            "linecolor": "white",
            "ticks": ""
           }
          },
          "scene": {
           "xaxis": {
            "backgroundcolor": "#E5ECF6",
            "gridcolor": "white",
            "gridwidth": 2,
            "linecolor": "white",
            "showbackground": true,
            "ticks": "",
            "zerolinecolor": "white"
           },
           "yaxis": {
            "backgroundcolor": "#E5ECF6",
            "gridcolor": "white",
            "gridwidth": 2,
            "linecolor": "white",
            "showbackground": true,
            "ticks": "",
            "zerolinecolor": "white"
           },
           "zaxis": {
            "backgroundcolor": "#E5ECF6",
            "gridcolor": "white",
            "gridwidth": 2,
            "linecolor": "white",
            "showbackground": true,
            "ticks": "",
            "zerolinecolor": "white"
           }
          },
          "shapedefaults": {
           "line": {
            "color": "#2a3f5f"
           }
          },
          "ternary": {
           "aaxis": {
            "gridcolor": "white",
            "linecolor": "white",
            "ticks": ""
           },
           "baxis": {
            "gridcolor": "white",
            "linecolor": "white",
            "ticks": ""
           },
           "bgcolor": "#E5ECF6",
           "caxis": {
            "gridcolor": "white",
            "linecolor": "white",
            "ticks": ""
           }
          },
          "title": {
           "x": 0.05
          },
          "xaxis": {
           "automargin": true,
           "gridcolor": "white",
           "linecolor": "white",
           "ticks": "",
           "title": {
            "standoff": 15
           },
           "zerolinecolor": "white",
           "zerolinewidth": 2
          },
          "yaxis": {
           "automargin": true,
           "gridcolor": "white",
           "linecolor": "white",
           "ticks": "",
           "title": {
            "standoff": 15
           },
           "zerolinecolor": "white",
           "zerolinewidth": 2
          }
         }
        },
        "title": {
         "font": {
          "color": "#4D5663"
         }
        },
        "xaxis": {
         "gridcolor": "#E1E5ED",
         "showgrid": true,
         "tickfont": {
          "color": "#4D5663"
         },
         "title": {
          "font": {
           "color": "#4D5663"
          },
          "text": ""
         },
         "zerolinecolor": "#E1E5ED"
        },
        "yaxis": {
         "gridcolor": "#E1E5ED",
         "showgrid": true,
         "tickfont": {
          "color": "#4D5663"
         },
         "title": {
          "font": {
           "color": "#4D5663"
          },
          "text": ""
         },
         "zerolinecolor": "#E1E5ED"
        }
       }
      },
      "text/html": [
       "<div>\n",
       "        \n",
       "        \n",
       "            <div id=\"10083818-cbf5-46be-a3f5-c1aeaaddf80c\" class=\"plotly-graph-div\" style=\"height:525px; width:100%;\"></div>\n",
       "            <script type=\"text/javascript\">\n",
       "                require([\"plotly\"], function(Plotly) {\n",
       "                    window.PLOTLYENV=window.PLOTLYENV || {};\n",
       "                    window.PLOTLYENV.BASE_URL='https://plot.ly';\n",
       "                    \n",
       "                if (document.getElementById(\"10083818-cbf5-46be-a3f5-c1aeaaddf80c\")) {\n",
       "                    Plotly.newPlot(\n",
       "                        '10083818-cbf5-46be-a3f5-c1aeaaddf80c',\n",
       "                        [{\"marker\": {\"color\": [\"rgb(255, 153, 51)\", \"rgb(55, 128, 191)\", \"rgb(50, 171, 96)\", \"rgb(128, 0, 128)\", \"rgb(219, 64, 82)\", \"rgb(0, 128, 128)\", \"rgb(255, 255, 51)\", \"rgb(128, 128, 0)\", \"rgb(251, 128, 114)\", \"rgb(128, 177, 211)\"], \"line\": {\"width\": 1.3}, \"size\": [54, 50, 64, 57, 23, 49, 100, 50, 66, 79, 68, 74, 35, 69, 58, 67, 78, 47, 51, 60, 59, 87, 54, 70, 53, 55, 33, 80, 51, 65, 70, 51, 96, 57, 61, 91, 87, 63, 49, 68, 104, 47, 50, 91, 61, 65, 72, 96, 52, 58, 49, 65, 64, 69, 55, 45, 42, 74, 66, 60, 111, 79, 81, 79, 55, 40, 72, 44, 40, 60, 29, 90, 61, 37, 61, 51, 80, 74, 68, 111, 75, 86, 12, 63, 58, 63, 29, 71, 56, 98, 74, 47, 68, 88, 50, 72, 44, 89, 76, 107], \"symbol\": \"circle\"}, \"mode\": \"markers\", \"text\": \"\", \"type\": \"scatter\", \"x\": [-1.316509150580487, 0.6567439213089783, -1.2117246351490527, -0.7795197648889394, -1.3086898864866376, 1.1530168155654092, 0.13998590336540567, -0.11056327817001697, 1.7537011117105172, 0.8810323955893713, 0.10541010497618351, 1.011575063785946, 2.1228749009656473, -0.3075112722036564, 1.038681885646689, -0.6319853146199059, 2.2189715728894632, -1.4770145042427665, -0.153470368878263, -0.18727900695016553, 1.9078574381220432, 1.0499974193565844, 0.46542902797864877, -0.6260746672943875, -0.03689923737424436, -1.0944391791639074, 1.2481303879716057, 0.09959660652843288, 0.057031069351861356, -1.4176608242708042, 0.27913325253238075, 0.8782737897274759, -3.3361675913751814, -0.3611118893203861, 0.9042067738977311, 1.0392994720741469, 0.3020476385379728, -1.10241740023384, 0.6679332094321817, 0.2603822989676794, 0.45894985553075557, -0.011014647071094298, -1.2018062699942935, -1.288958573508946, -0.6602935547316192, 0.559523528635203, 0.9105335102135964, 0.9007433046119707, -0.8788546818988332, 1.2187402667118685, -0.3162671648927026, 0.9555369947525019, 0.8331485196348947, 0.5643353781041094, 0.9456632663673213, -0.16924653010990728, -2.8385553526488563, 0.4385338754031157, 2.050375616692176, -0.5957780568198906, -0.6391337028422326, 0.04999693554916875, -0.9905604339917498, 0.7126128257249994, 1.623879844150366, 0.7439398470037102, -1.4338603239722083, 0.4223377380195463, 0.7047789877639619, 1.2997906440556526, 1.1377795006181677, -0.37982037981568656, -0.8183289865038762, 2.1150365234629778, -1.6315774177580455, 1.557670994327429, 0.27435834635581113, -0.2020660134299496, 0.6622294003232192, -0.7507187976400996, 1.6841078411643216, 0.15725059523555834, 0.20403175525934233, -0.10228075446346539, -0.45075758084417217, 0.23398092630605663, 0.7020994443457834, -1.372013643107886, -0.830234550415995, 1.0471754048685615, 0.2791516597674779, 0.8073438839758672, -1.1840786596386352, -1.2438633167946165, 0.6711553346045185, -1.05947273041682, -0.21268450772722713, -0.7716616231268543, -0.6618813607239717, -0.7691251660875101], \"y\": [0.5322209261277865, -0.3400805111723466, 1.1360868917232188, -0.382712079815374, -0.0882949780014785, -0.0035050460034809156, 1.2200036262631462, 0.20708725596394534, 0.24518777378961107, -0.9614960463159214, -0.18007055388579998, 1.693862038729409, 0.6880732306303996, -1.2237783345460118, 1.5778919118755526, -0.9399074605700591, 0.6502179718500561, 0.13984189631979266, 0.3902474711235353, 0.79574378145543, -0.3187089447730361, 1.7756327287360203, 0.11176970117547803, 1.1026687785809492, 1.2655186137877001, 2.631604659518769, 0.38632232634692665, 0.3918662734991667, -0.10269538819221184, 2.1050347354372656, -0.14728435081334065, 1.5928813916980802, -0.5640139867574012, -0.7625416520561131, 0.6299238973321293, 1.5259003230423187, 0.4556062123964385, -0.2699051707997322, 1.023416758001027, 0.8544257864781147, -0.2113121282276364, -0.9889838291299777, 0.6101685589425011, 0.01886452624200072, -0.9135960987704975, -0.01725436138227997, -0.7802532086851106, -0.37672890325294733, -2.152350636544527, -1.1683993670480606, 1.263532324992662, 0.312038748908657, 0.7780507500386404, 0.041471470158138804, -0.6020767411671846, 0.6249868830012129, 0.5405277670128545, -1.1176579751594906, -1.433072594514869, 1.8835573786822821, 1.2676267128436596, 0.18179383715069097, -0.6708996716626628, -0.8696775484368037, 0.1348973926892778, 0.12074046939337874, -0.4243922156902889, 0.346367856345538, 1.0526808565699703, -0.9373139607993218, -0.4420468917330237, 0.585751073752487, -0.22025857587135528, 0.48580639571538037, 1.1910452374445943, -0.8409995659483239, 1.2713211278296752, 0.6122183465394152, -0.3626153112574866, -0.9046816910222284, 1.492899576359809, -0.19437622093277626, -0.17496285589028385, 1.1661687648674532, -0.702440894291958, -0.9991504450455196, 1.015268304294555, -0.41527919626977905, 1.286684649424407, 1.0739953772854123, -0.5703063513870817, 1.039240915811815, 0.8877143919613583, 0.864296717575613, -0.26344490511936275, 0.2117153057332679, -1.5890334789342004, 1.1071474916095139, 0.04231235469678529, -0.5264821907576022]}],\n",
       "                        {\"legend\": {\"bgcolor\": \"#F5F6F9\", \"font\": {\"color\": \"#4D5663\"}}, \"paper_bgcolor\": \"#F5F6F9\", \"plot_bgcolor\": \"#F5F6F9\", \"template\": {\"data\": {\"bar\": [{\"error_x\": {\"color\": \"#2a3f5f\"}, \"error_y\": {\"color\": \"#2a3f5f\"}, \"marker\": {\"line\": {\"color\": \"#E5ECF6\", \"width\": 0.5}}, \"type\": \"bar\"}], \"barpolar\": [{\"marker\": {\"line\": {\"color\": \"#E5ECF6\", \"width\": 0.5}}, \"type\": \"barpolar\"}], \"carpet\": [{\"aaxis\": {\"endlinecolor\": \"#2a3f5f\", \"gridcolor\": \"white\", \"linecolor\": \"white\", \"minorgridcolor\": \"white\", \"startlinecolor\": \"#2a3f5f\"}, \"baxis\": {\"endlinecolor\": \"#2a3f5f\", \"gridcolor\": \"white\", \"linecolor\": \"white\", \"minorgridcolor\": \"white\", \"startlinecolor\": \"#2a3f5f\"}, \"type\": \"carpet\"}], \"choropleth\": [{\"colorbar\": {\"outlinewidth\": 0, \"ticks\": \"\"}, \"type\": \"choropleth\"}], \"contour\": [{\"colorbar\": {\"outlinewidth\": 0, \"ticks\": \"\"}, \"colorscale\": [[0.0, \"#0d0887\"], [0.1111111111111111, \"#46039f\"], [0.2222222222222222, \"#7201a8\"], [0.3333333333333333, \"#9c179e\"], [0.4444444444444444, \"#bd3786\"], [0.5555555555555556, \"#d8576b\"], [0.6666666666666666, \"#ed7953\"], [0.7777777777777778, \"#fb9f3a\"], [0.8888888888888888, \"#fdca26\"], [1.0, \"#f0f921\"]], \"type\": \"contour\"}], \"contourcarpet\": [{\"colorbar\": {\"outlinewidth\": 0, \"ticks\": \"\"}, \"type\": \"contourcarpet\"}], \"heatmap\": [{\"colorbar\": {\"outlinewidth\": 0, \"ticks\": \"\"}, \"colorscale\": [[0.0, \"#0d0887\"], [0.1111111111111111, \"#46039f\"], [0.2222222222222222, \"#7201a8\"], [0.3333333333333333, \"#9c179e\"], [0.4444444444444444, \"#bd3786\"], [0.5555555555555556, \"#d8576b\"], [0.6666666666666666, \"#ed7953\"], [0.7777777777777778, \"#fb9f3a\"], [0.8888888888888888, \"#fdca26\"], [1.0, \"#f0f921\"]], \"type\": \"heatmap\"}], \"heatmapgl\": [{\"colorbar\": {\"outlinewidth\": 0, \"ticks\": \"\"}, \"colorscale\": [[0.0, \"#0d0887\"], [0.1111111111111111, \"#46039f\"], [0.2222222222222222, \"#7201a8\"], [0.3333333333333333, \"#9c179e\"], [0.4444444444444444, \"#bd3786\"], [0.5555555555555556, \"#d8576b\"], [0.6666666666666666, \"#ed7953\"], [0.7777777777777778, \"#fb9f3a\"], [0.8888888888888888, \"#fdca26\"], [1.0, \"#f0f921\"]], \"type\": \"heatmapgl\"}], \"histogram\": [{\"marker\": {\"colorbar\": {\"outlinewidth\": 0, \"ticks\": \"\"}}, \"type\": \"histogram\"}], \"histogram2d\": [{\"colorbar\": {\"outlinewidth\": 0, \"ticks\": \"\"}, \"colorscale\": [[0.0, \"#0d0887\"], [0.1111111111111111, \"#46039f\"], [0.2222222222222222, \"#7201a8\"], [0.3333333333333333, \"#9c179e\"], [0.4444444444444444, \"#bd3786\"], [0.5555555555555556, \"#d8576b\"], [0.6666666666666666, \"#ed7953\"], [0.7777777777777778, \"#fb9f3a\"], [0.8888888888888888, \"#fdca26\"], [1.0, \"#f0f921\"]], \"type\": \"histogram2d\"}], \"histogram2dcontour\": [{\"colorbar\": {\"outlinewidth\": 0, \"ticks\": \"\"}, \"colorscale\": [[0.0, \"#0d0887\"], [0.1111111111111111, \"#46039f\"], [0.2222222222222222, \"#7201a8\"], [0.3333333333333333, \"#9c179e\"], [0.4444444444444444, \"#bd3786\"], [0.5555555555555556, \"#d8576b\"], [0.6666666666666666, \"#ed7953\"], [0.7777777777777778, \"#fb9f3a\"], [0.8888888888888888, \"#fdca26\"], [1.0, \"#f0f921\"]], \"type\": \"histogram2dcontour\"}], \"mesh3d\": [{\"colorbar\": {\"outlinewidth\": 0, \"ticks\": \"\"}, \"type\": \"mesh3d\"}], \"parcoords\": [{\"line\": {\"colorbar\": {\"outlinewidth\": 0, \"ticks\": \"\"}}, \"type\": \"parcoords\"}], \"pie\": [{\"automargin\": true, \"type\": \"pie\"}], \"scatter\": [{\"marker\": {\"colorbar\": {\"outlinewidth\": 0, \"ticks\": \"\"}}, \"type\": \"scatter\"}], \"scatter3d\": [{\"line\": {\"colorbar\": {\"outlinewidth\": 0, \"ticks\": \"\"}}, \"marker\": {\"colorbar\": {\"outlinewidth\": 0, \"ticks\": \"\"}}, \"type\": \"scatter3d\"}], \"scattercarpet\": [{\"marker\": {\"colorbar\": {\"outlinewidth\": 0, \"ticks\": \"\"}}, \"type\": \"scattercarpet\"}], \"scattergeo\": [{\"marker\": {\"colorbar\": {\"outlinewidth\": 0, \"ticks\": \"\"}}, \"type\": \"scattergeo\"}], \"scattergl\": [{\"marker\": {\"colorbar\": {\"outlinewidth\": 0, \"ticks\": \"\"}}, \"type\": \"scattergl\"}], \"scattermapbox\": [{\"marker\": {\"colorbar\": {\"outlinewidth\": 0, \"ticks\": \"\"}}, \"type\": \"scattermapbox\"}], \"scatterpolar\": [{\"marker\": {\"colorbar\": {\"outlinewidth\": 0, \"ticks\": \"\"}}, \"type\": \"scatterpolar\"}], \"scatterpolargl\": [{\"marker\": {\"colorbar\": {\"outlinewidth\": 0, \"ticks\": \"\"}}, \"type\": \"scatterpolargl\"}], \"scatterternary\": [{\"marker\": {\"colorbar\": {\"outlinewidth\": 0, \"ticks\": \"\"}}, \"type\": \"scatterternary\"}], \"surface\": [{\"colorbar\": {\"outlinewidth\": 0, \"ticks\": \"\"}, \"colorscale\": [[0.0, \"#0d0887\"], [0.1111111111111111, \"#46039f\"], [0.2222222222222222, \"#7201a8\"], [0.3333333333333333, \"#9c179e\"], [0.4444444444444444, \"#bd3786\"], [0.5555555555555556, \"#d8576b\"], [0.6666666666666666, \"#ed7953\"], [0.7777777777777778, \"#fb9f3a\"], [0.8888888888888888, \"#fdca26\"], [1.0, \"#f0f921\"]], \"type\": \"surface\"}], \"table\": [{\"cells\": {\"fill\": {\"color\": \"#EBF0F8\"}, \"line\": {\"color\": \"white\"}}, \"header\": {\"fill\": {\"color\": \"#C8D4E3\"}, \"line\": {\"color\": \"white\"}}, \"type\": \"table\"}]}, \"layout\": {\"annotationdefaults\": {\"arrowcolor\": \"#2a3f5f\", \"arrowhead\": 0, \"arrowwidth\": 1}, \"coloraxis\": {\"colorbar\": {\"outlinewidth\": 0, \"ticks\": \"\"}}, \"colorscale\": {\"diverging\": [[0, \"#8e0152\"], [0.1, \"#c51b7d\"], [0.2, \"#de77ae\"], [0.3, \"#f1b6da\"], [0.4, \"#fde0ef\"], [0.5, \"#f7f7f7\"], [0.6, \"#e6f5d0\"], [0.7, \"#b8e186\"], [0.8, \"#7fbc41\"], [0.9, \"#4d9221\"], [1, \"#276419\"]], \"sequential\": [[0.0, \"#0d0887\"], [0.1111111111111111, \"#46039f\"], [0.2222222222222222, \"#7201a8\"], [0.3333333333333333, \"#9c179e\"], [0.4444444444444444, \"#bd3786\"], [0.5555555555555556, \"#d8576b\"], [0.6666666666666666, \"#ed7953\"], [0.7777777777777778, \"#fb9f3a\"], [0.8888888888888888, \"#fdca26\"], [1.0, \"#f0f921\"]], \"sequentialminus\": [[0.0, \"#0d0887\"], [0.1111111111111111, \"#46039f\"], [0.2222222222222222, \"#7201a8\"], [0.3333333333333333, \"#9c179e\"], [0.4444444444444444, \"#bd3786\"], [0.5555555555555556, \"#d8576b\"], [0.6666666666666666, \"#ed7953\"], [0.7777777777777778, \"#fb9f3a\"], [0.8888888888888888, \"#fdca26\"], [1.0, \"#f0f921\"]]}, \"colorway\": [\"#636efa\", \"#EF553B\", \"#00cc96\", \"#ab63fa\", \"#FFA15A\", \"#19d3f3\", \"#FF6692\", \"#B6E880\", \"#FF97FF\", \"#FECB52\"], \"font\": {\"color\": \"#2a3f5f\"}, \"geo\": {\"bgcolor\": \"white\", \"lakecolor\": \"white\", \"landcolor\": \"#E5ECF6\", \"showlakes\": true, \"showland\": true, \"subunitcolor\": \"white\"}, \"hoverlabel\": {\"align\": \"left\"}, \"hovermode\": \"closest\", \"mapbox\": {\"style\": \"light\"}, \"paper_bgcolor\": \"white\", \"plot_bgcolor\": \"#E5ECF6\", \"polar\": {\"angularaxis\": {\"gridcolor\": \"white\", \"linecolor\": \"white\", \"ticks\": \"\"}, \"bgcolor\": \"#E5ECF6\", \"radialaxis\": {\"gridcolor\": \"white\", \"linecolor\": \"white\", \"ticks\": \"\"}}, \"scene\": {\"xaxis\": {\"backgroundcolor\": \"#E5ECF6\", \"gridcolor\": \"white\", \"gridwidth\": 2, \"linecolor\": \"white\", \"showbackground\": true, \"ticks\": \"\", \"zerolinecolor\": \"white\"}, \"yaxis\": {\"backgroundcolor\": \"#E5ECF6\", \"gridcolor\": \"white\", \"gridwidth\": 2, \"linecolor\": \"white\", \"showbackground\": true, \"ticks\": \"\", \"zerolinecolor\": \"white\"}, \"zaxis\": {\"backgroundcolor\": \"#E5ECF6\", \"gridcolor\": \"white\", \"gridwidth\": 2, \"linecolor\": \"white\", \"showbackground\": true, \"ticks\": \"\", \"zerolinecolor\": \"white\"}}, \"shapedefaults\": {\"line\": {\"color\": \"#2a3f5f\"}}, \"ternary\": {\"aaxis\": {\"gridcolor\": \"white\", \"linecolor\": \"white\", \"ticks\": \"\"}, \"baxis\": {\"gridcolor\": \"white\", \"linecolor\": \"white\", \"ticks\": \"\"}, \"bgcolor\": \"#E5ECF6\", \"caxis\": {\"gridcolor\": \"white\", \"linecolor\": \"white\", \"ticks\": \"\"}}, \"title\": {\"x\": 0.05}, \"xaxis\": {\"automargin\": true, \"gridcolor\": \"white\", \"linecolor\": \"white\", \"ticks\": \"\", \"title\": {\"standoff\": 15}, \"zerolinecolor\": \"white\", \"zerolinewidth\": 2}, \"yaxis\": {\"automargin\": true, \"gridcolor\": \"white\", \"linecolor\": \"white\", \"ticks\": \"\", \"title\": {\"standoff\": 15}, \"zerolinecolor\": \"white\", \"zerolinewidth\": 2}}}, \"title\": {\"font\": {\"color\": \"#4D5663\"}}, \"xaxis\": {\"gridcolor\": \"#E1E5ED\", \"showgrid\": true, \"tickfont\": {\"color\": \"#4D5663\"}, \"title\": {\"font\": {\"color\": \"#4D5663\"}, \"text\": \"\"}, \"zerolinecolor\": \"#E1E5ED\"}, \"yaxis\": {\"gridcolor\": \"#E1E5ED\", \"showgrid\": true, \"tickfont\": {\"color\": \"#4D5663\"}, \"title\": {\"font\": {\"color\": \"#4D5663\"}, \"text\": \"\"}, \"zerolinecolor\": \"#E1E5ED\"}},\n",
       "                        {\"showLink\": true, \"linkText\": \"Export to plot.ly\", \"plotlyServerURL\": \"https://plot.ly\", \"responsive\": true}\n",
       "                    ).then(function(){\n",
       "                            \n",
       "var gd = document.getElementById('10083818-cbf5-46be-a3f5-c1aeaaddf80c');\n",
       "var x = new MutationObserver(function (mutations, observer) {{\n",
       "        var display = window.getComputedStyle(gd).display;\n",
       "        if (!display || display === 'none') {{\n",
       "            console.log([gd, 'removed!']);\n",
       "            Plotly.purge(gd);\n",
       "            observer.disconnect();\n",
       "        }}\n",
       "}});\n",
       "\n",
       "// Listen for the removal of the full notebook cells\n",
       "var notebookContainer = gd.closest('#notebook-container');\n",
       "if (notebookContainer) {{\n",
       "    x.observe(notebookContainer, {childList: true});\n",
       "}}\n",
       "\n",
       "// Listen for the clearing of the current output cell\n",
       "var outputEl = gd.closest('.output');\n",
       "if (outputEl) {{\n",
       "    x.observe(outputEl, {childList: true});\n",
       "}}\n",
       "\n",
       "                        })\n",
       "                };\n",
       "                });\n",
       "            </script>\n",
       "        </div>"
      ]
     },
     "metadata": {},
     "output_type": "display_data"
    }
   ],
   "source": [
    "df.iplot(kind='bubble',x='A',y='B',size='C')"
   ]
  },
  {
   "cell_type": "markdown",
   "metadata": {},
   "source": [
    "## scatter_matrix()\n",
    "\n",
    "Similar to sns.pairplot()"
   ]
  },
  {
   "cell_type": "code",
   "execution_count": 19,
   "metadata": {},
   "outputs": [
    {
     "data": {
      "application/vnd.plotly.v1+json": {
       "config": {
        "linkText": "Export to plot.ly",
        "plotlyServerURL": "https://plot.ly",
        "showLink": true
       },
       "data": [
        {
         "histfunc": "count",
         "histnorm": "",
         "marker": {
          "color": "rgba(255, 153, 51, 1.0)",
          "line": {
           "color": "#4D5663",
           "width": 1.3
          }
         },
         "name": "A",
         "nbinsx": 10,
         "opacity": 0.8,
         "orientation": "v",
         "type": "histogram",
         "x": [
          -1.316509150580487,
          0.6567439213089783,
          -1.2117246351490527,
          -0.7795197648889394,
          -1.3086898864866376,
          1.1530168155654092,
          0.13998590336540567,
          -0.11056327817001697,
          1.7537011117105172,
          0.8810323955893713,
          0.10541010497618351,
          1.011575063785946,
          2.1228749009656473,
          -0.3075112722036564,
          1.038681885646689,
          -0.6319853146199059,
          2.2189715728894632,
          -1.4770145042427665,
          -0.153470368878263,
          -0.18727900695016553,
          1.9078574381220432,
          1.0499974193565844,
          0.46542902797864877,
          -0.6260746672943875,
          -0.03689923737424436,
          -1.0944391791639074,
          1.2481303879716057,
          0.09959660652843288,
          0.057031069351861356,
          -1.4176608242708042,
          0.27913325253238075,
          0.8782737897274759,
          -3.3361675913751814,
          -0.3611118893203861,
          0.9042067738977311,
          1.0392994720741469,
          0.3020476385379728,
          -1.10241740023384,
          0.6679332094321817,
          0.2603822989676794,
          0.45894985553075557,
          -0.011014647071094298,
          -1.2018062699942935,
          -1.288958573508946,
          -0.6602935547316192,
          0.559523528635203,
          0.9105335102135964,
          0.9007433046119707,
          -0.8788546818988332,
          1.2187402667118685,
          -0.3162671648927026,
          0.9555369947525019,
          0.8331485196348947,
          0.5643353781041094,
          0.9456632663673213,
          -0.16924653010990728,
          -2.8385553526488563,
          0.4385338754031157,
          2.050375616692176,
          -0.5957780568198906,
          -0.6391337028422326,
          0.04999693554916875,
          -0.9905604339917498,
          0.7126128257249994,
          1.623879844150366,
          0.7439398470037102,
          -1.4338603239722083,
          0.4223377380195463,
          0.7047789877639619,
          1.2997906440556526,
          1.1377795006181677,
          -0.37982037981568656,
          -0.8183289865038762,
          2.1150365234629778,
          -1.6315774177580455,
          1.557670994327429,
          0.27435834635581113,
          -0.2020660134299496,
          0.6622294003232192,
          -0.7507187976400996,
          1.6841078411643216,
          0.15725059523555834,
          0.20403175525934233,
          -0.10228075446346539,
          -0.45075758084417217,
          0.23398092630605663,
          0.7020994443457834,
          -1.372013643107886,
          -0.830234550415995,
          1.0471754048685615,
          0.2791516597674779,
          0.8073438839758672,
          -1.1840786596386352,
          -1.2438633167946165,
          0.6711553346045185,
          -1.05947273041682,
          -0.21268450772722713,
          -0.7716616231268543,
          -0.6618813607239717,
          -0.7691251660875101
         ],
         "xaxis": "x",
         "yaxis": "y"
        },
        {
         "line": {
          "color": "rgba(128, 128, 128, 1.0)",
          "dash": "solid",
          "shape": "linear",
          "width": 1.3
         },
         "marker": {
          "size": 2,
          "symbol": "circle"
         },
         "mode": "markers",
         "name": "A",
         "text": "",
         "type": "scatter",
         "x": [
          0.5322209261277865,
          -0.3400805111723466,
          1.1360868917232188,
          -0.382712079815374,
          -0.0882949780014785,
          -0.0035050460034809156,
          1.2200036262631462,
          0.20708725596394534,
          0.24518777378961107,
          -0.9614960463159214,
          -0.18007055388579998,
          1.693862038729409,
          0.6880732306303996,
          -1.2237783345460118,
          1.5778919118755526,
          -0.9399074605700591,
          0.6502179718500561,
          0.13984189631979266,
          0.3902474711235353,
          0.79574378145543,
          -0.3187089447730361,
          1.7756327287360203,
          0.11176970117547803,
          1.1026687785809492,
          1.2655186137877001,
          2.631604659518769,
          0.38632232634692665,
          0.3918662734991667,
          -0.10269538819221184,
          2.1050347354372656,
          -0.14728435081334065,
          1.5928813916980802,
          -0.5640139867574012,
          -0.7625416520561131,
          0.6299238973321293,
          1.5259003230423187,
          0.4556062123964385,
          -0.2699051707997322,
          1.023416758001027,
          0.8544257864781147,
          -0.2113121282276364,
          -0.9889838291299777,
          0.6101685589425011,
          0.01886452624200072,
          -0.9135960987704975,
          -0.01725436138227997,
          -0.7802532086851106,
          -0.37672890325294733,
          -2.152350636544527,
          -1.1683993670480606,
          1.263532324992662,
          0.312038748908657,
          0.7780507500386404,
          0.041471470158138804,
          -0.6020767411671846,
          0.6249868830012129,
          0.5405277670128545,
          -1.1176579751594906,
          -1.433072594514869,
          1.8835573786822821,
          1.2676267128436596,
          0.18179383715069097,
          -0.6708996716626628,
          -0.8696775484368037,
          0.1348973926892778,
          0.12074046939337874,
          -0.4243922156902889,
          0.346367856345538,
          1.0526808565699703,
          -0.9373139607993218,
          -0.4420468917330237,
          0.585751073752487,
          -0.22025857587135528,
          0.48580639571538037,
          1.1910452374445943,
          -0.8409995659483239,
          1.2713211278296752,
          0.6122183465394152,
          -0.3626153112574866,
          -0.9046816910222284,
          1.492899576359809,
          -0.19437622093277626,
          -0.17496285589028385,
          1.1661687648674532,
          -0.702440894291958,
          -0.9991504450455196,
          1.015268304294555,
          -0.41527919626977905,
          1.286684649424407,
          1.0739953772854123,
          -0.5703063513870817,
          1.039240915811815,
          0.8877143919613583,
          0.864296717575613,
          -0.26344490511936275,
          0.2117153057332679,
          -1.5890334789342004,
          1.1071474916095139,
          0.04231235469678529,
          -0.5264821907576022
         ],
         "xaxis": "x2",
         "y": [
          -1.316509150580487,
          0.6567439213089783,
          -1.2117246351490527,
          -0.7795197648889394,
          -1.3086898864866376,
          1.1530168155654092,
          0.13998590336540567,
          -0.11056327817001697,
          1.7537011117105172,
          0.8810323955893713,
          0.10541010497618351,
          1.011575063785946,
          2.1228749009656473,
          -0.3075112722036564,
          1.038681885646689,
          -0.6319853146199059,
          2.2189715728894632,
          -1.4770145042427665,
          -0.153470368878263,
          -0.18727900695016553,
          1.9078574381220432,
          1.0499974193565844,
          0.46542902797864877,
          -0.6260746672943875,
          -0.03689923737424436,
          -1.0944391791639074,
          1.2481303879716057,
          0.09959660652843288,
          0.057031069351861356,
          -1.4176608242708042,
          0.27913325253238075,
          0.8782737897274759,
          -3.3361675913751814,
          -0.3611118893203861,
          0.9042067738977311,
          1.0392994720741469,
          0.3020476385379728,
          -1.10241740023384,
          0.6679332094321817,
          0.2603822989676794,
          0.45894985553075557,
          -0.011014647071094298,
          -1.2018062699942935,
          -1.288958573508946,
          -0.6602935547316192,
          0.559523528635203,
          0.9105335102135964,
          0.9007433046119707,
          -0.8788546818988332,
          1.2187402667118685,
          -0.3162671648927026,
          0.9555369947525019,
          0.8331485196348947,
          0.5643353781041094,
          0.9456632663673213,
          -0.16924653010990728,
          -2.8385553526488563,
          0.4385338754031157,
          2.050375616692176,
          -0.5957780568198906,
          -0.6391337028422326,
          0.04999693554916875,
          -0.9905604339917498,
          0.7126128257249994,
          1.623879844150366,
          0.7439398470037102,
          -1.4338603239722083,
          0.4223377380195463,
          0.7047789877639619,
          1.2997906440556526,
          1.1377795006181677,
          -0.37982037981568656,
          -0.8183289865038762,
          2.1150365234629778,
          -1.6315774177580455,
          1.557670994327429,
          0.27435834635581113,
          -0.2020660134299496,
          0.6622294003232192,
          -0.7507187976400996,
          1.6841078411643216,
          0.15725059523555834,
          0.20403175525934233,
          -0.10228075446346539,
          -0.45075758084417217,
          0.23398092630605663,
          0.7020994443457834,
          -1.372013643107886,
          -0.830234550415995,
          1.0471754048685615,
          0.2791516597674779,
          0.8073438839758672,
          -1.1840786596386352,
          -1.2438633167946165,
          0.6711553346045185,
          -1.05947273041682,
          -0.21268450772722713,
          -0.7716616231268543,
          -0.6618813607239717,
          -0.7691251660875101
         ],
         "yaxis": "y2"
        },
        {
         "line": {
          "color": "rgba(128, 128, 128, 1.0)",
          "dash": "solid",
          "shape": "linear",
          "width": 1.3
         },
         "marker": {
          "size": 2,
          "symbol": "circle"
         },
         "mode": "markers",
         "name": "A",
         "text": "",
         "type": "scatter",
         "x": [
          -0.4426627042361103,
          -0.6399050472784629,
          0.07358865068267394,
          -0.3091615362420584,
          -2.1105700846068247,
          -0.6987203494266411,
          1.9987205565156225,
          -0.6497007420309667,
          0.20538307212912799,
          0.8983335644172407,
          0.26287310136750575,
          0.6107851851136252,
          -1.4363662311890355,
          0.36206337951561535,
          -0.2298673448032176,
          0.2265768162296731,
          0.8249414689110565,
          -0.8416150285488005,
          -0.6309024477119458,
          -0.12020366953750442,
          -0.2008317397881813,
          1.3158989235166834,
          -0.47561387029975616,
          0.3692948659360093,
          -0.5097988799863549,
          -0.38238868688924915,
          -1.5443771107613438,
          0.9322307087276408,
          -0.6038157686699996,
          0.10854617372161343,
          0.4078863543497139,
          -0.5974480890593209,
          1.7927302989916816,
          -0.27167329817764774,
          -0.10515729655119894,
          1.5046224508092376,
          1.2765081652015136,
          0.018901514535407556,
          -0.6981007178938509,
          0.2996256016902793,
          2.182783994787281,
          -0.8517021573495922,
          -0.6851326623649174,
          1.503361473348288,
          -0.10553912688797204,
          0.14975795420926277,
          0.49007051098713633,
          1.7947033295356172,
          -0.5715585020270864,
          -0.2381385005439792,
          -0.6997641418699387,
          0.11917893539522223,
          0.06952016281575028,
          0.3275008663147888,
          -0.4215140848008329,
          -0.9496352371350686,
          -1.0980805451800228,
          0.6125067193912569,
          0.1864624725803467,
          -0.15136469674670028,
          2.5960378688935712,
          0.8593240545880897,
          0.9587487407168636,
          0.8607656944499196,
          -0.3765156391993082,
          -1.2186616142210775,
          0.5178747433876127,
          -0.9975677063910462,
          -1.1910852286017317,
          -0.14787487928866896,
          -1.8047146319904626,
          1.4712403371794966,
          -0.06781497409294958,
          -1.34104990666472,
          -0.10306844664005434,
          -0.6344963461811047,
          0.9199220068790146,
          0.5874686040801018,
          0.27268255431433663,
          2.545739441802707,
          0.6586714984006848,
          1.224730402961586,
          -2.7085386943159473,
          0.01301733171174009,
          -0.2629659802082384,
          0.04500540665017078,
          -1.7927350814706264,
          0.44346558844281037,
          -0.36485627916302865,
          1.8799723626101896,
          0.6079096307392652,
          -0.810251652556461,
          0.28478379146553534,
          1.364369493564619,
          -0.6796767191131572,
          0.4878983532993825,
          -0.9801955125025105,
          1.3857556767911223,
          0.7150505765825546,
          2.380938657712917
         ],
         "xaxis": "x3",
         "y": [
          -1.316509150580487,
          0.6567439213089783,
          -1.2117246351490527,
          -0.7795197648889394,
          -1.3086898864866376,
          1.1530168155654092,
          0.13998590336540567,
          -0.11056327817001697,
          1.7537011117105172,
          0.8810323955893713,
          0.10541010497618351,
          1.011575063785946,
          2.1228749009656473,
          -0.3075112722036564,
          1.038681885646689,
          -0.6319853146199059,
          2.2189715728894632,
          -1.4770145042427665,
          -0.153470368878263,
          -0.18727900695016553,
          1.9078574381220432,
          1.0499974193565844,
          0.46542902797864877,
          -0.6260746672943875,
          -0.03689923737424436,
          -1.0944391791639074,
          1.2481303879716057,
          0.09959660652843288,
          0.057031069351861356,
          -1.4176608242708042,
          0.27913325253238075,
          0.8782737897274759,
          -3.3361675913751814,
          -0.3611118893203861,
          0.9042067738977311,
          1.0392994720741469,
          0.3020476385379728,
          -1.10241740023384,
          0.6679332094321817,
          0.2603822989676794,
          0.45894985553075557,
          -0.011014647071094298,
          -1.2018062699942935,
          -1.288958573508946,
          -0.6602935547316192,
          0.559523528635203,
          0.9105335102135964,
          0.9007433046119707,
          -0.8788546818988332,
          1.2187402667118685,
          -0.3162671648927026,
          0.9555369947525019,
          0.8331485196348947,
          0.5643353781041094,
          0.9456632663673213,
          -0.16924653010990728,
          -2.8385553526488563,
          0.4385338754031157,
          2.050375616692176,
          -0.5957780568198906,
          -0.6391337028422326,
          0.04999693554916875,
          -0.9905604339917498,
          0.7126128257249994,
          1.623879844150366,
          0.7439398470037102,
          -1.4338603239722083,
          0.4223377380195463,
          0.7047789877639619,
          1.2997906440556526,
          1.1377795006181677,
          -0.37982037981568656,
          -0.8183289865038762,
          2.1150365234629778,
          -1.6315774177580455,
          1.557670994327429,
          0.27435834635581113,
          -0.2020660134299496,
          0.6622294003232192,
          -0.7507187976400996,
          1.6841078411643216,
          0.15725059523555834,
          0.20403175525934233,
          -0.10228075446346539,
          -0.45075758084417217,
          0.23398092630605663,
          0.7020994443457834,
          -1.372013643107886,
          -0.830234550415995,
          1.0471754048685615,
          0.2791516597674779,
          0.8073438839758672,
          -1.1840786596386352,
          -1.2438633167946165,
          0.6711553346045185,
          -1.05947273041682,
          -0.21268450772722713,
          -0.7716616231268543,
          -0.6618813607239717,
          -0.7691251660875101
         ],
         "yaxis": "y3"
        },
        {
         "line": {
          "color": "rgba(128, 128, 128, 1.0)",
          "dash": "solid",
          "shape": "linear",
          "width": 1.3
         },
         "marker": {
          "size": 2,
          "symbol": "circle"
         },
         "mode": "markers",
         "name": "A",
         "text": "",
         "type": "scatter",
         "x": [
          -0.21411274271333836,
          0.3713237974686019,
          1.0182433694657855,
          -0.9809308780644594,
          0.11681415896180601,
          0.056113925932592144,
          1.038143121639036,
          -0.3092977150883147,
          -0.5433729141065714,
          -1.3196508208765234,
          -0.25708061763812173,
          0.0037782350897909234,
          -0.2662763824170066,
          0.0768552484861571,
          -0.9055776501046975,
          -1.0036356624024152,
          -2.97083366912784,
          0.6983562301131403,
          -0.21374284452706516,
          0.8684627325918218,
          -0.1861796533340893,
          0.8116072183269627,
          0.2479167382445622,
          -1.6149889045131847,
          1.1122405866650933,
          -0.035202215333426747,
          0.9464088148430557,
          -2.06551088435252,
          1.8003719420270903,
          1.3589645300664823,
          2.813029349767026,
          -1.0659002960154034,
          -1.144289714564388,
          -0.24400458589547835,
          0.07156212349079402,
          2.6239711417649914,
          0.7262306311124471,
          -2.0178252387141296,
          0.9910007039302287,
          -0.52634820628823,
          1.502801479836207,
          -2.5371826122745182,
          0.46687136410253677,
          0.3188656785987697,
          0.7699121598333447,
          0.15187763606796495,
          0.2793597819924499,
          1.3263442544398758,
          -0.7936811937701996,
          -0.15393616151120165,
          0.05520688739259033,
          -1.8565385606752336,
          -0.32172545332466196,
          0.5038075164847766,
          -1.9177966894565226,
          0.9632920973705353,
          1.3563311373052924,
          0.34447531381624724,
          -0.4413867171527908,
          -0.956840945349693,
          -0.3893814338755863,
          -1.1579619966744505,
          -0.8886867830976829,
          -1.5514639240822634,
          -1.2843476076274045,
          1.256439946960209,
          0.4571796955089669,
          -0.6352941465719506,
          -0.01840227830138182,
          0.012149583965205024,
          -0.7139596600384576,
          -2.2073603980461756,
          -0.3769142907166705,
          -1.1530851450231299,
          0.6545482159160557,
          -1.419920770287892,
          0.7929584155525694,
          0.9508711081337505,
          0.6127102026962786,
          0.05790749951701337,
          -0.4669327658980801,
          -0.06445765660094958,
          0.08303432679820061,
          0.7832095356792245,
          0.29008929899966,
          0.9489372515059938,
          -1.8221105051652147,
          0.25122468116482677,
          -0.688314804778081,
          1.090724486112609,
          -0.5553079114238013,
          0.782352967608839,
          0.21959952494655974,
          -0.7372885183735969,
          0.8495989359274342,
          0.9781385987871037,
          1.229655208571755,
          1.3868570877160415,
          0.8665666205235594,
          1.6780863864864783
         ],
         "xaxis": "x4",
         "y": [
          -1.316509150580487,
          0.6567439213089783,
          -1.2117246351490527,
          -0.7795197648889394,
          -1.3086898864866376,
          1.1530168155654092,
          0.13998590336540567,
          -0.11056327817001697,
          1.7537011117105172,
          0.8810323955893713,
          0.10541010497618351,
          1.011575063785946,
          2.1228749009656473,
          -0.3075112722036564,
          1.038681885646689,
          -0.6319853146199059,
          2.2189715728894632,
          -1.4770145042427665,
          -0.153470368878263,
          -0.18727900695016553,
          1.9078574381220432,
          1.0499974193565844,
          0.46542902797864877,
          -0.6260746672943875,
          -0.03689923737424436,
          -1.0944391791639074,
          1.2481303879716057,
          0.09959660652843288,
          0.057031069351861356,
          -1.4176608242708042,
          0.27913325253238075,
          0.8782737897274759,
          -3.3361675913751814,
          -0.3611118893203861,
          0.9042067738977311,
          1.0392994720741469,
          0.3020476385379728,
          -1.10241740023384,
          0.6679332094321817,
          0.2603822989676794,
          0.45894985553075557,
          -0.011014647071094298,
          -1.2018062699942935,
          -1.288958573508946,
          -0.6602935547316192,
          0.559523528635203,
          0.9105335102135964,
          0.9007433046119707,
          -0.8788546818988332,
          1.2187402667118685,
          -0.3162671648927026,
          0.9555369947525019,
          0.8331485196348947,
          0.5643353781041094,
          0.9456632663673213,
          -0.16924653010990728,
          -2.8385553526488563,
          0.4385338754031157,
          2.050375616692176,
          -0.5957780568198906,
          -0.6391337028422326,
          0.04999693554916875,
          -0.9905604339917498,
          0.7126128257249994,
          1.623879844150366,
          0.7439398470037102,
          -1.4338603239722083,
          0.4223377380195463,
          0.7047789877639619,
          1.2997906440556526,
          1.1377795006181677,
          -0.37982037981568656,
          -0.8183289865038762,
          2.1150365234629778,
          -1.6315774177580455,
          1.557670994327429,
          0.27435834635581113,
          -0.2020660134299496,
          0.6622294003232192,
          -0.7507187976400996,
          1.6841078411643216,
          0.15725059523555834,
          0.20403175525934233,
          -0.10228075446346539,
          -0.45075758084417217,
          0.23398092630605663,
          0.7020994443457834,
          -1.372013643107886,
          -0.830234550415995,
          1.0471754048685615,
          0.2791516597674779,
          0.8073438839758672,
          -1.1840786596386352,
          -1.2438633167946165,
          0.6711553346045185,
          -1.05947273041682,
          -0.21268450772722713,
          -0.7716616231268543,
          -0.6618813607239717,
          -0.7691251660875101
         ],
         "yaxis": "y4"
        },
        {
         "line": {
          "color": "rgba(128, 128, 128, 1.0)",
          "dash": "solid",
          "shape": "linear",
          "width": 1.3
         },
         "marker": {
          "size": 2,
          "symbol": "circle"
         },
         "mode": "markers",
         "name": "B",
         "text": "",
         "type": "scatter",
         "x": [
          -1.316509150580487,
          0.6567439213089783,
          -1.2117246351490527,
          -0.7795197648889394,
          -1.3086898864866376,
          1.1530168155654092,
          0.13998590336540567,
          -0.11056327817001697,
          1.7537011117105172,
          0.8810323955893713,
          0.10541010497618351,
          1.011575063785946,
          2.1228749009656473,
          -0.3075112722036564,
          1.038681885646689,
          -0.6319853146199059,
          2.2189715728894632,
          -1.4770145042427665,
          -0.153470368878263,
          -0.18727900695016553,
          1.9078574381220432,
          1.0499974193565844,
          0.46542902797864877,
          -0.6260746672943875,
          -0.03689923737424436,
          -1.0944391791639074,
          1.2481303879716057,
          0.09959660652843288,
          0.057031069351861356,
          -1.4176608242708042,
          0.27913325253238075,
          0.8782737897274759,
          -3.3361675913751814,
          -0.3611118893203861,
          0.9042067738977311,
          1.0392994720741469,
          0.3020476385379728,
          -1.10241740023384,
          0.6679332094321817,
          0.2603822989676794,
          0.45894985553075557,
          -0.011014647071094298,
          -1.2018062699942935,
          -1.288958573508946,
          -0.6602935547316192,
          0.559523528635203,
          0.9105335102135964,
          0.9007433046119707,
          -0.8788546818988332,
          1.2187402667118685,
          -0.3162671648927026,
          0.9555369947525019,
          0.8331485196348947,
          0.5643353781041094,
          0.9456632663673213,
          -0.16924653010990728,
          -2.8385553526488563,
          0.4385338754031157,
          2.050375616692176,
          -0.5957780568198906,
          -0.6391337028422326,
          0.04999693554916875,
          -0.9905604339917498,
          0.7126128257249994,
          1.623879844150366,
          0.7439398470037102,
          -1.4338603239722083,
          0.4223377380195463,
          0.7047789877639619,
          1.2997906440556526,
          1.1377795006181677,
          -0.37982037981568656,
          -0.8183289865038762,
          2.1150365234629778,
          -1.6315774177580455,
          1.557670994327429,
          0.27435834635581113,
          -0.2020660134299496,
          0.6622294003232192,
          -0.7507187976400996,
          1.6841078411643216,
          0.15725059523555834,
          0.20403175525934233,
          -0.10228075446346539,
          -0.45075758084417217,
          0.23398092630605663,
          0.7020994443457834,
          -1.372013643107886,
          -0.830234550415995,
          1.0471754048685615,
          0.2791516597674779,
          0.8073438839758672,
          -1.1840786596386352,
          -1.2438633167946165,
          0.6711553346045185,
          -1.05947273041682,
          -0.21268450772722713,
          -0.7716616231268543,
          -0.6618813607239717,
          -0.7691251660875101
         ],
         "xaxis": "x5",
         "y": [
          0.5322209261277865,
          -0.3400805111723466,
          1.1360868917232188,
          -0.382712079815374,
          -0.0882949780014785,
          -0.0035050460034809156,
          1.2200036262631462,
          0.20708725596394534,
          0.24518777378961107,
          -0.9614960463159214,
          -0.18007055388579998,
          1.693862038729409,
          0.6880732306303996,
          -1.2237783345460118,
          1.5778919118755526,
          -0.9399074605700591,
          0.6502179718500561,
          0.13984189631979266,
          0.3902474711235353,
          0.79574378145543,
          -0.3187089447730361,
          1.7756327287360203,
          0.11176970117547803,
          1.1026687785809492,
          1.2655186137877001,
          2.631604659518769,
          0.38632232634692665,
          0.3918662734991667,
          -0.10269538819221184,
          2.1050347354372656,
          -0.14728435081334065,
          1.5928813916980802,
          -0.5640139867574012,
          -0.7625416520561131,
          0.6299238973321293,
          1.5259003230423187,
          0.4556062123964385,
          -0.2699051707997322,
          1.023416758001027,
          0.8544257864781147,
          -0.2113121282276364,
          -0.9889838291299777,
          0.6101685589425011,
          0.01886452624200072,
          -0.9135960987704975,
          -0.01725436138227997,
          -0.7802532086851106,
          -0.37672890325294733,
          -2.152350636544527,
          -1.1683993670480606,
          1.263532324992662,
          0.312038748908657,
          0.7780507500386404,
          0.041471470158138804,
          -0.6020767411671846,
          0.6249868830012129,
          0.5405277670128545,
          -1.1176579751594906,
          -1.433072594514869,
          1.8835573786822821,
          1.2676267128436596,
          0.18179383715069097,
          -0.6708996716626628,
          -0.8696775484368037,
          0.1348973926892778,
          0.12074046939337874,
          -0.4243922156902889,
          0.346367856345538,
          1.0526808565699703,
          -0.9373139607993218,
          -0.4420468917330237,
          0.585751073752487,
          -0.22025857587135528,
          0.48580639571538037,
          1.1910452374445943,
          -0.8409995659483239,
          1.2713211278296752,
          0.6122183465394152,
          -0.3626153112574866,
          -0.9046816910222284,
          1.492899576359809,
          -0.19437622093277626,
          -0.17496285589028385,
          1.1661687648674532,
          -0.702440894291958,
          -0.9991504450455196,
          1.015268304294555,
          -0.41527919626977905,
          1.286684649424407,
          1.0739953772854123,
          -0.5703063513870817,
          1.039240915811815,
          0.8877143919613583,
          0.864296717575613,
          -0.26344490511936275,
          0.2117153057332679,
          -1.5890334789342004,
          1.1071474916095139,
          0.04231235469678529,
          -0.5264821907576022
         ],
         "yaxis": "y5"
        },
        {
         "histfunc": "count",
         "histnorm": "",
         "marker": {
          "color": "rgba(55, 128, 191, 1.0)",
          "line": {
           "color": "#4D5663",
           "width": 1.3
          }
         },
         "name": "B",
         "nbinsx": 10,
         "opacity": 0.8,
         "orientation": "v",
         "type": "histogram",
         "x": [
          0.5322209261277865,
          -0.3400805111723466,
          1.1360868917232188,
          -0.382712079815374,
          -0.0882949780014785,
          -0.0035050460034809156,
          1.2200036262631462,
          0.20708725596394534,
          0.24518777378961107,
          -0.9614960463159214,
          -0.18007055388579998,
          1.693862038729409,
          0.6880732306303996,
          -1.2237783345460118,
          1.5778919118755526,
          -0.9399074605700591,
          0.6502179718500561,
          0.13984189631979266,
          0.3902474711235353,
          0.79574378145543,
          -0.3187089447730361,
          1.7756327287360203,
          0.11176970117547803,
          1.1026687785809492,
          1.2655186137877001,
          2.631604659518769,
          0.38632232634692665,
          0.3918662734991667,
          -0.10269538819221184,
          2.1050347354372656,
          -0.14728435081334065,
          1.5928813916980802,
          -0.5640139867574012,
          -0.7625416520561131,
          0.6299238973321293,
          1.5259003230423187,
          0.4556062123964385,
          -0.2699051707997322,
          1.023416758001027,
          0.8544257864781147,
          -0.2113121282276364,
          -0.9889838291299777,
          0.6101685589425011,
          0.01886452624200072,
          -0.9135960987704975,
          -0.01725436138227997,
          -0.7802532086851106,
          -0.37672890325294733,
          -2.152350636544527,
          -1.1683993670480606,
          1.263532324992662,
          0.312038748908657,
          0.7780507500386404,
          0.041471470158138804,
          -0.6020767411671846,
          0.6249868830012129,
          0.5405277670128545,
          -1.1176579751594906,
          -1.433072594514869,
          1.8835573786822821,
          1.2676267128436596,
          0.18179383715069097,
          -0.6708996716626628,
          -0.8696775484368037,
          0.1348973926892778,
          0.12074046939337874,
          -0.4243922156902889,
          0.346367856345538,
          1.0526808565699703,
          -0.9373139607993218,
          -0.4420468917330237,
          0.585751073752487,
          -0.22025857587135528,
          0.48580639571538037,
          1.1910452374445943,
          -0.8409995659483239,
          1.2713211278296752,
          0.6122183465394152,
          -0.3626153112574866,
          -0.9046816910222284,
          1.492899576359809,
          -0.19437622093277626,
          -0.17496285589028385,
          1.1661687648674532,
          -0.702440894291958,
          -0.9991504450455196,
          1.015268304294555,
          -0.41527919626977905,
          1.286684649424407,
          1.0739953772854123,
          -0.5703063513870817,
          1.039240915811815,
          0.8877143919613583,
          0.864296717575613,
          -0.26344490511936275,
          0.2117153057332679,
          -1.5890334789342004,
          1.1071474916095139,
          0.04231235469678529,
          -0.5264821907576022
         ],
         "xaxis": "x6",
         "yaxis": "y6"
        },
        {
         "line": {
          "color": "rgba(128, 128, 128, 1.0)",
          "dash": "solid",
          "shape": "linear",
          "width": 1.3
         },
         "marker": {
          "size": 2,
          "symbol": "circle"
         },
         "mode": "markers",
         "name": "B",
         "text": "",
         "type": "scatter",
         "x": [
          -0.4426627042361103,
          -0.6399050472784629,
          0.07358865068267394,
          -0.3091615362420584,
          -2.1105700846068247,
          -0.6987203494266411,
          1.9987205565156225,
          -0.6497007420309667,
          0.20538307212912799,
          0.8983335644172407,
          0.26287310136750575,
          0.6107851851136252,
          -1.4363662311890355,
          0.36206337951561535,
          -0.2298673448032176,
          0.2265768162296731,
          0.8249414689110565,
          -0.8416150285488005,
          -0.6309024477119458,
          -0.12020366953750442,
          -0.2008317397881813,
          1.3158989235166834,
          -0.47561387029975616,
          0.3692948659360093,
          -0.5097988799863549,
          -0.38238868688924915,
          -1.5443771107613438,
          0.9322307087276408,
          -0.6038157686699996,
          0.10854617372161343,
          0.4078863543497139,
          -0.5974480890593209,
          1.7927302989916816,
          -0.27167329817764774,
          -0.10515729655119894,
          1.5046224508092376,
          1.2765081652015136,
          0.018901514535407556,
          -0.6981007178938509,
          0.2996256016902793,
          2.182783994787281,
          -0.8517021573495922,
          -0.6851326623649174,
          1.503361473348288,
          -0.10553912688797204,
          0.14975795420926277,
          0.49007051098713633,
          1.7947033295356172,
          -0.5715585020270864,
          -0.2381385005439792,
          -0.6997641418699387,
          0.11917893539522223,
          0.06952016281575028,
          0.3275008663147888,
          -0.4215140848008329,
          -0.9496352371350686,
          -1.0980805451800228,
          0.6125067193912569,
          0.1864624725803467,
          -0.15136469674670028,
          2.5960378688935712,
          0.8593240545880897,
          0.9587487407168636,
          0.8607656944499196,
          -0.3765156391993082,
          -1.2186616142210775,
          0.5178747433876127,
          -0.9975677063910462,
          -1.1910852286017317,
          -0.14787487928866896,
          -1.8047146319904626,
          1.4712403371794966,
          -0.06781497409294958,
          -1.34104990666472,
          -0.10306844664005434,
          -0.6344963461811047,
          0.9199220068790146,
          0.5874686040801018,
          0.27268255431433663,
          2.545739441802707,
          0.6586714984006848,
          1.224730402961586,
          -2.7085386943159473,
          0.01301733171174009,
          -0.2629659802082384,
          0.04500540665017078,
          -1.7927350814706264,
          0.44346558844281037,
          -0.36485627916302865,
          1.8799723626101896,
          0.6079096307392652,
          -0.810251652556461,
          0.28478379146553534,
          1.364369493564619,
          -0.6796767191131572,
          0.4878983532993825,
          -0.9801955125025105,
          1.3857556767911223,
          0.7150505765825546,
          2.380938657712917
         ],
         "xaxis": "x7",
         "y": [
          0.5322209261277865,
          -0.3400805111723466,
          1.1360868917232188,
          -0.382712079815374,
          -0.0882949780014785,
          -0.0035050460034809156,
          1.2200036262631462,
          0.20708725596394534,
          0.24518777378961107,
          -0.9614960463159214,
          -0.18007055388579998,
          1.693862038729409,
          0.6880732306303996,
          -1.2237783345460118,
          1.5778919118755526,
          -0.9399074605700591,
          0.6502179718500561,
          0.13984189631979266,
          0.3902474711235353,
          0.79574378145543,
          -0.3187089447730361,
          1.7756327287360203,
          0.11176970117547803,
          1.1026687785809492,
          1.2655186137877001,
          2.631604659518769,
          0.38632232634692665,
          0.3918662734991667,
          -0.10269538819221184,
          2.1050347354372656,
          -0.14728435081334065,
          1.5928813916980802,
          -0.5640139867574012,
          -0.7625416520561131,
          0.6299238973321293,
          1.5259003230423187,
          0.4556062123964385,
          -0.2699051707997322,
          1.023416758001027,
          0.8544257864781147,
          -0.2113121282276364,
          -0.9889838291299777,
          0.6101685589425011,
          0.01886452624200072,
          -0.9135960987704975,
          -0.01725436138227997,
          -0.7802532086851106,
          -0.37672890325294733,
          -2.152350636544527,
          -1.1683993670480606,
          1.263532324992662,
          0.312038748908657,
          0.7780507500386404,
          0.041471470158138804,
          -0.6020767411671846,
          0.6249868830012129,
          0.5405277670128545,
          -1.1176579751594906,
          -1.433072594514869,
          1.8835573786822821,
          1.2676267128436596,
          0.18179383715069097,
          -0.6708996716626628,
          -0.8696775484368037,
          0.1348973926892778,
          0.12074046939337874,
          -0.4243922156902889,
          0.346367856345538,
          1.0526808565699703,
          -0.9373139607993218,
          -0.4420468917330237,
          0.585751073752487,
          -0.22025857587135528,
          0.48580639571538037,
          1.1910452374445943,
          -0.8409995659483239,
          1.2713211278296752,
          0.6122183465394152,
          -0.3626153112574866,
          -0.9046816910222284,
          1.492899576359809,
          -0.19437622093277626,
          -0.17496285589028385,
          1.1661687648674532,
          -0.702440894291958,
          -0.9991504450455196,
          1.015268304294555,
          -0.41527919626977905,
          1.286684649424407,
          1.0739953772854123,
          -0.5703063513870817,
          1.039240915811815,
          0.8877143919613583,
          0.864296717575613,
          -0.26344490511936275,
          0.2117153057332679,
          -1.5890334789342004,
          1.1071474916095139,
          0.04231235469678529,
          -0.5264821907576022
         ],
         "yaxis": "y7"
        },
        {
         "line": {
          "color": "rgba(128, 128, 128, 1.0)",
          "dash": "solid",
          "shape": "linear",
          "width": 1.3
         },
         "marker": {
          "size": 2,
          "symbol": "circle"
         },
         "mode": "markers",
         "name": "B",
         "text": "",
         "type": "scatter",
         "x": [
          -0.21411274271333836,
          0.3713237974686019,
          1.0182433694657855,
          -0.9809308780644594,
          0.11681415896180601,
          0.056113925932592144,
          1.038143121639036,
          -0.3092977150883147,
          -0.5433729141065714,
          -1.3196508208765234,
          -0.25708061763812173,
          0.0037782350897909234,
          -0.2662763824170066,
          0.0768552484861571,
          -0.9055776501046975,
          -1.0036356624024152,
          -2.97083366912784,
          0.6983562301131403,
          -0.21374284452706516,
          0.8684627325918218,
          -0.1861796533340893,
          0.8116072183269627,
          0.2479167382445622,
          -1.6149889045131847,
          1.1122405866650933,
          -0.035202215333426747,
          0.9464088148430557,
          -2.06551088435252,
          1.8003719420270903,
          1.3589645300664823,
          2.813029349767026,
          -1.0659002960154034,
          -1.144289714564388,
          -0.24400458589547835,
          0.07156212349079402,
          2.6239711417649914,
          0.7262306311124471,
          -2.0178252387141296,
          0.9910007039302287,
          -0.52634820628823,
          1.502801479836207,
          -2.5371826122745182,
          0.46687136410253677,
          0.3188656785987697,
          0.7699121598333447,
          0.15187763606796495,
          0.2793597819924499,
          1.3263442544398758,
          -0.7936811937701996,
          -0.15393616151120165,
          0.05520688739259033,
          -1.8565385606752336,
          -0.32172545332466196,
          0.5038075164847766,
          -1.9177966894565226,
          0.9632920973705353,
          1.3563311373052924,
          0.34447531381624724,
          -0.4413867171527908,
          -0.956840945349693,
          -0.3893814338755863,
          -1.1579619966744505,
          -0.8886867830976829,
          -1.5514639240822634,
          -1.2843476076274045,
          1.256439946960209,
          0.4571796955089669,
          -0.6352941465719506,
          -0.01840227830138182,
          0.012149583965205024,
          -0.7139596600384576,
          -2.2073603980461756,
          -0.3769142907166705,
          -1.1530851450231299,
          0.6545482159160557,
          -1.419920770287892,
          0.7929584155525694,
          0.9508711081337505,
          0.6127102026962786,
          0.05790749951701337,
          -0.4669327658980801,
          -0.06445765660094958,
          0.08303432679820061,
          0.7832095356792245,
          0.29008929899966,
          0.9489372515059938,
          -1.8221105051652147,
          0.25122468116482677,
          -0.688314804778081,
          1.090724486112609,
          -0.5553079114238013,
          0.782352967608839,
          0.21959952494655974,
          -0.7372885183735969,
          0.8495989359274342,
          0.9781385987871037,
          1.229655208571755,
          1.3868570877160415,
          0.8665666205235594,
          1.6780863864864783
         ],
         "xaxis": "x8",
         "y": [
          0.5322209261277865,
          -0.3400805111723466,
          1.1360868917232188,
          -0.382712079815374,
          -0.0882949780014785,
          -0.0035050460034809156,
          1.2200036262631462,
          0.20708725596394534,
          0.24518777378961107,
          -0.9614960463159214,
          -0.18007055388579998,
          1.693862038729409,
          0.6880732306303996,
          -1.2237783345460118,
          1.5778919118755526,
          -0.9399074605700591,
          0.6502179718500561,
          0.13984189631979266,
          0.3902474711235353,
          0.79574378145543,
          -0.3187089447730361,
          1.7756327287360203,
          0.11176970117547803,
          1.1026687785809492,
          1.2655186137877001,
          2.631604659518769,
          0.38632232634692665,
          0.3918662734991667,
          -0.10269538819221184,
          2.1050347354372656,
          -0.14728435081334065,
          1.5928813916980802,
          -0.5640139867574012,
          -0.7625416520561131,
          0.6299238973321293,
          1.5259003230423187,
          0.4556062123964385,
          -0.2699051707997322,
          1.023416758001027,
          0.8544257864781147,
          -0.2113121282276364,
          -0.9889838291299777,
          0.6101685589425011,
          0.01886452624200072,
          -0.9135960987704975,
          -0.01725436138227997,
          -0.7802532086851106,
          -0.37672890325294733,
          -2.152350636544527,
          -1.1683993670480606,
          1.263532324992662,
          0.312038748908657,
          0.7780507500386404,
          0.041471470158138804,
          -0.6020767411671846,
          0.6249868830012129,
          0.5405277670128545,
          -1.1176579751594906,
          -1.433072594514869,
          1.8835573786822821,
          1.2676267128436596,
          0.18179383715069097,
          -0.6708996716626628,
          -0.8696775484368037,
          0.1348973926892778,
          0.12074046939337874,
          -0.4243922156902889,
          0.346367856345538,
          1.0526808565699703,
          -0.9373139607993218,
          -0.4420468917330237,
          0.585751073752487,
          -0.22025857587135528,
          0.48580639571538037,
          1.1910452374445943,
          -0.8409995659483239,
          1.2713211278296752,
          0.6122183465394152,
          -0.3626153112574866,
          -0.9046816910222284,
          1.492899576359809,
          -0.19437622093277626,
          -0.17496285589028385,
          1.1661687648674532,
          -0.702440894291958,
          -0.9991504450455196,
          1.015268304294555,
          -0.41527919626977905,
          1.286684649424407,
          1.0739953772854123,
          -0.5703063513870817,
          1.039240915811815,
          0.8877143919613583,
          0.864296717575613,
          -0.26344490511936275,
          0.2117153057332679,
          -1.5890334789342004,
          1.1071474916095139,
          0.04231235469678529,
          -0.5264821907576022
         ],
         "yaxis": "y8"
        },
        {
         "line": {
          "color": "rgba(128, 128, 128, 1.0)",
          "dash": "solid",
          "shape": "linear",
          "width": 1.3
         },
         "marker": {
          "size": 2,
          "symbol": "circle"
         },
         "mode": "markers",
         "name": "C",
         "text": "",
         "type": "scatter",
         "x": [
          -1.316509150580487,
          0.6567439213089783,
          -1.2117246351490527,
          -0.7795197648889394,
          -1.3086898864866376,
          1.1530168155654092,
          0.13998590336540567,
          -0.11056327817001697,
          1.7537011117105172,
          0.8810323955893713,
          0.10541010497618351,
          1.011575063785946,
          2.1228749009656473,
          -0.3075112722036564,
          1.038681885646689,
          -0.6319853146199059,
          2.2189715728894632,
          -1.4770145042427665,
          -0.153470368878263,
          -0.18727900695016553,
          1.9078574381220432,
          1.0499974193565844,
          0.46542902797864877,
          -0.6260746672943875,
          -0.03689923737424436,
          -1.0944391791639074,
          1.2481303879716057,
          0.09959660652843288,
          0.057031069351861356,
          -1.4176608242708042,
          0.27913325253238075,
          0.8782737897274759,
          -3.3361675913751814,
          -0.3611118893203861,
          0.9042067738977311,
          1.0392994720741469,
          0.3020476385379728,
          -1.10241740023384,
          0.6679332094321817,
          0.2603822989676794,
          0.45894985553075557,
          -0.011014647071094298,
          -1.2018062699942935,
          -1.288958573508946,
          -0.6602935547316192,
          0.559523528635203,
          0.9105335102135964,
          0.9007433046119707,
          -0.8788546818988332,
          1.2187402667118685,
          -0.3162671648927026,
          0.9555369947525019,
          0.8331485196348947,
          0.5643353781041094,
          0.9456632663673213,
          -0.16924653010990728,
          -2.8385553526488563,
          0.4385338754031157,
          2.050375616692176,
          -0.5957780568198906,
          -0.6391337028422326,
          0.04999693554916875,
          -0.9905604339917498,
          0.7126128257249994,
          1.623879844150366,
          0.7439398470037102,
          -1.4338603239722083,
          0.4223377380195463,
          0.7047789877639619,
          1.2997906440556526,
          1.1377795006181677,
          -0.37982037981568656,
          -0.8183289865038762,
          2.1150365234629778,
          -1.6315774177580455,
          1.557670994327429,
          0.27435834635581113,
          -0.2020660134299496,
          0.6622294003232192,
          -0.7507187976400996,
          1.6841078411643216,
          0.15725059523555834,
          0.20403175525934233,
          -0.10228075446346539,
          -0.45075758084417217,
          0.23398092630605663,
          0.7020994443457834,
          -1.372013643107886,
          -0.830234550415995,
          1.0471754048685615,
          0.2791516597674779,
          0.8073438839758672,
          -1.1840786596386352,
          -1.2438633167946165,
          0.6711553346045185,
          -1.05947273041682,
          -0.21268450772722713,
          -0.7716616231268543,
          -0.6618813607239717,
          -0.7691251660875101
         ],
         "xaxis": "x9",
         "y": [
          -0.4426627042361103,
          -0.6399050472784629,
          0.07358865068267394,
          -0.3091615362420584,
          -2.1105700846068247,
          -0.6987203494266411,
          1.9987205565156225,
          -0.6497007420309667,
          0.20538307212912799,
          0.8983335644172407,
          0.26287310136750575,
          0.6107851851136252,
          -1.4363662311890355,
          0.36206337951561535,
          -0.2298673448032176,
          0.2265768162296731,
          0.8249414689110565,
          -0.8416150285488005,
          -0.6309024477119458,
          -0.12020366953750442,
          -0.2008317397881813,
          1.3158989235166834,
          -0.47561387029975616,
          0.3692948659360093,
          -0.5097988799863549,
          -0.38238868688924915,
          -1.5443771107613438,
          0.9322307087276408,
          -0.6038157686699996,
          0.10854617372161343,
          0.4078863543497139,
          -0.5974480890593209,
          1.7927302989916816,
          -0.27167329817764774,
          -0.10515729655119894,
          1.5046224508092376,
          1.2765081652015136,
          0.018901514535407556,
          -0.6981007178938509,
          0.2996256016902793,
          2.182783994787281,
          -0.8517021573495922,
          -0.6851326623649174,
          1.503361473348288,
          -0.10553912688797204,
          0.14975795420926277,
          0.49007051098713633,
          1.7947033295356172,
          -0.5715585020270864,
          -0.2381385005439792,
          -0.6997641418699387,
          0.11917893539522223,
          0.06952016281575028,
          0.3275008663147888,
          -0.4215140848008329,
          -0.9496352371350686,
          -1.0980805451800228,
          0.6125067193912569,
          0.1864624725803467,
          -0.15136469674670028,
          2.5960378688935712,
          0.8593240545880897,
          0.9587487407168636,
          0.8607656944499196,
          -0.3765156391993082,
          -1.2186616142210775,
          0.5178747433876127,
          -0.9975677063910462,
          -1.1910852286017317,
          -0.14787487928866896,
          -1.8047146319904626,
          1.4712403371794966,
          -0.06781497409294958,
          -1.34104990666472,
          -0.10306844664005434,
          -0.6344963461811047,
          0.9199220068790146,
          0.5874686040801018,
          0.27268255431433663,
          2.545739441802707,
          0.6586714984006848,
          1.224730402961586,
          -2.7085386943159473,
          0.01301733171174009,
          -0.2629659802082384,
          0.04500540665017078,
          -1.7927350814706264,
          0.44346558844281037,
          -0.36485627916302865,
          1.8799723626101896,
          0.6079096307392652,
          -0.810251652556461,
          0.28478379146553534,
          1.364369493564619,
          -0.6796767191131572,
          0.4878983532993825,
          -0.9801955125025105,
          1.3857556767911223,
          0.7150505765825546,
          2.380938657712917
         ],
         "yaxis": "y9"
        },
        {
         "line": {
          "color": "rgba(128, 128, 128, 1.0)",
          "dash": "solid",
          "shape": "linear",
          "width": 1.3
         },
         "marker": {
          "size": 2,
          "symbol": "circle"
         },
         "mode": "markers",
         "name": "C",
         "text": "",
         "type": "scatter",
         "x": [
          0.5322209261277865,
          -0.3400805111723466,
          1.1360868917232188,
          -0.382712079815374,
          -0.0882949780014785,
          -0.0035050460034809156,
          1.2200036262631462,
          0.20708725596394534,
          0.24518777378961107,
          -0.9614960463159214,
          -0.18007055388579998,
          1.693862038729409,
          0.6880732306303996,
          -1.2237783345460118,
          1.5778919118755526,
          -0.9399074605700591,
          0.6502179718500561,
          0.13984189631979266,
          0.3902474711235353,
          0.79574378145543,
          -0.3187089447730361,
          1.7756327287360203,
          0.11176970117547803,
          1.1026687785809492,
          1.2655186137877001,
          2.631604659518769,
          0.38632232634692665,
          0.3918662734991667,
          -0.10269538819221184,
          2.1050347354372656,
          -0.14728435081334065,
          1.5928813916980802,
          -0.5640139867574012,
          -0.7625416520561131,
          0.6299238973321293,
          1.5259003230423187,
          0.4556062123964385,
          -0.2699051707997322,
          1.023416758001027,
          0.8544257864781147,
          -0.2113121282276364,
          -0.9889838291299777,
          0.6101685589425011,
          0.01886452624200072,
          -0.9135960987704975,
          -0.01725436138227997,
          -0.7802532086851106,
          -0.37672890325294733,
          -2.152350636544527,
          -1.1683993670480606,
          1.263532324992662,
          0.312038748908657,
          0.7780507500386404,
          0.041471470158138804,
          -0.6020767411671846,
          0.6249868830012129,
          0.5405277670128545,
          -1.1176579751594906,
          -1.433072594514869,
          1.8835573786822821,
          1.2676267128436596,
          0.18179383715069097,
          -0.6708996716626628,
          -0.8696775484368037,
          0.1348973926892778,
          0.12074046939337874,
          -0.4243922156902889,
          0.346367856345538,
          1.0526808565699703,
          -0.9373139607993218,
          -0.4420468917330237,
          0.585751073752487,
          -0.22025857587135528,
          0.48580639571538037,
          1.1910452374445943,
          -0.8409995659483239,
          1.2713211278296752,
          0.6122183465394152,
          -0.3626153112574866,
          -0.9046816910222284,
          1.492899576359809,
          -0.19437622093277626,
          -0.17496285589028385,
          1.1661687648674532,
          -0.702440894291958,
          -0.9991504450455196,
          1.015268304294555,
          -0.41527919626977905,
          1.286684649424407,
          1.0739953772854123,
          -0.5703063513870817,
          1.039240915811815,
          0.8877143919613583,
          0.864296717575613,
          -0.26344490511936275,
          0.2117153057332679,
          -1.5890334789342004,
          1.1071474916095139,
          0.04231235469678529,
          -0.5264821907576022
         ],
         "xaxis": "x10",
         "y": [
          -0.4426627042361103,
          -0.6399050472784629,
          0.07358865068267394,
          -0.3091615362420584,
          -2.1105700846068247,
          -0.6987203494266411,
          1.9987205565156225,
          -0.6497007420309667,
          0.20538307212912799,
          0.8983335644172407,
          0.26287310136750575,
          0.6107851851136252,
          -1.4363662311890355,
          0.36206337951561535,
          -0.2298673448032176,
          0.2265768162296731,
          0.8249414689110565,
          -0.8416150285488005,
          -0.6309024477119458,
          -0.12020366953750442,
          -0.2008317397881813,
          1.3158989235166834,
          -0.47561387029975616,
          0.3692948659360093,
          -0.5097988799863549,
          -0.38238868688924915,
          -1.5443771107613438,
          0.9322307087276408,
          -0.6038157686699996,
          0.10854617372161343,
          0.4078863543497139,
          -0.5974480890593209,
          1.7927302989916816,
          -0.27167329817764774,
          -0.10515729655119894,
          1.5046224508092376,
          1.2765081652015136,
          0.018901514535407556,
          -0.6981007178938509,
          0.2996256016902793,
          2.182783994787281,
          -0.8517021573495922,
          -0.6851326623649174,
          1.503361473348288,
          -0.10553912688797204,
          0.14975795420926277,
          0.49007051098713633,
          1.7947033295356172,
          -0.5715585020270864,
          -0.2381385005439792,
          -0.6997641418699387,
          0.11917893539522223,
          0.06952016281575028,
          0.3275008663147888,
          -0.4215140848008329,
          -0.9496352371350686,
          -1.0980805451800228,
          0.6125067193912569,
          0.1864624725803467,
          -0.15136469674670028,
          2.5960378688935712,
          0.8593240545880897,
          0.9587487407168636,
          0.8607656944499196,
          -0.3765156391993082,
          -1.2186616142210775,
          0.5178747433876127,
          -0.9975677063910462,
          -1.1910852286017317,
          -0.14787487928866896,
          -1.8047146319904626,
          1.4712403371794966,
          -0.06781497409294958,
          -1.34104990666472,
          -0.10306844664005434,
          -0.6344963461811047,
          0.9199220068790146,
          0.5874686040801018,
          0.27268255431433663,
          2.545739441802707,
          0.6586714984006848,
          1.224730402961586,
          -2.7085386943159473,
          0.01301733171174009,
          -0.2629659802082384,
          0.04500540665017078,
          -1.7927350814706264,
          0.44346558844281037,
          -0.36485627916302865,
          1.8799723626101896,
          0.6079096307392652,
          -0.810251652556461,
          0.28478379146553534,
          1.364369493564619,
          -0.6796767191131572,
          0.4878983532993825,
          -0.9801955125025105,
          1.3857556767911223,
          0.7150505765825546,
          2.380938657712917
         ],
         "yaxis": "y10"
        },
        {
         "histfunc": "count",
         "histnorm": "",
         "marker": {
          "color": "rgba(50, 171, 96, 1.0)",
          "line": {
           "color": "#4D5663",
           "width": 1.3
          }
         },
         "name": "C",
         "nbinsx": 10,
         "opacity": 0.8,
         "orientation": "v",
         "type": "histogram",
         "x": [
          -0.4426627042361103,
          -0.6399050472784629,
          0.07358865068267394,
          -0.3091615362420584,
          -2.1105700846068247,
          -0.6987203494266411,
          1.9987205565156225,
          -0.6497007420309667,
          0.20538307212912799,
          0.8983335644172407,
          0.26287310136750575,
          0.6107851851136252,
          -1.4363662311890355,
          0.36206337951561535,
          -0.2298673448032176,
          0.2265768162296731,
          0.8249414689110565,
          -0.8416150285488005,
          -0.6309024477119458,
          -0.12020366953750442,
          -0.2008317397881813,
          1.3158989235166834,
          -0.47561387029975616,
          0.3692948659360093,
          -0.5097988799863549,
          -0.38238868688924915,
          -1.5443771107613438,
          0.9322307087276408,
          -0.6038157686699996,
          0.10854617372161343,
          0.4078863543497139,
          -0.5974480890593209,
          1.7927302989916816,
          -0.27167329817764774,
          -0.10515729655119894,
          1.5046224508092376,
          1.2765081652015136,
          0.018901514535407556,
          -0.6981007178938509,
          0.2996256016902793,
          2.182783994787281,
          -0.8517021573495922,
          -0.6851326623649174,
          1.503361473348288,
          -0.10553912688797204,
          0.14975795420926277,
          0.49007051098713633,
          1.7947033295356172,
          -0.5715585020270864,
          -0.2381385005439792,
          -0.6997641418699387,
          0.11917893539522223,
          0.06952016281575028,
          0.3275008663147888,
          -0.4215140848008329,
          -0.9496352371350686,
          -1.0980805451800228,
          0.6125067193912569,
          0.1864624725803467,
          -0.15136469674670028,
          2.5960378688935712,
          0.8593240545880897,
          0.9587487407168636,
          0.8607656944499196,
          -0.3765156391993082,
          -1.2186616142210775,
          0.5178747433876127,
          -0.9975677063910462,
          -1.1910852286017317,
          -0.14787487928866896,
          -1.8047146319904626,
          1.4712403371794966,
          -0.06781497409294958,
          -1.34104990666472,
          -0.10306844664005434,
          -0.6344963461811047,
          0.9199220068790146,
          0.5874686040801018,
          0.27268255431433663,
          2.545739441802707,
          0.6586714984006848,
          1.224730402961586,
          -2.7085386943159473,
          0.01301733171174009,
          -0.2629659802082384,
          0.04500540665017078,
          -1.7927350814706264,
          0.44346558844281037,
          -0.36485627916302865,
          1.8799723626101896,
          0.6079096307392652,
          -0.810251652556461,
          0.28478379146553534,
          1.364369493564619,
          -0.6796767191131572,
          0.4878983532993825,
          -0.9801955125025105,
          1.3857556767911223,
          0.7150505765825546,
          2.380938657712917
         ],
         "xaxis": "x11",
         "yaxis": "y11"
        },
        {
         "line": {
          "color": "rgba(128, 128, 128, 1.0)",
          "dash": "solid",
          "shape": "linear",
          "width": 1.3
         },
         "marker": {
          "size": 2,
          "symbol": "circle"
         },
         "mode": "markers",
         "name": "C",
         "text": "",
         "type": "scatter",
         "x": [
          -0.21411274271333836,
          0.3713237974686019,
          1.0182433694657855,
          -0.9809308780644594,
          0.11681415896180601,
          0.056113925932592144,
          1.038143121639036,
          -0.3092977150883147,
          -0.5433729141065714,
          -1.3196508208765234,
          -0.25708061763812173,
          0.0037782350897909234,
          -0.2662763824170066,
          0.0768552484861571,
          -0.9055776501046975,
          -1.0036356624024152,
          -2.97083366912784,
          0.6983562301131403,
          -0.21374284452706516,
          0.8684627325918218,
          -0.1861796533340893,
          0.8116072183269627,
          0.2479167382445622,
          -1.6149889045131847,
          1.1122405866650933,
          -0.035202215333426747,
          0.9464088148430557,
          -2.06551088435252,
          1.8003719420270903,
          1.3589645300664823,
          2.813029349767026,
          -1.0659002960154034,
          -1.144289714564388,
          -0.24400458589547835,
          0.07156212349079402,
          2.6239711417649914,
          0.7262306311124471,
          -2.0178252387141296,
          0.9910007039302287,
          -0.52634820628823,
          1.502801479836207,
          -2.5371826122745182,
          0.46687136410253677,
          0.3188656785987697,
          0.7699121598333447,
          0.15187763606796495,
          0.2793597819924499,
          1.3263442544398758,
          -0.7936811937701996,
          -0.15393616151120165,
          0.05520688739259033,
          -1.8565385606752336,
          -0.32172545332466196,
          0.5038075164847766,
          -1.9177966894565226,
          0.9632920973705353,
          1.3563311373052924,
          0.34447531381624724,
          -0.4413867171527908,
          -0.956840945349693,
          -0.3893814338755863,
          -1.1579619966744505,
          -0.8886867830976829,
          -1.5514639240822634,
          -1.2843476076274045,
          1.256439946960209,
          0.4571796955089669,
          -0.6352941465719506,
          -0.01840227830138182,
          0.012149583965205024,
          -0.7139596600384576,
          -2.2073603980461756,
          -0.3769142907166705,
          -1.1530851450231299,
          0.6545482159160557,
          -1.419920770287892,
          0.7929584155525694,
          0.9508711081337505,
          0.6127102026962786,
          0.05790749951701337,
          -0.4669327658980801,
          -0.06445765660094958,
          0.08303432679820061,
          0.7832095356792245,
          0.29008929899966,
          0.9489372515059938,
          -1.8221105051652147,
          0.25122468116482677,
          -0.688314804778081,
          1.090724486112609,
          -0.5553079114238013,
          0.782352967608839,
          0.21959952494655974,
          -0.7372885183735969,
          0.8495989359274342,
          0.9781385987871037,
          1.229655208571755,
          1.3868570877160415,
          0.8665666205235594,
          1.6780863864864783
         ],
         "xaxis": "x12",
         "y": [
          -0.4426627042361103,
          -0.6399050472784629,
          0.07358865068267394,
          -0.3091615362420584,
          -2.1105700846068247,
          -0.6987203494266411,
          1.9987205565156225,
          -0.6497007420309667,
          0.20538307212912799,
          0.8983335644172407,
          0.26287310136750575,
          0.6107851851136252,
          -1.4363662311890355,
          0.36206337951561535,
          -0.2298673448032176,
          0.2265768162296731,
          0.8249414689110565,
          -0.8416150285488005,
          -0.6309024477119458,
          -0.12020366953750442,
          -0.2008317397881813,
          1.3158989235166834,
          -0.47561387029975616,
          0.3692948659360093,
          -0.5097988799863549,
          -0.38238868688924915,
          -1.5443771107613438,
          0.9322307087276408,
          -0.6038157686699996,
          0.10854617372161343,
          0.4078863543497139,
          -0.5974480890593209,
          1.7927302989916816,
          -0.27167329817764774,
          -0.10515729655119894,
          1.5046224508092376,
          1.2765081652015136,
          0.018901514535407556,
          -0.6981007178938509,
          0.2996256016902793,
          2.182783994787281,
          -0.8517021573495922,
          -0.6851326623649174,
          1.503361473348288,
          -0.10553912688797204,
          0.14975795420926277,
          0.49007051098713633,
          1.7947033295356172,
          -0.5715585020270864,
          -0.2381385005439792,
          -0.6997641418699387,
          0.11917893539522223,
          0.06952016281575028,
          0.3275008663147888,
          -0.4215140848008329,
          -0.9496352371350686,
          -1.0980805451800228,
          0.6125067193912569,
          0.1864624725803467,
          -0.15136469674670028,
          2.5960378688935712,
          0.8593240545880897,
          0.9587487407168636,
          0.8607656944499196,
          -0.3765156391993082,
          -1.2186616142210775,
          0.5178747433876127,
          -0.9975677063910462,
          -1.1910852286017317,
          -0.14787487928866896,
          -1.8047146319904626,
          1.4712403371794966,
          -0.06781497409294958,
          -1.34104990666472,
          -0.10306844664005434,
          -0.6344963461811047,
          0.9199220068790146,
          0.5874686040801018,
          0.27268255431433663,
          2.545739441802707,
          0.6586714984006848,
          1.224730402961586,
          -2.7085386943159473,
          0.01301733171174009,
          -0.2629659802082384,
          0.04500540665017078,
          -1.7927350814706264,
          0.44346558844281037,
          -0.36485627916302865,
          1.8799723626101896,
          0.6079096307392652,
          -0.810251652556461,
          0.28478379146553534,
          1.364369493564619,
          -0.6796767191131572,
          0.4878983532993825,
          -0.9801955125025105,
          1.3857556767911223,
          0.7150505765825546,
          2.380938657712917
         ],
         "yaxis": "y12"
        },
        {
         "line": {
          "color": "rgba(128, 128, 128, 1.0)",
          "dash": "solid",
          "shape": "linear",
          "width": 1.3
         },
         "marker": {
          "size": 2,
          "symbol": "circle"
         },
         "mode": "markers",
         "name": "D",
         "text": "",
         "type": "scatter",
         "x": [
          -1.316509150580487,
          0.6567439213089783,
          -1.2117246351490527,
          -0.7795197648889394,
          -1.3086898864866376,
          1.1530168155654092,
          0.13998590336540567,
          -0.11056327817001697,
          1.7537011117105172,
          0.8810323955893713,
          0.10541010497618351,
          1.011575063785946,
          2.1228749009656473,
          -0.3075112722036564,
          1.038681885646689,
          -0.6319853146199059,
          2.2189715728894632,
          -1.4770145042427665,
          -0.153470368878263,
          -0.18727900695016553,
          1.9078574381220432,
          1.0499974193565844,
          0.46542902797864877,
          -0.6260746672943875,
          -0.03689923737424436,
          -1.0944391791639074,
          1.2481303879716057,
          0.09959660652843288,
          0.057031069351861356,
          -1.4176608242708042,
          0.27913325253238075,
          0.8782737897274759,
          -3.3361675913751814,
          -0.3611118893203861,
          0.9042067738977311,
          1.0392994720741469,
          0.3020476385379728,
          -1.10241740023384,
          0.6679332094321817,
          0.2603822989676794,
          0.45894985553075557,
          -0.011014647071094298,
          -1.2018062699942935,
          -1.288958573508946,
          -0.6602935547316192,
          0.559523528635203,
          0.9105335102135964,
          0.9007433046119707,
          -0.8788546818988332,
          1.2187402667118685,
          -0.3162671648927026,
          0.9555369947525019,
          0.8331485196348947,
          0.5643353781041094,
          0.9456632663673213,
          -0.16924653010990728,
          -2.8385553526488563,
          0.4385338754031157,
          2.050375616692176,
          -0.5957780568198906,
          -0.6391337028422326,
          0.04999693554916875,
          -0.9905604339917498,
          0.7126128257249994,
          1.623879844150366,
          0.7439398470037102,
          -1.4338603239722083,
          0.4223377380195463,
          0.7047789877639619,
          1.2997906440556526,
          1.1377795006181677,
          -0.37982037981568656,
          -0.8183289865038762,
          2.1150365234629778,
          -1.6315774177580455,
          1.557670994327429,
          0.27435834635581113,
          -0.2020660134299496,
          0.6622294003232192,
          -0.7507187976400996,
          1.6841078411643216,
          0.15725059523555834,
          0.20403175525934233,
          -0.10228075446346539,
          -0.45075758084417217,
          0.23398092630605663,
          0.7020994443457834,
          -1.372013643107886,
          -0.830234550415995,
          1.0471754048685615,
          0.2791516597674779,
          0.8073438839758672,
          -1.1840786596386352,
          -1.2438633167946165,
          0.6711553346045185,
          -1.05947273041682,
          -0.21268450772722713,
          -0.7716616231268543,
          -0.6618813607239717,
          -0.7691251660875101
         ],
         "xaxis": "x13",
         "y": [
          -0.21411274271333836,
          0.3713237974686019,
          1.0182433694657855,
          -0.9809308780644594,
          0.11681415896180601,
          0.056113925932592144,
          1.038143121639036,
          -0.3092977150883147,
          -0.5433729141065714,
          -1.3196508208765234,
          -0.25708061763812173,
          0.0037782350897909234,
          -0.2662763824170066,
          0.0768552484861571,
          -0.9055776501046975,
          -1.0036356624024152,
          -2.97083366912784,
          0.6983562301131403,
          -0.21374284452706516,
          0.8684627325918218,
          -0.1861796533340893,
          0.8116072183269627,
          0.2479167382445622,
          -1.6149889045131847,
          1.1122405866650933,
          -0.035202215333426747,
          0.9464088148430557,
          -2.06551088435252,
          1.8003719420270903,
          1.3589645300664823,
          2.813029349767026,
          -1.0659002960154034,
          -1.144289714564388,
          -0.24400458589547835,
          0.07156212349079402,
          2.6239711417649914,
          0.7262306311124471,
          -2.0178252387141296,
          0.9910007039302287,
          -0.52634820628823,
          1.502801479836207,
          -2.5371826122745182,
          0.46687136410253677,
          0.3188656785987697,
          0.7699121598333447,
          0.15187763606796495,
          0.2793597819924499,
          1.3263442544398758,
          -0.7936811937701996,
          -0.15393616151120165,
          0.05520688739259033,
          -1.8565385606752336,
          -0.32172545332466196,
          0.5038075164847766,
          -1.9177966894565226,
          0.9632920973705353,
          1.3563311373052924,
          0.34447531381624724,
          -0.4413867171527908,
          -0.956840945349693,
          -0.3893814338755863,
          -1.1579619966744505,
          -0.8886867830976829,
          -1.5514639240822634,
          -1.2843476076274045,
          1.256439946960209,
          0.4571796955089669,
          -0.6352941465719506,
          -0.01840227830138182,
          0.012149583965205024,
          -0.7139596600384576,
          -2.2073603980461756,
          -0.3769142907166705,
          -1.1530851450231299,
          0.6545482159160557,
          -1.419920770287892,
          0.7929584155525694,
          0.9508711081337505,
          0.6127102026962786,
          0.05790749951701337,
          -0.4669327658980801,
          -0.06445765660094958,
          0.08303432679820061,
          0.7832095356792245,
          0.29008929899966,
          0.9489372515059938,
          -1.8221105051652147,
          0.25122468116482677,
          -0.688314804778081,
          1.090724486112609,
          -0.5553079114238013,
          0.782352967608839,
          0.21959952494655974,
          -0.7372885183735969,
          0.8495989359274342,
          0.9781385987871037,
          1.229655208571755,
          1.3868570877160415,
          0.8665666205235594,
          1.6780863864864783
         ],
         "yaxis": "y13"
        },
        {
         "line": {
          "color": "rgba(128, 128, 128, 1.0)",
          "dash": "solid",
          "shape": "linear",
          "width": 1.3
         },
         "marker": {
          "size": 2,
          "symbol": "circle"
         },
         "mode": "markers",
         "name": "D",
         "text": "",
         "type": "scatter",
         "x": [
          0.5322209261277865,
          -0.3400805111723466,
          1.1360868917232188,
          -0.382712079815374,
          -0.0882949780014785,
          -0.0035050460034809156,
          1.2200036262631462,
          0.20708725596394534,
          0.24518777378961107,
          -0.9614960463159214,
          -0.18007055388579998,
          1.693862038729409,
          0.6880732306303996,
          -1.2237783345460118,
          1.5778919118755526,
          -0.9399074605700591,
          0.6502179718500561,
          0.13984189631979266,
          0.3902474711235353,
          0.79574378145543,
          -0.3187089447730361,
          1.7756327287360203,
          0.11176970117547803,
          1.1026687785809492,
          1.2655186137877001,
          2.631604659518769,
          0.38632232634692665,
          0.3918662734991667,
          -0.10269538819221184,
          2.1050347354372656,
          -0.14728435081334065,
          1.5928813916980802,
          -0.5640139867574012,
          -0.7625416520561131,
          0.6299238973321293,
          1.5259003230423187,
          0.4556062123964385,
          -0.2699051707997322,
          1.023416758001027,
          0.8544257864781147,
          -0.2113121282276364,
          -0.9889838291299777,
          0.6101685589425011,
          0.01886452624200072,
          -0.9135960987704975,
          -0.01725436138227997,
          -0.7802532086851106,
          -0.37672890325294733,
          -2.152350636544527,
          -1.1683993670480606,
          1.263532324992662,
          0.312038748908657,
          0.7780507500386404,
          0.041471470158138804,
          -0.6020767411671846,
          0.6249868830012129,
          0.5405277670128545,
          -1.1176579751594906,
          -1.433072594514869,
          1.8835573786822821,
          1.2676267128436596,
          0.18179383715069097,
          -0.6708996716626628,
          -0.8696775484368037,
          0.1348973926892778,
          0.12074046939337874,
          -0.4243922156902889,
          0.346367856345538,
          1.0526808565699703,
          -0.9373139607993218,
          -0.4420468917330237,
          0.585751073752487,
          -0.22025857587135528,
          0.48580639571538037,
          1.1910452374445943,
          -0.8409995659483239,
          1.2713211278296752,
          0.6122183465394152,
          -0.3626153112574866,
          -0.9046816910222284,
          1.492899576359809,
          -0.19437622093277626,
          -0.17496285589028385,
          1.1661687648674532,
          -0.702440894291958,
          -0.9991504450455196,
          1.015268304294555,
          -0.41527919626977905,
          1.286684649424407,
          1.0739953772854123,
          -0.5703063513870817,
          1.039240915811815,
          0.8877143919613583,
          0.864296717575613,
          -0.26344490511936275,
          0.2117153057332679,
          -1.5890334789342004,
          1.1071474916095139,
          0.04231235469678529,
          -0.5264821907576022
         ],
         "xaxis": "x14",
         "y": [
          -0.21411274271333836,
          0.3713237974686019,
          1.0182433694657855,
          -0.9809308780644594,
          0.11681415896180601,
          0.056113925932592144,
          1.038143121639036,
          -0.3092977150883147,
          -0.5433729141065714,
          -1.3196508208765234,
          -0.25708061763812173,
          0.0037782350897909234,
          -0.2662763824170066,
          0.0768552484861571,
          -0.9055776501046975,
          -1.0036356624024152,
          -2.97083366912784,
          0.6983562301131403,
          -0.21374284452706516,
          0.8684627325918218,
          -0.1861796533340893,
          0.8116072183269627,
          0.2479167382445622,
          -1.6149889045131847,
          1.1122405866650933,
          -0.035202215333426747,
          0.9464088148430557,
          -2.06551088435252,
          1.8003719420270903,
          1.3589645300664823,
          2.813029349767026,
          -1.0659002960154034,
          -1.144289714564388,
          -0.24400458589547835,
          0.07156212349079402,
          2.6239711417649914,
          0.7262306311124471,
          -2.0178252387141296,
          0.9910007039302287,
          -0.52634820628823,
          1.502801479836207,
          -2.5371826122745182,
          0.46687136410253677,
          0.3188656785987697,
          0.7699121598333447,
          0.15187763606796495,
          0.2793597819924499,
          1.3263442544398758,
          -0.7936811937701996,
          -0.15393616151120165,
          0.05520688739259033,
          -1.8565385606752336,
          -0.32172545332466196,
          0.5038075164847766,
          -1.9177966894565226,
          0.9632920973705353,
          1.3563311373052924,
          0.34447531381624724,
          -0.4413867171527908,
          -0.956840945349693,
          -0.3893814338755863,
          -1.1579619966744505,
          -0.8886867830976829,
          -1.5514639240822634,
          -1.2843476076274045,
          1.256439946960209,
          0.4571796955089669,
          -0.6352941465719506,
          -0.01840227830138182,
          0.012149583965205024,
          -0.7139596600384576,
          -2.2073603980461756,
          -0.3769142907166705,
          -1.1530851450231299,
          0.6545482159160557,
          -1.419920770287892,
          0.7929584155525694,
          0.9508711081337505,
          0.6127102026962786,
          0.05790749951701337,
          -0.4669327658980801,
          -0.06445765660094958,
          0.08303432679820061,
          0.7832095356792245,
          0.29008929899966,
          0.9489372515059938,
          -1.8221105051652147,
          0.25122468116482677,
          -0.688314804778081,
          1.090724486112609,
          -0.5553079114238013,
          0.782352967608839,
          0.21959952494655974,
          -0.7372885183735969,
          0.8495989359274342,
          0.9781385987871037,
          1.229655208571755,
          1.3868570877160415,
          0.8665666205235594,
          1.6780863864864783
         ],
         "yaxis": "y14"
        },
        {
         "line": {
          "color": "rgba(128, 128, 128, 1.0)",
          "dash": "solid",
          "shape": "linear",
          "width": 1.3
         },
         "marker": {
          "size": 2,
          "symbol": "circle"
         },
         "mode": "markers",
         "name": "D",
         "text": "",
         "type": "scatter",
         "x": [
          -0.4426627042361103,
          -0.6399050472784629,
          0.07358865068267394,
          -0.3091615362420584,
          -2.1105700846068247,
          -0.6987203494266411,
          1.9987205565156225,
          -0.6497007420309667,
          0.20538307212912799,
          0.8983335644172407,
          0.26287310136750575,
          0.6107851851136252,
          -1.4363662311890355,
          0.36206337951561535,
          -0.2298673448032176,
          0.2265768162296731,
          0.8249414689110565,
          -0.8416150285488005,
          -0.6309024477119458,
          -0.12020366953750442,
          -0.2008317397881813,
          1.3158989235166834,
          -0.47561387029975616,
          0.3692948659360093,
          -0.5097988799863549,
          -0.38238868688924915,
          -1.5443771107613438,
          0.9322307087276408,
          -0.6038157686699996,
          0.10854617372161343,
          0.4078863543497139,
          -0.5974480890593209,
          1.7927302989916816,
          -0.27167329817764774,
          -0.10515729655119894,
          1.5046224508092376,
          1.2765081652015136,
          0.018901514535407556,
          -0.6981007178938509,
          0.2996256016902793,
          2.182783994787281,
          -0.8517021573495922,
          -0.6851326623649174,
          1.503361473348288,
          -0.10553912688797204,
          0.14975795420926277,
          0.49007051098713633,
          1.7947033295356172,
          -0.5715585020270864,
          -0.2381385005439792,
          -0.6997641418699387,
          0.11917893539522223,
          0.06952016281575028,
          0.3275008663147888,
          -0.4215140848008329,
          -0.9496352371350686,
          -1.0980805451800228,
          0.6125067193912569,
          0.1864624725803467,
          -0.15136469674670028,
          2.5960378688935712,
          0.8593240545880897,
          0.9587487407168636,
          0.8607656944499196,
          -0.3765156391993082,
          -1.2186616142210775,
          0.5178747433876127,
          -0.9975677063910462,
          -1.1910852286017317,
          -0.14787487928866896,
          -1.8047146319904626,
          1.4712403371794966,
          -0.06781497409294958,
          -1.34104990666472,
          -0.10306844664005434,
          -0.6344963461811047,
          0.9199220068790146,
          0.5874686040801018,
          0.27268255431433663,
          2.545739441802707,
          0.6586714984006848,
          1.224730402961586,
          -2.7085386943159473,
          0.01301733171174009,
          -0.2629659802082384,
          0.04500540665017078,
          -1.7927350814706264,
          0.44346558844281037,
          -0.36485627916302865,
          1.8799723626101896,
          0.6079096307392652,
          -0.810251652556461,
          0.28478379146553534,
          1.364369493564619,
          -0.6796767191131572,
          0.4878983532993825,
          -0.9801955125025105,
          1.3857556767911223,
          0.7150505765825546,
          2.380938657712917
         ],
         "xaxis": "x15",
         "y": [
          -0.21411274271333836,
          0.3713237974686019,
          1.0182433694657855,
          -0.9809308780644594,
          0.11681415896180601,
          0.056113925932592144,
          1.038143121639036,
          -0.3092977150883147,
          -0.5433729141065714,
          -1.3196508208765234,
          -0.25708061763812173,
          0.0037782350897909234,
          -0.2662763824170066,
          0.0768552484861571,
          -0.9055776501046975,
          -1.0036356624024152,
          -2.97083366912784,
          0.6983562301131403,
          -0.21374284452706516,
          0.8684627325918218,
          -0.1861796533340893,
          0.8116072183269627,
          0.2479167382445622,
          -1.6149889045131847,
          1.1122405866650933,
          -0.035202215333426747,
          0.9464088148430557,
          -2.06551088435252,
          1.8003719420270903,
          1.3589645300664823,
          2.813029349767026,
          -1.0659002960154034,
          -1.144289714564388,
          -0.24400458589547835,
          0.07156212349079402,
          2.6239711417649914,
          0.7262306311124471,
          -2.0178252387141296,
          0.9910007039302287,
          -0.52634820628823,
          1.502801479836207,
          -2.5371826122745182,
          0.46687136410253677,
          0.3188656785987697,
          0.7699121598333447,
          0.15187763606796495,
          0.2793597819924499,
          1.3263442544398758,
          -0.7936811937701996,
          -0.15393616151120165,
          0.05520688739259033,
          -1.8565385606752336,
          -0.32172545332466196,
          0.5038075164847766,
          -1.9177966894565226,
          0.9632920973705353,
          1.3563311373052924,
          0.34447531381624724,
          -0.4413867171527908,
          -0.956840945349693,
          -0.3893814338755863,
          -1.1579619966744505,
          -0.8886867830976829,
          -1.5514639240822634,
          -1.2843476076274045,
          1.256439946960209,
          0.4571796955089669,
          -0.6352941465719506,
          -0.01840227830138182,
          0.012149583965205024,
          -0.7139596600384576,
          -2.2073603980461756,
          -0.3769142907166705,
          -1.1530851450231299,
          0.6545482159160557,
          -1.419920770287892,
          0.7929584155525694,
          0.9508711081337505,
          0.6127102026962786,
          0.05790749951701337,
          -0.4669327658980801,
          -0.06445765660094958,
          0.08303432679820061,
          0.7832095356792245,
          0.29008929899966,
          0.9489372515059938,
          -1.8221105051652147,
          0.25122468116482677,
          -0.688314804778081,
          1.090724486112609,
          -0.5553079114238013,
          0.782352967608839,
          0.21959952494655974,
          -0.7372885183735969,
          0.8495989359274342,
          0.9781385987871037,
          1.229655208571755,
          1.3868570877160415,
          0.8665666205235594,
          1.6780863864864783
         ],
         "yaxis": "y15"
        },
        {
         "histfunc": "count",
         "histnorm": "",
         "marker": {
          "color": "rgba(128, 0, 128, 1.0)",
          "line": {
           "color": "#4D5663",
           "width": 1.3
          }
         },
         "name": "D",
         "nbinsx": 10,
         "opacity": 0.8,
         "orientation": "v",
         "type": "histogram",
         "x": [
          -0.21411274271333836,
          0.3713237974686019,
          1.0182433694657855,
          -0.9809308780644594,
          0.11681415896180601,
          0.056113925932592144,
          1.038143121639036,
          -0.3092977150883147,
          -0.5433729141065714,
          -1.3196508208765234,
          -0.25708061763812173,
          0.0037782350897909234,
          -0.2662763824170066,
          0.0768552484861571,
          -0.9055776501046975,
          -1.0036356624024152,
          -2.97083366912784,
          0.6983562301131403,
          -0.21374284452706516,
          0.8684627325918218,
          -0.1861796533340893,
          0.8116072183269627,
          0.2479167382445622,
          -1.6149889045131847,
          1.1122405866650933,
          -0.035202215333426747,
          0.9464088148430557,
          -2.06551088435252,
          1.8003719420270903,
          1.3589645300664823,
          2.813029349767026,
          -1.0659002960154034,
          -1.144289714564388,
          -0.24400458589547835,
          0.07156212349079402,
          2.6239711417649914,
          0.7262306311124471,
          -2.0178252387141296,
          0.9910007039302287,
          -0.52634820628823,
          1.502801479836207,
          -2.5371826122745182,
          0.46687136410253677,
          0.3188656785987697,
          0.7699121598333447,
          0.15187763606796495,
          0.2793597819924499,
          1.3263442544398758,
          -0.7936811937701996,
          -0.15393616151120165,
          0.05520688739259033,
          -1.8565385606752336,
          -0.32172545332466196,
          0.5038075164847766,
          -1.9177966894565226,
          0.9632920973705353,
          1.3563311373052924,
          0.34447531381624724,
          -0.4413867171527908,
          -0.956840945349693,
          -0.3893814338755863,
          -1.1579619966744505,
          -0.8886867830976829,
          -1.5514639240822634,
          -1.2843476076274045,
          1.256439946960209,
          0.4571796955089669,
          -0.6352941465719506,
          -0.01840227830138182,
          0.012149583965205024,
          -0.7139596600384576,
          -2.2073603980461756,
          -0.3769142907166705,
          -1.1530851450231299,
          0.6545482159160557,
          -1.419920770287892,
          0.7929584155525694,
          0.9508711081337505,
          0.6127102026962786,
          0.05790749951701337,
          -0.4669327658980801,
          -0.06445765660094958,
          0.08303432679820061,
          0.7832095356792245,
          0.29008929899966,
          0.9489372515059938,
          -1.8221105051652147,
          0.25122468116482677,
          -0.688314804778081,
          1.090724486112609,
          -0.5553079114238013,
          0.782352967608839,
          0.21959952494655974,
          -0.7372885183735969,
          0.8495989359274342,
          0.9781385987871037,
          1.229655208571755,
          1.3868570877160415,
          0.8665666205235594,
          1.6780863864864783
         ],
         "xaxis": "x16",
         "yaxis": "y16"
        }
       ],
       "layout": {
        "bargap": 0.02,
        "legend": {
         "bgcolor": "#F5F6F9",
         "font": {
          "color": "#4D5663"
         }
        },
        "paper_bgcolor": "#F5F6F9",
        "plot_bgcolor": "#F5F6F9",
        "showlegend": false,
        "template": {
         "data": {
          "bar": [
           {
            "error_x": {
             "color": "#2a3f5f"
            },
            "error_y": {
             "color": "#2a3f5f"
            },
            "marker": {
             "line": {
              "color": "#E5ECF6",
              "width": 0.5
             }
            },
            "type": "bar"
           }
          ],
          "barpolar": [
           {
            "marker": {
             "line": {
              "color": "#E5ECF6",
              "width": 0.5
             }
            },
            "type": "barpolar"
           }
          ],
          "carpet": [
           {
            "aaxis": {
             "endlinecolor": "#2a3f5f",
             "gridcolor": "white",
             "linecolor": "white",
             "minorgridcolor": "white",
             "startlinecolor": "#2a3f5f"
            },
            "baxis": {
             "endlinecolor": "#2a3f5f",
             "gridcolor": "white",
             "linecolor": "white",
             "minorgridcolor": "white",
             "startlinecolor": "#2a3f5f"
            },
            "type": "carpet"
           }
          ],
          "choropleth": [
           {
            "colorbar": {
             "outlinewidth": 0,
             "ticks": ""
            },
            "type": "choropleth"
           }
          ],
          "contour": [
           {
            "colorbar": {
             "outlinewidth": 0,
             "ticks": ""
            },
            "colorscale": [
             [
              0,
              "#0d0887"
             ],
             [
              0.1111111111111111,
              "#46039f"
             ],
             [
              0.2222222222222222,
              "#7201a8"
             ],
             [
              0.3333333333333333,
              "#9c179e"
             ],
             [
              0.4444444444444444,
              "#bd3786"
             ],
             [
              0.5555555555555556,
              "#d8576b"
             ],
             [
              0.6666666666666666,
              "#ed7953"
             ],
             [
              0.7777777777777778,
              "#fb9f3a"
             ],
             [
              0.8888888888888888,
              "#fdca26"
             ],
             [
              1,
              "#f0f921"
             ]
            ],
            "type": "contour"
           }
          ],
          "contourcarpet": [
           {
            "colorbar": {
             "outlinewidth": 0,
             "ticks": ""
            },
            "type": "contourcarpet"
           }
          ],
          "heatmap": [
           {
            "colorbar": {
             "outlinewidth": 0,
             "ticks": ""
            },
            "colorscale": [
             [
              0,
              "#0d0887"
             ],
             [
              0.1111111111111111,
              "#46039f"
             ],
             [
              0.2222222222222222,
              "#7201a8"
             ],
             [
              0.3333333333333333,
              "#9c179e"
             ],
             [
              0.4444444444444444,
              "#bd3786"
             ],
             [
              0.5555555555555556,
              "#d8576b"
             ],
             [
              0.6666666666666666,
              "#ed7953"
             ],
             [
              0.7777777777777778,
              "#fb9f3a"
             ],
             [
              0.8888888888888888,
              "#fdca26"
             ],
             [
              1,
              "#f0f921"
             ]
            ],
            "type": "heatmap"
           }
          ],
          "heatmapgl": [
           {
            "colorbar": {
             "outlinewidth": 0,
             "ticks": ""
            },
            "colorscale": [
             [
              0,
              "#0d0887"
             ],
             [
              0.1111111111111111,
              "#46039f"
             ],
             [
              0.2222222222222222,
              "#7201a8"
             ],
             [
              0.3333333333333333,
              "#9c179e"
             ],
             [
              0.4444444444444444,
              "#bd3786"
             ],
             [
              0.5555555555555556,
              "#d8576b"
             ],
             [
              0.6666666666666666,
              "#ed7953"
             ],
             [
              0.7777777777777778,
              "#fb9f3a"
             ],
             [
              0.8888888888888888,
              "#fdca26"
             ],
             [
              1,
              "#f0f921"
             ]
            ],
            "type": "heatmapgl"
           }
          ],
          "histogram": [
           {
            "marker": {
             "colorbar": {
              "outlinewidth": 0,
              "ticks": ""
             }
            },
            "type": "histogram"
           }
          ],
          "histogram2d": [
           {
            "colorbar": {
             "outlinewidth": 0,
             "ticks": ""
            },
            "colorscale": [
             [
              0,
              "#0d0887"
             ],
             [
              0.1111111111111111,
              "#46039f"
             ],
             [
              0.2222222222222222,
              "#7201a8"
             ],
             [
              0.3333333333333333,
              "#9c179e"
             ],
             [
              0.4444444444444444,
              "#bd3786"
             ],
             [
              0.5555555555555556,
              "#d8576b"
             ],
             [
              0.6666666666666666,
              "#ed7953"
             ],
             [
              0.7777777777777778,
              "#fb9f3a"
             ],
             [
              0.8888888888888888,
              "#fdca26"
             ],
             [
              1,
              "#f0f921"
             ]
            ],
            "type": "histogram2d"
           }
          ],
          "histogram2dcontour": [
           {
            "colorbar": {
             "outlinewidth": 0,
             "ticks": ""
            },
            "colorscale": [
             [
              0,
              "#0d0887"
             ],
             [
              0.1111111111111111,
              "#46039f"
             ],
             [
              0.2222222222222222,
              "#7201a8"
             ],
             [
              0.3333333333333333,
              "#9c179e"
             ],
             [
              0.4444444444444444,
              "#bd3786"
             ],
             [
              0.5555555555555556,
              "#d8576b"
             ],
             [
              0.6666666666666666,
              "#ed7953"
             ],
             [
              0.7777777777777778,
              "#fb9f3a"
             ],
             [
              0.8888888888888888,
              "#fdca26"
             ],
             [
              1,
              "#f0f921"
             ]
            ],
            "type": "histogram2dcontour"
           }
          ],
          "mesh3d": [
           {
            "colorbar": {
             "outlinewidth": 0,
             "ticks": ""
            },
            "type": "mesh3d"
           }
          ],
          "parcoords": [
           {
            "line": {
             "colorbar": {
              "outlinewidth": 0,
              "ticks": ""
             }
            },
            "type": "parcoords"
           }
          ],
          "pie": [
           {
            "automargin": true,
            "type": "pie"
           }
          ],
          "scatter": [
           {
            "marker": {
             "colorbar": {
              "outlinewidth": 0,
              "ticks": ""
             }
            },
            "type": "scatter"
           }
          ],
          "scatter3d": [
           {
            "line": {
             "colorbar": {
              "outlinewidth": 0,
              "ticks": ""
             }
            },
            "marker": {
             "colorbar": {
              "outlinewidth": 0,
              "ticks": ""
             }
            },
            "type": "scatter3d"
           }
          ],
          "scattercarpet": [
           {
            "marker": {
             "colorbar": {
              "outlinewidth": 0,
              "ticks": ""
             }
            },
            "type": "scattercarpet"
           }
          ],
          "scattergeo": [
           {
            "marker": {
             "colorbar": {
              "outlinewidth": 0,
              "ticks": ""
             }
            },
            "type": "scattergeo"
           }
          ],
          "scattergl": [
           {
            "marker": {
             "colorbar": {
              "outlinewidth": 0,
              "ticks": ""
             }
            },
            "type": "scattergl"
           }
          ],
          "scattermapbox": [
           {
            "marker": {
             "colorbar": {
              "outlinewidth": 0,
              "ticks": ""
             }
            },
            "type": "scattermapbox"
           }
          ],
          "scatterpolar": [
           {
            "marker": {
             "colorbar": {
              "outlinewidth": 0,
              "ticks": ""
             }
            },
            "type": "scatterpolar"
           }
          ],
          "scatterpolargl": [
           {
            "marker": {
             "colorbar": {
              "outlinewidth": 0,
              "ticks": ""
             }
            },
            "type": "scatterpolargl"
           }
          ],
          "scatterternary": [
           {
            "marker": {
             "colorbar": {
              "outlinewidth": 0,
              "ticks": ""
             }
            },
            "type": "scatterternary"
           }
          ],
          "surface": [
           {
            "colorbar": {
             "outlinewidth": 0,
             "ticks": ""
            },
            "colorscale": [
             [
              0,
              "#0d0887"
             ],
             [
              0.1111111111111111,
              "#46039f"
             ],
             [
              0.2222222222222222,
              "#7201a8"
             ],
             [
              0.3333333333333333,
              "#9c179e"
             ],
             [
              0.4444444444444444,
              "#bd3786"
             ],
             [
              0.5555555555555556,
              "#d8576b"
             ],
             [
              0.6666666666666666,
              "#ed7953"
             ],
             [
              0.7777777777777778,
              "#fb9f3a"
             ],
             [
              0.8888888888888888,
              "#fdca26"
             ],
             [
              1,
              "#f0f921"
             ]
            ],
            "type": "surface"
           }
          ],
          "table": [
           {
            "cells": {
             "fill": {
              "color": "#EBF0F8"
             },
             "line": {
              "color": "white"
             }
            },
            "header": {
             "fill": {
              "color": "#C8D4E3"
             },
             "line": {
              "color": "white"
             }
            },
            "type": "table"
           }
          ]
         },
         "layout": {
          "annotationdefaults": {
           "arrowcolor": "#2a3f5f",
           "arrowhead": 0,
           "arrowwidth": 1
          },
          "coloraxis": {
           "colorbar": {
            "outlinewidth": 0,
            "ticks": ""
           }
          },
          "colorscale": {
           "diverging": [
            [
             0,
             "#8e0152"
            ],
            [
             0.1,
             "#c51b7d"
            ],
            [
             0.2,
             "#de77ae"
            ],
            [
             0.3,
             "#f1b6da"
            ],
            [
             0.4,
             "#fde0ef"
            ],
            [
             0.5,
             "#f7f7f7"
            ],
            [
             0.6,
             "#e6f5d0"
            ],
            [
             0.7,
             "#b8e186"
            ],
            [
             0.8,
             "#7fbc41"
            ],
            [
             0.9,
             "#4d9221"
            ],
            [
             1,
             "#276419"
            ]
           ],
           "sequential": [
            [
             0,
             "#0d0887"
            ],
            [
             0.1111111111111111,
             "#46039f"
            ],
            [
             0.2222222222222222,
             "#7201a8"
            ],
            [
             0.3333333333333333,
             "#9c179e"
            ],
            [
             0.4444444444444444,
             "#bd3786"
            ],
            [
             0.5555555555555556,
             "#d8576b"
            ],
            [
             0.6666666666666666,
             "#ed7953"
            ],
            [
             0.7777777777777778,
             "#fb9f3a"
            ],
            [
             0.8888888888888888,
             "#fdca26"
            ],
            [
             1,
             "#f0f921"
            ]
           ],
           "sequentialminus": [
            [
             0,
             "#0d0887"
            ],
            [
             0.1111111111111111,
             "#46039f"
            ],
            [
             0.2222222222222222,
             "#7201a8"
            ],
            [
             0.3333333333333333,
             "#9c179e"
            ],
            [
             0.4444444444444444,
             "#bd3786"
            ],
            [
             0.5555555555555556,
             "#d8576b"
            ],
            [
             0.6666666666666666,
             "#ed7953"
            ],
            [
             0.7777777777777778,
             "#fb9f3a"
            ],
            [
             0.8888888888888888,
             "#fdca26"
            ],
            [
             1,
             "#f0f921"
            ]
           ]
          },
          "colorway": [
           "#636efa",
           "#EF553B",
           "#00cc96",
           "#ab63fa",
           "#FFA15A",
           "#19d3f3",
           "#FF6692",
           "#B6E880",
           "#FF97FF",
           "#FECB52"
          ],
          "font": {
           "color": "#2a3f5f"
          },
          "geo": {
           "bgcolor": "white",
           "lakecolor": "white",
           "landcolor": "#E5ECF6",
           "showlakes": true,
           "showland": true,
           "subunitcolor": "white"
          },
          "hoverlabel": {
           "align": "left"
          },
          "hovermode": "closest",
          "mapbox": {
           "style": "light"
          },
          "paper_bgcolor": "white",
          "plot_bgcolor": "#E5ECF6",
          "polar": {
           "angularaxis": {
            "gridcolor": "white",
            "linecolor": "white",
            "ticks": ""
           },
           "bgcolor": "#E5ECF6",
           "radialaxis": {
            "gridcolor": "white",
            "linecolor": "white",
            "ticks": ""
           }
          },
          "scene": {
           "xaxis": {
            "backgroundcolor": "#E5ECF6",
            "gridcolor": "white",
            "gridwidth": 2,
            "linecolor": "white",
            "showbackground": true,
            "ticks": "",
            "zerolinecolor": "white"
           },
           "yaxis": {
            "backgroundcolor": "#E5ECF6",
            "gridcolor": "white",
            "gridwidth": 2,
            "linecolor": "white",
            "showbackground": true,
            "ticks": "",
            "zerolinecolor": "white"
           },
           "zaxis": {
            "backgroundcolor": "#E5ECF6",
            "gridcolor": "white",
            "gridwidth": 2,
            "linecolor": "white",
            "showbackground": true,
            "ticks": "",
            "zerolinecolor": "white"
           }
          },
          "shapedefaults": {
           "line": {
            "color": "#2a3f5f"
           }
          },
          "ternary": {
           "aaxis": {
            "gridcolor": "white",
            "linecolor": "white",
            "ticks": ""
           },
           "baxis": {
            "gridcolor": "white",
            "linecolor": "white",
            "ticks": ""
           },
           "bgcolor": "#E5ECF6",
           "caxis": {
            "gridcolor": "white",
            "linecolor": "white",
            "ticks": ""
           }
          },
          "title": {
           "x": 0.05
          },
          "xaxis": {
           "automargin": true,
           "gridcolor": "white",
           "linecolor": "white",
           "ticks": "",
           "title": {
            "standoff": 15
           },
           "zerolinecolor": "white",
           "zerolinewidth": 2
          },
          "yaxis": {
           "automargin": true,
           "gridcolor": "white",
           "linecolor": "white",
           "ticks": "",
           "title": {
            "standoff": 15
           },
           "zerolinecolor": "white",
           "zerolinewidth": 2
          }
         }
        },
        "title": {
         "font": {
          "color": "#4D5663"
         }
        },
        "xaxis": {
         "anchor": "y",
         "domain": [
          0,
          0.2125
         ],
         "gridcolor": "#E1E5ED",
         "showgrid": false,
         "tickfont": {
          "color": "#4D5663"
         },
         "title": {
          "font": {
           "color": "#4D5663"
          },
          "text": ""
         },
         "zerolinecolor": "#E1E5ED"
        },
        "xaxis10": {
         "anchor": "y10",
         "domain": [
          0.2625,
          0.475
         ],
         "gridcolor": "#E1E5ED",
         "showgrid": false,
         "tickfont": {
          "color": "#4D5663"
         },
         "title": {
          "font": {
           "color": "#4D5663"
          },
          "text": ""
         },
         "zerolinecolor": "#E1E5ED"
        },
        "xaxis11": {
         "anchor": "y11",
         "domain": [
          0.525,
          0.7375
         ],
         "gridcolor": "#E1E5ED",
         "showgrid": false,
         "tickfont": {
          "color": "#4D5663"
         },
         "title": {
          "font": {
           "color": "#4D5663"
          },
          "text": ""
         },
         "zerolinecolor": "#E1E5ED"
        },
        "xaxis12": {
         "anchor": "y12",
         "domain": [
          0.7875,
          1
         ],
         "gridcolor": "#E1E5ED",
         "showgrid": false,
         "tickfont": {
          "color": "#4D5663"
         },
         "title": {
          "font": {
           "color": "#4D5663"
          },
          "text": ""
         },
         "zerolinecolor": "#E1E5ED"
        },
        "xaxis13": {
         "anchor": "y13",
         "domain": [
          0,
          0.2125
         ],
         "gridcolor": "#E1E5ED",
         "showgrid": false,
         "tickfont": {
          "color": "#4D5663"
         },
         "title": {
          "font": {
           "color": "#4D5663"
          },
          "text": ""
         },
         "zerolinecolor": "#E1E5ED"
        },
        "xaxis14": {
         "anchor": "y14",
         "domain": [
          0.2625,
          0.475
         ],
         "gridcolor": "#E1E5ED",
         "showgrid": false,
         "tickfont": {
          "color": "#4D5663"
         },
         "title": {
          "font": {
           "color": "#4D5663"
          },
          "text": ""
         },
         "zerolinecolor": "#E1E5ED"
        },
        "xaxis15": {
         "anchor": "y15",
         "domain": [
          0.525,
          0.7375
         ],
         "gridcolor": "#E1E5ED",
         "showgrid": false,
         "tickfont": {
          "color": "#4D5663"
         },
         "title": {
          "font": {
           "color": "#4D5663"
          },
          "text": ""
         },
         "zerolinecolor": "#E1E5ED"
        },
        "xaxis16": {
         "anchor": "y16",
         "domain": [
          0.7875,
          1
         ],
         "gridcolor": "#E1E5ED",
         "showgrid": false,
         "tickfont": {
          "color": "#4D5663"
         },
         "title": {
          "font": {
           "color": "#4D5663"
          },
          "text": ""
         },
         "zerolinecolor": "#E1E5ED"
        },
        "xaxis2": {
         "anchor": "y2",
         "domain": [
          0.2625,
          0.475
         ],
         "gridcolor": "#E1E5ED",
         "showgrid": false,
         "tickfont": {
          "color": "#4D5663"
         },
         "title": {
          "font": {
           "color": "#4D5663"
          },
          "text": ""
         },
         "zerolinecolor": "#E1E5ED"
        },
        "xaxis3": {
         "anchor": "y3",
         "domain": [
          0.525,
          0.7375
         ],
         "gridcolor": "#E1E5ED",
         "showgrid": false,
         "tickfont": {
          "color": "#4D5663"
         },
         "title": {
          "font": {
           "color": "#4D5663"
          },
          "text": ""
         },
         "zerolinecolor": "#E1E5ED"
        },
        "xaxis4": {
         "anchor": "y4",
         "domain": [
          0.7875,
          1
         ],
         "gridcolor": "#E1E5ED",
         "showgrid": false,
         "tickfont": {
          "color": "#4D5663"
         },
         "title": {
          "font": {
           "color": "#4D5663"
          },
          "text": ""
         },
         "zerolinecolor": "#E1E5ED"
        },
        "xaxis5": {
         "anchor": "y5",
         "domain": [
          0,
          0.2125
         ],
         "gridcolor": "#E1E5ED",
         "showgrid": false,
         "tickfont": {
          "color": "#4D5663"
         },
         "title": {
          "font": {
           "color": "#4D5663"
          },
          "text": ""
         },
         "zerolinecolor": "#E1E5ED"
        },
        "xaxis6": {
         "anchor": "y6",
         "domain": [
          0.2625,
          0.475
         ],
         "gridcolor": "#E1E5ED",
         "showgrid": false,
         "tickfont": {
          "color": "#4D5663"
         },
         "title": {
          "font": {
           "color": "#4D5663"
          },
          "text": ""
         },
         "zerolinecolor": "#E1E5ED"
        },
        "xaxis7": {
         "anchor": "y7",
         "domain": [
          0.525,
          0.7375
         ],
         "gridcolor": "#E1E5ED",
         "showgrid": false,
         "tickfont": {
          "color": "#4D5663"
         },
         "title": {
          "font": {
           "color": "#4D5663"
          },
          "text": ""
         },
         "zerolinecolor": "#E1E5ED"
        },
        "xaxis8": {
         "anchor": "y8",
         "domain": [
          0.7875,
          1
         ],
         "gridcolor": "#E1E5ED",
         "showgrid": false,
         "tickfont": {
          "color": "#4D5663"
         },
         "title": {
          "font": {
           "color": "#4D5663"
          },
          "text": ""
         },
         "zerolinecolor": "#E1E5ED"
        },
        "xaxis9": {
         "anchor": "y9",
         "domain": [
          0,
          0.2125
         ],
         "gridcolor": "#E1E5ED",
         "showgrid": false,
         "tickfont": {
          "color": "#4D5663"
         },
         "title": {
          "font": {
           "color": "#4D5663"
          },
          "text": ""
         },
         "zerolinecolor": "#E1E5ED"
        },
        "yaxis": {
         "anchor": "x",
         "domain": [
          0.8025,
          1
         ],
         "gridcolor": "#E1E5ED",
         "showgrid": false,
         "tickfont": {
          "color": "#4D5663"
         },
         "title": {
          "font": {
           "color": "#4D5663"
          },
          "text": ""
         },
         "zerolinecolor": "#E1E5ED"
        },
        "yaxis10": {
         "anchor": "x10",
         "domain": [
          0.2675,
          0.465
         ],
         "gridcolor": "#E1E5ED",
         "showgrid": false,
         "tickfont": {
          "color": "#4D5663"
         },
         "title": {
          "font": {
           "color": "#4D5663"
          },
          "text": ""
         },
         "zerolinecolor": "#E1E5ED"
        },
        "yaxis11": {
         "anchor": "x11",
         "domain": [
          0.2675,
          0.465
         ],
         "gridcolor": "#E1E5ED",
         "showgrid": false,
         "tickfont": {
          "color": "#4D5663"
         },
         "title": {
          "font": {
           "color": "#4D5663"
          },
          "text": ""
         },
         "zerolinecolor": "#E1E5ED"
        },
        "yaxis12": {
         "anchor": "x12",
         "domain": [
          0.2675,
          0.465
         ],
         "gridcolor": "#E1E5ED",
         "showgrid": false,
         "tickfont": {
          "color": "#4D5663"
         },
         "title": {
          "font": {
           "color": "#4D5663"
          },
          "text": ""
         },
         "zerolinecolor": "#E1E5ED"
        },
        "yaxis13": {
         "anchor": "x13",
         "domain": [
          0,
          0.1975
         ],
         "gridcolor": "#E1E5ED",
         "showgrid": false,
         "tickfont": {
          "color": "#4D5663"
         },
         "title": {
          "font": {
           "color": "#4D5663"
          },
          "text": ""
         },
         "zerolinecolor": "#E1E5ED"
        },
        "yaxis14": {
         "anchor": "x14",
         "domain": [
          0,
          0.1975
         ],
         "gridcolor": "#E1E5ED",
         "showgrid": false,
         "tickfont": {
          "color": "#4D5663"
         },
         "title": {
          "font": {
           "color": "#4D5663"
          },
          "text": ""
         },
         "zerolinecolor": "#E1E5ED"
        },
        "yaxis15": {
         "anchor": "x15",
         "domain": [
          0,
          0.1975
         ],
         "gridcolor": "#E1E5ED",
         "showgrid": false,
         "tickfont": {
          "color": "#4D5663"
         },
         "title": {
          "font": {
           "color": "#4D5663"
          },
          "text": ""
         },
         "zerolinecolor": "#E1E5ED"
        },
        "yaxis16": {
         "anchor": "x16",
         "domain": [
          0,
          0.1975
         ],
         "gridcolor": "#E1E5ED",
         "showgrid": false,
         "tickfont": {
          "color": "#4D5663"
         },
         "title": {
          "font": {
           "color": "#4D5663"
          },
          "text": ""
         },
         "zerolinecolor": "#E1E5ED"
        },
        "yaxis2": {
         "anchor": "x2",
         "domain": [
          0.8025,
          1
         ],
         "gridcolor": "#E1E5ED",
         "showgrid": false,
         "tickfont": {
          "color": "#4D5663"
         },
         "title": {
          "font": {
           "color": "#4D5663"
          },
          "text": ""
         },
         "zerolinecolor": "#E1E5ED"
        },
        "yaxis3": {
         "anchor": "x3",
         "domain": [
          0.8025,
          1
         ],
         "gridcolor": "#E1E5ED",
         "showgrid": false,
         "tickfont": {
          "color": "#4D5663"
         },
         "title": {
          "font": {
           "color": "#4D5663"
          },
          "text": ""
         },
         "zerolinecolor": "#E1E5ED"
        },
        "yaxis4": {
         "anchor": "x4",
         "domain": [
          0.8025,
          1
         ],
         "gridcolor": "#E1E5ED",
         "showgrid": false,
         "tickfont": {
          "color": "#4D5663"
         },
         "title": {
          "font": {
           "color": "#4D5663"
          },
          "text": ""
         },
         "zerolinecolor": "#E1E5ED"
        },
        "yaxis5": {
         "anchor": "x5",
         "domain": [
          0.535,
          0.7325
         ],
         "gridcolor": "#E1E5ED",
         "showgrid": false,
         "tickfont": {
          "color": "#4D5663"
         },
         "title": {
          "font": {
           "color": "#4D5663"
          },
          "text": ""
         },
         "zerolinecolor": "#E1E5ED"
        },
        "yaxis6": {
         "anchor": "x6",
         "domain": [
          0.535,
          0.7325
         ],
         "gridcolor": "#E1E5ED",
         "showgrid": false,
         "tickfont": {
          "color": "#4D5663"
         },
         "title": {
          "font": {
           "color": "#4D5663"
          },
          "text": ""
         },
         "zerolinecolor": "#E1E5ED"
        },
        "yaxis7": {
         "anchor": "x7",
         "domain": [
          0.535,
          0.7325
         ],
         "gridcolor": "#E1E5ED",
         "showgrid": false,
         "tickfont": {
          "color": "#4D5663"
         },
         "title": {
          "font": {
           "color": "#4D5663"
          },
          "text": ""
         },
         "zerolinecolor": "#E1E5ED"
        },
        "yaxis8": {
         "anchor": "x8",
         "domain": [
          0.535,
          0.7325
         ],
         "gridcolor": "#E1E5ED",
         "showgrid": false,
         "tickfont": {
          "color": "#4D5663"
         },
         "title": {
          "font": {
           "color": "#4D5663"
          },
          "text": ""
         },
         "zerolinecolor": "#E1E5ED"
        },
        "yaxis9": {
         "anchor": "x9",
         "domain": [
          0.2675,
          0.465
         ],
         "gridcolor": "#E1E5ED",
         "showgrid": false,
         "tickfont": {
          "color": "#4D5663"
         },
         "title": {
          "font": {
           "color": "#4D5663"
          },
          "text": ""
         },
         "zerolinecolor": "#E1E5ED"
        }
       }
      },
      "text/html": [
       "<div>\n",
       "        \n",
       "        \n",
       "            <div id=\"3dd7552f-36c5-4912-aadf-4344a4ec4e78\" class=\"plotly-graph-div\" style=\"height:525px; width:100%;\"></div>\n",
       "            <script type=\"text/javascript\">\n",
       "                require([\"plotly\"], function(Plotly) {\n",
       "                    window.PLOTLYENV=window.PLOTLYENV || {};\n",
       "                    window.PLOTLYENV.BASE_URL='https://plot.ly';\n",
       "                    \n",
       "                if (document.getElementById(\"3dd7552f-36c5-4912-aadf-4344a4ec4e78\")) {\n",
       "                    Plotly.newPlot(\n",
       "                        '3dd7552f-36c5-4912-aadf-4344a4ec4e78',\n",
       "                        [{\"histfunc\": \"count\", \"histnorm\": \"\", \"marker\": {\"color\": \"rgba(255, 153, 51, 1.0)\", \"line\": {\"color\": \"#4D5663\", \"width\": 1.3}}, \"name\": \"A\", \"nbinsx\": 10, \"opacity\": 0.8, \"orientation\": \"v\", \"type\": \"histogram\", \"x\": [-1.316509150580487, 0.6567439213089783, -1.2117246351490527, -0.7795197648889394, -1.3086898864866376, 1.1530168155654092, 0.13998590336540567, -0.11056327817001697, 1.7537011117105172, 0.8810323955893713, 0.10541010497618351, 1.011575063785946, 2.1228749009656473, -0.3075112722036564, 1.038681885646689, -0.6319853146199059, 2.2189715728894632, -1.4770145042427665, -0.153470368878263, -0.18727900695016553, 1.9078574381220432, 1.0499974193565844, 0.46542902797864877, -0.6260746672943875, -0.03689923737424436, -1.0944391791639074, 1.2481303879716057, 0.09959660652843288, 0.057031069351861356, -1.4176608242708042, 0.27913325253238075, 0.8782737897274759, -3.3361675913751814, -0.3611118893203861, 0.9042067738977311, 1.0392994720741469, 0.3020476385379728, -1.10241740023384, 0.6679332094321817, 0.2603822989676794, 0.45894985553075557, -0.011014647071094298, -1.2018062699942935, -1.288958573508946, -0.6602935547316192, 0.559523528635203, 0.9105335102135964, 0.9007433046119707, -0.8788546818988332, 1.2187402667118685, -0.3162671648927026, 0.9555369947525019, 0.8331485196348947, 0.5643353781041094, 0.9456632663673213, -0.16924653010990728, -2.8385553526488563, 0.4385338754031157, 2.050375616692176, -0.5957780568198906, -0.6391337028422326, 0.04999693554916875, -0.9905604339917498, 0.7126128257249994, 1.623879844150366, 0.7439398470037102, -1.4338603239722083, 0.4223377380195463, 0.7047789877639619, 1.2997906440556526, 1.1377795006181677, -0.37982037981568656, -0.8183289865038762, 2.1150365234629778, -1.6315774177580455, 1.557670994327429, 0.27435834635581113, -0.2020660134299496, 0.6622294003232192, -0.7507187976400996, 1.6841078411643216, 0.15725059523555834, 0.20403175525934233, -0.10228075446346539, -0.45075758084417217, 0.23398092630605663, 0.7020994443457834, -1.372013643107886, -0.830234550415995, 1.0471754048685615, 0.2791516597674779, 0.8073438839758672, -1.1840786596386352, -1.2438633167946165, 0.6711553346045185, -1.05947273041682, -0.21268450772722713, -0.7716616231268543, -0.6618813607239717, -0.7691251660875101], \"xaxis\": \"x\", \"yaxis\": \"y\"}, {\"line\": {\"color\": \"rgba(128, 128, 128, 1.0)\", \"dash\": \"solid\", \"shape\": \"linear\", \"width\": 1.3}, \"marker\": {\"size\": 2, \"symbol\": \"circle\"}, \"mode\": \"markers\", \"name\": \"A\", \"text\": \"\", \"type\": \"scatter\", \"x\": [0.5322209261277865, -0.3400805111723466, 1.1360868917232188, -0.382712079815374, -0.0882949780014785, -0.0035050460034809156, 1.2200036262631462, 0.20708725596394534, 0.24518777378961107, -0.9614960463159214, -0.18007055388579998, 1.693862038729409, 0.6880732306303996, -1.2237783345460118, 1.5778919118755526, -0.9399074605700591, 0.6502179718500561, 0.13984189631979266, 0.3902474711235353, 0.79574378145543, -0.3187089447730361, 1.7756327287360203, 0.11176970117547803, 1.1026687785809492, 1.2655186137877001, 2.631604659518769, 0.38632232634692665, 0.3918662734991667, -0.10269538819221184, 2.1050347354372656, -0.14728435081334065, 1.5928813916980802, -0.5640139867574012, -0.7625416520561131, 0.6299238973321293, 1.5259003230423187, 0.4556062123964385, -0.2699051707997322, 1.023416758001027, 0.8544257864781147, -0.2113121282276364, -0.9889838291299777, 0.6101685589425011, 0.01886452624200072, -0.9135960987704975, -0.01725436138227997, -0.7802532086851106, -0.37672890325294733, -2.152350636544527, -1.1683993670480606, 1.263532324992662, 0.312038748908657, 0.7780507500386404, 0.041471470158138804, -0.6020767411671846, 0.6249868830012129, 0.5405277670128545, -1.1176579751594906, -1.433072594514869, 1.8835573786822821, 1.2676267128436596, 0.18179383715069097, -0.6708996716626628, -0.8696775484368037, 0.1348973926892778, 0.12074046939337874, -0.4243922156902889, 0.346367856345538, 1.0526808565699703, -0.9373139607993218, -0.4420468917330237, 0.585751073752487, -0.22025857587135528, 0.48580639571538037, 1.1910452374445943, -0.8409995659483239, 1.2713211278296752, 0.6122183465394152, -0.3626153112574866, -0.9046816910222284, 1.492899576359809, -0.19437622093277626, -0.17496285589028385, 1.1661687648674532, -0.702440894291958, -0.9991504450455196, 1.015268304294555, -0.41527919626977905, 1.286684649424407, 1.0739953772854123, -0.5703063513870817, 1.039240915811815, 0.8877143919613583, 0.864296717575613, -0.26344490511936275, 0.2117153057332679, -1.5890334789342004, 1.1071474916095139, 0.04231235469678529, -0.5264821907576022], \"xaxis\": \"x2\", \"y\": [-1.316509150580487, 0.6567439213089783, -1.2117246351490527, -0.7795197648889394, -1.3086898864866376, 1.1530168155654092, 0.13998590336540567, -0.11056327817001697, 1.7537011117105172, 0.8810323955893713, 0.10541010497618351, 1.011575063785946, 2.1228749009656473, -0.3075112722036564, 1.038681885646689, -0.6319853146199059, 2.2189715728894632, -1.4770145042427665, -0.153470368878263, -0.18727900695016553, 1.9078574381220432, 1.0499974193565844, 0.46542902797864877, -0.6260746672943875, -0.03689923737424436, -1.0944391791639074, 1.2481303879716057, 0.09959660652843288, 0.057031069351861356, -1.4176608242708042, 0.27913325253238075, 0.8782737897274759, -3.3361675913751814, -0.3611118893203861, 0.9042067738977311, 1.0392994720741469, 0.3020476385379728, -1.10241740023384, 0.6679332094321817, 0.2603822989676794, 0.45894985553075557, -0.011014647071094298, -1.2018062699942935, -1.288958573508946, -0.6602935547316192, 0.559523528635203, 0.9105335102135964, 0.9007433046119707, -0.8788546818988332, 1.2187402667118685, -0.3162671648927026, 0.9555369947525019, 0.8331485196348947, 0.5643353781041094, 0.9456632663673213, -0.16924653010990728, -2.8385553526488563, 0.4385338754031157, 2.050375616692176, -0.5957780568198906, -0.6391337028422326, 0.04999693554916875, -0.9905604339917498, 0.7126128257249994, 1.623879844150366, 0.7439398470037102, -1.4338603239722083, 0.4223377380195463, 0.7047789877639619, 1.2997906440556526, 1.1377795006181677, -0.37982037981568656, -0.8183289865038762, 2.1150365234629778, -1.6315774177580455, 1.557670994327429, 0.27435834635581113, -0.2020660134299496, 0.6622294003232192, -0.7507187976400996, 1.6841078411643216, 0.15725059523555834, 0.20403175525934233, -0.10228075446346539, -0.45075758084417217, 0.23398092630605663, 0.7020994443457834, -1.372013643107886, -0.830234550415995, 1.0471754048685615, 0.2791516597674779, 0.8073438839758672, -1.1840786596386352, -1.2438633167946165, 0.6711553346045185, -1.05947273041682, -0.21268450772722713, -0.7716616231268543, -0.6618813607239717, -0.7691251660875101], \"yaxis\": \"y2\"}, {\"line\": {\"color\": \"rgba(128, 128, 128, 1.0)\", \"dash\": \"solid\", \"shape\": \"linear\", \"width\": 1.3}, \"marker\": {\"size\": 2, \"symbol\": \"circle\"}, \"mode\": \"markers\", \"name\": \"A\", \"text\": \"\", \"type\": \"scatter\", \"x\": [-0.4426627042361103, -0.6399050472784629, 0.07358865068267394, -0.3091615362420584, -2.1105700846068247, -0.6987203494266411, 1.9987205565156225, -0.6497007420309667, 0.20538307212912799, 0.8983335644172407, 0.26287310136750575, 0.6107851851136252, -1.4363662311890355, 0.36206337951561535, -0.2298673448032176, 0.2265768162296731, 0.8249414689110565, -0.8416150285488005, -0.6309024477119458, -0.12020366953750442, -0.2008317397881813, 1.3158989235166834, -0.47561387029975616, 0.3692948659360093, -0.5097988799863549, -0.38238868688924915, -1.5443771107613438, 0.9322307087276408, -0.6038157686699996, 0.10854617372161343, 0.4078863543497139, -0.5974480890593209, 1.7927302989916816, -0.27167329817764774, -0.10515729655119894, 1.5046224508092376, 1.2765081652015136, 0.018901514535407556, -0.6981007178938509, 0.2996256016902793, 2.182783994787281, -0.8517021573495922, -0.6851326623649174, 1.503361473348288, -0.10553912688797204, 0.14975795420926277, 0.49007051098713633, 1.7947033295356172, -0.5715585020270864, -0.2381385005439792, -0.6997641418699387, 0.11917893539522223, 0.06952016281575028, 0.3275008663147888, -0.4215140848008329, -0.9496352371350686, -1.0980805451800228, 0.6125067193912569, 0.1864624725803467, -0.15136469674670028, 2.5960378688935712, 0.8593240545880897, 0.9587487407168636, 0.8607656944499196, -0.3765156391993082, -1.2186616142210775, 0.5178747433876127, -0.9975677063910462, -1.1910852286017317, -0.14787487928866896, -1.8047146319904626, 1.4712403371794966, -0.06781497409294958, -1.34104990666472, -0.10306844664005434, -0.6344963461811047, 0.9199220068790146, 0.5874686040801018, 0.27268255431433663, 2.545739441802707, 0.6586714984006848, 1.224730402961586, -2.7085386943159473, 0.01301733171174009, -0.2629659802082384, 0.04500540665017078, -1.7927350814706264, 0.44346558844281037, -0.36485627916302865, 1.8799723626101896, 0.6079096307392652, -0.810251652556461, 0.28478379146553534, 1.364369493564619, -0.6796767191131572, 0.4878983532993825, -0.9801955125025105, 1.3857556767911223, 0.7150505765825546, 2.380938657712917], \"xaxis\": \"x3\", \"y\": [-1.316509150580487, 0.6567439213089783, -1.2117246351490527, -0.7795197648889394, -1.3086898864866376, 1.1530168155654092, 0.13998590336540567, -0.11056327817001697, 1.7537011117105172, 0.8810323955893713, 0.10541010497618351, 1.011575063785946, 2.1228749009656473, -0.3075112722036564, 1.038681885646689, -0.6319853146199059, 2.2189715728894632, -1.4770145042427665, -0.153470368878263, -0.18727900695016553, 1.9078574381220432, 1.0499974193565844, 0.46542902797864877, -0.6260746672943875, -0.03689923737424436, -1.0944391791639074, 1.2481303879716057, 0.09959660652843288, 0.057031069351861356, -1.4176608242708042, 0.27913325253238075, 0.8782737897274759, -3.3361675913751814, -0.3611118893203861, 0.9042067738977311, 1.0392994720741469, 0.3020476385379728, -1.10241740023384, 0.6679332094321817, 0.2603822989676794, 0.45894985553075557, -0.011014647071094298, -1.2018062699942935, -1.288958573508946, -0.6602935547316192, 0.559523528635203, 0.9105335102135964, 0.9007433046119707, -0.8788546818988332, 1.2187402667118685, -0.3162671648927026, 0.9555369947525019, 0.8331485196348947, 0.5643353781041094, 0.9456632663673213, -0.16924653010990728, -2.8385553526488563, 0.4385338754031157, 2.050375616692176, -0.5957780568198906, -0.6391337028422326, 0.04999693554916875, -0.9905604339917498, 0.7126128257249994, 1.623879844150366, 0.7439398470037102, -1.4338603239722083, 0.4223377380195463, 0.7047789877639619, 1.2997906440556526, 1.1377795006181677, -0.37982037981568656, -0.8183289865038762, 2.1150365234629778, -1.6315774177580455, 1.557670994327429, 0.27435834635581113, -0.2020660134299496, 0.6622294003232192, -0.7507187976400996, 1.6841078411643216, 0.15725059523555834, 0.20403175525934233, -0.10228075446346539, -0.45075758084417217, 0.23398092630605663, 0.7020994443457834, -1.372013643107886, -0.830234550415995, 1.0471754048685615, 0.2791516597674779, 0.8073438839758672, -1.1840786596386352, -1.2438633167946165, 0.6711553346045185, -1.05947273041682, -0.21268450772722713, -0.7716616231268543, -0.6618813607239717, -0.7691251660875101], \"yaxis\": \"y3\"}, {\"line\": {\"color\": \"rgba(128, 128, 128, 1.0)\", \"dash\": \"solid\", \"shape\": \"linear\", \"width\": 1.3}, \"marker\": {\"size\": 2, \"symbol\": \"circle\"}, \"mode\": \"markers\", \"name\": \"A\", \"text\": \"\", \"type\": \"scatter\", \"x\": [-0.21411274271333836, 0.3713237974686019, 1.0182433694657855, -0.9809308780644594, 0.11681415896180601, 0.056113925932592144, 1.038143121639036, -0.3092977150883147, -0.5433729141065714, -1.3196508208765234, -0.25708061763812173, 0.0037782350897909234, -0.2662763824170066, 0.0768552484861571, -0.9055776501046975, -1.0036356624024152, -2.97083366912784, 0.6983562301131403, -0.21374284452706516, 0.8684627325918218, -0.1861796533340893, 0.8116072183269627, 0.2479167382445622, -1.6149889045131847, 1.1122405866650933, -0.035202215333426747, 0.9464088148430557, -2.06551088435252, 1.8003719420270903, 1.3589645300664823, 2.813029349767026, -1.0659002960154034, -1.144289714564388, -0.24400458589547835, 0.07156212349079402, 2.6239711417649914, 0.7262306311124471, -2.0178252387141296, 0.9910007039302287, -0.52634820628823, 1.502801479836207, -2.5371826122745182, 0.46687136410253677, 0.3188656785987697, 0.7699121598333447, 0.15187763606796495, 0.2793597819924499, 1.3263442544398758, -0.7936811937701996, -0.15393616151120165, 0.05520688739259033, -1.8565385606752336, -0.32172545332466196, 0.5038075164847766, -1.9177966894565226, 0.9632920973705353, 1.3563311373052924, 0.34447531381624724, -0.4413867171527908, -0.956840945349693, -0.3893814338755863, -1.1579619966744505, -0.8886867830976829, -1.5514639240822634, -1.2843476076274045, 1.256439946960209, 0.4571796955089669, -0.6352941465719506, -0.01840227830138182, 0.012149583965205024, -0.7139596600384576, -2.2073603980461756, -0.3769142907166705, -1.1530851450231299, 0.6545482159160557, -1.419920770287892, 0.7929584155525694, 0.9508711081337505, 0.6127102026962786, 0.05790749951701337, -0.4669327658980801, -0.06445765660094958, 0.08303432679820061, 0.7832095356792245, 0.29008929899966, 0.9489372515059938, -1.8221105051652147, 0.25122468116482677, -0.688314804778081, 1.090724486112609, -0.5553079114238013, 0.782352967608839, 0.21959952494655974, -0.7372885183735969, 0.8495989359274342, 0.9781385987871037, 1.229655208571755, 1.3868570877160415, 0.8665666205235594, 1.6780863864864783], \"xaxis\": \"x4\", \"y\": [-1.316509150580487, 0.6567439213089783, -1.2117246351490527, -0.7795197648889394, -1.3086898864866376, 1.1530168155654092, 0.13998590336540567, -0.11056327817001697, 1.7537011117105172, 0.8810323955893713, 0.10541010497618351, 1.011575063785946, 2.1228749009656473, -0.3075112722036564, 1.038681885646689, -0.6319853146199059, 2.2189715728894632, -1.4770145042427665, -0.153470368878263, -0.18727900695016553, 1.9078574381220432, 1.0499974193565844, 0.46542902797864877, -0.6260746672943875, -0.03689923737424436, -1.0944391791639074, 1.2481303879716057, 0.09959660652843288, 0.057031069351861356, -1.4176608242708042, 0.27913325253238075, 0.8782737897274759, -3.3361675913751814, -0.3611118893203861, 0.9042067738977311, 1.0392994720741469, 0.3020476385379728, -1.10241740023384, 0.6679332094321817, 0.2603822989676794, 0.45894985553075557, -0.011014647071094298, -1.2018062699942935, -1.288958573508946, -0.6602935547316192, 0.559523528635203, 0.9105335102135964, 0.9007433046119707, -0.8788546818988332, 1.2187402667118685, -0.3162671648927026, 0.9555369947525019, 0.8331485196348947, 0.5643353781041094, 0.9456632663673213, -0.16924653010990728, -2.8385553526488563, 0.4385338754031157, 2.050375616692176, -0.5957780568198906, -0.6391337028422326, 0.04999693554916875, -0.9905604339917498, 0.7126128257249994, 1.623879844150366, 0.7439398470037102, -1.4338603239722083, 0.4223377380195463, 0.7047789877639619, 1.2997906440556526, 1.1377795006181677, -0.37982037981568656, -0.8183289865038762, 2.1150365234629778, -1.6315774177580455, 1.557670994327429, 0.27435834635581113, -0.2020660134299496, 0.6622294003232192, -0.7507187976400996, 1.6841078411643216, 0.15725059523555834, 0.20403175525934233, -0.10228075446346539, -0.45075758084417217, 0.23398092630605663, 0.7020994443457834, -1.372013643107886, -0.830234550415995, 1.0471754048685615, 0.2791516597674779, 0.8073438839758672, -1.1840786596386352, -1.2438633167946165, 0.6711553346045185, -1.05947273041682, -0.21268450772722713, -0.7716616231268543, -0.6618813607239717, -0.7691251660875101], \"yaxis\": \"y4\"}, {\"line\": {\"color\": \"rgba(128, 128, 128, 1.0)\", \"dash\": \"solid\", \"shape\": \"linear\", \"width\": 1.3}, \"marker\": {\"size\": 2, \"symbol\": \"circle\"}, \"mode\": \"markers\", \"name\": \"B\", \"text\": \"\", \"type\": \"scatter\", \"x\": [-1.316509150580487, 0.6567439213089783, -1.2117246351490527, -0.7795197648889394, -1.3086898864866376, 1.1530168155654092, 0.13998590336540567, -0.11056327817001697, 1.7537011117105172, 0.8810323955893713, 0.10541010497618351, 1.011575063785946, 2.1228749009656473, -0.3075112722036564, 1.038681885646689, -0.6319853146199059, 2.2189715728894632, -1.4770145042427665, -0.153470368878263, -0.18727900695016553, 1.9078574381220432, 1.0499974193565844, 0.46542902797864877, -0.6260746672943875, -0.03689923737424436, -1.0944391791639074, 1.2481303879716057, 0.09959660652843288, 0.057031069351861356, -1.4176608242708042, 0.27913325253238075, 0.8782737897274759, -3.3361675913751814, -0.3611118893203861, 0.9042067738977311, 1.0392994720741469, 0.3020476385379728, -1.10241740023384, 0.6679332094321817, 0.2603822989676794, 0.45894985553075557, -0.011014647071094298, -1.2018062699942935, -1.288958573508946, -0.6602935547316192, 0.559523528635203, 0.9105335102135964, 0.9007433046119707, -0.8788546818988332, 1.2187402667118685, -0.3162671648927026, 0.9555369947525019, 0.8331485196348947, 0.5643353781041094, 0.9456632663673213, -0.16924653010990728, -2.8385553526488563, 0.4385338754031157, 2.050375616692176, -0.5957780568198906, -0.6391337028422326, 0.04999693554916875, -0.9905604339917498, 0.7126128257249994, 1.623879844150366, 0.7439398470037102, -1.4338603239722083, 0.4223377380195463, 0.7047789877639619, 1.2997906440556526, 1.1377795006181677, -0.37982037981568656, -0.8183289865038762, 2.1150365234629778, -1.6315774177580455, 1.557670994327429, 0.27435834635581113, -0.2020660134299496, 0.6622294003232192, -0.7507187976400996, 1.6841078411643216, 0.15725059523555834, 0.20403175525934233, -0.10228075446346539, -0.45075758084417217, 0.23398092630605663, 0.7020994443457834, -1.372013643107886, -0.830234550415995, 1.0471754048685615, 0.2791516597674779, 0.8073438839758672, -1.1840786596386352, -1.2438633167946165, 0.6711553346045185, -1.05947273041682, -0.21268450772722713, -0.7716616231268543, -0.6618813607239717, -0.7691251660875101], \"xaxis\": \"x5\", \"y\": [0.5322209261277865, -0.3400805111723466, 1.1360868917232188, -0.382712079815374, -0.0882949780014785, -0.0035050460034809156, 1.2200036262631462, 0.20708725596394534, 0.24518777378961107, -0.9614960463159214, -0.18007055388579998, 1.693862038729409, 0.6880732306303996, -1.2237783345460118, 1.5778919118755526, -0.9399074605700591, 0.6502179718500561, 0.13984189631979266, 0.3902474711235353, 0.79574378145543, -0.3187089447730361, 1.7756327287360203, 0.11176970117547803, 1.1026687785809492, 1.2655186137877001, 2.631604659518769, 0.38632232634692665, 0.3918662734991667, -0.10269538819221184, 2.1050347354372656, -0.14728435081334065, 1.5928813916980802, -0.5640139867574012, -0.7625416520561131, 0.6299238973321293, 1.5259003230423187, 0.4556062123964385, -0.2699051707997322, 1.023416758001027, 0.8544257864781147, -0.2113121282276364, -0.9889838291299777, 0.6101685589425011, 0.01886452624200072, -0.9135960987704975, -0.01725436138227997, -0.7802532086851106, -0.37672890325294733, -2.152350636544527, -1.1683993670480606, 1.263532324992662, 0.312038748908657, 0.7780507500386404, 0.041471470158138804, -0.6020767411671846, 0.6249868830012129, 0.5405277670128545, -1.1176579751594906, -1.433072594514869, 1.8835573786822821, 1.2676267128436596, 0.18179383715069097, -0.6708996716626628, -0.8696775484368037, 0.1348973926892778, 0.12074046939337874, -0.4243922156902889, 0.346367856345538, 1.0526808565699703, -0.9373139607993218, -0.4420468917330237, 0.585751073752487, -0.22025857587135528, 0.48580639571538037, 1.1910452374445943, -0.8409995659483239, 1.2713211278296752, 0.6122183465394152, -0.3626153112574866, -0.9046816910222284, 1.492899576359809, -0.19437622093277626, -0.17496285589028385, 1.1661687648674532, -0.702440894291958, -0.9991504450455196, 1.015268304294555, -0.41527919626977905, 1.286684649424407, 1.0739953772854123, -0.5703063513870817, 1.039240915811815, 0.8877143919613583, 0.864296717575613, -0.26344490511936275, 0.2117153057332679, -1.5890334789342004, 1.1071474916095139, 0.04231235469678529, -0.5264821907576022], \"yaxis\": \"y5\"}, {\"histfunc\": \"count\", \"histnorm\": \"\", \"marker\": {\"color\": \"rgba(55, 128, 191, 1.0)\", \"line\": {\"color\": \"#4D5663\", \"width\": 1.3}}, \"name\": \"B\", \"nbinsx\": 10, \"opacity\": 0.8, \"orientation\": \"v\", \"type\": \"histogram\", \"x\": [0.5322209261277865, -0.3400805111723466, 1.1360868917232188, -0.382712079815374, -0.0882949780014785, -0.0035050460034809156, 1.2200036262631462, 0.20708725596394534, 0.24518777378961107, -0.9614960463159214, -0.18007055388579998, 1.693862038729409, 0.6880732306303996, -1.2237783345460118, 1.5778919118755526, -0.9399074605700591, 0.6502179718500561, 0.13984189631979266, 0.3902474711235353, 0.79574378145543, -0.3187089447730361, 1.7756327287360203, 0.11176970117547803, 1.1026687785809492, 1.2655186137877001, 2.631604659518769, 0.38632232634692665, 0.3918662734991667, -0.10269538819221184, 2.1050347354372656, -0.14728435081334065, 1.5928813916980802, -0.5640139867574012, -0.7625416520561131, 0.6299238973321293, 1.5259003230423187, 0.4556062123964385, -0.2699051707997322, 1.023416758001027, 0.8544257864781147, -0.2113121282276364, -0.9889838291299777, 0.6101685589425011, 0.01886452624200072, -0.9135960987704975, -0.01725436138227997, -0.7802532086851106, -0.37672890325294733, -2.152350636544527, -1.1683993670480606, 1.263532324992662, 0.312038748908657, 0.7780507500386404, 0.041471470158138804, -0.6020767411671846, 0.6249868830012129, 0.5405277670128545, -1.1176579751594906, -1.433072594514869, 1.8835573786822821, 1.2676267128436596, 0.18179383715069097, -0.6708996716626628, -0.8696775484368037, 0.1348973926892778, 0.12074046939337874, -0.4243922156902889, 0.346367856345538, 1.0526808565699703, -0.9373139607993218, -0.4420468917330237, 0.585751073752487, -0.22025857587135528, 0.48580639571538037, 1.1910452374445943, -0.8409995659483239, 1.2713211278296752, 0.6122183465394152, -0.3626153112574866, -0.9046816910222284, 1.492899576359809, -0.19437622093277626, -0.17496285589028385, 1.1661687648674532, -0.702440894291958, -0.9991504450455196, 1.015268304294555, -0.41527919626977905, 1.286684649424407, 1.0739953772854123, -0.5703063513870817, 1.039240915811815, 0.8877143919613583, 0.864296717575613, -0.26344490511936275, 0.2117153057332679, -1.5890334789342004, 1.1071474916095139, 0.04231235469678529, -0.5264821907576022], \"xaxis\": \"x6\", \"yaxis\": \"y6\"}, {\"line\": {\"color\": \"rgba(128, 128, 128, 1.0)\", \"dash\": \"solid\", \"shape\": \"linear\", \"width\": 1.3}, \"marker\": {\"size\": 2, \"symbol\": \"circle\"}, \"mode\": \"markers\", \"name\": \"B\", \"text\": \"\", \"type\": \"scatter\", \"x\": [-0.4426627042361103, -0.6399050472784629, 0.07358865068267394, -0.3091615362420584, -2.1105700846068247, -0.6987203494266411, 1.9987205565156225, -0.6497007420309667, 0.20538307212912799, 0.8983335644172407, 0.26287310136750575, 0.6107851851136252, -1.4363662311890355, 0.36206337951561535, -0.2298673448032176, 0.2265768162296731, 0.8249414689110565, -0.8416150285488005, -0.6309024477119458, -0.12020366953750442, -0.2008317397881813, 1.3158989235166834, -0.47561387029975616, 0.3692948659360093, -0.5097988799863549, -0.38238868688924915, -1.5443771107613438, 0.9322307087276408, -0.6038157686699996, 0.10854617372161343, 0.4078863543497139, -0.5974480890593209, 1.7927302989916816, -0.27167329817764774, -0.10515729655119894, 1.5046224508092376, 1.2765081652015136, 0.018901514535407556, -0.6981007178938509, 0.2996256016902793, 2.182783994787281, -0.8517021573495922, -0.6851326623649174, 1.503361473348288, -0.10553912688797204, 0.14975795420926277, 0.49007051098713633, 1.7947033295356172, -0.5715585020270864, -0.2381385005439792, -0.6997641418699387, 0.11917893539522223, 0.06952016281575028, 0.3275008663147888, -0.4215140848008329, -0.9496352371350686, -1.0980805451800228, 0.6125067193912569, 0.1864624725803467, -0.15136469674670028, 2.5960378688935712, 0.8593240545880897, 0.9587487407168636, 0.8607656944499196, -0.3765156391993082, -1.2186616142210775, 0.5178747433876127, -0.9975677063910462, -1.1910852286017317, -0.14787487928866896, -1.8047146319904626, 1.4712403371794966, -0.06781497409294958, -1.34104990666472, -0.10306844664005434, -0.6344963461811047, 0.9199220068790146, 0.5874686040801018, 0.27268255431433663, 2.545739441802707, 0.6586714984006848, 1.224730402961586, -2.7085386943159473, 0.01301733171174009, -0.2629659802082384, 0.04500540665017078, -1.7927350814706264, 0.44346558844281037, -0.36485627916302865, 1.8799723626101896, 0.6079096307392652, -0.810251652556461, 0.28478379146553534, 1.364369493564619, -0.6796767191131572, 0.4878983532993825, -0.9801955125025105, 1.3857556767911223, 0.7150505765825546, 2.380938657712917], \"xaxis\": \"x7\", \"y\": [0.5322209261277865, -0.3400805111723466, 1.1360868917232188, -0.382712079815374, -0.0882949780014785, -0.0035050460034809156, 1.2200036262631462, 0.20708725596394534, 0.24518777378961107, -0.9614960463159214, -0.18007055388579998, 1.693862038729409, 0.6880732306303996, -1.2237783345460118, 1.5778919118755526, -0.9399074605700591, 0.6502179718500561, 0.13984189631979266, 0.3902474711235353, 0.79574378145543, -0.3187089447730361, 1.7756327287360203, 0.11176970117547803, 1.1026687785809492, 1.2655186137877001, 2.631604659518769, 0.38632232634692665, 0.3918662734991667, -0.10269538819221184, 2.1050347354372656, -0.14728435081334065, 1.5928813916980802, -0.5640139867574012, -0.7625416520561131, 0.6299238973321293, 1.5259003230423187, 0.4556062123964385, -0.2699051707997322, 1.023416758001027, 0.8544257864781147, -0.2113121282276364, -0.9889838291299777, 0.6101685589425011, 0.01886452624200072, -0.9135960987704975, -0.01725436138227997, -0.7802532086851106, -0.37672890325294733, -2.152350636544527, -1.1683993670480606, 1.263532324992662, 0.312038748908657, 0.7780507500386404, 0.041471470158138804, -0.6020767411671846, 0.6249868830012129, 0.5405277670128545, -1.1176579751594906, -1.433072594514869, 1.8835573786822821, 1.2676267128436596, 0.18179383715069097, -0.6708996716626628, -0.8696775484368037, 0.1348973926892778, 0.12074046939337874, -0.4243922156902889, 0.346367856345538, 1.0526808565699703, -0.9373139607993218, -0.4420468917330237, 0.585751073752487, -0.22025857587135528, 0.48580639571538037, 1.1910452374445943, -0.8409995659483239, 1.2713211278296752, 0.6122183465394152, -0.3626153112574866, -0.9046816910222284, 1.492899576359809, -0.19437622093277626, -0.17496285589028385, 1.1661687648674532, -0.702440894291958, -0.9991504450455196, 1.015268304294555, -0.41527919626977905, 1.286684649424407, 1.0739953772854123, -0.5703063513870817, 1.039240915811815, 0.8877143919613583, 0.864296717575613, -0.26344490511936275, 0.2117153057332679, -1.5890334789342004, 1.1071474916095139, 0.04231235469678529, -0.5264821907576022], \"yaxis\": \"y7\"}, {\"line\": {\"color\": \"rgba(128, 128, 128, 1.0)\", \"dash\": \"solid\", \"shape\": \"linear\", \"width\": 1.3}, \"marker\": {\"size\": 2, \"symbol\": \"circle\"}, \"mode\": \"markers\", \"name\": \"B\", \"text\": \"\", \"type\": \"scatter\", \"x\": [-0.21411274271333836, 0.3713237974686019, 1.0182433694657855, -0.9809308780644594, 0.11681415896180601, 0.056113925932592144, 1.038143121639036, -0.3092977150883147, -0.5433729141065714, -1.3196508208765234, -0.25708061763812173, 0.0037782350897909234, -0.2662763824170066, 0.0768552484861571, -0.9055776501046975, -1.0036356624024152, -2.97083366912784, 0.6983562301131403, -0.21374284452706516, 0.8684627325918218, -0.1861796533340893, 0.8116072183269627, 0.2479167382445622, -1.6149889045131847, 1.1122405866650933, -0.035202215333426747, 0.9464088148430557, -2.06551088435252, 1.8003719420270903, 1.3589645300664823, 2.813029349767026, -1.0659002960154034, -1.144289714564388, -0.24400458589547835, 0.07156212349079402, 2.6239711417649914, 0.7262306311124471, -2.0178252387141296, 0.9910007039302287, -0.52634820628823, 1.502801479836207, -2.5371826122745182, 0.46687136410253677, 0.3188656785987697, 0.7699121598333447, 0.15187763606796495, 0.2793597819924499, 1.3263442544398758, -0.7936811937701996, -0.15393616151120165, 0.05520688739259033, -1.8565385606752336, -0.32172545332466196, 0.5038075164847766, -1.9177966894565226, 0.9632920973705353, 1.3563311373052924, 0.34447531381624724, -0.4413867171527908, -0.956840945349693, -0.3893814338755863, -1.1579619966744505, -0.8886867830976829, -1.5514639240822634, -1.2843476076274045, 1.256439946960209, 0.4571796955089669, -0.6352941465719506, -0.01840227830138182, 0.012149583965205024, -0.7139596600384576, -2.2073603980461756, -0.3769142907166705, -1.1530851450231299, 0.6545482159160557, -1.419920770287892, 0.7929584155525694, 0.9508711081337505, 0.6127102026962786, 0.05790749951701337, -0.4669327658980801, -0.06445765660094958, 0.08303432679820061, 0.7832095356792245, 0.29008929899966, 0.9489372515059938, -1.8221105051652147, 0.25122468116482677, -0.688314804778081, 1.090724486112609, -0.5553079114238013, 0.782352967608839, 0.21959952494655974, -0.7372885183735969, 0.8495989359274342, 0.9781385987871037, 1.229655208571755, 1.3868570877160415, 0.8665666205235594, 1.6780863864864783], \"xaxis\": \"x8\", \"y\": [0.5322209261277865, -0.3400805111723466, 1.1360868917232188, -0.382712079815374, -0.0882949780014785, -0.0035050460034809156, 1.2200036262631462, 0.20708725596394534, 0.24518777378961107, -0.9614960463159214, -0.18007055388579998, 1.693862038729409, 0.6880732306303996, -1.2237783345460118, 1.5778919118755526, -0.9399074605700591, 0.6502179718500561, 0.13984189631979266, 0.3902474711235353, 0.79574378145543, -0.3187089447730361, 1.7756327287360203, 0.11176970117547803, 1.1026687785809492, 1.2655186137877001, 2.631604659518769, 0.38632232634692665, 0.3918662734991667, -0.10269538819221184, 2.1050347354372656, -0.14728435081334065, 1.5928813916980802, -0.5640139867574012, -0.7625416520561131, 0.6299238973321293, 1.5259003230423187, 0.4556062123964385, -0.2699051707997322, 1.023416758001027, 0.8544257864781147, -0.2113121282276364, -0.9889838291299777, 0.6101685589425011, 0.01886452624200072, -0.9135960987704975, -0.01725436138227997, -0.7802532086851106, -0.37672890325294733, -2.152350636544527, -1.1683993670480606, 1.263532324992662, 0.312038748908657, 0.7780507500386404, 0.041471470158138804, -0.6020767411671846, 0.6249868830012129, 0.5405277670128545, -1.1176579751594906, -1.433072594514869, 1.8835573786822821, 1.2676267128436596, 0.18179383715069097, -0.6708996716626628, -0.8696775484368037, 0.1348973926892778, 0.12074046939337874, -0.4243922156902889, 0.346367856345538, 1.0526808565699703, -0.9373139607993218, -0.4420468917330237, 0.585751073752487, -0.22025857587135528, 0.48580639571538037, 1.1910452374445943, -0.8409995659483239, 1.2713211278296752, 0.6122183465394152, -0.3626153112574866, -0.9046816910222284, 1.492899576359809, -0.19437622093277626, -0.17496285589028385, 1.1661687648674532, -0.702440894291958, -0.9991504450455196, 1.015268304294555, -0.41527919626977905, 1.286684649424407, 1.0739953772854123, -0.5703063513870817, 1.039240915811815, 0.8877143919613583, 0.864296717575613, -0.26344490511936275, 0.2117153057332679, -1.5890334789342004, 1.1071474916095139, 0.04231235469678529, -0.5264821907576022], \"yaxis\": \"y8\"}, {\"line\": {\"color\": \"rgba(128, 128, 128, 1.0)\", \"dash\": \"solid\", \"shape\": \"linear\", \"width\": 1.3}, \"marker\": {\"size\": 2, \"symbol\": \"circle\"}, \"mode\": \"markers\", \"name\": \"C\", \"text\": \"\", \"type\": \"scatter\", \"x\": [-1.316509150580487, 0.6567439213089783, -1.2117246351490527, -0.7795197648889394, -1.3086898864866376, 1.1530168155654092, 0.13998590336540567, -0.11056327817001697, 1.7537011117105172, 0.8810323955893713, 0.10541010497618351, 1.011575063785946, 2.1228749009656473, -0.3075112722036564, 1.038681885646689, -0.6319853146199059, 2.2189715728894632, -1.4770145042427665, -0.153470368878263, -0.18727900695016553, 1.9078574381220432, 1.0499974193565844, 0.46542902797864877, -0.6260746672943875, -0.03689923737424436, -1.0944391791639074, 1.2481303879716057, 0.09959660652843288, 0.057031069351861356, -1.4176608242708042, 0.27913325253238075, 0.8782737897274759, -3.3361675913751814, -0.3611118893203861, 0.9042067738977311, 1.0392994720741469, 0.3020476385379728, -1.10241740023384, 0.6679332094321817, 0.2603822989676794, 0.45894985553075557, -0.011014647071094298, -1.2018062699942935, -1.288958573508946, -0.6602935547316192, 0.559523528635203, 0.9105335102135964, 0.9007433046119707, -0.8788546818988332, 1.2187402667118685, -0.3162671648927026, 0.9555369947525019, 0.8331485196348947, 0.5643353781041094, 0.9456632663673213, -0.16924653010990728, -2.8385553526488563, 0.4385338754031157, 2.050375616692176, -0.5957780568198906, -0.6391337028422326, 0.04999693554916875, -0.9905604339917498, 0.7126128257249994, 1.623879844150366, 0.7439398470037102, -1.4338603239722083, 0.4223377380195463, 0.7047789877639619, 1.2997906440556526, 1.1377795006181677, -0.37982037981568656, -0.8183289865038762, 2.1150365234629778, -1.6315774177580455, 1.557670994327429, 0.27435834635581113, -0.2020660134299496, 0.6622294003232192, -0.7507187976400996, 1.6841078411643216, 0.15725059523555834, 0.20403175525934233, -0.10228075446346539, -0.45075758084417217, 0.23398092630605663, 0.7020994443457834, -1.372013643107886, -0.830234550415995, 1.0471754048685615, 0.2791516597674779, 0.8073438839758672, -1.1840786596386352, -1.2438633167946165, 0.6711553346045185, -1.05947273041682, -0.21268450772722713, -0.7716616231268543, -0.6618813607239717, -0.7691251660875101], \"xaxis\": \"x9\", \"y\": [-0.4426627042361103, -0.6399050472784629, 0.07358865068267394, -0.3091615362420584, -2.1105700846068247, -0.6987203494266411, 1.9987205565156225, -0.6497007420309667, 0.20538307212912799, 0.8983335644172407, 0.26287310136750575, 0.6107851851136252, -1.4363662311890355, 0.36206337951561535, -0.2298673448032176, 0.2265768162296731, 0.8249414689110565, -0.8416150285488005, -0.6309024477119458, -0.12020366953750442, -0.2008317397881813, 1.3158989235166834, -0.47561387029975616, 0.3692948659360093, -0.5097988799863549, -0.38238868688924915, -1.5443771107613438, 0.9322307087276408, -0.6038157686699996, 0.10854617372161343, 0.4078863543497139, -0.5974480890593209, 1.7927302989916816, -0.27167329817764774, -0.10515729655119894, 1.5046224508092376, 1.2765081652015136, 0.018901514535407556, -0.6981007178938509, 0.2996256016902793, 2.182783994787281, -0.8517021573495922, -0.6851326623649174, 1.503361473348288, -0.10553912688797204, 0.14975795420926277, 0.49007051098713633, 1.7947033295356172, -0.5715585020270864, -0.2381385005439792, -0.6997641418699387, 0.11917893539522223, 0.06952016281575028, 0.3275008663147888, -0.4215140848008329, -0.9496352371350686, -1.0980805451800228, 0.6125067193912569, 0.1864624725803467, -0.15136469674670028, 2.5960378688935712, 0.8593240545880897, 0.9587487407168636, 0.8607656944499196, -0.3765156391993082, -1.2186616142210775, 0.5178747433876127, -0.9975677063910462, -1.1910852286017317, -0.14787487928866896, -1.8047146319904626, 1.4712403371794966, -0.06781497409294958, -1.34104990666472, -0.10306844664005434, -0.6344963461811047, 0.9199220068790146, 0.5874686040801018, 0.27268255431433663, 2.545739441802707, 0.6586714984006848, 1.224730402961586, -2.7085386943159473, 0.01301733171174009, -0.2629659802082384, 0.04500540665017078, -1.7927350814706264, 0.44346558844281037, -0.36485627916302865, 1.8799723626101896, 0.6079096307392652, -0.810251652556461, 0.28478379146553534, 1.364369493564619, -0.6796767191131572, 0.4878983532993825, -0.9801955125025105, 1.3857556767911223, 0.7150505765825546, 2.380938657712917], \"yaxis\": \"y9\"}, {\"line\": {\"color\": \"rgba(128, 128, 128, 1.0)\", \"dash\": \"solid\", \"shape\": \"linear\", \"width\": 1.3}, \"marker\": {\"size\": 2, \"symbol\": \"circle\"}, \"mode\": \"markers\", \"name\": \"C\", \"text\": \"\", \"type\": \"scatter\", \"x\": [0.5322209261277865, -0.3400805111723466, 1.1360868917232188, -0.382712079815374, -0.0882949780014785, -0.0035050460034809156, 1.2200036262631462, 0.20708725596394534, 0.24518777378961107, -0.9614960463159214, -0.18007055388579998, 1.693862038729409, 0.6880732306303996, -1.2237783345460118, 1.5778919118755526, -0.9399074605700591, 0.6502179718500561, 0.13984189631979266, 0.3902474711235353, 0.79574378145543, -0.3187089447730361, 1.7756327287360203, 0.11176970117547803, 1.1026687785809492, 1.2655186137877001, 2.631604659518769, 0.38632232634692665, 0.3918662734991667, -0.10269538819221184, 2.1050347354372656, -0.14728435081334065, 1.5928813916980802, -0.5640139867574012, -0.7625416520561131, 0.6299238973321293, 1.5259003230423187, 0.4556062123964385, -0.2699051707997322, 1.023416758001027, 0.8544257864781147, -0.2113121282276364, -0.9889838291299777, 0.6101685589425011, 0.01886452624200072, -0.9135960987704975, -0.01725436138227997, -0.7802532086851106, -0.37672890325294733, -2.152350636544527, -1.1683993670480606, 1.263532324992662, 0.312038748908657, 0.7780507500386404, 0.041471470158138804, -0.6020767411671846, 0.6249868830012129, 0.5405277670128545, -1.1176579751594906, -1.433072594514869, 1.8835573786822821, 1.2676267128436596, 0.18179383715069097, -0.6708996716626628, -0.8696775484368037, 0.1348973926892778, 0.12074046939337874, -0.4243922156902889, 0.346367856345538, 1.0526808565699703, -0.9373139607993218, -0.4420468917330237, 0.585751073752487, -0.22025857587135528, 0.48580639571538037, 1.1910452374445943, -0.8409995659483239, 1.2713211278296752, 0.6122183465394152, -0.3626153112574866, -0.9046816910222284, 1.492899576359809, -0.19437622093277626, -0.17496285589028385, 1.1661687648674532, -0.702440894291958, -0.9991504450455196, 1.015268304294555, -0.41527919626977905, 1.286684649424407, 1.0739953772854123, -0.5703063513870817, 1.039240915811815, 0.8877143919613583, 0.864296717575613, -0.26344490511936275, 0.2117153057332679, -1.5890334789342004, 1.1071474916095139, 0.04231235469678529, -0.5264821907576022], \"xaxis\": \"x10\", \"y\": [-0.4426627042361103, -0.6399050472784629, 0.07358865068267394, -0.3091615362420584, -2.1105700846068247, -0.6987203494266411, 1.9987205565156225, -0.6497007420309667, 0.20538307212912799, 0.8983335644172407, 0.26287310136750575, 0.6107851851136252, -1.4363662311890355, 0.36206337951561535, -0.2298673448032176, 0.2265768162296731, 0.8249414689110565, -0.8416150285488005, -0.6309024477119458, -0.12020366953750442, -0.2008317397881813, 1.3158989235166834, -0.47561387029975616, 0.3692948659360093, -0.5097988799863549, -0.38238868688924915, -1.5443771107613438, 0.9322307087276408, -0.6038157686699996, 0.10854617372161343, 0.4078863543497139, -0.5974480890593209, 1.7927302989916816, -0.27167329817764774, -0.10515729655119894, 1.5046224508092376, 1.2765081652015136, 0.018901514535407556, -0.6981007178938509, 0.2996256016902793, 2.182783994787281, -0.8517021573495922, -0.6851326623649174, 1.503361473348288, -0.10553912688797204, 0.14975795420926277, 0.49007051098713633, 1.7947033295356172, -0.5715585020270864, -0.2381385005439792, -0.6997641418699387, 0.11917893539522223, 0.06952016281575028, 0.3275008663147888, -0.4215140848008329, -0.9496352371350686, -1.0980805451800228, 0.6125067193912569, 0.1864624725803467, -0.15136469674670028, 2.5960378688935712, 0.8593240545880897, 0.9587487407168636, 0.8607656944499196, -0.3765156391993082, -1.2186616142210775, 0.5178747433876127, -0.9975677063910462, -1.1910852286017317, -0.14787487928866896, -1.8047146319904626, 1.4712403371794966, -0.06781497409294958, -1.34104990666472, -0.10306844664005434, -0.6344963461811047, 0.9199220068790146, 0.5874686040801018, 0.27268255431433663, 2.545739441802707, 0.6586714984006848, 1.224730402961586, -2.7085386943159473, 0.01301733171174009, -0.2629659802082384, 0.04500540665017078, -1.7927350814706264, 0.44346558844281037, -0.36485627916302865, 1.8799723626101896, 0.6079096307392652, -0.810251652556461, 0.28478379146553534, 1.364369493564619, -0.6796767191131572, 0.4878983532993825, -0.9801955125025105, 1.3857556767911223, 0.7150505765825546, 2.380938657712917], \"yaxis\": \"y10\"}, {\"histfunc\": \"count\", \"histnorm\": \"\", \"marker\": {\"color\": \"rgba(50, 171, 96, 1.0)\", \"line\": {\"color\": \"#4D5663\", \"width\": 1.3}}, \"name\": \"C\", \"nbinsx\": 10, \"opacity\": 0.8, \"orientation\": \"v\", \"type\": \"histogram\", \"x\": [-0.4426627042361103, -0.6399050472784629, 0.07358865068267394, -0.3091615362420584, -2.1105700846068247, -0.6987203494266411, 1.9987205565156225, -0.6497007420309667, 0.20538307212912799, 0.8983335644172407, 0.26287310136750575, 0.6107851851136252, -1.4363662311890355, 0.36206337951561535, -0.2298673448032176, 0.2265768162296731, 0.8249414689110565, -0.8416150285488005, -0.6309024477119458, -0.12020366953750442, -0.2008317397881813, 1.3158989235166834, -0.47561387029975616, 0.3692948659360093, -0.5097988799863549, -0.38238868688924915, -1.5443771107613438, 0.9322307087276408, -0.6038157686699996, 0.10854617372161343, 0.4078863543497139, -0.5974480890593209, 1.7927302989916816, -0.27167329817764774, -0.10515729655119894, 1.5046224508092376, 1.2765081652015136, 0.018901514535407556, -0.6981007178938509, 0.2996256016902793, 2.182783994787281, -0.8517021573495922, -0.6851326623649174, 1.503361473348288, -0.10553912688797204, 0.14975795420926277, 0.49007051098713633, 1.7947033295356172, -0.5715585020270864, -0.2381385005439792, -0.6997641418699387, 0.11917893539522223, 0.06952016281575028, 0.3275008663147888, -0.4215140848008329, -0.9496352371350686, -1.0980805451800228, 0.6125067193912569, 0.1864624725803467, -0.15136469674670028, 2.5960378688935712, 0.8593240545880897, 0.9587487407168636, 0.8607656944499196, -0.3765156391993082, -1.2186616142210775, 0.5178747433876127, -0.9975677063910462, -1.1910852286017317, -0.14787487928866896, -1.8047146319904626, 1.4712403371794966, -0.06781497409294958, -1.34104990666472, -0.10306844664005434, -0.6344963461811047, 0.9199220068790146, 0.5874686040801018, 0.27268255431433663, 2.545739441802707, 0.6586714984006848, 1.224730402961586, -2.7085386943159473, 0.01301733171174009, -0.2629659802082384, 0.04500540665017078, -1.7927350814706264, 0.44346558844281037, -0.36485627916302865, 1.8799723626101896, 0.6079096307392652, -0.810251652556461, 0.28478379146553534, 1.364369493564619, -0.6796767191131572, 0.4878983532993825, -0.9801955125025105, 1.3857556767911223, 0.7150505765825546, 2.380938657712917], \"xaxis\": \"x11\", \"yaxis\": \"y11\"}, {\"line\": {\"color\": \"rgba(128, 128, 128, 1.0)\", \"dash\": \"solid\", \"shape\": \"linear\", \"width\": 1.3}, \"marker\": {\"size\": 2, \"symbol\": \"circle\"}, \"mode\": \"markers\", \"name\": \"C\", \"text\": \"\", \"type\": \"scatter\", \"x\": [-0.21411274271333836, 0.3713237974686019, 1.0182433694657855, -0.9809308780644594, 0.11681415896180601, 0.056113925932592144, 1.038143121639036, -0.3092977150883147, -0.5433729141065714, -1.3196508208765234, -0.25708061763812173, 0.0037782350897909234, -0.2662763824170066, 0.0768552484861571, -0.9055776501046975, -1.0036356624024152, -2.97083366912784, 0.6983562301131403, -0.21374284452706516, 0.8684627325918218, -0.1861796533340893, 0.8116072183269627, 0.2479167382445622, -1.6149889045131847, 1.1122405866650933, -0.035202215333426747, 0.9464088148430557, -2.06551088435252, 1.8003719420270903, 1.3589645300664823, 2.813029349767026, -1.0659002960154034, -1.144289714564388, -0.24400458589547835, 0.07156212349079402, 2.6239711417649914, 0.7262306311124471, -2.0178252387141296, 0.9910007039302287, -0.52634820628823, 1.502801479836207, -2.5371826122745182, 0.46687136410253677, 0.3188656785987697, 0.7699121598333447, 0.15187763606796495, 0.2793597819924499, 1.3263442544398758, -0.7936811937701996, -0.15393616151120165, 0.05520688739259033, -1.8565385606752336, -0.32172545332466196, 0.5038075164847766, -1.9177966894565226, 0.9632920973705353, 1.3563311373052924, 0.34447531381624724, -0.4413867171527908, -0.956840945349693, -0.3893814338755863, -1.1579619966744505, -0.8886867830976829, -1.5514639240822634, -1.2843476076274045, 1.256439946960209, 0.4571796955089669, -0.6352941465719506, -0.01840227830138182, 0.012149583965205024, -0.7139596600384576, -2.2073603980461756, -0.3769142907166705, -1.1530851450231299, 0.6545482159160557, -1.419920770287892, 0.7929584155525694, 0.9508711081337505, 0.6127102026962786, 0.05790749951701337, -0.4669327658980801, -0.06445765660094958, 0.08303432679820061, 0.7832095356792245, 0.29008929899966, 0.9489372515059938, -1.8221105051652147, 0.25122468116482677, -0.688314804778081, 1.090724486112609, -0.5553079114238013, 0.782352967608839, 0.21959952494655974, -0.7372885183735969, 0.8495989359274342, 0.9781385987871037, 1.229655208571755, 1.3868570877160415, 0.8665666205235594, 1.6780863864864783], \"xaxis\": \"x12\", \"y\": [-0.4426627042361103, -0.6399050472784629, 0.07358865068267394, -0.3091615362420584, -2.1105700846068247, -0.6987203494266411, 1.9987205565156225, -0.6497007420309667, 0.20538307212912799, 0.8983335644172407, 0.26287310136750575, 0.6107851851136252, -1.4363662311890355, 0.36206337951561535, -0.2298673448032176, 0.2265768162296731, 0.8249414689110565, -0.8416150285488005, -0.6309024477119458, -0.12020366953750442, -0.2008317397881813, 1.3158989235166834, -0.47561387029975616, 0.3692948659360093, -0.5097988799863549, -0.38238868688924915, -1.5443771107613438, 0.9322307087276408, -0.6038157686699996, 0.10854617372161343, 0.4078863543497139, -0.5974480890593209, 1.7927302989916816, -0.27167329817764774, -0.10515729655119894, 1.5046224508092376, 1.2765081652015136, 0.018901514535407556, -0.6981007178938509, 0.2996256016902793, 2.182783994787281, -0.8517021573495922, -0.6851326623649174, 1.503361473348288, -0.10553912688797204, 0.14975795420926277, 0.49007051098713633, 1.7947033295356172, -0.5715585020270864, -0.2381385005439792, -0.6997641418699387, 0.11917893539522223, 0.06952016281575028, 0.3275008663147888, -0.4215140848008329, -0.9496352371350686, -1.0980805451800228, 0.6125067193912569, 0.1864624725803467, -0.15136469674670028, 2.5960378688935712, 0.8593240545880897, 0.9587487407168636, 0.8607656944499196, -0.3765156391993082, -1.2186616142210775, 0.5178747433876127, -0.9975677063910462, -1.1910852286017317, -0.14787487928866896, -1.8047146319904626, 1.4712403371794966, -0.06781497409294958, -1.34104990666472, -0.10306844664005434, -0.6344963461811047, 0.9199220068790146, 0.5874686040801018, 0.27268255431433663, 2.545739441802707, 0.6586714984006848, 1.224730402961586, -2.7085386943159473, 0.01301733171174009, -0.2629659802082384, 0.04500540665017078, -1.7927350814706264, 0.44346558844281037, -0.36485627916302865, 1.8799723626101896, 0.6079096307392652, -0.810251652556461, 0.28478379146553534, 1.364369493564619, -0.6796767191131572, 0.4878983532993825, -0.9801955125025105, 1.3857556767911223, 0.7150505765825546, 2.380938657712917], \"yaxis\": \"y12\"}, {\"line\": {\"color\": \"rgba(128, 128, 128, 1.0)\", \"dash\": \"solid\", \"shape\": \"linear\", \"width\": 1.3}, \"marker\": {\"size\": 2, \"symbol\": \"circle\"}, \"mode\": \"markers\", \"name\": \"D\", \"text\": \"\", \"type\": \"scatter\", \"x\": [-1.316509150580487, 0.6567439213089783, -1.2117246351490527, -0.7795197648889394, -1.3086898864866376, 1.1530168155654092, 0.13998590336540567, -0.11056327817001697, 1.7537011117105172, 0.8810323955893713, 0.10541010497618351, 1.011575063785946, 2.1228749009656473, -0.3075112722036564, 1.038681885646689, -0.6319853146199059, 2.2189715728894632, -1.4770145042427665, -0.153470368878263, -0.18727900695016553, 1.9078574381220432, 1.0499974193565844, 0.46542902797864877, -0.6260746672943875, -0.03689923737424436, -1.0944391791639074, 1.2481303879716057, 0.09959660652843288, 0.057031069351861356, -1.4176608242708042, 0.27913325253238075, 0.8782737897274759, -3.3361675913751814, -0.3611118893203861, 0.9042067738977311, 1.0392994720741469, 0.3020476385379728, -1.10241740023384, 0.6679332094321817, 0.2603822989676794, 0.45894985553075557, -0.011014647071094298, -1.2018062699942935, -1.288958573508946, -0.6602935547316192, 0.559523528635203, 0.9105335102135964, 0.9007433046119707, -0.8788546818988332, 1.2187402667118685, -0.3162671648927026, 0.9555369947525019, 0.8331485196348947, 0.5643353781041094, 0.9456632663673213, -0.16924653010990728, -2.8385553526488563, 0.4385338754031157, 2.050375616692176, -0.5957780568198906, -0.6391337028422326, 0.04999693554916875, -0.9905604339917498, 0.7126128257249994, 1.623879844150366, 0.7439398470037102, -1.4338603239722083, 0.4223377380195463, 0.7047789877639619, 1.2997906440556526, 1.1377795006181677, -0.37982037981568656, -0.8183289865038762, 2.1150365234629778, -1.6315774177580455, 1.557670994327429, 0.27435834635581113, -0.2020660134299496, 0.6622294003232192, -0.7507187976400996, 1.6841078411643216, 0.15725059523555834, 0.20403175525934233, -0.10228075446346539, -0.45075758084417217, 0.23398092630605663, 0.7020994443457834, -1.372013643107886, -0.830234550415995, 1.0471754048685615, 0.2791516597674779, 0.8073438839758672, -1.1840786596386352, -1.2438633167946165, 0.6711553346045185, -1.05947273041682, -0.21268450772722713, -0.7716616231268543, -0.6618813607239717, -0.7691251660875101], \"xaxis\": \"x13\", \"y\": [-0.21411274271333836, 0.3713237974686019, 1.0182433694657855, -0.9809308780644594, 0.11681415896180601, 0.056113925932592144, 1.038143121639036, -0.3092977150883147, -0.5433729141065714, -1.3196508208765234, -0.25708061763812173, 0.0037782350897909234, -0.2662763824170066, 0.0768552484861571, -0.9055776501046975, -1.0036356624024152, -2.97083366912784, 0.6983562301131403, -0.21374284452706516, 0.8684627325918218, -0.1861796533340893, 0.8116072183269627, 0.2479167382445622, -1.6149889045131847, 1.1122405866650933, -0.035202215333426747, 0.9464088148430557, -2.06551088435252, 1.8003719420270903, 1.3589645300664823, 2.813029349767026, -1.0659002960154034, -1.144289714564388, -0.24400458589547835, 0.07156212349079402, 2.6239711417649914, 0.7262306311124471, -2.0178252387141296, 0.9910007039302287, -0.52634820628823, 1.502801479836207, -2.5371826122745182, 0.46687136410253677, 0.3188656785987697, 0.7699121598333447, 0.15187763606796495, 0.2793597819924499, 1.3263442544398758, -0.7936811937701996, -0.15393616151120165, 0.05520688739259033, -1.8565385606752336, -0.32172545332466196, 0.5038075164847766, -1.9177966894565226, 0.9632920973705353, 1.3563311373052924, 0.34447531381624724, -0.4413867171527908, -0.956840945349693, -0.3893814338755863, -1.1579619966744505, -0.8886867830976829, -1.5514639240822634, -1.2843476076274045, 1.256439946960209, 0.4571796955089669, -0.6352941465719506, -0.01840227830138182, 0.012149583965205024, -0.7139596600384576, -2.2073603980461756, -0.3769142907166705, -1.1530851450231299, 0.6545482159160557, -1.419920770287892, 0.7929584155525694, 0.9508711081337505, 0.6127102026962786, 0.05790749951701337, -0.4669327658980801, -0.06445765660094958, 0.08303432679820061, 0.7832095356792245, 0.29008929899966, 0.9489372515059938, -1.8221105051652147, 0.25122468116482677, -0.688314804778081, 1.090724486112609, -0.5553079114238013, 0.782352967608839, 0.21959952494655974, -0.7372885183735969, 0.8495989359274342, 0.9781385987871037, 1.229655208571755, 1.3868570877160415, 0.8665666205235594, 1.6780863864864783], \"yaxis\": \"y13\"}, {\"line\": {\"color\": \"rgba(128, 128, 128, 1.0)\", \"dash\": \"solid\", \"shape\": \"linear\", \"width\": 1.3}, \"marker\": {\"size\": 2, \"symbol\": \"circle\"}, \"mode\": \"markers\", \"name\": \"D\", \"text\": \"\", \"type\": \"scatter\", \"x\": [0.5322209261277865, -0.3400805111723466, 1.1360868917232188, -0.382712079815374, -0.0882949780014785, -0.0035050460034809156, 1.2200036262631462, 0.20708725596394534, 0.24518777378961107, -0.9614960463159214, -0.18007055388579998, 1.693862038729409, 0.6880732306303996, -1.2237783345460118, 1.5778919118755526, -0.9399074605700591, 0.6502179718500561, 0.13984189631979266, 0.3902474711235353, 0.79574378145543, -0.3187089447730361, 1.7756327287360203, 0.11176970117547803, 1.1026687785809492, 1.2655186137877001, 2.631604659518769, 0.38632232634692665, 0.3918662734991667, -0.10269538819221184, 2.1050347354372656, -0.14728435081334065, 1.5928813916980802, -0.5640139867574012, -0.7625416520561131, 0.6299238973321293, 1.5259003230423187, 0.4556062123964385, -0.2699051707997322, 1.023416758001027, 0.8544257864781147, -0.2113121282276364, -0.9889838291299777, 0.6101685589425011, 0.01886452624200072, -0.9135960987704975, -0.01725436138227997, -0.7802532086851106, -0.37672890325294733, -2.152350636544527, -1.1683993670480606, 1.263532324992662, 0.312038748908657, 0.7780507500386404, 0.041471470158138804, -0.6020767411671846, 0.6249868830012129, 0.5405277670128545, -1.1176579751594906, -1.433072594514869, 1.8835573786822821, 1.2676267128436596, 0.18179383715069097, -0.6708996716626628, -0.8696775484368037, 0.1348973926892778, 0.12074046939337874, -0.4243922156902889, 0.346367856345538, 1.0526808565699703, -0.9373139607993218, -0.4420468917330237, 0.585751073752487, -0.22025857587135528, 0.48580639571538037, 1.1910452374445943, -0.8409995659483239, 1.2713211278296752, 0.6122183465394152, -0.3626153112574866, -0.9046816910222284, 1.492899576359809, -0.19437622093277626, -0.17496285589028385, 1.1661687648674532, -0.702440894291958, -0.9991504450455196, 1.015268304294555, -0.41527919626977905, 1.286684649424407, 1.0739953772854123, -0.5703063513870817, 1.039240915811815, 0.8877143919613583, 0.864296717575613, -0.26344490511936275, 0.2117153057332679, -1.5890334789342004, 1.1071474916095139, 0.04231235469678529, -0.5264821907576022], \"xaxis\": \"x14\", \"y\": [-0.21411274271333836, 0.3713237974686019, 1.0182433694657855, -0.9809308780644594, 0.11681415896180601, 0.056113925932592144, 1.038143121639036, -0.3092977150883147, -0.5433729141065714, -1.3196508208765234, -0.25708061763812173, 0.0037782350897909234, -0.2662763824170066, 0.0768552484861571, -0.9055776501046975, -1.0036356624024152, -2.97083366912784, 0.6983562301131403, -0.21374284452706516, 0.8684627325918218, -0.1861796533340893, 0.8116072183269627, 0.2479167382445622, -1.6149889045131847, 1.1122405866650933, -0.035202215333426747, 0.9464088148430557, -2.06551088435252, 1.8003719420270903, 1.3589645300664823, 2.813029349767026, -1.0659002960154034, -1.144289714564388, -0.24400458589547835, 0.07156212349079402, 2.6239711417649914, 0.7262306311124471, -2.0178252387141296, 0.9910007039302287, -0.52634820628823, 1.502801479836207, -2.5371826122745182, 0.46687136410253677, 0.3188656785987697, 0.7699121598333447, 0.15187763606796495, 0.2793597819924499, 1.3263442544398758, -0.7936811937701996, -0.15393616151120165, 0.05520688739259033, -1.8565385606752336, -0.32172545332466196, 0.5038075164847766, -1.9177966894565226, 0.9632920973705353, 1.3563311373052924, 0.34447531381624724, -0.4413867171527908, -0.956840945349693, -0.3893814338755863, -1.1579619966744505, -0.8886867830976829, -1.5514639240822634, -1.2843476076274045, 1.256439946960209, 0.4571796955089669, -0.6352941465719506, -0.01840227830138182, 0.012149583965205024, -0.7139596600384576, -2.2073603980461756, -0.3769142907166705, -1.1530851450231299, 0.6545482159160557, -1.419920770287892, 0.7929584155525694, 0.9508711081337505, 0.6127102026962786, 0.05790749951701337, -0.4669327658980801, -0.06445765660094958, 0.08303432679820061, 0.7832095356792245, 0.29008929899966, 0.9489372515059938, -1.8221105051652147, 0.25122468116482677, -0.688314804778081, 1.090724486112609, -0.5553079114238013, 0.782352967608839, 0.21959952494655974, -0.7372885183735969, 0.8495989359274342, 0.9781385987871037, 1.229655208571755, 1.3868570877160415, 0.8665666205235594, 1.6780863864864783], \"yaxis\": \"y14\"}, {\"line\": {\"color\": \"rgba(128, 128, 128, 1.0)\", \"dash\": \"solid\", \"shape\": \"linear\", \"width\": 1.3}, \"marker\": {\"size\": 2, \"symbol\": \"circle\"}, \"mode\": \"markers\", \"name\": \"D\", \"text\": \"\", \"type\": \"scatter\", \"x\": [-0.4426627042361103, -0.6399050472784629, 0.07358865068267394, -0.3091615362420584, -2.1105700846068247, -0.6987203494266411, 1.9987205565156225, -0.6497007420309667, 0.20538307212912799, 0.8983335644172407, 0.26287310136750575, 0.6107851851136252, -1.4363662311890355, 0.36206337951561535, -0.2298673448032176, 0.2265768162296731, 0.8249414689110565, -0.8416150285488005, -0.6309024477119458, -0.12020366953750442, -0.2008317397881813, 1.3158989235166834, -0.47561387029975616, 0.3692948659360093, -0.5097988799863549, -0.38238868688924915, -1.5443771107613438, 0.9322307087276408, -0.6038157686699996, 0.10854617372161343, 0.4078863543497139, -0.5974480890593209, 1.7927302989916816, -0.27167329817764774, -0.10515729655119894, 1.5046224508092376, 1.2765081652015136, 0.018901514535407556, -0.6981007178938509, 0.2996256016902793, 2.182783994787281, -0.8517021573495922, -0.6851326623649174, 1.503361473348288, -0.10553912688797204, 0.14975795420926277, 0.49007051098713633, 1.7947033295356172, -0.5715585020270864, -0.2381385005439792, -0.6997641418699387, 0.11917893539522223, 0.06952016281575028, 0.3275008663147888, -0.4215140848008329, -0.9496352371350686, -1.0980805451800228, 0.6125067193912569, 0.1864624725803467, -0.15136469674670028, 2.5960378688935712, 0.8593240545880897, 0.9587487407168636, 0.8607656944499196, -0.3765156391993082, -1.2186616142210775, 0.5178747433876127, -0.9975677063910462, -1.1910852286017317, -0.14787487928866896, -1.8047146319904626, 1.4712403371794966, -0.06781497409294958, -1.34104990666472, -0.10306844664005434, -0.6344963461811047, 0.9199220068790146, 0.5874686040801018, 0.27268255431433663, 2.545739441802707, 0.6586714984006848, 1.224730402961586, -2.7085386943159473, 0.01301733171174009, -0.2629659802082384, 0.04500540665017078, -1.7927350814706264, 0.44346558844281037, -0.36485627916302865, 1.8799723626101896, 0.6079096307392652, -0.810251652556461, 0.28478379146553534, 1.364369493564619, -0.6796767191131572, 0.4878983532993825, -0.9801955125025105, 1.3857556767911223, 0.7150505765825546, 2.380938657712917], \"xaxis\": \"x15\", \"y\": [-0.21411274271333836, 0.3713237974686019, 1.0182433694657855, -0.9809308780644594, 0.11681415896180601, 0.056113925932592144, 1.038143121639036, -0.3092977150883147, -0.5433729141065714, -1.3196508208765234, -0.25708061763812173, 0.0037782350897909234, -0.2662763824170066, 0.0768552484861571, -0.9055776501046975, -1.0036356624024152, -2.97083366912784, 0.6983562301131403, -0.21374284452706516, 0.8684627325918218, -0.1861796533340893, 0.8116072183269627, 0.2479167382445622, -1.6149889045131847, 1.1122405866650933, -0.035202215333426747, 0.9464088148430557, -2.06551088435252, 1.8003719420270903, 1.3589645300664823, 2.813029349767026, -1.0659002960154034, -1.144289714564388, -0.24400458589547835, 0.07156212349079402, 2.6239711417649914, 0.7262306311124471, -2.0178252387141296, 0.9910007039302287, -0.52634820628823, 1.502801479836207, -2.5371826122745182, 0.46687136410253677, 0.3188656785987697, 0.7699121598333447, 0.15187763606796495, 0.2793597819924499, 1.3263442544398758, -0.7936811937701996, -0.15393616151120165, 0.05520688739259033, -1.8565385606752336, -0.32172545332466196, 0.5038075164847766, -1.9177966894565226, 0.9632920973705353, 1.3563311373052924, 0.34447531381624724, -0.4413867171527908, -0.956840945349693, -0.3893814338755863, -1.1579619966744505, -0.8886867830976829, -1.5514639240822634, -1.2843476076274045, 1.256439946960209, 0.4571796955089669, -0.6352941465719506, -0.01840227830138182, 0.012149583965205024, -0.7139596600384576, -2.2073603980461756, -0.3769142907166705, -1.1530851450231299, 0.6545482159160557, -1.419920770287892, 0.7929584155525694, 0.9508711081337505, 0.6127102026962786, 0.05790749951701337, -0.4669327658980801, -0.06445765660094958, 0.08303432679820061, 0.7832095356792245, 0.29008929899966, 0.9489372515059938, -1.8221105051652147, 0.25122468116482677, -0.688314804778081, 1.090724486112609, -0.5553079114238013, 0.782352967608839, 0.21959952494655974, -0.7372885183735969, 0.8495989359274342, 0.9781385987871037, 1.229655208571755, 1.3868570877160415, 0.8665666205235594, 1.6780863864864783], \"yaxis\": \"y15\"}, {\"histfunc\": \"count\", \"histnorm\": \"\", \"marker\": {\"color\": \"rgba(128, 0, 128, 1.0)\", \"line\": {\"color\": \"#4D5663\", \"width\": 1.3}}, \"name\": \"D\", \"nbinsx\": 10, \"opacity\": 0.8, \"orientation\": \"v\", \"type\": \"histogram\", \"x\": [-0.21411274271333836, 0.3713237974686019, 1.0182433694657855, -0.9809308780644594, 0.11681415896180601, 0.056113925932592144, 1.038143121639036, -0.3092977150883147, -0.5433729141065714, -1.3196508208765234, -0.25708061763812173, 0.0037782350897909234, -0.2662763824170066, 0.0768552484861571, -0.9055776501046975, -1.0036356624024152, -2.97083366912784, 0.6983562301131403, -0.21374284452706516, 0.8684627325918218, -0.1861796533340893, 0.8116072183269627, 0.2479167382445622, -1.6149889045131847, 1.1122405866650933, -0.035202215333426747, 0.9464088148430557, -2.06551088435252, 1.8003719420270903, 1.3589645300664823, 2.813029349767026, -1.0659002960154034, -1.144289714564388, -0.24400458589547835, 0.07156212349079402, 2.6239711417649914, 0.7262306311124471, -2.0178252387141296, 0.9910007039302287, -0.52634820628823, 1.502801479836207, -2.5371826122745182, 0.46687136410253677, 0.3188656785987697, 0.7699121598333447, 0.15187763606796495, 0.2793597819924499, 1.3263442544398758, -0.7936811937701996, -0.15393616151120165, 0.05520688739259033, -1.8565385606752336, -0.32172545332466196, 0.5038075164847766, -1.9177966894565226, 0.9632920973705353, 1.3563311373052924, 0.34447531381624724, -0.4413867171527908, -0.956840945349693, -0.3893814338755863, -1.1579619966744505, -0.8886867830976829, -1.5514639240822634, -1.2843476076274045, 1.256439946960209, 0.4571796955089669, -0.6352941465719506, -0.01840227830138182, 0.012149583965205024, -0.7139596600384576, -2.2073603980461756, -0.3769142907166705, -1.1530851450231299, 0.6545482159160557, -1.419920770287892, 0.7929584155525694, 0.9508711081337505, 0.6127102026962786, 0.05790749951701337, -0.4669327658980801, -0.06445765660094958, 0.08303432679820061, 0.7832095356792245, 0.29008929899966, 0.9489372515059938, -1.8221105051652147, 0.25122468116482677, -0.688314804778081, 1.090724486112609, -0.5553079114238013, 0.782352967608839, 0.21959952494655974, -0.7372885183735969, 0.8495989359274342, 0.9781385987871037, 1.229655208571755, 1.3868570877160415, 0.8665666205235594, 1.6780863864864783], \"xaxis\": \"x16\", \"yaxis\": \"y16\"}],\n",
       "                        {\"bargap\": 0.02, \"legend\": {\"bgcolor\": \"#F5F6F9\", \"font\": {\"color\": \"#4D5663\"}}, \"paper_bgcolor\": \"#F5F6F9\", \"plot_bgcolor\": \"#F5F6F9\", \"showlegend\": false, \"template\": {\"data\": {\"bar\": [{\"error_x\": {\"color\": \"#2a3f5f\"}, \"error_y\": {\"color\": \"#2a3f5f\"}, \"marker\": {\"line\": {\"color\": \"#E5ECF6\", \"width\": 0.5}}, \"type\": \"bar\"}], \"barpolar\": [{\"marker\": {\"line\": {\"color\": \"#E5ECF6\", \"width\": 0.5}}, \"type\": \"barpolar\"}], \"carpet\": [{\"aaxis\": {\"endlinecolor\": \"#2a3f5f\", \"gridcolor\": \"white\", \"linecolor\": \"white\", \"minorgridcolor\": \"white\", \"startlinecolor\": \"#2a3f5f\"}, \"baxis\": {\"endlinecolor\": \"#2a3f5f\", \"gridcolor\": \"white\", \"linecolor\": \"white\", \"minorgridcolor\": \"white\", \"startlinecolor\": \"#2a3f5f\"}, \"type\": \"carpet\"}], \"choropleth\": [{\"colorbar\": {\"outlinewidth\": 0, \"ticks\": \"\"}, \"type\": \"choropleth\"}], \"contour\": [{\"colorbar\": {\"outlinewidth\": 0, \"ticks\": \"\"}, \"colorscale\": [[0.0, \"#0d0887\"], [0.1111111111111111, \"#46039f\"], [0.2222222222222222, \"#7201a8\"], [0.3333333333333333, \"#9c179e\"], [0.4444444444444444, \"#bd3786\"], [0.5555555555555556, \"#d8576b\"], [0.6666666666666666, \"#ed7953\"], [0.7777777777777778, \"#fb9f3a\"], [0.8888888888888888, \"#fdca26\"], [1.0, \"#f0f921\"]], \"type\": \"contour\"}], \"contourcarpet\": [{\"colorbar\": {\"outlinewidth\": 0, \"ticks\": \"\"}, \"type\": \"contourcarpet\"}], \"heatmap\": [{\"colorbar\": {\"outlinewidth\": 0, \"ticks\": \"\"}, \"colorscale\": [[0.0, \"#0d0887\"], [0.1111111111111111, \"#46039f\"], [0.2222222222222222, \"#7201a8\"], [0.3333333333333333, \"#9c179e\"], [0.4444444444444444, \"#bd3786\"], [0.5555555555555556, \"#d8576b\"], [0.6666666666666666, \"#ed7953\"], [0.7777777777777778, \"#fb9f3a\"], [0.8888888888888888, \"#fdca26\"], [1.0, \"#f0f921\"]], \"type\": \"heatmap\"}], \"heatmapgl\": [{\"colorbar\": {\"outlinewidth\": 0, \"ticks\": \"\"}, \"colorscale\": [[0.0, \"#0d0887\"], [0.1111111111111111, \"#46039f\"], [0.2222222222222222, \"#7201a8\"], [0.3333333333333333, \"#9c179e\"], [0.4444444444444444, \"#bd3786\"], [0.5555555555555556, \"#d8576b\"], [0.6666666666666666, \"#ed7953\"], [0.7777777777777778, \"#fb9f3a\"], [0.8888888888888888, \"#fdca26\"], [1.0, \"#f0f921\"]], \"type\": \"heatmapgl\"}], \"histogram\": [{\"marker\": {\"colorbar\": {\"outlinewidth\": 0, \"ticks\": \"\"}}, \"type\": \"histogram\"}], \"histogram2d\": [{\"colorbar\": {\"outlinewidth\": 0, \"ticks\": \"\"}, \"colorscale\": [[0.0, \"#0d0887\"], [0.1111111111111111, \"#46039f\"], [0.2222222222222222, \"#7201a8\"], [0.3333333333333333, \"#9c179e\"], [0.4444444444444444, \"#bd3786\"], [0.5555555555555556, \"#d8576b\"], [0.6666666666666666, \"#ed7953\"], [0.7777777777777778, \"#fb9f3a\"], [0.8888888888888888, \"#fdca26\"], [1.0, \"#f0f921\"]], \"type\": \"histogram2d\"}], \"histogram2dcontour\": [{\"colorbar\": {\"outlinewidth\": 0, \"ticks\": \"\"}, \"colorscale\": [[0.0, \"#0d0887\"], [0.1111111111111111, \"#46039f\"], [0.2222222222222222, \"#7201a8\"], [0.3333333333333333, \"#9c179e\"], [0.4444444444444444, \"#bd3786\"], [0.5555555555555556, \"#d8576b\"], [0.6666666666666666, \"#ed7953\"], [0.7777777777777778, \"#fb9f3a\"], [0.8888888888888888, \"#fdca26\"], [1.0, \"#f0f921\"]], \"type\": \"histogram2dcontour\"}], \"mesh3d\": [{\"colorbar\": {\"outlinewidth\": 0, \"ticks\": \"\"}, \"type\": \"mesh3d\"}], \"parcoords\": [{\"line\": {\"colorbar\": {\"outlinewidth\": 0, \"ticks\": \"\"}}, \"type\": \"parcoords\"}], \"pie\": [{\"automargin\": true, \"type\": \"pie\"}], \"scatter\": [{\"marker\": {\"colorbar\": {\"outlinewidth\": 0, \"ticks\": \"\"}}, \"type\": \"scatter\"}], \"scatter3d\": [{\"line\": {\"colorbar\": {\"outlinewidth\": 0, \"ticks\": \"\"}}, \"marker\": {\"colorbar\": {\"outlinewidth\": 0, \"ticks\": \"\"}}, \"type\": \"scatter3d\"}], \"scattercarpet\": [{\"marker\": {\"colorbar\": {\"outlinewidth\": 0, \"ticks\": \"\"}}, \"type\": \"scattercarpet\"}], \"scattergeo\": [{\"marker\": {\"colorbar\": {\"outlinewidth\": 0, \"ticks\": \"\"}}, \"type\": \"scattergeo\"}], \"scattergl\": [{\"marker\": {\"colorbar\": {\"outlinewidth\": 0, \"ticks\": \"\"}}, \"type\": \"scattergl\"}], \"scattermapbox\": [{\"marker\": {\"colorbar\": {\"outlinewidth\": 0, \"ticks\": \"\"}}, \"type\": \"scattermapbox\"}], \"scatterpolar\": [{\"marker\": {\"colorbar\": {\"outlinewidth\": 0, \"ticks\": \"\"}}, \"type\": \"scatterpolar\"}], \"scatterpolargl\": [{\"marker\": {\"colorbar\": {\"outlinewidth\": 0, \"ticks\": \"\"}}, \"type\": \"scatterpolargl\"}], \"scatterternary\": [{\"marker\": {\"colorbar\": {\"outlinewidth\": 0, \"ticks\": \"\"}}, \"type\": \"scatterternary\"}], \"surface\": [{\"colorbar\": {\"outlinewidth\": 0, \"ticks\": \"\"}, \"colorscale\": [[0.0, \"#0d0887\"], [0.1111111111111111, \"#46039f\"], [0.2222222222222222, \"#7201a8\"], [0.3333333333333333, \"#9c179e\"], [0.4444444444444444, \"#bd3786\"], [0.5555555555555556, \"#d8576b\"], [0.6666666666666666, \"#ed7953\"], [0.7777777777777778, \"#fb9f3a\"], [0.8888888888888888, \"#fdca26\"], [1.0, \"#f0f921\"]], \"type\": \"surface\"}], \"table\": [{\"cells\": {\"fill\": {\"color\": \"#EBF0F8\"}, \"line\": {\"color\": \"white\"}}, \"header\": {\"fill\": {\"color\": \"#C8D4E3\"}, \"line\": {\"color\": \"white\"}}, \"type\": \"table\"}]}, \"layout\": {\"annotationdefaults\": {\"arrowcolor\": \"#2a3f5f\", \"arrowhead\": 0, \"arrowwidth\": 1}, \"coloraxis\": {\"colorbar\": {\"outlinewidth\": 0, \"ticks\": \"\"}}, \"colorscale\": {\"diverging\": [[0, \"#8e0152\"], [0.1, \"#c51b7d\"], [0.2, \"#de77ae\"], [0.3, \"#f1b6da\"], [0.4, \"#fde0ef\"], [0.5, \"#f7f7f7\"], [0.6, \"#e6f5d0\"], [0.7, \"#b8e186\"], [0.8, \"#7fbc41\"], [0.9, \"#4d9221\"], [1, \"#276419\"]], \"sequential\": [[0.0, \"#0d0887\"], [0.1111111111111111, \"#46039f\"], [0.2222222222222222, \"#7201a8\"], [0.3333333333333333, \"#9c179e\"], [0.4444444444444444, \"#bd3786\"], [0.5555555555555556, \"#d8576b\"], [0.6666666666666666, \"#ed7953\"], [0.7777777777777778, \"#fb9f3a\"], [0.8888888888888888, \"#fdca26\"], [1.0, \"#f0f921\"]], \"sequentialminus\": [[0.0, \"#0d0887\"], [0.1111111111111111, \"#46039f\"], [0.2222222222222222, \"#7201a8\"], [0.3333333333333333, \"#9c179e\"], [0.4444444444444444, \"#bd3786\"], [0.5555555555555556, \"#d8576b\"], [0.6666666666666666, \"#ed7953\"], [0.7777777777777778, \"#fb9f3a\"], [0.8888888888888888, \"#fdca26\"], [1.0, \"#f0f921\"]]}, \"colorway\": [\"#636efa\", \"#EF553B\", \"#00cc96\", \"#ab63fa\", \"#FFA15A\", \"#19d3f3\", \"#FF6692\", \"#B6E880\", \"#FF97FF\", \"#FECB52\"], \"font\": {\"color\": \"#2a3f5f\"}, \"geo\": {\"bgcolor\": \"white\", \"lakecolor\": \"white\", \"landcolor\": \"#E5ECF6\", \"showlakes\": true, \"showland\": true, \"subunitcolor\": \"white\"}, \"hoverlabel\": {\"align\": \"left\"}, \"hovermode\": \"closest\", \"mapbox\": {\"style\": \"light\"}, \"paper_bgcolor\": \"white\", \"plot_bgcolor\": \"#E5ECF6\", \"polar\": {\"angularaxis\": {\"gridcolor\": \"white\", \"linecolor\": \"white\", \"ticks\": \"\"}, \"bgcolor\": \"#E5ECF6\", \"radialaxis\": {\"gridcolor\": \"white\", \"linecolor\": \"white\", \"ticks\": \"\"}}, \"scene\": {\"xaxis\": {\"backgroundcolor\": \"#E5ECF6\", \"gridcolor\": \"white\", \"gridwidth\": 2, \"linecolor\": \"white\", \"showbackground\": true, \"ticks\": \"\", \"zerolinecolor\": \"white\"}, \"yaxis\": {\"backgroundcolor\": \"#E5ECF6\", \"gridcolor\": \"white\", \"gridwidth\": 2, \"linecolor\": \"white\", \"showbackground\": true, \"ticks\": \"\", \"zerolinecolor\": \"white\"}, \"zaxis\": {\"backgroundcolor\": \"#E5ECF6\", \"gridcolor\": \"white\", \"gridwidth\": 2, \"linecolor\": \"white\", \"showbackground\": true, \"ticks\": \"\", \"zerolinecolor\": \"white\"}}, \"shapedefaults\": {\"line\": {\"color\": \"#2a3f5f\"}}, \"ternary\": {\"aaxis\": {\"gridcolor\": \"white\", \"linecolor\": \"white\", \"ticks\": \"\"}, \"baxis\": {\"gridcolor\": \"white\", \"linecolor\": \"white\", \"ticks\": \"\"}, \"bgcolor\": \"#E5ECF6\", \"caxis\": {\"gridcolor\": \"white\", \"linecolor\": \"white\", \"ticks\": \"\"}}, \"title\": {\"x\": 0.05}, \"xaxis\": {\"automargin\": true, \"gridcolor\": \"white\", \"linecolor\": \"white\", \"ticks\": \"\", \"title\": {\"standoff\": 15}, \"zerolinecolor\": \"white\", \"zerolinewidth\": 2}, \"yaxis\": {\"automargin\": true, \"gridcolor\": \"white\", \"linecolor\": \"white\", \"ticks\": \"\", \"title\": {\"standoff\": 15}, \"zerolinecolor\": \"white\", \"zerolinewidth\": 2}}}, \"title\": {\"font\": {\"color\": \"#4D5663\"}}, \"xaxis\": {\"anchor\": \"y\", \"domain\": [0.0, 0.2125], \"gridcolor\": \"#E1E5ED\", \"showgrid\": false, \"tickfont\": {\"color\": \"#4D5663\"}, \"title\": {\"font\": {\"color\": \"#4D5663\"}, \"text\": \"\"}, \"zerolinecolor\": \"#E1E5ED\"}, \"xaxis10\": {\"anchor\": \"y10\", \"domain\": [0.2625, 0.475], \"gridcolor\": \"#E1E5ED\", \"showgrid\": false, \"tickfont\": {\"color\": \"#4D5663\"}, \"title\": {\"font\": {\"color\": \"#4D5663\"}, \"text\": \"\"}, \"zerolinecolor\": \"#E1E5ED\"}, \"xaxis11\": {\"anchor\": \"y11\", \"domain\": [0.525, 0.7375], \"gridcolor\": \"#E1E5ED\", \"showgrid\": false, \"tickfont\": {\"color\": \"#4D5663\"}, \"title\": {\"font\": {\"color\": \"#4D5663\"}, \"text\": \"\"}, \"zerolinecolor\": \"#E1E5ED\"}, \"xaxis12\": {\"anchor\": \"y12\", \"domain\": [0.7875, 1.0], \"gridcolor\": \"#E1E5ED\", \"showgrid\": false, \"tickfont\": {\"color\": \"#4D5663\"}, \"title\": {\"font\": {\"color\": \"#4D5663\"}, \"text\": \"\"}, \"zerolinecolor\": \"#E1E5ED\"}, \"xaxis13\": {\"anchor\": \"y13\", \"domain\": [0.0, 0.2125], \"gridcolor\": \"#E1E5ED\", \"showgrid\": false, \"tickfont\": {\"color\": \"#4D5663\"}, \"title\": {\"font\": {\"color\": \"#4D5663\"}, \"text\": \"\"}, \"zerolinecolor\": \"#E1E5ED\"}, \"xaxis14\": {\"anchor\": \"y14\", \"domain\": [0.2625, 0.475], \"gridcolor\": \"#E1E5ED\", \"showgrid\": false, \"tickfont\": {\"color\": \"#4D5663\"}, \"title\": {\"font\": {\"color\": \"#4D5663\"}, \"text\": \"\"}, \"zerolinecolor\": \"#E1E5ED\"}, \"xaxis15\": {\"anchor\": \"y15\", \"domain\": [0.525, 0.7375], \"gridcolor\": \"#E1E5ED\", \"showgrid\": false, \"tickfont\": {\"color\": \"#4D5663\"}, \"title\": {\"font\": {\"color\": \"#4D5663\"}, \"text\": \"\"}, \"zerolinecolor\": \"#E1E5ED\"}, \"xaxis16\": {\"anchor\": \"y16\", \"domain\": [0.7875, 1.0], \"gridcolor\": \"#E1E5ED\", \"showgrid\": false, \"tickfont\": {\"color\": \"#4D5663\"}, \"title\": {\"font\": {\"color\": \"#4D5663\"}, \"text\": \"\"}, \"zerolinecolor\": \"#E1E5ED\"}, \"xaxis2\": {\"anchor\": \"y2\", \"domain\": [0.2625, 0.475], \"gridcolor\": \"#E1E5ED\", \"showgrid\": false, \"tickfont\": {\"color\": \"#4D5663\"}, \"title\": {\"font\": {\"color\": \"#4D5663\"}, \"text\": \"\"}, \"zerolinecolor\": \"#E1E5ED\"}, \"xaxis3\": {\"anchor\": \"y3\", \"domain\": [0.525, 0.7375], \"gridcolor\": \"#E1E5ED\", \"showgrid\": false, \"tickfont\": {\"color\": \"#4D5663\"}, \"title\": {\"font\": {\"color\": \"#4D5663\"}, \"text\": \"\"}, \"zerolinecolor\": \"#E1E5ED\"}, \"xaxis4\": {\"anchor\": \"y4\", \"domain\": [0.7875, 1.0], \"gridcolor\": \"#E1E5ED\", \"showgrid\": false, \"tickfont\": {\"color\": \"#4D5663\"}, \"title\": {\"font\": {\"color\": \"#4D5663\"}, \"text\": \"\"}, \"zerolinecolor\": \"#E1E5ED\"}, \"xaxis5\": {\"anchor\": \"y5\", \"domain\": [0.0, 0.2125], \"gridcolor\": \"#E1E5ED\", \"showgrid\": false, \"tickfont\": {\"color\": \"#4D5663\"}, \"title\": {\"font\": {\"color\": \"#4D5663\"}, \"text\": \"\"}, \"zerolinecolor\": \"#E1E5ED\"}, \"xaxis6\": {\"anchor\": \"y6\", \"domain\": [0.2625, 0.475], \"gridcolor\": \"#E1E5ED\", \"showgrid\": false, \"tickfont\": {\"color\": \"#4D5663\"}, \"title\": {\"font\": {\"color\": \"#4D5663\"}, \"text\": \"\"}, \"zerolinecolor\": \"#E1E5ED\"}, \"xaxis7\": {\"anchor\": \"y7\", \"domain\": [0.525, 0.7375], \"gridcolor\": \"#E1E5ED\", \"showgrid\": false, \"tickfont\": {\"color\": \"#4D5663\"}, \"title\": {\"font\": {\"color\": \"#4D5663\"}, \"text\": \"\"}, \"zerolinecolor\": \"#E1E5ED\"}, \"xaxis8\": {\"anchor\": \"y8\", \"domain\": [0.7875, 1.0], \"gridcolor\": \"#E1E5ED\", \"showgrid\": false, \"tickfont\": {\"color\": \"#4D5663\"}, \"title\": {\"font\": {\"color\": \"#4D5663\"}, \"text\": \"\"}, \"zerolinecolor\": \"#E1E5ED\"}, \"xaxis9\": {\"anchor\": \"y9\", \"domain\": [0.0, 0.2125], \"gridcolor\": \"#E1E5ED\", \"showgrid\": false, \"tickfont\": {\"color\": \"#4D5663\"}, \"title\": {\"font\": {\"color\": \"#4D5663\"}, \"text\": \"\"}, \"zerolinecolor\": \"#E1E5ED\"}, \"yaxis\": {\"anchor\": \"x\", \"domain\": [0.8025, 1.0], \"gridcolor\": \"#E1E5ED\", \"showgrid\": false, \"tickfont\": {\"color\": \"#4D5663\"}, \"title\": {\"font\": {\"color\": \"#4D5663\"}, \"text\": \"\"}, \"zerolinecolor\": \"#E1E5ED\"}, \"yaxis10\": {\"anchor\": \"x10\", \"domain\": [0.2675, 0.465], \"gridcolor\": \"#E1E5ED\", \"showgrid\": false, \"tickfont\": {\"color\": \"#4D5663\"}, \"title\": {\"font\": {\"color\": \"#4D5663\"}, \"text\": \"\"}, \"zerolinecolor\": \"#E1E5ED\"}, \"yaxis11\": {\"anchor\": \"x11\", \"domain\": [0.2675, 0.465], \"gridcolor\": \"#E1E5ED\", \"showgrid\": false, \"tickfont\": {\"color\": \"#4D5663\"}, \"title\": {\"font\": {\"color\": \"#4D5663\"}, \"text\": \"\"}, \"zerolinecolor\": \"#E1E5ED\"}, \"yaxis12\": {\"anchor\": \"x12\", \"domain\": [0.2675, 0.465], \"gridcolor\": \"#E1E5ED\", \"showgrid\": false, \"tickfont\": {\"color\": \"#4D5663\"}, \"title\": {\"font\": {\"color\": \"#4D5663\"}, \"text\": \"\"}, \"zerolinecolor\": \"#E1E5ED\"}, \"yaxis13\": {\"anchor\": \"x13\", \"domain\": [0.0, 0.1975], \"gridcolor\": \"#E1E5ED\", \"showgrid\": false, \"tickfont\": {\"color\": \"#4D5663\"}, \"title\": {\"font\": {\"color\": \"#4D5663\"}, \"text\": \"\"}, \"zerolinecolor\": \"#E1E5ED\"}, \"yaxis14\": {\"anchor\": \"x14\", \"domain\": [0.0, 0.1975], \"gridcolor\": \"#E1E5ED\", \"showgrid\": false, \"tickfont\": {\"color\": \"#4D5663\"}, \"title\": {\"font\": {\"color\": \"#4D5663\"}, \"text\": \"\"}, \"zerolinecolor\": \"#E1E5ED\"}, \"yaxis15\": {\"anchor\": \"x15\", \"domain\": [0.0, 0.1975], \"gridcolor\": \"#E1E5ED\", \"showgrid\": false, \"tickfont\": {\"color\": \"#4D5663\"}, \"title\": {\"font\": {\"color\": \"#4D5663\"}, \"text\": \"\"}, \"zerolinecolor\": \"#E1E5ED\"}, \"yaxis16\": {\"anchor\": \"x16\", \"domain\": [0.0, 0.1975], \"gridcolor\": \"#E1E5ED\", \"showgrid\": false, \"tickfont\": {\"color\": \"#4D5663\"}, \"title\": {\"font\": {\"color\": \"#4D5663\"}, \"text\": \"\"}, \"zerolinecolor\": \"#E1E5ED\"}, \"yaxis2\": {\"anchor\": \"x2\", \"domain\": [0.8025, 1.0], \"gridcolor\": \"#E1E5ED\", \"showgrid\": false, \"tickfont\": {\"color\": \"#4D5663\"}, \"title\": {\"font\": {\"color\": \"#4D5663\"}, \"text\": \"\"}, \"zerolinecolor\": \"#E1E5ED\"}, \"yaxis3\": {\"anchor\": \"x3\", \"domain\": [0.8025, 1.0], \"gridcolor\": \"#E1E5ED\", \"showgrid\": false, \"tickfont\": {\"color\": \"#4D5663\"}, \"title\": {\"font\": {\"color\": \"#4D5663\"}, \"text\": \"\"}, \"zerolinecolor\": \"#E1E5ED\"}, \"yaxis4\": {\"anchor\": \"x4\", \"domain\": [0.8025, 1.0], \"gridcolor\": \"#E1E5ED\", \"showgrid\": false, \"tickfont\": {\"color\": \"#4D5663\"}, \"title\": {\"font\": {\"color\": \"#4D5663\"}, \"text\": \"\"}, \"zerolinecolor\": \"#E1E5ED\"}, \"yaxis5\": {\"anchor\": \"x5\", \"domain\": [0.535, 0.7325], \"gridcolor\": \"#E1E5ED\", \"showgrid\": false, \"tickfont\": {\"color\": \"#4D5663\"}, \"title\": {\"font\": {\"color\": \"#4D5663\"}, \"text\": \"\"}, \"zerolinecolor\": \"#E1E5ED\"}, \"yaxis6\": {\"anchor\": \"x6\", \"domain\": [0.535, 0.7325], \"gridcolor\": \"#E1E5ED\", \"showgrid\": false, \"tickfont\": {\"color\": \"#4D5663\"}, \"title\": {\"font\": {\"color\": \"#4D5663\"}, \"text\": \"\"}, \"zerolinecolor\": \"#E1E5ED\"}, \"yaxis7\": {\"anchor\": \"x7\", \"domain\": [0.535, 0.7325], \"gridcolor\": \"#E1E5ED\", \"showgrid\": false, \"tickfont\": {\"color\": \"#4D5663\"}, \"title\": {\"font\": {\"color\": \"#4D5663\"}, \"text\": \"\"}, \"zerolinecolor\": \"#E1E5ED\"}, \"yaxis8\": {\"anchor\": \"x8\", \"domain\": [0.535, 0.7325], \"gridcolor\": \"#E1E5ED\", \"showgrid\": false, \"tickfont\": {\"color\": \"#4D5663\"}, \"title\": {\"font\": {\"color\": \"#4D5663\"}, \"text\": \"\"}, \"zerolinecolor\": \"#E1E5ED\"}, \"yaxis9\": {\"anchor\": \"x9\", \"domain\": [0.2675, 0.465], \"gridcolor\": \"#E1E5ED\", \"showgrid\": false, \"tickfont\": {\"color\": \"#4D5663\"}, \"title\": {\"font\": {\"color\": \"#4D5663\"}, \"text\": \"\"}, \"zerolinecolor\": \"#E1E5ED\"}},\n",
       "                        {\"showLink\": true, \"linkText\": \"Export to plot.ly\", \"plotlyServerURL\": \"https://plot.ly\", \"responsive\": true}\n",
       "                    ).then(function(){\n",
       "                            \n",
       "var gd = document.getElementById('3dd7552f-36c5-4912-aadf-4344a4ec4e78');\n",
       "var x = new MutationObserver(function (mutations, observer) {{\n",
       "        var display = window.getComputedStyle(gd).display;\n",
       "        if (!display || display === 'none') {{\n",
       "            console.log([gd, 'removed!']);\n",
       "            Plotly.purge(gd);\n",
       "            observer.disconnect();\n",
       "        }}\n",
       "}});\n",
       "\n",
       "// Listen for the removal of the full notebook cells\n",
       "var notebookContainer = gd.closest('#notebook-container');\n",
       "if (notebookContainer) {{\n",
       "    x.observe(notebookContainer, {childList: true});\n",
       "}}\n",
       "\n",
       "// Listen for the clearing of the current output cell\n",
       "var outputEl = gd.closest('.output');\n",
       "if (outputEl) {{\n",
       "    x.observe(outputEl, {childList: true});\n",
       "}}\n",
       "\n",
       "                        })\n",
       "                };\n",
       "                });\n",
       "            </script>\n",
       "        </div>"
      ]
     },
     "metadata": {},
     "output_type": "display_data"
    }
   ],
   "source": [
    "df.scatter_matrix()"
   ]
  },
  {
   "cell_type": "markdown",
   "metadata": {
    "collapsed": true
   },
   "source": [
    "# Great Job!"
   ]
  }
 ],
 "metadata": {
  "kernelspec": {
   "display_name": "Python 3",
   "language": "python",
   "name": "python3"
  },
  "language_info": {
   "codemirror_mode": {
    "name": "ipython",
    "version": 3
   },
   "file_extension": ".py",
   "mimetype": "text/x-python",
   "name": "python",
   "nbconvert_exporter": "python",
   "pygments_lexer": "ipython3",
   "version": "3.7.3"
  }
 },
 "nbformat": 4,
 "nbformat_minor": 1
}
