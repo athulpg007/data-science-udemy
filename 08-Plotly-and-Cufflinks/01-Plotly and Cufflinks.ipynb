{
 "cells": [
  {
   "cell_type": "markdown",
   "metadata": {},
   "source": [
    "___\n",
    "\n",
    "<a href='http://www.pieriandata.com'> <img src='../Pierian_Data_Logo.png' /></a>\n",
    "___\n",
    "# Plotly and Cufflinks"
   ]
  },
  {
   "cell_type": "markdown",
   "metadata": {},
   "source": [
    "Plotly is a library that allows you to create interactive plots that you can use in dashboards or websites (you can save them as html files or static images).\n",
    "\n",
    "## Installation\n",
    "\n",
    "In order for this all to work, you'll need to install plotly and cufflinks to call plots directly off of a pandas dataframe. These libraries are not currently available through **conda** but are available through **pip**. Install the libraries at your command line/terminal using:\n",
    "\n",
    "    pip install plotly\n",
    "    pip install cufflinks\n",
    "\n",
    "** NOTE: Make sure you only have one installation of Python on your computer when you do this, otherwise the installation may not work. **\n",
    "\n",
    "## Imports and Set-up"
   ]
  },
  {
   "cell_type": "code",
   "execution_count": 1,
   "metadata": {},
   "outputs": [],
   "source": [
    "import pandas as pd\n",
    "import numpy as np\n",
    "%matplotlib inline"
   ]
  },
  {
   "cell_type": "code",
   "execution_count": 2,
   "metadata": {},
   "outputs": [
    {
     "name": "stdout",
     "output_type": "stream",
     "text": [
      "4.8.1\n"
     ]
    }
   ],
   "source": [
    "from plotly import __version__\n",
    "from plotly.offline import download_plotlyjs, init_notebook_mode, plot, iplot\n",
    "\n",
    "print(__version__) # requires version >= 1.9.0"
   ]
  },
  {
   "cell_type": "code",
   "execution_count": 3,
   "metadata": {},
   "outputs": [],
   "source": [
    "import cufflinks as cf"
   ]
  },
  {
   "cell_type": "code",
   "execution_count": 4,
   "metadata": {},
   "outputs": [
    {
     "data": {
      "text/html": [
       "        <script type=\"text/javascript\">\n",
       "        window.PlotlyConfig = {MathJaxConfig: 'local'};\n",
       "        if (window.MathJax) {MathJax.Hub.Config({SVG: {font: \"STIX-Web\"}});}\n",
       "        if (typeof require !== 'undefined') {\n",
       "        require.undef(\"plotly\");\n",
       "        requirejs.config({\n",
       "            paths: {\n",
       "                'plotly': ['https://cdn.plot.ly/plotly-latest.min']\n",
       "            }\n",
       "        });\n",
       "        require(['plotly'], function(Plotly) {\n",
       "            window._Plotly = Plotly;\n",
       "        });\n",
       "        }\n",
       "        </script>\n",
       "        "
      ]
     },
     "metadata": {},
     "output_type": "display_data"
    }
   ],
   "source": [
    "# For Notebooks\n",
    "init_notebook_mode(connected=True)"
   ]
  },
  {
   "cell_type": "code",
   "execution_count": 5,
   "metadata": {},
   "outputs": [
    {
     "data": {
      "text/html": [
       "        <script type=\"text/javascript\">\n",
       "        window.PlotlyConfig = {MathJaxConfig: 'local'};\n",
       "        if (window.MathJax) {MathJax.Hub.Config({SVG: {font: \"STIX-Web\"}});}\n",
       "        if (typeof require !== 'undefined') {\n",
       "        require.undef(\"plotly\");\n",
       "        requirejs.config({\n",
       "            paths: {\n",
       "                'plotly': ['https://cdn.plot.ly/plotly-latest.min']\n",
       "            }\n",
       "        });\n",
       "        require(['plotly'], function(Plotly) {\n",
       "            window._Plotly = Plotly;\n",
       "        });\n",
       "        }\n",
       "        </script>\n",
       "        "
      ]
     },
     "metadata": {},
     "output_type": "display_data"
    }
   ],
   "source": [
    "# For offline use\n",
    "cf.go_offline()"
   ]
  },
  {
   "cell_type": "markdown",
   "metadata": {},
   "source": [
    "### Fake Data"
   ]
  },
  {
   "cell_type": "code",
   "execution_count": 6,
   "metadata": {},
   "outputs": [],
   "source": [
    "df = pd.DataFrame(np.random.randn(100,4),columns='A B C D'.split())"
   ]
  },
  {
   "cell_type": "code",
   "execution_count": 7,
   "metadata": {},
   "outputs": [
    {
     "data": {
      "text/html": [
       "<div>\n",
       "<style scoped>\n",
       "    .dataframe tbody tr th:only-of-type {\n",
       "        vertical-align: middle;\n",
       "    }\n",
       "\n",
       "    .dataframe tbody tr th {\n",
       "        vertical-align: top;\n",
       "    }\n",
       "\n",
       "    .dataframe thead th {\n",
       "        text-align: right;\n",
       "    }\n",
       "</style>\n",
       "<table border=\"1\" class=\"dataframe\">\n",
       "  <thead>\n",
       "    <tr style=\"text-align: right;\">\n",
       "      <th></th>\n",
       "      <th>A</th>\n",
       "      <th>B</th>\n",
       "      <th>C</th>\n",
       "      <th>D</th>\n",
       "    </tr>\n",
       "  </thead>\n",
       "  <tbody>\n",
       "    <tr>\n",
       "      <th>0</th>\n",
       "      <td>0.881287</td>\n",
       "      <td>-0.617643</td>\n",
       "      <td>0.133539</td>\n",
       "      <td>-0.736299</td>\n",
       "    </tr>\n",
       "    <tr>\n",
       "      <th>1</th>\n",
       "      <td>0.052603</td>\n",
       "      <td>0.270858</td>\n",
       "      <td>0.394978</td>\n",
       "      <td>-1.015706</td>\n",
       "    </tr>\n",
       "    <tr>\n",
       "      <th>2</th>\n",
       "      <td>1.008602</td>\n",
       "      <td>-1.540836</td>\n",
       "      <td>0.395409</td>\n",
       "      <td>-0.435057</td>\n",
       "    </tr>\n",
       "    <tr>\n",
       "      <th>3</th>\n",
       "      <td>0.773501</td>\n",
       "      <td>-0.403536</td>\n",
       "      <td>-0.358417</td>\n",
       "      <td>0.524345</td>\n",
       "    </tr>\n",
       "    <tr>\n",
       "      <th>4</th>\n",
       "      <td>-1.479896</td>\n",
       "      <td>-1.126624</td>\n",
       "      <td>0.657761</td>\n",
       "      <td>0.785567</td>\n",
       "    </tr>\n",
       "  </tbody>\n",
       "</table>\n",
       "</div>"
      ],
      "text/plain": [
       "          A         B         C         D\n",
       "0  0.881287 -0.617643  0.133539 -0.736299\n",
       "1  0.052603  0.270858  0.394978 -1.015706\n",
       "2  1.008602 -1.540836  0.395409 -0.435057\n",
       "3  0.773501 -0.403536 -0.358417  0.524345\n",
       "4 -1.479896 -1.126624  0.657761  0.785567"
      ]
     },
     "execution_count": 7,
     "metadata": {},
     "output_type": "execute_result"
    }
   ],
   "source": [
    "df.head()"
   ]
  },
  {
   "cell_type": "code",
   "execution_count": 8,
   "metadata": {},
   "outputs": [],
   "source": [
    "df2 = pd.DataFrame({'Category':['A','B','C'],'Values':[32,43,50]})"
   ]
  },
  {
   "cell_type": "code",
   "execution_count": 9,
   "metadata": {},
   "outputs": [
    {
     "data": {
      "text/html": [
       "<div>\n",
       "<style scoped>\n",
       "    .dataframe tbody tr th:only-of-type {\n",
       "        vertical-align: middle;\n",
       "    }\n",
       "\n",
       "    .dataframe tbody tr th {\n",
       "        vertical-align: top;\n",
       "    }\n",
       "\n",
       "    .dataframe thead th {\n",
       "        text-align: right;\n",
       "    }\n",
       "</style>\n",
       "<table border=\"1\" class=\"dataframe\">\n",
       "  <thead>\n",
       "    <tr style=\"text-align: right;\">\n",
       "      <th></th>\n",
       "      <th>Category</th>\n",
       "      <th>Values</th>\n",
       "    </tr>\n",
       "  </thead>\n",
       "  <tbody>\n",
       "    <tr>\n",
       "      <th>0</th>\n",
       "      <td>A</td>\n",
       "      <td>32</td>\n",
       "    </tr>\n",
       "    <tr>\n",
       "      <th>1</th>\n",
       "      <td>B</td>\n",
       "      <td>43</td>\n",
       "    </tr>\n",
       "    <tr>\n",
       "      <th>2</th>\n",
       "      <td>C</td>\n",
       "      <td>50</td>\n",
       "    </tr>\n",
       "  </tbody>\n",
       "</table>\n",
       "</div>"
      ],
      "text/plain": [
       "  Category  Values\n",
       "0        A      32\n",
       "1        B      43\n",
       "2        C      50"
      ]
     },
     "execution_count": 9,
     "metadata": {},
     "output_type": "execute_result"
    }
   ],
   "source": [
    "df2.head()"
   ]
  },
  {
   "cell_type": "markdown",
   "metadata": {},
   "source": [
    "## Using Cufflinks and iplot()\n",
    "\n",
    "* scatter\n",
    "* bar\n",
    "* box\n",
    "* spread\n",
    "* ratio\n",
    "* heatmap\n",
    "* surface\n",
    "* histogram\n",
    "* bubble"
   ]
  },
  {
   "cell_type": "markdown",
   "metadata": {},
   "source": [
    "## Scatter"
   ]
  },
  {
   "cell_type": "code",
   "execution_count": 10,
   "metadata": {},
   "outputs": [
    {
     "data": {
      "application/vnd.plotly.v1+json": {
       "config": {
        "linkText": "Export to plot.ly",
        "plotlyServerURL": "https://plot.ly",
        "showLink": true
       },
       "data": [
        {
         "line": {
          "color": "rgba(255, 153, 51, 1.0)",
          "dash": "solid",
          "shape": "linear",
          "width": 1.3
         },
         "marker": {
          "size": 10,
          "symbol": "circle"
         },
         "mode": "markers",
         "name": "B",
         "text": "",
         "type": "scatter",
         "x": [
          0.8812869911184532,
          0.05260307890781848,
          1.0086019237679735,
          0.7735010115093424,
          -1.4798956576894429,
          0.8198463854589676,
          -1.2040817541874034,
          1.2699627475937838,
          -0.11345290001222112,
          0.1719844573795438,
          0.15838069667534363,
          1.27603061544194,
          -0.9424947572677399,
          2.1441741674254358,
          0.6508245211538712,
          0.3799749204007522,
          -1.0966510835250745,
          2.9842941329302737,
          -1.461864535325355,
          0.013081837992017068,
          -0.6178914209129064,
          -1.2896220084110415,
          0.5259820892490585,
          1.8213702945554302,
          0.8776244059109155,
          -0.34974595493858474,
          1.0418905894703157,
          1.5750095252645675,
          -0.024119632598965997,
          -0.8111034377683791,
          -1.5948617107184606,
          -0.15088026593594045,
          0.29575292517525564,
          0.40012272033796553,
          0.12573090497695202,
          0.36065966641021524,
          -0.005272947521793114,
          -0.3631194328241745,
          -0.42812218680133973,
          0.6666313352093304,
          -1.262945392514322,
          -0.32225440882849204,
          -1.424749497092938,
          -0.8910437992204715,
          0.7839849188648874,
          -0.9144901095782141,
          0.1768051911980829,
          -0.8675263969771217,
          0.6256814187311011,
          0.03528946102297187,
          -0.3626963391566758,
          -0.7028468922169727,
          1.2513720123613916,
          1.2000469024099973,
          0.9226024123992664,
          -1.366913696093309,
          -1.8926281424222031,
          -0.9253767647064,
          -0.38227139964091267,
          -0.9480858551506455,
          0.35918708257044574,
          0.6856435883732223,
          1.022387859708728,
          -1.2247530099619848,
          -2.422236055967968,
          2.16759153499099,
          0.79906341269673,
          0.45824253672922993,
          -1.4412402314503123,
          -0.692035342235428,
          0.2752804037565924,
          -0.9283622086105866,
          1.2253264363702223,
          2.011921715731842,
          -1.0141917691436357,
          -1.6814567853811353,
          0.3311828197363062,
          0.33049426204518395,
          0.807888420683415,
          0.19550968531256327,
          -0.09828648455536405,
          0.001838581371809573,
          -0.23473452864196656,
          1.3936577497115439,
          0.1921873435666354,
          -1.4102970375344719,
          -1.850135838866847,
          0.580157677241555,
          -0.8703051862721886,
          -0.2748984826461829,
          -0.9139044484992954,
          0.38912754303836977,
          1.1284322673468994,
          -0.47094526990649516,
          -1.5039535607679495,
          -0.5100415536363496,
          -0.8590745889148993,
          -1.311647941164508,
          0.2344890320855352,
          0.16386087529568444
         ],
         "y": [
          -0.6176431754916366,
          0.2708582735313909,
          -1.540835833392384,
          -0.4035361915306973,
          -1.1266237077790675,
          0.5407621043809193,
          0.0052672995344969714,
          0.2182764128756272,
          0.6672327888727164,
          0.3963506613002244,
          0.6535368367393999,
          0.8240988668851247,
          -0.7546977599977602,
          -0.5158882436212068,
          -0.14134838179766704,
          1.1150969655695877,
          -1.5714997933954131,
          -0.2570051664700367,
          -0.8650919115630591,
          0.6165897275099402,
          0.9287942558187207,
          0.04050055028890707,
          -0.7222381670693432,
          0.7805733477609783,
          0.09243004140096453,
          1.032462277400557,
          0.4687929049698868,
          1.0641351870408824,
          -1.9013728141379314,
          0.8067346608357602,
          -1.5333923182844509,
          0.11105549090399285,
          -0.9373951056502263,
          1.834234717008625,
          -0.48765301492904783,
          -2.6477938956806932,
          1.0833572542811778,
          -0.22463212807599026,
          0.08850647680920762,
          -0.9416201117162727,
          1.6286184663411916,
          0.4766047584294469,
          -0.5907002205596157,
          0.2204085506044614,
          0.12749076632804768,
          0.5020777348069793,
          0.38461358099854154,
          -0.3534897435380235,
          0.3840183272325568,
          0.829373756112191,
          -0.8735441071828836,
          -0.16217036233698498,
          -0.4664575928281782,
          1.8103978796855855,
          -0.14317177978437443,
          0.3579558294138091,
          0.09050558142059084,
          -1.4279525633431434,
          1.5603926293829051,
          0.017912530049688312,
          -0.006997058984752426,
          0.141998783058133,
          -1.817736664165537,
          -0.1700171114502153,
          -0.20376546540403428,
          0.22658197424561566,
          0.9916875389450946,
          -0.8532732650440285,
          -0.30306781483492656,
          1.4622247652068743,
          -0.47078684313976743,
          1.213975739723958,
          -0.7671337636464226,
          -0.3576745011114723,
          1.2768626778125454,
          1.046885086094673,
          2.205582161965762,
          -0.7509025674730502,
          0.9425078130154034,
          -0.8150732574878063,
          0.02348229140704502,
          -0.8797993593313506,
          -0.2769164862417134,
          -0.17996268625966028,
          1.2033516904462902,
          0.9576577397716123,
          -0.4921047902944592,
          -0.41155344829335316,
          1.9239340077491514,
          0.25073927942061014,
          -1.1916676782208075,
          -0.8357131446446306,
          0.45779279463016465,
          -0.6029772508882748,
          0.8943467112609861,
          -0.6976652557264528,
          -0.3301180322416286,
          1.6109076948151873,
          -1.3805366268493138,
          -0.897446984170169
         ]
        }
       ],
       "layout": {
        "legend": {
         "bgcolor": "#F5F6F9",
         "font": {
          "color": "#4D5663"
         }
        },
        "paper_bgcolor": "#F5F6F9",
        "plot_bgcolor": "#F5F6F9",
        "template": {
         "data": {
          "bar": [
           {
            "error_x": {
             "color": "#2a3f5f"
            },
            "error_y": {
             "color": "#2a3f5f"
            },
            "marker": {
             "line": {
              "color": "#E5ECF6",
              "width": 0.5
             }
            },
            "type": "bar"
           }
          ],
          "barpolar": [
           {
            "marker": {
             "line": {
              "color": "#E5ECF6",
              "width": 0.5
             }
            },
            "type": "barpolar"
           }
          ],
          "carpet": [
           {
            "aaxis": {
             "endlinecolor": "#2a3f5f",
             "gridcolor": "white",
             "linecolor": "white",
             "minorgridcolor": "white",
             "startlinecolor": "#2a3f5f"
            },
            "baxis": {
             "endlinecolor": "#2a3f5f",
             "gridcolor": "white",
             "linecolor": "white",
             "minorgridcolor": "white",
             "startlinecolor": "#2a3f5f"
            },
            "type": "carpet"
           }
          ],
          "choropleth": [
           {
            "colorbar": {
             "outlinewidth": 0,
             "ticks": ""
            },
            "type": "choropleth"
           }
          ],
          "contour": [
           {
            "colorbar": {
             "outlinewidth": 0,
             "ticks": ""
            },
            "colorscale": [
             [
              0,
              "#0d0887"
             ],
             [
              0.1111111111111111,
              "#46039f"
             ],
             [
              0.2222222222222222,
              "#7201a8"
             ],
             [
              0.3333333333333333,
              "#9c179e"
             ],
             [
              0.4444444444444444,
              "#bd3786"
             ],
             [
              0.5555555555555556,
              "#d8576b"
             ],
             [
              0.6666666666666666,
              "#ed7953"
             ],
             [
              0.7777777777777778,
              "#fb9f3a"
             ],
             [
              0.8888888888888888,
              "#fdca26"
             ],
             [
              1,
              "#f0f921"
             ]
            ],
            "type": "contour"
           }
          ],
          "contourcarpet": [
           {
            "colorbar": {
             "outlinewidth": 0,
             "ticks": ""
            },
            "type": "contourcarpet"
           }
          ],
          "heatmap": [
           {
            "colorbar": {
             "outlinewidth": 0,
             "ticks": ""
            },
            "colorscale": [
             [
              0,
              "#0d0887"
             ],
             [
              0.1111111111111111,
              "#46039f"
             ],
             [
              0.2222222222222222,
              "#7201a8"
             ],
             [
              0.3333333333333333,
              "#9c179e"
             ],
             [
              0.4444444444444444,
              "#bd3786"
             ],
             [
              0.5555555555555556,
              "#d8576b"
             ],
             [
              0.6666666666666666,
              "#ed7953"
             ],
             [
              0.7777777777777778,
              "#fb9f3a"
             ],
             [
              0.8888888888888888,
              "#fdca26"
             ],
             [
              1,
              "#f0f921"
             ]
            ],
            "type": "heatmap"
           }
          ],
          "heatmapgl": [
           {
            "colorbar": {
             "outlinewidth": 0,
             "ticks": ""
            },
            "colorscale": [
             [
              0,
              "#0d0887"
             ],
             [
              0.1111111111111111,
              "#46039f"
             ],
             [
              0.2222222222222222,
              "#7201a8"
             ],
             [
              0.3333333333333333,
              "#9c179e"
             ],
             [
              0.4444444444444444,
              "#bd3786"
             ],
             [
              0.5555555555555556,
              "#d8576b"
             ],
             [
              0.6666666666666666,
              "#ed7953"
             ],
             [
              0.7777777777777778,
              "#fb9f3a"
             ],
             [
              0.8888888888888888,
              "#fdca26"
             ],
             [
              1,
              "#f0f921"
             ]
            ],
            "type": "heatmapgl"
           }
          ],
          "histogram": [
           {
            "marker": {
             "colorbar": {
              "outlinewidth": 0,
              "ticks": ""
             }
            },
            "type": "histogram"
           }
          ],
          "histogram2d": [
           {
            "colorbar": {
             "outlinewidth": 0,
             "ticks": ""
            },
            "colorscale": [
             [
              0,
              "#0d0887"
             ],
             [
              0.1111111111111111,
              "#46039f"
             ],
             [
              0.2222222222222222,
              "#7201a8"
             ],
             [
              0.3333333333333333,
              "#9c179e"
             ],
             [
              0.4444444444444444,
              "#bd3786"
             ],
             [
              0.5555555555555556,
              "#d8576b"
             ],
             [
              0.6666666666666666,
              "#ed7953"
             ],
             [
              0.7777777777777778,
              "#fb9f3a"
             ],
             [
              0.8888888888888888,
              "#fdca26"
             ],
             [
              1,
              "#f0f921"
             ]
            ],
            "type": "histogram2d"
           }
          ],
          "histogram2dcontour": [
           {
            "colorbar": {
             "outlinewidth": 0,
             "ticks": ""
            },
            "colorscale": [
             [
              0,
              "#0d0887"
             ],
             [
              0.1111111111111111,
              "#46039f"
             ],
             [
              0.2222222222222222,
              "#7201a8"
             ],
             [
              0.3333333333333333,
              "#9c179e"
             ],
             [
              0.4444444444444444,
              "#bd3786"
             ],
             [
              0.5555555555555556,
              "#d8576b"
             ],
             [
              0.6666666666666666,
              "#ed7953"
             ],
             [
              0.7777777777777778,
              "#fb9f3a"
             ],
             [
              0.8888888888888888,
              "#fdca26"
             ],
             [
              1,
              "#f0f921"
             ]
            ],
            "type": "histogram2dcontour"
           }
          ],
          "mesh3d": [
           {
            "colorbar": {
             "outlinewidth": 0,
             "ticks": ""
            },
            "type": "mesh3d"
           }
          ],
          "parcoords": [
           {
            "line": {
             "colorbar": {
              "outlinewidth": 0,
              "ticks": ""
             }
            },
            "type": "parcoords"
           }
          ],
          "pie": [
           {
            "automargin": true,
            "type": "pie"
           }
          ],
          "scatter": [
           {
            "marker": {
             "colorbar": {
              "outlinewidth": 0,
              "ticks": ""
             }
            },
            "type": "scatter"
           }
          ],
          "scatter3d": [
           {
            "line": {
             "colorbar": {
              "outlinewidth": 0,
              "ticks": ""
             }
            },
            "marker": {
             "colorbar": {
              "outlinewidth": 0,
              "ticks": ""
             }
            },
            "type": "scatter3d"
           }
          ],
          "scattercarpet": [
           {
            "marker": {
             "colorbar": {
              "outlinewidth": 0,
              "ticks": ""
             }
            },
            "type": "scattercarpet"
           }
          ],
          "scattergeo": [
           {
            "marker": {
             "colorbar": {
              "outlinewidth": 0,
              "ticks": ""
             }
            },
            "type": "scattergeo"
           }
          ],
          "scattergl": [
           {
            "marker": {
             "colorbar": {
              "outlinewidth": 0,
              "ticks": ""
             }
            },
            "type": "scattergl"
           }
          ],
          "scattermapbox": [
           {
            "marker": {
             "colorbar": {
              "outlinewidth": 0,
              "ticks": ""
             }
            },
            "type": "scattermapbox"
           }
          ],
          "scatterpolar": [
           {
            "marker": {
             "colorbar": {
              "outlinewidth": 0,
              "ticks": ""
             }
            },
            "type": "scatterpolar"
           }
          ],
          "scatterpolargl": [
           {
            "marker": {
             "colorbar": {
              "outlinewidth": 0,
              "ticks": ""
             }
            },
            "type": "scatterpolargl"
           }
          ],
          "scatterternary": [
           {
            "marker": {
             "colorbar": {
              "outlinewidth": 0,
              "ticks": ""
             }
            },
            "type": "scatterternary"
           }
          ],
          "surface": [
           {
            "colorbar": {
             "outlinewidth": 0,
             "ticks": ""
            },
            "colorscale": [
             [
              0,
              "#0d0887"
             ],
             [
              0.1111111111111111,
              "#46039f"
             ],
             [
              0.2222222222222222,
              "#7201a8"
             ],
             [
              0.3333333333333333,
              "#9c179e"
             ],
             [
              0.4444444444444444,
              "#bd3786"
             ],
             [
              0.5555555555555556,
              "#d8576b"
             ],
             [
              0.6666666666666666,
              "#ed7953"
             ],
             [
              0.7777777777777778,
              "#fb9f3a"
             ],
             [
              0.8888888888888888,
              "#fdca26"
             ],
             [
              1,
              "#f0f921"
             ]
            ],
            "type": "surface"
           }
          ],
          "table": [
           {
            "cells": {
             "fill": {
              "color": "#EBF0F8"
             },
             "line": {
              "color": "white"
             }
            },
            "header": {
             "fill": {
              "color": "#C8D4E3"
             },
             "line": {
              "color": "white"
             }
            },
            "type": "table"
           }
          ]
         },
         "layout": {
          "annotationdefaults": {
           "arrowcolor": "#2a3f5f",
           "arrowhead": 0,
           "arrowwidth": 1
          },
          "coloraxis": {
           "colorbar": {
            "outlinewidth": 0,
            "ticks": ""
           }
          },
          "colorscale": {
           "diverging": [
            [
             0,
             "#8e0152"
            ],
            [
             0.1,
             "#c51b7d"
            ],
            [
             0.2,
             "#de77ae"
            ],
            [
             0.3,
             "#f1b6da"
            ],
            [
             0.4,
             "#fde0ef"
            ],
            [
             0.5,
             "#f7f7f7"
            ],
            [
             0.6,
             "#e6f5d0"
            ],
            [
             0.7,
             "#b8e186"
            ],
            [
             0.8,
             "#7fbc41"
            ],
            [
             0.9,
             "#4d9221"
            ],
            [
             1,
             "#276419"
            ]
           ],
           "sequential": [
            [
             0,
             "#0d0887"
            ],
            [
             0.1111111111111111,
             "#46039f"
            ],
            [
             0.2222222222222222,
             "#7201a8"
            ],
            [
             0.3333333333333333,
             "#9c179e"
            ],
            [
             0.4444444444444444,
             "#bd3786"
            ],
            [
             0.5555555555555556,
             "#d8576b"
            ],
            [
             0.6666666666666666,
             "#ed7953"
            ],
            [
             0.7777777777777778,
             "#fb9f3a"
            ],
            [
             0.8888888888888888,
             "#fdca26"
            ],
            [
             1,
             "#f0f921"
            ]
           ],
           "sequentialminus": [
            [
             0,
             "#0d0887"
            ],
            [
             0.1111111111111111,
             "#46039f"
            ],
            [
             0.2222222222222222,
             "#7201a8"
            ],
            [
             0.3333333333333333,
             "#9c179e"
            ],
            [
             0.4444444444444444,
             "#bd3786"
            ],
            [
             0.5555555555555556,
             "#d8576b"
            ],
            [
             0.6666666666666666,
             "#ed7953"
            ],
            [
             0.7777777777777778,
             "#fb9f3a"
            ],
            [
             0.8888888888888888,
             "#fdca26"
            ],
            [
             1,
             "#f0f921"
            ]
           ]
          },
          "colorway": [
           "#636efa",
           "#EF553B",
           "#00cc96",
           "#ab63fa",
           "#FFA15A",
           "#19d3f3",
           "#FF6692",
           "#B6E880",
           "#FF97FF",
           "#FECB52"
          ],
          "font": {
           "color": "#2a3f5f"
          },
          "geo": {
           "bgcolor": "white",
           "lakecolor": "white",
           "landcolor": "#E5ECF6",
           "showlakes": true,
           "showland": true,
           "subunitcolor": "white"
          },
          "hoverlabel": {
           "align": "left"
          },
          "hovermode": "closest",
          "mapbox": {
           "style": "light"
          },
          "paper_bgcolor": "white",
          "plot_bgcolor": "#E5ECF6",
          "polar": {
           "angularaxis": {
            "gridcolor": "white",
            "linecolor": "white",
            "ticks": ""
           },
           "bgcolor": "#E5ECF6",
           "radialaxis": {
            "gridcolor": "white",
            "linecolor": "white",
            "ticks": ""
           }
          },
          "scene": {
           "xaxis": {
            "backgroundcolor": "#E5ECF6",
            "gridcolor": "white",
            "gridwidth": 2,
            "linecolor": "white",
            "showbackground": true,
            "ticks": "",
            "zerolinecolor": "white"
           },
           "yaxis": {
            "backgroundcolor": "#E5ECF6",
            "gridcolor": "white",
            "gridwidth": 2,
            "linecolor": "white",
            "showbackground": true,
            "ticks": "",
            "zerolinecolor": "white"
           },
           "zaxis": {
            "backgroundcolor": "#E5ECF6",
            "gridcolor": "white",
            "gridwidth": 2,
            "linecolor": "white",
            "showbackground": true,
            "ticks": "",
            "zerolinecolor": "white"
           }
          },
          "shapedefaults": {
           "line": {
            "color": "#2a3f5f"
           }
          },
          "ternary": {
           "aaxis": {
            "gridcolor": "white",
            "linecolor": "white",
            "ticks": ""
           },
           "baxis": {
            "gridcolor": "white",
            "linecolor": "white",
            "ticks": ""
           },
           "bgcolor": "#E5ECF6",
           "caxis": {
            "gridcolor": "white",
            "linecolor": "white",
            "ticks": ""
           }
          },
          "title": {
           "x": 0.05
          },
          "xaxis": {
           "automargin": true,
           "gridcolor": "white",
           "linecolor": "white",
           "ticks": "",
           "title": {
            "standoff": 15
           },
           "zerolinecolor": "white",
           "zerolinewidth": 2
          },
          "yaxis": {
           "automargin": true,
           "gridcolor": "white",
           "linecolor": "white",
           "ticks": "",
           "title": {
            "standoff": 15
           },
           "zerolinecolor": "white",
           "zerolinewidth": 2
          }
         }
        },
        "title": {
         "font": {
          "color": "#4D5663"
         }
        },
        "xaxis": {
         "gridcolor": "#E1E5ED",
         "showgrid": true,
         "tickfont": {
          "color": "#4D5663"
         },
         "title": {
          "font": {
           "color": "#4D5663"
          },
          "text": ""
         },
         "zerolinecolor": "#E1E5ED"
        },
        "yaxis": {
         "gridcolor": "#E1E5ED",
         "showgrid": true,
         "tickfont": {
          "color": "#4D5663"
         },
         "title": {
          "font": {
           "color": "#4D5663"
          },
          "text": ""
         },
         "zerolinecolor": "#E1E5ED"
        }
       }
      },
      "text/html": [
       "<div>\n",
       "        \n",
       "        \n",
       "            <div id=\"1c2f89e2-f00f-44bd-a31e-12885a1ce051\" class=\"plotly-graph-div\" style=\"height:525px; width:100%;\"></div>\n",
       "            <script type=\"text/javascript\">\n",
       "                require([\"plotly\"], function(Plotly) {\n",
       "                    window.PLOTLYENV=window.PLOTLYENV || {};\n",
       "                    window.PLOTLYENV.BASE_URL='https://plot.ly';\n",
       "                    \n",
       "                if (document.getElementById(\"1c2f89e2-f00f-44bd-a31e-12885a1ce051\")) {\n",
       "                    Plotly.newPlot(\n",
       "                        '1c2f89e2-f00f-44bd-a31e-12885a1ce051',\n",
       "                        [{\"line\": {\"color\": \"rgba(255, 153, 51, 1.0)\", \"dash\": \"solid\", \"shape\": \"linear\", \"width\": 1.3}, \"marker\": {\"size\": 10, \"symbol\": \"circle\"}, \"mode\": \"markers\", \"name\": \"B\", \"text\": \"\", \"type\": \"scatter\", \"x\": [0.8812869911184532, 0.05260307890781848, 1.0086019237679735, 0.7735010115093424, -1.4798956576894429, 0.8198463854589676, -1.2040817541874034, 1.2699627475937838, -0.11345290001222112, 0.1719844573795438, 0.15838069667534363, 1.27603061544194, -0.9424947572677399, 2.1441741674254358, 0.6508245211538712, 0.3799749204007522, -1.0966510835250745, 2.9842941329302737, -1.461864535325355, 0.013081837992017068, -0.6178914209129064, -1.2896220084110415, 0.5259820892490585, 1.8213702945554302, 0.8776244059109155, -0.34974595493858474, 1.0418905894703157, 1.5750095252645675, -0.024119632598965997, -0.8111034377683791, -1.5948617107184606, -0.15088026593594045, 0.29575292517525564, 0.40012272033796553, 0.12573090497695202, 0.36065966641021524, -0.005272947521793114, -0.3631194328241745, -0.42812218680133973, 0.6666313352093304, -1.262945392514322, -0.32225440882849204, -1.424749497092938, -0.8910437992204715, 0.7839849188648874, -0.9144901095782141, 0.1768051911980829, -0.8675263969771217, 0.6256814187311011, 0.03528946102297187, -0.3626963391566758, -0.7028468922169727, 1.2513720123613916, 1.2000469024099973, 0.9226024123992664, -1.366913696093309, -1.8926281424222031, -0.9253767647064, -0.38227139964091267, -0.9480858551506455, 0.35918708257044574, 0.6856435883732223, 1.022387859708728, -1.2247530099619848, -2.422236055967968, 2.16759153499099, 0.79906341269673, 0.45824253672922993, -1.4412402314503123, -0.692035342235428, 0.2752804037565924, -0.9283622086105866, 1.2253264363702223, 2.011921715731842, -1.0141917691436357, -1.6814567853811353, 0.3311828197363062, 0.33049426204518395, 0.807888420683415, 0.19550968531256327, -0.09828648455536405, 0.001838581371809573, -0.23473452864196656, 1.3936577497115439, 0.1921873435666354, -1.4102970375344719, -1.850135838866847, 0.580157677241555, -0.8703051862721886, -0.2748984826461829, -0.9139044484992954, 0.38912754303836977, 1.1284322673468994, -0.47094526990649516, -1.5039535607679495, -0.5100415536363496, -0.8590745889148993, -1.311647941164508, 0.2344890320855352, 0.16386087529568444], \"y\": [-0.6176431754916366, 0.2708582735313909, -1.540835833392384, -0.4035361915306973, -1.1266237077790675, 0.5407621043809193, 0.0052672995344969714, 0.2182764128756272, 0.6672327888727164, 0.3963506613002244, 0.6535368367393999, 0.8240988668851247, -0.7546977599977602, -0.5158882436212068, -0.14134838179766704, 1.1150969655695877, -1.5714997933954131, -0.2570051664700367, -0.8650919115630591, 0.6165897275099402, 0.9287942558187207, 0.04050055028890707, -0.7222381670693432, 0.7805733477609783, 0.09243004140096453, 1.032462277400557, 0.4687929049698868, 1.0641351870408824, -1.9013728141379314, 0.8067346608357602, -1.5333923182844509, 0.11105549090399285, -0.9373951056502263, 1.834234717008625, -0.48765301492904783, -2.6477938956806932, 1.0833572542811778, -0.22463212807599026, 0.08850647680920762, -0.9416201117162727, 1.6286184663411916, 0.4766047584294469, -0.5907002205596157, 0.2204085506044614, 0.12749076632804768, 0.5020777348069793, 0.38461358099854154, -0.3534897435380235, 0.3840183272325568, 0.829373756112191, -0.8735441071828836, -0.16217036233698498, -0.4664575928281782, 1.8103978796855855, -0.14317177978437443, 0.3579558294138091, 0.09050558142059084, -1.4279525633431434, 1.5603926293829051, 0.017912530049688312, -0.006997058984752426, 0.141998783058133, -1.817736664165537, -0.1700171114502153, -0.20376546540403428, 0.22658197424561566, 0.9916875389450946, -0.8532732650440285, -0.30306781483492656, 1.4622247652068743, -0.47078684313976743, 1.213975739723958, -0.7671337636464226, -0.3576745011114723, 1.2768626778125454, 1.046885086094673, 2.205582161965762, -0.7509025674730502, 0.9425078130154034, -0.8150732574878063, 0.02348229140704502, -0.8797993593313506, -0.2769164862417134, -0.17996268625966028, 1.2033516904462902, 0.9576577397716123, -0.4921047902944592, -0.41155344829335316, 1.9239340077491514, 0.25073927942061014, -1.1916676782208075, -0.8357131446446306, 0.45779279463016465, -0.6029772508882748, 0.8943467112609861, -0.6976652557264528, -0.3301180322416286, 1.6109076948151873, -1.3805366268493138, -0.897446984170169]}],\n",
       "                        {\"legend\": {\"bgcolor\": \"#F5F6F9\", \"font\": {\"color\": \"#4D5663\"}}, \"paper_bgcolor\": \"#F5F6F9\", \"plot_bgcolor\": \"#F5F6F9\", \"template\": {\"data\": {\"bar\": [{\"error_x\": {\"color\": \"#2a3f5f\"}, \"error_y\": {\"color\": \"#2a3f5f\"}, \"marker\": {\"line\": {\"color\": \"#E5ECF6\", \"width\": 0.5}}, \"type\": \"bar\"}], \"barpolar\": [{\"marker\": {\"line\": {\"color\": \"#E5ECF6\", \"width\": 0.5}}, \"type\": \"barpolar\"}], \"carpet\": [{\"aaxis\": {\"endlinecolor\": \"#2a3f5f\", \"gridcolor\": \"white\", \"linecolor\": \"white\", \"minorgridcolor\": \"white\", \"startlinecolor\": \"#2a3f5f\"}, \"baxis\": {\"endlinecolor\": \"#2a3f5f\", \"gridcolor\": \"white\", \"linecolor\": \"white\", \"minorgridcolor\": \"white\", \"startlinecolor\": \"#2a3f5f\"}, \"type\": \"carpet\"}], \"choropleth\": [{\"colorbar\": {\"outlinewidth\": 0, \"ticks\": \"\"}, \"type\": \"choropleth\"}], \"contour\": [{\"colorbar\": {\"outlinewidth\": 0, \"ticks\": \"\"}, \"colorscale\": [[0.0, \"#0d0887\"], [0.1111111111111111, \"#46039f\"], [0.2222222222222222, \"#7201a8\"], [0.3333333333333333, \"#9c179e\"], [0.4444444444444444, \"#bd3786\"], [0.5555555555555556, \"#d8576b\"], [0.6666666666666666, \"#ed7953\"], [0.7777777777777778, \"#fb9f3a\"], [0.8888888888888888, \"#fdca26\"], [1.0, \"#f0f921\"]], \"type\": \"contour\"}], \"contourcarpet\": [{\"colorbar\": {\"outlinewidth\": 0, \"ticks\": \"\"}, \"type\": \"contourcarpet\"}], \"heatmap\": [{\"colorbar\": {\"outlinewidth\": 0, \"ticks\": \"\"}, \"colorscale\": [[0.0, \"#0d0887\"], [0.1111111111111111, \"#46039f\"], [0.2222222222222222, \"#7201a8\"], [0.3333333333333333, \"#9c179e\"], [0.4444444444444444, \"#bd3786\"], [0.5555555555555556, \"#d8576b\"], [0.6666666666666666, \"#ed7953\"], [0.7777777777777778, \"#fb9f3a\"], [0.8888888888888888, \"#fdca26\"], [1.0, \"#f0f921\"]], \"type\": \"heatmap\"}], \"heatmapgl\": [{\"colorbar\": {\"outlinewidth\": 0, \"ticks\": \"\"}, \"colorscale\": [[0.0, \"#0d0887\"], [0.1111111111111111, \"#46039f\"], [0.2222222222222222, \"#7201a8\"], [0.3333333333333333, \"#9c179e\"], [0.4444444444444444, \"#bd3786\"], [0.5555555555555556, \"#d8576b\"], [0.6666666666666666, \"#ed7953\"], [0.7777777777777778, \"#fb9f3a\"], [0.8888888888888888, \"#fdca26\"], [1.0, \"#f0f921\"]], \"type\": \"heatmapgl\"}], \"histogram\": [{\"marker\": {\"colorbar\": {\"outlinewidth\": 0, \"ticks\": \"\"}}, \"type\": \"histogram\"}], \"histogram2d\": [{\"colorbar\": {\"outlinewidth\": 0, \"ticks\": \"\"}, \"colorscale\": [[0.0, \"#0d0887\"], [0.1111111111111111, \"#46039f\"], [0.2222222222222222, \"#7201a8\"], [0.3333333333333333, \"#9c179e\"], [0.4444444444444444, \"#bd3786\"], [0.5555555555555556, \"#d8576b\"], [0.6666666666666666, \"#ed7953\"], [0.7777777777777778, \"#fb9f3a\"], [0.8888888888888888, \"#fdca26\"], [1.0, \"#f0f921\"]], \"type\": \"histogram2d\"}], \"histogram2dcontour\": [{\"colorbar\": {\"outlinewidth\": 0, \"ticks\": \"\"}, \"colorscale\": [[0.0, \"#0d0887\"], [0.1111111111111111, \"#46039f\"], [0.2222222222222222, \"#7201a8\"], [0.3333333333333333, \"#9c179e\"], [0.4444444444444444, \"#bd3786\"], [0.5555555555555556, \"#d8576b\"], [0.6666666666666666, \"#ed7953\"], [0.7777777777777778, \"#fb9f3a\"], [0.8888888888888888, \"#fdca26\"], [1.0, \"#f0f921\"]], \"type\": \"histogram2dcontour\"}], \"mesh3d\": [{\"colorbar\": {\"outlinewidth\": 0, \"ticks\": \"\"}, \"type\": \"mesh3d\"}], \"parcoords\": [{\"line\": {\"colorbar\": {\"outlinewidth\": 0, \"ticks\": \"\"}}, \"type\": \"parcoords\"}], \"pie\": [{\"automargin\": true, \"type\": \"pie\"}], \"scatter\": [{\"marker\": {\"colorbar\": {\"outlinewidth\": 0, \"ticks\": \"\"}}, \"type\": \"scatter\"}], \"scatter3d\": [{\"line\": {\"colorbar\": {\"outlinewidth\": 0, \"ticks\": \"\"}}, \"marker\": {\"colorbar\": {\"outlinewidth\": 0, \"ticks\": \"\"}}, \"type\": \"scatter3d\"}], \"scattercarpet\": [{\"marker\": {\"colorbar\": {\"outlinewidth\": 0, \"ticks\": \"\"}}, \"type\": \"scattercarpet\"}], \"scattergeo\": [{\"marker\": {\"colorbar\": {\"outlinewidth\": 0, \"ticks\": \"\"}}, \"type\": \"scattergeo\"}], \"scattergl\": [{\"marker\": {\"colorbar\": {\"outlinewidth\": 0, \"ticks\": \"\"}}, \"type\": \"scattergl\"}], \"scattermapbox\": [{\"marker\": {\"colorbar\": {\"outlinewidth\": 0, \"ticks\": \"\"}}, \"type\": \"scattermapbox\"}], \"scatterpolar\": [{\"marker\": {\"colorbar\": {\"outlinewidth\": 0, \"ticks\": \"\"}}, \"type\": \"scatterpolar\"}], \"scatterpolargl\": [{\"marker\": {\"colorbar\": {\"outlinewidth\": 0, \"ticks\": \"\"}}, \"type\": \"scatterpolargl\"}], \"scatterternary\": [{\"marker\": {\"colorbar\": {\"outlinewidth\": 0, \"ticks\": \"\"}}, \"type\": \"scatterternary\"}], \"surface\": [{\"colorbar\": {\"outlinewidth\": 0, \"ticks\": \"\"}, \"colorscale\": [[0.0, \"#0d0887\"], [0.1111111111111111, \"#46039f\"], [0.2222222222222222, \"#7201a8\"], [0.3333333333333333, \"#9c179e\"], [0.4444444444444444, \"#bd3786\"], [0.5555555555555556, \"#d8576b\"], [0.6666666666666666, \"#ed7953\"], [0.7777777777777778, \"#fb9f3a\"], [0.8888888888888888, \"#fdca26\"], [1.0, \"#f0f921\"]], \"type\": \"surface\"}], \"table\": [{\"cells\": {\"fill\": {\"color\": \"#EBF0F8\"}, \"line\": {\"color\": \"white\"}}, \"header\": {\"fill\": {\"color\": \"#C8D4E3\"}, \"line\": {\"color\": \"white\"}}, \"type\": \"table\"}]}, \"layout\": {\"annotationdefaults\": {\"arrowcolor\": \"#2a3f5f\", \"arrowhead\": 0, \"arrowwidth\": 1}, \"coloraxis\": {\"colorbar\": {\"outlinewidth\": 0, \"ticks\": \"\"}}, \"colorscale\": {\"diverging\": [[0, \"#8e0152\"], [0.1, \"#c51b7d\"], [0.2, \"#de77ae\"], [0.3, \"#f1b6da\"], [0.4, \"#fde0ef\"], [0.5, \"#f7f7f7\"], [0.6, \"#e6f5d0\"], [0.7, \"#b8e186\"], [0.8, \"#7fbc41\"], [0.9, \"#4d9221\"], [1, \"#276419\"]], \"sequential\": [[0.0, \"#0d0887\"], [0.1111111111111111, \"#46039f\"], [0.2222222222222222, \"#7201a8\"], [0.3333333333333333, \"#9c179e\"], [0.4444444444444444, \"#bd3786\"], [0.5555555555555556, \"#d8576b\"], [0.6666666666666666, \"#ed7953\"], [0.7777777777777778, \"#fb9f3a\"], [0.8888888888888888, \"#fdca26\"], [1.0, \"#f0f921\"]], \"sequentialminus\": [[0.0, \"#0d0887\"], [0.1111111111111111, \"#46039f\"], [0.2222222222222222, \"#7201a8\"], [0.3333333333333333, \"#9c179e\"], [0.4444444444444444, \"#bd3786\"], [0.5555555555555556, \"#d8576b\"], [0.6666666666666666, \"#ed7953\"], [0.7777777777777778, \"#fb9f3a\"], [0.8888888888888888, \"#fdca26\"], [1.0, \"#f0f921\"]]}, \"colorway\": [\"#636efa\", \"#EF553B\", \"#00cc96\", \"#ab63fa\", \"#FFA15A\", \"#19d3f3\", \"#FF6692\", \"#B6E880\", \"#FF97FF\", \"#FECB52\"], \"font\": {\"color\": \"#2a3f5f\"}, \"geo\": {\"bgcolor\": \"white\", \"lakecolor\": \"white\", \"landcolor\": \"#E5ECF6\", \"showlakes\": true, \"showland\": true, \"subunitcolor\": \"white\"}, \"hoverlabel\": {\"align\": \"left\"}, \"hovermode\": \"closest\", \"mapbox\": {\"style\": \"light\"}, \"paper_bgcolor\": \"white\", \"plot_bgcolor\": \"#E5ECF6\", \"polar\": {\"angularaxis\": {\"gridcolor\": \"white\", \"linecolor\": \"white\", \"ticks\": \"\"}, \"bgcolor\": \"#E5ECF6\", \"radialaxis\": {\"gridcolor\": \"white\", \"linecolor\": \"white\", \"ticks\": \"\"}}, \"scene\": {\"xaxis\": {\"backgroundcolor\": \"#E5ECF6\", \"gridcolor\": \"white\", \"gridwidth\": 2, \"linecolor\": \"white\", \"showbackground\": true, \"ticks\": \"\", \"zerolinecolor\": \"white\"}, \"yaxis\": {\"backgroundcolor\": \"#E5ECF6\", \"gridcolor\": \"white\", \"gridwidth\": 2, \"linecolor\": \"white\", \"showbackground\": true, \"ticks\": \"\", \"zerolinecolor\": \"white\"}, \"zaxis\": {\"backgroundcolor\": \"#E5ECF6\", \"gridcolor\": \"white\", \"gridwidth\": 2, \"linecolor\": \"white\", \"showbackground\": true, \"ticks\": \"\", \"zerolinecolor\": \"white\"}}, \"shapedefaults\": {\"line\": {\"color\": \"#2a3f5f\"}}, \"ternary\": {\"aaxis\": {\"gridcolor\": \"white\", \"linecolor\": \"white\", \"ticks\": \"\"}, \"baxis\": {\"gridcolor\": \"white\", \"linecolor\": \"white\", \"ticks\": \"\"}, \"bgcolor\": \"#E5ECF6\", \"caxis\": {\"gridcolor\": \"white\", \"linecolor\": \"white\", \"ticks\": \"\"}}, \"title\": {\"x\": 0.05}, \"xaxis\": {\"automargin\": true, \"gridcolor\": \"white\", \"linecolor\": \"white\", \"ticks\": \"\", \"title\": {\"standoff\": 15}, \"zerolinecolor\": \"white\", \"zerolinewidth\": 2}, \"yaxis\": {\"automargin\": true, \"gridcolor\": \"white\", \"linecolor\": \"white\", \"ticks\": \"\", \"title\": {\"standoff\": 15}, \"zerolinecolor\": \"white\", \"zerolinewidth\": 2}}}, \"title\": {\"font\": {\"color\": \"#4D5663\"}}, \"xaxis\": {\"gridcolor\": \"#E1E5ED\", \"showgrid\": true, \"tickfont\": {\"color\": \"#4D5663\"}, \"title\": {\"font\": {\"color\": \"#4D5663\"}, \"text\": \"\"}, \"zerolinecolor\": \"#E1E5ED\"}, \"yaxis\": {\"gridcolor\": \"#E1E5ED\", \"showgrid\": true, \"tickfont\": {\"color\": \"#4D5663\"}, \"title\": {\"font\": {\"color\": \"#4D5663\"}, \"text\": \"\"}, \"zerolinecolor\": \"#E1E5ED\"}},\n",
       "                        {\"showLink\": true, \"linkText\": \"Export to plot.ly\", \"plotlyServerURL\": \"https://plot.ly\", \"responsive\": true}\n",
       "                    ).then(function(){\n",
       "                            \n",
       "var gd = document.getElementById('1c2f89e2-f00f-44bd-a31e-12885a1ce051');\n",
       "var x = new MutationObserver(function (mutations, observer) {{\n",
       "        var display = window.getComputedStyle(gd).display;\n",
       "        if (!display || display === 'none') {{\n",
       "            console.log([gd, 'removed!']);\n",
       "            Plotly.purge(gd);\n",
       "            observer.disconnect();\n",
       "        }}\n",
       "}});\n",
       "\n",
       "// Listen for the removal of the full notebook cells\n",
       "var notebookContainer = gd.closest('#notebook-container');\n",
       "if (notebookContainer) {{\n",
       "    x.observe(notebookContainer, {childList: true});\n",
       "}}\n",
       "\n",
       "// Listen for the clearing of the current output cell\n",
       "var outputEl = gd.closest('.output');\n",
       "if (outputEl) {{\n",
       "    x.observe(outputEl, {childList: true});\n",
       "}}\n",
       "\n",
       "                        })\n",
       "                };\n",
       "                });\n",
       "            </script>\n",
       "        </div>"
      ]
     },
     "metadata": {},
     "output_type": "display_data"
    }
   ],
   "source": [
    "df.iplot(kind='scatter',x='A',y='B',mode='markers',size=10)"
   ]
  },
  {
   "cell_type": "markdown",
   "metadata": {},
   "source": [
    "## Bar Plots"
   ]
  },
  {
   "cell_type": "code",
   "execution_count": 11,
   "metadata": {},
   "outputs": [
    {
     "data": {
      "application/vnd.plotly.v1+json": {
       "config": {
        "linkText": "Export to plot.ly",
        "plotlyServerURL": "https://plot.ly",
        "showLink": true
       },
       "data": [
        {
         "marker": {
          "color": "rgba(255, 153, 51, 0.6)",
          "line": {
           "color": "rgba(255, 153, 51, 1.0)",
           "width": 1
          }
         },
         "name": "Values",
         "orientation": "v",
         "text": "",
         "type": "bar",
         "x": [
          "A",
          "B",
          "C"
         ],
         "y": [
          32,
          43,
          50
         ]
        }
       ],
       "layout": {
        "legend": {
         "bgcolor": "#F5F6F9",
         "font": {
          "color": "#4D5663"
         }
        },
        "paper_bgcolor": "#F5F6F9",
        "plot_bgcolor": "#F5F6F9",
        "template": {
         "data": {
          "bar": [
           {
            "error_x": {
             "color": "#2a3f5f"
            },
            "error_y": {
             "color": "#2a3f5f"
            },
            "marker": {
             "line": {
              "color": "#E5ECF6",
              "width": 0.5
             }
            },
            "type": "bar"
           }
          ],
          "barpolar": [
           {
            "marker": {
             "line": {
              "color": "#E5ECF6",
              "width": 0.5
             }
            },
            "type": "barpolar"
           }
          ],
          "carpet": [
           {
            "aaxis": {
             "endlinecolor": "#2a3f5f",
             "gridcolor": "white",
             "linecolor": "white",
             "minorgridcolor": "white",
             "startlinecolor": "#2a3f5f"
            },
            "baxis": {
             "endlinecolor": "#2a3f5f",
             "gridcolor": "white",
             "linecolor": "white",
             "minorgridcolor": "white",
             "startlinecolor": "#2a3f5f"
            },
            "type": "carpet"
           }
          ],
          "choropleth": [
           {
            "colorbar": {
             "outlinewidth": 0,
             "ticks": ""
            },
            "type": "choropleth"
           }
          ],
          "contour": [
           {
            "colorbar": {
             "outlinewidth": 0,
             "ticks": ""
            },
            "colorscale": [
             [
              0,
              "#0d0887"
             ],
             [
              0.1111111111111111,
              "#46039f"
             ],
             [
              0.2222222222222222,
              "#7201a8"
             ],
             [
              0.3333333333333333,
              "#9c179e"
             ],
             [
              0.4444444444444444,
              "#bd3786"
             ],
             [
              0.5555555555555556,
              "#d8576b"
             ],
             [
              0.6666666666666666,
              "#ed7953"
             ],
             [
              0.7777777777777778,
              "#fb9f3a"
             ],
             [
              0.8888888888888888,
              "#fdca26"
             ],
             [
              1,
              "#f0f921"
             ]
            ],
            "type": "contour"
           }
          ],
          "contourcarpet": [
           {
            "colorbar": {
             "outlinewidth": 0,
             "ticks": ""
            },
            "type": "contourcarpet"
           }
          ],
          "heatmap": [
           {
            "colorbar": {
             "outlinewidth": 0,
             "ticks": ""
            },
            "colorscale": [
             [
              0,
              "#0d0887"
             ],
             [
              0.1111111111111111,
              "#46039f"
             ],
             [
              0.2222222222222222,
              "#7201a8"
             ],
             [
              0.3333333333333333,
              "#9c179e"
             ],
             [
              0.4444444444444444,
              "#bd3786"
             ],
             [
              0.5555555555555556,
              "#d8576b"
             ],
             [
              0.6666666666666666,
              "#ed7953"
             ],
             [
              0.7777777777777778,
              "#fb9f3a"
             ],
             [
              0.8888888888888888,
              "#fdca26"
             ],
             [
              1,
              "#f0f921"
             ]
            ],
            "type": "heatmap"
           }
          ],
          "heatmapgl": [
           {
            "colorbar": {
             "outlinewidth": 0,
             "ticks": ""
            },
            "colorscale": [
             [
              0,
              "#0d0887"
             ],
             [
              0.1111111111111111,
              "#46039f"
             ],
             [
              0.2222222222222222,
              "#7201a8"
             ],
             [
              0.3333333333333333,
              "#9c179e"
             ],
             [
              0.4444444444444444,
              "#bd3786"
             ],
             [
              0.5555555555555556,
              "#d8576b"
             ],
             [
              0.6666666666666666,
              "#ed7953"
             ],
             [
              0.7777777777777778,
              "#fb9f3a"
             ],
             [
              0.8888888888888888,
              "#fdca26"
             ],
             [
              1,
              "#f0f921"
             ]
            ],
            "type": "heatmapgl"
           }
          ],
          "histogram": [
           {
            "marker": {
             "colorbar": {
              "outlinewidth": 0,
              "ticks": ""
             }
            },
            "type": "histogram"
           }
          ],
          "histogram2d": [
           {
            "colorbar": {
             "outlinewidth": 0,
             "ticks": ""
            },
            "colorscale": [
             [
              0,
              "#0d0887"
             ],
             [
              0.1111111111111111,
              "#46039f"
             ],
             [
              0.2222222222222222,
              "#7201a8"
             ],
             [
              0.3333333333333333,
              "#9c179e"
             ],
             [
              0.4444444444444444,
              "#bd3786"
             ],
             [
              0.5555555555555556,
              "#d8576b"
             ],
             [
              0.6666666666666666,
              "#ed7953"
             ],
             [
              0.7777777777777778,
              "#fb9f3a"
             ],
             [
              0.8888888888888888,
              "#fdca26"
             ],
             [
              1,
              "#f0f921"
             ]
            ],
            "type": "histogram2d"
           }
          ],
          "histogram2dcontour": [
           {
            "colorbar": {
             "outlinewidth": 0,
             "ticks": ""
            },
            "colorscale": [
             [
              0,
              "#0d0887"
             ],
             [
              0.1111111111111111,
              "#46039f"
             ],
             [
              0.2222222222222222,
              "#7201a8"
             ],
             [
              0.3333333333333333,
              "#9c179e"
             ],
             [
              0.4444444444444444,
              "#bd3786"
             ],
             [
              0.5555555555555556,
              "#d8576b"
             ],
             [
              0.6666666666666666,
              "#ed7953"
             ],
             [
              0.7777777777777778,
              "#fb9f3a"
             ],
             [
              0.8888888888888888,
              "#fdca26"
             ],
             [
              1,
              "#f0f921"
             ]
            ],
            "type": "histogram2dcontour"
           }
          ],
          "mesh3d": [
           {
            "colorbar": {
             "outlinewidth": 0,
             "ticks": ""
            },
            "type": "mesh3d"
           }
          ],
          "parcoords": [
           {
            "line": {
             "colorbar": {
              "outlinewidth": 0,
              "ticks": ""
             }
            },
            "type": "parcoords"
           }
          ],
          "pie": [
           {
            "automargin": true,
            "type": "pie"
           }
          ],
          "scatter": [
           {
            "marker": {
             "colorbar": {
              "outlinewidth": 0,
              "ticks": ""
             }
            },
            "type": "scatter"
           }
          ],
          "scatter3d": [
           {
            "line": {
             "colorbar": {
              "outlinewidth": 0,
              "ticks": ""
             }
            },
            "marker": {
             "colorbar": {
              "outlinewidth": 0,
              "ticks": ""
             }
            },
            "type": "scatter3d"
           }
          ],
          "scattercarpet": [
           {
            "marker": {
             "colorbar": {
              "outlinewidth": 0,
              "ticks": ""
             }
            },
            "type": "scattercarpet"
           }
          ],
          "scattergeo": [
           {
            "marker": {
             "colorbar": {
              "outlinewidth": 0,
              "ticks": ""
             }
            },
            "type": "scattergeo"
           }
          ],
          "scattergl": [
           {
            "marker": {
             "colorbar": {
              "outlinewidth": 0,
              "ticks": ""
             }
            },
            "type": "scattergl"
           }
          ],
          "scattermapbox": [
           {
            "marker": {
             "colorbar": {
              "outlinewidth": 0,
              "ticks": ""
             }
            },
            "type": "scattermapbox"
           }
          ],
          "scatterpolar": [
           {
            "marker": {
             "colorbar": {
              "outlinewidth": 0,
              "ticks": ""
             }
            },
            "type": "scatterpolar"
           }
          ],
          "scatterpolargl": [
           {
            "marker": {
             "colorbar": {
              "outlinewidth": 0,
              "ticks": ""
             }
            },
            "type": "scatterpolargl"
           }
          ],
          "scatterternary": [
           {
            "marker": {
             "colorbar": {
              "outlinewidth": 0,
              "ticks": ""
             }
            },
            "type": "scatterternary"
           }
          ],
          "surface": [
           {
            "colorbar": {
             "outlinewidth": 0,
             "ticks": ""
            },
            "colorscale": [
             [
              0,
              "#0d0887"
             ],
             [
              0.1111111111111111,
              "#46039f"
             ],
             [
              0.2222222222222222,
              "#7201a8"
             ],
             [
              0.3333333333333333,
              "#9c179e"
             ],
             [
              0.4444444444444444,
              "#bd3786"
             ],
             [
              0.5555555555555556,
              "#d8576b"
             ],
             [
              0.6666666666666666,
              "#ed7953"
             ],
             [
              0.7777777777777778,
              "#fb9f3a"
             ],
             [
              0.8888888888888888,
              "#fdca26"
             ],
             [
              1,
              "#f0f921"
             ]
            ],
            "type": "surface"
           }
          ],
          "table": [
           {
            "cells": {
             "fill": {
              "color": "#EBF0F8"
             },
             "line": {
              "color": "white"
             }
            },
            "header": {
             "fill": {
              "color": "#C8D4E3"
             },
             "line": {
              "color": "white"
             }
            },
            "type": "table"
           }
          ]
         },
         "layout": {
          "annotationdefaults": {
           "arrowcolor": "#2a3f5f",
           "arrowhead": 0,
           "arrowwidth": 1
          },
          "coloraxis": {
           "colorbar": {
            "outlinewidth": 0,
            "ticks": ""
           }
          },
          "colorscale": {
           "diverging": [
            [
             0,
             "#8e0152"
            ],
            [
             0.1,
             "#c51b7d"
            ],
            [
             0.2,
             "#de77ae"
            ],
            [
             0.3,
             "#f1b6da"
            ],
            [
             0.4,
             "#fde0ef"
            ],
            [
             0.5,
             "#f7f7f7"
            ],
            [
             0.6,
             "#e6f5d0"
            ],
            [
             0.7,
             "#b8e186"
            ],
            [
             0.8,
             "#7fbc41"
            ],
            [
             0.9,
             "#4d9221"
            ],
            [
             1,
             "#276419"
            ]
           ],
           "sequential": [
            [
             0,
             "#0d0887"
            ],
            [
             0.1111111111111111,
             "#46039f"
            ],
            [
             0.2222222222222222,
             "#7201a8"
            ],
            [
             0.3333333333333333,
             "#9c179e"
            ],
            [
             0.4444444444444444,
             "#bd3786"
            ],
            [
             0.5555555555555556,
             "#d8576b"
            ],
            [
             0.6666666666666666,
             "#ed7953"
            ],
            [
             0.7777777777777778,
             "#fb9f3a"
            ],
            [
             0.8888888888888888,
             "#fdca26"
            ],
            [
             1,
             "#f0f921"
            ]
           ],
           "sequentialminus": [
            [
             0,
             "#0d0887"
            ],
            [
             0.1111111111111111,
             "#46039f"
            ],
            [
             0.2222222222222222,
             "#7201a8"
            ],
            [
             0.3333333333333333,
             "#9c179e"
            ],
            [
             0.4444444444444444,
             "#bd3786"
            ],
            [
             0.5555555555555556,
             "#d8576b"
            ],
            [
             0.6666666666666666,
             "#ed7953"
            ],
            [
             0.7777777777777778,
             "#fb9f3a"
            ],
            [
             0.8888888888888888,
             "#fdca26"
            ],
            [
             1,
             "#f0f921"
            ]
           ]
          },
          "colorway": [
           "#636efa",
           "#EF553B",
           "#00cc96",
           "#ab63fa",
           "#FFA15A",
           "#19d3f3",
           "#FF6692",
           "#B6E880",
           "#FF97FF",
           "#FECB52"
          ],
          "font": {
           "color": "#2a3f5f"
          },
          "geo": {
           "bgcolor": "white",
           "lakecolor": "white",
           "landcolor": "#E5ECF6",
           "showlakes": true,
           "showland": true,
           "subunitcolor": "white"
          },
          "hoverlabel": {
           "align": "left"
          },
          "hovermode": "closest",
          "mapbox": {
           "style": "light"
          },
          "paper_bgcolor": "white",
          "plot_bgcolor": "#E5ECF6",
          "polar": {
           "angularaxis": {
            "gridcolor": "white",
            "linecolor": "white",
            "ticks": ""
           },
           "bgcolor": "#E5ECF6",
           "radialaxis": {
            "gridcolor": "white",
            "linecolor": "white",
            "ticks": ""
           }
          },
          "scene": {
           "xaxis": {
            "backgroundcolor": "#E5ECF6",
            "gridcolor": "white",
            "gridwidth": 2,
            "linecolor": "white",
            "showbackground": true,
            "ticks": "",
            "zerolinecolor": "white"
           },
           "yaxis": {
            "backgroundcolor": "#E5ECF6",
            "gridcolor": "white",
            "gridwidth": 2,
            "linecolor": "white",
            "showbackground": true,
            "ticks": "",
            "zerolinecolor": "white"
           },
           "zaxis": {
            "backgroundcolor": "#E5ECF6",
            "gridcolor": "white",
            "gridwidth": 2,
            "linecolor": "white",
            "showbackground": true,
            "ticks": "",
            "zerolinecolor": "white"
           }
          },
          "shapedefaults": {
           "line": {
            "color": "#2a3f5f"
           }
          },
          "ternary": {
           "aaxis": {
            "gridcolor": "white",
            "linecolor": "white",
            "ticks": ""
           },
           "baxis": {
            "gridcolor": "white",
            "linecolor": "white",
            "ticks": ""
           },
           "bgcolor": "#E5ECF6",
           "caxis": {
            "gridcolor": "white",
            "linecolor": "white",
            "ticks": ""
           }
          },
          "title": {
           "x": 0.05
          },
          "xaxis": {
           "automargin": true,
           "gridcolor": "white",
           "linecolor": "white",
           "ticks": "",
           "title": {
            "standoff": 15
           },
           "zerolinecolor": "white",
           "zerolinewidth": 2
          },
          "yaxis": {
           "automargin": true,
           "gridcolor": "white",
           "linecolor": "white",
           "ticks": "",
           "title": {
            "standoff": 15
           },
           "zerolinecolor": "white",
           "zerolinewidth": 2
          }
         }
        },
        "title": {
         "font": {
          "color": "#4D5663"
         }
        },
        "xaxis": {
         "gridcolor": "#E1E5ED",
         "showgrid": true,
         "tickfont": {
          "color": "#4D5663"
         },
         "title": {
          "font": {
           "color": "#4D5663"
          },
          "text": ""
         },
         "zerolinecolor": "#E1E5ED"
        },
        "yaxis": {
         "gridcolor": "#E1E5ED",
         "showgrid": true,
         "tickfont": {
          "color": "#4D5663"
         },
         "title": {
          "font": {
           "color": "#4D5663"
          },
          "text": ""
         },
         "zerolinecolor": "#E1E5ED"
        }
       }
      },
      "text/html": [
       "<div>\n",
       "        \n",
       "        \n",
       "            <div id=\"d6a4a033-b552-4c1a-a2a8-20c18724e124\" class=\"plotly-graph-div\" style=\"height:525px; width:100%;\"></div>\n",
       "            <script type=\"text/javascript\">\n",
       "                require([\"plotly\"], function(Plotly) {\n",
       "                    window.PLOTLYENV=window.PLOTLYENV || {};\n",
       "                    window.PLOTLYENV.BASE_URL='https://plot.ly';\n",
       "                    \n",
       "                if (document.getElementById(\"d6a4a033-b552-4c1a-a2a8-20c18724e124\")) {\n",
       "                    Plotly.newPlot(\n",
       "                        'd6a4a033-b552-4c1a-a2a8-20c18724e124',\n",
       "                        [{\"marker\": {\"color\": \"rgba(255, 153, 51, 0.6)\", \"line\": {\"color\": \"rgba(255, 153, 51, 1.0)\", \"width\": 1}}, \"name\": \"Values\", \"orientation\": \"v\", \"text\": \"\", \"type\": \"bar\", \"x\": [\"A\", \"B\", \"C\"], \"y\": [32, 43, 50]}],\n",
       "                        {\"legend\": {\"bgcolor\": \"#F5F6F9\", \"font\": {\"color\": \"#4D5663\"}}, \"paper_bgcolor\": \"#F5F6F9\", \"plot_bgcolor\": \"#F5F6F9\", \"template\": {\"data\": {\"bar\": [{\"error_x\": {\"color\": \"#2a3f5f\"}, \"error_y\": {\"color\": \"#2a3f5f\"}, \"marker\": {\"line\": {\"color\": \"#E5ECF6\", \"width\": 0.5}}, \"type\": \"bar\"}], \"barpolar\": [{\"marker\": {\"line\": {\"color\": \"#E5ECF6\", \"width\": 0.5}}, \"type\": \"barpolar\"}], \"carpet\": [{\"aaxis\": {\"endlinecolor\": \"#2a3f5f\", \"gridcolor\": \"white\", \"linecolor\": \"white\", \"minorgridcolor\": \"white\", \"startlinecolor\": \"#2a3f5f\"}, \"baxis\": {\"endlinecolor\": \"#2a3f5f\", \"gridcolor\": \"white\", \"linecolor\": \"white\", \"minorgridcolor\": \"white\", \"startlinecolor\": \"#2a3f5f\"}, \"type\": \"carpet\"}], \"choropleth\": [{\"colorbar\": {\"outlinewidth\": 0, \"ticks\": \"\"}, \"type\": \"choropleth\"}], \"contour\": [{\"colorbar\": {\"outlinewidth\": 0, \"ticks\": \"\"}, \"colorscale\": [[0.0, \"#0d0887\"], [0.1111111111111111, \"#46039f\"], [0.2222222222222222, \"#7201a8\"], [0.3333333333333333, \"#9c179e\"], [0.4444444444444444, \"#bd3786\"], [0.5555555555555556, \"#d8576b\"], [0.6666666666666666, \"#ed7953\"], [0.7777777777777778, \"#fb9f3a\"], [0.8888888888888888, \"#fdca26\"], [1.0, \"#f0f921\"]], \"type\": \"contour\"}], \"contourcarpet\": [{\"colorbar\": {\"outlinewidth\": 0, \"ticks\": \"\"}, \"type\": \"contourcarpet\"}], \"heatmap\": [{\"colorbar\": {\"outlinewidth\": 0, \"ticks\": \"\"}, \"colorscale\": [[0.0, \"#0d0887\"], [0.1111111111111111, \"#46039f\"], [0.2222222222222222, \"#7201a8\"], [0.3333333333333333, \"#9c179e\"], [0.4444444444444444, \"#bd3786\"], [0.5555555555555556, \"#d8576b\"], [0.6666666666666666, \"#ed7953\"], [0.7777777777777778, \"#fb9f3a\"], [0.8888888888888888, \"#fdca26\"], [1.0, \"#f0f921\"]], \"type\": \"heatmap\"}], \"heatmapgl\": [{\"colorbar\": {\"outlinewidth\": 0, \"ticks\": \"\"}, \"colorscale\": [[0.0, \"#0d0887\"], [0.1111111111111111, \"#46039f\"], [0.2222222222222222, \"#7201a8\"], [0.3333333333333333, \"#9c179e\"], [0.4444444444444444, \"#bd3786\"], [0.5555555555555556, \"#d8576b\"], [0.6666666666666666, \"#ed7953\"], [0.7777777777777778, \"#fb9f3a\"], [0.8888888888888888, \"#fdca26\"], [1.0, \"#f0f921\"]], \"type\": \"heatmapgl\"}], \"histogram\": [{\"marker\": {\"colorbar\": {\"outlinewidth\": 0, \"ticks\": \"\"}}, \"type\": \"histogram\"}], \"histogram2d\": [{\"colorbar\": {\"outlinewidth\": 0, \"ticks\": \"\"}, \"colorscale\": [[0.0, \"#0d0887\"], [0.1111111111111111, \"#46039f\"], [0.2222222222222222, \"#7201a8\"], [0.3333333333333333, \"#9c179e\"], [0.4444444444444444, \"#bd3786\"], [0.5555555555555556, \"#d8576b\"], [0.6666666666666666, \"#ed7953\"], [0.7777777777777778, \"#fb9f3a\"], [0.8888888888888888, \"#fdca26\"], [1.0, \"#f0f921\"]], \"type\": \"histogram2d\"}], \"histogram2dcontour\": [{\"colorbar\": {\"outlinewidth\": 0, \"ticks\": \"\"}, \"colorscale\": [[0.0, \"#0d0887\"], [0.1111111111111111, \"#46039f\"], [0.2222222222222222, \"#7201a8\"], [0.3333333333333333, \"#9c179e\"], [0.4444444444444444, \"#bd3786\"], [0.5555555555555556, \"#d8576b\"], [0.6666666666666666, \"#ed7953\"], [0.7777777777777778, \"#fb9f3a\"], [0.8888888888888888, \"#fdca26\"], [1.0, \"#f0f921\"]], \"type\": \"histogram2dcontour\"}], \"mesh3d\": [{\"colorbar\": {\"outlinewidth\": 0, \"ticks\": \"\"}, \"type\": \"mesh3d\"}], \"parcoords\": [{\"line\": {\"colorbar\": {\"outlinewidth\": 0, \"ticks\": \"\"}}, \"type\": \"parcoords\"}], \"pie\": [{\"automargin\": true, \"type\": \"pie\"}], \"scatter\": [{\"marker\": {\"colorbar\": {\"outlinewidth\": 0, \"ticks\": \"\"}}, \"type\": \"scatter\"}], \"scatter3d\": [{\"line\": {\"colorbar\": {\"outlinewidth\": 0, \"ticks\": \"\"}}, \"marker\": {\"colorbar\": {\"outlinewidth\": 0, \"ticks\": \"\"}}, \"type\": \"scatter3d\"}], \"scattercarpet\": [{\"marker\": {\"colorbar\": {\"outlinewidth\": 0, \"ticks\": \"\"}}, \"type\": \"scattercarpet\"}], \"scattergeo\": [{\"marker\": {\"colorbar\": {\"outlinewidth\": 0, \"ticks\": \"\"}}, \"type\": \"scattergeo\"}], \"scattergl\": [{\"marker\": {\"colorbar\": {\"outlinewidth\": 0, \"ticks\": \"\"}}, \"type\": \"scattergl\"}], \"scattermapbox\": [{\"marker\": {\"colorbar\": {\"outlinewidth\": 0, \"ticks\": \"\"}}, \"type\": \"scattermapbox\"}], \"scatterpolar\": [{\"marker\": {\"colorbar\": {\"outlinewidth\": 0, \"ticks\": \"\"}}, \"type\": \"scatterpolar\"}], \"scatterpolargl\": [{\"marker\": {\"colorbar\": {\"outlinewidth\": 0, \"ticks\": \"\"}}, \"type\": \"scatterpolargl\"}], \"scatterternary\": [{\"marker\": {\"colorbar\": {\"outlinewidth\": 0, \"ticks\": \"\"}}, \"type\": \"scatterternary\"}], \"surface\": [{\"colorbar\": {\"outlinewidth\": 0, \"ticks\": \"\"}, \"colorscale\": [[0.0, \"#0d0887\"], [0.1111111111111111, \"#46039f\"], [0.2222222222222222, \"#7201a8\"], [0.3333333333333333, \"#9c179e\"], [0.4444444444444444, \"#bd3786\"], [0.5555555555555556, \"#d8576b\"], [0.6666666666666666, \"#ed7953\"], [0.7777777777777778, \"#fb9f3a\"], [0.8888888888888888, \"#fdca26\"], [1.0, \"#f0f921\"]], \"type\": \"surface\"}], \"table\": [{\"cells\": {\"fill\": {\"color\": \"#EBF0F8\"}, \"line\": {\"color\": \"white\"}}, \"header\": {\"fill\": {\"color\": \"#C8D4E3\"}, \"line\": {\"color\": \"white\"}}, \"type\": \"table\"}]}, \"layout\": {\"annotationdefaults\": {\"arrowcolor\": \"#2a3f5f\", \"arrowhead\": 0, \"arrowwidth\": 1}, \"coloraxis\": {\"colorbar\": {\"outlinewidth\": 0, \"ticks\": \"\"}}, \"colorscale\": {\"diverging\": [[0, \"#8e0152\"], [0.1, \"#c51b7d\"], [0.2, \"#de77ae\"], [0.3, \"#f1b6da\"], [0.4, \"#fde0ef\"], [0.5, \"#f7f7f7\"], [0.6, \"#e6f5d0\"], [0.7, \"#b8e186\"], [0.8, \"#7fbc41\"], [0.9, \"#4d9221\"], [1, \"#276419\"]], \"sequential\": [[0.0, \"#0d0887\"], [0.1111111111111111, \"#46039f\"], [0.2222222222222222, \"#7201a8\"], [0.3333333333333333, \"#9c179e\"], [0.4444444444444444, \"#bd3786\"], [0.5555555555555556, \"#d8576b\"], [0.6666666666666666, \"#ed7953\"], [0.7777777777777778, \"#fb9f3a\"], [0.8888888888888888, \"#fdca26\"], [1.0, \"#f0f921\"]], \"sequentialminus\": [[0.0, \"#0d0887\"], [0.1111111111111111, \"#46039f\"], [0.2222222222222222, \"#7201a8\"], [0.3333333333333333, \"#9c179e\"], [0.4444444444444444, \"#bd3786\"], [0.5555555555555556, \"#d8576b\"], [0.6666666666666666, \"#ed7953\"], [0.7777777777777778, \"#fb9f3a\"], [0.8888888888888888, \"#fdca26\"], [1.0, \"#f0f921\"]]}, \"colorway\": [\"#636efa\", \"#EF553B\", \"#00cc96\", \"#ab63fa\", \"#FFA15A\", \"#19d3f3\", \"#FF6692\", \"#B6E880\", \"#FF97FF\", \"#FECB52\"], \"font\": {\"color\": \"#2a3f5f\"}, \"geo\": {\"bgcolor\": \"white\", \"lakecolor\": \"white\", \"landcolor\": \"#E5ECF6\", \"showlakes\": true, \"showland\": true, \"subunitcolor\": \"white\"}, \"hoverlabel\": {\"align\": \"left\"}, \"hovermode\": \"closest\", \"mapbox\": {\"style\": \"light\"}, \"paper_bgcolor\": \"white\", \"plot_bgcolor\": \"#E5ECF6\", \"polar\": {\"angularaxis\": {\"gridcolor\": \"white\", \"linecolor\": \"white\", \"ticks\": \"\"}, \"bgcolor\": \"#E5ECF6\", \"radialaxis\": {\"gridcolor\": \"white\", \"linecolor\": \"white\", \"ticks\": \"\"}}, \"scene\": {\"xaxis\": {\"backgroundcolor\": \"#E5ECF6\", \"gridcolor\": \"white\", \"gridwidth\": 2, \"linecolor\": \"white\", \"showbackground\": true, \"ticks\": \"\", \"zerolinecolor\": \"white\"}, \"yaxis\": {\"backgroundcolor\": \"#E5ECF6\", \"gridcolor\": \"white\", \"gridwidth\": 2, \"linecolor\": \"white\", \"showbackground\": true, \"ticks\": \"\", \"zerolinecolor\": \"white\"}, \"zaxis\": {\"backgroundcolor\": \"#E5ECF6\", \"gridcolor\": \"white\", \"gridwidth\": 2, \"linecolor\": \"white\", \"showbackground\": true, \"ticks\": \"\", \"zerolinecolor\": \"white\"}}, \"shapedefaults\": {\"line\": {\"color\": \"#2a3f5f\"}}, \"ternary\": {\"aaxis\": {\"gridcolor\": \"white\", \"linecolor\": \"white\", \"ticks\": \"\"}, \"baxis\": {\"gridcolor\": \"white\", \"linecolor\": \"white\", \"ticks\": \"\"}, \"bgcolor\": \"#E5ECF6\", \"caxis\": {\"gridcolor\": \"white\", \"linecolor\": \"white\", \"ticks\": \"\"}}, \"title\": {\"x\": 0.05}, \"xaxis\": {\"automargin\": true, \"gridcolor\": \"white\", \"linecolor\": \"white\", \"ticks\": \"\", \"title\": {\"standoff\": 15}, \"zerolinecolor\": \"white\", \"zerolinewidth\": 2}, \"yaxis\": {\"automargin\": true, \"gridcolor\": \"white\", \"linecolor\": \"white\", \"ticks\": \"\", \"title\": {\"standoff\": 15}, \"zerolinecolor\": \"white\", \"zerolinewidth\": 2}}}, \"title\": {\"font\": {\"color\": \"#4D5663\"}}, \"xaxis\": {\"gridcolor\": \"#E1E5ED\", \"showgrid\": true, \"tickfont\": {\"color\": \"#4D5663\"}, \"title\": {\"font\": {\"color\": \"#4D5663\"}, \"text\": \"\"}, \"zerolinecolor\": \"#E1E5ED\"}, \"yaxis\": {\"gridcolor\": \"#E1E5ED\", \"showgrid\": true, \"tickfont\": {\"color\": \"#4D5663\"}, \"title\": {\"font\": {\"color\": \"#4D5663\"}, \"text\": \"\"}, \"zerolinecolor\": \"#E1E5ED\"}},\n",
       "                        {\"showLink\": true, \"linkText\": \"Export to plot.ly\", \"plotlyServerURL\": \"https://plot.ly\", \"responsive\": true}\n",
       "                    ).then(function(){\n",
       "                            \n",
       "var gd = document.getElementById('d6a4a033-b552-4c1a-a2a8-20c18724e124');\n",
       "var x = new MutationObserver(function (mutations, observer) {{\n",
       "        var display = window.getComputedStyle(gd).display;\n",
       "        if (!display || display === 'none') {{\n",
       "            console.log([gd, 'removed!']);\n",
       "            Plotly.purge(gd);\n",
       "            observer.disconnect();\n",
       "        }}\n",
       "}});\n",
       "\n",
       "// Listen for the removal of the full notebook cells\n",
       "var notebookContainer = gd.closest('#notebook-container');\n",
       "if (notebookContainer) {{\n",
       "    x.observe(notebookContainer, {childList: true});\n",
       "}}\n",
       "\n",
       "// Listen for the clearing of the current output cell\n",
       "var outputEl = gd.closest('.output');\n",
       "if (outputEl) {{\n",
       "    x.observe(outputEl, {childList: true});\n",
       "}}\n",
       "\n",
       "                        })\n",
       "                };\n",
       "                });\n",
       "            </script>\n",
       "        </div>"
      ]
     },
     "metadata": {},
     "output_type": "display_data"
    }
   ],
   "source": [
    "df2.iplot(kind='bar',x='Category',y='Values')"
   ]
  },
  {
   "cell_type": "code",
   "execution_count": 12,
   "metadata": {},
   "outputs": [
    {
     "data": {
      "application/vnd.plotly.v1+json": {
       "config": {
        "linkText": "Export to plot.ly",
        "plotlyServerURL": "https://plot.ly",
        "showLink": true
       },
       "data": [
        {
         "marker": {
          "color": "rgba(255, 153, 51, 0.6)",
          "line": {
           "color": "rgba(255, 153, 51, 1.0)",
           "width": 1
          }
         },
         "name": "None",
         "orientation": "v",
         "text": "",
         "type": "bar",
         "x": [
          "A",
          "B",
          "C",
          "D"
         ],
         "y": [
          100,
          100,
          100,
          100
         ]
        }
       ],
       "layout": {
        "legend": {
         "bgcolor": "#F5F6F9",
         "font": {
          "color": "#4D5663"
         }
        },
        "paper_bgcolor": "#F5F6F9",
        "plot_bgcolor": "#F5F6F9",
        "template": {
         "data": {
          "bar": [
           {
            "error_x": {
             "color": "#2a3f5f"
            },
            "error_y": {
             "color": "#2a3f5f"
            },
            "marker": {
             "line": {
              "color": "#E5ECF6",
              "width": 0.5
             }
            },
            "type": "bar"
           }
          ],
          "barpolar": [
           {
            "marker": {
             "line": {
              "color": "#E5ECF6",
              "width": 0.5
             }
            },
            "type": "barpolar"
           }
          ],
          "carpet": [
           {
            "aaxis": {
             "endlinecolor": "#2a3f5f",
             "gridcolor": "white",
             "linecolor": "white",
             "minorgridcolor": "white",
             "startlinecolor": "#2a3f5f"
            },
            "baxis": {
             "endlinecolor": "#2a3f5f",
             "gridcolor": "white",
             "linecolor": "white",
             "minorgridcolor": "white",
             "startlinecolor": "#2a3f5f"
            },
            "type": "carpet"
           }
          ],
          "choropleth": [
           {
            "colorbar": {
             "outlinewidth": 0,
             "ticks": ""
            },
            "type": "choropleth"
           }
          ],
          "contour": [
           {
            "colorbar": {
             "outlinewidth": 0,
             "ticks": ""
            },
            "colorscale": [
             [
              0,
              "#0d0887"
             ],
             [
              0.1111111111111111,
              "#46039f"
             ],
             [
              0.2222222222222222,
              "#7201a8"
             ],
             [
              0.3333333333333333,
              "#9c179e"
             ],
             [
              0.4444444444444444,
              "#bd3786"
             ],
             [
              0.5555555555555556,
              "#d8576b"
             ],
             [
              0.6666666666666666,
              "#ed7953"
             ],
             [
              0.7777777777777778,
              "#fb9f3a"
             ],
             [
              0.8888888888888888,
              "#fdca26"
             ],
             [
              1,
              "#f0f921"
             ]
            ],
            "type": "contour"
           }
          ],
          "contourcarpet": [
           {
            "colorbar": {
             "outlinewidth": 0,
             "ticks": ""
            },
            "type": "contourcarpet"
           }
          ],
          "heatmap": [
           {
            "colorbar": {
             "outlinewidth": 0,
             "ticks": ""
            },
            "colorscale": [
             [
              0,
              "#0d0887"
             ],
             [
              0.1111111111111111,
              "#46039f"
             ],
             [
              0.2222222222222222,
              "#7201a8"
             ],
             [
              0.3333333333333333,
              "#9c179e"
             ],
             [
              0.4444444444444444,
              "#bd3786"
             ],
             [
              0.5555555555555556,
              "#d8576b"
             ],
             [
              0.6666666666666666,
              "#ed7953"
             ],
             [
              0.7777777777777778,
              "#fb9f3a"
             ],
             [
              0.8888888888888888,
              "#fdca26"
             ],
             [
              1,
              "#f0f921"
             ]
            ],
            "type": "heatmap"
           }
          ],
          "heatmapgl": [
           {
            "colorbar": {
             "outlinewidth": 0,
             "ticks": ""
            },
            "colorscale": [
             [
              0,
              "#0d0887"
             ],
             [
              0.1111111111111111,
              "#46039f"
             ],
             [
              0.2222222222222222,
              "#7201a8"
             ],
             [
              0.3333333333333333,
              "#9c179e"
             ],
             [
              0.4444444444444444,
              "#bd3786"
             ],
             [
              0.5555555555555556,
              "#d8576b"
             ],
             [
              0.6666666666666666,
              "#ed7953"
             ],
             [
              0.7777777777777778,
              "#fb9f3a"
             ],
             [
              0.8888888888888888,
              "#fdca26"
             ],
             [
              1,
              "#f0f921"
             ]
            ],
            "type": "heatmapgl"
           }
          ],
          "histogram": [
           {
            "marker": {
             "colorbar": {
              "outlinewidth": 0,
              "ticks": ""
             }
            },
            "type": "histogram"
           }
          ],
          "histogram2d": [
           {
            "colorbar": {
             "outlinewidth": 0,
             "ticks": ""
            },
            "colorscale": [
             [
              0,
              "#0d0887"
             ],
             [
              0.1111111111111111,
              "#46039f"
             ],
             [
              0.2222222222222222,
              "#7201a8"
             ],
             [
              0.3333333333333333,
              "#9c179e"
             ],
             [
              0.4444444444444444,
              "#bd3786"
             ],
             [
              0.5555555555555556,
              "#d8576b"
             ],
             [
              0.6666666666666666,
              "#ed7953"
             ],
             [
              0.7777777777777778,
              "#fb9f3a"
             ],
             [
              0.8888888888888888,
              "#fdca26"
             ],
             [
              1,
              "#f0f921"
             ]
            ],
            "type": "histogram2d"
           }
          ],
          "histogram2dcontour": [
           {
            "colorbar": {
             "outlinewidth": 0,
             "ticks": ""
            },
            "colorscale": [
             [
              0,
              "#0d0887"
             ],
             [
              0.1111111111111111,
              "#46039f"
             ],
             [
              0.2222222222222222,
              "#7201a8"
             ],
             [
              0.3333333333333333,
              "#9c179e"
             ],
             [
              0.4444444444444444,
              "#bd3786"
             ],
             [
              0.5555555555555556,
              "#d8576b"
             ],
             [
              0.6666666666666666,
              "#ed7953"
             ],
             [
              0.7777777777777778,
              "#fb9f3a"
             ],
             [
              0.8888888888888888,
              "#fdca26"
             ],
             [
              1,
              "#f0f921"
             ]
            ],
            "type": "histogram2dcontour"
           }
          ],
          "mesh3d": [
           {
            "colorbar": {
             "outlinewidth": 0,
             "ticks": ""
            },
            "type": "mesh3d"
           }
          ],
          "parcoords": [
           {
            "line": {
             "colorbar": {
              "outlinewidth": 0,
              "ticks": ""
             }
            },
            "type": "parcoords"
           }
          ],
          "pie": [
           {
            "automargin": true,
            "type": "pie"
           }
          ],
          "scatter": [
           {
            "marker": {
             "colorbar": {
              "outlinewidth": 0,
              "ticks": ""
             }
            },
            "type": "scatter"
           }
          ],
          "scatter3d": [
           {
            "line": {
             "colorbar": {
              "outlinewidth": 0,
              "ticks": ""
             }
            },
            "marker": {
             "colorbar": {
              "outlinewidth": 0,
              "ticks": ""
             }
            },
            "type": "scatter3d"
           }
          ],
          "scattercarpet": [
           {
            "marker": {
             "colorbar": {
              "outlinewidth": 0,
              "ticks": ""
             }
            },
            "type": "scattercarpet"
           }
          ],
          "scattergeo": [
           {
            "marker": {
             "colorbar": {
              "outlinewidth": 0,
              "ticks": ""
             }
            },
            "type": "scattergeo"
           }
          ],
          "scattergl": [
           {
            "marker": {
             "colorbar": {
              "outlinewidth": 0,
              "ticks": ""
             }
            },
            "type": "scattergl"
           }
          ],
          "scattermapbox": [
           {
            "marker": {
             "colorbar": {
              "outlinewidth": 0,
              "ticks": ""
             }
            },
            "type": "scattermapbox"
           }
          ],
          "scatterpolar": [
           {
            "marker": {
             "colorbar": {
              "outlinewidth": 0,
              "ticks": ""
             }
            },
            "type": "scatterpolar"
           }
          ],
          "scatterpolargl": [
           {
            "marker": {
             "colorbar": {
              "outlinewidth": 0,
              "ticks": ""
             }
            },
            "type": "scatterpolargl"
           }
          ],
          "scatterternary": [
           {
            "marker": {
             "colorbar": {
              "outlinewidth": 0,
              "ticks": ""
             }
            },
            "type": "scatterternary"
           }
          ],
          "surface": [
           {
            "colorbar": {
             "outlinewidth": 0,
             "ticks": ""
            },
            "colorscale": [
             [
              0,
              "#0d0887"
             ],
             [
              0.1111111111111111,
              "#46039f"
             ],
             [
              0.2222222222222222,
              "#7201a8"
             ],
             [
              0.3333333333333333,
              "#9c179e"
             ],
             [
              0.4444444444444444,
              "#bd3786"
             ],
             [
              0.5555555555555556,
              "#d8576b"
             ],
             [
              0.6666666666666666,
              "#ed7953"
             ],
             [
              0.7777777777777778,
              "#fb9f3a"
             ],
             [
              0.8888888888888888,
              "#fdca26"
             ],
             [
              1,
              "#f0f921"
             ]
            ],
            "type": "surface"
           }
          ],
          "table": [
           {
            "cells": {
             "fill": {
              "color": "#EBF0F8"
             },
             "line": {
              "color": "white"
             }
            },
            "header": {
             "fill": {
              "color": "#C8D4E3"
             },
             "line": {
              "color": "white"
             }
            },
            "type": "table"
           }
          ]
         },
         "layout": {
          "annotationdefaults": {
           "arrowcolor": "#2a3f5f",
           "arrowhead": 0,
           "arrowwidth": 1
          },
          "coloraxis": {
           "colorbar": {
            "outlinewidth": 0,
            "ticks": ""
           }
          },
          "colorscale": {
           "diverging": [
            [
             0,
             "#8e0152"
            ],
            [
             0.1,
             "#c51b7d"
            ],
            [
             0.2,
             "#de77ae"
            ],
            [
             0.3,
             "#f1b6da"
            ],
            [
             0.4,
             "#fde0ef"
            ],
            [
             0.5,
             "#f7f7f7"
            ],
            [
             0.6,
             "#e6f5d0"
            ],
            [
             0.7,
             "#b8e186"
            ],
            [
             0.8,
             "#7fbc41"
            ],
            [
             0.9,
             "#4d9221"
            ],
            [
             1,
             "#276419"
            ]
           ],
           "sequential": [
            [
             0,
             "#0d0887"
            ],
            [
             0.1111111111111111,
             "#46039f"
            ],
            [
             0.2222222222222222,
             "#7201a8"
            ],
            [
             0.3333333333333333,
             "#9c179e"
            ],
            [
             0.4444444444444444,
             "#bd3786"
            ],
            [
             0.5555555555555556,
             "#d8576b"
            ],
            [
             0.6666666666666666,
             "#ed7953"
            ],
            [
             0.7777777777777778,
             "#fb9f3a"
            ],
            [
             0.8888888888888888,
             "#fdca26"
            ],
            [
             1,
             "#f0f921"
            ]
           ],
           "sequentialminus": [
            [
             0,
             "#0d0887"
            ],
            [
             0.1111111111111111,
             "#46039f"
            ],
            [
             0.2222222222222222,
             "#7201a8"
            ],
            [
             0.3333333333333333,
             "#9c179e"
            ],
            [
             0.4444444444444444,
             "#bd3786"
            ],
            [
             0.5555555555555556,
             "#d8576b"
            ],
            [
             0.6666666666666666,
             "#ed7953"
            ],
            [
             0.7777777777777778,
             "#fb9f3a"
            ],
            [
             0.8888888888888888,
             "#fdca26"
            ],
            [
             1,
             "#f0f921"
            ]
           ]
          },
          "colorway": [
           "#636efa",
           "#EF553B",
           "#00cc96",
           "#ab63fa",
           "#FFA15A",
           "#19d3f3",
           "#FF6692",
           "#B6E880",
           "#FF97FF",
           "#FECB52"
          ],
          "font": {
           "color": "#2a3f5f"
          },
          "geo": {
           "bgcolor": "white",
           "lakecolor": "white",
           "landcolor": "#E5ECF6",
           "showlakes": true,
           "showland": true,
           "subunitcolor": "white"
          },
          "hoverlabel": {
           "align": "left"
          },
          "hovermode": "closest",
          "mapbox": {
           "style": "light"
          },
          "paper_bgcolor": "white",
          "plot_bgcolor": "#E5ECF6",
          "polar": {
           "angularaxis": {
            "gridcolor": "white",
            "linecolor": "white",
            "ticks": ""
           },
           "bgcolor": "#E5ECF6",
           "radialaxis": {
            "gridcolor": "white",
            "linecolor": "white",
            "ticks": ""
           }
          },
          "scene": {
           "xaxis": {
            "backgroundcolor": "#E5ECF6",
            "gridcolor": "white",
            "gridwidth": 2,
            "linecolor": "white",
            "showbackground": true,
            "ticks": "",
            "zerolinecolor": "white"
           },
           "yaxis": {
            "backgroundcolor": "#E5ECF6",
            "gridcolor": "white",
            "gridwidth": 2,
            "linecolor": "white",
            "showbackground": true,
            "ticks": "",
            "zerolinecolor": "white"
           },
           "zaxis": {
            "backgroundcolor": "#E5ECF6",
            "gridcolor": "white",
            "gridwidth": 2,
            "linecolor": "white",
            "showbackground": true,
            "ticks": "",
            "zerolinecolor": "white"
           }
          },
          "shapedefaults": {
           "line": {
            "color": "#2a3f5f"
           }
          },
          "ternary": {
           "aaxis": {
            "gridcolor": "white",
            "linecolor": "white",
            "ticks": ""
           },
           "baxis": {
            "gridcolor": "white",
            "linecolor": "white",
            "ticks": ""
           },
           "bgcolor": "#E5ECF6",
           "caxis": {
            "gridcolor": "white",
            "linecolor": "white",
            "ticks": ""
           }
          },
          "title": {
           "x": 0.05
          },
          "xaxis": {
           "automargin": true,
           "gridcolor": "white",
           "linecolor": "white",
           "ticks": "",
           "title": {
            "standoff": 15
           },
           "zerolinecolor": "white",
           "zerolinewidth": 2
          },
          "yaxis": {
           "automargin": true,
           "gridcolor": "white",
           "linecolor": "white",
           "ticks": "",
           "title": {
            "standoff": 15
           },
           "zerolinecolor": "white",
           "zerolinewidth": 2
          }
         }
        },
        "title": {
         "font": {
          "color": "#4D5663"
         }
        },
        "xaxis": {
         "gridcolor": "#E1E5ED",
         "showgrid": true,
         "tickfont": {
          "color": "#4D5663"
         },
         "title": {
          "font": {
           "color": "#4D5663"
          },
          "text": ""
         },
         "zerolinecolor": "#E1E5ED"
        },
        "yaxis": {
         "gridcolor": "#E1E5ED",
         "showgrid": true,
         "tickfont": {
          "color": "#4D5663"
         },
         "title": {
          "font": {
           "color": "#4D5663"
          },
          "text": ""
         },
         "zerolinecolor": "#E1E5ED"
        }
       }
      },
      "text/html": [
       "<div>\n",
       "        \n",
       "        \n",
       "            <div id=\"35df2a28-f799-4e8c-a458-e2aa39334c9f\" class=\"plotly-graph-div\" style=\"height:525px; width:100%;\"></div>\n",
       "            <script type=\"text/javascript\">\n",
       "                require([\"plotly\"], function(Plotly) {\n",
       "                    window.PLOTLYENV=window.PLOTLYENV || {};\n",
       "                    window.PLOTLYENV.BASE_URL='https://plot.ly';\n",
       "                    \n",
       "                if (document.getElementById(\"35df2a28-f799-4e8c-a458-e2aa39334c9f\")) {\n",
       "                    Plotly.newPlot(\n",
       "                        '35df2a28-f799-4e8c-a458-e2aa39334c9f',\n",
       "                        [{\"marker\": {\"color\": \"rgba(255, 153, 51, 0.6)\", \"line\": {\"color\": \"rgba(255, 153, 51, 1.0)\", \"width\": 1}}, \"name\": \"None\", \"orientation\": \"v\", \"text\": \"\", \"type\": \"bar\", \"x\": [\"A\", \"B\", \"C\", \"D\"], \"y\": [100, 100, 100, 100]}],\n",
       "                        {\"legend\": {\"bgcolor\": \"#F5F6F9\", \"font\": {\"color\": \"#4D5663\"}}, \"paper_bgcolor\": \"#F5F6F9\", \"plot_bgcolor\": \"#F5F6F9\", \"template\": {\"data\": {\"bar\": [{\"error_x\": {\"color\": \"#2a3f5f\"}, \"error_y\": {\"color\": \"#2a3f5f\"}, \"marker\": {\"line\": {\"color\": \"#E5ECF6\", \"width\": 0.5}}, \"type\": \"bar\"}], \"barpolar\": [{\"marker\": {\"line\": {\"color\": \"#E5ECF6\", \"width\": 0.5}}, \"type\": \"barpolar\"}], \"carpet\": [{\"aaxis\": {\"endlinecolor\": \"#2a3f5f\", \"gridcolor\": \"white\", \"linecolor\": \"white\", \"minorgridcolor\": \"white\", \"startlinecolor\": \"#2a3f5f\"}, \"baxis\": {\"endlinecolor\": \"#2a3f5f\", \"gridcolor\": \"white\", \"linecolor\": \"white\", \"minorgridcolor\": \"white\", \"startlinecolor\": \"#2a3f5f\"}, \"type\": \"carpet\"}], \"choropleth\": [{\"colorbar\": {\"outlinewidth\": 0, \"ticks\": \"\"}, \"type\": \"choropleth\"}], \"contour\": [{\"colorbar\": {\"outlinewidth\": 0, \"ticks\": \"\"}, \"colorscale\": [[0.0, \"#0d0887\"], [0.1111111111111111, \"#46039f\"], [0.2222222222222222, \"#7201a8\"], [0.3333333333333333, \"#9c179e\"], [0.4444444444444444, \"#bd3786\"], [0.5555555555555556, \"#d8576b\"], [0.6666666666666666, \"#ed7953\"], [0.7777777777777778, \"#fb9f3a\"], [0.8888888888888888, \"#fdca26\"], [1.0, \"#f0f921\"]], \"type\": \"contour\"}], \"contourcarpet\": [{\"colorbar\": {\"outlinewidth\": 0, \"ticks\": \"\"}, \"type\": \"contourcarpet\"}], \"heatmap\": [{\"colorbar\": {\"outlinewidth\": 0, \"ticks\": \"\"}, \"colorscale\": [[0.0, \"#0d0887\"], [0.1111111111111111, \"#46039f\"], [0.2222222222222222, \"#7201a8\"], [0.3333333333333333, \"#9c179e\"], [0.4444444444444444, \"#bd3786\"], [0.5555555555555556, \"#d8576b\"], [0.6666666666666666, \"#ed7953\"], [0.7777777777777778, \"#fb9f3a\"], [0.8888888888888888, \"#fdca26\"], [1.0, \"#f0f921\"]], \"type\": \"heatmap\"}], \"heatmapgl\": [{\"colorbar\": {\"outlinewidth\": 0, \"ticks\": \"\"}, \"colorscale\": [[0.0, \"#0d0887\"], [0.1111111111111111, \"#46039f\"], [0.2222222222222222, \"#7201a8\"], [0.3333333333333333, \"#9c179e\"], [0.4444444444444444, \"#bd3786\"], [0.5555555555555556, \"#d8576b\"], [0.6666666666666666, \"#ed7953\"], [0.7777777777777778, \"#fb9f3a\"], [0.8888888888888888, \"#fdca26\"], [1.0, \"#f0f921\"]], \"type\": \"heatmapgl\"}], \"histogram\": [{\"marker\": {\"colorbar\": {\"outlinewidth\": 0, \"ticks\": \"\"}}, \"type\": \"histogram\"}], \"histogram2d\": [{\"colorbar\": {\"outlinewidth\": 0, \"ticks\": \"\"}, \"colorscale\": [[0.0, \"#0d0887\"], [0.1111111111111111, \"#46039f\"], [0.2222222222222222, \"#7201a8\"], [0.3333333333333333, \"#9c179e\"], [0.4444444444444444, \"#bd3786\"], [0.5555555555555556, \"#d8576b\"], [0.6666666666666666, \"#ed7953\"], [0.7777777777777778, \"#fb9f3a\"], [0.8888888888888888, \"#fdca26\"], [1.0, \"#f0f921\"]], \"type\": \"histogram2d\"}], \"histogram2dcontour\": [{\"colorbar\": {\"outlinewidth\": 0, \"ticks\": \"\"}, \"colorscale\": [[0.0, \"#0d0887\"], [0.1111111111111111, \"#46039f\"], [0.2222222222222222, \"#7201a8\"], [0.3333333333333333, \"#9c179e\"], [0.4444444444444444, \"#bd3786\"], [0.5555555555555556, \"#d8576b\"], [0.6666666666666666, \"#ed7953\"], [0.7777777777777778, \"#fb9f3a\"], [0.8888888888888888, \"#fdca26\"], [1.0, \"#f0f921\"]], \"type\": \"histogram2dcontour\"}], \"mesh3d\": [{\"colorbar\": {\"outlinewidth\": 0, \"ticks\": \"\"}, \"type\": \"mesh3d\"}], \"parcoords\": [{\"line\": {\"colorbar\": {\"outlinewidth\": 0, \"ticks\": \"\"}}, \"type\": \"parcoords\"}], \"pie\": [{\"automargin\": true, \"type\": \"pie\"}], \"scatter\": [{\"marker\": {\"colorbar\": {\"outlinewidth\": 0, \"ticks\": \"\"}}, \"type\": \"scatter\"}], \"scatter3d\": [{\"line\": {\"colorbar\": {\"outlinewidth\": 0, \"ticks\": \"\"}}, \"marker\": {\"colorbar\": {\"outlinewidth\": 0, \"ticks\": \"\"}}, \"type\": \"scatter3d\"}], \"scattercarpet\": [{\"marker\": {\"colorbar\": {\"outlinewidth\": 0, \"ticks\": \"\"}}, \"type\": \"scattercarpet\"}], \"scattergeo\": [{\"marker\": {\"colorbar\": {\"outlinewidth\": 0, \"ticks\": \"\"}}, \"type\": \"scattergeo\"}], \"scattergl\": [{\"marker\": {\"colorbar\": {\"outlinewidth\": 0, \"ticks\": \"\"}}, \"type\": \"scattergl\"}], \"scattermapbox\": [{\"marker\": {\"colorbar\": {\"outlinewidth\": 0, \"ticks\": \"\"}}, \"type\": \"scattermapbox\"}], \"scatterpolar\": [{\"marker\": {\"colorbar\": {\"outlinewidth\": 0, \"ticks\": \"\"}}, \"type\": \"scatterpolar\"}], \"scatterpolargl\": [{\"marker\": {\"colorbar\": {\"outlinewidth\": 0, \"ticks\": \"\"}}, \"type\": \"scatterpolargl\"}], \"scatterternary\": [{\"marker\": {\"colorbar\": {\"outlinewidth\": 0, \"ticks\": \"\"}}, \"type\": \"scatterternary\"}], \"surface\": [{\"colorbar\": {\"outlinewidth\": 0, \"ticks\": \"\"}, \"colorscale\": [[0.0, \"#0d0887\"], [0.1111111111111111, \"#46039f\"], [0.2222222222222222, \"#7201a8\"], [0.3333333333333333, \"#9c179e\"], [0.4444444444444444, \"#bd3786\"], [0.5555555555555556, \"#d8576b\"], [0.6666666666666666, \"#ed7953\"], [0.7777777777777778, \"#fb9f3a\"], [0.8888888888888888, \"#fdca26\"], [1.0, \"#f0f921\"]], \"type\": \"surface\"}], \"table\": [{\"cells\": {\"fill\": {\"color\": \"#EBF0F8\"}, \"line\": {\"color\": \"white\"}}, \"header\": {\"fill\": {\"color\": \"#C8D4E3\"}, \"line\": {\"color\": \"white\"}}, \"type\": \"table\"}]}, \"layout\": {\"annotationdefaults\": {\"arrowcolor\": \"#2a3f5f\", \"arrowhead\": 0, \"arrowwidth\": 1}, \"coloraxis\": {\"colorbar\": {\"outlinewidth\": 0, \"ticks\": \"\"}}, \"colorscale\": {\"diverging\": [[0, \"#8e0152\"], [0.1, \"#c51b7d\"], [0.2, \"#de77ae\"], [0.3, \"#f1b6da\"], [0.4, \"#fde0ef\"], [0.5, \"#f7f7f7\"], [0.6, \"#e6f5d0\"], [0.7, \"#b8e186\"], [0.8, \"#7fbc41\"], [0.9, \"#4d9221\"], [1, \"#276419\"]], \"sequential\": [[0.0, \"#0d0887\"], [0.1111111111111111, \"#46039f\"], [0.2222222222222222, \"#7201a8\"], [0.3333333333333333, \"#9c179e\"], [0.4444444444444444, \"#bd3786\"], [0.5555555555555556, \"#d8576b\"], [0.6666666666666666, \"#ed7953\"], [0.7777777777777778, \"#fb9f3a\"], [0.8888888888888888, \"#fdca26\"], [1.0, \"#f0f921\"]], \"sequentialminus\": [[0.0, \"#0d0887\"], [0.1111111111111111, \"#46039f\"], [0.2222222222222222, \"#7201a8\"], [0.3333333333333333, \"#9c179e\"], [0.4444444444444444, \"#bd3786\"], [0.5555555555555556, \"#d8576b\"], [0.6666666666666666, \"#ed7953\"], [0.7777777777777778, \"#fb9f3a\"], [0.8888888888888888, \"#fdca26\"], [1.0, \"#f0f921\"]]}, \"colorway\": [\"#636efa\", \"#EF553B\", \"#00cc96\", \"#ab63fa\", \"#FFA15A\", \"#19d3f3\", \"#FF6692\", \"#B6E880\", \"#FF97FF\", \"#FECB52\"], \"font\": {\"color\": \"#2a3f5f\"}, \"geo\": {\"bgcolor\": \"white\", \"lakecolor\": \"white\", \"landcolor\": \"#E5ECF6\", \"showlakes\": true, \"showland\": true, \"subunitcolor\": \"white\"}, \"hoverlabel\": {\"align\": \"left\"}, \"hovermode\": \"closest\", \"mapbox\": {\"style\": \"light\"}, \"paper_bgcolor\": \"white\", \"plot_bgcolor\": \"#E5ECF6\", \"polar\": {\"angularaxis\": {\"gridcolor\": \"white\", \"linecolor\": \"white\", \"ticks\": \"\"}, \"bgcolor\": \"#E5ECF6\", \"radialaxis\": {\"gridcolor\": \"white\", \"linecolor\": \"white\", \"ticks\": \"\"}}, \"scene\": {\"xaxis\": {\"backgroundcolor\": \"#E5ECF6\", \"gridcolor\": \"white\", \"gridwidth\": 2, \"linecolor\": \"white\", \"showbackground\": true, \"ticks\": \"\", \"zerolinecolor\": \"white\"}, \"yaxis\": {\"backgroundcolor\": \"#E5ECF6\", \"gridcolor\": \"white\", \"gridwidth\": 2, \"linecolor\": \"white\", \"showbackground\": true, \"ticks\": \"\", \"zerolinecolor\": \"white\"}, \"zaxis\": {\"backgroundcolor\": \"#E5ECF6\", \"gridcolor\": \"white\", \"gridwidth\": 2, \"linecolor\": \"white\", \"showbackground\": true, \"ticks\": \"\", \"zerolinecolor\": \"white\"}}, \"shapedefaults\": {\"line\": {\"color\": \"#2a3f5f\"}}, \"ternary\": {\"aaxis\": {\"gridcolor\": \"white\", \"linecolor\": \"white\", \"ticks\": \"\"}, \"baxis\": {\"gridcolor\": \"white\", \"linecolor\": \"white\", \"ticks\": \"\"}, \"bgcolor\": \"#E5ECF6\", \"caxis\": {\"gridcolor\": \"white\", \"linecolor\": \"white\", \"ticks\": \"\"}}, \"title\": {\"x\": 0.05}, \"xaxis\": {\"automargin\": true, \"gridcolor\": \"white\", \"linecolor\": \"white\", \"ticks\": \"\", \"title\": {\"standoff\": 15}, \"zerolinecolor\": \"white\", \"zerolinewidth\": 2}, \"yaxis\": {\"automargin\": true, \"gridcolor\": \"white\", \"linecolor\": \"white\", \"ticks\": \"\", \"title\": {\"standoff\": 15}, \"zerolinecolor\": \"white\", \"zerolinewidth\": 2}}}, \"title\": {\"font\": {\"color\": \"#4D5663\"}}, \"xaxis\": {\"gridcolor\": \"#E1E5ED\", \"showgrid\": true, \"tickfont\": {\"color\": \"#4D5663\"}, \"title\": {\"font\": {\"color\": \"#4D5663\"}, \"text\": \"\"}, \"zerolinecolor\": \"#E1E5ED\"}, \"yaxis\": {\"gridcolor\": \"#E1E5ED\", \"showgrid\": true, \"tickfont\": {\"color\": \"#4D5663\"}, \"title\": {\"font\": {\"color\": \"#4D5663\"}, \"text\": \"\"}, \"zerolinecolor\": \"#E1E5ED\"}},\n",
       "                        {\"showLink\": true, \"linkText\": \"Export to plot.ly\", \"plotlyServerURL\": \"https://plot.ly\", \"responsive\": true}\n",
       "                    ).then(function(){\n",
       "                            \n",
       "var gd = document.getElementById('35df2a28-f799-4e8c-a458-e2aa39334c9f');\n",
       "var x = new MutationObserver(function (mutations, observer) {{\n",
       "        var display = window.getComputedStyle(gd).display;\n",
       "        if (!display || display === 'none') {{\n",
       "            console.log([gd, 'removed!']);\n",
       "            Plotly.purge(gd);\n",
       "            observer.disconnect();\n",
       "        }}\n",
       "}});\n",
       "\n",
       "// Listen for the removal of the full notebook cells\n",
       "var notebookContainer = gd.closest('#notebook-container');\n",
       "if (notebookContainer) {{\n",
       "    x.observe(notebookContainer, {childList: true});\n",
       "}}\n",
       "\n",
       "// Listen for the clearing of the current output cell\n",
       "var outputEl = gd.closest('.output');\n",
       "if (outputEl) {{\n",
       "    x.observe(outputEl, {childList: true});\n",
       "}}\n",
       "\n",
       "                        })\n",
       "                };\n",
       "                });\n",
       "            </script>\n",
       "        </div>"
      ]
     },
     "metadata": {},
     "output_type": "display_data"
    }
   ],
   "source": [
    "df.count().iplot(kind='bar')"
   ]
  },
  {
   "cell_type": "markdown",
   "metadata": {},
   "source": [
    "## Boxplots"
   ]
  },
  {
   "cell_type": "code",
   "execution_count": 13,
   "metadata": {},
   "outputs": [
    {
     "data": {
      "application/vnd.plotly.v1+json": {
       "config": {
        "linkText": "Export to plot.ly",
        "plotlyServerURL": "https://plot.ly",
        "showLink": true
       },
       "data": [
        {
         "boxpoints": false,
         "line": {
          "width": 1.3
         },
         "marker": {
          "color": "rgba(255, 153, 51, 1.0)"
         },
         "name": "A",
         "orientation": "v",
         "type": "box",
         "y": [
          0.8812869911184532,
          0.05260307890781848,
          1.0086019237679735,
          0.7735010115093424,
          -1.4798956576894429,
          0.8198463854589676,
          -1.2040817541874034,
          1.2699627475937838,
          -0.11345290001222112,
          0.1719844573795438,
          0.15838069667534363,
          1.27603061544194,
          -0.9424947572677399,
          2.1441741674254358,
          0.6508245211538712,
          0.3799749204007522,
          -1.0966510835250745,
          2.9842941329302737,
          -1.461864535325355,
          0.013081837992017068,
          -0.6178914209129064,
          -1.2896220084110415,
          0.5259820892490585,
          1.8213702945554302,
          0.8776244059109155,
          -0.34974595493858474,
          1.0418905894703157,
          1.5750095252645675,
          -0.024119632598965997,
          -0.8111034377683791,
          -1.5948617107184606,
          -0.15088026593594045,
          0.29575292517525564,
          0.40012272033796553,
          0.12573090497695202,
          0.36065966641021524,
          -0.005272947521793114,
          -0.3631194328241745,
          -0.42812218680133973,
          0.6666313352093304,
          -1.262945392514322,
          -0.32225440882849204,
          -1.424749497092938,
          -0.8910437992204715,
          0.7839849188648874,
          -0.9144901095782141,
          0.1768051911980829,
          -0.8675263969771217,
          0.6256814187311011,
          0.03528946102297187,
          -0.3626963391566758,
          -0.7028468922169727,
          1.2513720123613916,
          1.2000469024099973,
          0.9226024123992664,
          -1.366913696093309,
          -1.8926281424222031,
          -0.9253767647064,
          -0.38227139964091267,
          -0.9480858551506455,
          0.35918708257044574,
          0.6856435883732223,
          1.022387859708728,
          -1.2247530099619848,
          -2.422236055967968,
          2.16759153499099,
          0.79906341269673,
          0.45824253672922993,
          -1.4412402314503123,
          -0.692035342235428,
          0.2752804037565924,
          -0.9283622086105866,
          1.2253264363702223,
          2.011921715731842,
          -1.0141917691436357,
          -1.6814567853811353,
          0.3311828197363062,
          0.33049426204518395,
          0.807888420683415,
          0.19550968531256327,
          -0.09828648455536405,
          0.001838581371809573,
          -0.23473452864196656,
          1.3936577497115439,
          0.1921873435666354,
          -1.4102970375344719,
          -1.850135838866847,
          0.580157677241555,
          -0.8703051862721886,
          -0.2748984826461829,
          -0.9139044484992954,
          0.38912754303836977,
          1.1284322673468994,
          -0.47094526990649516,
          -1.5039535607679495,
          -0.5100415536363496,
          -0.8590745889148993,
          -1.311647941164508,
          0.2344890320855352,
          0.16386087529568444
         ]
        },
        {
         "boxpoints": false,
         "line": {
          "width": 1.3
         },
         "marker": {
          "color": "rgba(55, 128, 191, 1.0)"
         },
         "name": "B",
         "orientation": "v",
         "type": "box",
         "y": [
          -0.6176431754916366,
          0.2708582735313909,
          -1.540835833392384,
          -0.4035361915306973,
          -1.1266237077790675,
          0.5407621043809193,
          0.0052672995344969714,
          0.2182764128756272,
          0.6672327888727164,
          0.3963506613002244,
          0.6535368367393999,
          0.8240988668851247,
          -0.7546977599977602,
          -0.5158882436212068,
          -0.14134838179766704,
          1.1150969655695877,
          -1.5714997933954131,
          -0.2570051664700367,
          -0.8650919115630591,
          0.6165897275099402,
          0.9287942558187207,
          0.04050055028890707,
          -0.7222381670693432,
          0.7805733477609783,
          0.09243004140096453,
          1.032462277400557,
          0.4687929049698868,
          1.0641351870408824,
          -1.9013728141379314,
          0.8067346608357602,
          -1.5333923182844509,
          0.11105549090399285,
          -0.9373951056502263,
          1.834234717008625,
          -0.48765301492904783,
          -2.6477938956806932,
          1.0833572542811778,
          -0.22463212807599026,
          0.08850647680920762,
          -0.9416201117162727,
          1.6286184663411916,
          0.4766047584294469,
          -0.5907002205596157,
          0.2204085506044614,
          0.12749076632804768,
          0.5020777348069793,
          0.38461358099854154,
          -0.3534897435380235,
          0.3840183272325568,
          0.829373756112191,
          -0.8735441071828836,
          -0.16217036233698498,
          -0.4664575928281782,
          1.8103978796855855,
          -0.14317177978437443,
          0.3579558294138091,
          0.09050558142059084,
          -1.4279525633431434,
          1.5603926293829051,
          0.017912530049688312,
          -0.006997058984752426,
          0.141998783058133,
          -1.817736664165537,
          -0.1700171114502153,
          -0.20376546540403428,
          0.22658197424561566,
          0.9916875389450946,
          -0.8532732650440285,
          -0.30306781483492656,
          1.4622247652068743,
          -0.47078684313976743,
          1.213975739723958,
          -0.7671337636464226,
          -0.3576745011114723,
          1.2768626778125454,
          1.046885086094673,
          2.205582161965762,
          -0.7509025674730502,
          0.9425078130154034,
          -0.8150732574878063,
          0.02348229140704502,
          -0.8797993593313506,
          -0.2769164862417134,
          -0.17996268625966028,
          1.2033516904462902,
          0.9576577397716123,
          -0.4921047902944592,
          -0.41155344829335316,
          1.9239340077491514,
          0.25073927942061014,
          -1.1916676782208075,
          -0.8357131446446306,
          0.45779279463016465,
          -0.6029772508882748,
          0.8943467112609861,
          -0.6976652557264528,
          -0.3301180322416286,
          1.6109076948151873,
          -1.3805366268493138,
          -0.897446984170169
         ]
        },
        {
         "boxpoints": false,
         "line": {
          "width": 1.3
         },
         "marker": {
          "color": "rgba(50, 171, 96, 1.0)"
         },
         "name": "C",
         "orientation": "v",
         "type": "box",
         "y": [
          0.13353945123014563,
          0.39497781385575903,
          0.39540905636833507,
          -0.3584173074591927,
          0.6577614768903165,
          -1.3247849577663784,
          -0.6010170387071535,
          -1.1253450602996053,
          -1.3159979639817563,
          0.5872667323080901,
          0.1949784101643306,
          -1.643519554449187,
          -0.5499062004800721,
          0.5777023498594128,
          0.1926489243901335,
          0.11800441302362327,
          0.24720146428408696,
          0.5774735947567471,
          1.8699126403989834,
          -0.37116366967684594,
          1.5155311743042497,
          -0.6295444393731429,
          -1.1525801487170289,
          0.41852517044417176,
          -1.0401521711831685,
          -0.7056798556198435,
          -0.49305656503029344,
          1.2977075987480649,
          0.4212783136736077,
          1.982240604800006,
          -0.9842439202117491,
          0.6858059575715977,
          0.11528565322477187,
          0.23330783385749815,
          1.0224674264118707,
          0.6778875265299885,
          0.23284927782395728,
          1.2923025189653718,
          0.8854881229753835,
          2.7353662922858613,
          0.7780710079562347,
          -0.4793024736143795,
          0.16871986617164217,
          -0.8289307013305577,
          1.2737582764572177,
          1.1291284202282672,
          -0.6994132318298694,
          -0.05811743644205963,
          -1.1200594027363742,
          0.10352027934275482,
          1.6171186511192783,
          -0.14100612420646938,
          -0.5858962648867417,
          1.920570643414597,
          -2.5634395259966603,
          -0.5340322374791981,
          -2.554198464768972,
          2.000096870998803,
          -1.6930406717402826,
          -0.10402118308963976,
          0.9465486856567649,
          -0.6645808236063807,
          0.6686308747629293,
          -1.288119220109997,
          0.48639630041128584,
          -0.7230608538709071,
          0.8303251384540282,
          -1.1252285860083424,
          -1.0430034939266624,
          0.1407805949216589,
          1.6433222896931157,
          0.19626994477439272,
          0.7246451431545141,
          -0.3900971030240034,
          -1.4247204859022844,
          -0.3010350814578818,
          -1.1174770463053774,
          -0.7300534174050425,
          0.35925659521830705,
          0.7973743556210359,
          1.7649279794146953,
          1.9610551928778956,
          0.7523527991696698,
          -0.41020998947798,
          -0.12231860756641968,
          -1.1248029482047306,
          -1.2876298464357645,
          0.5971099000695127,
          1.0734048968142684,
          0.3692693108690722,
          -0.9429254685921349,
          -0.12943734094181283,
          1.030451268957139,
          -0.3520037125522198,
          -0.7998815785733319,
          2.2563699696585076,
          0.08886115333157393,
          -0.6550385876501763,
          0.6820834812980424,
          0.7997036229081007
         ]
        },
        {
         "boxpoints": false,
         "line": {
          "width": 1.3
         },
         "marker": {
          "color": "rgba(128, 0, 128, 1.0)"
         },
         "name": "D",
         "orientation": "v",
         "type": "box",
         "y": [
          -0.7362989974670365,
          -1.0157055833926774,
          -0.43505663286531165,
          0.52434458488365,
          0.7855666059509727,
          -0.6120828083062244,
          0.6961839837206382,
          0.3057576034204329,
          1.7655648728367193,
          0.08767262947672287,
          -0.8900930936059194,
          -0.9364912649208973,
          1.7867494056041975,
          0.9207283224439944,
          -0.15261484713666565,
          -1.0492842803637568,
          -0.5853298959120495,
          -2.286908253657392,
          2.7160501424506833,
          -0.5705975822435903,
          -1.3200889484480496,
          -0.3562947103347805,
          -0.016144206816544944,
          -0.4667863259251742,
          0.38916130874920674,
          0.254060842177641,
          -1.2286009095373047,
          0.0041674929066264745,
          0.02098455656609482,
          1.1188098467367102,
          0.8911450533303716,
          0.09216593198926294,
          -1.066110738169631,
          -0.5774053414090626,
          -3.181328188266009,
          1.3289882535711866,
          -0.06842317347663256,
          0.5921145478951365,
          0.4734852542522756,
          -0.6393251821584395,
          -0.7805669073297535,
          1.0985316226617294,
          -0.7936135877944162,
          0.463581585409456,
          -1.5378746353188961,
          1.23539927919369,
          0.6455089470735104,
          -1.6883978632337708,
          0.10212874577354987,
          -0.8175460501581058,
          -0.370490989109475,
          0.09961881567577298,
          -0.533977708634608,
          -0.37823978071076875,
          -2.3110500292277907,
          0.787213201106814,
          -1.23409267892901,
          -0.1829587067555279,
          0.3696847418978802,
          -0.9439751981083782,
          0.40534913333321587,
          2.434914514009348,
          -0.3652905844415672,
          0.6395122703590969,
          -0.5776187440145197,
          1.2429664567140888,
          1.1490451978807485,
          -1.9826064874495466,
          -0.4312905685502189,
          -1.0791389653455683,
          0.09434986734898371,
          0.2223490056681505,
          -0.2833636610966554,
          -0.8121356609180971,
          1.7802124537567952,
          0.22326616010220518,
          -1.7243690672364125,
          -1.835166375259021,
          0.9242484761776447,
          -0.34151022870567943,
          -2.4907975367786523,
          0.1459210875356638,
          -1.5690562751303854,
          -1.8490689988726314,
          -1.144825743441994,
          -0.7468040292255356,
          -0.09104136537942864,
          -0.7033140428456718,
          -1.54037271506287,
          -0.1695016435882544,
          1.7204692388364073,
          0.05343540841988477,
          -1.9351533974234478,
          -0.5309535775213715,
          -1.0860963810171729,
          0.3245743662857113,
          0.09364320676345161,
          0.6610571456263719,
          -0.7230784637508569,
          0.6496837210487717
         ]
        }
       ],
       "layout": {
        "legend": {
         "bgcolor": "#F5F6F9",
         "font": {
          "color": "#4D5663"
         }
        },
        "paper_bgcolor": "#F5F6F9",
        "plot_bgcolor": "#F5F6F9",
        "template": {
         "data": {
          "bar": [
           {
            "error_x": {
             "color": "#2a3f5f"
            },
            "error_y": {
             "color": "#2a3f5f"
            },
            "marker": {
             "line": {
              "color": "#E5ECF6",
              "width": 0.5
             }
            },
            "type": "bar"
           }
          ],
          "barpolar": [
           {
            "marker": {
             "line": {
              "color": "#E5ECF6",
              "width": 0.5
             }
            },
            "type": "barpolar"
           }
          ],
          "carpet": [
           {
            "aaxis": {
             "endlinecolor": "#2a3f5f",
             "gridcolor": "white",
             "linecolor": "white",
             "minorgridcolor": "white",
             "startlinecolor": "#2a3f5f"
            },
            "baxis": {
             "endlinecolor": "#2a3f5f",
             "gridcolor": "white",
             "linecolor": "white",
             "minorgridcolor": "white",
             "startlinecolor": "#2a3f5f"
            },
            "type": "carpet"
           }
          ],
          "choropleth": [
           {
            "colorbar": {
             "outlinewidth": 0,
             "ticks": ""
            },
            "type": "choropleth"
           }
          ],
          "contour": [
           {
            "colorbar": {
             "outlinewidth": 0,
             "ticks": ""
            },
            "colorscale": [
             [
              0,
              "#0d0887"
             ],
             [
              0.1111111111111111,
              "#46039f"
             ],
             [
              0.2222222222222222,
              "#7201a8"
             ],
             [
              0.3333333333333333,
              "#9c179e"
             ],
             [
              0.4444444444444444,
              "#bd3786"
             ],
             [
              0.5555555555555556,
              "#d8576b"
             ],
             [
              0.6666666666666666,
              "#ed7953"
             ],
             [
              0.7777777777777778,
              "#fb9f3a"
             ],
             [
              0.8888888888888888,
              "#fdca26"
             ],
             [
              1,
              "#f0f921"
             ]
            ],
            "type": "contour"
           }
          ],
          "contourcarpet": [
           {
            "colorbar": {
             "outlinewidth": 0,
             "ticks": ""
            },
            "type": "contourcarpet"
           }
          ],
          "heatmap": [
           {
            "colorbar": {
             "outlinewidth": 0,
             "ticks": ""
            },
            "colorscale": [
             [
              0,
              "#0d0887"
             ],
             [
              0.1111111111111111,
              "#46039f"
             ],
             [
              0.2222222222222222,
              "#7201a8"
             ],
             [
              0.3333333333333333,
              "#9c179e"
             ],
             [
              0.4444444444444444,
              "#bd3786"
             ],
             [
              0.5555555555555556,
              "#d8576b"
             ],
             [
              0.6666666666666666,
              "#ed7953"
             ],
             [
              0.7777777777777778,
              "#fb9f3a"
             ],
             [
              0.8888888888888888,
              "#fdca26"
             ],
             [
              1,
              "#f0f921"
             ]
            ],
            "type": "heatmap"
           }
          ],
          "heatmapgl": [
           {
            "colorbar": {
             "outlinewidth": 0,
             "ticks": ""
            },
            "colorscale": [
             [
              0,
              "#0d0887"
             ],
             [
              0.1111111111111111,
              "#46039f"
             ],
             [
              0.2222222222222222,
              "#7201a8"
             ],
             [
              0.3333333333333333,
              "#9c179e"
             ],
             [
              0.4444444444444444,
              "#bd3786"
             ],
             [
              0.5555555555555556,
              "#d8576b"
             ],
             [
              0.6666666666666666,
              "#ed7953"
             ],
             [
              0.7777777777777778,
              "#fb9f3a"
             ],
             [
              0.8888888888888888,
              "#fdca26"
             ],
             [
              1,
              "#f0f921"
             ]
            ],
            "type": "heatmapgl"
           }
          ],
          "histogram": [
           {
            "marker": {
             "colorbar": {
              "outlinewidth": 0,
              "ticks": ""
             }
            },
            "type": "histogram"
           }
          ],
          "histogram2d": [
           {
            "colorbar": {
             "outlinewidth": 0,
             "ticks": ""
            },
            "colorscale": [
             [
              0,
              "#0d0887"
             ],
             [
              0.1111111111111111,
              "#46039f"
             ],
             [
              0.2222222222222222,
              "#7201a8"
             ],
             [
              0.3333333333333333,
              "#9c179e"
             ],
             [
              0.4444444444444444,
              "#bd3786"
             ],
             [
              0.5555555555555556,
              "#d8576b"
             ],
             [
              0.6666666666666666,
              "#ed7953"
             ],
             [
              0.7777777777777778,
              "#fb9f3a"
             ],
             [
              0.8888888888888888,
              "#fdca26"
             ],
             [
              1,
              "#f0f921"
             ]
            ],
            "type": "histogram2d"
           }
          ],
          "histogram2dcontour": [
           {
            "colorbar": {
             "outlinewidth": 0,
             "ticks": ""
            },
            "colorscale": [
             [
              0,
              "#0d0887"
             ],
             [
              0.1111111111111111,
              "#46039f"
             ],
             [
              0.2222222222222222,
              "#7201a8"
             ],
             [
              0.3333333333333333,
              "#9c179e"
             ],
             [
              0.4444444444444444,
              "#bd3786"
             ],
             [
              0.5555555555555556,
              "#d8576b"
             ],
             [
              0.6666666666666666,
              "#ed7953"
             ],
             [
              0.7777777777777778,
              "#fb9f3a"
             ],
             [
              0.8888888888888888,
              "#fdca26"
             ],
             [
              1,
              "#f0f921"
             ]
            ],
            "type": "histogram2dcontour"
           }
          ],
          "mesh3d": [
           {
            "colorbar": {
             "outlinewidth": 0,
             "ticks": ""
            },
            "type": "mesh3d"
           }
          ],
          "parcoords": [
           {
            "line": {
             "colorbar": {
              "outlinewidth": 0,
              "ticks": ""
             }
            },
            "type": "parcoords"
           }
          ],
          "pie": [
           {
            "automargin": true,
            "type": "pie"
           }
          ],
          "scatter": [
           {
            "marker": {
             "colorbar": {
              "outlinewidth": 0,
              "ticks": ""
             }
            },
            "type": "scatter"
           }
          ],
          "scatter3d": [
           {
            "line": {
             "colorbar": {
              "outlinewidth": 0,
              "ticks": ""
             }
            },
            "marker": {
             "colorbar": {
              "outlinewidth": 0,
              "ticks": ""
             }
            },
            "type": "scatter3d"
           }
          ],
          "scattercarpet": [
           {
            "marker": {
             "colorbar": {
              "outlinewidth": 0,
              "ticks": ""
             }
            },
            "type": "scattercarpet"
           }
          ],
          "scattergeo": [
           {
            "marker": {
             "colorbar": {
              "outlinewidth": 0,
              "ticks": ""
             }
            },
            "type": "scattergeo"
           }
          ],
          "scattergl": [
           {
            "marker": {
             "colorbar": {
              "outlinewidth": 0,
              "ticks": ""
             }
            },
            "type": "scattergl"
           }
          ],
          "scattermapbox": [
           {
            "marker": {
             "colorbar": {
              "outlinewidth": 0,
              "ticks": ""
             }
            },
            "type": "scattermapbox"
           }
          ],
          "scatterpolar": [
           {
            "marker": {
             "colorbar": {
              "outlinewidth": 0,
              "ticks": ""
             }
            },
            "type": "scatterpolar"
           }
          ],
          "scatterpolargl": [
           {
            "marker": {
             "colorbar": {
              "outlinewidth": 0,
              "ticks": ""
             }
            },
            "type": "scatterpolargl"
           }
          ],
          "scatterternary": [
           {
            "marker": {
             "colorbar": {
              "outlinewidth": 0,
              "ticks": ""
             }
            },
            "type": "scatterternary"
           }
          ],
          "surface": [
           {
            "colorbar": {
             "outlinewidth": 0,
             "ticks": ""
            },
            "colorscale": [
             [
              0,
              "#0d0887"
             ],
             [
              0.1111111111111111,
              "#46039f"
             ],
             [
              0.2222222222222222,
              "#7201a8"
             ],
             [
              0.3333333333333333,
              "#9c179e"
             ],
             [
              0.4444444444444444,
              "#bd3786"
             ],
             [
              0.5555555555555556,
              "#d8576b"
             ],
             [
              0.6666666666666666,
              "#ed7953"
             ],
             [
              0.7777777777777778,
              "#fb9f3a"
             ],
             [
              0.8888888888888888,
              "#fdca26"
             ],
             [
              1,
              "#f0f921"
             ]
            ],
            "type": "surface"
           }
          ],
          "table": [
           {
            "cells": {
             "fill": {
              "color": "#EBF0F8"
             },
             "line": {
              "color": "white"
             }
            },
            "header": {
             "fill": {
              "color": "#C8D4E3"
             },
             "line": {
              "color": "white"
             }
            },
            "type": "table"
           }
          ]
         },
         "layout": {
          "annotationdefaults": {
           "arrowcolor": "#2a3f5f",
           "arrowhead": 0,
           "arrowwidth": 1
          },
          "coloraxis": {
           "colorbar": {
            "outlinewidth": 0,
            "ticks": ""
           }
          },
          "colorscale": {
           "diverging": [
            [
             0,
             "#8e0152"
            ],
            [
             0.1,
             "#c51b7d"
            ],
            [
             0.2,
             "#de77ae"
            ],
            [
             0.3,
             "#f1b6da"
            ],
            [
             0.4,
             "#fde0ef"
            ],
            [
             0.5,
             "#f7f7f7"
            ],
            [
             0.6,
             "#e6f5d0"
            ],
            [
             0.7,
             "#b8e186"
            ],
            [
             0.8,
             "#7fbc41"
            ],
            [
             0.9,
             "#4d9221"
            ],
            [
             1,
             "#276419"
            ]
           ],
           "sequential": [
            [
             0,
             "#0d0887"
            ],
            [
             0.1111111111111111,
             "#46039f"
            ],
            [
             0.2222222222222222,
             "#7201a8"
            ],
            [
             0.3333333333333333,
             "#9c179e"
            ],
            [
             0.4444444444444444,
             "#bd3786"
            ],
            [
             0.5555555555555556,
             "#d8576b"
            ],
            [
             0.6666666666666666,
             "#ed7953"
            ],
            [
             0.7777777777777778,
             "#fb9f3a"
            ],
            [
             0.8888888888888888,
             "#fdca26"
            ],
            [
             1,
             "#f0f921"
            ]
           ],
           "sequentialminus": [
            [
             0,
             "#0d0887"
            ],
            [
             0.1111111111111111,
             "#46039f"
            ],
            [
             0.2222222222222222,
             "#7201a8"
            ],
            [
             0.3333333333333333,
             "#9c179e"
            ],
            [
             0.4444444444444444,
             "#bd3786"
            ],
            [
             0.5555555555555556,
             "#d8576b"
            ],
            [
             0.6666666666666666,
             "#ed7953"
            ],
            [
             0.7777777777777778,
             "#fb9f3a"
            ],
            [
             0.8888888888888888,
             "#fdca26"
            ],
            [
             1,
             "#f0f921"
            ]
           ]
          },
          "colorway": [
           "#636efa",
           "#EF553B",
           "#00cc96",
           "#ab63fa",
           "#FFA15A",
           "#19d3f3",
           "#FF6692",
           "#B6E880",
           "#FF97FF",
           "#FECB52"
          ],
          "font": {
           "color": "#2a3f5f"
          },
          "geo": {
           "bgcolor": "white",
           "lakecolor": "white",
           "landcolor": "#E5ECF6",
           "showlakes": true,
           "showland": true,
           "subunitcolor": "white"
          },
          "hoverlabel": {
           "align": "left"
          },
          "hovermode": "closest",
          "mapbox": {
           "style": "light"
          },
          "paper_bgcolor": "white",
          "plot_bgcolor": "#E5ECF6",
          "polar": {
           "angularaxis": {
            "gridcolor": "white",
            "linecolor": "white",
            "ticks": ""
           },
           "bgcolor": "#E5ECF6",
           "radialaxis": {
            "gridcolor": "white",
            "linecolor": "white",
            "ticks": ""
           }
          },
          "scene": {
           "xaxis": {
            "backgroundcolor": "#E5ECF6",
            "gridcolor": "white",
            "gridwidth": 2,
            "linecolor": "white",
            "showbackground": true,
            "ticks": "",
            "zerolinecolor": "white"
           },
           "yaxis": {
            "backgroundcolor": "#E5ECF6",
            "gridcolor": "white",
            "gridwidth": 2,
            "linecolor": "white",
            "showbackground": true,
            "ticks": "",
            "zerolinecolor": "white"
           },
           "zaxis": {
            "backgroundcolor": "#E5ECF6",
            "gridcolor": "white",
            "gridwidth": 2,
            "linecolor": "white",
            "showbackground": true,
            "ticks": "",
            "zerolinecolor": "white"
           }
          },
          "shapedefaults": {
           "line": {
            "color": "#2a3f5f"
           }
          },
          "ternary": {
           "aaxis": {
            "gridcolor": "white",
            "linecolor": "white",
            "ticks": ""
           },
           "baxis": {
            "gridcolor": "white",
            "linecolor": "white",
            "ticks": ""
           },
           "bgcolor": "#E5ECF6",
           "caxis": {
            "gridcolor": "white",
            "linecolor": "white",
            "ticks": ""
           }
          },
          "title": {
           "x": 0.05
          },
          "xaxis": {
           "automargin": true,
           "gridcolor": "white",
           "linecolor": "white",
           "ticks": "",
           "title": {
            "standoff": 15
           },
           "zerolinecolor": "white",
           "zerolinewidth": 2
          },
          "yaxis": {
           "automargin": true,
           "gridcolor": "white",
           "linecolor": "white",
           "ticks": "",
           "title": {
            "standoff": 15
           },
           "zerolinecolor": "white",
           "zerolinewidth": 2
          }
         }
        },
        "title": {
         "font": {
          "color": "#4D5663"
         }
        },
        "xaxis": {
         "gridcolor": "#E1E5ED",
         "showgrid": true,
         "tickfont": {
          "color": "#4D5663"
         },
         "title": {
          "font": {
           "color": "#4D5663"
          },
          "text": ""
         },
         "zerolinecolor": "#E1E5ED"
        },
        "yaxis": {
         "gridcolor": "#E1E5ED",
         "showgrid": true,
         "tickfont": {
          "color": "#4D5663"
         },
         "title": {
          "font": {
           "color": "#4D5663"
          },
          "text": ""
         },
         "zerolinecolor": "#E1E5ED"
        }
       }
      },
      "text/html": [
       "<div>\n",
       "        \n",
       "        \n",
       "            <div id=\"3a4f42a9-5619-4d2b-a1ff-582f7bdf7be4\" class=\"plotly-graph-div\" style=\"height:525px; width:100%;\"></div>\n",
       "            <script type=\"text/javascript\">\n",
       "                require([\"plotly\"], function(Plotly) {\n",
       "                    window.PLOTLYENV=window.PLOTLYENV || {};\n",
       "                    window.PLOTLYENV.BASE_URL='https://plot.ly';\n",
       "                    \n",
       "                if (document.getElementById(\"3a4f42a9-5619-4d2b-a1ff-582f7bdf7be4\")) {\n",
       "                    Plotly.newPlot(\n",
       "                        '3a4f42a9-5619-4d2b-a1ff-582f7bdf7be4',\n",
       "                        [{\"boxpoints\": false, \"line\": {\"width\": 1.3}, \"marker\": {\"color\": \"rgba(255, 153, 51, 1.0)\"}, \"name\": \"A\", \"orientation\": \"v\", \"type\": \"box\", \"y\": [0.8812869911184532, 0.05260307890781848, 1.0086019237679735, 0.7735010115093424, -1.4798956576894429, 0.8198463854589676, -1.2040817541874034, 1.2699627475937838, -0.11345290001222112, 0.1719844573795438, 0.15838069667534363, 1.27603061544194, -0.9424947572677399, 2.1441741674254358, 0.6508245211538712, 0.3799749204007522, -1.0966510835250745, 2.9842941329302737, -1.461864535325355, 0.013081837992017068, -0.6178914209129064, -1.2896220084110415, 0.5259820892490585, 1.8213702945554302, 0.8776244059109155, -0.34974595493858474, 1.0418905894703157, 1.5750095252645675, -0.024119632598965997, -0.8111034377683791, -1.5948617107184606, -0.15088026593594045, 0.29575292517525564, 0.40012272033796553, 0.12573090497695202, 0.36065966641021524, -0.005272947521793114, -0.3631194328241745, -0.42812218680133973, 0.6666313352093304, -1.262945392514322, -0.32225440882849204, -1.424749497092938, -0.8910437992204715, 0.7839849188648874, -0.9144901095782141, 0.1768051911980829, -0.8675263969771217, 0.6256814187311011, 0.03528946102297187, -0.3626963391566758, -0.7028468922169727, 1.2513720123613916, 1.2000469024099973, 0.9226024123992664, -1.366913696093309, -1.8926281424222031, -0.9253767647064, -0.38227139964091267, -0.9480858551506455, 0.35918708257044574, 0.6856435883732223, 1.022387859708728, -1.2247530099619848, -2.422236055967968, 2.16759153499099, 0.79906341269673, 0.45824253672922993, -1.4412402314503123, -0.692035342235428, 0.2752804037565924, -0.9283622086105866, 1.2253264363702223, 2.011921715731842, -1.0141917691436357, -1.6814567853811353, 0.3311828197363062, 0.33049426204518395, 0.807888420683415, 0.19550968531256327, -0.09828648455536405, 0.001838581371809573, -0.23473452864196656, 1.3936577497115439, 0.1921873435666354, -1.4102970375344719, -1.850135838866847, 0.580157677241555, -0.8703051862721886, -0.2748984826461829, -0.9139044484992954, 0.38912754303836977, 1.1284322673468994, -0.47094526990649516, -1.5039535607679495, -0.5100415536363496, -0.8590745889148993, -1.311647941164508, 0.2344890320855352, 0.16386087529568444]}, {\"boxpoints\": false, \"line\": {\"width\": 1.3}, \"marker\": {\"color\": \"rgba(55, 128, 191, 1.0)\"}, \"name\": \"B\", \"orientation\": \"v\", \"type\": \"box\", \"y\": [-0.6176431754916366, 0.2708582735313909, -1.540835833392384, -0.4035361915306973, -1.1266237077790675, 0.5407621043809193, 0.0052672995344969714, 0.2182764128756272, 0.6672327888727164, 0.3963506613002244, 0.6535368367393999, 0.8240988668851247, -0.7546977599977602, -0.5158882436212068, -0.14134838179766704, 1.1150969655695877, -1.5714997933954131, -0.2570051664700367, -0.8650919115630591, 0.6165897275099402, 0.9287942558187207, 0.04050055028890707, -0.7222381670693432, 0.7805733477609783, 0.09243004140096453, 1.032462277400557, 0.4687929049698868, 1.0641351870408824, -1.9013728141379314, 0.8067346608357602, -1.5333923182844509, 0.11105549090399285, -0.9373951056502263, 1.834234717008625, -0.48765301492904783, -2.6477938956806932, 1.0833572542811778, -0.22463212807599026, 0.08850647680920762, -0.9416201117162727, 1.6286184663411916, 0.4766047584294469, -0.5907002205596157, 0.2204085506044614, 0.12749076632804768, 0.5020777348069793, 0.38461358099854154, -0.3534897435380235, 0.3840183272325568, 0.829373756112191, -0.8735441071828836, -0.16217036233698498, -0.4664575928281782, 1.8103978796855855, -0.14317177978437443, 0.3579558294138091, 0.09050558142059084, -1.4279525633431434, 1.5603926293829051, 0.017912530049688312, -0.006997058984752426, 0.141998783058133, -1.817736664165537, -0.1700171114502153, -0.20376546540403428, 0.22658197424561566, 0.9916875389450946, -0.8532732650440285, -0.30306781483492656, 1.4622247652068743, -0.47078684313976743, 1.213975739723958, -0.7671337636464226, -0.3576745011114723, 1.2768626778125454, 1.046885086094673, 2.205582161965762, -0.7509025674730502, 0.9425078130154034, -0.8150732574878063, 0.02348229140704502, -0.8797993593313506, -0.2769164862417134, -0.17996268625966028, 1.2033516904462902, 0.9576577397716123, -0.4921047902944592, -0.41155344829335316, 1.9239340077491514, 0.25073927942061014, -1.1916676782208075, -0.8357131446446306, 0.45779279463016465, -0.6029772508882748, 0.8943467112609861, -0.6976652557264528, -0.3301180322416286, 1.6109076948151873, -1.3805366268493138, -0.897446984170169]}, {\"boxpoints\": false, \"line\": {\"width\": 1.3}, \"marker\": {\"color\": \"rgba(50, 171, 96, 1.0)\"}, \"name\": \"C\", \"orientation\": \"v\", \"type\": \"box\", \"y\": [0.13353945123014563, 0.39497781385575903, 0.39540905636833507, -0.3584173074591927, 0.6577614768903165, -1.3247849577663784, -0.6010170387071535, -1.1253450602996053, -1.3159979639817563, 0.5872667323080901, 0.1949784101643306, -1.643519554449187, -0.5499062004800721, 0.5777023498594128, 0.1926489243901335, 0.11800441302362327, 0.24720146428408696, 0.5774735947567471, 1.8699126403989834, -0.37116366967684594, 1.5155311743042497, -0.6295444393731429, -1.1525801487170289, 0.41852517044417176, -1.0401521711831685, -0.7056798556198435, -0.49305656503029344, 1.2977075987480649, 0.4212783136736077, 1.982240604800006, -0.9842439202117491, 0.6858059575715977, 0.11528565322477187, 0.23330783385749815, 1.0224674264118707, 0.6778875265299885, 0.23284927782395728, 1.2923025189653718, 0.8854881229753835, 2.7353662922858613, 0.7780710079562347, -0.4793024736143795, 0.16871986617164217, -0.8289307013305577, 1.2737582764572177, 1.1291284202282672, -0.6994132318298694, -0.05811743644205963, -1.1200594027363742, 0.10352027934275482, 1.6171186511192783, -0.14100612420646938, -0.5858962648867417, 1.920570643414597, -2.5634395259966603, -0.5340322374791981, -2.554198464768972, 2.000096870998803, -1.6930406717402826, -0.10402118308963976, 0.9465486856567649, -0.6645808236063807, 0.6686308747629293, -1.288119220109997, 0.48639630041128584, -0.7230608538709071, 0.8303251384540282, -1.1252285860083424, -1.0430034939266624, 0.1407805949216589, 1.6433222896931157, 0.19626994477439272, 0.7246451431545141, -0.3900971030240034, -1.4247204859022844, -0.3010350814578818, -1.1174770463053774, -0.7300534174050425, 0.35925659521830705, 0.7973743556210359, 1.7649279794146953, 1.9610551928778956, 0.7523527991696698, -0.41020998947798, -0.12231860756641968, -1.1248029482047306, -1.2876298464357645, 0.5971099000695127, 1.0734048968142684, 0.3692693108690722, -0.9429254685921349, -0.12943734094181283, 1.030451268957139, -0.3520037125522198, -0.7998815785733319, 2.2563699696585076, 0.08886115333157393, -0.6550385876501763, 0.6820834812980424, 0.7997036229081007]}, {\"boxpoints\": false, \"line\": {\"width\": 1.3}, \"marker\": {\"color\": \"rgba(128, 0, 128, 1.0)\"}, \"name\": \"D\", \"orientation\": \"v\", \"type\": \"box\", \"y\": [-0.7362989974670365, -1.0157055833926774, -0.43505663286531165, 0.52434458488365, 0.7855666059509727, -0.6120828083062244, 0.6961839837206382, 0.3057576034204329, 1.7655648728367193, 0.08767262947672287, -0.8900930936059194, -0.9364912649208973, 1.7867494056041975, 0.9207283224439944, -0.15261484713666565, -1.0492842803637568, -0.5853298959120495, -2.286908253657392, 2.7160501424506833, -0.5705975822435903, -1.3200889484480496, -0.3562947103347805, -0.016144206816544944, -0.4667863259251742, 0.38916130874920674, 0.254060842177641, -1.2286009095373047, 0.0041674929066264745, 0.02098455656609482, 1.1188098467367102, 0.8911450533303716, 0.09216593198926294, -1.066110738169631, -0.5774053414090626, -3.181328188266009, 1.3289882535711866, -0.06842317347663256, 0.5921145478951365, 0.4734852542522756, -0.6393251821584395, -0.7805669073297535, 1.0985316226617294, -0.7936135877944162, 0.463581585409456, -1.5378746353188961, 1.23539927919369, 0.6455089470735104, -1.6883978632337708, 0.10212874577354987, -0.8175460501581058, -0.370490989109475, 0.09961881567577298, -0.533977708634608, -0.37823978071076875, -2.3110500292277907, 0.787213201106814, -1.23409267892901, -0.1829587067555279, 0.3696847418978802, -0.9439751981083782, 0.40534913333321587, 2.434914514009348, -0.3652905844415672, 0.6395122703590969, -0.5776187440145197, 1.2429664567140888, 1.1490451978807485, -1.9826064874495466, -0.4312905685502189, -1.0791389653455683, 0.09434986734898371, 0.2223490056681505, -0.2833636610966554, -0.8121356609180971, 1.7802124537567952, 0.22326616010220518, -1.7243690672364125, -1.835166375259021, 0.9242484761776447, -0.34151022870567943, -2.4907975367786523, 0.1459210875356638, -1.5690562751303854, -1.8490689988726314, -1.144825743441994, -0.7468040292255356, -0.09104136537942864, -0.7033140428456718, -1.54037271506287, -0.1695016435882544, 1.7204692388364073, 0.05343540841988477, -1.9351533974234478, -0.5309535775213715, -1.0860963810171729, 0.3245743662857113, 0.09364320676345161, 0.6610571456263719, -0.7230784637508569, 0.6496837210487717]}],\n",
       "                        {\"legend\": {\"bgcolor\": \"#F5F6F9\", \"font\": {\"color\": \"#4D5663\"}}, \"paper_bgcolor\": \"#F5F6F9\", \"plot_bgcolor\": \"#F5F6F9\", \"template\": {\"data\": {\"bar\": [{\"error_x\": {\"color\": \"#2a3f5f\"}, \"error_y\": {\"color\": \"#2a3f5f\"}, \"marker\": {\"line\": {\"color\": \"#E5ECF6\", \"width\": 0.5}}, \"type\": \"bar\"}], \"barpolar\": [{\"marker\": {\"line\": {\"color\": \"#E5ECF6\", \"width\": 0.5}}, \"type\": \"barpolar\"}], \"carpet\": [{\"aaxis\": {\"endlinecolor\": \"#2a3f5f\", \"gridcolor\": \"white\", \"linecolor\": \"white\", \"minorgridcolor\": \"white\", \"startlinecolor\": \"#2a3f5f\"}, \"baxis\": {\"endlinecolor\": \"#2a3f5f\", \"gridcolor\": \"white\", \"linecolor\": \"white\", \"minorgridcolor\": \"white\", \"startlinecolor\": \"#2a3f5f\"}, \"type\": \"carpet\"}], \"choropleth\": [{\"colorbar\": {\"outlinewidth\": 0, \"ticks\": \"\"}, \"type\": \"choropleth\"}], \"contour\": [{\"colorbar\": {\"outlinewidth\": 0, \"ticks\": \"\"}, \"colorscale\": [[0.0, \"#0d0887\"], [0.1111111111111111, \"#46039f\"], [0.2222222222222222, \"#7201a8\"], [0.3333333333333333, \"#9c179e\"], [0.4444444444444444, \"#bd3786\"], [0.5555555555555556, \"#d8576b\"], [0.6666666666666666, \"#ed7953\"], [0.7777777777777778, \"#fb9f3a\"], [0.8888888888888888, \"#fdca26\"], [1.0, \"#f0f921\"]], \"type\": \"contour\"}], \"contourcarpet\": [{\"colorbar\": {\"outlinewidth\": 0, \"ticks\": \"\"}, \"type\": \"contourcarpet\"}], \"heatmap\": [{\"colorbar\": {\"outlinewidth\": 0, \"ticks\": \"\"}, \"colorscale\": [[0.0, \"#0d0887\"], [0.1111111111111111, \"#46039f\"], [0.2222222222222222, \"#7201a8\"], [0.3333333333333333, \"#9c179e\"], [0.4444444444444444, \"#bd3786\"], [0.5555555555555556, \"#d8576b\"], [0.6666666666666666, \"#ed7953\"], [0.7777777777777778, \"#fb9f3a\"], [0.8888888888888888, \"#fdca26\"], [1.0, \"#f0f921\"]], \"type\": \"heatmap\"}], \"heatmapgl\": [{\"colorbar\": {\"outlinewidth\": 0, \"ticks\": \"\"}, \"colorscale\": [[0.0, \"#0d0887\"], [0.1111111111111111, \"#46039f\"], [0.2222222222222222, \"#7201a8\"], [0.3333333333333333, \"#9c179e\"], [0.4444444444444444, \"#bd3786\"], [0.5555555555555556, \"#d8576b\"], [0.6666666666666666, \"#ed7953\"], [0.7777777777777778, \"#fb9f3a\"], [0.8888888888888888, \"#fdca26\"], [1.0, \"#f0f921\"]], \"type\": \"heatmapgl\"}], \"histogram\": [{\"marker\": {\"colorbar\": {\"outlinewidth\": 0, \"ticks\": \"\"}}, \"type\": \"histogram\"}], \"histogram2d\": [{\"colorbar\": {\"outlinewidth\": 0, \"ticks\": \"\"}, \"colorscale\": [[0.0, \"#0d0887\"], [0.1111111111111111, \"#46039f\"], [0.2222222222222222, \"#7201a8\"], [0.3333333333333333, \"#9c179e\"], [0.4444444444444444, \"#bd3786\"], [0.5555555555555556, \"#d8576b\"], [0.6666666666666666, \"#ed7953\"], [0.7777777777777778, \"#fb9f3a\"], [0.8888888888888888, \"#fdca26\"], [1.0, \"#f0f921\"]], \"type\": \"histogram2d\"}], \"histogram2dcontour\": [{\"colorbar\": {\"outlinewidth\": 0, \"ticks\": \"\"}, \"colorscale\": [[0.0, \"#0d0887\"], [0.1111111111111111, \"#46039f\"], [0.2222222222222222, \"#7201a8\"], [0.3333333333333333, \"#9c179e\"], [0.4444444444444444, \"#bd3786\"], [0.5555555555555556, \"#d8576b\"], [0.6666666666666666, \"#ed7953\"], [0.7777777777777778, \"#fb9f3a\"], [0.8888888888888888, \"#fdca26\"], [1.0, \"#f0f921\"]], \"type\": \"histogram2dcontour\"}], \"mesh3d\": [{\"colorbar\": {\"outlinewidth\": 0, \"ticks\": \"\"}, \"type\": \"mesh3d\"}], \"parcoords\": [{\"line\": {\"colorbar\": {\"outlinewidth\": 0, \"ticks\": \"\"}}, \"type\": \"parcoords\"}], \"pie\": [{\"automargin\": true, \"type\": \"pie\"}], \"scatter\": [{\"marker\": {\"colorbar\": {\"outlinewidth\": 0, \"ticks\": \"\"}}, \"type\": \"scatter\"}], \"scatter3d\": [{\"line\": {\"colorbar\": {\"outlinewidth\": 0, \"ticks\": \"\"}}, \"marker\": {\"colorbar\": {\"outlinewidth\": 0, \"ticks\": \"\"}}, \"type\": \"scatter3d\"}], \"scattercarpet\": [{\"marker\": {\"colorbar\": {\"outlinewidth\": 0, \"ticks\": \"\"}}, \"type\": \"scattercarpet\"}], \"scattergeo\": [{\"marker\": {\"colorbar\": {\"outlinewidth\": 0, \"ticks\": \"\"}}, \"type\": \"scattergeo\"}], \"scattergl\": [{\"marker\": {\"colorbar\": {\"outlinewidth\": 0, \"ticks\": \"\"}}, \"type\": \"scattergl\"}], \"scattermapbox\": [{\"marker\": {\"colorbar\": {\"outlinewidth\": 0, \"ticks\": \"\"}}, \"type\": \"scattermapbox\"}], \"scatterpolar\": [{\"marker\": {\"colorbar\": {\"outlinewidth\": 0, \"ticks\": \"\"}}, \"type\": \"scatterpolar\"}], \"scatterpolargl\": [{\"marker\": {\"colorbar\": {\"outlinewidth\": 0, \"ticks\": \"\"}}, \"type\": \"scatterpolargl\"}], \"scatterternary\": [{\"marker\": {\"colorbar\": {\"outlinewidth\": 0, \"ticks\": \"\"}}, \"type\": \"scatterternary\"}], \"surface\": [{\"colorbar\": {\"outlinewidth\": 0, \"ticks\": \"\"}, \"colorscale\": [[0.0, \"#0d0887\"], [0.1111111111111111, \"#46039f\"], [0.2222222222222222, \"#7201a8\"], [0.3333333333333333, \"#9c179e\"], [0.4444444444444444, \"#bd3786\"], [0.5555555555555556, \"#d8576b\"], [0.6666666666666666, \"#ed7953\"], [0.7777777777777778, \"#fb9f3a\"], [0.8888888888888888, \"#fdca26\"], [1.0, \"#f0f921\"]], \"type\": \"surface\"}], \"table\": [{\"cells\": {\"fill\": {\"color\": \"#EBF0F8\"}, \"line\": {\"color\": \"white\"}}, \"header\": {\"fill\": {\"color\": \"#C8D4E3\"}, \"line\": {\"color\": \"white\"}}, \"type\": \"table\"}]}, \"layout\": {\"annotationdefaults\": {\"arrowcolor\": \"#2a3f5f\", \"arrowhead\": 0, \"arrowwidth\": 1}, \"coloraxis\": {\"colorbar\": {\"outlinewidth\": 0, \"ticks\": \"\"}}, \"colorscale\": {\"diverging\": [[0, \"#8e0152\"], [0.1, \"#c51b7d\"], [0.2, \"#de77ae\"], [0.3, \"#f1b6da\"], [0.4, \"#fde0ef\"], [0.5, \"#f7f7f7\"], [0.6, \"#e6f5d0\"], [0.7, \"#b8e186\"], [0.8, \"#7fbc41\"], [0.9, \"#4d9221\"], [1, \"#276419\"]], \"sequential\": [[0.0, \"#0d0887\"], [0.1111111111111111, \"#46039f\"], [0.2222222222222222, \"#7201a8\"], [0.3333333333333333, \"#9c179e\"], [0.4444444444444444, \"#bd3786\"], [0.5555555555555556, \"#d8576b\"], [0.6666666666666666, \"#ed7953\"], [0.7777777777777778, \"#fb9f3a\"], [0.8888888888888888, \"#fdca26\"], [1.0, \"#f0f921\"]], \"sequentialminus\": [[0.0, \"#0d0887\"], [0.1111111111111111, \"#46039f\"], [0.2222222222222222, \"#7201a8\"], [0.3333333333333333, \"#9c179e\"], [0.4444444444444444, \"#bd3786\"], [0.5555555555555556, \"#d8576b\"], [0.6666666666666666, \"#ed7953\"], [0.7777777777777778, \"#fb9f3a\"], [0.8888888888888888, \"#fdca26\"], [1.0, \"#f0f921\"]]}, \"colorway\": [\"#636efa\", \"#EF553B\", \"#00cc96\", \"#ab63fa\", \"#FFA15A\", \"#19d3f3\", \"#FF6692\", \"#B6E880\", \"#FF97FF\", \"#FECB52\"], \"font\": {\"color\": \"#2a3f5f\"}, \"geo\": {\"bgcolor\": \"white\", \"lakecolor\": \"white\", \"landcolor\": \"#E5ECF6\", \"showlakes\": true, \"showland\": true, \"subunitcolor\": \"white\"}, \"hoverlabel\": {\"align\": \"left\"}, \"hovermode\": \"closest\", \"mapbox\": {\"style\": \"light\"}, \"paper_bgcolor\": \"white\", \"plot_bgcolor\": \"#E5ECF6\", \"polar\": {\"angularaxis\": {\"gridcolor\": \"white\", \"linecolor\": \"white\", \"ticks\": \"\"}, \"bgcolor\": \"#E5ECF6\", \"radialaxis\": {\"gridcolor\": \"white\", \"linecolor\": \"white\", \"ticks\": \"\"}}, \"scene\": {\"xaxis\": {\"backgroundcolor\": \"#E5ECF6\", \"gridcolor\": \"white\", \"gridwidth\": 2, \"linecolor\": \"white\", \"showbackground\": true, \"ticks\": \"\", \"zerolinecolor\": \"white\"}, \"yaxis\": {\"backgroundcolor\": \"#E5ECF6\", \"gridcolor\": \"white\", \"gridwidth\": 2, \"linecolor\": \"white\", \"showbackground\": true, \"ticks\": \"\", \"zerolinecolor\": \"white\"}, \"zaxis\": {\"backgroundcolor\": \"#E5ECF6\", \"gridcolor\": \"white\", \"gridwidth\": 2, \"linecolor\": \"white\", \"showbackground\": true, \"ticks\": \"\", \"zerolinecolor\": \"white\"}}, \"shapedefaults\": {\"line\": {\"color\": \"#2a3f5f\"}}, \"ternary\": {\"aaxis\": {\"gridcolor\": \"white\", \"linecolor\": \"white\", \"ticks\": \"\"}, \"baxis\": {\"gridcolor\": \"white\", \"linecolor\": \"white\", \"ticks\": \"\"}, \"bgcolor\": \"#E5ECF6\", \"caxis\": {\"gridcolor\": \"white\", \"linecolor\": \"white\", \"ticks\": \"\"}}, \"title\": {\"x\": 0.05}, \"xaxis\": {\"automargin\": true, \"gridcolor\": \"white\", \"linecolor\": \"white\", \"ticks\": \"\", \"title\": {\"standoff\": 15}, \"zerolinecolor\": \"white\", \"zerolinewidth\": 2}, \"yaxis\": {\"automargin\": true, \"gridcolor\": \"white\", \"linecolor\": \"white\", \"ticks\": \"\", \"title\": {\"standoff\": 15}, \"zerolinecolor\": \"white\", \"zerolinewidth\": 2}}}, \"title\": {\"font\": {\"color\": \"#4D5663\"}}, \"xaxis\": {\"gridcolor\": \"#E1E5ED\", \"showgrid\": true, \"tickfont\": {\"color\": \"#4D5663\"}, \"title\": {\"font\": {\"color\": \"#4D5663\"}, \"text\": \"\"}, \"zerolinecolor\": \"#E1E5ED\"}, \"yaxis\": {\"gridcolor\": \"#E1E5ED\", \"showgrid\": true, \"tickfont\": {\"color\": \"#4D5663\"}, \"title\": {\"font\": {\"color\": \"#4D5663\"}, \"text\": \"\"}, \"zerolinecolor\": \"#E1E5ED\"}},\n",
       "                        {\"showLink\": true, \"linkText\": \"Export to plot.ly\", \"plotlyServerURL\": \"https://plot.ly\", \"responsive\": true}\n",
       "                    ).then(function(){\n",
       "                            \n",
       "var gd = document.getElementById('3a4f42a9-5619-4d2b-a1ff-582f7bdf7be4');\n",
       "var x = new MutationObserver(function (mutations, observer) {{\n",
       "        var display = window.getComputedStyle(gd).display;\n",
       "        if (!display || display === 'none') {{\n",
       "            console.log([gd, 'removed!']);\n",
       "            Plotly.purge(gd);\n",
       "            observer.disconnect();\n",
       "        }}\n",
       "}});\n",
       "\n",
       "// Listen for the removal of the full notebook cells\n",
       "var notebookContainer = gd.closest('#notebook-container');\n",
       "if (notebookContainer) {{\n",
       "    x.observe(notebookContainer, {childList: true});\n",
       "}}\n",
       "\n",
       "// Listen for the clearing of the current output cell\n",
       "var outputEl = gd.closest('.output');\n",
       "if (outputEl) {{\n",
       "    x.observe(outputEl, {childList: true});\n",
       "}}\n",
       "\n",
       "                        })\n",
       "                };\n",
       "                });\n",
       "            </script>\n",
       "        </div>"
      ]
     },
     "metadata": {},
     "output_type": "display_data"
    }
   ],
   "source": [
    "df.iplot(kind='box')"
   ]
  },
  {
   "cell_type": "markdown",
   "metadata": {},
   "source": [
    "## 3d Surface"
   ]
  },
  {
   "cell_type": "code",
   "execution_count": 14,
   "metadata": {},
   "outputs": [
    {
     "data": {
      "application/vnd.plotly.v1+json": {
       "config": {
        "linkText": "Export to plot.ly",
        "plotlyServerURL": "https://plot.ly",
        "showLink": true
       },
       "data": [
        {
         "colorscale": [
          [
           0,
           "rgb(165,0,38)"
          ],
          [
           0.1,
           "rgb(215,48,39)"
          ],
          [
           0.2,
           "rgb(244,109,67)"
          ],
          [
           0.3,
           "rgb(253,174,97)"
          ],
          [
           0.4,
           "rgb(254,224,144)"
          ],
          [
           0.5,
           "rgb(255,255,191)"
          ],
          [
           0.6,
           "rgb(224,243,248)"
          ],
          [
           0.7,
           "rgb(171,217,233)"
          ],
          [
           0.8,
           "rgb(116,173,209)"
          ],
          [
           0.9,
           "rgb(69,117,180)"
          ],
          [
           1,
           "rgb(49,54,149)"
          ]
         ],
         "type": "surface",
         "x": [
          0,
          1,
          2,
          3,
          4
         ],
         "y": [
          "x",
          "y",
          "z"
         ],
         "z": [
          [
           1,
           2,
           3,
           4,
           5
          ],
          [
           10,
           20,
           30,
           20,
           10
          ],
          [
           5,
           4,
           3,
           2,
           1
          ]
         ]
        }
       ],
       "layout": {
        "legend": {
         "bgcolor": "#F5F6F9",
         "font": {
          "color": "#4D5663"
         }
        },
        "paper_bgcolor": "#F5F6F9",
        "plot_bgcolor": "#F5F6F9",
        "template": {
         "data": {
          "bar": [
           {
            "error_x": {
             "color": "#2a3f5f"
            },
            "error_y": {
             "color": "#2a3f5f"
            },
            "marker": {
             "line": {
              "color": "#E5ECF6",
              "width": 0.5
             }
            },
            "type": "bar"
           }
          ],
          "barpolar": [
           {
            "marker": {
             "line": {
              "color": "#E5ECF6",
              "width": 0.5
             }
            },
            "type": "barpolar"
           }
          ],
          "carpet": [
           {
            "aaxis": {
             "endlinecolor": "#2a3f5f",
             "gridcolor": "white",
             "linecolor": "white",
             "minorgridcolor": "white",
             "startlinecolor": "#2a3f5f"
            },
            "baxis": {
             "endlinecolor": "#2a3f5f",
             "gridcolor": "white",
             "linecolor": "white",
             "minorgridcolor": "white",
             "startlinecolor": "#2a3f5f"
            },
            "type": "carpet"
           }
          ],
          "choropleth": [
           {
            "colorbar": {
             "outlinewidth": 0,
             "ticks": ""
            },
            "type": "choropleth"
           }
          ],
          "contour": [
           {
            "colorbar": {
             "outlinewidth": 0,
             "ticks": ""
            },
            "colorscale": [
             [
              0,
              "#0d0887"
             ],
             [
              0.1111111111111111,
              "#46039f"
             ],
             [
              0.2222222222222222,
              "#7201a8"
             ],
             [
              0.3333333333333333,
              "#9c179e"
             ],
             [
              0.4444444444444444,
              "#bd3786"
             ],
             [
              0.5555555555555556,
              "#d8576b"
             ],
             [
              0.6666666666666666,
              "#ed7953"
             ],
             [
              0.7777777777777778,
              "#fb9f3a"
             ],
             [
              0.8888888888888888,
              "#fdca26"
             ],
             [
              1,
              "#f0f921"
             ]
            ],
            "type": "contour"
           }
          ],
          "contourcarpet": [
           {
            "colorbar": {
             "outlinewidth": 0,
             "ticks": ""
            },
            "type": "contourcarpet"
           }
          ],
          "heatmap": [
           {
            "colorbar": {
             "outlinewidth": 0,
             "ticks": ""
            },
            "colorscale": [
             [
              0,
              "#0d0887"
             ],
             [
              0.1111111111111111,
              "#46039f"
             ],
             [
              0.2222222222222222,
              "#7201a8"
             ],
             [
              0.3333333333333333,
              "#9c179e"
             ],
             [
              0.4444444444444444,
              "#bd3786"
             ],
             [
              0.5555555555555556,
              "#d8576b"
             ],
             [
              0.6666666666666666,
              "#ed7953"
             ],
             [
              0.7777777777777778,
              "#fb9f3a"
             ],
             [
              0.8888888888888888,
              "#fdca26"
             ],
             [
              1,
              "#f0f921"
             ]
            ],
            "type": "heatmap"
           }
          ],
          "heatmapgl": [
           {
            "colorbar": {
             "outlinewidth": 0,
             "ticks": ""
            },
            "colorscale": [
             [
              0,
              "#0d0887"
             ],
             [
              0.1111111111111111,
              "#46039f"
             ],
             [
              0.2222222222222222,
              "#7201a8"
             ],
             [
              0.3333333333333333,
              "#9c179e"
             ],
             [
              0.4444444444444444,
              "#bd3786"
             ],
             [
              0.5555555555555556,
              "#d8576b"
             ],
             [
              0.6666666666666666,
              "#ed7953"
             ],
             [
              0.7777777777777778,
              "#fb9f3a"
             ],
             [
              0.8888888888888888,
              "#fdca26"
             ],
             [
              1,
              "#f0f921"
             ]
            ],
            "type": "heatmapgl"
           }
          ],
          "histogram": [
           {
            "marker": {
             "colorbar": {
              "outlinewidth": 0,
              "ticks": ""
             }
            },
            "type": "histogram"
           }
          ],
          "histogram2d": [
           {
            "colorbar": {
             "outlinewidth": 0,
             "ticks": ""
            },
            "colorscale": [
             [
              0,
              "#0d0887"
             ],
             [
              0.1111111111111111,
              "#46039f"
             ],
             [
              0.2222222222222222,
              "#7201a8"
             ],
             [
              0.3333333333333333,
              "#9c179e"
             ],
             [
              0.4444444444444444,
              "#bd3786"
             ],
             [
              0.5555555555555556,
              "#d8576b"
             ],
             [
              0.6666666666666666,
              "#ed7953"
             ],
             [
              0.7777777777777778,
              "#fb9f3a"
             ],
             [
              0.8888888888888888,
              "#fdca26"
             ],
             [
              1,
              "#f0f921"
             ]
            ],
            "type": "histogram2d"
           }
          ],
          "histogram2dcontour": [
           {
            "colorbar": {
             "outlinewidth": 0,
             "ticks": ""
            },
            "colorscale": [
             [
              0,
              "#0d0887"
             ],
             [
              0.1111111111111111,
              "#46039f"
             ],
             [
              0.2222222222222222,
              "#7201a8"
             ],
             [
              0.3333333333333333,
              "#9c179e"
             ],
             [
              0.4444444444444444,
              "#bd3786"
             ],
             [
              0.5555555555555556,
              "#d8576b"
             ],
             [
              0.6666666666666666,
              "#ed7953"
             ],
             [
              0.7777777777777778,
              "#fb9f3a"
             ],
             [
              0.8888888888888888,
              "#fdca26"
             ],
             [
              1,
              "#f0f921"
             ]
            ],
            "type": "histogram2dcontour"
           }
          ],
          "mesh3d": [
           {
            "colorbar": {
             "outlinewidth": 0,
             "ticks": ""
            },
            "type": "mesh3d"
           }
          ],
          "parcoords": [
           {
            "line": {
             "colorbar": {
              "outlinewidth": 0,
              "ticks": ""
             }
            },
            "type": "parcoords"
           }
          ],
          "pie": [
           {
            "automargin": true,
            "type": "pie"
           }
          ],
          "scatter": [
           {
            "marker": {
             "colorbar": {
              "outlinewidth": 0,
              "ticks": ""
             }
            },
            "type": "scatter"
           }
          ],
          "scatter3d": [
           {
            "line": {
             "colorbar": {
              "outlinewidth": 0,
              "ticks": ""
             }
            },
            "marker": {
             "colorbar": {
              "outlinewidth": 0,
              "ticks": ""
             }
            },
            "type": "scatter3d"
           }
          ],
          "scattercarpet": [
           {
            "marker": {
             "colorbar": {
              "outlinewidth": 0,
              "ticks": ""
             }
            },
            "type": "scattercarpet"
           }
          ],
          "scattergeo": [
           {
            "marker": {
             "colorbar": {
              "outlinewidth": 0,
              "ticks": ""
             }
            },
            "type": "scattergeo"
           }
          ],
          "scattergl": [
           {
            "marker": {
             "colorbar": {
              "outlinewidth": 0,
              "ticks": ""
             }
            },
            "type": "scattergl"
           }
          ],
          "scattermapbox": [
           {
            "marker": {
             "colorbar": {
              "outlinewidth": 0,
              "ticks": ""
             }
            },
            "type": "scattermapbox"
           }
          ],
          "scatterpolar": [
           {
            "marker": {
             "colorbar": {
              "outlinewidth": 0,
              "ticks": ""
             }
            },
            "type": "scatterpolar"
           }
          ],
          "scatterpolargl": [
           {
            "marker": {
             "colorbar": {
              "outlinewidth": 0,
              "ticks": ""
             }
            },
            "type": "scatterpolargl"
           }
          ],
          "scatterternary": [
           {
            "marker": {
             "colorbar": {
              "outlinewidth": 0,
              "ticks": ""
             }
            },
            "type": "scatterternary"
           }
          ],
          "surface": [
           {
            "colorbar": {
             "outlinewidth": 0,
             "ticks": ""
            },
            "colorscale": [
             [
              0,
              "#0d0887"
             ],
             [
              0.1111111111111111,
              "#46039f"
             ],
             [
              0.2222222222222222,
              "#7201a8"
             ],
             [
              0.3333333333333333,
              "#9c179e"
             ],
             [
              0.4444444444444444,
              "#bd3786"
             ],
             [
              0.5555555555555556,
              "#d8576b"
             ],
             [
              0.6666666666666666,
              "#ed7953"
             ],
             [
              0.7777777777777778,
              "#fb9f3a"
             ],
             [
              0.8888888888888888,
              "#fdca26"
             ],
             [
              1,
              "#f0f921"
             ]
            ],
            "type": "surface"
           }
          ],
          "table": [
           {
            "cells": {
             "fill": {
              "color": "#EBF0F8"
             },
             "line": {
              "color": "white"
             }
            },
            "header": {
             "fill": {
              "color": "#C8D4E3"
             },
             "line": {
              "color": "white"
             }
            },
            "type": "table"
           }
          ]
         },
         "layout": {
          "annotationdefaults": {
           "arrowcolor": "#2a3f5f",
           "arrowhead": 0,
           "arrowwidth": 1
          },
          "coloraxis": {
           "colorbar": {
            "outlinewidth": 0,
            "ticks": ""
           }
          },
          "colorscale": {
           "diverging": [
            [
             0,
             "#8e0152"
            ],
            [
             0.1,
             "#c51b7d"
            ],
            [
             0.2,
             "#de77ae"
            ],
            [
             0.3,
             "#f1b6da"
            ],
            [
             0.4,
             "#fde0ef"
            ],
            [
             0.5,
             "#f7f7f7"
            ],
            [
             0.6,
             "#e6f5d0"
            ],
            [
             0.7,
             "#b8e186"
            ],
            [
             0.8,
             "#7fbc41"
            ],
            [
             0.9,
             "#4d9221"
            ],
            [
             1,
             "#276419"
            ]
           ],
           "sequential": [
            [
             0,
             "#0d0887"
            ],
            [
             0.1111111111111111,
             "#46039f"
            ],
            [
             0.2222222222222222,
             "#7201a8"
            ],
            [
             0.3333333333333333,
             "#9c179e"
            ],
            [
             0.4444444444444444,
             "#bd3786"
            ],
            [
             0.5555555555555556,
             "#d8576b"
            ],
            [
             0.6666666666666666,
             "#ed7953"
            ],
            [
             0.7777777777777778,
             "#fb9f3a"
            ],
            [
             0.8888888888888888,
             "#fdca26"
            ],
            [
             1,
             "#f0f921"
            ]
           ],
           "sequentialminus": [
            [
             0,
             "#0d0887"
            ],
            [
             0.1111111111111111,
             "#46039f"
            ],
            [
             0.2222222222222222,
             "#7201a8"
            ],
            [
             0.3333333333333333,
             "#9c179e"
            ],
            [
             0.4444444444444444,
             "#bd3786"
            ],
            [
             0.5555555555555556,
             "#d8576b"
            ],
            [
             0.6666666666666666,
             "#ed7953"
            ],
            [
             0.7777777777777778,
             "#fb9f3a"
            ],
            [
             0.8888888888888888,
             "#fdca26"
            ],
            [
             1,
             "#f0f921"
            ]
           ]
          },
          "colorway": [
           "#636efa",
           "#EF553B",
           "#00cc96",
           "#ab63fa",
           "#FFA15A",
           "#19d3f3",
           "#FF6692",
           "#B6E880",
           "#FF97FF",
           "#FECB52"
          ],
          "font": {
           "color": "#2a3f5f"
          },
          "geo": {
           "bgcolor": "white",
           "lakecolor": "white",
           "landcolor": "#E5ECF6",
           "showlakes": true,
           "showland": true,
           "subunitcolor": "white"
          },
          "hoverlabel": {
           "align": "left"
          },
          "hovermode": "closest",
          "mapbox": {
           "style": "light"
          },
          "paper_bgcolor": "white",
          "plot_bgcolor": "#E5ECF6",
          "polar": {
           "angularaxis": {
            "gridcolor": "white",
            "linecolor": "white",
            "ticks": ""
           },
           "bgcolor": "#E5ECF6",
           "radialaxis": {
            "gridcolor": "white",
            "linecolor": "white",
            "ticks": ""
           }
          },
          "scene": {
           "xaxis": {
            "backgroundcolor": "#E5ECF6",
            "gridcolor": "white",
            "gridwidth": 2,
            "linecolor": "white",
            "showbackground": true,
            "ticks": "",
            "zerolinecolor": "white"
           },
           "yaxis": {
            "backgroundcolor": "#E5ECF6",
            "gridcolor": "white",
            "gridwidth": 2,
            "linecolor": "white",
            "showbackground": true,
            "ticks": "",
            "zerolinecolor": "white"
           },
           "zaxis": {
            "backgroundcolor": "#E5ECF6",
            "gridcolor": "white",
            "gridwidth": 2,
            "linecolor": "white",
            "showbackground": true,
            "ticks": "",
            "zerolinecolor": "white"
           }
          },
          "shapedefaults": {
           "line": {
            "color": "#2a3f5f"
           }
          },
          "ternary": {
           "aaxis": {
            "gridcolor": "white",
            "linecolor": "white",
            "ticks": ""
           },
           "baxis": {
            "gridcolor": "white",
            "linecolor": "white",
            "ticks": ""
           },
           "bgcolor": "#E5ECF6",
           "caxis": {
            "gridcolor": "white",
            "linecolor": "white",
            "ticks": ""
           }
          },
          "title": {
           "x": 0.05
          },
          "xaxis": {
           "automargin": true,
           "gridcolor": "white",
           "linecolor": "white",
           "ticks": "",
           "title": {
            "standoff": 15
           },
           "zerolinecolor": "white",
           "zerolinewidth": 2
          },
          "yaxis": {
           "automargin": true,
           "gridcolor": "white",
           "linecolor": "white",
           "ticks": "",
           "title": {
            "standoff": 15
           },
           "zerolinecolor": "white",
           "zerolinewidth": 2
          }
         }
        },
        "title": {
         "font": {
          "color": "#4D5663"
         }
        },
        "xaxis": {
         "gridcolor": "#E1E5ED",
         "showgrid": true,
         "tickfont": {
          "color": "#4D5663"
         },
         "title": {
          "font": {
           "color": "#4D5663"
          },
          "text": ""
         },
         "zerolinecolor": "#E1E5ED"
        },
        "yaxis": {
         "gridcolor": "#E1E5ED",
         "showgrid": true,
         "tickfont": {
          "color": "#4D5663"
         },
         "title": {
          "font": {
           "color": "#4D5663"
          },
          "text": ""
         },
         "zerolinecolor": "#E1E5ED"
        }
       }
      },
      "text/html": [
       "<div>\n",
       "        \n",
       "        \n",
       "            <div id=\"b6a6f338-7378-4bb8-b860-705317afd12e\" class=\"plotly-graph-div\" style=\"height:525px; width:100%;\"></div>\n",
       "            <script type=\"text/javascript\">\n",
       "                require([\"plotly\"], function(Plotly) {\n",
       "                    window.PLOTLYENV=window.PLOTLYENV || {};\n",
       "                    window.PLOTLYENV.BASE_URL='https://plot.ly';\n",
       "                    \n",
       "                if (document.getElementById(\"b6a6f338-7378-4bb8-b860-705317afd12e\")) {\n",
       "                    Plotly.newPlot(\n",
       "                        'b6a6f338-7378-4bb8-b860-705317afd12e',\n",
       "                        [{\"colorscale\": [[0.0, \"rgb(165,0,38)\"], [0.1, \"rgb(215,48,39)\"], [0.2, \"rgb(244,109,67)\"], [0.3, \"rgb(253,174,97)\"], [0.4, \"rgb(254,224,144)\"], [0.5, \"rgb(255,255,191)\"], [0.6, \"rgb(224,243,248)\"], [0.7, \"rgb(171,217,233)\"], [0.8, \"rgb(116,173,209)\"], [0.9, \"rgb(69,117,180)\"], [1.0, \"rgb(49,54,149)\"]], \"type\": \"surface\", \"x\": [0, 1, 2, 3, 4], \"y\": [\"x\", \"y\", \"z\"], \"z\": [[1, 2, 3, 4, 5], [10, 20, 30, 20, 10], [5, 4, 3, 2, 1]]}],\n",
       "                        {\"legend\": {\"bgcolor\": \"#F5F6F9\", \"font\": {\"color\": \"#4D5663\"}}, \"paper_bgcolor\": \"#F5F6F9\", \"plot_bgcolor\": \"#F5F6F9\", \"template\": {\"data\": {\"bar\": [{\"error_x\": {\"color\": \"#2a3f5f\"}, \"error_y\": {\"color\": \"#2a3f5f\"}, \"marker\": {\"line\": {\"color\": \"#E5ECF6\", \"width\": 0.5}}, \"type\": \"bar\"}], \"barpolar\": [{\"marker\": {\"line\": {\"color\": \"#E5ECF6\", \"width\": 0.5}}, \"type\": \"barpolar\"}], \"carpet\": [{\"aaxis\": {\"endlinecolor\": \"#2a3f5f\", \"gridcolor\": \"white\", \"linecolor\": \"white\", \"minorgridcolor\": \"white\", \"startlinecolor\": \"#2a3f5f\"}, \"baxis\": {\"endlinecolor\": \"#2a3f5f\", \"gridcolor\": \"white\", \"linecolor\": \"white\", \"minorgridcolor\": \"white\", \"startlinecolor\": \"#2a3f5f\"}, \"type\": \"carpet\"}], \"choropleth\": [{\"colorbar\": {\"outlinewidth\": 0, \"ticks\": \"\"}, \"type\": \"choropleth\"}], \"contour\": [{\"colorbar\": {\"outlinewidth\": 0, \"ticks\": \"\"}, \"colorscale\": [[0.0, \"#0d0887\"], [0.1111111111111111, \"#46039f\"], [0.2222222222222222, \"#7201a8\"], [0.3333333333333333, \"#9c179e\"], [0.4444444444444444, \"#bd3786\"], [0.5555555555555556, \"#d8576b\"], [0.6666666666666666, \"#ed7953\"], [0.7777777777777778, \"#fb9f3a\"], [0.8888888888888888, \"#fdca26\"], [1.0, \"#f0f921\"]], \"type\": \"contour\"}], \"contourcarpet\": [{\"colorbar\": {\"outlinewidth\": 0, \"ticks\": \"\"}, \"type\": \"contourcarpet\"}], \"heatmap\": [{\"colorbar\": {\"outlinewidth\": 0, \"ticks\": \"\"}, \"colorscale\": [[0.0, \"#0d0887\"], [0.1111111111111111, \"#46039f\"], [0.2222222222222222, \"#7201a8\"], [0.3333333333333333, \"#9c179e\"], [0.4444444444444444, \"#bd3786\"], [0.5555555555555556, \"#d8576b\"], [0.6666666666666666, \"#ed7953\"], [0.7777777777777778, \"#fb9f3a\"], [0.8888888888888888, \"#fdca26\"], [1.0, \"#f0f921\"]], \"type\": \"heatmap\"}], \"heatmapgl\": [{\"colorbar\": {\"outlinewidth\": 0, \"ticks\": \"\"}, \"colorscale\": [[0.0, \"#0d0887\"], [0.1111111111111111, \"#46039f\"], [0.2222222222222222, \"#7201a8\"], [0.3333333333333333, \"#9c179e\"], [0.4444444444444444, \"#bd3786\"], [0.5555555555555556, \"#d8576b\"], [0.6666666666666666, \"#ed7953\"], [0.7777777777777778, \"#fb9f3a\"], [0.8888888888888888, \"#fdca26\"], [1.0, \"#f0f921\"]], \"type\": \"heatmapgl\"}], \"histogram\": [{\"marker\": {\"colorbar\": {\"outlinewidth\": 0, \"ticks\": \"\"}}, \"type\": \"histogram\"}], \"histogram2d\": [{\"colorbar\": {\"outlinewidth\": 0, \"ticks\": \"\"}, \"colorscale\": [[0.0, \"#0d0887\"], [0.1111111111111111, \"#46039f\"], [0.2222222222222222, \"#7201a8\"], [0.3333333333333333, \"#9c179e\"], [0.4444444444444444, \"#bd3786\"], [0.5555555555555556, \"#d8576b\"], [0.6666666666666666, \"#ed7953\"], [0.7777777777777778, \"#fb9f3a\"], [0.8888888888888888, \"#fdca26\"], [1.0, \"#f0f921\"]], \"type\": \"histogram2d\"}], \"histogram2dcontour\": [{\"colorbar\": {\"outlinewidth\": 0, \"ticks\": \"\"}, \"colorscale\": [[0.0, \"#0d0887\"], [0.1111111111111111, \"#46039f\"], [0.2222222222222222, \"#7201a8\"], [0.3333333333333333, \"#9c179e\"], [0.4444444444444444, \"#bd3786\"], [0.5555555555555556, \"#d8576b\"], [0.6666666666666666, \"#ed7953\"], [0.7777777777777778, \"#fb9f3a\"], [0.8888888888888888, \"#fdca26\"], [1.0, \"#f0f921\"]], \"type\": \"histogram2dcontour\"}], \"mesh3d\": [{\"colorbar\": {\"outlinewidth\": 0, \"ticks\": \"\"}, \"type\": \"mesh3d\"}], \"parcoords\": [{\"line\": {\"colorbar\": {\"outlinewidth\": 0, \"ticks\": \"\"}}, \"type\": \"parcoords\"}], \"pie\": [{\"automargin\": true, \"type\": \"pie\"}], \"scatter\": [{\"marker\": {\"colorbar\": {\"outlinewidth\": 0, \"ticks\": \"\"}}, \"type\": \"scatter\"}], \"scatter3d\": [{\"line\": {\"colorbar\": {\"outlinewidth\": 0, \"ticks\": \"\"}}, \"marker\": {\"colorbar\": {\"outlinewidth\": 0, \"ticks\": \"\"}}, \"type\": \"scatter3d\"}], \"scattercarpet\": [{\"marker\": {\"colorbar\": {\"outlinewidth\": 0, \"ticks\": \"\"}}, \"type\": \"scattercarpet\"}], \"scattergeo\": [{\"marker\": {\"colorbar\": {\"outlinewidth\": 0, \"ticks\": \"\"}}, \"type\": \"scattergeo\"}], \"scattergl\": [{\"marker\": {\"colorbar\": {\"outlinewidth\": 0, \"ticks\": \"\"}}, \"type\": \"scattergl\"}], \"scattermapbox\": [{\"marker\": {\"colorbar\": {\"outlinewidth\": 0, \"ticks\": \"\"}}, \"type\": \"scattermapbox\"}], \"scatterpolar\": [{\"marker\": {\"colorbar\": {\"outlinewidth\": 0, \"ticks\": \"\"}}, \"type\": \"scatterpolar\"}], \"scatterpolargl\": [{\"marker\": {\"colorbar\": {\"outlinewidth\": 0, \"ticks\": \"\"}}, \"type\": \"scatterpolargl\"}], \"scatterternary\": [{\"marker\": {\"colorbar\": {\"outlinewidth\": 0, \"ticks\": \"\"}}, \"type\": \"scatterternary\"}], \"surface\": [{\"colorbar\": {\"outlinewidth\": 0, \"ticks\": \"\"}, \"colorscale\": [[0.0, \"#0d0887\"], [0.1111111111111111, \"#46039f\"], [0.2222222222222222, \"#7201a8\"], [0.3333333333333333, \"#9c179e\"], [0.4444444444444444, \"#bd3786\"], [0.5555555555555556, \"#d8576b\"], [0.6666666666666666, \"#ed7953\"], [0.7777777777777778, \"#fb9f3a\"], [0.8888888888888888, \"#fdca26\"], [1.0, \"#f0f921\"]], \"type\": \"surface\"}], \"table\": [{\"cells\": {\"fill\": {\"color\": \"#EBF0F8\"}, \"line\": {\"color\": \"white\"}}, \"header\": {\"fill\": {\"color\": \"#C8D4E3\"}, \"line\": {\"color\": \"white\"}}, \"type\": \"table\"}]}, \"layout\": {\"annotationdefaults\": {\"arrowcolor\": \"#2a3f5f\", \"arrowhead\": 0, \"arrowwidth\": 1}, \"coloraxis\": {\"colorbar\": {\"outlinewidth\": 0, \"ticks\": \"\"}}, \"colorscale\": {\"diverging\": [[0, \"#8e0152\"], [0.1, \"#c51b7d\"], [0.2, \"#de77ae\"], [0.3, \"#f1b6da\"], [0.4, \"#fde0ef\"], [0.5, \"#f7f7f7\"], [0.6, \"#e6f5d0\"], [0.7, \"#b8e186\"], [0.8, \"#7fbc41\"], [0.9, \"#4d9221\"], [1, \"#276419\"]], \"sequential\": [[0.0, \"#0d0887\"], [0.1111111111111111, \"#46039f\"], [0.2222222222222222, \"#7201a8\"], [0.3333333333333333, \"#9c179e\"], [0.4444444444444444, \"#bd3786\"], [0.5555555555555556, \"#d8576b\"], [0.6666666666666666, \"#ed7953\"], [0.7777777777777778, \"#fb9f3a\"], [0.8888888888888888, \"#fdca26\"], [1.0, \"#f0f921\"]], \"sequentialminus\": [[0.0, \"#0d0887\"], [0.1111111111111111, \"#46039f\"], [0.2222222222222222, \"#7201a8\"], [0.3333333333333333, \"#9c179e\"], [0.4444444444444444, \"#bd3786\"], [0.5555555555555556, \"#d8576b\"], [0.6666666666666666, \"#ed7953\"], [0.7777777777777778, \"#fb9f3a\"], [0.8888888888888888, \"#fdca26\"], [1.0, \"#f0f921\"]]}, \"colorway\": [\"#636efa\", \"#EF553B\", \"#00cc96\", \"#ab63fa\", \"#FFA15A\", \"#19d3f3\", \"#FF6692\", \"#B6E880\", \"#FF97FF\", \"#FECB52\"], \"font\": {\"color\": \"#2a3f5f\"}, \"geo\": {\"bgcolor\": \"white\", \"lakecolor\": \"white\", \"landcolor\": \"#E5ECF6\", \"showlakes\": true, \"showland\": true, \"subunitcolor\": \"white\"}, \"hoverlabel\": {\"align\": \"left\"}, \"hovermode\": \"closest\", \"mapbox\": {\"style\": \"light\"}, \"paper_bgcolor\": \"white\", \"plot_bgcolor\": \"#E5ECF6\", \"polar\": {\"angularaxis\": {\"gridcolor\": \"white\", \"linecolor\": \"white\", \"ticks\": \"\"}, \"bgcolor\": \"#E5ECF6\", \"radialaxis\": {\"gridcolor\": \"white\", \"linecolor\": \"white\", \"ticks\": \"\"}}, \"scene\": {\"xaxis\": {\"backgroundcolor\": \"#E5ECF6\", \"gridcolor\": \"white\", \"gridwidth\": 2, \"linecolor\": \"white\", \"showbackground\": true, \"ticks\": \"\", \"zerolinecolor\": \"white\"}, \"yaxis\": {\"backgroundcolor\": \"#E5ECF6\", \"gridcolor\": \"white\", \"gridwidth\": 2, \"linecolor\": \"white\", \"showbackground\": true, \"ticks\": \"\", \"zerolinecolor\": \"white\"}, \"zaxis\": {\"backgroundcolor\": \"#E5ECF6\", \"gridcolor\": \"white\", \"gridwidth\": 2, \"linecolor\": \"white\", \"showbackground\": true, \"ticks\": \"\", \"zerolinecolor\": \"white\"}}, \"shapedefaults\": {\"line\": {\"color\": \"#2a3f5f\"}}, \"ternary\": {\"aaxis\": {\"gridcolor\": \"white\", \"linecolor\": \"white\", \"ticks\": \"\"}, \"baxis\": {\"gridcolor\": \"white\", \"linecolor\": \"white\", \"ticks\": \"\"}, \"bgcolor\": \"#E5ECF6\", \"caxis\": {\"gridcolor\": \"white\", \"linecolor\": \"white\", \"ticks\": \"\"}}, \"title\": {\"x\": 0.05}, \"xaxis\": {\"automargin\": true, \"gridcolor\": \"white\", \"linecolor\": \"white\", \"ticks\": \"\", \"title\": {\"standoff\": 15}, \"zerolinecolor\": \"white\", \"zerolinewidth\": 2}, \"yaxis\": {\"automargin\": true, \"gridcolor\": \"white\", \"linecolor\": \"white\", \"ticks\": \"\", \"title\": {\"standoff\": 15}, \"zerolinecolor\": \"white\", \"zerolinewidth\": 2}}}, \"title\": {\"font\": {\"color\": \"#4D5663\"}}, \"xaxis\": {\"gridcolor\": \"#E1E5ED\", \"showgrid\": true, \"tickfont\": {\"color\": \"#4D5663\"}, \"title\": {\"font\": {\"color\": \"#4D5663\"}, \"text\": \"\"}, \"zerolinecolor\": \"#E1E5ED\"}, \"yaxis\": {\"gridcolor\": \"#E1E5ED\", \"showgrid\": true, \"tickfont\": {\"color\": \"#4D5663\"}, \"title\": {\"font\": {\"color\": \"#4D5663\"}, \"text\": \"\"}, \"zerolinecolor\": \"#E1E5ED\"}},\n",
       "                        {\"showLink\": true, \"linkText\": \"Export to plot.ly\", \"plotlyServerURL\": \"https://plot.ly\", \"responsive\": true}\n",
       "                    ).then(function(){\n",
       "                            \n",
       "var gd = document.getElementById('b6a6f338-7378-4bb8-b860-705317afd12e');\n",
       "var x = new MutationObserver(function (mutations, observer) {{\n",
       "        var display = window.getComputedStyle(gd).display;\n",
       "        if (!display || display === 'none') {{\n",
       "            console.log([gd, 'removed!']);\n",
       "            Plotly.purge(gd);\n",
       "            observer.disconnect();\n",
       "        }}\n",
       "}});\n",
       "\n",
       "// Listen for the removal of the full notebook cells\n",
       "var notebookContainer = gd.closest('#notebook-container');\n",
       "if (notebookContainer) {{\n",
       "    x.observe(notebookContainer, {childList: true});\n",
       "}}\n",
       "\n",
       "// Listen for the clearing of the current output cell\n",
       "var outputEl = gd.closest('.output');\n",
       "if (outputEl) {{\n",
       "    x.observe(outputEl, {childList: true});\n",
       "}}\n",
       "\n",
       "                        })\n",
       "                };\n",
       "                });\n",
       "            </script>\n",
       "        </div>"
      ]
     },
     "metadata": {},
     "output_type": "display_data"
    }
   ],
   "source": [
    "df3 = pd.DataFrame({'x':[1,2,3,4,5],'y':[10,20,30,20,10],'z':[5,4,3,2,1]})\n",
    "df3.iplot(kind='surface',colorscale='rdylbu')"
   ]
  },
  {
   "cell_type": "markdown",
   "metadata": {},
   "source": [
    "## Spread"
   ]
  },
  {
   "cell_type": "code",
   "execution_count": 15,
   "metadata": {},
   "outputs": [
    {
     "data": {
      "application/vnd.plotly.v1+json": {
       "config": {
        "linkText": "Export to plot.ly",
        "plotlyServerURL": "https://plot.ly",
        "showLink": true
       },
       "data": [
        {
         "line": {
          "color": "rgba(255, 153, 51, 1.0)",
          "dash": "solid",
          "shape": "linear",
          "width": 1.3
         },
         "mode": "lines",
         "name": "A",
         "text": "",
         "type": "scatter",
         "x": [
          0,
          1,
          2,
          3,
          4,
          5,
          6,
          7,
          8,
          9,
          10,
          11,
          12,
          13,
          14,
          15,
          16,
          17,
          18,
          19,
          20,
          21,
          22,
          23,
          24,
          25,
          26,
          27,
          28,
          29,
          30,
          31,
          32,
          33,
          34,
          35,
          36,
          37,
          38,
          39,
          40,
          41,
          42,
          43,
          44,
          45,
          46,
          47,
          48,
          49,
          50,
          51,
          52,
          53,
          54,
          55,
          56,
          57,
          58,
          59,
          60,
          61,
          62,
          63,
          64,
          65,
          66,
          67,
          68,
          69,
          70,
          71,
          72,
          73,
          74,
          75,
          76,
          77,
          78,
          79,
          80,
          81,
          82,
          83,
          84,
          85,
          86,
          87,
          88,
          89,
          90,
          91,
          92,
          93,
          94,
          95,
          96,
          97,
          98,
          99
         ],
         "y": [
          0.5839627294298466,
          -0.1768545305756291,
          -0.7180267676193162,
          1.7969718128012686,
          0.31602126173729245,
          -0.6376678772916144,
          -0.329431338837138,
          0.056666604804069876,
          1.8260027043577454,
          -1.06194778847102,
          1.3018561644144118,
          0.6437270692938702,
          -1.1502107219184032,
          -0.28419826433116335,
          -0.12222280393306822,
          -0.6439715129994198,
          -0.14859266072870644,
          -0.07200818916218671,
          -0.5627290602125955,
          -0.6351859054895471,
          0.005257244324446385,
          1.1345192535344903,
          1.1578658958347188,
          1.1702861665758841,
          -0.895589757700207,
          0.3316772426891722,
          -0.3713224090856751,
          -0.18525520542928595,
          0.359112421908045,
          -1.1817115742108857,
          0.5204920373190199,
          0.938418433834922,
          -0.1752360611479026,
          0.131424462008793,
          1.7041371711356017,
          -0.618493773733723,
          -0.2474168337252729,
          -0.633037758647742,
          -0.6942175769546376,
          0.28295548458477604,
          -1.3673906816189343,
          -0.7826879714904634,
          0.8977616126463202,
          -1.5168333596732189,
          0.06463944590700774,
          1.0226647931072266,
          1.0102217663384097,
          1.0578326666609337,
          0.17481683302851356,
          -1.1663132600730985,
          0.9511450989892491,
          0.4400519702452363,
          1.7279197426474247,
          -0.35854540717754874,
          1.0443527876846477,
          -0.09196430772891549,
          -1.0114377655552134,
          1.6744310563024387,
          0.5201553984265932,
          -0.5304613551303895,
          -0.020184210853786317,
          1.0673585382200803,
          -0.6511471752848286,
          1.5304945580592253,
          -0.173645328786651,
          -1.7845526321318363,
          -0.49002158446582406,
          0.010484667092991232,
          -1.7807932381478528,
          -0.2272808366538706,
          0.4808936456768148,
          1.8233684081844312,
          0.2914284218814392,
          2.162818740066981,
          -1.826300959355398,
          -0.5574599956408757,
          0.08480330178148424,
          -0.21389767013677968,
          0.7941770661432339,
          1.2697445701051249,
          0.8785691659663916,
          1.3040185541317293,
          -1.1900230512043095,
          0.9697315870998566,
          -0.5180855626665813,
          2.1852840329712513,
          -1.1668260463461007,
          0.35621637939967327,
          -0.1011572357372411,
          -0.3292974907629444,
          0.6169020508044374,
          0.6381840167547573,
          0.19834323585800687,
          -0.8229794735068393,
          -0.5982757632440706,
          0.011712337824099178,
          0.049158403020937616,
          -1.1596447495630855,
          0.12190980616056382,
          0.7782972644047536
         ]
        },
        {
         "line": {
          "color": "rgba(55, 128, 191, 1.0)",
          "dash": "solid",
          "shape": "linear",
          "width": 1.3
         },
         "mode": "lines",
         "name": "B",
         "text": "",
         "type": "scatter",
         "x": [
          0,
          1,
          2,
          3,
          4,
          5,
          6,
          7,
          8,
          9,
          10,
          11,
          12,
          13,
          14,
          15,
          16,
          17,
          18,
          19,
          20,
          21,
          22,
          23,
          24,
          25,
          26,
          27,
          28,
          29,
          30,
          31,
          32,
          33,
          34,
          35,
          36,
          37,
          38,
          39,
          40,
          41,
          42,
          43,
          44,
          45,
          46,
          47,
          48,
          49,
          50,
          51,
          52,
          53,
          54,
          55,
          56,
          57,
          58,
          59,
          60,
          61,
          62,
          63,
          64,
          65,
          66,
          67,
          68,
          69,
          70,
          71,
          72,
          73,
          74,
          75,
          76,
          77,
          78,
          79,
          80,
          81,
          82,
          83,
          84,
          85,
          86,
          87,
          88,
          89,
          90,
          91,
          92,
          93,
          94,
          95,
          96,
          97,
          98,
          99
         ],
         "y": [
          -1.1858916520507328,
          -0.1881844617193303,
          0.7667726846892154,
          0.4587004848295419,
          0.8902597083242738,
          -0.273941446753013,
          -1.225123798318131,
          -0.37721504584851895,
          -0.4225740199381209,
          -0.38124100894641233,
          0.681034449426706,
          -1.181062675909154,
          0.818285899866459,
          0.3547839742451739,
          0.8384886628753906,
          -0.11792206175226144,
          -0.5220006933064424,
          1.1942895942987442,
          0.02393512378639254,
          1.9983989798072856,
          0.16357487379131097,
          -0.7929294003573171,
          0.08710645194701565,
          -2.312517224553923,
          -0.24364334628481835,
          -1.3723164484949728,
          0.11147229281535574,
          0.8272008508901035,
          -0.7141511702496885,
          -0.012095577295544405,
          -1.9441080966804525,
          -1.943070326326914,
          -1.1156110020345882,
          -0.5024508088762337,
          -1.8878228450731789,
          -1.3488864460197794,
          -0.039760719179231935,
          0.3444614745129723,
          0.9293858337994004,
          -0.0679643409306167,
          1.4104283988808197,
          -0.06545474986425094,
          0.6070372566674136,
          -1.1009142349929137,
          0.7477964114031687,
          -0.7533801759516092,
          -0.03163193992895965,
          -0.042241468385194596,
          -1.1904424784515502,
          -0.43209789890732264,
          -0.07206966226765718,
          -0.8507858499821402,
          0.9220779082583939,
          -1.0322482959041972,
          1.5287922776385159,
          -0.5919395566630983,
          1.557330468627081,
          -1.0813600648014896,
          0.5545282536430787,
          -0.9205639191398952,
          -0.22548734526496456,
          -0.6524495437465305,
          0.39417016559838525,
          -0.105339424611084,
          0.7734066232126082,
          -0.5673195999487552,
          0.22918504857161073,
          -0.948043175082391,
          -1.196233022910031,
          -0.628192397939514,
          0.8764146154824523,
          -0.5057497402703985,
          0.7112606330169838,
          1.3782744975890784,
          0.21965316643287403,
          -0.32236403128271696,
          0.6198826623405594,
          -0.16885386106882125,
          1.3350832324876174,
          -0.5728442896629874,
          0.275055633171602,
          0.9470198915822782,
          2.2006225356693814,
          0.300812961066748,
          0.24535883536302283,
          2.474467867930224,
          -2.1715142071297566,
          -0.14758257150518128,
          -0.8303138674195266,
          0.14884009039869295,
          0.9182049359501684,
          -0.10599705613247232,
          -0.1624456393684957,
          -0.9813289270412784,
          -1.1755411203911215,
          -0.7342879579901711,
          -2.2196140000391407,
          -0.4862940299551011,
          0.3990006903735175,
          0.3105779305092913
         ]
        },
        {
         "connectgaps": false,
         "fill": "tozeroy",
         "line": {
          "color": "green",
          "dash": "solid",
          "shape": "linear",
          "width": 0.5
         },
         "mode": "lines",
         "name": "Spread",
         "showlegend": false,
         "type": "scatter",
         "x": [
          0,
          1,
          2,
          3,
          4,
          5,
          6,
          7,
          8,
          9,
          10,
          11,
          12,
          13,
          14,
          15,
          16,
          17,
          18,
          19,
          20,
          21,
          22,
          23,
          24,
          25,
          26,
          27,
          28,
          29,
          30,
          31,
          32,
          33,
          34,
          35,
          36,
          37,
          38,
          39,
          40,
          41,
          42,
          43,
          44,
          45,
          46,
          47,
          48,
          49,
          50,
          51,
          52,
          53,
          54,
          55,
          56,
          57,
          58,
          59,
          60,
          61,
          62,
          63,
          64,
          65,
          66,
          67,
          68,
          69,
          70,
          71,
          72,
          73,
          74,
          75,
          76,
          77,
          78,
          79,
          80,
          81,
          82,
          83,
          84,
          85,
          86,
          87,
          88,
          89,
          90,
          91,
          92,
          93,
          94,
          95,
          96,
          97,
          98,
          99
         ],
         "xaxis": "x2",
         "y": [
          1.7698543814805794,
          0.011329931143701177,
          "",
          1.3382713279717267,
          "",
          "",
          0.895692459480993,
          0.4338816506525888,
          2.2485767242958663,
          "",
          0.6208217149877058,
          1.8247897452030242,
          "",
          "",
          "",
          "",
          0.3734080325777359,
          "",
          "",
          "",
          "",
          1.9274486538918074,
          1.070759443887703,
          3.4828033911298073,
          "",
          1.7039936911841451,
          "",
          "",
          1.0732635921577336,
          "",
          2.4646001339994723,
          2.8814887601618357,
          0.9403749408866856,
          0.6338752708850267,
          3.5919600162087804,
          0.7303926722860563,
          "",
          "",
          "",
          0.35091982551539275,
          "",
          "",
          0.29072435597890656,
          "",
          "",
          1.7760449690588358,
          1.0418537062673694,
          1.1000741350461283,
          1.3652593114800637,
          "",
          1.0232147612569062,
          1.2908378202273765,
          0.8058418343890308,
          0.6737028887266485,
          "",
          0.49997524893418277,
          "",
          2.755791121103928,
          "",
          0.3901025640095057,
          0.20530313441117823,
          1.7198080819666108,
          "",
          1.6358339826703092,
          "",
          "",
          "",
          0.9585278421753822,
          "",
          0.40091156128564337,
          "",
          2.32911814845483,
          "",
          0.7845442424779028,
          "",
          "",
          "",
          "",
          "",
          1.8425888597681124,
          0.6035135327947896,
          0.3569986625494511,
          "",
          0.6689186260331086,
          "",
          "",
          1.004688160783656,
          0.5037989509048546,
          0.7291566316822855,
          "",
          "",
          0.7441810728872297,
          0.3607888752265026,
          0.15834945353443908,
          0.5772653571470509,
          0.7460002958142703,
          2.2687724030600784,
          "",
          "",
          0.4677193338954623
         ],
         "yaxis": "y2"
        },
        {
         "connectgaps": false,
         "fill": "tozeroy",
         "line": {
          "color": "red",
          "dash": "solid",
          "shape": "linear",
          "width": 0.5
         },
         "mode": "lines",
         "name": "Spread",
         "showlegend": false,
         "type": "scatter",
         "x": [
          0,
          1,
          2,
          3,
          4,
          5,
          6,
          7,
          8,
          9,
          10,
          11,
          12,
          13,
          14,
          15,
          16,
          17,
          18,
          19,
          20,
          21,
          22,
          23,
          24,
          25,
          26,
          27,
          28,
          29,
          30,
          31,
          32,
          33,
          34,
          35,
          36,
          37,
          38,
          39,
          40,
          41,
          42,
          43,
          44,
          45,
          46,
          47,
          48,
          49,
          50,
          51,
          52,
          53,
          54,
          55,
          56,
          57,
          58,
          59,
          60,
          61,
          62,
          63,
          64,
          65,
          66,
          67,
          68,
          69,
          70,
          71,
          72,
          73,
          74,
          75,
          76,
          77,
          78,
          79,
          80,
          81,
          82,
          83,
          84,
          85,
          86,
          87,
          88,
          89,
          90,
          91,
          92,
          93,
          94,
          95,
          96,
          97,
          98,
          99
         ],
         "xaxis": "x2",
         "y": [
          "",
          "",
          -1.4847994523085317,
          "",
          -0.5742384465869814,
          -0.36372643053860143,
          "",
          "",
          "",
          -0.6807067795246077,
          "",
          "",
          -1.9684966217848623,
          -0.6389822385763373,
          -0.9607114668084589,
          -0.5260494512471583,
          "",
          -1.2662977834609308,
          -0.586664183998988,
          -2.6335848852968327,
          -0.1583176294668646,
          "",
          "",
          "",
          -0.6519464114153887,
          "",
          -0.48279470190103085,
          -1.0124560563193894,
          "",
          -1.1696159969153412,
          "",
          "",
          "",
          "",
          "",
          "",
          -0.20765611454604097,
          -0.9774992331607144,
          -1.623603410754038,
          "",
          -2.777819080499754,
          -0.7172332216262125,
          "",
          -0.4159191246803051,
          -0.6831569654961609,
          "",
          "",
          "",
          "",
          -0.7342153611657759,
          "",
          "",
          "",
          "",
          -0.4844394899538682,
          "",
          -2.5687682341822944,
          "",
          -0.034372855216485476,
          "",
          "",
          "",
          -1.045317340883214,
          "",
          -0.9470519519992593,
          -1.217233032183081,
          -0.7192066330374348,
          "",
          -0.5845602152378218,
          "",
          -0.39552096980563745,
          "",
          -0.41983221113554464,
          "",
          -2.0459541257882723,
          -0.23509596435815872,
          -0.5350793605590752,
          -0.045043809067958435,
          -0.5409061663443835,
          "",
          "",
          "",
          -3.390645586873691,
          "",
          -0.7634443980296042,
          -0.2891838349589726,
          "",
          "",
          "",
          -0.47813758116163735,
          -0.301302885145731,
          "",
          "",
          "",
          "",
          "",
          "",
          -0.6733507196079844,
          -0.2770908842129537,
          ""
         ],
         "yaxis": "y2"
        }
       ],
       "layout": {
        "hovermode": "x",
        "legend": {
         "bgcolor": "#F5F6F9",
         "font": {
          "color": "#4D5663"
         }
        },
        "paper_bgcolor": "#F5F6F9",
        "plot_bgcolor": "#F5F6F9",
        "template": {
         "data": {
          "bar": [
           {
            "error_x": {
             "color": "#2a3f5f"
            },
            "error_y": {
             "color": "#2a3f5f"
            },
            "marker": {
             "line": {
              "color": "#E5ECF6",
              "width": 0.5
             }
            },
            "type": "bar"
           }
          ],
          "barpolar": [
           {
            "marker": {
             "line": {
              "color": "#E5ECF6",
              "width": 0.5
             }
            },
            "type": "barpolar"
           }
          ],
          "carpet": [
           {
            "aaxis": {
             "endlinecolor": "#2a3f5f",
             "gridcolor": "white",
             "linecolor": "white",
             "minorgridcolor": "white",
             "startlinecolor": "#2a3f5f"
            },
            "baxis": {
             "endlinecolor": "#2a3f5f",
             "gridcolor": "white",
             "linecolor": "white",
             "minorgridcolor": "white",
             "startlinecolor": "#2a3f5f"
            },
            "type": "carpet"
           }
          ],
          "choropleth": [
           {
            "colorbar": {
             "outlinewidth": 0,
             "ticks": ""
            },
            "type": "choropleth"
           }
          ],
          "contour": [
           {
            "colorbar": {
             "outlinewidth": 0,
             "ticks": ""
            },
            "colorscale": [
             [
              0,
              "#0d0887"
             ],
             [
              0.1111111111111111,
              "#46039f"
             ],
             [
              0.2222222222222222,
              "#7201a8"
             ],
             [
              0.3333333333333333,
              "#9c179e"
             ],
             [
              0.4444444444444444,
              "#bd3786"
             ],
             [
              0.5555555555555556,
              "#d8576b"
             ],
             [
              0.6666666666666666,
              "#ed7953"
             ],
             [
              0.7777777777777778,
              "#fb9f3a"
             ],
             [
              0.8888888888888888,
              "#fdca26"
             ],
             [
              1,
              "#f0f921"
             ]
            ],
            "type": "contour"
           }
          ],
          "contourcarpet": [
           {
            "colorbar": {
             "outlinewidth": 0,
             "ticks": ""
            },
            "type": "contourcarpet"
           }
          ],
          "heatmap": [
           {
            "colorbar": {
             "outlinewidth": 0,
             "ticks": ""
            },
            "colorscale": [
             [
              0,
              "#0d0887"
             ],
             [
              0.1111111111111111,
              "#46039f"
             ],
             [
              0.2222222222222222,
              "#7201a8"
             ],
             [
              0.3333333333333333,
              "#9c179e"
             ],
             [
              0.4444444444444444,
              "#bd3786"
             ],
             [
              0.5555555555555556,
              "#d8576b"
             ],
             [
              0.6666666666666666,
              "#ed7953"
             ],
             [
              0.7777777777777778,
              "#fb9f3a"
             ],
             [
              0.8888888888888888,
              "#fdca26"
             ],
             [
              1,
              "#f0f921"
             ]
            ],
            "type": "heatmap"
           }
          ],
          "heatmapgl": [
           {
            "colorbar": {
             "outlinewidth": 0,
             "ticks": ""
            },
            "colorscale": [
             [
              0,
              "#0d0887"
             ],
             [
              0.1111111111111111,
              "#46039f"
             ],
             [
              0.2222222222222222,
              "#7201a8"
             ],
             [
              0.3333333333333333,
              "#9c179e"
             ],
             [
              0.4444444444444444,
              "#bd3786"
             ],
             [
              0.5555555555555556,
              "#d8576b"
             ],
             [
              0.6666666666666666,
              "#ed7953"
             ],
             [
              0.7777777777777778,
              "#fb9f3a"
             ],
             [
              0.8888888888888888,
              "#fdca26"
             ],
             [
              1,
              "#f0f921"
             ]
            ],
            "type": "heatmapgl"
           }
          ],
          "histogram": [
           {
            "marker": {
             "colorbar": {
              "outlinewidth": 0,
              "ticks": ""
             }
            },
            "type": "histogram"
           }
          ],
          "histogram2d": [
           {
            "colorbar": {
             "outlinewidth": 0,
             "ticks": ""
            },
            "colorscale": [
             [
              0,
              "#0d0887"
             ],
             [
              0.1111111111111111,
              "#46039f"
             ],
             [
              0.2222222222222222,
              "#7201a8"
             ],
             [
              0.3333333333333333,
              "#9c179e"
             ],
             [
              0.4444444444444444,
              "#bd3786"
             ],
             [
              0.5555555555555556,
              "#d8576b"
             ],
             [
              0.6666666666666666,
              "#ed7953"
             ],
             [
              0.7777777777777778,
              "#fb9f3a"
             ],
             [
              0.8888888888888888,
              "#fdca26"
             ],
             [
              1,
              "#f0f921"
             ]
            ],
            "type": "histogram2d"
           }
          ],
          "histogram2dcontour": [
           {
            "colorbar": {
             "outlinewidth": 0,
             "ticks": ""
            },
            "colorscale": [
             [
              0,
              "#0d0887"
             ],
             [
              0.1111111111111111,
              "#46039f"
             ],
             [
              0.2222222222222222,
              "#7201a8"
             ],
             [
              0.3333333333333333,
              "#9c179e"
             ],
             [
              0.4444444444444444,
              "#bd3786"
             ],
             [
              0.5555555555555556,
              "#d8576b"
             ],
             [
              0.6666666666666666,
              "#ed7953"
             ],
             [
              0.7777777777777778,
              "#fb9f3a"
             ],
             [
              0.8888888888888888,
              "#fdca26"
             ],
             [
              1,
              "#f0f921"
             ]
            ],
            "type": "histogram2dcontour"
           }
          ],
          "mesh3d": [
           {
            "colorbar": {
             "outlinewidth": 0,
             "ticks": ""
            },
            "type": "mesh3d"
           }
          ],
          "parcoords": [
           {
            "line": {
             "colorbar": {
              "outlinewidth": 0,
              "ticks": ""
             }
            },
            "type": "parcoords"
           }
          ],
          "pie": [
           {
            "automargin": true,
            "type": "pie"
           }
          ],
          "scatter": [
           {
            "marker": {
             "colorbar": {
              "outlinewidth": 0,
              "ticks": ""
             }
            },
            "type": "scatter"
           }
          ],
          "scatter3d": [
           {
            "line": {
             "colorbar": {
              "outlinewidth": 0,
              "ticks": ""
             }
            },
            "marker": {
             "colorbar": {
              "outlinewidth": 0,
              "ticks": ""
             }
            },
            "type": "scatter3d"
           }
          ],
          "scattercarpet": [
           {
            "marker": {
             "colorbar": {
              "outlinewidth": 0,
              "ticks": ""
             }
            },
            "type": "scattercarpet"
           }
          ],
          "scattergeo": [
           {
            "marker": {
             "colorbar": {
              "outlinewidth": 0,
              "ticks": ""
             }
            },
            "type": "scattergeo"
           }
          ],
          "scattergl": [
           {
            "marker": {
             "colorbar": {
              "outlinewidth": 0,
              "ticks": ""
             }
            },
            "type": "scattergl"
           }
          ],
          "scattermapbox": [
           {
            "marker": {
             "colorbar": {
              "outlinewidth": 0,
              "ticks": ""
             }
            },
            "type": "scattermapbox"
           }
          ],
          "scatterpolar": [
           {
            "marker": {
             "colorbar": {
              "outlinewidth": 0,
              "ticks": ""
             }
            },
            "type": "scatterpolar"
           }
          ],
          "scatterpolargl": [
           {
            "marker": {
             "colorbar": {
              "outlinewidth": 0,
              "ticks": ""
             }
            },
            "type": "scatterpolargl"
           }
          ],
          "scatterternary": [
           {
            "marker": {
             "colorbar": {
              "outlinewidth": 0,
              "ticks": ""
             }
            },
            "type": "scatterternary"
           }
          ],
          "surface": [
           {
            "colorbar": {
             "outlinewidth": 0,
             "ticks": ""
            },
            "colorscale": [
             [
              0,
              "#0d0887"
             ],
             [
              0.1111111111111111,
              "#46039f"
             ],
             [
              0.2222222222222222,
              "#7201a8"
             ],
             [
              0.3333333333333333,
              "#9c179e"
             ],
             [
              0.4444444444444444,
              "#bd3786"
             ],
             [
              0.5555555555555556,
              "#d8576b"
             ],
             [
              0.6666666666666666,
              "#ed7953"
             ],
             [
              0.7777777777777778,
              "#fb9f3a"
             ],
             [
              0.8888888888888888,
              "#fdca26"
             ],
             [
              1,
              "#f0f921"
             ]
            ],
            "type": "surface"
           }
          ],
          "table": [
           {
            "cells": {
             "fill": {
              "color": "#EBF0F8"
             },
             "line": {
              "color": "white"
             }
            },
            "header": {
             "fill": {
              "color": "#C8D4E3"
             },
             "line": {
              "color": "white"
             }
            },
            "type": "table"
           }
          ]
         },
         "layout": {
          "annotationdefaults": {
           "arrowcolor": "#2a3f5f",
           "arrowhead": 0,
           "arrowwidth": 1
          },
          "coloraxis": {
           "colorbar": {
            "outlinewidth": 0,
            "ticks": ""
           }
          },
          "colorscale": {
           "diverging": [
            [
             0,
             "#8e0152"
            ],
            [
             0.1,
             "#c51b7d"
            ],
            [
             0.2,
             "#de77ae"
            ],
            [
             0.3,
             "#f1b6da"
            ],
            [
             0.4,
             "#fde0ef"
            ],
            [
             0.5,
             "#f7f7f7"
            ],
            [
             0.6,
             "#e6f5d0"
            ],
            [
             0.7,
             "#b8e186"
            ],
            [
             0.8,
             "#7fbc41"
            ],
            [
             0.9,
             "#4d9221"
            ],
            [
             1,
             "#276419"
            ]
           ],
           "sequential": [
            [
             0,
             "#0d0887"
            ],
            [
             0.1111111111111111,
             "#46039f"
            ],
            [
             0.2222222222222222,
             "#7201a8"
            ],
            [
             0.3333333333333333,
             "#9c179e"
            ],
            [
             0.4444444444444444,
             "#bd3786"
            ],
            [
             0.5555555555555556,
             "#d8576b"
            ],
            [
             0.6666666666666666,
             "#ed7953"
            ],
            [
             0.7777777777777778,
             "#fb9f3a"
            ],
            [
             0.8888888888888888,
             "#fdca26"
            ],
            [
             1,
             "#f0f921"
            ]
           ],
           "sequentialminus": [
            [
             0,
             "#0d0887"
            ],
            [
             0.1111111111111111,
             "#46039f"
            ],
            [
             0.2222222222222222,
             "#7201a8"
            ],
            [
             0.3333333333333333,
             "#9c179e"
            ],
            [
             0.4444444444444444,
             "#bd3786"
            ],
            [
             0.5555555555555556,
             "#d8576b"
            ],
            [
             0.6666666666666666,
             "#ed7953"
            ],
            [
             0.7777777777777778,
             "#fb9f3a"
            ],
            [
             0.8888888888888888,
             "#fdca26"
            ],
            [
             1,
             "#f0f921"
            ]
           ]
          },
          "colorway": [
           "#636efa",
           "#EF553B",
           "#00cc96",
           "#ab63fa",
           "#FFA15A",
           "#19d3f3",
           "#FF6692",
           "#B6E880",
           "#FF97FF",
           "#FECB52"
          ],
          "font": {
           "color": "#2a3f5f"
          },
          "geo": {
           "bgcolor": "white",
           "lakecolor": "white",
           "landcolor": "#E5ECF6",
           "showlakes": true,
           "showland": true,
           "subunitcolor": "white"
          },
          "hoverlabel": {
           "align": "left"
          },
          "hovermode": "closest",
          "mapbox": {
           "style": "light"
          },
          "paper_bgcolor": "white",
          "plot_bgcolor": "#E5ECF6",
          "polar": {
           "angularaxis": {
            "gridcolor": "white",
            "linecolor": "white",
            "ticks": ""
           },
           "bgcolor": "#E5ECF6",
           "radialaxis": {
            "gridcolor": "white",
            "linecolor": "white",
            "ticks": ""
           }
          },
          "scene": {
           "xaxis": {
            "backgroundcolor": "#E5ECF6",
            "gridcolor": "white",
            "gridwidth": 2,
            "linecolor": "white",
            "showbackground": true,
            "ticks": "",
            "zerolinecolor": "white"
           },
           "yaxis": {
            "backgroundcolor": "#E5ECF6",
            "gridcolor": "white",
            "gridwidth": 2,
            "linecolor": "white",
            "showbackground": true,
            "ticks": "",
            "zerolinecolor": "white"
           },
           "zaxis": {
            "backgroundcolor": "#E5ECF6",
            "gridcolor": "white",
            "gridwidth": 2,
            "linecolor": "white",
            "showbackground": true,
            "ticks": "",
            "zerolinecolor": "white"
           }
          },
          "shapedefaults": {
           "line": {
            "color": "#2a3f5f"
           }
          },
          "ternary": {
           "aaxis": {
            "gridcolor": "white",
            "linecolor": "white",
            "ticks": ""
           },
           "baxis": {
            "gridcolor": "white",
            "linecolor": "white",
            "ticks": ""
           },
           "bgcolor": "#E5ECF6",
           "caxis": {
            "gridcolor": "white",
            "linecolor": "white",
            "ticks": ""
           }
          },
          "title": {
           "x": 0.05
          },
          "xaxis": {
           "automargin": true,
           "gridcolor": "white",
           "linecolor": "white",
           "ticks": "",
           "title": {
            "standoff": 15
           },
           "zerolinecolor": "white",
           "zerolinewidth": 2
          },
          "yaxis": {
           "automargin": true,
           "gridcolor": "white",
           "linecolor": "white",
           "ticks": "",
           "title": {
            "standoff": 15
           },
           "zerolinecolor": "white",
           "zerolinewidth": 2
          }
         }
        },
        "title": {
         "font": {
          "color": "#4D5663"
         }
        },
        "xaxis": {
         "gridcolor": "#E1E5ED",
         "showgrid": true,
         "tickfont": {
          "color": "#4D5663"
         },
         "title": {
          "font": {
           "color": "#4D5663"
          },
          "text": ""
         },
         "zerolinecolor": "#E1E5ED"
        },
        "xaxis2": {
         "anchor": "y2",
         "gridcolor": "#E1E5ED",
         "showgrid": true,
         "showticklabels": false,
         "tickfont": {
          "color": "#4D5663"
         },
         "title": {
          "font": {
           "color": "#4D5663"
          },
          "text": ""
         },
         "zerolinecolor": "#E1E5ED"
        },
        "yaxis": {
         "domain": [
          0.3,
          1
         ],
         "gridcolor": "#E1E5ED",
         "showgrid": true,
         "tickfont": {
          "color": "#4D5663"
         },
         "title": {
          "font": {
           "color": "#4D5663"
          },
          "text": ""
         },
         "zerolinecolor": "#E1E5ED"
        },
        "yaxis2": {
         "domain": [
          0,
          0.25
         ],
         "gridcolor": "#E1E5ED",
         "showgrid": true,
         "tickfont": {
          "color": "#4D5663"
         },
         "title": {
          "font": {
           "color": "#4D5663"
          },
          "text": "Spread"
         },
         "zerolinecolor": "#E1E5ED"
        }
       }
      },
      "text/html": [
       "<div>\n",
       "        \n",
       "        \n",
       "            <div id=\"67e7b0c8-94fb-478e-8538-d4dffe084aca\" class=\"plotly-graph-div\" style=\"height:525px; width:100%;\"></div>\n",
       "            <script type=\"text/javascript\">\n",
       "                require([\"plotly\"], function(Plotly) {\n",
       "                    window.PLOTLYENV=window.PLOTLYENV || {};\n",
       "                    window.PLOTLYENV.BASE_URL='https://plot.ly';\n",
       "                    \n",
       "                if (document.getElementById(\"67e7b0c8-94fb-478e-8538-d4dffe084aca\")) {\n",
       "                    Plotly.newPlot(\n",
       "                        '67e7b0c8-94fb-478e-8538-d4dffe084aca',\n",
       "                        [{\"line\": {\"color\": \"rgba(255, 153, 51, 1.0)\", \"dash\": \"solid\", \"shape\": \"linear\", \"width\": 1.3}, \"mode\": \"lines\", \"name\": \"A\", \"text\": \"\", \"type\": \"scatter\", \"x\": [0, 1, 2, 3, 4, 5, 6, 7, 8, 9, 10, 11, 12, 13, 14, 15, 16, 17, 18, 19, 20, 21, 22, 23, 24, 25, 26, 27, 28, 29, 30, 31, 32, 33, 34, 35, 36, 37, 38, 39, 40, 41, 42, 43, 44, 45, 46, 47, 48, 49, 50, 51, 52, 53, 54, 55, 56, 57, 58, 59, 60, 61, 62, 63, 64, 65, 66, 67, 68, 69, 70, 71, 72, 73, 74, 75, 76, 77, 78, 79, 80, 81, 82, 83, 84, 85, 86, 87, 88, 89, 90, 91, 92, 93, 94, 95, 96, 97, 98, 99], \"y\": [0.5839627294298466, -0.1768545305756291, -0.7180267676193162, 1.7969718128012686, 0.31602126173729245, -0.6376678772916144, -0.329431338837138, 0.056666604804069876, 1.8260027043577454, -1.06194778847102, 1.3018561644144118, 0.6437270692938702, -1.1502107219184032, -0.28419826433116335, -0.12222280393306822, -0.6439715129994198, -0.14859266072870644, -0.07200818916218671, -0.5627290602125955, -0.6351859054895471, 0.005257244324446385, 1.1345192535344903, 1.1578658958347188, 1.1702861665758841, -0.895589757700207, 0.3316772426891722, -0.3713224090856751, -0.18525520542928595, 0.359112421908045, -1.1817115742108857, 0.5204920373190199, 0.938418433834922, -0.1752360611479026, 0.131424462008793, 1.7041371711356017, -0.618493773733723, -0.2474168337252729, -0.633037758647742, -0.6942175769546376, 0.28295548458477604, -1.3673906816189343, -0.7826879714904634, 0.8977616126463202, -1.5168333596732189, 0.06463944590700774, 1.0226647931072266, 1.0102217663384097, 1.0578326666609337, 0.17481683302851356, -1.1663132600730985, 0.9511450989892491, 0.4400519702452363, 1.7279197426474247, -0.35854540717754874, 1.0443527876846477, -0.09196430772891549, -1.0114377655552134, 1.6744310563024387, 0.5201553984265932, -0.5304613551303895, -0.020184210853786317, 1.0673585382200803, -0.6511471752848286, 1.5304945580592253, -0.173645328786651, -1.7845526321318363, -0.49002158446582406, 0.010484667092991232, -1.7807932381478528, -0.2272808366538706, 0.4808936456768148, 1.8233684081844312, 0.2914284218814392, 2.162818740066981, -1.826300959355398, -0.5574599956408757, 0.08480330178148424, -0.21389767013677968, 0.7941770661432339, 1.2697445701051249, 0.8785691659663916, 1.3040185541317293, -1.1900230512043095, 0.9697315870998566, -0.5180855626665813, 2.1852840329712513, -1.1668260463461007, 0.35621637939967327, -0.1011572357372411, -0.3292974907629444, 0.6169020508044374, 0.6381840167547573, 0.19834323585800687, -0.8229794735068393, -0.5982757632440706, 0.011712337824099178, 0.049158403020937616, -1.1596447495630855, 0.12190980616056382, 0.7782972644047536]}, {\"line\": {\"color\": \"rgba(55, 128, 191, 1.0)\", \"dash\": \"solid\", \"shape\": \"linear\", \"width\": 1.3}, \"mode\": \"lines\", \"name\": \"B\", \"text\": \"\", \"type\": \"scatter\", \"x\": [0, 1, 2, 3, 4, 5, 6, 7, 8, 9, 10, 11, 12, 13, 14, 15, 16, 17, 18, 19, 20, 21, 22, 23, 24, 25, 26, 27, 28, 29, 30, 31, 32, 33, 34, 35, 36, 37, 38, 39, 40, 41, 42, 43, 44, 45, 46, 47, 48, 49, 50, 51, 52, 53, 54, 55, 56, 57, 58, 59, 60, 61, 62, 63, 64, 65, 66, 67, 68, 69, 70, 71, 72, 73, 74, 75, 76, 77, 78, 79, 80, 81, 82, 83, 84, 85, 86, 87, 88, 89, 90, 91, 92, 93, 94, 95, 96, 97, 98, 99], \"y\": [-1.1858916520507328, -0.1881844617193303, 0.7667726846892154, 0.4587004848295419, 0.8902597083242738, -0.273941446753013, -1.225123798318131, -0.37721504584851895, -0.4225740199381209, -0.38124100894641233, 0.681034449426706, -1.181062675909154, 0.818285899866459, 0.3547839742451739, 0.8384886628753906, -0.11792206175226144, -0.5220006933064424, 1.1942895942987442, 0.02393512378639254, 1.9983989798072856, 0.16357487379131097, -0.7929294003573171, 0.08710645194701565, -2.312517224553923, -0.24364334628481835, -1.3723164484949728, 0.11147229281535574, 0.8272008508901035, -0.7141511702496885, -0.012095577295544405, -1.9441080966804525, -1.943070326326914, -1.1156110020345882, -0.5024508088762337, -1.8878228450731789, -1.3488864460197794, -0.039760719179231935, 0.3444614745129723, 0.9293858337994004, -0.0679643409306167, 1.4104283988808197, -0.06545474986425094, 0.6070372566674136, -1.1009142349929137, 0.7477964114031687, -0.7533801759516092, -0.03163193992895965, -0.042241468385194596, -1.1904424784515502, -0.43209789890732264, -0.07206966226765718, -0.8507858499821402, 0.9220779082583939, -1.0322482959041972, 1.5287922776385159, -0.5919395566630983, 1.557330468627081, -1.0813600648014896, 0.5545282536430787, -0.9205639191398952, -0.22548734526496456, -0.6524495437465305, 0.39417016559838525, -0.105339424611084, 0.7734066232126082, -0.5673195999487552, 0.22918504857161073, -0.948043175082391, -1.196233022910031, -0.628192397939514, 0.8764146154824523, -0.5057497402703985, 0.7112606330169838, 1.3782744975890784, 0.21965316643287403, -0.32236403128271696, 0.6198826623405594, -0.16885386106882125, 1.3350832324876174, -0.5728442896629874, 0.275055633171602, 0.9470198915822782, 2.2006225356693814, 0.300812961066748, 0.24535883536302283, 2.474467867930224, -2.1715142071297566, -0.14758257150518128, -0.8303138674195266, 0.14884009039869295, 0.9182049359501684, -0.10599705613247232, -0.1624456393684957, -0.9813289270412784, -1.1755411203911215, -0.7342879579901711, -2.2196140000391407, -0.4862940299551011, 0.3990006903735175, 0.3105779305092913]}, {\"connectgaps\": false, \"fill\": \"tozeroy\", \"line\": {\"color\": \"green\", \"dash\": \"solid\", \"shape\": \"linear\", \"width\": 0.5}, \"mode\": \"lines\", \"name\": \"Spread\", \"showlegend\": false, \"type\": \"scatter\", \"x\": [0, 1, 2, 3, 4, 5, 6, 7, 8, 9, 10, 11, 12, 13, 14, 15, 16, 17, 18, 19, 20, 21, 22, 23, 24, 25, 26, 27, 28, 29, 30, 31, 32, 33, 34, 35, 36, 37, 38, 39, 40, 41, 42, 43, 44, 45, 46, 47, 48, 49, 50, 51, 52, 53, 54, 55, 56, 57, 58, 59, 60, 61, 62, 63, 64, 65, 66, 67, 68, 69, 70, 71, 72, 73, 74, 75, 76, 77, 78, 79, 80, 81, 82, 83, 84, 85, 86, 87, 88, 89, 90, 91, 92, 93, 94, 95, 96, 97, 98, 99], \"xaxis\": \"x2\", \"y\": [1.7698543814805794, 0.011329931143701177, \"\", 1.3382713279717267, \"\", \"\", 0.895692459480993, 0.4338816506525888, 2.2485767242958663, \"\", 0.6208217149877058, 1.8247897452030242, \"\", \"\", \"\", \"\", 0.3734080325777359, \"\", \"\", \"\", \"\", 1.9274486538918074, 1.070759443887703, 3.4828033911298073, \"\", 1.7039936911841451, \"\", \"\", 1.0732635921577336, \"\", 2.4646001339994723, 2.8814887601618357, 0.9403749408866856, 0.6338752708850267, 3.5919600162087804, 0.7303926722860563, \"\", \"\", \"\", 0.35091982551539275, \"\", \"\", 0.29072435597890656, \"\", \"\", 1.7760449690588358, 1.0418537062673694, 1.1000741350461283, 1.3652593114800637, \"\", 1.0232147612569062, 1.2908378202273765, 0.8058418343890308, 0.6737028887266485, \"\", 0.49997524893418277, \"\", 2.755791121103928, \"\", 0.3901025640095057, 0.20530313441117823, 1.7198080819666108, \"\", 1.6358339826703092, \"\", \"\", \"\", 0.9585278421753822, \"\", 0.40091156128564337, \"\", 2.32911814845483, \"\", 0.7845442424779028, \"\", \"\", \"\", \"\", \"\", 1.8425888597681124, 0.6035135327947896, 0.3569986625494511, \"\", 0.6689186260331086, \"\", \"\", 1.004688160783656, 0.5037989509048546, 0.7291566316822855, \"\", \"\", 0.7441810728872297, 0.3607888752265026, 0.15834945353443908, 0.5772653571470509, 0.7460002958142703, 2.2687724030600784, \"\", \"\", 0.4677193338954623], \"yaxis\": \"y2\"}, {\"connectgaps\": false, \"fill\": \"tozeroy\", \"line\": {\"color\": \"red\", \"dash\": \"solid\", \"shape\": \"linear\", \"width\": 0.5}, \"mode\": \"lines\", \"name\": \"Spread\", \"showlegend\": false, \"type\": \"scatter\", \"x\": [0, 1, 2, 3, 4, 5, 6, 7, 8, 9, 10, 11, 12, 13, 14, 15, 16, 17, 18, 19, 20, 21, 22, 23, 24, 25, 26, 27, 28, 29, 30, 31, 32, 33, 34, 35, 36, 37, 38, 39, 40, 41, 42, 43, 44, 45, 46, 47, 48, 49, 50, 51, 52, 53, 54, 55, 56, 57, 58, 59, 60, 61, 62, 63, 64, 65, 66, 67, 68, 69, 70, 71, 72, 73, 74, 75, 76, 77, 78, 79, 80, 81, 82, 83, 84, 85, 86, 87, 88, 89, 90, 91, 92, 93, 94, 95, 96, 97, 98, 99], \"xaxis\": \"x2\", \"y\": [\"\", \"\", -1.4847994523085317, \"\", -0.5742384465869814, -0.36372643053860143, \"\", \"\", \"\", -0.6807067795246077, \"\", \"\", -1.9684966217848623, -0.6389822385763373, -0.9607114668084589, -0.5260494512471583, \"\", -1.2662977834609308, -0.586664183998988, -2.6335848852968327, -0.1583176294668646, \"\", \"\", \"\", -0.6519464114153887, \"\", -0.48279470190103085, -1.0124560563193894, \"\", -1.1696159969153412, \"\", \"\", \"\", \"\", \"\", \"\", -0.20765611454604097, -0.9774992331607144, -1.623603410754038, \"\", -2.777819080499754, -0.7172332216262125, \"\", -0.4159191246803051, -0.6831569654961609, \"\", \"\", \"\", \"\", -0.7342153611657759, \"\", \"\", \"\", \"\", -0.4844394899538682, \"\", -2.5687682341822944, \"\", -0.034372855216485476, \"\", \"\", \"\", -1.045317340883214, \"\", -0.9470519519992593, -1.217233032183081, -0.7192066330374348, \"\", -0.5845602152378218, \"\", -0.39552096980563745, \"\", -0.41983221113554464, \"\", -2.0459541257882723, -0.23509596435815872, -0.5350793605590752, -0.045043809067958435, -0.5409061663443835, \"\", \"\", \"\", -3.390645586873691, \"\", -0.7634443980296042, -0.2891838349589726, \"\", \"\", \"\", -0.47813758116163735, -0.301302885145731, \"\", \"\", \"\", \"\", \"\", \"\", -0.6733507196079844, -0.2770908842129537, \"\"], \"yaxis\": \"y2\"}],\n",
       "                        {\"hovermode\": \"x\", \"legend\": {\"bgcolor\": \"#F5F6F9\", \"font\": {\"color\": \"#4D5663\"}}, \"paper_bgcolor\": \"#F5F6F9\", \"plot_bgcolor\": \"#F5F6F9\", \"template\": {\"data\": {\"bar\": [{\"error_x\": {\"color\": \"#2a3f5f\"}, \"error_y\": {\"color\": \"#2a3f5f\"}, \"marker\": {\"line\": {\"color\": \"#E5ECF6\", \"width\": 0.5}}, \"type\": \"bar\"}], \"barpolar\": [{\"marker\": {\"line\": {\"color\": \"#E5ECF6\", \"width\": 0.5}}, \"type\": \"barpolar\"}], \"carpet\": [{\"aaxis\": {\"endlinecolor\": \"#2a3f5f\", \"gridcolor\": \"white\", \"linecolor\": \"white\", \"minorgridcolor\": \"white\", \"startlinecolor\": \"#2a3f5f\"}, \"baxis\": {\"endlinecolor\": \"#2a3f5f\", \"gridcolor\": \"white\", \"linecolor\": \"white\", \"minorgridcolor\": \"white\", \"startlinecolor\": \"#2a3f5f\"}, \"type\": \"carpet\"}], \"choropleth\": [{\"colorbar\": {\"outlinewidth\": 0, \"ticks\": \"\"}, \"type\": \"choropleth\"}], \"contour\": [{\"colorbar\": {\"outlinewidth\": 0, \"ticks\": \"\"}, \"colorscale\": [[0.0, \"#0d0887\"], [0.1111111111111111, \"#46039f\"], [0.2222222222222222, \"#7201a8\"], [0.3333333333333333, \"#9c179e\"], [0.4444444444444444, \"#bd3786\"], [0.5555555555555556, \"#d8576b\"], [0.6666666666666666, \"#ed7953\"], [0.7777777777777778, \"#fb9f3a\"], [0.8888888888888888, \"#fdca26\"], [1.0, \"#f0f921\"]], \"type\": \"contour\"}], \"contourcarpet\": [{\"colorbar\": {\"outlinewidth\": 0, \"ticks\": \"\"}, \"type\": \"contourcarpet\"}], \"heatmap\": [{\"colorbar\": {\"outlinewidth\": 0, \"ticks\": \"\"}, \"colorscale\": [[0.0, \"#0d0887\"], [0.1111111111111111, \"#46039f\"], [0.2222222222222222, \"#7201a8\"], [0.3333333333333333, \"#9c179e\"], [0.4444444444444444, \"#bd3786\"], [0.5555555555555556, \"#d8576b\"], [0.6666666666666666, \"#ed7953\"], [0.7777777777777778, \"#fb9f3a\"], [0.8888888888888888, \"#fdca26\"], [1.0, \"#f0f921\"]], \"type\": \"heatmap\"}], \"heatmapgl\": [{\"colorbar\": {\"outlinewidth\": 0, \"ticks\": \"\"}, \"colorscale\": [[0.0, \"#0d0887\"], [0.1111111111111111, \"#46039f\"], [0.2222222222222222, \"#7201a8\"], [0.3333333333333333, \"#9c179e\"], [0.4444444444444444, \"#bd3786\"], [0.5555555555555556, \"#d8576b\"], [0.6666666666666666, \"#ed7953\"], [0.7777777777777778, \"#fb9f3a\"], [0.8888888888888888, \"#fdca26\"], [1.0, \"#f0f921\"]], \"type\": \"heatmapgl\"}], \"histogram\": [{\"marker\": {\"colorbar\": {\"outlinewidth\": 0, \"ticks\": \"\"}}, \"type\": \"histogram\"}], \"histogram2d\": [{\"colorbar\": {\"outlinewidth\": 0, \"ticks\": \"\"}, \"colorscale\": [[0.0, \"#0d0887\"], [0.1111111111111111, \"#46039f\"], [0.2222222222222222, \"#7201a8\"], [0.3333333333333333, \"#9c179e\"], [0.4444444444444444, \"#bd3786\"], [0.5555555555555556, \"#d8576b\"], [0.6666666666666666, \"#ed7953\"], [0.7777777777777778, \"#fb9f3a\"], [0.8888888888888888, \"#fdca26\"], [1.0, \"#f0f921\"]], \"type\": \"histogram2d\"}], \"histogram2dcontour\": [{\"colorbar\": {\"outlinewidth\": 0, \"ticks\": \"\"}, \"colorscale\": [[0.0, \"#0d0887\"], [0.1111111111111111, \"#46039f\"], [0.2222222222222222, \"#7201a8\"], [0.3333333333333333, \"#9c179e\"], [0.4444444444444444, \"#bd3786\"], [0.5555555555555556, \"#d8576b\"], [0.6666666666666666, \"#ed7953\"], [0.7777777777777778, \"#fb9f3a\"], [0.8888888888888888, \"#fdca26\"], [1.0, \"#f0f921\"]], \"type\": \"histogram2dcontour\"}], \"mesh3d\": [{\"colorbar\": {\"outlinewidth\": 0, \"ticks\": \"\"}, \"type\": \"mesh3d\"}], \"parcoords\": [{\"line\": {\"colorbar\": {\"outlinewidth\": 0, \"ticks\": \"\"}}, \"type\": \"parcoords\"}], \"pie\": [{\"automargin\": true, \"type\": \"pie\"}], \"scatter\": [{\"marker\": {\"colorbar\": {\"outlinewidth\": 0, \"ticks\": \"\"}}, \"type\": \"scatter\"}], \"scatter3d\": [{\"line\": {\"colorbar\": {\"outlinewidth\": 0, \"ticks\": \"\"}}, \"marker\": {\"colorbar\": {\"outlinewidth\": 0, \"ticks\": \"\"}}, \"type\": \"scatter3d\"}], \"scattercarpet\": [{\"marker\": {\"colorbar\": {\"outlinewidth\": 0, \"ticks\": \"\"}}, \"type\": \"scattercarpet\"}], \"scattergeo\": [{\"marker\": {\"colorbar\": {\"outlinewidth\": 0, \"ticks\": \"\"}}, \"type\": \"scattergeo\"}], \"scattergl\": [{\"marker\": {\"colorbar\": {\"outlinewidth\": 0, \"ticks\": \"\"}}, \"type\": \"scattergl\"}], \"scattermapbox\": [{\"marker\": {\"colorbar\": {\"outlinewidth\": 0, \"ticks\": \"\"}}, \"type\": \"scattermapbox\"}], \"scatterpolar\": [{\"marker\": {\"colorbar\": {\"outlinewidth\": 0, \"ticks\": \"\"}}, \"type\": \"scatterpolar\"}], \"scatterpolargl\": [{\"marker\": {\"colorbar\": {\"outlinewidth\": 0, \"ticks\": \"\"}}, \"type\": \"scatterpolargl\"}], \"scatterternary\": [{\"marker\": {\"colorbar\": {\"outlinewidth\": 0, \"ticks\": \"\"}}, \"type\": \"scatterternary\"}], \"surface\": [{\"colorbar\": {\"outlinewidth\": 0, \"ticks\": \"\"}, \"colorscale\": [[0.0, \"#0d0887\"], [0.1111111111111111, \"#46039f\"], [0.2222222222222222, \"#7201a8\"], [0.3333333333333333, \"#9c179e\"], [0.4444444444444444, \"#bd3786\"], [0.5555555555555556, \"#d8576b\"], [0.6666666666666666, \"#ed7953\"], [0.7777777777777778, \"#fb9f3a\"], [0.8888888888888888, \"#fdca26\"], [1.0, \"#f0f921\"]], \"type\": \"surface\"}], \"table\": [{\"cells\": {\"fill\": {\"color\": \"#EBF0F8\"}, \"line\": {\"color\": \"white\"}}, \"header\": {\"fill\": {\"color\": \"#C8D4E3\"}, \"line\": {\"color\": \"white\"}}, \"type\": \"table\"}]}, \"layout\": {\"annotationdefaults\": {\"arrowcolor\": \"#2a3f5f\", \"arrowhead\": 0, \"arrowwidth\": 1}, \"coloraxis\": {\"colorbar\": {\"outlinewidth\": 0, \"ticks\": \"\"}}, \"colorscale\": {\"diverging\": [[0, \"#8e0152\"], [0.1, \"#c51b7d\"], [0.2, \"#de77ae\"], [0.3, \"#f1b6da\"], [0.4, \"#fde0ef\"], [0.5, \"#f7f7f7\"], [0.6, \"#e6f5d0\"], [0.7, \"#b8e186\"], [0.8, \"#7fbc41\"], [0.9, \"#4d9221\"], [1, \"#276419\"]], \"sequential\": [[0.0, \"#0d0887\"], [0.1111111111111111, \"#46039f\"], [0.2222222222222222, \"#7201a8\"], [0.3333333333333333, \"#9c179e\"], [0.4444444444444444, \"#bd3786\"], [0.5555555555555556, \"#d8576b\"], [0.6666666666666666, \"#ed7953\"], [0.7777777777777778, \"#fb9f3a\"], [0.8888888888888888, \"#fdca26\"], [1.0, \"#f0f921\"]], \"sequentialminus\": [[0.0, \"#0d0887\"], [0.1111111111111111, \"#46039f\"], [0.2222222222222222, \"#7201a8\"], [0.3333333333333333, \"#9c179e\"], [0.4444444444444444, \"#bd3786\"], [0.5555555555555556, \"#d8576b\"], [0.6666666666666666, \"#ed7953\"], [0.7777777777777778, \"#fb9f3a\"], [0.8888888888888888, \"#fdca26\"], [1.0, \"#f0f921\"]]}, \"colorway\": [\"#636efa\", \"#EF553B\", \"#00cc96\", \"#ab63fa\", \"#FFA15A\", \"#19d3f3\", \"#FF6692\", \"#B6E880\", \"#FF97FF\", \"#FECB52\"], \"font\": {\"color\": \"#2a3f5f\"}, \"geo\": {\"bgcolor\": \"white\", \"lakecolor\": \"white\", \"landcolor\": \"#E5ECF6\", \"showlakes\": true, \"showland\": true, \"subunitcolor\": \"white\"}, \"hoverlabel\": {\"align\": \"left\"}, \"hovermode\": \"closest\", \"mapbox\": {\"style\": \"light\"}, \"paper_bgcolor\": \"white\", \"plot_bgcolor\": \"#E5ECF6\", \"polar\": {\"angularaxis\": {\"gridcolor\": \"white\", \"linecolor\": \"white\", \"ticks\": \"\"}, \"bgcolor\": \"#E5ECF6\", \"radialaxis\": {\"gridcolor\": \"white\", \"linecolor\": \"white\", \"ticks\": \"\"}}, \"scene\": {\"xaxis\": {\"backgroundcolor\": \"#E5ECF6\", \"gridcolor\": \"white\", \"gridwidth\": 2, \"linecolor\": \"white\", \"showbackground\": true, \"ticks\": \"\", \"zerolinecolor\": \"white\"}, \"yaxis\": {\"backgroundcolor\": \"#E5ECF6\", \"gridcolor\": \"white\", \"gridwidth\": 2, \"linecolor\": \"white\", \"showbackground\": true, \"ticks\": \"\", \"zerolinecolor\": \"white\"}, \"zaxis\": {\"backgroundcolor\": \"#E5ECF6\", \"gridcolor\": \"white\", \"gridwidth\": 2, \"linecolor\": \"white\", \"showbackground\": true, \"ticks\": \"\", \"zerolinecolor\": \"white\"}}, \"shapedefaults\": {\"line\": {\"color\": \"#2a3f5f\"}}, \"ternary\": {\"aaxis\": {\"gridcolor\": \"white\", \"linecolor\": \"white\", \"ticks\": \"\"}, \"baxis\": {\"gridcolor\": \"white\", \"linecolor\": \"white\", \"ticks\": \"\"}, \"bgcolor\": \"#E5ECF6\", \"caxis\": {\"gridcolor\": \"white\", \"linecolor\": \"white\", \"ticks\": \"\"}}, \"title\": {\"x\": 0.05}, \"xaxis\": {\"automargin\": true, \"gridcolor\": \"white\", \"linecolor\": \"white\", \"ticks\": \"\", \"title\": {\"standoff\": 15}, \"zerolinecolor\": \"white\", \"zerolinewidth\": 2}, \"yaxis\": {\"automargin\": true, \"gridcolor\": \"white\", \"linecolor\": \"white\", \"ticks\": \"\", \"title\": {\"standoff\": 15}, \"zerolinecolor\": \"white\", \"zerolinewidth\": 2}}}, \"title\": {\"font\": {\"color\": \"#4D5663\"}}, \"xaxis\": {\"gridcolor\": \"#E1E5ED\", \"showgrid\": true, \"tickfont\": {\"color\": \"#4D5663\"}, \"title\": {\"font\": {\"color\": \"#4D5663\"}, \"text\": \"\"}, \"zerolinecolor\": \"#E1E5ED\"}, \"xaxis2\": {\"anchor\": \"y2\", \"gridcolor\": \"#E1E5ED\", \"showgrid\": true, \"showticklabels\": false, \"tickfont\": {\"color\": \"#4D5663\"}, \"title\": {\"font\": {\"color\": \"#4D5663\"}, \"text\": \"\"}, \"zerolinecolor\": \"#E1E5ED\"}, \"yaxis\": {\"domain\": [0.3, 1], \"gridcolor\": \"#E1E5ED\", \"showgrid\": true, \"tickfont\": {\"color\": \"#4D5663\"}, \"title\": {\"font\": {\"color\": \"#4D5663\"}, \"text\": \"\"}, \"zerolinecolor\": \"#E1E5ED\"}, \"yaxis2\": {\"domain\": [0, 0.25], \"gridcolor\": \"#E1E5ED\", \"showgrid\": true, \"tickfont\": {\"color\": \"#4D5663\"}, \"title\": {\"font\": {\"color\": \"#4D5663\"}, \"text\": \"Spread\"}, \"zerolinecolor\": \"#E1E5ED\"}},\n",
       "                        {\"showLink\": true, \"linkText\": \"Export to plot.ly\", \"plotlyServerURL\": \"https://plot.ly\", \"responsive\": true}\n",
       "                    ).then(function(){\n",
       "                            \n",
       "var gd = document.getElementById('67e7b0c8-94fb-478e-8538-d4dffe084aca');\n",
       "var x = new MutationObserver(function (mutations, observer) {{\n",
       "        var display = window.getComputedStyle(gd).display;\n",
       "        if (!display || display === 'none') {{\n",
       "            console.log([gd, 'removed!']);\n",
       "            Plotly.purge(gd);\n",
       "            observer.disconnect();\n",
       "        }}\n",
       "}});\n",
       "\n",
       "// Listen for the removal of the full notebook cells\n",
       "var notebookContainer = gd.closest('#notebook-container');\n",
       "if (notebookContainer) {{\n",
       "    x.observe(notebookContainer, {childList: true});\n",
       "}}\n",
       "\n",
       "// Listen for the clearing of the current output cell\n",
       "var outputEl = gd.closest('.output');\n",
       "if (outputEl) {{\n",
       "    x.observe(outputEl, {childList: true});\n",
       "}}\n",
       "\n",
       "                        })\n",
       "                };\n",
       "                });\n",
       "            </script>\n",
       "        </div>"
      ]
     },
     "metadata": {},
     "output_type": "display_data"
    }
   ],
   "source": [
    "df[['A','B']].iplot(kind='spread')"
   ]
  },
  {
   "cell_type": "markdown",
   "metadata": {},
   "source": [
    "## histogram"
   ]
  },
  {
   "cell_type": "code",
   "execution_count": 16,
   "metadata": {},
   "outputs": [
    {
     "data": {
      "application/vnd.plotly.v1+json": {
       "config": {
        "linkText": "Export to plot.ly",
        "plotlyServerURL": "https://plot.ly",
        "showLink": true
       },
       "data": [
        {
         "histfunc": "count",
         "histnorm": "",
         "marker": {
          "color": "rgba(255, 153, 51, 1.0)",
          "line": {
           "color": "#4D5663",
           "width": 1.3
          }
         },
         "name": "A",
         "nbinsx": 25,
         "opacity": 0.8,
         "orientation": "v",
         "type": "histogram",
         "x": [
          0.5839627294298466,
          -0.1768545305756291,
          -0.7180267676193162,
          1.7969718128012686,
          0.31602126173729245,
          -0.6376678772916144,
          -0.329431338837138,
          0.056666604804069876,
          1.8260027043577454,
          -1.06194778847102,
          1.3018561644144118,
          0.6437270692938702,
          -1.1502107219184032,
          -0.28419826433116335,
          -0.12222280393306822,
          -0.6439715129994198,
          -0.14859266072870644,
          -0.07200818916218671,
          -0.5627290602125955,
          -0.6351859054895471,
          0.005257244324446385,
          1.1345192535344903,
          1.1578658958347188,
          1.1702861665758841,
          -0.895589757700207,
          0.3316772426891722,
          -0.3713224090856751,
          -0.18525520542928595,
          0.359112421908045,
          -1.1817115742108857,
          0.5204920373190199,
          0.938418433834922,
          -0.1752360611479026,
          0.131424462008793,
          1.7041371711356017,
          -0.618493773733723,
          -0.2474168337252729,
          -0.633037758647742,
          -0.6942175769546376,
          0.28295548458477604,
          -1.3673906816189343,
          -0.7826879714904634,
          0.8977616126463202,
          -1.5168333596732189,
          0.06463944590700774,
          1.0226647931072266,
          1.0102217663384097,
          1.0578326666609337,
          0.17481683302851356,
          -1.1663132600730985,
          0.9511450989892491,
          0.4400519702452363,
          1.7279197426474247,
          -0.35854540717754874,
          1.0443527876846477,
          -0.09196430772891549,
          -1.0114377655552134,
          1.6744310563024387,
          0.5201553984265932,
          -0.5304613551303895,
          -0.020184210853786317,
          1.0673585382200803,
          -0.6511471752848286,
          1.5304945580592253,
          -0.173645328786651,
          -1.7845526321318363,
          -0.49002158446582406,
          0.010484667092991232,
          -1.7807932381478528,
          -0.2272808366538706,
          0.4808936456768148,
          1.8233684081844312,
          0.2914284218814392,
          2.162818740066981,
          -1.826300959355398,
          -0.5574599956408757,
          0.08480330178148424,
          -0.21389767013677968,
          0.7941770661432339,
          1.2697445701051249,
          0.8785691659663916,
          1.3040185541317293,
          -1.1900230512043095,
          0.9697315870998566,
          -0.5180855626665813,
          2.1852840329712513,
          -1.1668260463461007,
          0.35621637939967327,
          -0.1011572357372411,
          -0.3292974907629444,
          0.6169020508044374,
          0.6381840167547573,
          0.19834323585800687,
          -0.8229794735068393,
          -0.5982757632440706,
          0.011712337824099178,
          0.049158403020937616,
          -1.1596447495630855,
          0.12190980616056382,
          0.7782972644047536
         ]
        }
       ],
       "layout": {
        "barmode": "overlay",
        "legend": {
         "bgcolor": "#F5F6F9",
         "font": {
          "color": "#4D5663"
         }
        },
        "paper_bgcolor": "#F5F6F9",
        "plot_bgcolor": "#F5F6F9",
        "template": {
         "data": {
          "bar": [
           {
            "error_x": {
             "color": "#2a3f5f"
            },
            "error_y": {
             "color": "#2a3f5f"
            },
            "marker": {
             "line": {
              "color": "#E5ECF6",
              "width": 0.5
             }
            },
            "type": "bar"
           }
          ],
          "barpolar": [
           {
            "marker": {
             "line": {
              "color": "#E5ECF6",
              "width": 0.5
             }
            },
            "type": "barpolar"
           }
          ],
          "carpet": [
           {
            "aaxis": {
             "endlinecolor": "#2a3f5f",
             "gridcolor": "white",
             "linecolor": "white",
             "minorgridcolor": "white",
             "startlinecolor": "#2a3f5f"
            },
            "baxis": {
             "endlinecolor": "#2a3f5f",
             "gridcolor": "white",
             "linecolor": "white",
             "minorgridcolor": "white",
             "startlinecolor": "#2a3f5f"
            },
            "type": "carpet"
           }
          ],
          "choropleth": [
           {
            "colorbar": {
             "outlinewidth": 0,
             "ticks": ""
            },
            "type": "choropleth"
           }
          ],
          "contour": [
           {
            "colorbar": {
             "outlinewidth": 0,
             "ticks": ""
            },
            "colorscale": [
             [
              0,
              "#0d0887"
             ],
             [
              0.1111111111111111,
              "#46039f"
             ],
             [
              0.2222222222222222,
              "#7201a8"
             ],
             [
              0.3333333333333333,
              "#9c179e"
             ],
             [
              0.4444444444444444,
              "#bd3786"
             ],
             [
              0.5555555555555556,
              "#d8576b"
             ],
             [
              0.6666666666666666,
              "#ed7953"
             ],
             [
              0.7777777777777778,
              "#fb9f3a"
             ],
             [
              0.8888888888888888,
              "#fdca26"
             ],
             [
              1,
              "#f0f921"
             ]
            ],
            "type": "contour"
           }
          ],
          "contourcarpet": [
           {
            "colorbar": {
             "outlinewidth": 0,
             "ticks": ""
            },
            "type": "contourcarpet"
           }
          ],
          "heatmap": [
           {
            "colorbar": {
             "outlinewidth": 0,
             "ticks": ""
            },
            "colorscale": [
             [
              0,
              "#0d0887"
             ],
             [
              0.1111111111111111,
              "#46039f"
             ],
             [
              0.2222222222222222,
              "#7201a8"
             ],
             [
              0.3333333333333333,
              "#9c179e"
             ],
             [
              0.4444444444444444,
              "#bd3786"
             ],
             [
              0.5555555555555556,
              "#d8576b"
             ],
             [
              0.6666666666666666,
              "#ed7953"
             ],
             [
              0.7777777777777778,
              "#fb9f3a"
             ],
             [
              0.8888888888888888,
              "#fdca26"
             ],
             [
              1,
              "#f0f921"
             ]
            ],
            "type": "heatmap"
           }
          ],
          "heatmapgl": [
           {
            "colorbar": {
             "outlinewidth": 0,
             "ticks": ""
            },
            "colorscale": [
             [
              0,
              "#0d0887"
             ],
             [
              0.1111111111111111,
              "#46039f"
             ],
             [
              0.2222222222222222,
              "#7201a8"
             ],
             [
              0.3333333333333333,
              "#9c179e"
             ],
             [
              0.4444444444444444,
              "#bd3786"
             ],
             [
              0.5555555555555556,
              "#d8576b"
             ],
             [
              0.6666666666666666,
              "#ed7953"
             ],
             [
              0.7777777777777778,
              "#fb9f3a"
             ],
             [
              0.8888888888888888,
              "#fdca26"
             ],
             [
              1,
              "#f0f921"
             ]
            ],
            "type": "heatmapgl"
           }
          ],
          "histogram": [
           {
            "marker": {
             "colorbar": {
              "outlinewidth": 0,
              "ticks": ""
             }
            },
            "type": "histogram"
           }
          ],
          "histogram2d": [
           {
            "colorbar": {
             "outlinewidth": 0,
             "ticks": ""
            },
            "colorscale": [
             [
              0,
              "#0d0887"
             ],
             [
              0.1111111111111111,
              "#46039f"
             ],
             [
              0.2222222222222222,
              "#7201a8"
             ],
             [
              0.3333333333333333,
              "#9c179e"
             ],
             [
              0.4444444444444444,
              "#bd3786"
             ],
             [
              0.5555555555555556,
              "#d8576b"
             ],
             [
              0.6666666666666666,
              "#ed7953"
             ],
             [
              0.7777777777777778,
              "#fb9f3a"
             ],
             [
              0.8888888888888888,
              "#fdca26"
             ],
             [
              1,
              "#f0f921"
             ]
            ],
            "type": "histogram2d"
           }
          ],
          "histogram2dcontour": [
           {
            "colorbar": {
             "outlinewidth": 0,
             "ticks": ""
            },
            "colorscale": [
             [
              0,
              "#0d0887"
             ],
             [
              0.1111111111111111,
              "#46039f"
             ],
             [
              0.2222222222222222,
              "#7201a8"
             ],
             [
              0.3333333333333333,
              "#9c179e"
             ],
             [
              0.4444444444444444,
              "#bd3786"
             ],
             [
              0.5555555555555556,
              "#d8576b"
             ],
             [
              0.6666666666666666,
              "#ed7953"
             ],
             [
              0.7777777777777778,
              "#fb9f3a"
             ],
             [
              0.8888888888888888,
              "#fdca26"
             ],
             [
              1,
              "#f0f921"
             ]
            ],
            "type": "histogram2dcontour"
           }
          ],
          "mesh3d": [
           {
            "colorbar": {
             "outlinewidth": 0,
             "ticks": ""
            },
            "type": "mesh3d"
           }
          ],
          "parcoords": [
           {
            "line": {
             "colorbar": {
              "outlinewidth": 0,
              "ticks": ""
             }
            },
            "type": "parcoords"
           }
          ],
          "pie": [
           {
            "automargin": true,
            "type": "pie"
           }
          ],
          "scatter": [
           {
            "marker": {
             "colorbar": {
              "outlinewidth": 0,
              "ticks": ""
             }
            },
            "type": "scatter"
           }
          ],
          "scatter3d": [
           {
            "line": {
             "colorbar": {
              "outlinewidth": 0,
              "ticks": ""
             }
            },
            "marker": {
             "colorbar": {
              "outlinewidth": 0,
              "ticks": ""
             }
            },
            "type": "scatter3d"
           }
          ],
          "scattercarpet": [
           {
            "marker": {
             "colorbar": {
              "outlinewidth": 0,
              "ticks": ""
             }
            },
            "type": "scattercarpet"
           }
          ],
          "scattergeo": [
           {
            "marker": {
             "colorbar": {
              "outlinewidth": 0,
              "ticks": ""
             }
            },
            "type": "scattergeo"
           }
          ],
          "scattergl": [
           {
            "marker": {
             "colorbar": {
              "outlinewidth": 0,
              "ticks": ""
             }
            },
            "type": "scattergl"
           }
          ],
          "scattermapbox": [
           {
            "marker": {
             "colorbar": {
              "outlinewidth": 0,
              "ticks": ""
             }
            },
            "type": "scattermapbox"
           }
          ],
          "scatterpolar": [
           {
            "marker": {
             "colorbar": {
              "outlinewidth": 0,
              "ticks": ""
             }
            },
            "type": "scatterpolar"
           }
          ],
          "scatterpolargl": [
           {
            "marker": {
             "colorbar": {
              "outlinewidth": 0,
              "ticks": ""
             }
            },
            "type": "scatterpolargl"
           }
          ],
          "scatterternary": [
           {
            "marker": {
             "colorbar": {
              "outlinewidth": 0,
              "ticks": ""
             }
            },
            "type": "scatterternary"
           }
          ],
          "surface": [
           {
            "colorbar": {
             "outlinewidth": 0,
             "ticks": ""
            },
            "colorscale": [
             [
              0,
              "#0d0887"
             ],
             [
              0.1111111111111111,
              "#46039f"
             ],
             [
              0.2222222222222222,
              "#7201a8"
             ],
             [
              0.3333333333333333,
              "#9c179e"
             ],
             [
              0.4444444444444444,
              "#bd3786"
             ],
             [
              0.5555555555555556,
              "#d8576b"
             ],
             [
              0.6666666666666666,
              "#ed7953"
             ],
             [
              0.7777777777777778,
              "#fb9f3a"
             ],
             [
              0.8888888888888888,
              "#fdca26"
             ],
             [
              1,
              "#f0f921"
             ]
            ],
            "type": "surface"
           }
          ],
          "table": [
           {
            "cells": {
             "fill": {
              "color": "#EBF0F8"
             },
             "line": {
              "color": "white"
             }
            },
            "header": {
             "fill": {
              "color": "#C8D4E3"
             },
             "line": {
              "color": "white"
             }
            },
            "type": "table"
           }
          ]
         },
         "layout": {
          "annotationdefaults": {
           "arrowcolor": "#2a3f5f",
           "arrowhead": 0,
           "arrowwidth": 1
          },
          "coloraxis": {
           "colorbar": {
            "outlinewidth": 0,
            "ticks": ""
           }
          },
          "colorscale": {
           "diverging": [
            [
             0,
             "#8e0152"
            ],
            [
             0.1,
             "#c51b7d"
            ],
            [
             0.2,
             "#de77ae"
            ],
            [
             0.3,
             "#f1b6da"
            ],
            [
             0.4,
             "#fde0ef"
            ],
            [
             0.5,
             "#f7f7f7"
            ],
            [
             0.6,
             "#e6f5d0"
            ],
            [
             0.7,
             "#b8e186"
            ],
            [
             0.8,
             "#7fbc41"
            ],
            [
             0.9,
             "#4d9221"
            ],
            [
             1,
             "#276419"
            ]
           ],
           "sequential": [
            [
             0,
             "#0d0887"
            ],
            [
             0.1111111111111111,
             "#46039f"
            ],
            [
             0.2222222222222222,
             "#7201a8"
            ],
            [
             0.3333333333333333,
             "#9c179e"
            ],
            [
             0.4444444444444444,
             "#bd3786"
            ],
            [
             0.5555555555555556,
             "#d8576b"
            ],
            [
             0.6666666666666666,
             "#ed7953"
            ],
            [
             0.7777777777777778,
             "#fb9f3a"
            ],
            [
             0.8888888888888888,
             "#fdca26"
            ],
            [
             1,
             "#f0f921"
            ]
           ],
           "sequentialminus": [
            [
             0,
             "#0d0887"
            ],
            [
             0.1111111111111111,
             "#46039f"
            ],
            [
             0.2222222222222222,
             "#7201a8"
            ],
            [
             0.3333333333333333,
             "#9c179e"
            ],
            [
             0.4444444444444444,
             "#bd3786"
            ],
            [
             0.5555555555555556,
             "#d8576b"
            ],
            [
             0.6666666666666666,
             "#ed7953"
            ],
            [
             0.7777777777777778,
             "#fb9f3a"
            ],
            [
             0.8888888888888888,
             "#fdca26"
            ],
            [
             1,
             "#f0f921"
            ]
           ]
          },
          "colorway": [
           "#636efa",
           "#EF553B",
           "#00cc96",
           "#ab63fa",
           "#FFA15A",
           "#19d3f3",
           "#FF6692",
           "#B6E880",
           "#FF97FF",
           "#FECB52"
          ],
          "font": {
           "color": "#2a3f5f"
          },
          "geo": {
           "bgcolor": "white",
           "lakecolor": "white",
           "landcolor": "#E5ECF6",
           "showlakes": true,
           "showland": true,
           "subunitcolor": "white"
          },
          "hoverlabel": {
           "align": "left"
          },
          "hovermode": "closest",
          "mapbox": {
           "style": "light"
          },
          "paper_bgcolor": "white",
          "plot_bgcolor": "#E5ECF6",
          "polar": {
           "angularaxis": {
            "gridcolor": "white",
            "linecolor": "white",
            "ticks": ""
           },
           "bgcolor": "#E5ECF6",
           "radialaxis": {
            "gridcolor": "white",
            "linecolor": "white",
            "ticks": ""
           }
          },
          "scene": {
           "xaxis": {
            "backgroundcolor": "#E5ECF6",
            "gridcolor": "white",
            "gridwidth": 2,
            "linecolor": "white",
            "showbackground": true,
            "ticks": "",
            "zerolinecolor": "white"
           },
           "yaxis": {
            "backgroundcolor": "#E5ECF6",
            "gridcolor": "white",
            "gridwidth": 2,
            "linecolor": "white",
            "showbackground": true,
            "ticks": "",
            "zerolinecolor": "white"
           },
           "zaxis": {
            "backgroundcolor": "#E5ECF6",
            "gridcolor": "white",
            "gridwidth": 2,
            "linecolor": "white",
            "showbackground": true,
            "ticks": "",
            "zerolinecolor": "white"
           }
          },
          "shapedefaults": {
           "line": {
            "color": "#2a3f5f"
           }
          },
          "ternary": {
           "aaxis": {
            "gridcolor": "white",
            "linecolor": "white",
            "ticks": ""
           },
           "baxis": {
            "gridcolor": "white",
            "linecolor": "white",
            "ticks": ""
           },
           "bgcolor": "#E5ECF6",
           "caxis": {
            "gridcolor": "white",
            "linecolor": "white",
            "ticks": ""
           }
          },
          "title": {
           "x": 0.05
          },
          "xaxis": {
           "automargin": true,
           "gridcolor": "white",
           "linecolor": "white",
           "ticks": "",
           "title": {
            "standoff": 15
           },
           "zerolinecolor": "white",
           "zerolinewidth": 2
          },
          "yaxis": {
           "automargin": true,
           "gridcolor": "white",
           "linecolor": "white",
           "ticks": "",
           "title": {
            "standoff": 15
           },
           "zerolinecolor": "white",
           "zerolinewidth": 2
          }
         }
        },
        "title": {
         "font": {
          "color": "#4D5663"
         }
        },
        "xaxis": {
         "gridcolor": "#E1E5ED",
         "showgrid": true,
         "tickfont": {
          "color": "#4D5663"
         },
         "title": {
          "font": {
           "color": "#4D5663"
          },
          "text": ""
         },
         "zerolinecolor": "#E1E5ED"
        },
        "yaxis": {
         "gridcolor": "#E1E5ED",
         "showgrid": true,
         "tickfont": {
          "color": "#4D5663"
         },
         "title": {
          "font": {
           "color": "#4D5663"
          },
          "text": ""
         },
         "zerolinecolor": "#E1E5ED"
        }
       }
      },
      "text/html": [
       "<div>\n",
       "        \n",
       "        \n",
       "            <div id=\"aaeaeec0-8bbf-493b-b60c-a68679b56633\" class=\"plotly-graph-div\" style=\"height:525px; width:100%;\"></div>\n",
       "            <script type=\"text/javascript\">\n",
       "                require([\"plotly\"], function(Plotly) {\n",
       "                    window.PLOTLYENV=window.PLOTLYENV || {};\n",
       "                    window.PLOTLYENV.BASE_URL='https://plot.ly';\n",
       "                    \n",
       "                if (document.getElementById(\"aaeaeec0-8bbf-493b-b60c-a68679b56633\")) {\n",
       "                    Plotly.newPlot(\n",
       "                        'aaeaeec0-8bbf-493b-b60c-a68679b56633',\n",
       "                        [{\"histfunc\": \"count\", \"histnorm\": \"\", \"marker\": {\"color\": \"rgba(255, 153, 51, 1.0)\", \"line\": {\"color\": \"#4D5663\", \"width\": 1.3}}, \"name\": \"A\", \"nbinsx\": 25, \"opacity\": 0.8, \"orientation\": \"v\", \"type\": \"histogram\", \"x\": [0.5839627294298466, -0.1768545305756291, -0.7180267676193162, 1.7969718128012686, 0.31602126173729245, -0.6376678772916144, -0.329431338837138, 0.056666604804069876, 1.8260027043577454, -1.06194778847102, 1.3018561644144118, 0.6437270692938702, -1.1502107219184032, -0.28419826433116335, -0.12222280393306822, -0.6439715129994198, -0.14859266072870644, -0.07200818916218671, -0.5627290602125955, -0.6351859054895471, 0.005257244324446385, 1.1345192535344903, 1.1578658958347188, 1.1702861665758841, -0.895589757700207, 0.3316772426891722, -0.3713224090856751, -0.18525520542928595, 0.359112421908045, -1.1817115742108857, 0.5204920373190199, 0.938418433834922, -0.1752360611479026, 0.131424462008793, 1.7041371711356017, -0.618493773733723, -0.2474168337252729, -0.633037758647742, -0.6942175769546376, 0.28295548458477604, -1.3673906816189343, -0.7826879714904634, 0.8977616126463202, -1.5168333596732189, 0.06463944590700774, 1.0226647931072266, 1.0102217663384097, 1.0578326666609337, 0.17481683302851356, -1.1663132600730985, 0.9511450989892491, 0.4400519702452363, 1.7279197426474247, -0.35854540717754874, 1.0443527876846477, -0.09196430772891549, -1.0114377655552134, 1.6744310563024387, 0.5201553984265932, -0.5304613551303895, -0.020184210853786317, 1.0673585382200803, -0.6511471752848286, 1.5304945580592253, -0.173645328786651, -1.7845526321318363, -0.49002158446582406, 0.010484667092991232, -1.7807932381478528, -0.2272808366538706, 0.4808936456768148, 1.8233684081844312, 0.2914284218814392, 2.162818740066981, -1.826300959355398, -0.5574599956408757, 0.08480330178148424, -0.21389767013677968, 0.7941770661432339, 1.2697445701051249, 0.8785691659663916, 1.3040185541317293, -1.1900230512043095, 0.9697315870998566, -0.5180855626665813, 2.1852840329712513, -1.1668260463461007, 0.35621637939967327, -0.1011572357372411, -0.3292974907629444, 0.6169020508044374, 0.6381840167547573, 0.19834323585800687, -0.8229794735068393, -0.5982757632440706, 0.011712337824099178, 0.049158403020937616, -1.1596447495630855, 0.12190980616056382, 0.7782972644047536]}],\n",
       "                        {\"barmode\": \"overlay\", \"legend\": {\"bgcolor\": \"#F5F6F9\", \"font\": {\"color\": \"#4D5663\"}}, \"paper_bgcolor\": \"#F5F6F9\", \"plot_bgcolor\": \"#F5F6F9\", \"template\": {\"data\": {\"bar\": [{\"error_x\": {\"color\": \"#2a3f5f\"}, \"error_y\": {\"color\": \"#2a3f5f\"}, \"marker\": {\"line\": {\"color\": \"#E5ECF6\", \"width\": 0.5}}, \"type\": \"bar\"}], \"barpolar\": [{\"marker\": {\"line\": {\"color\": \"#E5ECF6\", \"width\": 0.5}}, \"type\": \"barpolar\"}], \"carpet\": [{\"aaxis\": {\"endlinecolor\": \"#2a3f5f\", \"gridcolor\": \"white\", \"linecolor\": \"white\", \"minorgridcolor\": \"white\", \"startlinecolor\": \"#2a3f5f\"}, \"baxis\": {\"endlinecolor\": \"#2a3f5f\", \"gridcolor\": \"white\", \"linecolor\": \"white\", \"minorgridcolor\": \"white\", \"startlinecolor\": \"#2a3f5f\"}, \"type\": \"carpet\"}], \"choropleth\": [{\"colorbar\": {\"outlinewidth\": 0, \"ticks\": \"\"}, \"type\": \"choropleth\"}], \"contour\": [{\"colorbar\": {\"outlinewidth\": 0, \"ticks\": \"\"}, \"colorscale\": [[0.0, \"#0d0887\"], [0.1111111111111111, \"#46039f\"], [0.2222222222222222, \"#7201a8\"], [0.3333333333333333, \"#9c179e\"], [0.4444444444444444, \"#bd3786\"], [0.5555555555555556, \"#d8576b\"], [0.6666666666666666, \"#ed7953\"], [0.7777777777777778, \"#fb9f3a\"], [0.8888888888888888, \"#fdca26\"], [1.0, \"#f0f921\"]], \"type\": \"contour\"}], \"contourcarpet\": [{\"colorbar\": {\"outlinewidth\": 0, \"ticks\": \"\"}, \"type\": \"contourcarpet\"}], \"heatmap\": [{\"colorbar\": {\"outlinewidth\": 0, \"ticks\": \"\"}, \"colorscale\": [[0.0, \"#0d0887\"], [0.1111111111111111, \"#46039f\"], [0.2222222222222222, \"#7201a8\"], [0.3333333333333333, \"#9c179e\"], [0.4444444444444444, \"#bd3786\"], [0.5555555555555556, \"#d8576b\"], [0.6666666666666666, \"#ed7953\"], [0.7777777777777778, \"#fb9f3a\"], [0.8888888888888888, \"#fdca26\"], [1.0, \"#f0f921\"]], \"type\": \"heatmap\"}], \"heatmapgl\": [{\"colorbar\": {\"outlinewidth\": 0, \"ticks\": \"\"}, \"colorscale\": [[0.0, \"#0d0887\"], [0.1111111111111111, \"#46039f\"], [0.2222222222222222, \"#7201a8\"], [0.3333333333333333, \"#9c179e\"], [0.4444444444444444, \"#bd3786\"], [0.5555555555555556, \"#d8576b\"], [0.6666666666666666, \"#ed7953\"], [0.7777777777777778, \"#fb9f3a\"], [0.8888888888888888, \"#fdca26\"], [1.0, \"#f0f921\"]], \"type\": \"heatmapgl\"}], \"histogram\": [{\"marker\": {\"colorbar\": {\"outlinewidth\": 0, \"ticks\": \"\"}}, \"type\": \"histogram\"}], \"histogram2d\": [{\"colorbar\": {\"outlinewidth\": 0, \"ticks\": \"\"}, \"colorscale\": [[0.0, \"#0d0887\"], [0.1111111111111111, \"#46039f\"], [0.2222222222222222, \"#7201a8\"], [0.3333333333333333, \"#9c179e\"], [0.4444444444444444, \"#bd3786\"], [0.5555555555555556, \"#d8576b\"], [0.6666666666666666, \"#ed7953\"], [0.7777777777777778, \"#fb9f3a\"], [0.8888888888888888, \"#fdca26\"], [1.0, \"#f0f921\"]], \"type\": \"histogram2d\"}], \"histogram2dcontour\": [{\"colorbar\": {\"outlinewidth\": 0, \"ticks\": \"\"}, \"colorscale\": [[0.0, \"#0d0887\"], [0.1111111111111111, \"#46039f\"], [0.2222222222222222, \"#7201a8\"], [0.3333333333333333, \"#9c179e\"], [0.4444444444444444, \"#bd3786\"], [0.5555555555555556, \"#d8576b\"], [0.6666666666666666, \"#ed7953\"], [0.7777777777777778, \"#fb9f3a\"], [0.8888888888888888, \"#fdca26\"], [1.0, \"#f0f921\"]], \"type\": \"histogram2dcontour\"}], \"mesh3d\": [{\"colorbar\": {\"outlinewidth\": 0, \"ticks\": \"\"}, \"type\": \"mesh3d\"}], \"parcoords\": [{\"line\": {\"colorbar\": {\"outlinewidth\": 0, \"ticks\": \"\"}}, \"type\": \"parcoords\"}], \"pie\": [{\"automargin\": true, \"type\": \"pie\"}], \"scatter\": [{\"marker\": {\"colorbar\": {\"outlinewidth\": 0, \"ticks\": \"\"}}, \"type\": \"scatter\"}], \"scatter3d\": [{\"line\": {\"colorbar\": {\"outlinewidth\": 0, \"ticks\": \"\"}}, \"marker\": {\"colorbar\": {\"outlinewidth\": 0, \"ticks\": \"\"}}, \"type\": \"scatter3d\"}], \"scattercarpet\": [{\"marker\": {\"colorbar\": {\"outlinewidth\": 0, \"ticks\": \"\"}}, \"type\": \"scattercarpet\"}], \"scattergeo\": [{\"marker\": {\"colorbar\": {\"outlinewidth\": 0, \"ticks\": \"\"}}, \"type\": \"scattergeo\"}], \"scattergl\": [{\"marker\": {\"colorbar\": {\"outlinewidth\": 0, \"ticks\": \"\"}}, \"type\": \"scattergl\"}], \"scattermapbox\": [{\"marker\": {\"colorbar\": {\"outlinewidth\": 0, \"ticks\": \"\"}}, \"type\": \"scattermapbox\"}], \"scatterpolar\": [{\"marker\": {\"colorbar\": {\"outlinewidth\": 0, \"ticks\": \"\"}}, \"type\": \"scatterpolar\"}], \"scatterpolargl\": [{\"marker\": {\"colorbar\": {\"outlinewidth\": 0, \"ticks\": \"\"}}, \"type\": \"scatterpolargl\"}], \"scatterternary\": [{\"marker\": {\"colorbar\": {\"outlinewidth\": 0, \"ticks\": \"\"}}, \"type\": \"scatterternary\"}], \"surface\": [{\"colorbar\": {\"outlinewidth\": 0, \"ticks\": \"\"}, \"colorscale\": [[0.0, \"#0d0887\"], [0.1111111111111111, \"#46039f\"], [0.2222222222222222, \"#7201a8\"], [0.3333333333333333, \"#9c179e\"], [0.4444444444444444, \"#bd3786\"], [0.5555555555555556, \"#d8576b\"], [0.6666666666666666, \"#ed7953\"], [0.7777777777777778, \"#fb9f3a\"], [0.8888888888888888, \"#fdca26\"], [1.0, \"#f0f921\"]], \"type\": \"surface\"}], \"table\": [{\"cells\": {\"fill\": {\"color\": \"#EBF0F8\"}, \"line\": {\"color\": \"white\"}}, \"header\": {\"fill\": {\"color\": \"#C8D4E3\"}, \"line\": {\"color\": \"white\"}}, \"type\": \"table\"}]}, \"layout\": {\"annotationdefaults\": {\"arrowcolor\": \"#2a3f5f\", \"arrowhead\": 0, \"arrowwidth\": 1}, \"coloraxis\": {\"colorbar\": {\"outlinewidth\": 0, \"ticks\": \"\"}}, \"colorscale\": {\"diverging\": [[0, \"#8e0152\"], [0.1, \"#c51b7d\"], [0.2, \"#de77ae\"], [0.3, \"#f1b6da\"], [0.4, \"#fde0ef\"], [0.5, \"#f7f7f7\"], [0.6, \"#e6f5d0\"], [0.7, \"#b8e186\"], [0.8, \"#7fbc41\"], [0.9, \"#4d9221\"], [1, \"#276419\"]], \"sequential\": [[0.0, \"#0d0887\"], [0.1111111111111111, \"#46039f\"], [0.2222222222222222, \"#7201a8\"], [0.3333333333333333, \"#9c179e\"], [0.4444444444444444, \"#bd3786\"], [0.5555555555555556, \"#d8576b\"], [0.6666666666666666, \"#ed7953\"], [0.7777777777777778, \"#fb9f3a\"], [0.8888888888888888, \"#fdca26\"], [1.0, \"#f0f921\"]], \"sequentialminus\": [[0.0, \"#0d0887\"], [0.1111111111111111, \"#46039f\"], [0.2222222222222222, \"#7201a8\"], [0.3333333333333333, \"#9c179e\"], [0.4444444444444444, \"#bd3786\"], [0.5555555555555556, \"#d8576b\"], [0.6666666666666666, \"#ed7953\"], [0.7777777777777778, \"#fb9f3a\"], [0.8888888888888888, \"#fdca26\"], [1.0, \"#f0f921\"]]}, \"colorway\": [\"#636efa\", \"#EF553B\", \"#00cc96\", \"#ab63fa\", \"#FFA15A\", \"#19d3f3\", \"#FF6692\", \"#B6E880\", \"#FF97FF\", \"#FECB52\"], \"font\": {\"color\": \"#2a3f5f\"}, \"geo\": {\"bgcolor\": \"white\", \"lakecolor\": \"white\", \"landcolor\": \"#E5ECF6\", \"showlakes\": true, \"showland\": true, \"subunitcolor\": \"white\"}, \"hoverlabel\": {\"align\": \"left\"}, \"hovermode\": \"closest\", \"mapbox\": {\"style\": \"light\"}, \"paper_bgcolor\": \"white\", \"plot_bgcolor\": \"#E5ECF6\", \"polar\": {\"angularaxis\": {\"gridcolor\": \"white\", \"linecolor\": \"white\", \"ticks\": \"\"}, \"bgcolor\": \"#E5ECF6\", \"radialaxis\": {\"gridcolor\": \"white\", \"linecolor\": \"white\", \"ticks\": \"\"}}, \"scene\": {\"xaxis\": {\"backgroundcolor\": \"#E5ECF6\", \"gridcolor\": \"white\", \"gridwidth\": 2, \"linecolor\": \"white\", \"showbackground\": true, \"ticks\": \"\", \"zerolinecolor\": \"white\"}, \"yaxis\": {\"backgroundcolor\": \"#E5ECF6\", \"gridcolor\": \"white\", \"gridwidth\": 2, \"linecolor\": \"white\", \"showbackground\": true, \"ticks\": \"\", \"zerolinecolor\": \"white\"}, \"zaxis\": {\"backgroundcolor\": \"#E5ECF6\", \"gridcolor\": \"white\", \"gridwidth\": 2, \"linecolor\": \"white\", \"showbackground\": true, \"ticks\": \"\", \"zerolinecolor\": \"white\"}}, \"shapedefaults\": {\"line\": {\"color\": \"#2a3f5f\"}}, \"ternary\": {\"aaxis\": {\"gridcolor\": \"white\", \"linecolor\": \"white\", \"ticks\": \"\"}, \"baxis\": {\"gridcolor\": \"white\", \"linecolor\": \"white\", \"ticks\": \"\"}, \"bgcolor\": \"#E5ECF6\", \"caxis\": {\"gridcolor\": \"white\", \"linecolor\": \"white\", \"ticks\": \"\"}}, \"title\": {\"x\": 0.05}, \"xaxis\": {\"automargin\": true, \"gridcolor\": \"white\", \"linecolor\": \"white\", \"ticks\": \"\", \"title\": {\"standoff\": 15}, \"zerolinecolor\": \"white\", \"zerolinewidth\": 2}, \"yaxis\": {\"automargin\": true, \"gridcolor\": \"white\", \"linecolor\": \"white\", \"ticks\": \"\", \"title\": {\"standoff\": 15}, \"zerolinecolor\": \"white\", \"zerolinewidth\": 2}}}, \"title\": {\"font\": {\"color\": \"#4D5663\"}}, \"xaxis\": {\"gridcolor\": \"#E1E5ED\", \"showgrid\": true, \"tickfont\": {\"color\": \"#4D5663\"}, \"title\": {\"font\": {\"color\": \"#4D5663\"}, \"text\": \"\"}, \"zerolinecolor\": \"#E1E5ED\"}, \"yaxis\": {\"gridcolor\": \"#E1E5ED\", \"showgrid\": true, \"tickfont\": {\"color\": \"#4D5663\"}, \"title\": {\"font\": {\"color\": \"#4D5663\"}, \"text\": \"\"}, \"zerolinecolor\": \"#E1E5ED\"}},\n",
       "                        {\"showLink\": true, \"linkText\": \"Export to plot.ly\", \"plotlyServerURL\": \"https://plot.ly\", \"responsive\": true}\n",
       "                    ).then(function(){\n",
       "                            \n",
       "var gd = document.getElementById('aaeaeec0-8bbf-493b-b60c-a68679b56633');\n",
       "var x = new MutationObserver(function (mutations, observer) {{\n",
       "        var display = window.getComputedStyle(gd).display;\n",
       "        if (!display || display === 'none') {{\n",
       "            console.log([gd, 'removed!']);\n",
       "            Plotly.purge(gd);\n",
       "            observer.disconnect();\n",
       "        }}\n",
       "}});\n",
       "\n",
       "// Listen for the removal of the full notebook cells\n",
       "var notebookContainer = gd.closest('#notebook-container');\n",
       "if (notebookContainer) {{\n",
       "    x.observe(notebookContainer, {childList: true});\n",
       "}}\n",
       "\n",
       "// Listen for the clearing of the current output cell\n",
       "var outputEl = gd.closest('.output');\n",
       "if (outputEl) {{\n",
       "    x.observe(outputEl, {childList: true});\n",
       "}}\n",
       "\n",
       "                        })\n",
       "                };\n",
       "                });\n",
       "            </script>\n",
       "        </div>"
      ]
     },
     "metadata": {},
     "output_type": "display_data"
    }
   ],
   "source": [
    "df['A'].iplot(kind='hist',bins=25)"
   ]
  },
  {
   "cell_type": "code",
   "execution_count": 18,
   "metadata": {},
   "outputs": [
    {
     "data": {
      "application/vnd.plotly.v1+json": {
       "config": {
        "linkText": "Export to plot.ly",
        "plotlyServerURL": "https://plot.ly",
        "showLink": true
       },
       "data": [
        {
         "marker": {
          "color": [
           "rgb(255, 153, 51)",
           "rgb(55, 128, 191)",
           "rgb(50, 171, 96)",
           "rgb(128, 0, 128)",
           "rgb(219, 64, 82)",
           "rgb(0, 128, 128)",
           "rgb(255, 255, 51)",
           "rgb(128, 128, 0)",
           "rgb(251, 128, 114)",
           "rgb(128, 177, 211)"
          ],
          "line": {
           "width": 1.3
          },
          "size": [
           54,
           50,
           64,
           57,
           23,
           49,
           100,
           50,
           66,
           79,
           68,
           74,
           35,
           69,
           58,
           67,
           78,
           47,
           51,
           60,
           59,
           87,
           54,
           70,
           53,
           55,
           33,
           80,
           51,
           65,
           70,
           51,
           96,
           57,
           61,
           91,
           87,
           63,
           49,
           68,
           104,
           47,
           50,
           91,
           61,
           65,
           72,
           96,
           52,
           58,
           49,
           65,
           64,
           69,
           55,
           45,
           42,
           74,
           66,
           60,
           111,
           79,
           81,
           79,
           55,
           40,
           72,
           44,
           40,
           60,
           29,
           90,
           61,
           37,
           61,
           51,
           80,
           74,
           68,
           111,
           75,
           86,
           12,
           63,
           58,
           63,
           29,
           71,
           56,
           98,
           74,
           47,
           68,
           88,
           50,
           72,
           44,
           89,
           76,
           107
          ],
          "symbol": "circle"
         },
         "mode": "markers",
         "text": "",
         "type": "scatter",
         "x": [
          -1.316509150580487,
          0.6567439213089783,
          -1.2117246351490527,
          -0.7795197648889394,
          -1.3086898864866376,
          1.1530168155654092,
          0.13998590336540567,
          -0.11056327817001697,
          1.7537011117105172,
          0.8810323955893713,
          0.10541010497618351,
          1.011575063785946,
          2.1228749009656473,
          -0.3075112722036564,
          1.038681885646689,
          -0.6319853146199059,
          2.2189715728894632,
          -1.4770145042427665,
          -0.153470368878263,
          -0.18727900695016553,
          1.9078574381220432,
          1.0499974193565844,
          0.46542902797864877,
          -0.6260746672943875,
          -0.03689923737424436,
          -1.0944391791639074,
          1.2481303879716057,
          0.09959660652843288,
          0.057031069351861356,
          -1.4176608242708042,
          0.27913325253238075,
          0.8782737897274759,
          -3.3361675913751814,
          -0.3611118893203861,
          0.9042067738977311,
          1.0392994720741469,
          0.3020476385379728,
          -1.10241740023384,
          0.6679332094321817,
          0.2603822989676794,
          0.45894985553075557,
          -0.011014647071094298,
          -1.2018062699942935,
          -1.288958573508946,
          -0.6602935547316192,
          0.559523528635203,
          0.9105335102135964,
          0.9007433046119707,
          -0.8788546818988332,
          1.2187402667118685,
          -0.3162671648927026,
          0.9555369947525019,
          0.8331485196348947,
          0.5643353781041094,
          0.9456632663673213,
          -0.16924653010990728,
          -2.8385553526488563,
          0.4385338754031157,
          2.050375616692176,
          -0.5957780568198906,
          -0.6391337028422326,
          0.04999693554916875,
          -0.9905604339917498,
          0.7126128257249994,
          1.623879844150366,
          0.7439398470037102,
          -1.4338603239722083,
          0.4223377380195463,
          0.7047789877639619,
          1.2997906440556526,
          1.1377795006181677,
          -0.37982037981568656,
          -0.8183289865038762,
          2.1150365234629778,
          -1.6315774177580455,
          1.557670994327429,
          0.27435834635581113,
          -0.2020660134299496,
          0.6622294003232192,
          -0.7507187976400996,
          1.6841078411643216,
          0.15725059523555834,
          0.20403175525934233,
          -0.10228075446346539,
          -0.45075758084417217,
          0.23398092630605663,
          0.7020994443457834,
          -1.372013643107886,
          -0.830234550415995,
          1.0471754048685615,
          0.2791516597674779,
          0.8073438839758672,
          -1.1840786596386352,
          -1.2438633167946165,
          0.6711553346045185,
          -1.05947273041682,
          -0.21268450772722713,
          -0.7716616231268543,
          -0.6618813607239717,
          -0.7691251660875101
         ],
         "y": [
          0.5322209261277865,
          -0.3400805111723466,
          1.1360868917232188,
          -0.382712079815374,
          -0.0882949780014785,
          -0.0035050460034809156,
          1.2200036262631462,
          0.20708725596394534,
          0.24518777378961107,
          -0.9614960463159214,
          -0.18007055388579998,
          1.693862038729409,
          0.6880732306303996,
          -1.2237783345460118,
          1.5778919118755526,
          -0.9399074605700591,
          0.6502179718500561,
          0.13984189631979266,
          0.3902474711235353,
          0.79574378145543,
          -0.3187089447730361,
          1.7756327287360203,
          0.11176970117547803,
          1.1026687785809492,
          1.2655186137877001,
          2.631604659518769,
          0.38632232634692665,
          0.3918662734991667,
          -0.10269538819221184,
          2.1050347354372656,
          -0.14728435081334065,
          1.5928813916980802,
          -0.5640139867574012,
          -0.7625416520561131,
          0.6299238973321293,
          1.5259003230423187,
          0.4556062123964385,
          -0.2699051707997322,
          1.023416758001027,
          0.8544257864781147,
          -0.2113121282276364,
          -0.9889838291299777,
          0.6101685589425011,
          0.01886452624200072,
          -0.9135960987704975,
          -0.01725436138227997,
          -0.7802532086851106,
          -0.37672890325294733,
          -2.152350636544527,
          -1.1683993670480606,
          1.263532324992662,
          0.312038748908657,
          0.7780507500386404,
          0.041471470158138804,
          -0.6020767411671846,
          0.6249868830012129,
          0.5405277670128545,
          -1.1176579751594906,
          -1.433072594514869,
          1.8835573786822821,
          1.2676267128436596,
          0.18179383715069097,
          -0.6708996716626628,
          -0.8696775484368037,
          0.1348973926892778,
          0.12074046939337874,
          -0.4243922156902889,
          0.346367856345538,
          1.0526808565699703,
          -0.9373139607993218,
          -0.4420468917330237,
          0.585751073752487,
          -0.22025857587135528,
          0.48580639571538037,
          1.1910452374445943,
          -0.8409995659483239,
          1.2713211278296752,
          0.6122183465394152,
          -0.3626153112574866,
          -0.9046816910222284,
          1.492899576359809,
          -0.19437622093277626,
          -0.17496285589028385,
          1.1661687648674532,
          -0.702440894291958,
          -0.9991504450455196,
          1.015268304294555,
          -0.41527919626977905,
          1.286684649424407,
          1.0739953772854123,
          -0.5703063513870817,
          1.039240915811815,
          0.8877143919613583,
          0.864296717575613,
          -0.26344490511936275,
          0.2117153057332679,
          -1.5890334789342004,
          1.1071474916095139,
          0.04231235469678529,
          -0.5264821907576022
         ]
        }
       ],
       "layout": {
        "legend": {
         "bgcolor": "#F5F6F9",
         "font": {
          "color": "#4D5663"
         }
        },
        "paper_bgcolor": "#F5F6F9",
        "plot_bgcolor": "#F5F6F9",
        "template": {
         "data": {
          "bar": [
           {
            "error_x": {
             "color": "#2a3f5f"
            },
            "error_y": {
             "color": "#2a3f5f"
            },
            "marker": {
             "line": {
              "color": "#E5ECF6",
              "width": 0.5
             }
            },
            "type": "bar"
           }
          ],
          "barpolar": [
           {
            "marker": {
             "line": {
              "color": "#E5ECF6",
              "width": 0.5
             }
            },
            "type": "barpolar"
           }
          ],
          "carpet": [
           {
            "aaxis": {
             "endlinecolor": "#2a3f5f",
             "gridcolor": "white",
             "linecolor": "white",
             "minorgridcolor": "white",
             "startlinecolor": "#2a3f5f"
            },
            "baxis": {
             "endlinecolor": "#2a3f5f",
             "gridcolor": "white",
             "linecolor": "white",
             "minorgridcolor": "white",
             "startlinecolor": "#2a3f5f"
            },
            "type": "carpet"
           }
          ],
          "choropleth": [
           {
            "colorbar": {
             "outlinewidth": 0,
             "ticks": ""
            },
            "type": "choropleth"
           }
          ],
          "contour": [
           {
            "colorbar": {
             "outlinewidth": 0,
             "ticks": ""
            },
            "colorscale": [
             [
              0,
              "#0d0887"
             ],
             [
              0.1111111111111111,
              "#46039f"
             ],
             [
              0.2222222222222222,
              "#7201a8"
             ],
             [
              0.3333333333333333,
              "#9c179e"
             ],
             [
              0.4444444444444444,
              "#bd3786"
             ],
             [
              0.5555555555555556,
              "#d8576b"
             ],
             [
              0.6666666666666666,
              "#ed7953"
             ],
             [
              0.7777777777777778,
              "#fb9f3a"
             ],
             [
              0.8888888888888888,
              "#fdca26"
             ],
             [
              1,
              "#f0f921"
             ]
            ],
            "type": "contour"
           }
          ],
          "contourcarpet": [
           {
            "colorbar": {
             "outlinewidth": 0,
             "ticks": ""
            },
            "type": "contourcarpet"
           }
          ],
          "heatmap": [
           {
            "colorbar": {
             "outlinewidth": 0,
             "ticks": ""
            },
            "colorscale": [
             [
              0,
              "#0d0887"
             ],
             [
              0.1111111111111111,
              "#46039f"
             ],
             [
              0.2222222222222222,
              "#7201a8"
             ],
             [
              0.3333333333333333,
              "#9c179e"
             ],
             [
              0.4444444444444444,
              "#bd3786"
             ],
             [
              0.5555555555555556,
              "#d8576b"
             ],
             [
              0.6666666666666666,
              "#ed7953"
             ],
             [
              0.7777777777777778,
              "#fb9f3a"
             ],
             [
              0.8888888888888888,
              "#fdca26"
             ],
             [
              1,
              "#f0f921"
             ]
            ],
            "type": "heatmap"
           }
          ],
          "heatmapgl": [
           {
            "colorbar": {
             "outlinewidth": 0,
             "ticks": ""
            },
            "colorscale": [
             [
              0,
              "#0d0887"
             ],
             [
              0.1111111111111111,
              "#46039f"
             ],
             [
              0.2222222222222222,
              "#7201a8"
             ],
             [
              0.3333333333333333,
              "#9c179e"
             ],
             [
              0.4444444444444444,
              "#bd3786"
             ],
             [
              0.5555555555555556,
              "#d8576b"
             ],
             [
              0.6666666666666666,
              "#ed7953"
             ],
             [
              0.7777777777777778,
              "#fb9f3a"
             ],
             [
              0.8888888888888888,
              "#fdca26"
             ],
             [
              1,
              "#f0f921"
             ]
            ],
            "type": "heatmapgl"
           }
          ],
          "histogram": [
           {
            "marker": {
             "colorbar": {
              "outlinewidth": 0,
              "ticks": ""
             }
            },
            "type": "histogram"
           }
          ],
          "histogram2d": [
           {
            "colorbar": {
             "outlinewidth": 0,
             "ticks": ""
            },
            "colorscale": [
             [
              0,
              "#0d0887"
             ],
             [
              0.1111111111111111,
              "#46039f"
             ],
             [
              0.2222222222222222,
              "#7201a8"
             ],
             [
              0.3333333333333333,
              "#9c179e"
             ],
             [
              0.4444444444444444,
              "#bd3786"
             ],
             [
              0.5555555555555556,
              "#d8576b"
             ],
             [
              0.6666666666666666,
              "#ed7953"
             ],
             [
              0.7777777777777778,
              "#fb9f3a"
             ],
             [
              0.8888888888888888,
              "#fdca26"
             ],
             [
              1,
              "#f0f921"
             ]
            ],
            "type": "histogram2d"
           }
          ],
          "histogram2dcontour": [
           {
            "colorbar": {
             "outlinewidth": 0,
             "ticks": ""
            },
            "colorscale": [
             [
              0,
              "#0d0887"
             ],
             [
              0.1111111111111111,
              "#46039f"
             ],
             [
              0.2222222222222222,
              "#7201a8"
             ],
             [
              0.3333333333333333,
              "#9c179e"
             ],
             [
              0.4444444444444444,
              "#bd3786"
             ],
             [
              0.5555555555555556,
              "#d8576b"
             ],
             [
              0.6666666666666666,
              "#ed7953"
             ],
             [
              0.7777777777777778,
              "#fb9f3a"
             ],
             [
              0.8888888888888888,
              "#fdca26"
             ],
             [
              1,
              "#f0f921"
             ]
            ],
            "type": "histogram2dcontour"
           }
          ],
          "mesh3d": [
           {
            "colorbar": {
             "outlinewidth": 0,
             "ticks": ""
            },
            "type": "mesh3d"
           }
          ],
          "parcoords": [
           {
            "line": {
             "colorbar": {
              "outlinewidth": 0,
              "ticks": ""
             }
            },
            "type": "parcoords"
           }
          ],
          "pie": [
           {
            "automargin": true,
            "type": "pie"
           }
          ],
          "scatter": [
           {
            "marker": {
             "colorbar": {
              "outlinewidth": 0,
              "ticks": ""
             }
            },
            "type": "scatter"
           }
          ],
          "scatter3d": [
           {
            "line": {
             "colorbar": {
              "outlinewidth": 0,
              "ticks": ""
             }
            },
            "marker": {
             "colorbar": {
              "outlinewidth": 0,
              "ticks": ""
             }
            },
            "type": "scatter3d"
           }
          ],
          "scattercarpet": [
           {
            "marker": {
             "colorbar": {
              "outlinewidth": 0,
              "ticks": ""
             }
            },
            "type": "scattercarpet"
           }
          ],
          "scattergeo": [
           {
            "marker": {
             "colorbar": {
              "outlinewidth": 0,
              "ticks": ""
             }
            },
            "type": "scattergeo"
           }
          ],
          "scattergl": [
           {
            "marker": {
             "colorbar": {
              "outlinewidth": 0,
              "ticks": ""
             }
            },
            "type": "scattergl"
           }
          ],
          "scattermapbox": [
           {
            "marker": {
             "colorbar": {
              "outlinewidth": 0,
              "ticks": ""
             }
            },
            "type": "scattermapbox"
           }
          ],
          "scatterpolar": [
           {
            "marker": {
             "colorbar": {
              "outlinewidth": 0,
              "ticks": ""
             }
            },
            "type": "scatterpolar"
           }
          ],
          "scatterpolargl": [
           {
            "marker": {
             "colorbar": {
              "outlinewidth": 0,
              "ticks": ""
             }
            },
            "type": "scatterpolargl"
           }
          ],
          "scatterternary": [
           {
            "marker": {
             "colorbar": {
              "outlinewidth": 0,
              "ticks": ""
             }
            },
            "type": "scatterternary"
           }
          ],
          "surface": [
           {
            "colorbar": {
             "outlinewidth": 0,
             "ticks": ""
            },
            "colorscale": [
             [
              0,
              "#0d0887"
             ],
             [
              0.1111111111111111,
              "#46039f"
             ],
             [
              0.2222222222222222,
              "#7201a8"
             ],
             [
              0.3333333333333333,
              "#9c179e"
             ],
             [
              0.4444444444444444,
              "#bd3786"
             ],
             [
              0.5555555555555556,
              "#d8576b"
             ],
             [
              0.6666666666666666,
              "#ed7953"
             ],
             [
              0.7777777777777778,
              "#fb9f3a"
             ],
             [
              0.8888888888888888,
              "#fdca26"
             ],
             [
              1,
              "#f0f921"
             ]
            ],
            "type": "surface"
           }
          ],
          "table": [
           {
            "cells": {
             "fill": {
              "color": "#EBF0F8"
             },
             "line": {
              "color": "white"
             }
            },
            "header": {
             "fill": {
              "color": "#C8D4E3"
             },
             "line": {
              "color": "white"
             }
            },
            "type": "table"
           }
          ]
         },
         "layout": {
          "annotationdefaults": {
           "arrowcolor": "#2a3f5f",
           "arrowhead": 0,
           "arrowwidth": 1
          },
          "coloraxis": {
           "colorbar": {
            "outlinewidth": 0,
            "ticks": ""
           }
          },
          "colorscale": {
           "diverging": [
            [
             0,
             "#8e0152"
            ],
            [
             0.1,
             "#c51b7d"
            ],
            [
             0.2,
             "#de77ae"
            ],
            [
             0.3,
             "#f1b6da"
            ],
            [
             0.4,
             "#fde0ef"
            ],
            [
             0.5,
             "#f7f7f7"
            ],
            [
             0.6,
             "#e6f5d0"
            ],
            [
             0.7,
             "#b8e186"
            ],
            [
             0.8,
             "#7fbc41"
            ],
            [
             0.9,
             "#4d9221"
            ],
            [
             1,
             "#276419"
            ]
           ],
           "sequential": [
            [
             0,
             "#0d0887"
            ],
            [
             0.1111111111111111,
             "#46039f"
            ],
            [
             0.2222222222222222,
             "#7201a8"
            ],
            [
             0.3333333333333333,
             "#9c179e"
            ],
            [
             0.4444444444444444,
             "#bd3786"
            ],
            [
             0.5555555555555556,
             "#d8576b"
            ],
            [
             0.6666666666666666,
             "#ed7953"
            ],
            [
             0.7777777777777778,
             "#fb9f3a"
            ],
            [
             0.8888888888888888,
             "#fdca26"
            ],
            [
             1,
             "#f0f921"
            ]
           ],
           "sequentialminus": [
            [
             0,
             "#0d0887"
            ],
            [
             0.1111111111111111,
             "#46039f"
            ],
            [
             0.2222222222222222,
             "#7201a8"
            ],
            [
             0.3333333333333333,
             "#9c179e"
            ],
            [
             0.4444444444444444,
             "#bd3786"
            ],
            [
             0.5555555555555556,
             "#d8576b"
            ],
            [
             0.6666666666666666,
             "#ed7953"
            ],
            [
             0.7777777777777778,
             "#fb9f3a"
            ],
            [
             0.8888888888888888,
             "#fdca26"
            ],
            [
             1,
             "#f0f921"
            ]
           ]
          },
          "colorway": [
           "#636efa",
           "#EF553B",
           "#00cc96",
           "#ab63fa",
           "#FFA15A",
           "#19d3f3",
           "#FF6692",
           "#B6E880",
           "#FF97FF",
           "#FECB52"
          ],
          "font": {
           "color": "#2a3f5f"
          },
          "geo": {
           "bgcolor": "white",
           "lakecolor": "white",
           "landcolor": "#E5ECF6",
           "showlakes": true,
           "showland": true,
           "subunitcolor": "white"
          },
          "hoverlabel": {
           "align": "left"
          },
          "hovermode": "closest",
          "mapbox": {
           "style": "light"
          },
          "paper_bgcolor": "white",
          "plot_bgcolor": "#E5ECF6",
          "polar": {
           "angularaxis": {
            "gridcolor": "white",
            "linecolor": "white",
            "ticks": ""
           },
           "bgcolor": "#E5ECF6",
           "radialaxis": {
            "gridcolor": "white",
            "linecolor": "white",
            "ticks": ""
           }
          },
          "scene": {
           "xaxis": {
            "backgroundcolor": "#E5ECF6",
            "gridcolor": "white",
            "gridwidth": 2,
            "linecolor": "white",
            "showbackground": true,
            "ticks": "",
            "zerolinecolor": "white"
           },
           "yaxis": {
            "backgroundcolor": "#E5ECF6",
            "gridcolor": "white",
            "gridwidth": 2,
            "linecolor": "white",
            "showbackground": true,
            "ticks": "",
            "zerolinecolor": "white"
           },
           "zaxis": {
            "backgroundcolor": "#E5ECF6",
            "gridcolor": "white",
            "gridwidth": 2,
            "linecolor": "white",
            "showbackground": true,
            "ticks": "",
            "zerolinecolor": "white"
           }
          },
          "shapedefaults": {
           "line": {
            "color": "#2a3f5f"
           }
          },
          "ternary": {
           "aaxis": {
            "gridcolor": "white",
            "linecolor": "white",
            "ticks": ""
           },
           "baxis": {
            "gridcolor": "white",
            "linecolor": "white",
            "ticks": ""
           },
           "bgcolor": "#E5ECF6",
           "caxis": {
            "gridcolor": "white",
            "linecolor": "white",
            "ticks": ""
           }
          },
          "title": {
           "x": 0.05
          },
          "xaxis": {
           "automargin": true,
           "gridcolor": "white",
           "linecolor": "white",
           "ticks": "",
           "title": {
            "standoff": 15
           },
           "zerolinecolor": "white",
           "zerolinewidth": 2
          },
          "yaxis": {
           "automargin": true,
           "gridcolor": "white",
           "linecolor": "white",
           "ticks": "",
           "title": {
            "standoff": 15
           },
           "zerolinecolor": "white",
           "zerolinewidth": 2
          }
         }
        },
        "title": {
         "font": {
          "color": "#4D5663"
         }
        },
        "xaxis": {
         "gridcolor": "#E1E5ED",
         "showgrid": true,
         "tickfont": {
          "color": "#4D5663"
         },
         "title": {
          "font": {
           "color": "#4D5663"
          },
          "text": ""
         },
         "zerolinecolor": "#E1E5ED"
        },
        "yaxis": {
         "gridcolor": "#E1E5ED",
         "showgrid": true,
         "tickfont": {
          "color": "#4D5663"
         },
         "title": {
          "font": {
           "color": "#4D5663"
          },
          "text": ""
         },
         "zerolinecolor": "#E1E5ED"
        }
       }
      },
      "text/html": [
       "<div>\n",
       "        \n",
       "        \n",
       "            <div id=\"10083818-cbf5-46be-a3f5-c1aeaaddf80c\" class=\"plotly-graph-div\" style=\"height:525px; width:100%;\"></div>\n",
       "            <script type=\"text/javascript\">\n",
       "                require([\"plotly\"], function(Plotly) {\n",
       "                    window.PLOTLYENV=window.PLOTLYENV || {};\n",
       "                    window.PLOTLYENV.BASE_URL='https://plot.ly';\n",
       "                    \n",
       "                if (document.getElementById(\"10083818-cbf5-46be-a3f5-c1aeaaddf80c\")) {\n",
       "                    Plotly.newPlot(\n",
       "                        '10083818-cbf5-46be-a3f5-c1aeaaddf80c',\n",
       "                        [{\"marker\": {\"color\": [\"rgb(255, 153, 51)\", \"rgb(55, 128, 191)\", \"rgb(50, 171, 96)\", \"rgb(128, 0, 128)\", \"rgb(219, 64, 82)\", \"rgb(0, 128, 128)\", \"rgb(255, 255, 51)\", \"rgb(128, 128, 0)\", \"rgb(251, 128, 114)\", \"rgb(128, 177, 211)\"], \"line\": {\"width\": 1.3}, \"size\": [54, 50, 64, 57, 23, 49, 100, 50, 66, 79, 68, 74, 35, 69, 58, 67, 78, 47, 51, 60, 59, 87, 54, 70, 53, 55, 33, 80, 51, 65, 70, 51, 96, 57, 61, 91, 87, 63, 49, 68, 104, 47, 50, 91, 61, 65, 72, 96, 52, 58, 49, 65, 64, 69, 55, 45, 42, 74, 66, 60, 111, 79, 81, 79, 55, 40, 72, 44, 40, 60, 29, 90, 61, 37, 61, 51, 80, 74, 68, 111, 75, 86, 12, 63, 58, 63, 29, 71, 56, 98, 74, 47, 68, 88, 50, 72, 44, 89, 76, 107], \"symbol\": \"circle\"}, \"mode\": \"markers\", \"text\": \"\", \"type\": \"scatter\", \"x\": [-1.316509150580487, 0.6567439213089783, -1.2117246351490527, -0.7795197648889394, -1.3086898864866376, 1.1530168155654092, 0.13998590336540567, -0.11056327817001697, 1.7537011117105172, 0.8810323955893713, 0.10541010497618351, 1.011575063785946, 2.1228749009656473, -0.3075112722036564, 1.038681885646689, -0.6319853146199059, 2.2189715728894632, -1.4770145042427665, -0.153470368878263, -0.18727900695016553, 1.9078574381220432, 1.0499974193565844, 0.46542902797864877, -0.6260746672943875, -0.03689923737424436, -1.0944391791639074, 1.2481303879716057, 0.09959660652843288, 0.057031069351861356, -1.4176608242708042, 0.27913325253238075, 0.8782737897274759, -3.3361675913751814, -0.3611118893203861, 0.9042067738977311, 1.0392994720741469, 0.3020476385379728, -1.10241740023384, 0.6679332094321817, 0.2603822989676794, 0.45894985553075557, -0.011014647071094298, -1.2018062699942935, -1.288958573508946, -0.6602935547316192, 0.559523528635203, 0.9105335102135964, 0.9007433046119707, -0.8788546818988332, 1.2187402667118685, -0.3162671648927026, 0.9555369947525019, 0.8331485196348947, 0.5643353781041094, 0.9456632663673213, -0.16924653010990728, -2.8385553526488563, 0.4385338754031157, 2.050375616692176, -0.5957780568198906, -0.6391337028422326, 0.04999693554916875, -0.9905604339917498, 0.7126128257249994, 1.623879844150366, 0.7439398470037102, -1.4338603239722083, 0.4223377380195463, 0.7047789877639619, 1.2997906440556526, 1.1377795006181677, -0.37982037981568656, -0.8183289865038762, 2.1150365234629778, -1.6315774177580455, 1.557670994327429, 0.27435834635581113, -0.2020660134299496, 0.6622294003232192, -0.7507187976400996, 1.6841078411643216, 0.15725059523555834, 0.20403175525934233, -0.10228075446346539, -0.45075758084417217, 0.23398092630605663, 0.7020994443457834, -1.372013643107886, -0.830234550415995, 1.0471754048685615, 0.2791516597674779, 0.8073438839758672, -1.1840786596386352, -1.2438633167946165, 0.6711553346045185, -1.05947273041682, -0.21268450772722713, -0.7716616231268543, -0.6618813607239717, -0.7691251660875101], \"y\": [0.5322209261277865, -0.3400805111723466, 1.1360868917232188, -0.382712079815374, -0.0882949780014785, -0.0035050460034809156, 1.2200036262631462, 0.20708725596394534, 0.24518777378961107, -0.9614960463159214, -0.18007055388579998, 1.693862038729409, 0.6880732306303996, -1.2237783345460118, 1.5778919118755526, -0.9399074605700591, 0.6502179718500561, 0.13984189631979266, 0.3902474711235353, 0.79574378145543, -0.3187089447730361, 1.7756327287360203, 0.11176970117547803, 1.1026687785809492, 1.2655186137877001, 2.631604659518769, 0.38632232634692665, 0.3918662734991667, -0.10269538819221184, 2.1050347354372656, -0.14728435081334065, 1.5928813916980802, -0.5640139867574012, -0.7625416520561131, 0.6299238973321293, 1.5259003230423187, 0.4556062123964385, -0.2699051707997322, 1.023416758001027, 0.8544257864781147, -0.2113121282276364, -0.9889838291299777, 0.6101685589425011, 0.01886452624200072, -0.9135960987704975, -0.01725436138227997, -0.7802532086851106, -0.37672890325294733, -2.152350636544527, -1.1683993670480606, 1.263532324992662, 0.312038748908657, 0.7780507500386404, 0.041471470158138804, -0.6020767411671846, 0.6249868830012129, 0.5405277670128545, -1.1176579751594906, -1.433072594514869, 1.8835573786822821, 1.2676267128436596, 0.18179383715069097, -0.6708996716626628, -0.8696775484368037, 0.1348973926892778, 0.12074046939337874, -0.4243922156902889, 0.346367856345538, 1.0526808565699703, -0.9373139607993218, -0.4420468917330237, 0.585751073752487, -0.22025857587135528, 0.48580639571538037, 1.1910452374445943, -0.8409995659483239, 1.2713211278296752, 0.6122183465394152, -0.3626153112574866, -0.9046816910222284, 1.492899576359809, -0.19437622093277626, -0.17496285589028385, 1.1661687648674532, -0.702440894291958, -0.9991504450455196, 1.015268304294555, -0.41527919626977905, 1.286684649424407, 1.0739953772854123, -0.5703063513870817, 1.039240915811815, 0.8877143919613583, 0.864296717575613, -0.26344490511936275, 0.2117153057332679, -1.5890334789342004, 1.1071474916095139, 0.04231235469678529, -0.5264821907576022]}],\n",
       "                        {\"legend\": {\"bgcolor\": \"#F5F6F9\", \"font\": {\"color\": \"#4D5663\"}}, \"paper_bgcolor\": \"#F5F6F9\", \"plot_bgcolor\": \"#F5F6F9\", \"template\": {\"data\": {\"bar\": [{\"error_x\": {\"color\": \"#2a3f5f\"}, \"error_y\": {\"color\": \"#2a3f5f\"}, \"marker\": {\"line\": {\"color\": \"#E5ECF6\", \"width\": 0.5}}, \"type\": \"bar\"}], \"barpolar\": [{\"marker\": {\"line\": {\"color\": \"#E5ECF6\", \"width\": 0.5}}, \"type\": \"barpolar\"}], \"carpet\": [{\"aaxis\": {\"endlinecolor\": \"#2a3f5f\", \"gridcolor\": \"white\", \"linecolor\": \"white\", \"minorgridcolor\": \"white\", \"startlinecolor\": \"#2a3f5f\"}, \"baxis\": {\"endlinecolor\": \"#2a3f5f\", \"gridcolor\": \"white\", \"linecolor\": \"white\", \"minorgridcolor\": \"white\", \"startlinecolor\": \"#2a3f5f\"}, \"type\": \"carpet\"}], \"choropleth\": [{\"colorbar\": {\"outlinewidth\": 0, \"ticks\": \"\"}, \"type\": \"choropleth\"}], \"contour\": [{\"colorbar\": {\"outlinewidth\": 0, \"ticks\": \"\"}, \"colorscale\": [[0.0, \"#0d0887\"], [0.1111111111111111, \"#46039f\"], [0.2222222222222222, \"#7201a8\"], [0.3333333333333333, \"#9c179e\"], [0.4444444444444444, \"#bd3786\"], [0.5555555555555556, \"#d8576b\"], [0.6666666666666666, \"#ed7953\"], [0.7777777777777778, \"#fb9f3a\"], [0.8888888888888888, \"#fdca26\"], [1.0, \"#f0f921\"]], \"type\": \"contour\"}], \"contourcarpet\": [{\"colorbar\": {\"outlinewidth\": 0, \"ticks\": \"\"}, \"type\": \"contourcarpet\"}], \"heatmap\": [{\"colorbar\": {\"outlinewidth\": 0, \"ticks\": \"\"}, \"colorscale\": [[0.0, \"#0d0887\"], [0.1111111111111111, \"#46039f\"], [0.2222222222222222, \"#7201a8\"], [0.3333333333333333, \"#9c179e\"], [0.4444444444444444, \"#bd3786\"], [0.5555555555555556, \"#d8576b\"], [0.6666666666666666, \"#ed7953\"], [0.7777777777777778, \"#fb9f3a\"], [0.8888888888888888, \"#fdca26\"], [1.0, \"#f0f921\"]], \"type\": \"heatmap\"}], \"heatmapgl\": [{\"colorbar\": {\"outlinewidth\": 0, \"ticks\": \"\"}, \"colorscale\": [[0.0, \"#0d0887\"], [0.1111111111111111, \"#46039f\"], [0.2222222222222222, \"#7201a8\"], [0.3333333333333333, \"#9c179e\"], [0.4444444444444444, \"#bd3786\"], [0.5555555555555556, \"#d8576b\"], [0.6666666666666666, \"#ed7953\"], [0.7777777777777778, \"#fb9f3a\"], [0.8888888888888888, \"#fdca26\"], [1.0, \"#f0f921\"]], \"type\": \"heatmapgl\"}], \"histogram\": [{\"marker\": {\"colorbar\": {\"outlinewidth\": 0, \"ticks\": \"\"}}, \"type\": \"histogram\"}], \"histogram2d\": [{\"colorbar\": {\"outlinewidth\": 0, \"ticks\": \"\"}, \"colorscale\": [[0.0, \"#0d0887\"], [0.1111111111111111, \"#46039f\"], [0.2222222222222222, \"#7201a8\"], [0.3333333333333333, \"#9c179e\"], [0.4444444444444444, \"#bd3786\"], [0.5555555555555556, \"#d8576b\"], [0.6666666666666666, \"#ed7953\"], [0.7777777777777778, \"#fb9f3a\"], [0.8888888888888888, \"#fdca26\"], [1.0, \"#f0f921\"]], \"type\": \"histogram2d\"}], \"histogram2dcontour\": [{\"colorbar\": {\"outlinewidth\": 0, \"ticks\": \"\"}, \"colorscale\": [[0.0, \"#0d0887\"], [0.1111111111111111, \"#46039f\"], [0.2222222222222222, \"#7201a8\"], [0.3333333333333333, \"#9c179e\"], [0.4444444444444444, \"#bd3786\"], [0.5555555555555556, \"#d8576b\"], [0.6666666666666666, \"#ed7953\"], [0.7777777777777778, \"#fb9f3a\"], [0.8888888888888888, \"#fdca26\"], [1.0, \"#f0f921\"]], \"type\": \"histogram2dcontour\"}], \"mesh3d\": [{\"colorbar\": {\"outlinewidth\": 0, \"ticks\": \"\"}, \"type\": \"mesh3d\"}], \"parcoords\": [{\"line\": {\"colorbar\": {\"outlinewidth\": 0, \"ticks\": \"\"}}, \"type\": \"parcoords\"}], \"pie\": [{\"automargin\": true, \"type\": \"pie\"}], \"scatter\": [{\"marker\": {\"colorbar\": {\"outlinewidth\": 0, \"ticks\": \"\"}}, \"type\": \"scatter\"}], \"scatter3d\": [{\"line\": {\"colorbar\": {\"outlinewidth\": 0, \"ticks\": \"\"}}, \"marker\": {\"colorbar\": {\"outlinewidth\": 0, \"ticks\": \"\"}}, \"type\": \"scatter3d\"}], \"scattercarpet\": [{\"marker\": {\"colorbar\": {\"outlinewidth\": 0, \"ticks\": \"\"}}, \"type\": \"scattercarpet\"}], \"scattergeo\": [{\"marker\": {\"colorbar\": {\"outlinewidth\": 0, \"ticks\": \"\"}}, \"type\": \"scattergeo\"}], \"scattergl\": [{\"marker\": {\"colorbar\": {\"outlinewidth\": 0, \"ticks\": \"\"}}, \"type\": \"scattergl\"}], \"scattermapbox\": [{\"marker\": {\"colorbar\": {\"outlinewidth\": 0, \"ticks\": \"\"}}, \"type\": \"scattermapbox\"}], \"scatterpolar\": [{\"marker\": {\"colorbar\": {\"outlinewidth\": 0, \"ticks\": \"\"}}, \"type\": \"scatterpolar\"}], \"scatterpolargl\": [{\"marker\": {\"colorbar\": {\"outlinewidth\": 0, \"ticks\": \"\"}}, \"type\": \"scatterpolargl\"}], \"scatterternary\": [{\"marker\": {\"colorbar\": {\"outlinewidth\": 0, \"ticks\": \"\"}}, \"type\": \"scatterternary\"}], \"surface\": [{\"colorbar\": {\"outlinewidth\": 0, \"ticks\": \"\"}, \"colorscale\": [[0.0, \"#0d0887\"], [0.1111111111111111, \"#46039f\"], [0.2222222222222222, \"#7201a8\"], [0.3333333333333333, \"#9c179e\"], [0.4444444444444444, \"#bd3786\"], [0.5555555555555556, \"#d8576b\"], [0.6666666666666666, \"#ed7953\"], [0.7777777777777778, \"#fb9f3a\"], [0.8888888888888888, \"#fdca26\"], [1.0, \"#f0f921\"]], \"type\": \"surface\"}], \"table\": [{\"cells\": {\"fill\": {\"color\": \"#EBF0F8\"}, \"line\": {\"color\": \"white\"}}, \"header\": {\"fill\": {\"color\": \"#C8D4E3\"}, \"line\": {\"color\": \"white\"}}, \"type\": \"table\"}]}, \"layout\": {\"annotationdefaults\": {\"arrowcolor\": \"#2a3f5f\", \"arrowhead\": 0, \"arrowwidth\": 1}, \"coloraxis\": {\"colorbar\": {\"outlinewidth\": 0, \"ticks\": \"\"}}, \"colorscale\": {\"diverging\": [[0, \"#8e0152\"], [0.1, \"#c51b7d\"], [0.2, \"#de77ae\"], [0.3, \"#f1b6da\"], [0.4, \"#fde0ef\"], [0.5, \"#f7f7f7\"], [0.6, \"#e6f5d0\"], [0.7, \"#b8e186\"], [0.8, \"#7fbc41\"], [0.9, \"#4d9221\"], [1, \"#276419\"]], \"sequential\": [[0.0, \"#0d0887\"], [0.1111111111111111, \"#46039f\"], [0.2222222222222222, \"#7201a8\"], [0.3333333333333333, \"#9c179e\"], [0.4444444444444444, \"#bd3786\"], [0.5555555555555556, \"#d8576b\"], [0.6666666666666666, \"#ed7953\"], [0.7777777777777778, \"#fb9f3a\"], [0.8888888888888888, \"#fdca26\"], [1.0, \"#f0f921\"]], \"sequentialminus\": [[0.0, \"#0d0887\"], [0.1111111111111111, \"#46039f\"], [0.2222222222222222, \"#7201a8\"], [0.3333333333333333, \"#9c179e\"], [0.4444444444444444, \"#bd3786\"], [0.5555555555555556, \"#d8576b\"], [0.6666666666666666, \"#ed7953\"], [0.7777777777777778, \"#fb9f3a\"], [0.8888888888888888, \"#fdca26\"], [1.0, \"#f0f921\"]]}, \"colorway\": [\"#636efa\", \"#EF553B\", \"#00cc96\", \"#ab63fa\", \"#FFA15A\", \"#19d3f3\", \"#FF6692\", \"#B6E880\", \"#FF97FF\", \"#FECB52\"], \"font\": {\"color\": \"#2a3f5f\"}, \"geo\": {\"bgcolor\": \"white\", \"lakecolor\": \"white\", \"landcolor\": \"#E5ECF6\", \"showlakes\": true, \"showland\": true, \"subunitcolor\": \"white\"}, \"hoverlabel\": {\"align\": \"left\"}, \"hovermode\": \"closest\", \"mapbox\": {\"style\": \"light\"}, \"paper_bgcolor\": \"white\", \"plot_bgcolor\": \"#E5ECF6\", \"polar\": {\"angularaxis\": {\"gridcolor\": \"white\", \"linecolor\": \"white\", \"ticks\": \"\"}, \"bgcolor\": \"#E5ECF6\", \"radialaxis\": {\"gridcolor\": \"white\", \"linecolor\": \"white\", \"ticks\": \"\"}}, \"scene\": {\"xaxis\": {\"backgroundcolor\": \"#E5ECF6\", \"gridcolor\": \"white\", \"gridwidth\": 2, \"linecolor\": \"white\", \"showbackground\": true, \"ticks\": \"\", \"zerolinecolor\": \"white\"}, \"yaxis\": {\"backgroundcolor\": \"#E5ECF6\", \"gridcolor\": \"white\", \"gridwidth\": 2, \"linecolor\": \"white\", \"showbackground\": true, \"ticks\": \"\", \"zerolinecolor\": \"white\"}, \"zaxis\": {\"backgroundcolor\": \"#E5ECF6\", \"gridcolor\": \"white\", \"gridwidth\": 2, \"linecolor\": \"white\", \"showbackground\": true, \"ticks\": \"\", \"zerolinecolor\": \"white\"}}, \"shapedefaults\": {\"line\": {\"color\": \"#2a3f5f\"}}, \"ternary\": {\"aaxis\": {\"gridcolor\": \"white\", \"linecolor\": \"white\", \"ticks\": \"\"}, \"baxis\": {\"gridcolor\": \"white\", \"linecolor\": \"white\", \"ticks\": \"\"}, \"bgcolor\": \"#E5ECF6\", \"caxis\": {\"gridcolor\": \"white\", \"linecolor\": \"white\", \"ticks\": \"\"}}, \"title\": {\"x\": 0.05}, \"xaxis\": {\"automargin\": true, \"gridcolor\": \"white\", \"linecolor\": \"white\", \"ticks\": \"\", \"title\": {\"standoff\": 15}, \"zerolinecolor\": \"white\", \"zerolinewidth\": 2}, \"yaxis\": {\"automargin\": true, \"gridcolor\": \"white\", \"linecolor\": \"white\", \"ticks\": \"\", \"title\": {\"standoff\": 15}, \"zerolinecolor\": \"white\", \"zerolinewidth\": 2}}}, \"title\": {\"font\": {\"color\": \"#4D5663\"}}, \"xaxis\": {\"gridcolor\": \"#E1E5ED\", \"showgrid\": true, \"tickfont\": {\"color\": \"#4D5663\"}, \"title\": {\"font\": {\"color\": \"#4D5663\"}, \"text\": \"\"}, \"zerolinecolor\": \"#E1E5ED\"}, \"yaxis\": {\"gridcolor\": \"#E1E5ED\", \"showgrid\": true, \"tickfont\": {\"color\": \"#4D5663\"}, \"title\": {\"font\": {\"color\": \"#4D5663\"}, \"text\": \"\"}, \"zerolinecolor\": \"#E1E5ED\"}},\n",
       "                        {\"showLink\": true, \"linkText\": \"Export to plot.ly\", \"plotlyServerURL\": \"https://plot.ly\", \"responsive\": true}\n",
       "                    ).then(function(){\n",
       "                            \n",
       "var gd = document.getElementById('10083818-cbf5-46be-a3f5-c1aeaaddf80c');\n",
       "var x = new MutationObserver(function (mutations, observer) {{\n",
       "        var display = window.getComputedStyle(gd).display;\n",
       "        if (!display || display === 'none') {{\n",
       "            console.log([gd, 'removed!']);\n",
       "            Plotly.purge(gd);\n",
       "            observer.disconnect();\n",
       "        }}\n",
       "}});\n",
       "\n",
       "// Listen for the removal of the full notebook cells\n",
       "var notebookContainer = gd.closest('#notebook-container');\n",
       "if (notebookContainer) {{\n",
       "    x.observe(notebookContainer, {childList: true});\n",
       "}}\n",
       "\n",
       "// Listen for the clearing of the current output cell\n",
       "var outputEl = gd.closest('.output');\n",
       "if (outputEl) {{\n",
       "    x.observe(outputEl, {childList: true});\n",
       "}}\n",
       "\n",
       "                        })\n",
       "                };\n",
       "                });\n",
       "            </script>\n",
       "        </div>"
      ]
     },
     "metadata": {},
     "output_type": "display_data"
    }
   ],
   "source": [
    "df.iplot(kind='bubble',x='A',y='B',size='C')"
   ]
  },
  {
   "cell_type": "markdown",
   "metadata": {},
   "source": [
    "## scatter_matrix()\n",
    "\n",
    "Similar to sns.pairplot()"
   ]
  },
  {
   "cell_type": "code",
   "execution_count": 19,
   "metadata": {},
   "outputs": [
    {
     "data": {
      "application/vnd.plotly.v1+json": {
       "config": {
        "linkText": "Export to plot.ly",
        "plotlyServerURL": "https://plot.ly",
        "showLink": true
       },
       "data": [
        {
         "histfunc": "count",
         "histnorm": "",
         "marker": {
          "color": "rgba(255, 153, 51, 1.0)",
          "line": {
           "color": "#4D5663",
           "width": 1.3
          }
         },
         "name": "A",
         "nbinsx": 10,
         "opacity": 0.8,
         "orientation": "v",
         "type": "histogram",
         "x": [
          -1.316509150580487,
          0.6567439213089783,
          -1.2117246351490527,
          -0.7795197648889394,
          -1.3086898864866376,
          1.1530168155654092,
          0.13998590336540567,
          -0.11056327817001697,
          1.7537011117105172,
          0.8810323955893713,
          0.10541010497618351,
          1.011575063785946,
          2.1228749009656473,
          -0.3075112722036564,
          1.038681885646689,
          -0.6319853146199059,
          2.2189715728894632,
          -1.4770145042427665,
          -0.153470368878263,
          -0.18727900695016553,
          1.9078574381220432,
          1.0499974193565844,
          0.46542902797864877,
          -0.6260746672943875,
          -0.03689923737424436,
          -1.0944391791639074,
          1.2481303879716057,
          0.09959660652843288,
          0.057031069351861356,
          -1.4176608242708042,
          0.27913325253238075,
          0.8782737897274759,
          -3.3361675913751814,
          -0.3611118893203861,
          0.9042067738977311,
          1.0392994720741469,
          0.3020476385379728,
          -1.10241740023384,
          0.6679332094321817,
          0.2603822989676794,
          0.45894985553075557,
          -0.011014647071094298,
          -1.2018062699942935,
          -1.288958573508946,
          -0.6602935547316192,
          0.559523528635203,
          0.9105335102135964,
          0.9007433046119707,
          -0.8788546818988332,
          1.2187402667118685,
          -0.3162671648927026,
          0.9555369947525019,
          0.8331485196348947,
          0.5643353781041094,
          0.9456632663673213,
          -0.16924653010990728,
          -2.8385553526488563,
          0.4385338754031157,
          2.050375616692176,
          -0.5957780568198906,
          -0.6391337028422326,
          0.04999693554916875,
          -0.9905604339917498,
          0.7126128257249994,
          1.623879844150366,
          0.7439398470037102,
          -1.4338603239722083,
          0.4223377380195463,
          0.7047789877639619,
          1.2997906440556526,
          1.1377795006181677,
          -0.37982037981568656,
          -0.8183289865038762,
          2.1150365234629778,
          -1.6315774177580455,
          1.557670994327429,
          0.27435834635581113,
          -0.2020660134299496,
          0.6622294003232192,
          -0.7507187976400996,
          1.6841078411643216,
          0.15725059523555834,
          0.20403175525934233,
          -0.10228075446346539,
          -0.45075758084417217,
          0.23398092630605663,
          0.7020994443457834,
          -1.372013643107886,
          -0.830234550415995,
          1.0471754048685615,
          0.2791516597674779,
          0.8073438839758672,
          -1.1840786596386352,
          -1.2438633167946165,
          0.6711553346045185,
          -1.05947273041682,
          -0.21268450772722713,
          -0.7716616231268543,
          -0.6618813607239717,
          -0.7691251660875101
         ],
         "xaxis": "x",
         "yaxis": "y"
        },
        {
         "line": {
          "color": "rgba(128, 128, 128, 1.0)",
          "dash": "solid",
          "shape": "linear",
          "width": 1.3
         },
         "marker": {
          "size": 2,
          "symbol": "circle"
         },
         "mode": "markers",
         "name": "A",
         "text": "",
         "type": "scatter",
         "x": [
          0.5322209261277865,
          -0.3400805111723466,
          1.1360868917232188,
          -0.382712079815374,
          -0.0882949780014785,
          -0.0035050460034809156,
          1.2200036262631462,
          0.20708725596394534,
          0.24518777378961107,
          -0.9614960463159214,
          -0.18007055388579998,
          1.693862038729409,
          0.6880732306303996,
          -1.2237783345460118,
          1.5778919118755526,
          -0.9399074605700591,
          0.6502179718500561,
          0.13984189631979266,
          0.3902474711235353,
          0.79574378145543,
          -0.3187089447730361,
          1.7756327287360203,
          0.11176970117547803,
          1.1026687785809492,
          1.2655186137877001,
          2.631604659518769,
          0.38632232634692665,
          0.3918662734991667,
          -0.10269538819221184,
          2.1050347354372656,
          -0.14728435081334065,
          1.5928813916980802,
          -0.5640139867574012,
          -0.7625416520561131,
          0.6299238973321293,
          1.5259003230423187,
          0.4556062123964385,
          -0.2699051707997322,
          1.023416758001027,
          0.8544257864781147,
          -0.2113121282276364,
          -0.9889838291299777,
          0.6101685589425011,
          0.01886452624200072,
          -0.9135960987704975,
          -0.01725436138227997,
          -0.7802532086851106,
          -0.37672890325294733,
          -2.152350636544527,
          -1.1683993670480606,
          1.263532324992662,
          0.312038748908657,
          0.7780507500386404,
          0.041471470158138804,
          -0.6020767411671846,
          0.6249868830012129,
          0.5405277670128545,
          -1.1176579751594906,
          -1.433072594514869,
          1.8835573786822821,
          1.2676267128436596,
          0.18179383715069097,
          -0.6708996716626628,
          -0.8696775484368037,
          0.1348973926892778,
          0.12074046939337874,
          -0.4243922156902889,
          0.346367856345538,
          1.0526808565699703,
          -0.9373139607993218,
          -0.4420468917330237,
          0.585751073752487,
          -0.22025857587135528,
          0.48580639571538037,
          1.1910452374445943,
          -0.8409995659483239,
          1.2713211278296752,
          0.6122183465394152,
          -0.3626153112574866,
          -0.9046816910222284,
          1.492899576359809,
          -0.19437622093277626,
          -0.17496285589028385,
          1.1661687648674532,
          -0.702440894291958,
          -0.9991504450455196,
          1.015268304294555,
          -0.41527919626977905,
          1.286684649424407,
          1.0739953772854123,
          -0.5703063513870817,
          1.039240915811815,
          0.8877143919613583,
          0.864296717575613,
          -0.26344490511936275,
          0.2117153057332679,
          -1.5890334789342004,
          1.1071474916095139,
          0.04231235469678529,
          -0.5264821907576022
         ],
         "xaxis": "x2",
         "y": [
          -1.316509150580487,
          0.6567439213089783,
          -1.2117246351490527,
          -0.7795197648889394,
          -1.3086898864866376,
          1.1530168155654092,
          0.13998590336540567,
          -0.11056327817001697,
          1.7537011117105172,
          0.8810323955893713,
          0.10541010497618351,
          1.011575063785946,
          2.1228749009656473,
          -0.3075112722036564,
          1.038681885646689,
          -0.6319853146199059,
          2.2189715728894632,
          -1.4770145042427665,
          -0.153470368878263,
          -0.18727900695016553,
          1.9078574381220432,
          1.0499974193565844,
          0.46542902797864877,
          -0.6260746672943875,
          -0.03689923737424436,
          -1.0944391791639074,
          1.2481303879716057,
          0.09959660652843288,
          0.057031069351861356,
          -1.4176608242708042,
          0.27913325253238075,
          0.8782737897274759,
          -3.3361675913751814,
          -0.3611118893203861,
          0.9042067738977311,
          1.0392994720741469,
          0.3020476385379728,
          -1.10241740023384,
          0.6679332094321817,
          0.2603822989676794,
          0.45894985553075557,
          -0.011014647071094298,
          -1.2018062699942935,
          -1.288958573508946,
          -0.6602935547316192,
          0.559523528635203,
          0.9105335102135964,
          0.9007433046119707,
          -0.8788546818988332,
          1.2187402667118685,
          -0.3162671648927026,
          0.9555369947525019,
          0.8331485196348947,
          0.5643353781041094,
          0.9456632663673213,
          -0.16924653010990728,
          -2.8385553526488563,
          0.4385338754031157,
          2.050375616692176,
          -0.5957780568198906,
          -0.6391337028422326,
          0.04999693554916875,
          -0.9905604339917498,
          0.7126128257249994,
          1.623879844150366,
          0.7439398470037102,
          -1.4338603239722083,
          0.4223377380195463,
          0.7047789877639619,
          1.2997906440556526,
          1.1377795006181677,
          -0.37982037981568656,
          -0.8183289865038762,
          2.1150365234629778,
          -1.6315774177580455,
          1.557670994327429,
          0.27435834635581113,
          -0.2020660134299496,
          0.6622294003232192,
          -0.7507187976400996,
          1.6841078411643216,
          0.15725059523555834,
          0.20403175525934233,
          -0.10228075446346539,
          -0.45075758084417217,
          0.23398092630605663,
          0.7020994443457834,
          -1.372013643107886,
          -0.830234550415995,
          1.0471754048685615,
          0.2791516597674779,
          0.8073438839758672,
          -1.1840786596386352,
          -1.2438633167946165,
          0.6711553346045185,
          -1.05947273041682,
          -0.21268450772722713,
          -0.7716616231268543,
          -0.6618813607239717,
          -0.7691251660875101
         ],
         "yaxis": "y2"
        },
        {
         "line": {
          "color": "rgba(128, 128, 128, 1.0)",
          "dash": "solid",
          "shape": "linear",
          "width": 1.3
         },
         "marker": {
          "size": 2,
          "symbol": "circle"
         },
         "mode": "markers",
         "name": "A",
         "text": "",
         "type": "scatter",
         "x": [
          -0.4426627042361103,
          -0.6399050472784629,
          0.07358865068267394,
          -0.3091615362420584,
          -2.1105700846068247,
          -0.6987203494266411,
          1.9987205565156225,
          -0.6497007420309667,
          0.20538307212912799,
          0.8983335644172407,
          0.26287310136750575,
          0.6107851851136252,
          -1.4363662311890355,
          0.36206337951561535,
          -0.2298673448032176,
          0.2265768162296731,
          0.8249414689110565,
          -0.8416150285488005,
          -0.6309024477119458,
          -0.12020366953750442,
          -0.2008317397881813,
          1.3158989235166834,
          -0.47561387029975616,
          0.3692948659360093,
          -0.5097988799863549,
          -0.38238868688924915,
          -1.5443771107613438,
          0.9322307087276408,
          -0.6038157686699996,
          0.10854617372161343,
          0.4078863543497139,
          -0.5974480890593209,
          1.7927302989916816,
          -0.27167329817764774,
          -0.10515729655119894,
          1.5046224508092376,
          1.2765081652015136,
          0.018901514535407556,
          -0.6981007178938509,
          0.2996256016902793,
          2.182783994787281,
          -0.8517021573495922,
          -0.6851326623649174,
          1.503361473348288,
          -0.10553912688797204,
          0.14975795420926277,
          0.49007051098713633,
          1.7947033295356172,
          -0.5715585020270864,
          -0.2381385005439792,
          -0.6997641418699387,
          0.11917893539522223,
          0.06952016281575028,
          0.3275008663147888,
          -0.4215140848008329,
          -0.9496352371350686,
          -1.0980805451800228,
          0.6125067193912569,
          0.1864624725803467,
          -0.15136469674670028,
          2.5960378688935712,
          0.8593240545880897,
          0.9587487407168636,
          0.8607656944499196,
          -0.3765156391993082,
          -1.2186616142210775,
          0.5178747433876127,
          -0.9975677063910462,
          -1.1910852286017317,
          -0.14787487928866896,
          -1.8047146319904626,
          1.4712403371794966,
          -0.06781497409294958,
          -1.34104990666472,
          -0.10306844664005434,
          -0.6344963461811047,
          0.9199220068790146,
          0.5874686040801018,
          0.27268255431433663,
          2.545739441802707,
          0.6586714984006848,
          1.224730402961586,
          -2.7085386943159473,
          0.01301733171174009,
          -0.2629659802082384,
          0.04500540665017078,
          -1.7927350814706264,
          0.44346558844281037,
          -0.36485627916302865,
          1.8799723626101896,
          0.6079096307392652,
          -0.810251652556461,
          0.28478379146553534,
          1.364369493564619,
          -0.6796767191131572,
          0.4878983532993825,
          -0.9801955125025105,
          1.3857556767911223,
          0.7150505765825546,
          2.380938657712917
         ],
         "xaxis": "x3",
         "y": [
          -1.316509150580487,
          0.6567439213089783,
          -1.2117246351490527,
          -0.7795197648889394,
          -1.3086898864866376,
          1.1530168155654092,
          0.13998590336540567,
          -0.11056327817001697,
          1.7537011117105172,
          0.8810323955893713,
          0.10541010497618351,
          1.011575063785946,
          2.1228749009656473,
          -0.3075112722036564,
          1.038681885646689,
          -0.6319853146199059,
          2.2189715728894632,
          -1.4770145042427665,
          -0.153470368878263,
          -0.18727900695016553,
          1.9078574381220432,
          1.0499974193565844,
          0.46542902797864877,
          -0.6260746672943875,
          -0.03689923737424436,
          -1.0944391791639074,
          1.2481303879716057,
          0.09959660652843288,
          0.057031069351861356,
          -1.4176608242708042,
          0.27913325253238075,
          0.8782737897274759,
          -3.3361675913751814,
          -0.3611118893203861,
          0.9042067738977311,
          1.0392994720741469,
          0.3020476385379728,
          -1.10241740023384,
          0.6679332094321817,
          0.2603822989676794,
          0.45894985553075557,
          -0.011014647071094298,
          -1.2018062699942935,
          -1.288958573508946,
          -0.6602935547316192,
          0.559523528635203,
          0.9105335102135964,
          0.9007433046119707,
          -0.8788546818988332,
          1.2187402667118685,
          -0.3162671648927026,
          0.9555369947525019,
          0.8331485196348947,
          0.5643353781041094,
          0.9456632663673213,
          -0.16924653010990728,
          -2.8385553526488563,
          0.4385338754031157,
          2.050375616692176,
          -0.5957780568198906,
          -0.6391337028422326,
          0.04999693554916875,
          -0.9905604339917498,
          0.7126128257249994,
          1.623879844150366,
          0.7439398470037102,
          -1.4338603239722083,
          0.4223377380195463,
          0.7047789877639619,
          1.2997906440556526,
          1.1377795006181677,
          -0.37982037981568656,
          -0.8183289865038762,
          2.1150365234629778,
          -1.6315774177580455,
          1.557670994327429,
          0.27435834635581113,
          -0.2020660134299496,
          0.6622294003232192,
          -0.7507187976400996,
          1.6841078411643216,
          0.15725059523555834,
          0.20403175525934233,
          -0.10228075446346539,
          -0.45075758084417217,
          0.23398092630605663,
          0.7020994443457834,
          -1.372013643107886,
          -0.830234550415995,
          1.0471754048685615,
          0.2791516597674779,
          0.8073438839758672,
          -1.1840786596386352,
          -1.2438633167946165,
          0.6711553346045185,
          -1.05947273041682,
          -0.21268450772722713,
          -0.7716616231268543,
          -0.6618813607239717,
          -0.7691251660875101
         ],
         "yaxis": "y3"
        },
        {
         "line": {
          "color": "rgba(128, 128, 128, 1.0)",
          "dash": "solid",
          "shape": "linear",
          "width": 1.3
         },
         "marker": {
          "size": 2,
          "symbol": "circle"
         },
         "mode": "markers",
         "name": "A",
         "text": "",
         "type": "scatter",
         "x": [
          -0.21411274271333836,
          0.3713237974686019,
          1.0182433694657855,
          -0.9809308780644594,
          0.11681415896180601,
          0.056113925932592144,
          1.038143121639036,
          -0.3092977150883147,
          -0.5433729141065714,
          -1.3196508208765234,
          -0.25708061763812173,
          0.0037782350897909234,
          -0.2662763824170066,
          0.0768552484861571,
          -0.9055776501046975,
          -1.0036356624024152,
          -2.97083366912784,
          0.6983562301131403,
          -0.21374284452706516,
          0.8684627325918218,
          -0.1861796533340893,
          0.8116072183269627,
          0.2479167382445622,
          -1.6149889045131847,
          1.1122405866650933,
          -0.035202215333426747,
          0.9464088148430557,
          -2.06551088435252,
          1.8003719420270903,
          1.3589645300664823,
          2.813029349767026,
          -1.0659002960154034,
          -1.144289714564388,
          -0.24400458589547835,
          0.07156212349079402,
          2.6239711417649914,
          0.7262306311124471,
          -2.0178252387141296,
          0.9910007039302287,
          -0.52634820628823,
          1.502801479836207,
          -2.5371826122745182,
          0.46687136410253677,
          0.3188656785987697,
          0.7699121598333447,
          0.15187763606796495,
          0.2793597819924499,
          1.3263442544398758,
          -0.7936811937701996,
          -0.15393616151120165,
          0.05520688739259033,
          -1.8565385606752336,
          -0.32172545332466196,
          0.5038075164847766,
          -1.9177966894565226,
          0.9632920973705353,
          1.3563311373052924,
          0.34447531381624724,
          -0.4413867171527908,
          -0.956840945349693,
          -0.3893814338755863,
          -1.1579619966744505,
          -0.8886867830976829,
          -1.5514639240822634,
          -1.2843476076274045,
          1.256439946960209,
          0.4571796955089669,
          -0.6352941465719506,
          -0.01840227830138182,
          0.012149583965205024,
          -0.7139596600384576,
          -2.2073603980461756,
          -0.3769142907166705,
          -1.1530851450231299,
          0.6545482159160557,
          -1.419920770287892,
          0.7929584155525694,
          0.9508711081337505,
          0.6127102026962786,
          0.05790749951701337,
          -0.4669327658980801,
          -0.06445765660094958,
          0.08303432679820061,
          0.7832095356792245,
          0.29008929899966,
          0.9489372515059938,
          -1.8221105051652147,
          0.25122468116482677,
          -0.688314804778081,
          1.090724486112609,
          -0.5553079114238013,
          0.782352967608839,
          0.21959952494655974,
          -0.7372885183735969,
          0.8495989359274342,
          0.9781385987871037,
          1.229655208571755,
          1.3868570877160415,
          0.8665666205235594,
          1.6780863864864783
         ],
         "xaxis": "x4",
         "y": [
          -1.316509150580487,
          0.6567439213089783,
          -1.2117246351490527,
          -0.7795197648889394,
          -1.3086898864866376,
          1.1530168155654092,
          0.13998590336540567,
          -0.11056327817001697,
          1.7537011117105172,
          0.8810323955893713,
          0.10541010497618351,
          1.011575063785946,
          2.1228749009656473,
          -0.3075112722036564,
          1.038681885646689,
          -0.6319853146199059,
          2.2189715728894632,
          -1.4770145042427665,
          -0.153470368878263,
          -0.18727900695016553,
          1.9078574381220432,
          1.0499974193565844,
          0.46542902797864877,
          -0.6260746672943875,
          -0.03689923737424436,
          -1.0944391791639074,
          1.2481303879716057,
          0.09959660652843288,
          0.057031069351861356,
          -1.4176608242708042,
          0.27913325253238075,
          0.8782737897274759,
          -3.3361675913751814,
          -0.3611118893203861,
          0.9042067738977311,
          1.0392994720741469,
          0.3020476385379728,
          -1.10241740023384,
          0.6679332094321817,
          0.2603822989676794,
          0.45894985553075557,
          -0.011014647071094298,
          -1.2018062699942935,
          -1.288958573508946,
          -0.6602935547316192,
          0.559523528635203,
          0.9105335102135964,
          0.9007433046119707,
          -0.8788546818988332,
          1.2187402667118685,
          -0.3162671648927026,
          0.9555369947525019,
          0.8331485196348947,
          0.5643353781041094,
          0.9456632663673213,
          -0.16924653010990728,
          -2.8385553526488563,
          0.4385338754031157,
          2.050375616692176,
          -0.5957780568198906,
          -0.6391337028422326,
          0.04999693554916875,
          -0.9905604339917498,
          0.7126128257249994,
          1.623879844150366,
          0.7439398470037102,
          -1.4338603239722083,
          0.4223377380195463,
          0.7047789877639619,
          1.2997906440556526,
          1.1377795006181677,
          -0.37982037981568656,
          -0.8183289865038762,
          2.1150365234629778,
          -1.6315774177580455,
          1.557670994327429,
          0.27435834635581113,
          -0.2020660134299496,
          0.6622294003232192,
          -0.7507187976400996,
          1.6841078411643216,
          0.15725059523555834,
          0.20403175525934233,
          -0.10228075446346539,
          -0.45075758084417217,
          0.23398092630605663,
          0.7020994443457834,
          -1.372013643107886,
          -0.830234550415995,
          1.0471754048685615,
          0.2791516597674779,
          0.8073438839758672,
          -1.1840786596386352,
          -1.2438633167946165,
          0.6711553346045185,
          -1.05947273041682,
          -0.21268450772722713,
          -0.7716616231268543,
          -0.6618813607239717,
          -0.7691251660875101
         ],
         "yaxis": "y4"
        },
        {
         "line": {
          "color": "rgba(128, 128, 128, 1.0)",
          "dash": "solid",
          "shape": "linear",
          "width": 1.3
         },
         "marker": {
          "size": 2,
          "symbol": "circle"
         },
         "mode": "markers",
         "name": "B",
         "text": "",
         "type": "scatter",
         "x": [
          -1.316509150580487,
          0.6567439213089783,
          -1.2117246351490527,
          -0.7795197648889394,
          -1.3086898864866376,
          1.1530168155654092,
          0.13998590336540567,
          -0.11056327817001697,
          1.7537011117105172,
          0.8810323955893713,
          0.10541010497618351,
          1.011575063785946,
          2.1228749009656473,
          -0.3075112722036564,
          1.038681885646689,
          -0.6319853146199059,
          2.2189715728894632,
          -1.4770145042427665,
          -0.153470368878263,
          -0.18727900695016553,
          1.9078574381220432,
          1.0499974193565844,
          0.46542902797864877,
          -0.6260746672943875,
          -0.03689923737424436,
          -1.0944391791639074,
          1.2481303879716057,
          0.09959660652843288,
          0.057031069351861356,
          -1.4176608242708042,
          0.27913325253238075,
          0.8782737897274759,
          -3.3361675913751814,
          -0.3611118893203861,
          0.9042067738977311,
          1.0392994720741469,
          0.3020476385379728,
          -1.10241740023384,
          0.6679332094321817,
          0.2603822989676794,
          0.45894985553075557,
          -0.011014647071094298,
          -1.2018062699942935,
          -1.288958573508946,
          -0.6602935547316192,
          0.559523528635203,
          0.9105335102135964,
          0.9007433046119707,
          -0.8788546818988332,
          1.2187402667118685,
          -0.3162671648927026,
          0.9555369947525019,
          0.8331485196348947,
          0.5643353781041094,
          0.9456632663673213,
          -0.16924653010990728,
          -2.8385553526488563,
          0.4385338754031157,
          2.050375616692176,
          -0.5957780568198906,
          -0.6391337028422326,
          0.04999693554916875,
          -0.9905604339917498,
          0.7126128257249994,
          1.623879844150366,
          0.7439398470037102,
          -1.4338603239722083,
          0.4223377380195463,
          0.7047789877639619,
          1.2997906440556526,
          1.1377795006181677,
          -0.37982037981568656,
          -0.8183289865038762,
          2.1150365234629778,
          -1.6315774177580455,
          1.557670994327429,
          0.27435834635581113,
          -0.2020660134299496,
          0.6622294003232192,
          -0.7507187976400996,
          1.6841078411643216,
          0.15725059523555834,
          0.20403175525934233,
          -0.10228075446346539,
          -0.45075758084417217,
          0.23398092630605663,
          0.7020994443457834,
          -1.372013643107886,
          -0.830234550415995,
          1.0471754048685615,
          0.2791516597674779,
          0.8073438839758672,
          -1.1840786596386352,
          -1.2438633167946165,
          0.6711553346045185,
          -1.05947273041682,
          -0.21268450772722713,
          -0.7716616231268543,
          -0.6618813607239717,
          -0.7691251660875101
         ],
         "xaxis": "x5",
         "y": [
          0.5322209261277865,
          -0.3400805111723466,
          1.1360868917232188,
          -0.382712079815374,
          -0.0882949780014785,
          -0.0035050460034809156,
          1.2200036262631462,
          0.20708725596394534,
          0.24518777378961107,
          -0.9614960463159214,
          -0.18007055388579998,
          1.693862038729409,
          0.6880732306303996,
          -1.2237783345460118,
          1.5778919118755526,
          -0.9399074605700591,
          0.6502179718500561,
          0.13984189631979266,
          0.3902474711235353,
          0.79574378145543,
          -0.3187089447730361,
          1.7756327287360203,
          0.11176970117547803,
          1.1026687785809492,
          1.2655186137877001,
          2.631604659518769,
          0.38632232634692665,
          0.3918662734991667,
          -0.10269538819221184,
          2.1050347354372656,
          -0.14728435081334065,
          1.5928813916980802,
          -0.5640139867574012,
          -0.7625416520561131,
          0.6299238973321293,
          1.5259003230423187,
          0.4556062123964385,
          -0.2699051707997322,
          1.023416758001027,
          0.8544257864781147,
          -0.2113121282276364,
          -0.9889838291299777,
          0.6101685589425011,
          0.01886452624200072,
          -0.9135960987704975,
          -0.01725436138227997,
          -0.7802532086851106,
          -0.37672890325294733,
          -2.152350636544527,
          -1.1683993670480606,
          1.263532324992662,
          0.312038748908657,
          0.7780507500386404,
          0.041471470158138804,
          -0.6020767411671846,
          0.6249868830012129,
          0.5405277670128545,
          -1.1176579751594906,
          -1.433072594514869,
          1.8835573786822821,
          1.2676267128436596,
          0.18179383715069097,
          -0.6708996716626628,
          -0.8696775484368037,
          0.1348973926892778,
          0.12074046939337874,
          -0.4243922156902889,
          0.346367856345538,
          1.0526808565699703,
          -0.9373139607993218,
          -0.4420468917330237,
          0.585751073752487,
          -0.22025857587135528,
          0.48580639571538037,
          1.1910452374445943,
          -0.8409995659483239,
          1.2713211278296752,
          0.6122183465394152,
          -0.3626153112574866,
          -0.9046816910222284,
          1.492899576359809,
          -0.19437622093277626,
          -0.17496285589028385,
          1.1661687648674532,
          -0.702440894291958,
          -0.9991504450455196,
          1.015268304294555,
          -0.41527919626977905,
          1.286684649424407,
          1.0739953772854123,
          -0.5703063513870817,
          1.039240915811815,
          0.8877143919613583,
          0.864296717575613,
          -0.26344490511936275,
          0.2117153057332679,
          -1.5890334789342004,
          1.1071474916095139,
          0.04231235469678529,
          -0.5264821907576022
         ],
         "yaxis": "y5"
        },
        {
         "histfunc": "count",
         "histnorm": "",
         "marker": {
          "color": "rgba(55, 128, 191, 1.0)",
          "line": {
           "color": "#4D5663",
           "width": 1.3
          }
         },
         "name": "B",
         "nbinsx": 10,
         "opacity": 0.8,
         "orientation": "v",
         "type": "histogram",
         "x": [
          0.5322209261277865,
          -0.3400805111723466,
          1.1360868917232188,
          -0.382712079815374,
          -0.0882949780014785,
          -0.0035050460034809156,
          1.2200036262631462,
          0.20708725596394534,
          0.24518777378961107,
          -0.9614960463159214,
          -0.18007055388579998,
          1.693862038729409,
          0.6880732306303996,
          -1.2237783345460118,
          1.5778919118755526,
          -0.9399074605700591,
          0.6502179718500561,
          0.13984189631979266,
          0.3902474711235353,
          0.79574378145543,
          -0.3187089447730361,
          1.7756327287360203,
          0.11176970117547803,
          1.1026687785809492,
          1.2655186137877001,
          2.631604659518769,
          0.38632232634692665,
          0.3918662734991667,
          -0.10269538819221184,
          2.1050347354372656,
          -0.14728435081334065,
          1.5928813916980802,
          -0.5640139867574012,
          -0.7625416520561131,
          0.6299238973321293,
          1.5259003230423187,
          0.4556062123964385,
          -0.2699051707997322,
          1.023416758001027,
          0.8544257864781147,
          -0.2113121282276364,
          -0.9889838291299777,
          0.6101685589425011,
          0.01886452624200072,
          -0.9135960987704975,
          -0.01725436138227997,
          -0.7802532086851106,
          -0.37672890325294733,
          -2.152350636544527,
          -1.1683993670480606,
          1.263532324992662,
          0.312038748908657,
          0.7780507500386404,
          0.041471470158138804,
          -0.6020767411671846,
          0.6249868830012129,
          0.5405277670128545,
          -1.1176579751594906,
          -1.433072594514869,
          1.8835573786822821,
          1.2676267128436596,
          0.18179383715069097,
          -0.6708996716626628,
          -0.8696775484368037,
          0.1348973926892778,
          0.12074046939337874,
          -0.4243922156902889,
          0.346367856345538,
          1.0526808565699703,
          -0.9373139607993218,
          -0.4420468917330237,
          0.585751073752487,
          -0.22025857587135528,
          0.48580639571538037,
          1.1910452374445943,
          -0.8409995659483239,
          1.2713211278296752,
          0.6122183465394152,
          -0.3626153112574866,
          -0.9046816910222284,
          1.492899576359809,
          -0.19437622093277626,
          -0.17496285589028385,
          1.1661687648674532,
          -0.702440894291958,
          -0.9991504450455196,
          1.015268304294555,
          -0.41527919626977905,
          1.286684649424407,
          1.0739953772854123,
          -0.5703063513870817,
          1.039240915811815,
          0.8877143919613583,
          0.864296717575613,
          -0.26344490511936275,
          0.2117153057332679,
          -1.5890334789342004,
          1.1071474916095139,
          0.04231235469678529,
          -0.5264821907576022
         ],
         "xaxis": "x6",
         "yaxis": "y6"
        },
        {
         "line": {
          "color": "rgba(128, 128, 128, 1.0)",
          "dash": "solid",
          "shape": "linear",
          "width": 1.3
         },
         "marker": {
          "size": 2,
          "symbol": "circle"
         },
         "mode": "markers",
         "name": "B",
         "text": "",
         "type": "scatter",
         "x": [
          -0.4426627042361103,
          -0.6399050472784629,
          0.07358865068267394,
          -0.3091615362420584,
          -2.1105700846068247,
          -0.6987203494266411,
          1.9987205565156225,
          -0.6497007420309667,
          0.20538307212912799,
          0.8983335644172407,
          0.26287310136750575,
          0.6107851851136252,
          -1.4363662311890355,
          0.36206337951561535,
          -0.2298673448032176,
          0.2265768162296731,
          0.8249414689110565,
          -0.8416150285488005,
          -0.6309024477119458,
          -0.12020366953750442,
          -0.2008317397881813,
          1.3158989235166834,
          -0.47561387029975616,
          0.3692948659360093,
          -0.5097988799863549,
          -0.38238868688924915,
          -1.5443771107613438,
          0.9322307087276408,
          -0.6038157686699996,
          0.10854617372161343,
          0.4078863543497139,
          -0.5974480890593209,
          1.7927302989916816,
          -0.27167329817764774,
          -0.10515729655119894,
          1.5046224508092376,
          1.2765081652015136,
          0.018901514535407556,
          -0.6981007178938509,
          0.2996256016902793,
          2.182783994787281,
          -0.8517021573495922,
          -0.6851326623649174,
          1.503361473348288,
          -0.10553912688797204,
          0.14975795420926277,
          0.49007051098713633,
          1.7947033295356172,
          -0.5715585020270864,
          -0.2381385005439792,
          -0.6997641418699387,
          0.11917893539522223,
          0.06952016281575028,
          0.3275008663147888,
          -0.4215140848008329,
          -0.9496352371350686,
          -1.0980805451800228,
          0.6125067193912569,
          0.1864624725803467,
          -0.15136469674670028,
          2.5960378688935712,
          0.8593240545880897,
          0.9587487407168636,
          0.8607656944499196,
          -0.3765156391993082,
          -1.2186616142210775,
          0.5178747433876127,
          -0.9975677063910462,
          -1.1910852286017317,
          -0.14787487928866896,
          -1.8047146319904626,
          1.4712403371794966,
          -0.06781497409294958,
          -1.34104990666472,
          -0.10306844664005434,
          -0.6344963461811047,
          0.9199220068790146,
          0.5874686040801018,
          0.27268255431433663,
          2.545739441802707,
          0.6586714984006848,
          1.224730402961586,
          -2.7085386943159473,
          0.01301733171174009,
          -0.2629659802082384,
          0.04500540665017078,
          -1.7927350814706264,
          0.44346558844281037,
          -0.36485627916302865,
          1.8799723626101896,
          0.6079096307392652,
          -0.810251652556461,
          0.28478379146553534,
          1.364369493564619,
          -0.6796767191131572,
          0.4878983532993825,
          -0.9801955125025105,
          1.3857556767911223,
          0.7150505765825546,
          2.380938657712917
         ],
         "xaxis": "x7",
         "y": [
          0.5322209261277865,
          -0.3400805111723466,
          1.1360868917232188,
          -0.382712079815374,
          -0.0882949780014785,
          -0.0035050460034809156,
          1.2200036262631462,
          0.20708725596394534,
          0.24518777378961107,
          -0.9614960463159214,
          -0.18007055388579998,
          1.693862038729409,
          0.6880732306303996,
          -1.2237783345460118,
          1.5778919118755526,
          -0.9399074605700591,
          0.6502179718500561,
          0.13984189631979266,
          0.3902474711235353,
          0.79574378145543,
          -0.3187089447730361,
          1.7756327287360203,
          0.11176970117547803,
          1.1026687785809492,
          1.2655186137877001,
          2.631604659518769,
          0.38632232634692665,
          0.3918662734991667,
          -0.10269538819221184,
          2.1050347354372656,
          -0.14728435081334065,
          1.5928813916980802,
          -0.5640139867574012,
          -0.7625416520561131,
          0.6299238973321293,
          1.5259003230423187,
          0.4556062123964385,
          -0.2699051707997322,
          1.023416758001027,
          0.8544257864781147,
          -0.2113121282276364,
          -0.9889838291299777,
          0.6101685589425011,
          0.01886452624200072,
          -0.9135960987704975,
          -0.01725436138227997,
          -0.7802532086851106,
          -0.37672890325294733,
          -2.152350636544527,
          -1.1683993670480606,
          1.263532324992662,
          0.312038748908657,
          0.7780507500386404,
          0.041471470158138804,
          -0.6020767411671846,
          0.6249868830012129,
          0.5405277670128545,
          -1.1176579751594906,
          -1.433072594514869,
          1.8835573786822821,
          1.2676267128436596,
          0.18179383715069097,
          -0.6708996716626628,
          -0.8696775484368037,
          0.1348973926892778,
          0.12074046939337874,
          -0.4243922156902889,
          0.346367856345538,
          1.0526808565699703,
          -0.9373139607993218,
          -0.4420468917330237,
          0.585751073752487,
          -0.22025857587135528,
          0.48580639571538037,
          1.1910452374445943,
          -0.8409995659483239,
          1.2713211278296752,
          0.6122183465394152,
          -0.3626153112574866,
          -0.9046816910222284,
          1.492899576359809,
          -0.19437622093277626,
          -0.17496285589028385,
          1.1661687648674532,
          -0.702440894291958,
          -0.9991504450455196,
          1.015268304294555,
          -0.41527919626977905,
          1.286684649424407,
          1.0739953772854123,
          -0.5703063513870817,
          1.039240915811815,
          0.8877143919613583,
          0.864296717575613,
          -0.26344490511936275,
          0.2117153057332679,
          -1.5890334789342004,
          1.1071474916095139,
          0.04231235469678529,
          -0.5264821907576022
         ],
         "yaxis": "y7"
        },
        {
         "line": {
          "color": "rgba(128, 128, 128, 1.0)",
          "dash": "solid",
          "shape": "linear",
          "width": 1.3
         },
         "marker": {
          "size": 2,
          "symbol": "circle"
         },
         "mode": "markers",
         "name": "B",
         "text": "",
         "type": "scatter",
         "x": [
          -0.21411274271333836,
          0.3713237974686019,
          1.0182433694657855,
          -0.9809308780644594,
          0.11681415896180601,
          0.056113925932592144,
          1.038143121639036,
          -0.3092977150883147,
          -0.5433729141065714,
          -1.3196508208765234,
          -0.25708061763812173,
          0.0037782350897909234,
          -0.2662763824170066,
          0.0768552484861571,
          -0.9055776501046975,
          -1.0036356624024152,
          -2.97083366912784,
          0.6983562301131403,
          -0.21374284452706516,
          0.8684627325918218,
          -0.1861796533340893,
          0.8116072183269627,
          0.2479167382445622,
          -1.6149889045131847,
          1.1122405866650933,
          -0.035202215333426747,
          0.9464088148430557,
          -2.06551088435252,
          1.8003719420270903,
          1.3589645300664823,
          2.813029349767026,
          -1.0659002960154034,
          -1.144289714564388,
          -0.24400458589547835,
          0.07156212349079402,
          2.6239711417649914,
          0.7262306311124471,
          -2.0178252387141296,
          0.9910007039302287,
          -0.52634820628823,
          1.502801479836207,
          -2.5371826122745182,
          0.46687136410253677,
          0.3188656785987697,
          0.7699121598333447,
          0.15187763606796495,
          0.2793597819924499,
          1.3263442544398758,
          -0.7936811937701996,
          -0.15393616151120165,
          0.05520688739259033,
          -1.8565385606752336,
          -0.32172545332466196,
          0.5038075164847766,
          -1.9177966894565226,
          0.9632920973705353,
          1.3563311373052924,
          0.34447531381624724,
          -0.4413867171527908,
          -0.956840945349693,
          -0.3893814338755863,
          -1.1579619966744505,
          -0.8886867830976829,
          -1.5514639240822634,
          -1.2843476076274045,
          1.256439946960209,
          0.4571796955089669,
          -0.6352941465719506,
          -0.01840227830138182,
          0.012149583965205024,
          -0.7139596600384576,
          -2.2073603980461756,
          -0.3769142907166705,
          -1.1530851450231299,
          0.6545482159160557,
          -1.419920770287892,
          0.7929584155525694,
          0.9508711081337505,
          0.6127102026962786,
          0.05790749951701337,
          -0.4669327658980801,
          -0.06445765660094958,
          0.08303432679820061,
          0.7832095356792245,
          0.29008929899966,
          0.9489372515059938,
          -1.8221105051652147,
          0.25122468116482677,
          -0.688314804778081,
          1.090724486112609,
          -0.5553079114238013,
          0.782352967608839,
          0.21959952494655974,
          -0.7372885183735969,
          0.8495989359274342,
          0.9781385987871037,
          1.229655208571755,
          1.3868570877160415,
          0.8665666205235594,
          1.6780863864864783
         ],
         "xaxis": "x8",
         "y": [
          0.5322209261277865,
          -0.3400805111723466,
          1.1360868917232188,
          -0.382712079815374,
          -0.0882949780014785,
          -0.0035050460034809156,
          1.2200036262631462,
          0.20708725596394534,
          0.24518777378961107,
          -0.9614960463159214,
          -0.18007055388579998,
          1.693862038729409,
          0.6880732306303996,
          -1.2237783345460118,
          1.5778919118755526,
          -0.9399074605700591,
          0.6502179718500561,
          0.13984189631979266,
          0.3902474711235353,
          0.79574378145543,
          -0.3187089447730361,
          1.7756327287360203,
          0.11176970117547803,
          1.1026687785809492,
          1.2655186137877001,
          2.631604659518769,
          0.38632232634692665,
          0.3918662734991667,
          -0.10269538819221184,
          2.1050347354372656,
          -0.14728435081334065,
          1.5928813916980802,
          -0.5640139867574012,
          -0.7625416520561131,
          0.6299238973321293,
          1.5259003230423187,
          0.4556062123964385,
          -0.2699051707997322,
          1.023416758001027,
          0.8544257864781147,
          -0.2113121282276364,
          -0.9889838291299777,
          0.6101685589425011,
          0.01886452624200072,
          -0.9135960987704975,
          -0.01725436138227997,
          -0.7802532086851106,
          -0.37672890325294733,
          -2.152350636544527,
          -1.1683993670480606,
          1.263532324992662,
          0.312038748908657,
          0.7780507500386404,
          0.041471470158138804,
          -0.6020767411671846,
          0.6249868830012129,
          0.5405277670128545,
          -1.1176579751594906,
          -1.433072594514869,
          1.8835573786822821,
          1.2676267128436596,
          0.18179383715069097,
          -0.6708996716626628,
          -0.8696775484368037,
          0.1348973926892778,
          0.12074046939337874,
          -0.4243922156902889,
          0.346367856345538,
          1.0526808565699703,
          -0.9373139607993218,
          -0.4420468917330237,
          0.585751073752487,
          -0.22025857587135528,
          0.48580639571538037,
          1.1910452374445943,
          -0.8409995659483239,
          1.2713211278296752,
          0.6122183465394152,
          -0.3626153112574866,
          -0.9046816910222284,
          1.492899576359809,
          -0.19437622093277626,
          -0.17496285589028385,
          1.1661687648674532,
          -0.702440894291958,
          -0.9991504450455196,
          1.015268304294555,
          -0.41527919626977905,
          1.286684649424407,
          1.0739953772854123,
          -0.5703063513870817,
          1.039240915811815,
          0.8877143919613583,
          0.864296717575613,
          -0.26344490511936275,
          0.2117153057332679,
          -1.5890334789342004,
          1.1071474916095139,
          0.04231235469678529,
          -0.5264821907576022
         ],
         "yaxis": "y8"
        },
        {
         "line": {
          "color": "rgba(128, 128, 128, 1.0)",
          "dash": "solid",
          "shape": "linear",
          "width": 1.3
         },
         "marker": {
          "size": 2,
          "symbol": "circle"
         },
         "mode": "markers",
         "name": "C",
         "text": "",
         "type": "scatter",
         "x": [
          -1.316509150580487,
          0.6567439213089783,
          -1.2117246351490527,
          -0.7795197648889394,
          -1.3086898864866376,
          1.1530168155654092,
          0.13998590336540567,
          -0.11056327817001697,
          1.7537011117105172,
          0.8810323955893713,
          0.10541010497618351,
          1.011575063785946,
          2.1228749009656473,
          -0.3075112722036564,
          1.038681885646689,
          -0.6319853146199059,
          2.2189715728894632,
          -1.4770145042427665,
          -0.153470368878263,
          -0.18727900695016553,
          1.9078574381220432,
          1.0499974193565844,
          0.46542902797864877,
          -0.6260746672943875,
          -0.03689923737424436,
          -1.0944391791639074,
          1.2481303879716057,
          0.09959660652843288,
          0.057031069351861356,
          -1.4176608242708042,
          0.27913325253238075,
          0.8782737897274759,
          -3.3361675913751814,
          -0.3611118893203861,
          0.9042067738977311,
          1.0392994720741469,
          0.3020476385379728,
          -1.10241740023384,
          0.6679332094321817,
          0.2603822989676794,
          0.45894985553075557,
          -0.011014647071094298,
          -1.2018062699942935,
          -1.288958573508946,
          -0.6602935547316192,
          0.559523528635203,
          0.9105335102135964,
          0.9007433046119707,
          -0.8788546818988332,
          1.2187402667118685,
          -0.3162671648927026,
          0.9555369947525019,
          0.8331485196348947,
          0.5643353781041094,
          0.9456632663673213,
          -0.16924653010990728,
          -2.8385553526488563,
          0.4385338754031157,
          2.050375616692176,
          -0.5957780568198906,
          -0.6391337028422326,
          0.04999693554916875,
          -0.9905604339917498,
          0.7126128257249994,
          1.623879844150366,
          0.7439398470037102,
          -1.4338603239722083,
          0.4223377380195463,
          0.7047789877639619,
          1.2997906440556526,
          1.1377795006181677,
          -0.37982037981568656,
          -0.8183289865038762,
          2.1150365234629778,
          -1.6315774177580455,
          1.557670994327429,
          0.27435834635581113,
          -0.2020660134299496,
          0.6622294003232192,
          -0.7507187976400996,
          1.6841078411643216,
          0.15725059523555834,
          0.20403175525934233,
          -0.10228075446346539,
          -0.45075758084417217,
          0.23398092630605663,
          0.7020994443457834,
          -1.372013643107886,
          -0.830234550415995,
          1.0471754048685615,
          0.2791516597674779,
          0.8073438839758672,
          -1.1840786596386352,
          -1.2438633167946165,
          0.6711553346045185,
          -1.05947273041682,
          -0.21268450772722713,
          -0.7716616231268543,
          -0.6618813607239717,
          -0.7691251660875101
         ],
         "xaxis": "x9",
         "y": [
          -0.4426627042361103,
          -0.6399050472784629,
          0.07358865068267394,
          -0.3091615362420584,
          -2.1105700846068247,
          -0.6987203494266411,
          1.9987205565156225,
          -0.6497007420309667,
          0.20538307212912799,
          0.8983335644172407,
          0.26287310136750575,
          0.6107851851136252,
          -1.4363662311890355,
          0.36206337951561535,
          -0.2298673448032176,
          0.2265768162296731,
          0.8249414689110565,
          -0.8416150285488005,
          -0.6309024477119458,
          -0.12020366953750442,
          -0.2008317397881813,
          1.3158989235166834,
          -0.47561387029975616,
          0.3692948659360093,
          -0.5097988799863549,
          -0.38238868688924915,
          -1.5443771107613438,
          0.9322307087276408,
          -0.6038157686699996,
          0.10854617372161343,
          0.4078863543497139,
          -0.5974480890593209,
          1.7927302989916816,
          -0.27167329817764774,
          -0.10515729655119894,
          1.5046224508092376,
          1.2765081652015136,
          0.018901514535407556,
          -0.6981007178938509,
          0.2996256016902793,
          2.182783994787281,
          -0.8517021573495922,
          -0.6851326623649174,
          1.503361473348288,
          -0.10553912688797204,
          0.14975795420926277,
          0.49007051098713633,
          1.7947033295356172,
          -0.5715585020270864,
          -0.2381385005439792,
          -0.6997641418699387,
          0.11917893539522223,
          0.06952016281575028,
          0.3275008663147888,
          -0.4215140848008329,
          -0.9496352371350686,
          -1.0980805451800228,
          0.6125067193912569,
          0.1864624725803467,
          -0.15136469674670028,
          2.5960378688935712,
          0.8593240545880897,
          0.9587487407168636,
          0.8607656944499196,
          -0.3765156391993082,
          -1.2186616142210775,
          0.5178747433876127,
          -0.9975677063910462,
          -1.1910852286017317,
          -0.14787487928866896,
          -1.8047146319904626,
          1.4712403371794966,
          -0.06781497409294958,
          -1.34104990666472,
          -0.10306844664005434,
          -0.6344963461811047,
          0.9199220068790146,
          0.5874686040801018,
          0.27268255431433663,
          2.545739441802707,
          0.6586714984006848,
          1.224730402961586,
          -2.7085386943159473,
          0.01301733171174009,
          -0.2629659802082384,
          0.04500540665017078,
          -1.7927350814706264,
          0.44346558844281037,
          -0.36485627916302865,
          1.8799723626101896,
          0.6079096307392652,
          -0.810251652556461,
          0.28478379146553534,
          1.364369493564619,
          -0.6796767191131572,
          0.4878983532993825,
          -0.9801955125025105,
          1.3857556767911223,
          0.7150505765825546,
          2.380938657712917
         ],
         "yaxis": "y9"
        },
        {
         "line": {
          "color": "rgba(128, 128, 128, 1.0)",
          "dash": "solid",
          "shape": "linear",
          "width": 1.3
         },
         "marker": {
          "size": 2,
          "symbol": "circle"
         },
         "mode": "markers",
         "name": "C",
         "text": "",
         "type": "scatter",
         "x": [
          0.5322209261277865,
          -0.3400805111723466,
          1.1360868917232188,
          -0.382712079815374,
          -0.0882949780014785,
          -0.0035050460034809156,
          1.2200036262631462,
          0.20708725596394534,
          0.24518777378961107,
          -0.9614960463159214,
          -0.18007055388579998,
          1.693862038729409,
          0.6880732306303996,
          -1.2237783345460118,
          1.5778919118755526,
          -0.9399074605700591,
          0.6502179718500561,
          0.13984189631979266,
          0.3902474711235353,
          0.79574378145543,
          -0.3187089447730361,
          1.7756327287360203,
          0.11176970117547803,
          1.1026687785809492,
          1.2655186137877001,
          2.631604659518769,
          0.38632232634692665,
          0.3918662734991667,
          -0.10269538819221184,
          2.1050347354372656,
          -0.14728435081334065,
          1.5928813916980802,
          -0.5640139867574012,
          -0.7625416520561131,
          0.6299238973321293,
          1.5259003230423187,
          0.4556062123964385,
          -0.2699051707997322,
          1.023416758001027,
          0.8544257864781147,
          -0.2113121282276364,
          -0.9889838291299777,
          0.6101685589425011,
          0.01886452624200072,
          -0.9135960987704975,
          -0.01725436138227997,
          -0.7802532086851106,
          -0.37672890325294733,
          -2.152350636544527,
          -1.1683993670480606,
          1.263532324992662,
          0.312038748908657,
          0.7780507500386404,
          0.041471470158138804,
          -0.6020767411671846,
          0.6249868830012129,
          0.5405277670128545,
          -1.1176579751594906,
          -1.433072594514869,
          1.8835573786822821,
          1.2676267128436596,
          0.18179383715069097,
          -0.6708996716626628,
          -0.8696775484368037,
          0.1348973926892778,
          0.12074046939337874,
          -0.4243922156902889,
          0.346367856345538,
          1.0526808565699703,
          -0.9373139607993218,
          -0.4420468917330237,
          0.585751073752487,
          -0.22025857587135528,
          0.48580639571538037,
          1.1910452374445943,
          -0.8409995659483239,
          1.2713211278296752,
          0.6122183465394152,
          -0.3626153112574866,
          -0.9046816910222284,
          1.492899576359809,
          -0.19437622093277626,
          -0.17496285589028385,
          1.1661687648674532,
          -0.702440894291958,
          -0.9991504450455196,
          1.015268304294555,
          -0.41527919626977905,
          1.286684649424407,
          1.0739953772854123,
          -0.5703063513870817,
          1.039240915811815,
          0.8877143919613583,
          0.864296717575613,
          -0.26344490511936275,
          0.2117153057332679,
          -1.5890334789342004,
          1.1071474916095139,
          0.04231235469678529,
          -0.5264821907576022
         ],
         "xaxis": "x10",
         "y": [
          -0.4426627042361103,
          -0.6399050472784629,
          0.07358865068267394,
          -0.3091615362420584,
          -2.1105700846068247,
          -0.6987203494266411,
          1.9987205565156225,
          -0.6497007420309667,
          0.20538307212912799,
          0.8983335644172407,
          0.26287310136750575,
          0.6107851851136252,
          -1.4363662311890355,
          0.36206337951561535,
          -0.2298673448032176,
          0.2265768162296731,
          0.8249414689110565,
          -0.8416150285488005,
          -0.6309024477119458,
          -0.12020366953750442,
          -0.2008317397881813,
          1.3158989235166834,
          -0.47561387029975616,
          0.3692948659360093,
          -0.5097988799863549,
          -0.38238868688924915,
          -1.5443771107613438,
          0.9322307087276408,
          -0.6038157686699996,
          0.10854617372161343,
          0.4078863543497139,
          -0.5974480890593209,
          1.7927302989916816,
          -0.27167329817764774,
          -0.10515729655119894,
          1.5046224508092376,
          1.2765081652015136,
          0.018901514535407556,
          -0.6981007178938509,
          0.2996256016902793,
          2.182783994787281,
          -0.8517021573495922,
          -0.6851326623649174,
          1.503361473348288,
          -0.10553912688797204,
          0.14975795420926277,
          0.49007051098713633,
          1.7947033295356172,
          -0.5715585020270864,
          -0.2381385005439792,
          -0.6997641418699387,
          0.11917893539522223,
          0.06952016281575028,
          0.3275008663147888,
          -0.4215140848008329,
          -0.9496352371350686,
          -1.0980805451800228,
          0.6125067193912569,
          0.1864624725803467,
          -0.15136469674670028,
          2.5960378688935712,
          0.8593240545880897,
          0.9587487407168636,
          0.8607656944499196,
          -0.3765156391993082,
          -1.2186616142210775,
          0.5178747433876127,
          -0.9975677063910462,
          -1.1910852286017317,
          -0.14787487928866896,
          -1.8047146319904626,
          1.4712403371794966,
          -0.06781497409294958,
          -1.34104990666472,
          -0.10306844664005434,
          -0.6344963461811047,
          0.9199220068790146,
          0.5874686040801018,
          0.27268255431433663,
          2.545739441802707,
          0.6586714984006848,
          1.224730402961586,
          -2.7085386943159473,
          0.01301733171174009,
          -0.2629659802082384,
          0.04500540665017078,
          -1.7927350814706264,
          0.44346558844281037,
          -0.36485627916302865,
          1.8799723626101896,
          0.6079096307392652,
          -0.810251652556461,
          0.28478379146553534,
          1.364369493564619,
          -0.6796767191131572,
          0.4878983532993825,
          -0.9801955125025105,
          1.3857556767911223,
          0.7150505765825546,
          2.380938657712917
         ],
         "yaxis": "y10"
        },
        {
         "histfunc": "count",
         "histnorm": "",
         "marker": {
          "color": "rgba(50, 171, 96, 1.0)",
          "line": {
           "color": "#4D5663",
           "width": 1.3
          }
         },
         "name": "C",
         "nbinsx": 10,
         "opacity": 0.8,
         "orientation": "v",
         "type": "histogram",
         "x": [
          -0.4426627042361103,
          -0.6399050472784629,
          0.07358865068267394,
          -0.3091615362420584,
          -2.1105700846068247,
          -0.6987203494266411,
          1.9987205565156225,
          -0.6497007420309667,
          0.20538307212912799,
          0.8983335644172407,
          0.26287310136750575,
          0.6107851851136252,
          -1.4363662311890355,
          0.36206337951561535,
          -0.2298673448032176,
          0.2265768162296731,
          0.8249414689110565,
          -0.8416150285488005,
          -0.6309024477119458,
          -0.12020366953750442,
          -0.2008317397881813,
          1.3158989235166834,
          -0.47561387029975616,
          0.3692948659360093,
          -0.5097988799863549,
          -0.38238868688924915,
          -1.5443771107613438,
          0.9322307087276408,
          -0.6038157686699996,
          0.10854617372161343,
          0.4078863543497139,
          -0.5974480890593209,
          1.7927302989916816,
          -0.27167329817764774,
          -0.10515729655119894,
          1.5046224508092376,
          1.2765081652015136,
          0.018901514535407556,
          -0.6981007178938509,
          0.2996256016902793,
          2.182783994787281,
          -0.8517021573495922,
          -0.6851326623649174,
          1.503361473348288,
          -0.10553912688797204,
          0.14975795420926277,
          0.49007051098713633,
          1.7947033295356172,
          -0.5715585020270864,
          -0.2381385005439792,
          -0.6997641418699387,
          0.11917893539522223,
          0.06952016281575028,
          0.3275008663147888,
          -0.4215140848008329,
          -0.9496352371350686,
          -1.0980805451800228,
          0.6125067193912569,
          0.1864624725803467,
          -0.15136469674670028,
          2.5960378688935712,
          0.8593240545880897,
          0.9587487407168636,
          0.8607656944499196,
          -0.3765156391993082,
          -1.2186616142210775,
          0.5178747433876127,
          -0.9975677063910462,
          -1.1910852286017317,
          -0.14787487928866896,
          -1.8047146319904626,
          1.4712403371794966,
          -0.06781497409294958,
          -1.34104990666472,
          -0.10306844664005434,
          -0.6344963461811047,
          0.9199220068790146,
          0.5874686040801018,
          0.27268255431433663,
          2.545739441802707,
          0.6586714984006848,
          1.224730402961586,
          -2.7085386943159473,
          0.01301733171174009,
          -0.2629659802082384,
          0.04500540665017078,
          -1.7927350814706264,
          0.44346558844281037,
          -0.36485627916302865,
          1.8799723626101896,
          0.6079096307392652,
          -0.810251652556461,
          0.28478379146553534,
          1.364369493564619,
          -0.6796767191131572,
          0.4878983532993825,
          -0.9801955125025105,
          1.3857556767911223,
          0.7150505765825546,
          2.380938657712917
         ],
         "xaxis": "x11",
         "yaxis": "y11"
        },
        {
         "line": {
          "color": "rgba(128, 128, 128, 1.0)",
          "dash": "solid",
          "shape": "linear",
          "width": 1.3
         },
         "marker": {
          "size": 2,
          "symbol": "circle"
         },
         "mode": "markers",
         "name": "C",
         "text": "",
         "type": "scatter",
         "x": [
          -0.21411274271333836,
          0.3713237974686019,
          1.0182433694657855,
          -0.9809308780644594,
          0.11681415896180601,
          0.056113925932592144,
          1.038143121639036,
          -0.3092977150883147,
          -0.5433729141065714,
          -1.3196508208765234,
          -0.25708061763812173,
          0.0037782350897909234,
          -0.2662763824170066,
          0.0768552484861571,
          -0.9055776501046975,
          -1.0036356624024152,
          -2.97083366912784,
          0.6983562301131403,
          -0.21374284452706516,
          0.8684627325918218,
          -0.1861796533340893,
          0.8116072183269627,
          0.2479167382445622,
          -1.6149889045131847,
          1.1122405866650933,
          -0.035202215333426747,
          0.9464088148430557,
          -2.06551088435252,
          1.8003719420270903,
          1.3589645300664823,
          2.813029349767026,
          -1.0659002960154034,
          -1.144289714564388,
          -0.24400458589547835,
          0.07156212349079402,
          2.6239711417649914,
          0.7262306311124471,
          -2.0178252387141296,
          0.9910007039302287,
          -0.52634820628823,
          1.502801479836207,
          -2.5371826122745182,
          0.46687136410253677,
          0.3188656785987697,
          0.7699121598333447,
          0.15187763606796495,
          0.2793597819924499,
          1.3263442544398758,
          -0.7936811937701996,
          -0.15393616151120165,
          0.05520688739259033,
          -1.8565385606752336,
          -0.32172545332466196,
          0.5038075164847766,
          -1.9177966894565226,
          0.9632920973705353,
          1.3563311373052924,
          0.34447531381624724,
          -0.4413867171527908,
          -0.956840945349693,
          -0.3893814338755863,
          -1.1579619966744505,
          -0.8886867830976829,
          -1.5514639240822634,
          -1.2843476076274045,
          1.256439946960209,
          0.4571796955089669,
          -0.6352941465719506,
          -0.01840227830138182,
          0.012149583965205024,
          -0.7139596600384576,
          -2.2073603980461756,
          -0.3769142907166705,
          -1.1530851450231299,
          0.6545482159160557,
          -1.419920770287892,
          0.7929584155525694,
          0.9508711081337505,
          0.6127102026962786,
          0.05790749951701337,
          -0.4669327658980801,
          -0.06445765660094958,
          0.08303432679820061,
          0.7832095356792245,
          0.29008929899966,
          0.9489372515059938,
          -1.8221105051652147,
          0.25122468116482677,
          -0.688314804778081,
          1.090724486112609,
          -0.5553079114238013,
          0.782352967608839,
          0.21959952494655974,
          -0.7372885183735969,
          0.8495989359274342,
          0.9781385987871037,
          1.229655208571755,
          1.3868570877160415,
          0.8665666205235594,
          1.6780863864864783
         ],
         "xaxis": "x12",
         "y": [
          -0.4426627042361103,
          -0.6399050472784629,
          0.07358865068267394,
          -0.3091615362420584,
          -2.1105700846068247,
          -0.6987203494266411,
          1.9987205565156225,
          -0.6497007420309667,
          0.20538307212912799,
          0.8983335644172407,
          0.26287310136750575,
          0.6107851851136252,
          -1.4363662311890355,
          0.36206337951561535,
          -0.2298673448032176,
          0.2265768162296731,
          0.8249414689110565,
          -0.8416150285488005,
          -0.6309024477119458,
          -0.12020366953750442,
          -0.2008317397881813,
          1.3158989235166834,
          -0.47561387029975616,
          0.3692948659360093,
          -0.5097988799863549,
          -0.38238868688924915,
          -1.5443771107613438,
          0.9322307087276408,
          -0.6038157686699996,
          0.10854617372161343,
          0.4078863543497139,
          -0.5974480890593209,
          1.7927302989916816,
          -0.27167329817764774,
          -0.10515729655119894,
          1.5046224508092376,
          1.2765081652015136,
          0.018901514535407556,
          -0.6981007178938509,
          0.2996256016902793,
          2.182783994787281,
          -0.8517021573495922,
          -0.6851326623649174,
          1.503361473348288,
          -0.10553912688797204,
          0.14975795420926277,
          0.49007051098713633,
          1.7947033295356172,
          -0.5715585020270864,
          -0.2381385005439792,
          -0.6997641418699387,
          0.11917893539522223,
          0.06952016281575028,
          0.3275008663147888,
          -0.4215140848008329,
          -0.9496352371350686,
          -1.0980805451800228,
          0.6125067193912569,
          0.1864624725803467,
          -0.15136469674670028,
          2.5960378688935712,
          0.8593240545880897,
          0.9587487407168636,
          0.8607656944499196,
          -0.3765156391993082,
          -1.2186616142210775,
          0.5178747433876127,
          -0.9975677063910462,
          -1.1910852286017317,
          -0.14787487928866896,
          -1.8047146319904626,
          1.4712403371794966,
          -0.06781497409294958,
          -1.34104990666472,
          -0.10306844664005434,
          -0.6344963461811047,
          0.9199220068790146,
          0.5874686040801018,
          0.27268255431433663,
          2.545739441802707,
          0.6586714984006848,
          1.224730402961586,
          -2.7085386943159473,
          0.01301733171174009,
          -0.2629659802082384,
          0.04500540665017078,
          -1.7927350814706264,
          0.44346558844281037,
          -0.36485627916302865,
          1.8799723626101896,
          0.6079096307392652,
          -0.810251652556461,
          0.28478379146553534,
          1.364369493564619,
          -0.6796767191131572,
          0.4878983532993825,
          -0.9801955125025105,
          1.3857556767911223,
          0.7150505765825546,
          2.380938657712917
         ],
         "yaxis": "y12"
        },
        {
         "line": {
          "color": "rgba(128, 128, 128, 1.0)",
          "dash": "solid",
          "shape": "linear",
          "width": 1.3
         },
         "marker": {
          "size": 2,
          "symbol": "circle"
         },
         "mode": "markers",
         "name": "D",
         "text": "",
         "type": "scatter",
         "x": [
          -1.316509150580487,
          0.6567439213089783,
          -1.2117246351490527,
          -0.7795197648889394,
          -1.3086898864866376,
          1.1530168155654092,
          0.13998590336540567,
          -0.11056327817001697,
          1.7537011117105172,
          0.8810323955893713,
          0.10541010497618351,
          1.011575063785946,
          2.1228749009656473,
          -0.3075112722036564,
          1.038681885646689,
          -0.6319853146199059,
          2.2189715728894632,
          -1.4770145042427665,
          -0.153470368878263,
          -0.18727900695016553,
          1.9078574381220432,
          1.0499974193565844,
          0.46542902797864877,
          -0.6260746672943875,
          -0.03689923737424436,
          -1.0944391791639074,
          1.2481303879716057,
          0.09959660652843288,
          0.057031069351861356,
          -1.4176608242708042,
          0.27913325253238075,
          0.8782737897274759,
          -3.3361675913751814,
          -0.3611118893203861,
          0.9042067738977311,
          1.0392994720741469,
          0.3020476385379728,
          -1.10241740023384,
          0.6679332094321817,
          0.2603822989676794,
          0.45894985553075557,
          -0.011014647071094298,
          -1.2018062699942935,
          -1.288958573508946,
          -0.6602935547316192,
          0.559523528635203,
          0.9105335102135964,
          0.9007433046119707,
          -0.8788546818988332,
          1.2187402667118685,
          -0.3162671648927026,
          0.9555369947525019,
          0.8331485196348947,
          0.5643353781041094,
          0.9456632663673213,
          -0.16924653010990728,
          -2.8385553526488563,
          0.4385338754031157,
          2.050375616692176,
          -0.5957780568198906,
          -0.6391337028422326,
          0.04999693554916875,
          -0.9905604339917498,
          0.7126128257249994,
          1.623879844150366,
          0.7439398470037102,
          -1.4338603239722083,
          0.4223377380195463,
          0.7047789877639619,
          1.2997906440556526,
          1.1377795006181677,
          -0.37982037981568656,
          -0.8183289865038762,
          2.1150365234629778,
          -1.6315774177580455,
          1.557670994327429,
          0.27435834635581113,
          -0.2020660134299496,
          0.6622294003232192,
          -0.7507187976400996,
          1.6841078411643216,
          0.15725059523555834,
          0.20403175525934233,
          -0.10228075446346539,
          -0.45075758084417217,
          0.23398092630605663,
          0.7020994443457834,
          -1.372013643107886,
          -0.830234550415995,
          1.0471754048685615,
          0.2791516597674779,
          0.8073438839758672,
          -1.1840786596386352,
          -1.2438633167946165,
          0.6711553346045185,
          -1.05947273041682,
          -0.21268450772722713,
          -0.7716616231268543,
          -0.6618813607239717,
          -0.7691251660875101
         ],
         "xaxis": "x13",
         "y": [
          -0.21411274271333836,
          0.3713237974686019,
          1.0182433694657855,
          -0.9809308780644594,
          0.11681415896180601,
          0.056113925932592144,
          1.038143121639036,
          -0.3092977150883147,
          -0.5433729141065714,
          -1.3196508208765234,
          -0.25708061763812173,
          0.0037782350897909234,
          -0.2662763824170066,
          0.0768552484861571,
          -0.9055776501046975,
          -1.0036356624024152,
          -2.97083366912784,
          0.6983562301131403,
          -0.21374284452706516,
          0.8684627325918218,
          -0.1861796533340893,
          0.8116072183269627,
          0.2479167382445622,
          -1.6149889045131847,
          1.1122405866650933,
          -0.035202215333426747,
          0.9464088148430557,
          -2.06551088435252,
          1.8003719420270903,
          1.3589645300664823,
          2.813029349767026,
          -1.0659002960154034,
          -1.144289714564388,
          -0.24400458589547835,
          0.07156212349079402,
          2.6239711417649914,
          0.7262306311124471,
          -2.0178252387141296,
          0.9910007039302287,
          -0.52634820628823,
          1.502801479836207,
          -2.5371826122745182,
          0.46687136410253677,
          0.3188656785987697,
          0.7699121598333447,
          0.15187763606796495,
          0.2793597819924499,
          1.3263442544398758,
          -0.7936811937701996,
          -0.15393616151120165,
          0.05520688739259033,
          -1.8565385606752336,
          -0.32172545332466196,
          0.5038075164847766,
          -1.9177966894565226,
          0.9632920973705353,
          1.3563311373052924,
          0.34447531381624724,
          -0.4413867171527908,
          -0.956840945349693,
          -0.3893814338755863,
          -1.1579619966744505,
          -0.8886867830976829,
          -1.5514639240822634,
          -1.2843476076274045,
          1.256439946960209,
          0.4571796955089669,
          -0.6352941465719506,
          -0.01840227830138182,
          0.012149583965205024,
          -0.7139596600384576,
          -2.2073603980461756,
          -0.3769142907166705,
          -1.1530851450231299,
          0.6545482159160557,
          -1.419920770287892,
          0.7929584155525694,
          0.9508711081337505,
          0.6127102026962786,
          0.05790749951701337,
          -0.4669327658980801,
          -0.06445765660094958,
          0.08303432679820061,
          0.7832095356792245,
          0.29008929899966,
          0.9489372515059938,
          -1.8221105051652147,
          0.25122468116482677,
          -0.688314804778081,
          1.090724486112609,
          -0.5553079114238013,
          0.782352967608839,
          0.21959952494655974,
          -0.7372885183735969,
          0.8495989359274342,
          0.9781385987871037,
          1.229655208571755,
          1.3868570877160415,
          0.8665666205235594,
          1.6780863864864783
         ],
         "yaxis": "y13"
        },
        {
         "line": {
          "color": "rgba(128, 128, 128, 1.0)",
          "dash": "solid",
          "shape": "linear",
          "width": 1.3
         },
         "marker": {
          "size": 2,
          "symbol": "circle"
         },
         "mode": "markers",
         "name": "D",
         "text": "",
         "type": "scatter",
         "x": [
          0.5322209261277865,
          -0.3400805111723466,
          1.1360868917232188,
          -0.382712079815374,
          -0.0882949780014785,
          -0.0035050460034809156,
          1.2200036262631462,
          0.20708725596394534,
          0.24518777378961107,
          -0.9614960463159214,
          -0.18007055388579998,
          1.693862038729409,
          0.6880732306303996,
          -1.2237783345460118,
          1.5778919118755526,
          -0.9399074605700591,
          0.6502179718500561,
          0.13984189631979266,
          0.3902474711235353,
          0.79574378145543,
          -0.3187089447730361,
          1.7756327287360203,
          0.11176970117547803,
          1.1026687785809492,
          1.2655186137877001,
          2.631604659518769,
          0.38632232634692665,
          0.3918662734991667,
          -0.10269538819221184,
          2.1050347354372656,
          -0.14728435081334065,
          1.5928813916980802,
          -0.5640139867574012,
          -0.7625416520561131,
          0.6299238973321293,
          1.5259003230423187,
          0.4556062123964385,
          -0.2699051707997322,
          1.023416758001027,
          0.8544257864781147,
          -0.2113121282276364,
          -0.9889838291299777,
          0.6101685589425011,
          0.01886452624200072,
          -0.9135960987704975,
          -0.01725436138227997,
          -0.7802532086851106,
          -0.37672890325294733,
          -2.152350636544527,
          -1.1683993670480606,
          1.263532324992662,
          0.312038748908657,
          0.7780507500386404,
          0.041471470158138804,
          -0.6020767411671846,
          0.6249868830012129,
          0.5405277670128545,
          -1.1176579751594906,
          -1.433072594514869,
          1.8835573786822821,
          1.2676267128436596,
          0.18179383715069097,
          -0.6708996716626628,
          -0.8696775484368037,
          0.1348973926892778,
          0.12074046939337874,
          -0.4243922156902889,
          0.346367856345538,
          1.0526808565699703,
          -0.9373139607993218,
          -0.4420468917330237,
          0.585751073752487,
          -0.22025857587135528,
          0.48580639571538037,
          1.1910452374445943,
          -0.8409995659483239,
          1.2713211278296752,
          0.6122183465394152,
          -0.3626153112574866,
          -0.9046816910222284,
          1.492899576359809,
          -0.19437622093277626,
          -0.17496285589028385,
          1.1661687648674532,
          -0.702440894291958,
          -0.9991504450455196,
          1.015268304294555,
          -0.41527919626977905,
          1.286684649424407,
          1.0739953772854123,
          -0.5703063513870817,
          1.039240915811815,
          0.8877143919613583,
          0.864296717575613,
          -0.26344490511936275,
          0.2117153057332679,
          -1.5890334789342004,
          1.1071474916095139,
          0.04231235469678529,
          -0.5264821907576022
         ],
         "xaxis": "x14",
         "y": [
          -0.21411274271333836,
          0.3713237974686019,
          1.0182433694657855,
          -0.9809308780644594,
          0.11681415896180601,
          0.056113925932592144,
          1.038143121639036,
          -0.3092977150883147,
          -0.5433729141065714,
          -1.3196508208765234,
          -0.25708061763812173,
          0.0037782350897909234,
          -0.2662763824170066,
          0.0768552484861571,
          -0.9055776501046975,
          -1.0036356624024152,
          -2.97083366912784,
          0.6983562301131403,
          -0.21374284452706516,
          0.8684627325918218,
          -0.1861796533340893,
          0.8116072183269627,
          0.2479167382445622,
          -1.6149889045131847,
          1.1122405866650933,
          -0.035202215333426747,
          0.9464088148430557,
          -2.06551088435252,
          1.8003719420270903,
          1.3589645300664823,
          2.813029349767026,
          -1.0659002960154034,
          -1.144289714564388,
          -0.24400458589547835,
          0.07156212349079402,
          2.6239711417649914,
          0.7262306311124471,
          -2.0178252387141296,
          0.9910007039302287,
          -0.52634820628823,
          1.502801479836207,
          -2.5371826122745182,
          0.46687136410253677,
          0.3188656785987697,
          0.7699121598333447,
          0.15187763606796495,
          0.2793597819924499,
          1.3263442544398758,
          -0.7936811937701996,
          -0.15393616151120165,
          0.05520688739259033,
          -1.8565385606752336,
          -0.32172545332466196,
          0.5038075164847766,
          -1.9177966894565226,
          0.9632920973705353,
          1.3563311373052924,
          0.34447531381624724,
          -0.4413867171527908,
          -0.956840945349693,
          -0.3893814338755863,
          -1.1579619966744505,
          -0.8886867830976829,
          -1.5514639240822634,
          -1.2843476076274045,
          1.256439946960209,
          0.4571796955089669,
          -0.6352941465719506,
          -0.01840227830138182,
          0.012149583965205024,
          -0.7139596600384576,
          -2.2073603980461756,
          -0.3769142907166705,
          -1.1530851450231299,
          0.6545482159160557,
          -1.419920770287892,
          0.7929584155525694,
          0.9508711081337505,
          0.6127102026962786,
          0.05790749951701337,
          -0.4669327658980801,
          -0.06445765660094958,
          0.08303432679820061,
          0.7832095356792245,
          0.29008929899966,
          0.9489372515059938,
          -1.8221105051652147,
          0.25122468116482677,
          -0.688314804778081,
          1.090724486112609,
          -0.5553079114238013,
          0.782352967608839,
          0.21959952494655974,
          -0.7372885183735969,
          0.8495989359274342,
          0.9781385987871037,
          1.229655208571755,
          1.3868570877160415,
          0.8665666205235594,
          1.6780863864864783
         ],
         "yaxis": "y14"
        },
        {
         "line": {
          "color": "rgba(128, 128, 128, 1.0)",
          "dash": "solid",
          "shape": "linear",
          "width": 1.3
         },
         "marker": {
          "size": 2,
          "symbol": "circle"
         },
         "mode": "markers",
         "name": "D",
         "text": "",
         "type": "scatter",
         "x": [
          -0.4426627042361103,
          -0.6399050472784629,
          0.07358865068267394,
          -0.3091615362420584,
          -2.1105700846068247,
          -0.6987203494266411,
          1.9987205565156225,
          -0.6497007420309667,
          0.20538307212912799,
          0.8983335644172407,
          0.26287310136750575,
          0.6107851851136252,
          -1.4363662311890355,
          0.36206337951561535,
          -0.2298673448032176,
          0.2265768162296731,
          0.8249414689110565,
          -0.8416150285488005,
          -0.6309024477119458,
          -0.12020366953750442,
          -0.2008317397881813,
          1.3158989235166834,
          -0.47561387029975616,
          0.3692948659360093,
          -0.5097988799863549,
          -0.38238868688924915,
          -1.5443771107613438,
          0.9322307087276408,
          -0.6038157686699996,
          0.10854617372161343,
          0.4078863543497139,
          -0.5974480890593209,
          1.7927302989916816,
          -0.27167329817764774,
          -0.10515729655119894,
          1.5046224508092376,
          1.2765081652015136,
          0.018901514535407556,
          -0.6981007178938509,
          0.2996256016902793,
          2.182783994787281,
          -0.8517021573495922,
          -0.6851326623649174,
          1.503361473348288,
          -0.10553912688797204,
          0.14975795420926277,
          0.49007051098713633,
          1.7947033295356172,
          -0.5715585020270864,
          -0.2381385005439792,
          -0.6997641418699387,
          0.11917893539522223,
          0.06952016281575028,
          0.3275008663147888,
          -0.4215140848008329,
          -0.9496352371350686,
          -1.0980805451800228,
          0.6125067193912569,
          0.1864624725803467,
          -0.15136469674670028,
          2.5960378688935712,
          0.8593240545880897,
          0.9587487407168636,
          0.8607656944499196,
          -0.3765156391993082,
          -1.2186616142210775,
          0.5178747433876127,
          -0.9975677063910462,
          -1.1910852286017317,
          -0.14787487928866896,
          -1.8047146319904626,
          1.4712403371794966,
          -0.06781497409294958,
          -1.34104990666472,
          -0.10306844664005434,
          -0.6344963461811047,
          0.9199220068790146,
          0.5874686040801018,
          0.27268255431433663,
          2.545739441802707,
          0.6586714984006848,
          1.224730402961586,
          -2.7085386943159473,
          0.01301733171174009,
          -0.2629659802082384,
          0.04500540665017078,
          -1.7927350814706264,
          0.44346558844281037,
          -0.36485627916302865,
          1.8799723626101896,
          0.6079096307392652,
          -0.810251652556461,
          0.28478379146553534,
          1.364369493564619,
          -0.6796767191131572,
          0.4878983532993825,
          -0.9801955125025105,
          1.3857556767911223,
          0.7150505765825546,
          2.380938657712917
         ],
         "xaxis": "x15",
         "y": [
          -0.21411274271333836,
          0.3713237974686019,
          1.0182433694657855,
          -0.9809308780644594,
          0.11681415896180601,
          0.056113925932592144,
          1.038143121639036,
          -0.3092977150883147,
          -0.5433729141065714,
          -1.3196508208765234,
          -0.25708061763812173,
          0.0037782350897909234,
          -0.2662763824170066,
          0.0768552484861571,
          -0.9055776501046975,
          -1.0036356624024152,
          -2.97083366912784,
          0.6983562301131403,
          -0.21374284452706516,
          0.8684627325918218,
          -0.1861796533340893,
          0.8116072183269627,
          0.2479167382445622,
          -1.6149889045131847,
          1.1122405866650933,
          -0.035202215333426747,
          0.9464088148430557,
          -2.06551088435252,
          1.8003719420270903,
          1.3589645300664823,
          2.813029349767026,
          -1.0659002960154034,
          -1.144289714564388,
          -0.24400458589547835,
          0.07156212349079402,
          2.6239711417649914,
          0.7262306311124471,
          -2.0178252387141296,
          0.9910007039302287,
          -0.52634820628823,
          1.502801479836207,
          -2.5371826122745182,
          0.46687136410253677,
          0.3188656785987697,
          0.7699121598333447,
          0.15187763606796495,
          0.2793597819924499,
          1.3263442544398758,
          -0.7936811937701996,
          -0.15393616151120165,
          0.05520688739259033,
          -1.8565385606752336,
          -0.32172545332466196,
          0.5038075164847766,
          -1.9177966894565226,
          0.9632920973705353,
          1.3563311373052924,
          0.34447531381624724,
          -0.4413867171527908,
          -0.956840945349693,
          -0.3893814338755863,
          -1.1579619966744505,
          -0.8886867830976829,
          -1.5514639240822634,
          -1.2843476076274045,
          1.256439946960209,
          0.4571796955089669,
          -0.6352941465719506,
          -0.01840227830138182,
          0.012149583965205024,
          -0.7139596600384576,
          -2.2073603980461756,
          -0.3769142907166705,
          -1.1530851450231299,
          0.6545482159160557,
          -1.419920770287892,
          0.7929584155525694,
          0.9508711081337505,
          0.6127102026962786,
          0.05790749951701337,
          -0.4669327658980801,
          -0.06445765660094958,
          0.08303432679820061,
          0.7832095356792245,
          0.29008929899966,
          0.9489372515059938,
          -1.8221105051652147,
          0.25122468116482677,
          -0.688314804778081,
          1.090724486112609,
          -0.5553079114238013,
          0.782352967608839,
          0.21959952494655974,
          -0.7372885183735969,
          0.8495989359274342,
          0.9781385987871037,
          1.229655208571755,
          1.3868570877160415,
          0.8665666205235594,
          1.6780863864864783
         ],
         "yaxis": "y15"
        },
        {
         "histfunc": "count",
         "histnorm": "",
         "marker": {
          "color": "rgba(128, 0, 128, 1.0)",
          "line": {
           "color": "#4D5663",
           "width": 1.3
          }
         },
         "name": "D",
         "nbinsx": 10,
         "opacity": 0.8,
         "orientation": "v",
         "type": "histogram",
         "x": [
          -0.21411274271333836,
          0.3713237974686019,
          1.0182433694657855,
          -0.9809308780644594,
          0.11681415896180601,
          0.056113925932592144,
          1.038143121639036,
          -0.3092977150883147,
          -0.5433729141065714,
          -1.3196508208765234,
          -0.25708061763812173,
          0.0037782350897909234,
          -0.2662763824170066,
          0.0768552484861571,
          -0.9055776501046975,
          -1.0036356624024152,
          -2.97083366912784,
          0.6983562301131403,
          -0.21374284452706516,
          0.8684627325918218,
          -0.1861796533340893,
          0.8116072183269627,
          0.2479167382445622,
          -1.6149889045131847,
          1.1122405866650933,
          -0.035202215333426747,
          0.9464088148430557,
          -2.06551088435252,
          1.8003719420270903,
          1.3589645300664823,
          2.813029349767026,
          -1.0659002960154034,
          -1.144289714564388,
          -0.24400458589547835,
          0.07156212349079402,
          2.6239711417649914,
          0.7262306311124471,
          -2.0178252387141296,
          0.9910007039302287,
          -0.52634820628823,
          1.502801479836207,
          -2.5371826122745182,
          0.46687136410253677,
          0.3188656785987697,
          0.7699121598333447,
          0.15187763606796495,
          0.2793597819924499,
          1.3263442544398758,
          -0.7936811937701996,
          -0.15393616151120165,
          0.05520688739259033,
          -1.8565385606752336,
          -0.32172545332466196,
          0.5038075164847766,
          -1.9177966894565226,
          0.9632920973705353,
          1.3563311373052924,
          0.34447531381624724,
          -0.4413867171527908,
          -0.956840945349693,
          -0.3893814338755863,
          -1.1579619966744505,
          -0.8886867830976829,
          -1.5514639240822634,
          -1.2843476076274045,
          1.256439946960209,
          0.4571796955089669,
          -0.6352941465719506,
          -0.01840227830138182,
          0.012149583965205024,
          -0.7139596600384576,
          -2.2073603980461756,
          -0.3769142907166705,
          -1.1530851450231299,
          0.6545482159160557,
          -1.419920770287892,
          0.7929584155525694,
          0.9508711081337505,
          0.6127102026962786,
          0.05790749951701337,
          -0.4669327658980801,
          -0.06445765660094958,
          0.08303432679820061,
          0.7832095356792245,
          0.29008929899966,
          0.9489372515059938,
          -1.8221105051652147,
          0.25122468116482677,
          -0.688314804778081,
          1.090724486112609,
          -0.5553079114238013,
          0.782352967608839,
          0.21959952494655974,
          -0.7372885183735969,
          0.8495989359274342,
          0.9781385987871037,
          1.229655208571755,
          1.3868570877160415,
          0.8665666205235594,
          1.6780863864864783
         ],
         "xaxis": "x16",
         "yaxis": "y16"
        }
       ],
       "layout": {
        "bargap": 0.02,
        "legend": {
         "bgcolor": "#F5F6F9",
         "font": {
          "color": "#4D5663"
         }
        },
        "paper_bgcolor": "#F5F6F9",
        "plot_bgcolor": "#F5F6F9",
        "showlegend": false,
        "template": {
         "data": {
          "bar": [
           {
            "error_x": {
             "color": "#2a3f5f"
            },
            "error_y": {
             "color": "#2a3f5f"
            },
            "marker": {
             "line": {
              "color": "#E5ECF6",
              "width": 0.5
             }
            },
            "type": "bar"
           }
          ],
          "barpolar": [
           {
            "marker": {
             "line": {
              "color": "#E5ECF6",
              "width": 0.5
             }
            },
            "type": "barpolar"
           }
          ],
          "carpet": [
           {
            "aaxis": {
             "endlinecolor": "#2a3f5f",
             "gridcolor": "white",
             "linecolor": "white",
             "minorgridcolor": "white",
             "startlinecolor": "#2a3f5f"
            },
            "baxis": {
             "endlinecolor": "#2a3f5f",
             "gridcolor": "white",
             "linecolor": "white",
             "minorgridcolor": "white",
             "startlinecolor": "#2a3f5f"
            },
            "type": "carpet"
           }
          ],
          "choropleth": [
           {
            "colorbar": {
             "outlinewidth": 0,
             "ticks": ""
            },
            "type": "choropleth"
           }
          ],
          "contour": [
           {
            "colorbar": {
             "outlinewidth": 0,
             "ticks": ""
            },
            "colorscale": [
             [
              0,
              "#0d0887"
             ],
             [
              0.1111111111111111,
              "#46039f"
             ],
             [
              0.2222222222222222,
              "#7201a8"
             ],
             [
              0.3333333333333333,
              "#9c179e"
             ],
             [
              0.4444444444444444,
              "#bd3786"
             ],
             [
              0.5555555555555556,
              "#d8576b"
             ],
             [
              0.6666666666666666,
              "#ed7953"
             ],
             [
              0.7777777777777778,
              "#fb9f3a"
             ],
             [
              0.8888888888888888,
              "#fdca26"
             ],
             [
              1,
              "#f0f921"
             ]
            ],
            "type": "contour"
           }
          ],
          "contourcarpet": [
           {
            "colorbar": {
             "outlinewidth": 0,
             "ticks": ""
            },
            "type": "contourcarpet"
           }
          ],
          "heatmap": [
           {
            "colorbar": {
             "outlinewidth": 0,
             "ticks": ""
            },
            "colorscale": [
             [
              0,
              "#0d0887"
             ],
             [
              0.1111111111111111,
              "#46039f"
             ],
             [
              0.2222222222222222,
              "#7201a8"
             ],
             [
              0.3333333333333333,
              "#9c179e"
             ],
             [
              0.4444444444444444,
              "#bd3786"
             ],
             [
              0.5555555555555556,
              "#d8576b"
             ],
             [
              0.6666666666666666,
              "#ed7953"
             ],
             [
              0.7777777777777778,
              "#fb9f3a"
             ],
             [
              0.8888888888888888,
              "#fdca26"
             ],
             [
              1,
              "#f0f921"
             ]
            ],
            "type": "heatmap"
           }
          ],
          "heatmapgl": [
           {
            "colorbar": {
             "outlinewidth": 0,
             "ticks": ""
            },
            "colorscale": [
             [
              0,
              "#0d0887"
             ],
             [
              0.1111111111111111,
              "#46039f"
             ],
             [
              0.2222222222222222,
              "#7201a8"
             ],
             [
              0.3333333333333333,
              "#9c179e"
             ],
             [
              0.4444444444444444,
              "#bd3786"
             ],
             [
              0.5555555555555556,
              "#d8576b"
             ],
             [
              0.6666666666666666,
              "#ed7953"
             ],
             [
              0.7777777777777778,
              "#fb9f3a"
             ],
             [
              0.8888888888888888,
              "#fdca26"
             ],
             [
              1,
              "#f0f921"
             ]
            ],
            "type": "heatmapgl"
           }
          ],
          "histogram": [
           {
            "marker": {
             "colorbar": {
              "outlinewidth": 0,
              "ticks": ""
             }
            },
            "type": "histogram"
           }
          ],
          "histogram2d": [
           {
            "colorbar": {
             "outlinewidth": 0,
             "ticks": ""
            },
            "colorscale": [
             [
              0,
              "#0d0887"
             ],
             [
              0.1111111111111111,
              "#46039f"
             ],
             [
              0.2222222222222222,
              "#7201a8"
             ],
             [
              0.3333333333333333,
              "#9c179e"
             ],
             [
              0.4444444444444444,
              "#bd3786"
             ],
             [
              0.5555555555555556,
              "#d8576b"
             ],
             [
              0.6666666666666666,
              "#ed7953"
             ],
             [
              0.7777777777777778,
              "#fb9f3a"
             ],
             [
              0.8888888888888888,
              "#fdca26"
             ],
             [
              1,
              "#f0f921"
             ]
            ],
            "type": "histogram2d"
           }
          ],
          "histogram2dcontour": [
           {
            "colorbar": {
             "outlinewidth": 0,
             "ticks": ""
            },
            "colorscale": [
             [
              0,
              "#0d0887"
             ],
             [
              0.1111111111111111,
              "#46039f"
             ],
             [
              0.2222222222222222,
              "#7201a8"
             ],
             [
              0.3333333333333333,
              "#9c179e"
             ],
             [
              0.4444444444444444,
              "#bd3786"
             ],
             [
              0.5555555555555556,
              "#d8576b"
             ],
             [
              0.6666666666666666,
              "#ed7953"
             ],
             [
              0.7777777777777778,
              "#fb9f3a"
             ],
             [
              0.8888888888888888,
              "#fdca26"
             ],
             [
              1,
              "#f0f921"
             ]
            ],
            "type": "histogram2dcontour"
           }
          ],
          "mesh3d": [
           {
            "colorbar": {
             "outlinewidth": 0,
             "ticks": ""
            },
            "type": "mesh3d"
           }
          ],
          "parcoords": [
           {
            "line": {
             "colorbar": {
              "outlinewidth": 0,
              "ticks": ""
             }
            },
            "type": "parcoords"
           }
          ],
          "pie": [
           {
            "automargin": true,
            "type": "pie"
           }
          ],
          "scatter": [
           {
            "marker": {
             "colorbar": {
              "outlinewidth": 0,
              "ticks": ""
             }
            },
            "type": "scatter"
           }
          ],
          "scatter3d": [
           {
            "line": {
             "colorbar": {
              "outlinewidth": 0,
              "ticks": ""
             }
            },
            "marker": {
             "colorbar": {
              "outlinewidth": 0,
              "ticks": ""
             }
            },
            "type": "scatter3d"
           }
          ],
          "scattercarpet": [
           {
            "marker": {
             "colorbar": {
              "outlinewidth": 0,
              "ticks": ""
             }
            },
            "type": "scattercarpet"
           }
          ],
          "scattergeo": [
           {
            "marker": {
             "colorbar": {
              "outlinewidth": 0,
              "ticks": ""
             }
            },
            "type": "scattergeo"
           }
          ],
          "scattergl": [
           {
            "marker": {
             "colorbar": {
              "outlinewidth": 0,
              "ticks": ""
             }
            },
            "type": "scattergl"
           }
          ],
          "scattermapbox": [
           {
            "marker": {
             "colorbar": {
              "outlinewidth": 0,
              "ticks": ""
             }
            },
            "type": "scattermapbox"
           }
          ],
          "scatterpolar": [
           {
            "marker": {
             "colorbar": {
              "outlinewidth": 0,
              "ticks": ""
             }
            },
            "type": "scatterpolar"
           }
          ],
          "scatterpolargl": [
           {
            "marker": {
             "colorbar": {
              "outlinewidth": 0,
              "ticks": ""
             }
            },
            "type": "scatterpolargl"
           }
          ],
          "scatterternary": [
           {
            "marker": {
             "colorbar": {
              "outlinewidth": 0,
              "ticks": ""
             }
            },
            "type": "scatterternary"
           }
          ],
          "surface": [
           {
            "colorbar": {
             "outlinewidth": 0,
             "ticks": ""
            },
            "colorscale": [
             [
              0,
              "#0d0887"
             ],
             [
              0.1111111111111111,
              "#46039f"
             ],
             [
              0.2222222222222222,
              "#7201a8"
             ],
             [
              0.3333333333333333,
              "#9c179e"
             ],
             [
              0.4444444444444444,
              "#bd3786"
             ],
             [
              0.5555555555555556,
              "#d8576b"
             ],
             [
              0.6666666666666666,
              "#ed7953"
             ],
             [
              0.7777777777777778,
              "#fb9f3a"
             ],
             [
              0.8888888888888888,
              "#fdca26"
             ],
             [
              1,
              "#f0f921"
             ]
            ],
            "type": "surface"
           }
          ],
          "table": [
           {
            "cells": {
             "fill": {
              "color": "#EBF0F8"
             },
             "line": {
              "color": "white"
             }
            },
            "header": {
             "fill": {
              "color": "#C8D4E3"
             },
             "line": {
              "color": "white"
             }
            },
            "type": "table"
           }
          ]
         },
         "layout": {
          "annotationdefaults": {
           "arrowcolor": "#2a3f5f",
           "arrowhead": 0,
           "arrowwidth": 1
          },
          "coloraxis": {
           "colorbar": {
            "outlinewidth": 0,
            "ticks": ""
           }
          },
          "colorscale": {
           "diverging": [
            [
             0,
             "#8e0152"
            ],
            [
             0.1,
             "#c51b7d"
            ],
            [
             0.2,
             "#de77ae"
            ],
            [
             0.3,
             "#f1b6da"
            ],
            [
             0.4,
             "#fde0ef"
            ],
            [
             0.5,
             "#f7f7f7"
            ],
            [
             0.6,
             "#e6f5d0"
            ],
            [
             0.7,
             "#b8e186"
            ],
            [
             0.8,
             "#7fbc41"
            ],
            [
             0.9,
             "#4d9221"
            ],
            [
             1,
             "#276419"
            ]
           ],
           "sequential": [
            [
             0,
             "#0d0887"
            ],
            [
             0.1111111111111111,
             "#46039f"
            ],
            [
             0.2222222222222222,
             "#7201a8"
            ],
            [
             0.3333333333333333,
             "#9c179e"
            ],
            [
             0.4444444444444444,
             "#bd3786"
            ],
            [
             0.5555555555555556,
             "#d8576b"
            ],
            [
             0.6666666666666666,
             "#ed7953"
            ],
            [
             0.7777777777777778,
             "#fb9f3a"
            ],
            [
             0.8888888888888888,
             "#fdca26"
            ],
            [
             1,
             "#f0f921"
            ]
           ],
           "sequentialminus": [
            [
             0,
             "#0d0887"
            ],
            [
             0.1111111111111111,
             "#46039f"
            ],
            [
             0.2222222222222222,
             "#7201a8"
            ],
            [
             0.3333333333333333,
             "#9c179e"
            ],
            [
             0.4444444444444444,
             "#bd3786"
            ],
            [
             0.5555555555555556,
             "#d8576b"
            ],
            [
             0.6666666666666666,
             "#ed7953"
            ],
            [
             0.7777777777777778,
             "#fb9f3a"
            ],
            [
             0.8888888888888888,
             "#fdca26"
            ],
            [
             1,
             "#f0f921"
            ]
           ]
          },
          "colorway": [
           "#636efa",
           "#EF553B",
           "#00cc96",
           "#ab63fa",
           "#FFA15A",
           "#19d3f3",
           "#FF6692",
           "#B6E880",
           "#FF97FF",
           "#FECB52"
          ],
          "font": {
           "color": "#2a3f5f"
          },
          "geo": {
           "bgcolor": "white",
           "lakecolor": "white",
           "landcolor": "#E5ECF6",
           "showlakes": true,
           "showland": true,
           "subunitcolor": "white"
          },
          "hoverlabel": {
           "align": "left"
          },
          "hovermode": "closest",
          "mapbox": {
           "style": "light"
          },
          "paper_bgcolor": "white",
          "plot_bgcolor": "#E5ECF6",
          "polar": {
           "angularaxis": {
            "gridcolor": "white",
            "linecolor": "white",
            "ticks": ""
           },
           "bgcolor": "#E5ECF6",
           "radialaxis": {
            "gridcolor": "white",
            "linecolor": "white",
            "ticks": ""
           }
          },
          "scene": {
           "xaxis": {
            "backgroundcolor": "#E5ECF6",
            "gridcolor": "white",
            "gridwidth": 2,
            "linecolor": "white",
            "showbackground": true,
            "ticks": "",
            "zerolinecolor": "white"
           },
           "yaxis": {
            "backgroundcolor": "#E5ECF6",
            "gridcolor": "white",
            "gridwidth": 2,
            "linecolor": "white",
            "showbackground": true,
            "ticks": "",
            "zerolinecolor": "white"
           },
           "zaxis": {
            "backgroundcolor": "#E5ECF6",
            "gridcolor": "white",
            "gridwidth": 2,
            "linecolor": "white",
            "showbackground": true,
            "ticks": "",
            "zerolinecolor": "white"
           }
          },
          "shapedefaults": {
           "line": {
            "color": "#2a3f5f"
           }
          },
          "ternary": {
           "aaxis": {
            "gridcolor": "white",
            "linecolor": "white",
            "ticks": ""
           },
           "baxis": {
            "gridcolor": "white",
            "linecolor": "white",
            "ticks": ""
           },
           "bgcolor": "#E5ECF6",
           "caxis": {
            "gridcolor": "white",
            "linecolor": "white",
            "ticks": ""
           }
          },
          "title": {
           "x": 0.05
          },
          "xaxis": {
           "automargin": true,
           "gridcolor": "white",
           "linecolor": "white",
           "ticks": "",
           "title": {
            "standoff": 15
           },
           "zerolinecolor": "white",
           "zerolinewidth": 2
          },
          "yaxis": {
           "automargin": true,
           "gridcolor": "white",
           "linecolor": "white",
           "ticks": "",
           "title": {
            "standoff": 15
           },
           "zerolinecolor": "white",
           "zerolinewidth": 2
          }
         }
        },
        "title": {
         "font": {
          "color": "#4D5663"
         }
        },
        "xaxis": {
         "anchor": "y",
         "domain": [
          0,
          0.2125
         ],
         "gridcolor": "#E1E5ED",
         "showgrid": false,
         "tickfont": {
          "color": "#4D5663"
         },
         "title": {
          "font": {
           "color": "#4D5663"
          },
          "text": ""
         },
         "zerolinecolor": "#E1E5ED"
        },
        "xaxis10": {
         "anchor": "y10",
         "domain": [
          0.2625,
          0.475
         ],
         "gridcolor": "#E1E5ED",
         "showgrid": false,
         "tickfont": {
          "color": "#4D5663"
         },
         "title": {
          "font": {
           "color": "#4D5663"
          },
          "text": ""
         },
         "zerolinecolor": "#E1E5ED"
        },
        "xaxis11": {
         "anchor": "y11",
         "domain": [
          0.525,
          0.7375
         ],
         "gridcolor": "#E1E5ED",
         "showgrid": false,
         "tickfont": {
          "color": "#4D5663"
         },
         "title": {
          "font": {
           "color": "#4D5663"
          },
          "text": ""
         },
         "zerolinecolor": "#E1E5ED"
        },
        "xaxis12": {
         "anchor": "y12",
         "domain": [
          0.7875,
          1
         ],
         "gridcolor": "#E1E5ED",
         "showgrid": false,
         "tickfont": {
          "color": "#4D5663"
         },
         "title": {
          "font": {
           "color": "#4D5663"
          },
          "text": ""
         },
         "zerolinecolor": "#E1E5ED"
        },
        "xaxis13": {
         "anchor": "y13",
         "domain": [
          0,
          0.2125
         ],
         "gridcolor": "#E1E5ED",
         "showgrid": false,
         "tickfont": {
          "color": "#4D5663"
         },
         "title": {
          "font": {
           "color": "#4D5663"
          },
          "text": ""
         },
         "zerolinecolor": "#E1E5ED"
        },
        "xaxis14": {
         "anchor": "y14",
         "domain": [
          0.2625,
          0.475
         ],
         "gridcolor": "#E1E5ED",
         "showgrid": false,
         "tickfont": {
          "color": "#4D5663"
         },
         "title": {
          "font": {
           "color": "#4D5663"
          },
          "text": ""
         },
         "zerolinecolor": "#E1E5ED"
        },
        "xaxis15": {
         "anchor": "y15",
         "domain": [
          0.525,
          0.7375
         ],
         "gridcolor": "#E1E5ED",
         "showgrid": false,
         "tickfont": {
          "color": "#4D5663"
         },
         "title": {
          "font": {
           "color": "#4D5663"
          },
          "text": ""
         },
         "zerolinecolor": "#E1E5ED"
        },
        "xaxis16": {
         "anchor": "y16",
         "domain": [
          0.7875,
          1
         ],
         "gridcolor": "#E1E5ED",
         "showgrid": false,
         "tickfont": {
          "color": "#4D5663"
         },
         "title": {
          "font": {
           "color": "#4D5663"
          },
          "text": ""
         },
         "zerolinecolor": "#E1E5ED"
        },
        "xaxis2": {
         "anchor": "y2",
         "domain": [
          0.2625,
          0.475
         ],
         "gridcolor": "#E1E5ED",
         "showgrid": false,
         "tickfont": {
          "color": "#4D5663"
         },
         "title": {
          "font": {
           "color": "#4D5663"
          },
          "text": ""
         },
         "zerolinecolor": "#E1E5ED"
        },
        "xaxis3": {
         "anchor": "y3",
         "domain": [
          0.525,
          0.7375
         ],
         "gridcolor": "#E1E5ED",
         "showgrid": false,
         "tickfont": {
          "color": "#4D5663"
         },
         "title": {
          "font": {
           "color": "#4D5663"
          },
          "text": ""
         },
         "zerolinecolor": "#E1E5ED"
        },
        "xaxis4": {
         "anchor": "y4",
         "domain": [
          0.7875,
          1
         ],
         "gridcolor": "#E1E5ED",
         "showgrid": false,
         "tickfont": {
          "color": "#4D5663"
         },
         "title": {
          "font": {
           "color": "#4D5663"
          },
          "text": ""
         },
         "zerolinecolor": "#E1E5ED"
        },
        "xaxis5": {
         "anchor": "y5",
         "domain": [
          0,
          0.2125
         ],
         "gridcolor": "#E1E5ED",
         "showgrid": false,
         "tickfont": {
          "color": "#4D5663"
         },
         "title": {
          "font": {
           "color": "#4D5663"
          },
          "text": ""
         },
         "zerolinecolor": "#E1E5ED"
        },
        "xaxis6": {
         "anchor": "y6",
         "domain": [
          0.2625,
          0.475
         ],
         "gridcolor": "#E1E5ED",
         "showgrid": false,
         "tickfont": {
          "color": "#4D5663"
         },
         "title": {
          "font": {
           "color": "#4D5663"
          },
          "text": ""
         },
         "zerolinecolor": "#E1E5ED"
        },
        "xaxis7": {
         "anchor": "y7",
         "domain": [
          0.525,
          0.7375
         ],
         "gridcolor": "#E1E5ED",
         "showgrid": false,
         "tickfont": {
          "color": "#4D5663"
         },
         "title": {
          "font": {
           "color": "#4D5663"
          },
          "text": ""
         },
         "zerolinecolor": "#E1E5ED"
        },
        "xaxis8": {
         "anchor": "y8",
         "domain": [
          0.7875,
          1
         ],
         "gridcolor": "#E1E5ED",
         "showgrid": false,
         "tickfont": {
          "color": "#4D5663"
         },
         "title": {
          "font": {
           "color": "#4D5663"
          },
          "text": ""
         },
         "zerolinecolor": "#E1E5ED"
        },
        "xaxis9": {
         "anchor": "y9",
         "domain": [
          0,
          0.2125
         ],
         "gridcolor": "#E1E5ED",
         "showgrid": false,
         "tickfont": {
          "color": "#4D5663"
         },
         "title": {
          "font": {
           "color": "#4D5663"
          },
          "text": ""
         },
         "zerolinecolor": "#E1E5ED"
        },
        "yaxis": {
         "anchor": "x",
         "domain": [
          0.8025,
          1
         ],
         "gridcolor": "#E1E5ED",
         "showgrid": false,
         "tickfont": {
          "color": "#4D5663"
         },
         "title": {
          "font": {
           "color": "#4D5663"
          },
          "text": ""
         },
         "zerolinecolor": "#E1E5ED"
        },
        "yaxis10": {
         "anchor": "x10",
         "domain": [
          0.2675,
          0.465
         ],
         "gridcolor": "#E1E5ED",
         "showgrid": false,
         "tickfont": {
          "color": "#4D5663"
         },
         "title": {
          "font": {
           "color": "#4D5663"
          },
          "text": ""
         },
         "zerolinecolor": "#E1E5ED"
        },
        "yaxis11": {
         "anchor": "x11",
         "domain": [
          0.2675,
          0.465
         ],
         "gridcolor": "#E1E5ED",
         "showgrid": false,
         "tickfont": {
          "color": "#4D5663"
         },
         "title": {
          "font": {
           "color": "#4D5663"
          },
          "text": ""
         },
         "zerolinecolor": "#E1E5ED"
        },
        "yaxis12": {
         "anchor": "x12",
         "domain": [
          0.2675,
          0.465
         ],
         "gridcolor": "#E1E5ED",
         "showgrid": false,
         "tickfont": {
          "color": "#4D5663"
         },
         "title": {
          "font": {
           "color": "#4D5663"
          },
          "text": ""
         },
         "zerolinecolor": "#E1E5ED"
        },
        "yaxis13": {
         "anchor": "x13",
         "domain": [
          0,
          0.1975
         ],
         "gridcolor": "#E1E5ED",
         "showgrid": false,
         "tickfont": {
          "color": "#4D5663"
         },
         "title": {
          "font": {
           "color": "#4D5663"
          },
          "text": ""
         },
         "zerolinecolor": "#E1E5ED"
        },
        "yaxis14": {
         "anchor": "x14",
         "domain": [
          0,
          0.1975
         ],
         "gridcolor": "#E1E5ED",
         "showgrid": false,
         "tickfont": {
          "color": "#4D5663"
         },
         "title": {
          "font": {
           "color": "#4D5663"
          },
          "text": ""
         },
         "zerolinecolor": "#E1E5ED"
        },
        "yaxis15": {
         "anchor": "x15",
         "domain": [
          0,
          0.1975
         ],
         "gridcolor": "#E1E5ED",
         "showgrid": false,
         "tickfont": {
          "color": "#4D5663"
         },
         "title": {
          "font": {
           "color": "#4D5663"
          },
          "text": ""
         },
         "zerolinecolor": "#E1E5ED"
        },
        "yaxis16": {
         "anchor": "x16",
         "domain": [
          0,
          0.1975
         ],
         "gridcolor": "#E1E5ED",
         "showgrid": false,
         "tickfont": {
          "color": "#4D5663"
         },
         "title": {
          "font": {
           "color": "#4D5663"
          },
          "text": ""
         },
         "zerolinecolor": "#E1E5ED"
        },
        "yaxis2": {
         "anchor": "x2",
         "domain": [
          0.8025,
          1
         ],
         "gridcolor": "#E1E5ED",
         "showgrid": false,
         "tickfont": {
          "color": "#4D5663"
         },
         "title": {
          "font": {
           "color": "#4D5663"
          },
          "text": ""
         },
         "zerolinecolor": "#E1E5ED"
        },
        "yaxis3": {
         "anchor": "x3",
         "domain": [
          0.8025,
          1
         ],
         "gridcolor": "#E1E5ED",
         "showgrid": false,
         "tickfont": {
          "color": "#4D5663"
         },
         "title": {
          "font": {
           "color": "#4D5663"
          },
          "text": ""
         },
         "zerolinecolor": "#E1E5ED"
        },
        "yaxis4": {
         "anchor": "x4",
         "domain": [
          0.8025,
          1
         ],
         "gridcolor": "#E1E5ED",
         "showgrid": false,
         "tickfont": {
          "color": "#4D5663"
         },
         "title": {
          "font": {
           "color": "#4D5663"
          },
          "text": ""
         },
         "zerolinecolor": "#E1E5ED"
        },
        "yaxis5": {
         "anchor": "x5",
         "domain": [
          0.535,
          0.7325
         ],
         "gridcolor": "#E1E5ED",
         "showgrid": false,
         "tickfont": {
          "color": "#4D5663"
         },
         "title": {
          "font": {
           "color": "#4D5663"
          },
          "text": ""
         },
         "zerolinecolor": "#E1E5ED"
        },
        "yaxis6": {
         "anchor": "x6",
         "domain": [
          0.535,
          0.7325
         ],
         "gridcolor": "#E1E5ED",
         "showgrid": false,
         "tickfont": {
          "color": "#4D5663"
         },
         "title": {
          "font": {
           "color": "#4D5663"
          },
          "text": ""
         },
         "zerolinecolor": "#E1E5ED"
        },
        "yaxis7": {
         "anchor": "x7",
         "domain": [
          0.535,
          0.7325
         ],
         "gridcolor": "#E1E5ED",
         "showgrid": false,
         "tickfont": {
          "color": "#4D5663"
         },
         "title": {
          "font": {
           "color": "#4D5663"
          },
          "text": ""
         },
         "zerolinecolor": "#E1E5ED"
        },
        "yaxis8": {
         "anchor": "x8",
         "domain": [
          0.535,
          0.7325
         ],
         "gridcolor": "#E1E5ED",
         "showgrid": false,
         "tickfont": {
          "color": "#4D5663"
         },
         "title": {
          "font": {
           "color": "#4D5663"
          },
          "text": ""
         },
         "zerolinecolor": "#E1E5ED"
        },
        "yaxis9": {
         "anchor": "x9",
         "domain": [
          0.2675,
          0.465
         ],
         "gridcolor": "#E1E5ED",
         "showgrid": false,
         "tickfont": {
          "color": "#4D5663"
         },
         "title": {
          "font": {
           "color": "#4D5663"
          },
          "text": ""
         },
         "zerolinecolor": "#E1E5ED"
        }
       }
      },
      "text/html": [
       "<div>\n",
       "        \n",
       "        \n",
       "            <div id=\"3dd7552f-36c5-4912-aadf-4344a4ec4e78\" class=\"plotly-graph-div\" style=\"height:525px; width:100%;\"></div>\n",
       "            <script type=\"text/javascript\">\n",
       "                require([\"plotly\"], function(Plotly) {\n",
       "                    window.PLOTLYENV=window.PLOTLYENV || {};\n",
       "                    window.PLOTLYENV.BASE_URL='https://plot.ly';\n",
       "                    \n",
       "                if (document.getElementById(\"3dd7552f-36c5-4912-aadf-4344a4ec4e78\")) {\n",
       "                    Plotly.newPlot(\n",
       "                        '3dd7552f-36c5-4912-aadf-4344a4ec4e78',\n",
       "                        [{\"histfunc\": \"count\", \"histnorm\": \"\", \"marker\": {\"color\": \"rgba(255, 153, 51, 1.0)\", \"line\": {\"color\": \"#4D5663\", \"width\": 1.3}}, \"name\": \"A\", \"nbinsx\": 10, \"opacity\": 0.8, \"orientation\": \"v\", \"type\": \"histogram\", \"x\": [-1.316509150580487, 0.6567439213089783, -1.2117246351490527, -0.7795197648889394, -1.3086898864866376, 1.1530168155654092, 0.13998590336540567, -0.11056327817001697, 1.7537011117105172, 0.8810323955893713, 0.10541010497618351, 1.011575063785946, 2.1228749009656473, -0.3075112722036564, 1.038681885646689, -0.6319853146199059, 2.2189715728894632, -1.4770145042427665, -0.153470368878263, -0.18727900695016553, 1.9078574381220432, 1.0499974193565844, 0.46542902797864877, -0.6260746672943875, -0.03689923737424436, -1.0944391791639074, 1.2481303879716057, 0.09959660652843288, 0.057031069351861356, -1.4176608242708042, 0.27913325253238075, 0.8782737897274759, -3.3361675913751814, -0.3611118893203861, 0.9042067738977311, 1.0392994720741469, 0.3020476385379728, -1.10241740023384, 0.6679332094321817, 0.2603822989676794, 0.45894985553075557, -0.011014647071094298, -1.2018062699942935, -1.288958573508946, -0.6602935547316192, 0.559523528635203, 0.9105335102135964, 0.9007433046119707, -0.8788546818988332, 1.2187402667118685, -0.3162671648927026, 0.9555369947525019, 0.8331485196348947, 0.5643353781041094, 0.9456632663673213, -0.16924653010990728, -2.8385553526488563, 0.4385338754031157, 2.050375616692176, -0.5957780568198906, -0.6391337028422326, 0.04999693554916875, -0.9905604339917498, 0.7126128257249994, 1.623879844150366, 0.7439398470037102, -1.4338603239722083, 0.4223377380195463, 0.7047789877639619, 1.2997906440556526, 1.1377795006181677, -0.37982037981568656, -0.8183289865038762, 2.1150365234629778, -1.6315774177580455, 1.557670994327429, 0.27435834635581113, -0.2020660134299496, 0.6622294003232192, -0.7507187976400996, 1.6841078411643216, 0.15725059523555834, 0.20403175525934233, -0.10228075446346539, -0.45075758084417217, 0.23398092630605663, 0.7020994443457834, -1.372013643107886, -0.830234550415995, 1.0471754048685615, 0.2791516597674779, 0.8073438839758672, -1.1840786596386352, -1.2438633167946165, 0.6711553346045185, -1.05947273041682, -0.21268450772722713, -0.7716616231268543, -0.6618813607239717, -0.7691251660875101], \"xaxis\": \"x\", \"yaxis\": \"y\"}, {\"line\": {\"color\": \"rgba(128, 128, 128, 1.0)\", \"dash\": \"solid\", \"shape\": \"linear\", \"width\": 1.3}, \"marker\": {\"size\": 2, \"symbol\": \"circle\"}, \"mode\": \"markers\", \"name\": \"A\", \"text\": \"\", \"type\": \"scatter\", \"x\": [0.5322209261277865, -0.3400805111723466, 1.1360868917232188, -0.382712079815374, -0.0882949780014785, -0.0035050460034809156, 1.2200036262631462, 0.20708725596394534, 0.24518777378961107, -0.9614960463159214, -0.18007055388579998, 1.693862038729409, 0.6880732306303996, -1.2237783345460118, 1.5778919118755526, -0.9399074605700591, 0.6502179718500561, 0.13984189631979266, 0.3902474711235353, 0.79574378145543, -0.3187089447730361, 1.7756327287360203, 0.11176970117547803, 1.1026687785809492, 1.2655186137877001, 2.631604659518769, 0.38632232634692665, 0.3918662734991667, -0.10269538819221184, 2.1050347354372656, -0.14728435081334065, 1.5928813916980802, -0.5640139867574012, -0.7625416520561131, 0.6299238973321293, 1.5259003230423187, 0.4556062123964385, -0.2699051707997322, 1.023416758001027, 0.8544257864781147, -0.2113121282276364, -0.9889838291299777, 0.6101685589425011, 0.01886452624200072, -0.9135960987704975, -0.01725436138227997, -0.7802532086851106, -0.37672890325294733, -2.152350636544527, -1.1683993670480606, 1.263532324992662, 0.312038748908657, 0.7780507500386404, 0.041471470158138804, -0.6020767411671846, 0.6249868830012129, 0.5405277670128545, -1.1176579751594906, -1.433072594514869, 1.8835573786822821, 1.2676267128436596, 0.18179383715069097, -0.6708996716626628, -0.8696775484368037, 0.1348973926892778, 0.12074046939337874, -0.4243922156902889, 0.346367856345538, 1.0526808565699703, -0.9373139607993218, -0.4420468917330237, 0.585751073752487, -0.22025857587135528, 0.48580639571538037, 1.1910452374445943, -0.8409995659483239, 1.2713211278296752, 0.6122183465394152, -0.3626153112574866, -0.9046816910222284, 1.492899576359809, -0.19437622093277626, -0.17496285589028385, 1.1661687648674532, -0.702440894291958, -0.9991504450455196, 1.015268304294555, -0.41527919626977905, 1.286684649424407, 1.0739953772854123, -0.5703063513870817, 1.039240915811815, 0.8877143919613583, 0.864296717575613, -0.26344490511936275, 0.2117153057332679, -1.5890334789342004, 1.1071474916095139, 0.04231235469678529, -0.5264821907576022], \"xaxis\": \"x2\", \"y\": [-1.316509150580487, 0.6567439213089783, -1.2117246351490527, -0.7795197648889394, -1.3086898864866376, 1.1530168155654092, 0.13998590336540567, -0.11056327817001697, 1.7537011117105172, 0.8810323955893713, 0.10541010497618351, 1.011575063785946, 2.1228749009656473, -0.3075112722036564, 1.038681885646689, -0.6319853146199059, 2.2189715728894632, -1.4770145042427665, -0.153470368878263, -0.18727900695016553, 1.9078574381220432, 1.0499974193565844, 0.46542902797864877, -0.6260746672943875, -0.03689923737424436, -1.0944391791639074, 1.2481303879716057, 0.09959660652843288, 0.057031069351861356, -1.4176608242708042, 0.27913325253238075, 0.8782737897274759, -3.3361675913751814, -0.3611118893203861, 0.9042067738977311, 1.0392994720741469, 0.3020476385379728, -1.10241740023384, 0.6679332094321817, 0.2603822989676794, 0.45894985553075557, -0.011014647071094298, -1.2018062699942935, -1.288958573508946, -0.6602935547316192, 0.559523528635203, 0.9105335102135964, 0.9007433046119707, -0.8788546818988332, 1.2187402667118685, -0.3162671648927026, 0.9555369947525019, 0.8331485196348947, 0.5643353781041094, 0.9456632663673213, -0.16924653010990728, -2.8385553526488563, 0.4385338754031157, 2.050375616692176, -0.5957780568198906, -0.6391337028422326, 0.04999693554916875, -0.9905604339917498, 0.7126128257249994, 1.623879844150366, 0.7439398470037102, -1.4338603239722083, 0.4223377380195463, 0.7047789877639619, 1.2997906440556526, 1.1377795006181677, -0.37982037981568656, -0.8183289865038762, 2.1150365234629778, -1.6315774177580455, 1.557670994327429, 0.27435834635581113, -0.2020660134299496, 0.6622294003232192, -0.7507187976400996, 1.6841078411643216, 0.15725059523555834, 0.20403175525934233, -0.10228075446346539, -0.45075758084417217, 0.23398092630605663, 0.7020994443457834, -1.372013643107886, -0.830234550415995, 1.0471754048685615, 0.2791516597674779, 0.8073438839758672, -1.1840786596386352, -1.2438633167946165, 0.6711553346045185, -1.05947273041682, -0.21268450772722713, -0.7716616231268543, -0.6618813607239717, -0.7691251660875101], \"yaxis\": \"y2\"}, {\"line\": {\"color\": \"rgba(128, 128, 128, 1.0)\", \"dash\": \"solid\", \"shape\": \"linear\", \"width\": 1.3}, \"marker\": {\"size\": 2, \"symbol\": \"circle\"}, \"mode\": \"markers\", \"name\": \"A\", \"text\": \"\", \"type\": \"scatter\", \"x\": [-0.4426627042361103, -0.6399050472784629, 0.07358865068267394, -0.3091615362420584, -2.1105700846068247, -0.6987203494266411, 1.9987205565156225, -0.6497007420309667, 0.20538307212912799, 0.8983335644172407, 0.26287310136750575, 0.6107851851136252, -1.4363662311890355, 0.36206337951561535, -0.2298673448032176, 0.2265768162296731, 0.8249414689110565, -0.8416150285488005, -0.6309024477119458, -0.12020366953750442, -0.2008317397881813, 1.3158989235166834, -0.47561387029975616, 0.3692948659360093, -0.5097988799863549, -0.38238868688924915, -1.5443771107613438, 0.9322307087276408, -0.6038157686699996, 0.10854617372161343, 0.4078863543497139, -0.5974480890593209, 1.7927302989916816, -0.27167329817764774, -0.10515729655119894, 1.5046224508092376, 1.2765081652015136, 0.018901514535407556, -0.6981007178938509, 0.2996256016902793, 2.182783994787281, -0.8517021573495922, -0.6851326623649174, 1.503361473348288, -0.10553912688797204, 0.14975795420926277, 0.49007051098713633, 1.7947033295356172, -0.5715585020270864, -0.2381385005439792, -0.6997641418699387, 0.11917893539522223, 0.06952016281575028, 0.3275008663147888, -0.4215140848008329, -0.9496352371350686, -1.0980805451800228, 0.6125067193912569, 0.1864624725803467, -0.15136469674670028, 2.5960378688935712, 0.8593240545880897, 0.9587487407168636, 0.8607656944499196, -0.3765156391993082, -1.2186616142210775, 0.5178747433876127, -0.9975677063910462, -1.1910852286017317, -0.14787487928866896, -1.8047146319904626, 1.4712403371794966, -0.06781497409294958, -1.34104990666472, -0.10306844664005434, -0.6344963461811047, 0.9199220068790146, 0.5874686040801018, 0.27268255431433663, 2.545739441802707, 0.6586714984006848, 1.224730402961586, -2.7085386943159473, 0.01301733171174009, -0.2629659802082384, 0.04500540665017078, -1.7927350814706264, 0.44346558844281037, -0.36485627916302865, 1.8799723626101896, 0.6079096307392652, -0.810251652556461, 0.28478379146553534, 1.364369493564619, -0.6796767191131572, 0.4878983532993825, -0.9801955125025105, 1.3857556767911223, 0.7150505765825546, 2.380938657712917], \"xaxis\": \"x3\", \"y\": [-1.316509150580487, 0.6567439213089783, -1.2117246351490527, -0.7795197648889394, -1.3086898864866376, 1.1530168155654092, 0.13998590336540567, -0.11056327817001697, 1.7537011117105172, 0.8810323955893713, 0.10541010497618351, 1.011575063785946, 2.1228749009656473, -0.3075112722036564, 1.038681885646689, -0.6319853146199059, 2.2189715728894632, -1.4770145042427665, -0.153470368878263, -0.18727900695016553, 1.9078574381220432, 1.0499974193565844, 0.46542902797864877, -0.6260746672943875, -0.03689923737424436, -1.0944391791639074, 1.2481303879716057, 0.09959660652843288, 0.057031069351861356, -1.4176608242708042, 0.27913325253238075, 0.8782737897274759, -3.3361675913751814, -0.3611118893203861, 0.9042067738977311, 1.0392994720741469, 0.3020476385379728, -1.10241740023384, 0.6679332094321817, 0.2603822989676794, 0.45894985553075557, -0.011014647071094298, -1.2018062699942935, -1.288958573508946, -0.6602935547316192, 0.559523528635203, 0.9105335102135964, 0.9007433046119707, -0.8788546818988332, 1.2187402667118685, -0.3162671648927026, 0.9555369947525019, 0.8331485196348947, 0.5643353781041094, 0.9456632663673213, -0.16924653010990728, -2.8385553526488563, 0.4385338754031157, 2.050375616692176, -0.5957780568198906, -0.6391337028422326, 0.04999693554916875, -0.9905604339917498, 0.7126128257249994, 1.623879844150366, 0.7439398470037102, -1.4338603239722083, 0.4223377380195463, 0.7047789877639619, 1.2997906440556526, 1.1377795006181677, -0.37982037981568656, -0.8183289865038762, 2.1150365234629778, -1.6315774177580455, 1.557670994327429, 0.27435834635581113, -0.2020660134299496, 0.6622294003232192, -0.7507187976400996, 1.6841078411643216, 0.15725059523555834, 0.20403175525934233, -0.10228075446346539, -0.45075758084417217, 0.23398092630605663, 0.7020994443457834, -1.372013643107886, -0.830234550415995, 1.0471754048685615, 0.2791516597674779, 0.8073438839758672, -1.1840786596386352, -1.2438633167946165, 0.6711553346045185, -1.05947273041682, -0.21268450772722713, -0.7716616231268543, -0.6618813607239717, -0.7691251660875101], \"yaxis\": \"y3\"}, {\"line\": {\"color\": \"rgba(128, 128, 128, 1.0)\", \"dash\": \"solid\", \"shape\": \"linear\", \"width\": 1.3}, \"marker\": {\"size\": 2, \"symbol\": \"circle\"}, \"mode\": \"markers\", \"name\": \"A\", \"text\": \"\", \"type\": \"scatter\", \"x\": [-0.21411274271333836, 0.3713237974686019, 1.0182433694657855, -0.9809308780644594, 0.11681415896180601, 0.056113925932592144, 1.038143121639036, -0.3092977150883147, -0.5433729141065714, -1.3196508208765234, -0.25708061763812173, 0.0037782350897909234, -0.2662763824170066, 0.0768552484861571, -0.9055776501046975, -1.0036356624024152, -2.97083366912784, 0.6983562301131403, -0.21374284452706516, 0.8684627325918218, -0.1861796533340893, 0.8116072183269627, 0.2479167382445622, -1.6149889045131847, 1.1122405866650933, -0.035202215333426747, 0.9464088148430557, -2.06551088435252, 1.8003719420270903, 1.3589645300664823, 2.813029349767026, -1.0659002960154034, -1.144289714564388, -0.24400458589547835, 0.07156212349079402, 2.6239711417649914, 0.7262306311124471, -2.0178252387141296, 0.9910007039302287, -0.52634820628823, 1.502801479836207, -2.5371826122745182, 0.46687136410253677, 0.3188656785987697, 0.7699121598333447, 0.15187763606796495, 0.2793597819924499, 1.3263442544398758, -0.7936811937701996, -0.15393616151120165, 0.05520688739259033, -1.8565385606752336, -0.32172545332466196, 0.5038075164847766, -1.9177966894565226, 0.9632920973705353, 1.3563311373052924, 0.34447531381624724, -0.4413867171527908, -0.956840945349693, -0.3893814338755863, -1.1579619966744505, -0.8886867830976829, -1.5514639240822634, -1.2843476076274045, 1.256439946960209, 0.4571796955089669, -0.6352941465719506, -0.01840227830138182, 0.012149583965205024, -0.7139596600384576, -2.2073603980461756, -0.3769142907166705, -1.1530851450231299, 0.6545482159160557, -1.419920770287892, 0.7929584155525694, 0.9508711081337505, 0.6127102026962786, 0.05790749951701337, -0.4669327658980801, -0.06445765660094958, 0.08303432679820061, 0.7832095356792245, 0.29008929899966, 0.9489372515059938, -1.8221105051652147, 0.25122468116482677, -0.688314804778081, 1.090724486112609, -0.5553079114238013, 0.782352967608839, 0.21959952494655974, -0.7372885183735969, 0.8495989359274342, 0.9781385987871037, 1.229655208571755, 1.3868570877160415, 0.8665666205235594, 1.6780863864864783], \"xaxis\": \"x4\", \"y\": [-1.316509150580487, 0.6567439213089783, -1.2117246351490527, -0.7795197648889394, -1.3086898864866376, 1.1530168155654092, 0.13998590336540567, -0.11056327817001697, 1.7537011117105172, 0.8810323955893713, 0.10541010497618351, 1.011575063785946, 2.1228749009656473, -0.3075112722036564, 1.038681885646689, -0.6319853146199059, 2.2189715728894632, -1.4770145042427665, -0.153470368878263, -0.18727900695016553, 1.9078574381220432, 1.0499974193565844, 0.46542902797864877, -0.6260746672943875, -0.03689923737424436, -1.0944391791639074, 1.2481303879716057, 0.09959660652843288, 0.057031069351861356, -1.4176608242708042, 0.27913325253238075, 0.8782737897274759, -3.3361675913751814, -0.3611118893203861, 0.9042067738977311, 1.0392994720741469, 0.3020476385379728, -1.10241740023384, 0.6679332094321817, 0.2603822989676794, 0.45894985553075557, -0.011014647071094298, -1.2018062699942935, -1.288958573508946, -0.6602935547316192, 0.559523528635203, 0.9105335102135964, 0.9007433046119707, -0.8788546818988332, 1.2187402667118685, -0.3162671648927026, 0.9555369947525019, 0.8331485196348947, 0.5643353781041094, 0.9456632663673213, -0.16924653010990728, -2.8385553526488563, 0.4385338754031157, 2.050375616692176, -0.5957780568198906, -0.6391337028422326, 0.04999693554916875, -0.9905604339917498, 0.7126128257249994, 1.623879844150366, 0.7439398470037102, -1.4338603239722083, 0.4223377380195463, 0.7047789877639619, 1.2997906440556526, 1.1377795006181677, -0.37982037981568656, -0.8183289865038762, 2.1150365234629778, -1.6315774177580455, 1.557670994327429, 0.27435834635581113, -0.2020660134299496, 0.6622294003232192, -0.7507187976400996, 1.6841078411643216, 0.15725059523555834, 0.20403175525934233, -0.10228075446346539, -0.45075758084417217, 0.23398092630605663, 0.7020994443457834, -1.372013643107886, -0.830234550415995, 1.0471754048685615, 0.2791516597674779, 0.8073438839758672, -1.1840786596386352, -1.2438633167946165, 0.6711553346045185, -1.05947273041682, -0.21268450772722713, -0.7716616231268543, -0.6618813607239717, -0.7691251660875101], \"yaxis\": \"y4\"}, {\"line\": {\"color\": \"rgba(128, 128, 128, 1.0)\", \"dash\": \"solid\", \"shape\": \"linear\", \"width\": 1.3}, \"marker\": {\"size\": 2, \"symbol\": \"circle\"}, \"mode\": \"markers\", \"name\": \"B\", \"text\": \"\", \"type\": \"scatter\", \"x\": [-1.316509150580487, 0.6567439213089783, -1.2117246351490527, -0.7795197648889394, -1.3086898864866376, 1.1530168155654092, 0.13998590336540567, -0.11056327817001697, 1.7537011117105172, 0.8810323955893713, 0.10541010497618351, 1.011575063785946, 2.1228749009656473, -0.3075112722036564, 1.038681885646689, -0.6319853146199059, 2.2189715728894632, -1.4770145042427665, -0.153470368878263, -0.18727900695016553, 1.9078574381220432, 1.0499974193565844, 0.46542902797864877, -0.6260746672943875, -0.03689923737424436, -1.0944391791639074, 1.2481303879716057, 0.09959660652843288, 0.057031069351861356, -1.4176608242708042, 0.27913325253238075, 0.8782737897274759, -3.3361675913751814, -0.3611118893203861, 0.9042067738977311, 1.0392994720741469, 0.3020476385379728, -1.10241740023384, 0.6679332094321817, 0.2603822989676794, 0.45894985553075557, -0.011014647071094298, -1.2018062699942935, -1.288958573508946, -0.6602935547316192, 0.559523528635203, 0.9105335102135964, 0.9007433046119707, -0.8788546818988332, 1.2187402667118685, -0.3162671648927026, 0.9555369947525019, 0.8331485196348947, 0.5643353781041094, 0.9456632663673213, -0.16924653010990728, -2.8385553526488563, 0.4385338754031157, 2.050375616692176, -0.5957780568198906, -0.6391337028422326, 0.04999693554916875, -0.9905604339917498, 0.7126128257249994, 1.623879844150366, 0.7439398470037102, -1.4338603239722083, 0.4223377380195463, 0.7047789877639619, 1.2997906440556526, 1.1377795006181677, -0.37982037981568656, -0.8183289865038762, 2.1150365234629778, -1.6315774177580455, 1.557670994327429, 0.27435834635581113, -0.2020660134299496, 0.6622294003232192, -0.7507187976400996, 1.6841078411643216, 0.15725059523555834, 0.20403175525934233, -0.10228075446346539, -0.45075758084417217, 0.23398092630605663, 0.7020994443457834, -1.372013643107886, -0.830234550415995, 1.0471754048685615, 0.2791516597674779, 0.8073438839758672, -1.1840786596386352, -1.2438633167946165, 0.6711553346045185, -1.05947273041682, -0.21268450772722713, -0.7716616231268543, -0.6618813607239717, -0.7691251660875101], \"xaxis\": \"x5\", \"y\": [0.5322209261277865, -0.3400805111723466, 1.1360868917232188, -0.382712079815374, -0.0882949780014785, -0.0035050460034809156, 1.2200036262631462, 0.20708725596394534, 0.24518777378961107, -0.9614960463159214, -0.18007055388579998, 1.693862038729409, 0.6880732306303996, -1.2237783345460118, 1.5778919118755526, -0.9399074605700591, 0.6502179718500561, 0.13984189631979266, 0.3902474711235353, 0.79574378145543, -0.3187089447730361, 1.7756327287360203, 0.11176970117547803, 1.1026687785809492, 1.2655186137877001, 2.631604659518769, 0.38632232634692665, 0.3918662734991667, -0.10269538819221184, 2.1050347354372656, -0.14728435081334065, 1.5928813916980802, -0.5640139867574012, -0.7625416520561131, 0.6299238973321293, 1.5259003230423187, 0.4556062123964385, -0.2699051707997322, 1.023416758001027, 0.8544257864781147, -0.2113121282276364, -0.9889838291299777, 0.6101685589425011, 0.01886452624200072, -0.9135960987704975, -0.01725436138227997, -0.7802532086851106, -0.37672890325294733, -2.152350636544527, -1.1683993670480606, 1.263532324992662, 0.312038748908657, 0.7780507500386404, 0.041471470158138804, -0.6020767411671846, 0.6249868830012129, 0.5405277670128545, -1.1176579751594906, -1.433072594514869, 1.8835573786822821, 1.2676267128436596, 0.18179383715069097, -0.6708996716626628, -0.8696775484368037, 0.1348973926892778, 0.12074046939337874, -0.4243922156902889, 0.346367856345538, 1.0526808565699703, -0.9373139607993218, -0.4420468917330237, 0.585751073752487, -0.22025857587135528, 0.48580639571538037, 1.1910452374445943, -0.8409995659483239, 1.2713211278296752, 0.6122183465394152, -0.3626153112574866, -0.9046816910222284, 1.492899576359809, -0.19437622093277626, -0.17496285589028385, 1.1661687648674532, -0.702440894291958, -0.9991504450455196, 1.015268304294555, -0.41527919626977905, 1.286684649424407, 1.0739953772854123, -0.5703063513870817, 1.039240915811815, 0.8877143919613583, 0.864296717575613, -0.26344490511936275, 0.2117153057332679, -1.5890334789342004, 1.1071474916095139, 0.04231235469678529, -0.5264821907576022], \"yaxis\": \"y5\"}, {\"histfunc\": \"count\", \"histnorm\": \"\", \"marker\": {\"color\": \"rgba(55, 128, 191, 1.0)\", \"line\": {\"color\": \"#4D5663\", \"width\": 1.3}}, \"name\": \"B\", \"nbinsx\": 10, \"opacity\": 0.8, \"orientation\": \"v\", \"type\": \"histogram\", \"x\": [0.5322209261277865, -0.3400805111723466, 1.1360868917232188, -0.382712079815374, -0.0882949780014785, -0.0035050460034809156, 1.2200036262631462, 0.20708725596394534, 0.24518777378961107, -0.9614960463159214, -0.18007055388579998, 1.693862038729409, 0.6880732306303996, -1.2237783345460118, 1.5778919118755526, -0.9399074605700591, 0.6502179718500561, 0.13984189631979266, 0.3902474711235353, 0.79574378145543, -0.3187089447730361, 1.7756327287360203, 0.11176970117547803, 1.1026687785809492, 1.2655186137877001, 2.631604659518769, 0.38632232634692665, 0.3918662734991667, -0.10269538819221184, 2.1050347354372656, -0.14728435081334065, 1.5928813916980802, -0.5640139867574012, -0.7625416520561131, 0.6299238973321293, 1.5259003230423187, 0.4556062123964385, -0.2699051707997322, 1.023416758001027, 0.8544257864781147, -0.2113121282276364, -0.9889838291299777, 0.6101685589425011, 0.01886452624200072, -0.9135960987704975, -0.01725436138227997, -0.7802532086851106, -0.37672890325294733, -2.152350636544527, -1.1683993670480606, 1.263532324992662, 0.312038748908657, 0.7780507500386404, 0.041471470158138804, -0.6020767411671846, 0.6249868830012129, 0.5405277670128545, -1.1176579751594906, -1.433072594514869, 1.8835573786822821, 1.2676267128436596, 0.18179383715069097, -0.6708996716626628, -0.8696775484368037, 0.1348973926892778, 0.12074046939337874, -0.4243922156902889, 0.346367856345538, 1.0526808565699703, -0.9373139607993218, -0.4420468917330237, 0.585751073752487, -0.22025857587135528, 0.48580639571538037, 1.1910452374445943, -0.8409995659483239, 1.2713211278296752, 0.6122183465394152, -0.3626153112574866, -0.9046816910222284, 1.492899576359809, -0.19437622093277626, -0.17496285589028385, 1.1661687648674532, -0.702440894291958, -0.9991504450455196, 1.015268304294555, -0.41527919626977905, 1.286684649424407, 1.0739953772854123, -0.5703063513870817, 1.039240915811815, 0.8877143919613583, 0.864296717575613, -0.26344490511936275, 0.2117153057332679, -1.5890334789342004, 1.1071474916095139, 0.04231235469678529, -0.5264821907576022], \"xaxis\": \"x6\", \"yaxis\": \"y6\"}, {\"line\": {\"color\": \"rgba(128, 128, 128, 1.0)\", \"dash\": \"solid\", \"shape\": \"linear\", \"width\": 1.3}, \"marker\": {\"size\": 2, \"symbol\": \"circle\"}, \"mode\": \"markers\", \"name\": \"B\", \"text\": \"\", \"type\": \"scatter\", \"x\": [-0.4426627042361103, -0.6399050472784629, 0.07358865068267394, -0.3091615362420584, -2.1105700846068247, -0.6987203494266411, 1.9987205565156225, -0.6497007420309667, 0.20538307212912799, 0.8983335644172407, 0.26287310136750575, 0.6107851851136252, -1.4363662311890355, 0.36206337951561535, -0.2298673448032176, 0.2265768162296731, 0.8249414689110565, -0.8416150285488005, -0.6309024477119458, -0.12020366953750442, -0.2008317397881813, 1.3158989235166834, -0.47561387029975616, 0.3692948659360093, -0.5097988799863549, -0.38238868688924915, -1.5443771107613438, 0.9322307087276408, -0.6038157686699996, 0.10854617372161343, 0.4078863543497139, -0.5974480890593209, 1.7927302989916816, -0.27167329817764774, -0.10515729655119894, 1.5046224508092376, 1.2765081652015136, 0.018901514535407556, -0.6981007178938509, 0.2996256016902793, 2.182783994787281, -0.8517021573495922, -0.6851326623649174, 1.503361473348288, -0.10553912688797204, 0.14975795420926277, 0.49007051098713633, 1.7947033295356172, -0.5715585020270864, -0.2381385005439792, -0.6997641418699387, 0.11917893539522223, 0.06952016281575028, 0.3275008663147888, -0.4215140848008329, -0.9496352371350686, -1.0980805451800228, 0.6125067193912569, 0.1864624725803467, -0.15136469674670028, 2.5960378688935712, 0.8593240545880897, 0.9587487407168636, 0.8607656944499196, -0.3765156391993082, -1.2186616142210775, 0.5178747433876127, -0.9975677063910462, -1.1910852286017317, -0.14787487928866896, -1.8047146319904626, 1.4712403371794966, -0.06781497409294958, -1.34104990666472, -0.10306844664005434, -0.6344963461811047, 0.9199220068790146, 0.5874686040801018, 0.27268255431433663, 2.545739441802707, 0.6586714984006848, 1.224730402961586, -2.7085386943159473, 0.01301733171174009, -0.2629659802082384, 0.04500540665017078, -1.7927350814706264, 0.44346558844281037, -0.36485627916302865, 1.8799723626101896, 0.6079096307392652, -0.810251652556461, 0.28478379146553534, 1.364369493564619, -0.6796767191131572, 0.4878983532993825, -0.9801955125025105, 1.3857556767911223, 0.7150505765825546, 2.380938657712917], \"xaxis\": \"x7\", \"y\": [0.5322209261277865, -0.3400805111723466, 1.1360868917232188, -0.382712079815374, -0.0882949780014785, -0.0035050460034809156, 1.2200036262631462, 0.20708725596394534, 0.24518777378961107, -0.9614960463159214, -0.18007055388579998, 1.693862038729409, 0.6880732306303996, -1.2237783345460118, 1.5778919118755526, -0.9399074605700591, 0.6502179718500561, 0.13984189631979266, 0.3902474711235353, 0.79574378145543, -0.3187089447730361, 1.7756327287360203, 0.11176970117547803, 1.1026687785809492, 1.2655186137877001, 2.631604659518769, 0.38632232634692665, 0.3918662734991667, -0.10269538819221184, 2.1050347354372656, -0.14728435081334065, 1.5928813916980802, -0.5640139867574012, -0.7625416520561131, 0.6299238973321293, 1.5259003230423187, 0.4556062123964385, -0.2699051707997322, 1.023416758001027, 0.8544257864781147, -0.2113121282276364, -0.9889838291299777, 0.6101685589425011, 0.01886452624200072, -0.9135960987704975, -0.01725436138227997, -0.7802532086851106, -0.37672890325294733, -2.152350636544527, -1.1683993670480606, 1.263532324992662, 0.312038748908657, 0.7780507500386404, 0.041471470158138804, -0.6020767411671846, 0.6249868830012129, 0.5405277670128545, -1.1176579751594906, -1.433072594514869, 1.8835573786822821, 1.2676267128436596, 0.18179383715069097, -0.6708996716626628, -0.8696775484368037, 0.1348973926892778, 0.12074046939337874, -0.4243922156902889, 0.346367856345538, 1.0526808565699703, -0.9373139607993218, -0.4420468917330237, 0.585751073752487, -0.22025857587135528, 0.48580639571538037, 1.1910452374445943, -0.8409995659483239, 1.2713211278296752, 0.6122183465394152, -0.3626153112574866, -0.9046816910222284, 1.492899576359809, -0.19437622093277626, -0.17496285589028385, 1.1661687648674532, -0.702440894291958, -0.9991504450455196, 1.015268304294555, -0.41527919626977905, 1.286684649424407, 1.0739953772854123, -0.5703063513870817, 1.039240915811815, 0.8877143919613583, 0.864296717575613, -0.26344490511936275, 0.2117153057332679, -1.5890334789342004, 1.1071474916095139, 0.04231235469678529, -0.5264821907576022], \"yaxis\": \"y7\"}, {\"line\": {\"color\": \"rgba(128, 128, 128, 1.0)\", \"dash\": \"solid\", \"shape\": \"linear\", \"width\": 1.3}, \"marker\": {\"size\": 2, \"symbol\": \"circle\"}, \"mode\": \"markers\", \"name\": \"B\", \"text\": \"\", \"type\": \"scatter\", \"x\": [-0.21411274271333836, 0.3713237974686019, 1.0182433694657855, -0.9809308780644594, 0.11681415896180601, 0.056113925932592144, 1.038143121639036, -0.3092977150883147, -0.5433729141065714, -1.3196508208765234, -0.25708061763812173, 0.0037782350897909234, -0.2662763824170066, 0.0768552484861571, -0.9055776501046975, -1.0036356624024152, -2.97083366912784, 0.6983562301131403, -0.21374284452706516, 0.8684627325918218, -0.1861796533340893, 0.8116072183269627, 0.2479167382445622, -1.6149889045131847, 1.1122405866650933, -0.035202215333426747, 0.9464088148430557, -2.06551088435252, 1.8003719420270903, 1.3589645300664823, 2.813029349767026, -1.0659002960154034, -1.144289714564388, -0.24400458589547835, 0.07156212349079402, 2.6239711417649914, 0.7262306311124471, -2.0178252387141296, 0.9910007039302287, -0.52634820628823, 1.502801479836207, -2.5371826122745182, 0.46687136410253677, 0.3188656785987697, 0.7699121598333447, 0.15187763606796495, 0.2793597819924499, 1.3263442544398758, -0.7936811937701996, -0.15393616151120165, 0.05520688739259033, -1.8565385606752336, -0.32172545332466196, 0.5038075164847766, -1.9177966894565226, 0.9632920973705353, 1.3563311373052924, 0.34447531381624724, -0.4413867171527908, -0.956840945349693, -0.3893814338755863, -1.1579619966744505, -0.8886867830976829, -1.5514639240822634, -1.2843476076274045, 1.256439946960209, 0.4571796955089669, -0.6352941465719506, -0.01840227830138182, 0.012149583965205024, -0.7139596600384576, -2.2073603980461756, -0.3769142907166705, -1.1530851450231299, 0.6545482159160557, -1.419920770287892, 0.7929584155525694, 0.9508711081337505, 0.6127102026962786, 0.05790749951701337, -0.4669327658980801, -0.06445765660094958, 0.08303432679820061, 0.7832095356792245, 0.29008929899966, 0.9489372515059938, -1.8221105051652147, 0.25122468116482677, -0.688314804778081, 1.090724486112609, -0.5553079114238013, 0.782352967608839, 0.21959952494655974, -0.7372885183735969, 0.8495989359274342, 0.9781385987871037, 1.229655208571755, 1.3868570877160415, 0.8665666205235594, 1.6780863864864783], \"xaxis\": \"x8\", \"y\": [0.5322209261277865, -0.3400805111723466, 1.1360868917232188, -0.382712079815374, -0.0882949780014785, -0.0035050460034809156, 1.2200036262631462, 0.20708725596394534, 0.24518777378961107, -0.9614960463159214, -0.18007055388579998, 1.693862038729409, 0.6880732306303996, -1.2237783345460118, 1.5778919118755526, -0.9399074605700591, 0.6502179718500561, 0.13984189631979266, 0.3902474711235353, 0.79574378145543, -0.3187089447730361, 1.7756327287360203, 0.11176970117547803, 1.1026687785809492, 1.2655186137877001, 2.631604659518769, 0.38632232634692665, 0.3918662734991667, -0.10269538819221184, 2.1050347354372656, -0.14728435081334065, 1.5928813916980802, -0.5640139867574012, -0.7625416520561131, 0.6299238973321293, 1.5259003230423187, 0.4556062123964385, -0.2699051707997322, 1.023416758001027, 0.8544257864781147, -0.2113121282276364, -0.9889838291299777, 0.6101685589425011, 0.01886452624200072, -0.9135960987704975, -0.01725436138227997, -0.7802532086851106, -0.37672890325294733, -2.152350636544527, -1.1683993670480606, 1.263532324992662, 0.312038748908657, 0.7780507500386404, 0.041471470158138804, -0.6020767411671846, 0.6249868830012129, 0.5405277670128545, -1.1176579751594906, -1.433072594514869, 1.8835573786822821, 1.2676267128436596, 0.18179383715069097, -0.6708996716626628, -0.8696775484368037, 0.1348973926892778, 0.12074046939337874, -0.4243922156902889, 0.346367856345538, 1.0526808565699703, -0.9373139607993218, -0.4420468917330237, 0.585751073752487, -0.22025857587135528, 0.48580639571538037, 1.1910452374445943, -0.8409995659483239, 1.2713211278296752, 0.6122183465394152, -0.3626153112574866, -0.9046816910222284, 1.492899576359809, -0.19437622093277626, -0.17496285589028385, 1.1661687648674532, -0.702440894291958, -0.9991504450455196, 1.015268304294555, -0.41527919626977905, 1.286684649424407, 1.0739953772854123, -0.5703063513870817, 1.039240915811815, 0.8877143919613583, 0.864296717575613, -0.26344490511936275, 0.2117153057332679, -1.5890334789342004, 1.1071474916095139, 0.04231235469678529, -0.5264821907576022], \"yaxis\": \"y8\"}, {\"line\": {\"color\": \"rgba(128, 128, 128, 1.0)\", \"dash\": \"solid\", \"shape\": \"linear\", \"width\": 1.3}, \"marker\": {\"size\": 2, \"symbol\": \"circle\"}, \"mode\": \"markers\", \"name\": \"C\", \"text\": \"\", \"type\": \"scatter\", \"x\": [-1.316509150580487, 0.6567439213089783, -1.2117246351490527, -0.7795197648889394, -1.3086898864866376, 1.1530168155654092, 0.13998590336540567, -0.11056327817001697, 1.7537011117105172, 0.8810323955893713, 0.10541010497618351, 1.011575063785946, 2.1228749009656473, -0.3075112722036564, 1.038681885646689, -0.6319853146199059, 2.2189715728894632, -1.4770145042427665, -0.153470368878263, -0.18727900695016553, 1.9078574381220432, 1.0499974193565844, 0.46542902797864877, -0.6260746672943875, -0.03689923737424436, -1.0944391791639074, 1.2481303879716057, 0.09959660652843288, 0.057031069351861356, -1.4176608242708042, 0.27913325253238075, 0.8782737897274759, -3.3361675913751814, -0.3611118893203861, 0.9042067738977311, 1.0392994720741469, 0.3020476385379728, -1.10241740023384, 0.6679332094321817, 0.2603822989676794, 0.45894985553075557, -0.011014647071094298, -1.2018062699942935, -1.288958573508946, -0.6602935547316192, 0.559523528635203, 0.9105335102135964, 0.9007433046119707, -0.8788546818988332, 1.2187402667118685, -0.3162671648927026, 0.9555369947525019, 0.8331485196348947, 0.5643353781041094, 0.9456632663673213, -0.16924653010990728, -2.8385553526488563, 0.4385338754031157, 2.050375616692176, -0.5957780568198906, -0.6391337028422326, 0.04999693554916875, -0.9905604339917498, 0.7126128257249994, 1.623879844150366, 0.7439398470037102, -1.4338603239722083, 0.4223377380195463, 0.7047789877639619, 1.2997906440556526, 1.1377795006181677, -0.37982037981568656, -0.8183289865038762, 2.1150365234629778, -1.6315774177580455, 1.557670994327429, 0.27435834635581113, -0.2020660134299496, 0.6622294003232192, -0.7507187976400996, 1.6841078411643216, 0.15725059523555834, 0.20403175525934233, -0.10228075446346539, -0.45075758084417217, 0.23398092630605663, 0.7020994443457834, -1.372013643107886, -0.830234550415995, 1.0471754048685615, 0.2791516597674779, 0.8073438839758672, -1.1840786596386352, -1.2438633167946165, 0.6711553346045185, -1.05947273041682, -0.21268450772722713, -0.7716616231268543, -0.6618813607239717, -0.7691251660875101], \"xaxis\": \"x9\", \"y\": [-0.4426627042361103, -0.6399050472784629, 0.07358865068267394, -0.3091615362420584, -2.1105700846068247, -0.6987203494266411, 1.9987205565156225, -0.6497007420309667, 0.20538307212912799, 0.8983335644172407, 0.26287310136750575, 0.6107851851136252, -1.4363662311890355, 0.36206337951561535, -0.2298673448032176, 0.2265768162296731, 0.8249414689110565, -0.8416150285488005, -0.6309024477119458, -0.12020366953750442, -0.2008317397881813, 1.3158989235166834, -0.47561387029975616, 0.3692948659360093, -0.5097988799863549, -0.38238868688924915, -1.5443771107613438, 0.9322307087276408, -0.6038157686699996, 0.10854617372161343, 0.4078863543497139, -0.5974480890593209, 1.7927302989916816, -0.27167329817764774, -0.10515729655119894, 1.5046224508092376, 1.2765081652015136, 0.018901514535407556, -0.6981007178938509, 0.2996256016902793, 2.182783994787281, -0.8517021573495922, -0.6851326623649174, 1.503361473348288, -0.10553912688797204, 0.14975795420926277, 0.49007051098713633, 1.7947033295356172, -0.5715585020270864, -0.2381385005439792, -0.6997641418699387, 0.11917893539522223, 0.06952016281575028, 0.3275008663147888, -0.4215140848008329, -0.9496352371350686, -1.0980805451800228, 0.6125067193912569, 0.1864624725803467, -0.15136469674670028, 2.5960378688935712, 0.8593240545880897, 0.9587487407168636, 0.8607656944499196, -0.3765156391993082, -1.2186616142210775, 0.5178747433876127, -0.9975677063910462, -1.1910852286017317, -0.14787487928866896, -1.8047146319904626, 1.4712403371794966, -0.06781497409294958, -1.34104990666472, -0.10306844664005434, -0.6344963461811047, 0.9199220068790146, 0.5874686040801018, 0.27268255431433663, 2.545739441802707, 0.6586714984006848, 1.224730402961586, -2.7085386943159473, 0.01301733171174009, -0.2629659802082384, 0.04500540665017078, -1.7927350814706264, 0.44346558844281037, -0.36485627916302865, 1.8799723626101896, 0.6079096307392652, -0.810251652556461, 0.28478379146553534, 1.364369493564619, -0.6796767191131572, 0.4878983532993825, -0.9801955125025105, 1.3857556767911223, 0.7150505765825546, 2.380938657712917], \"yaxis\": \"y9\"}, {\"line\": {\"color\": \"rgba(128, 128, 128, 1.0)\", \"dash\": \"solid\", \"shape\": \"linear\", \"width\": 1.3}, \"marker\": {\"size\": 2, \"symbol\": \"circle\"}, \"mode\": \"markers\", \"name\": \"C\", \"text\": \"\", \"type\": \"scatter\", \"x\": [0.5322209261277865, -0.3400805111723466, 1.1360868917232188, -0.382712079815374, -0.0882949780014785, -0.0035050460034809156, 1.2200036262631462, 0.20708725596394534, 0.24518777378961107, -0.9614960463159214, -0.18007055388579998, 1.693862038729409, 0.6880732306303996, -1.2237783345460118, 1.5778919118755526, -0.9399074605700591, 0.6502179718500561, 0.13984189631979266, 0.3902474711235353, 0.79574378145543, -0.3187089447730361, 1.7756327287360203, 0.11176970117547803, 1.1026687785809492, 1.2655186137877001, 2.631604659518769, 0.38632232634692665, 0.3918662734991667, -0.10269538819221184, 2.1050347354372656, -0.14728435081334065, 1.5928813916980802, -0.5640139867574012, -0.7625416520561131, 0.6299238973321293, 1.5259003230423187, 0.4556062123964385, -0.2699051707997322, 1.023416758001027, 0.8544257864781147, -0.2113121282276364, -0.9889838291299777, 0.6101685589425011, 0.01886452624200072, -0.9135960987704975, -0.01725436138227997, -0.7802532086851106, -0.37672890325294733, -2.152350636544527, -1.1683993670480606, 1.263532324992662, 0.312038748908657, 0.7780507500386404, 0.041471470158138804, -0.6020767411671846, 0.6249868830012129, 0.5405277670128545, -1.1176579751594906, -1.433072594514869, 1.8835573786822821, 1.2676267128436596, 0.18179383715069097, -0.6708996716626628, -0.8696775484368037, 0.1348973926892778, 0.12074046939337874, -0.4243922156902889, 0.346367856345538, 1.0526808565699703, -0.9373139607993218, -0.4420468917330237, 0.585751073752487, -0.22025857587135528, 0.48580639571538037, 1.1910452374445943, -0.8409995659483239, 1.2713211278296752, 0.6122183465394152, -0.3626153112574866, -0.9046816910222284, 1.492899576359809, -0.19437622093277626, -0.17496285589028385, 1.1661687648674532, -0.702440894291958, -0.9991504450455196, 1.015268304294555, -0.41527919626977905, 1.286684649424407, 1.0739953772854123, -0.5703063513870817, 1.039240915811815, 0.8877143919613583, 0.864296717575613, -0.26344490511936275, 0.2117153057332679, -1.5890334789342004, 1.1071474916095139, 0.04231235469678529, -0.5264821907576022], \"xaxis\": \"x10\", \"y\": [-0.4426627042361103, -0.6399050472784629, 0.07358865068267394, -0.3091615362420584, -2.1105700846068247, -0.6987203494266411, 1.9987205565156225, -0.6497007420309667, 0.20538307212912799, 0.8983335644172407, 0.26287310136750575, 0.6107851851136252, -1.4363662311890355, 0.36206337951561535, -0.2298673448032176, 0.2265768162296731, 0.8249414689110565, -0.8416150285488005, -0.6309024477119458, -0.12020366953750442, -0.2008317397881813, 1.3158989235166834, -0.47561387029975616, 0.3692948659360093, -0.5097988799863549, -0.38238868688924915, -1.5443771107613438, 0.9322307087276408, -0.6038157686699996, 0.10854617372161343, 0.4078863543497139, -0.5974480890593209, 1.7927302989916816, -0.27167329817764774, -0.10515729655119894, 1.5046224508092376, 1.2765081652015136, 0.018901514535407556, -0.6981007178938509, 0.2996256016902793, 2.182783994787281, -0.8517021573495922, -0.6851326623649174, 1.503361473348288, -0.10553912688797204, 0.14975795420926277, 0.49007051098713633, 1.7947033295356172, -0.5715585020270864, -0.2381385005439792, -0.6997641418699387, 0.11917893539522223, 0.06952016281575028, 0.3275008663147888, -0.4215140848008329, -0.9496352371350686, -1.0980805451800228, 0.6125067193912569, 0.1864624725803467, -0.15136469674670028, 2.5960378688935712, 0.8593240545880897, 0.9587487407168636, 0.8607656944499196, -0.3765156391993082, -1.2186616142210775, 0.5178747433876127, -0.9975677063910462, -1.1910852286017317, -0.14787487928866896, -1.8047146319904626, 1.4712403371794966, -0.06781497409294958, -1.34104990666472, -0.10306844664005434, -0.6344963461811047, 0.9199220068790146, 0.5874686040801018, 0.27268255431433663, 2.545739441802707, 0.6586714984006848, 1.224730402961586, -2.7085386943159473, 0.01301733171174009, -0.2629659802082384, 0.04500540665017078, -1.7927350814706264, 0.44346558844281037, -0.36485627916302865, 1.8799723626101896, 0.6079096307392652, -0.810251652556461, 0.28478379146553534, 1.364369493564619, -0.6796767191131572, 0.4878983532993825, -0.9801955125025105, 1.3857556767911223, 0.7150505765825546, 2.380938657712917], \"yaxis\": \"y10\"}, {\"histfunc\": \"count\", \"histnorm\": \"\", \"marker\": {\"color\": \"rgba(50, 171, 96, 1.0)\", \"line\": {\"color\": \"#4D5663\", \"width\": 1.3}}, \"name\": \"C\", \"nbinsx\": 10, \"opacity\": 0.8, \"orientation\": \"v\", \"type\": \"histogram\", \"x\": [-0.4426627042361103, -0.6399050472784629, 0.07358865068267394, -0.3091615362420584, -2.1105700846068247, -0.6987203494266411, 1.9987205565156225, -0.6497007420309667, 0.20538307212912799, 0.8983335644172407, 0.26287310136750575, 0.6107851851136252, -1.4363662311890355, 0.36206337951561535, -0.2298673448032176, 0.2265768162296731, 0.8249414689110565, -0.8416150285488005, -0.6309024477119458, -0.12020366953750442, -0.2008317397881813, 1.3158989235166834, -0.47561387029975616, 0.3692948659360093, -0.5097988799863549, -0.38238868688924915, -1.5443771107613438, 0.9322307087276408, -0.6038157686699996, 0.10854617372161343, 0.4078863543497139, -0.5974480890593209, 1.7927302989916816, -0.27167329817764774, -0.10515729655119894, 1.5046224508092376, 1.2765081652015136, 0.018901514535407556, -0.6981007178938509, 0.2996256016902793, 2.182783994787281, -0.8517021573495922, -0.6851326623649174, 1.503361473348288, -0.10553912688797204, 0.14975795420926277, 0.49007051098713633, 1.7947033295356172, -0.5715585020270864, -0.2381385005439792, -0.6997641418699387, 0.11917893539522223, 0.06952016281575028, 0.3275008663147888, -0.4215140848008329, -0.9496352371350686, -1.0980805451800228, 0.6125067193912569, 0.1864624725803467, -0.15136469674670028, 2.5960378688935712, 0.8593240545880897, 0.9587487407168636, 0.8607656944499196, -0.3765156391993082, -1.2186616142210775, 0.5178747433876127, -0.9975677063910462, -1.1910852286017317, -0.14787487928866896, -1.8047146319904626, 1.4712403371794966, -0.06781497409294958, -1.34104990666472, -0.10306844664005434, -0.6344963461811047, 0.9199220068790146, 0.5874686040801018, 0.27268255431433663, 2.545739441802707, 0.6586714984006848, 1.224730402961586, -2.7085386943159473, 0.01301733171174009, -0.2629659802082384, 0.04500540665017078, -1.7927350814706264, 0.44346558844281037, -0.36485627916302865, 1.8799723626101896, 0.6079096307392652, -0.810251652556461, 0.28478379146553534, 1.364369493564619, -0.6796767191131572, 0.4878983532993825, -0.9801955125025105, 1.3857556767911223, 0.7150505765825546, 2.380938657712917], \"xaxis\": \"x11\", \"yaxis\": \"y11\"}, {\"line\": {\"color\": \"rgba(128, 128, 128, 1.0)\", \"dash\": \"solid\", \"shape\": \"linear\", \"width\": 1.3}, \"marker\": {\"size\": 2, \"symbol\": \"circle\"}, \"mode\": \"markers\", \"name\": \"C\", \"text\": \"\", \"type\": \"scatter\", \"x\": [-0.21411274271333836, 0.3713237974686019, 1.0182433694657855, -0.9809308780644594, 0.11681415896180601, 0.056113925932592144, 1.038143121639036, -0.3092977150883147, -0.5433729141065714, -1.3196508208765234, -0.25708061763812173, 0.0037782350897909234, -0.2662763824170066, 0.0768552484861571, -0.9055776501046975, -1.0036356624024152, -2.97083366912784, 0.6983562301131403, -0.21374284452706516, 0.8684627325918218, -0.1861796533340893, 0.8116072183269627, 0.2479167382445622, -1.6149889045131847, 1.1122405866650933, -0.035202215333426747, 0.9464088148430557, -2.06551088435252, 1.8003719420270903, 1.3589645300664823, 2.813029349767026, -1.0659002960154034, -1.144289714564388, -0.24400458589547835, 0.07156212349079402, 2.6239711417649914, 0.7262306311124471, -2.0178252387141296, 0.9910007039302287, -0.52634820628823, 1.502801479836207, -2.5371826122745182, 0.46687136410253677, 0.3188656785987697, 0.7699121598333447, 0.15187763606796495, 0.2793597819924499, 1.3263442544398758, -0.7936811937701996, -0.15393616151120165, 0.05520688739259033, -1.8565385606752336, -0.32172545332466196, 0.5038075164847766, -1.9177966894565226, 0.9632920973705353, 1.3563311373052924, 0.34447531381624724, -0.4413867171527908, -0.956840945349693, -0.3893814338755863, -1.1579619966744505, -0.8886867830976829, -1.5514639240822634, -1.2843476076274045, 1.256439946960209, 0.4571796955089669, -0.6352941465719506, -0.01840227830138182, 0.012149583965205024, -0.7139596600384576, -2.2073603980461756, -0.3769142907166705, -1.1530851450231299, 0.6545482159160557, -1.419920770287892, 0.7929584155525694, 0.9508711081337505, 0.6127102026962786, 0.05790749951701337, -0.4669327658980801, -0.06445765660094958, 0.08303432679820061, 0.7832095356792245, 0.29008929899966, 0.9489372515059938, -1.8221105051652147, 0.25122468116482677, -0.688314804778081, 1.090724486112609, -0.5553079114238013, 0.782352967608839, 0.21959952494655974, -0.7372885183735969, 0.8495989359274342, 0.9781385987871037, 1.229655208571755, 1.3868570877160415, 0.8665666205235594, 1.6780863864864783], \"xaxis\": \"x12\", \"y\": [-0.4426627042361103, -0.6399050472784629, 0.07358865068267394, -0.3091615362420584, -2.1105700846068247, -0.6987203494266411, 1.9987205565156225, -0.6497007420309667, 0.20538307212912799, 0.8983335644172407, 0.26287310136750575, 0.6107851851136252, -1.4363662311890355, 0.36206337951561535, -0.2298673448032176, 0.2265768162296731, 0.8249414689110565, -0.8416150285488005, -0.6309024477119458, -0.12020366953750442, -0.2008317397881813, 1.3158989235166834, -0.47561387029975616, 0.3692948659360093, -0.5097988799863549, -0.38238868688924915, -1.5443771107613438, 0.9322307087276408, -0.6038157686699996, 0.10854617372161343, 0.4078863543497139, -0.5974480890593209, 1.7927302989916816, -0.27167329817764774, -0.10515729655119894, 1.5046224508092376, 1.2765081652015136, 0.018901514535407556, -0.6981007178938509, 0.2996256016902793, 2.182783994787281, -0.8517021573495922, -0.6851326623649174, 1.503361473348288, -0.10553912688797204, 0.14975795420926277, 0.49007051098713633, 1.7947033295356172, -0.5715585020270864, -0.2381385005439792, -0.6997641418699387, 0.11917893539522223, 0.06952016281575028, 0.3275008663147888, -0.4215140848008329, -0.9496352371350686, -1.0980805451800228, 0.6125067193912569, 0.1864624725803467, -0.15136469674670028, 2.5960378688935712, 0.8593240545880897, 0.9587487407168636, 0.8607656944499196, -0.3765156391993082, -1.2186616142210775, 0.5178747433876127, -0.9975677063910462, -1.1910852286017317, -0.14787487928866896, -1.8047146319904626, 1.4712403371794966, -0.06781497409294958, -1.34104990666472, -0.10306844664005434, -0.6344963461811047, 0.9199220068790146, 0.5874686040801018, 0.27268255431433663, 2.545739441802707, 0.6586714984006848, 1.224730402961586, -2.7085386943159473, 0.01301733171174009, -0.2629659802082384, 0.04500540665017078, -1.7927350814706264, 0.44346558844281037, -0.36485627916302865, 1.8799723626101896, 0.6079096307392652, -0.810251652556461, 0.28478379146553534, 1.364369493564619, -0.6796767191131572, 0.4878983532993825, -0.9801955125025105, 1.3857556767911223, 0.7150505765825546, 2.380938657712917], \"yaxis\": \"y12\"}, {\"line\": {\"color\": \"rgba(128, 128, 128, 1.0)\", \"dash\": \"solid\", \"shape\": \"linear\", \"width\": 1.3}, \"marker\": {\"size\": 2, \"symbol\": \"circle\"}, \"mode\": \"markers\", \"name\": \"D\", \"text\": \"\", \"type\": \"scatter\", \"x\": [-1.316509150580487, 0.6567439213089783, -1.2117246351490527, -0.7795197648889394, -1.3086898864866376, 1.1530168155654092, 0.13998590336540567, -0.11056327817001697, 1.7537011117105172, 0.8810323955893713, 0.10541010497618351, 1.011575063785946, 2.1228749009656473, -0.3075112722036564, 1.038681885646689, -0.6319853146199059, 2.2189715728894632, -1.4770145042427665, -0.153470368878263, -0.18727900695016553, 1.9078574381220432, 1.0499974193565844, 0.46542902797864877, -0.6260746672943875, -0.03689923737424436, -1.0944391791639074, 1.2481303879716057, 0.09959660652843288, 0.057031069351861356, -1.4176608242708042, 0.27913325253238075, 0.8782737897274759, -3.3361675913751814, -0.3611118893203861, 0.9042067738977311, 1.0392994720741469, 0.3020476385379728, -1.10241740023384, 0.6679332094321817, 0.2603822989676794, 0.45894985553075557, -0.011014647071094298, -1.2018062699942935, -1.288958573508946, -0.6602935547316192, 0.559523528635203, 0.9105335102135964, 0.9007433046119707, -0.8788546818988332, 1.2187402667118685, -0.3162671648927026, 0.9555369947525019, 0.8331485196348947, 0.5643353781041094, 0.9456632663673213, -0.16924653010990728, -2.8385553526488563, 0.4385338754031157, 2.050375616692176, -0.5957780568198906, -0.6391337028422326, 0.04999693554916875, -0.9905604339917498, 0.7126128257249994, 1.623879844150366, 0.7439398470037102, -1.4338603239722083, 0.4223377380195463, 0.7047789877639619, 1.2997906440556526, 1.1377795006181677, -0.37982037981568656, -0.8183289865038762, 2.1150365234629778, -1.6315774177580455, 1.557670994327429, 0.27435834635581113, -0.2020660134299496, 0.6622294003232192, -0.7507187976400996, 1.6841078411643216, 0.15725059523555834, 0.20403175525934233, -0.10228075446346539, -0.45075758084417217, 0.23398092630605663, 0.7020994443457834, -1.372013643107886, -0.830234550415995, 1.0471754048685615, 0.2791516597674779, 0.8073438839758672, -1.1840786596386352, -1.2438633167946165, 0.6711553346045185, -1.05947273041682, -0.21268450772722713, -0.7716616231268543, -0.6618813607239717, -0.7691251660875101], \"xaxis\": \"x13\", \"y\": [-0.21411274271333836, 0.3713237974686019, 1.0182433694657855, -0.9809308780644594, 0.11681415896180601, 0.056113925932592144, 1.038143121639036, -0.3092977150883147, -0.5433729141065714, -1.3196508208765234, -0.25708061763812173, 0.0037782350897909234, -0.2662763824170066, 0.0768552484861571, -0.9055776501046975, -1.0036356624024152, -2.97083366912784, 0.6983562301131403, -0.21374284452706516, 0.8684627325918218, -0.1861796533340893, 0.8116072183269627, 0.2479167382445622, -1.6149889045131847, 1.1122405866650933, -0.035202215333426747, 0.9464088148430557, -2.06551088435252, 1.8003719420270903, 1.3589645300664823, 2.813029349767026, -1.0659002960154034, -1.144289714564388, -0.24400458589547835, 0.07156212349079402, 2.6239711417649914, 0.7262306311124471, -2.0178252387141296, 0.9910007039302287, -0.52634820628823, 1.502801479836207, -2.5371826122745182, 0.46687136410253677, 0.3188656785987697, 0.7699121598333447, 0.15187763606796495, 0.2793597819924499, 1.3263442544398758, -0.7936811937701996, -0.15393616151120165, 0.05520688739259033, -1.8565385606752336, -0.32172545332466196, 0.5038075164847766, -1.9177966894565226, 0.9632920973705353, 1.3563311373052924, 0.34447531381624724, -0.4413867171527908, -0.956840945349693, -0.3893814338755863, -1.1579619966744505, -0.8886867830976829, -1.5514639240822634, -1.2843476076274045, 1.256439946960209, 0.4571796955089669, -0.6352941465719506, -0.01840227830138182, 0.012149583965205024, -0.7139596600384576, -2.2073603980461756, -0.3769142907166705, -1.1530851450231299, 0.6545482159160557, -1.419920770287892, 0.7929584155525694, 0.9508711081337505, 0.6127102026962786, 0.05790749951701337, -0.4669327658980801, -0.06445765660094958, 0.08303432679820061, 0.7832095356792245, 0.29008929899966, 0.9489372515059938, -1.8221105051652147, 0.25122468116482677, -0.688314804778081, 1.090724486112609, -0.5553079114238013, 0.782352967608839, 0.21959952494655974, -0.7372885183735969, 0.8495989359274342, 0.9781385987871037, 1.229655208571755, 1.3868570877160415, 0.8665666205235594, 1.6780863864864783], \"yaxis\": \"y13\"}, {\"line\": {\"color\": \"rgba(128, 128, 128, 1.0)\", \"dash\": \"solid\", \"shape\": \"linear\", \"width\": 1.3}, \"marker\": {\"size\": 2, \"symbol\": \"circle\"}, \"mode\": \"markers\", \"name\": \"D\", \"text\": \"\", \"type\": \"scatter\", \"x\": [0.5322209261277865, -0.3400805111723466, 1.1360868917232188, -0.382712079815374, -0.0882949780014785, -0.0035050460034809156, 1.2200036262631462, 0.20708725596394534, 0.24518777378961107, -0.9614960463159214, -0.18007055388579998, 1.693862038729409, 0.6880732306303996, -1.2237783345460118, 1.5778919118755526, -0.9399074605700591, 0.6502179718500561, 0.13984189631979266, 0.3902474711235353, 0.79574378145543, -0.3187089447730361, 1.7756327287360203, 0.11176970117547803, 1.1026687785809492, 1.2655186137877001, 2.631604659518769, 0.38632232634692665, 0.3918662734991667, -0.10269538819221184, 2.1050347354372656, -0.14728435081334065, 1.5928813916980802, -0.5640139867574012, -0.7625416520561131, 0.6299238973321293, 1.5259003230423187, 0.4556062123964385, -0.2699051707997322, 1.023416758001027, 0.8544257864781147, -0.2113121282276364, -0.9889838291299777, 0.6101685589425011, 0.01886452624200072, -0.9135960987704975, -0.01725436138227997, -0.7802532086851106, -0.37672890325294733, -2.152350636544527, -1.1683993670480606, 1.263532324992662, 0.312038748908657, 0.7780507500386404, 0.041471470158138804, -0.6020767411671846, 0.6249868830012129, 0.5405277670128545, -1.1176579751594906, -1.433072594514869, 1.8835573786822821, 1.2676267128436596, 0.18179383715069097, -0.6708996716626628, -0.8696775484368037, 0.1348973926892778, 0.12074046939337874, -0.4243922156902889, 0.346367856345538, 1.0526808565699703, -0.9373139607993218, -0.4420468917330237, 0.585751073752487, -0.22025857587135528, 0.48580639571538037, 1.1910452374445943, -0.8409995659483239, 1.2713211278296752, 0.6122183465394152, -0.3626153112574866, -0.9046816910222284, 1.492899576359809, -0.19437622093277626, -0.17496285589028385, 1.1661687648674532, -0.702440894291958, -0.9991504450455196, 1.015268304294555, -0.41527919626977905, 1.286684649424407, 1.0739953772854123, -0.5703063513870817, 1.039240915811815, 0.8877143919613583, 0.864296717575613, -0.26344490511936275, 0.2117153057332679, -1.5890334789342004, 1.1071474916095139, 0.04231235469678529, -0.5264821907576022], \"xaxis\": \"x14\", \"y\": [-0.21411274271333836, 0.3713237974686019, 1.0182433694657855, -0.9809308780644594, 0.11681415896180601, 0.056113925932592144, 1.038143121639036, -0.3092977150883147, -0.5433729141065714, -1.3196508208765234, -0.25708061763812173, 0.0037782350897909234, -0.2662763824170066, 0.0768552484861571, -0.9055776501046975, -1.0036356624024152, -2.97083366912784, 0.6983562301131403, -0.21374284452706516, 0.8684627325918218, -0.1861796533340893, 0.8116072183269627, 0.2479167382445622, -1.6149889045131847, 1.1122405866650933, -0.035202215333426747, 0.9464088148430557, -2.06551088435252, 1.8003719420270903, 1.3589645300664823, 2.813029349767026, -1.0659002960154034, -1.144289714564388, -0.24400458589547835, 0.07156212349079402, 2.6239711417649914, 0.7262306311124471, -2.0178252387141296, 0.9910007039302287, -0.52634820628823, 1.502801479836207, -2.5371826122745182, 0.46687136410253677, 0.3188656785987697, 0.7699121598333447, 0.15187763606796495, 0.2793597819924499, 1.3263442544398758, -0.7936811937701996, -0.15393616151120165, 0.05520688739259033, -1.8565385606752336, -0.32172545332466196, 0.5038075164847766, -1.9177966894565226, 0.9632920973705353, 1.3563311373052924, 0.34447531381624724, -0.4413867171527908, -0.956840945349693, -0.3893814338755863, -1.1579619966744505, -0.8886867830976829, -1.5514639240822634, -1.2843476076274045, 1.256439946960209, 0.4571796955089669, -0.6352941465719506, -0.01840227830138182, 0.012149583965205024, -0.7139596600384576, -2.2073603980461756, -0.3769142907166705, -1.1530851450231299, 0.6545482159160557, -1.419920770287892, 0.7929584155525694, 0.9508711081337505, 0.6127102026962786, 0.05790749951701337, -0.4669327658980801, -0.06445765660094958, 0.08303432679820061, 0.7832095356792245, 0.29008929899966, 0.9489372515059938, -1.8221105051652147, 0.25122468116482677, -0.688314804778081, 1.090724486112609, -0.5553079114238013, 0.782352967608839, 0.21959952494655974, -0.7372885183735969, 0.8495989359274342, 0.9781385987871037, 1.229655208571755, 1.3868570877160415, 0.8665666205235594, 1.6780863864864783], \"yaxis\": \"y14\"}, {\"line\": {\"color\": \"rgba(128, 128, 128, 1.0)\", \"dash\": \"solid\", \"shape\": \"linear\", \"width\": 1.3}, \"marker\": {\"size\": 2, \"symbol\": \"circle\"}, \"mode\": \"markers\", \"name\": \"D\", \"text\": \"\", \"type\": \"scatter\", \"x\": [-0.4426627042361103, -0.6399050472784629, 0.07358865068267394, -0.3091615362420584, -2.1105700846068247, -0.6987203494266411, 1.9987205565156225, -0.6497007420309667, 0.20538307212912799, 0.8983335644172407, 0.26287310136750575, 0.6107851851136252, -1.4363662311890355, 0.36206337951561535, -0.2298673448032176, 0.2265768162296731, 0.8249414689110565, -0.8416150285488005, -0.6309024477119458, -0.12020366953750442, -0.2008317397881813, 1.3158989235166834, -0.47561387029975616, 0.3692948659360093, -0.5097988799863549, -0.38238868688924915, -1.5443771107613438, 0.9322307087276408, -0.6038157686699996, 0.10854617372161343, 0.4078863543497139, -0.5974480890593209, 1.7927302989916816, -0.27167329817764774, -0.10515729655119894, 1.5046224508092376, 1.2765081652015136, 0.018901514535407556, -0.6981007178938509, 0.2996256016902793, 2.182783994787281, -0.8517021573495922, -0.6851326623649174, 1.503361473348288, -0.10553912688797204, 0.14975795420926277, 0.49007051098713633, 1.7947033295356172, -0.5715585020270864, -0.2381385005439792, -0.6997641418699387, 0.11917893539522223, 0.06952016281575028, 0.3275008663147888, -0.4215140848008329, -0.9496352371350686, -1.0980805451800228, 0.6125067193912569, 0.1864624725803467, -0.15136469674670028, 2.5960378688935712, 0.8593240545880897, 0.9587487407168636, 0.8607656944499196, -0.3765156391993082, -1.2186616142210775, 0.5178747433876127, -0.9975677063910462, -1.1910852286017317, -0.14787487928866896, -1.8047146319904626, 1.4712403371794966, -0.06781497409294958, -1.34104990666472, -0.10306844664005434, -0.6344963461811047, 0.9199220068790146, 0.5874686040801018, 0.27268255431433663, 2.545739441802707, 0.6586714984006848, 1.224730402961586, -2.7085386943159473, 0.01301733171174009, -0.2629659802082384, 0.04500540665017078, -1.7927350814706264, 0.44346558844281037, -0.36485627916302865, 1.8799723626101896, 0.6079096307392652, -0.810251652556461, 0.28478379146553534, 1.364369493564619, -0.6796767191131572, 0.4878983532993825, -0.9801955125025105, 1.3857556767911223, 0.7150505765825546, 2.380938657712917], \"xaxis\": \"x15\", \"y\": [-0.21411274271333836, 0.3713237974686019, 1.0182433694657855, -0.9809308780644594, 0.11681415896180601, 0.056113925932592144, 1.038143121639036, -0.3092977150883147, -0.5433729141065714, -1.3196508208765234, -0.25708061763812173, 0.0037782350897909234, -0.2662763824170066, 0.0768552484861571, -0.9055776501046975, -1.0036356624024152, -2.97083366912784, 0.6983562301131403, -0.21374284452706516, 0.8684627325918218, -0.1861796533340893, 0.8116072183269627, 0.2479167382445622, -1.6149889045131847, 1.1122405866650933, -0.035202215333426747, 0.9464088148430557, -2.06551088435252, 1.8003719420270903, 1.3589645300664823, 2.813029349767026, -1.0659002960154034, -1.144289714564388, -0.24400458589547835, 0.07156212349079402, 2.6239711417649914, 0.7262306311124471, -2.0178252387141296, 0.9910007039302287, -0.52634820628823, 1.502801479836207, -2.5371826122745182, 0.46687136410253677, 0.3188656785987697, 0.7699121598333447, 0.15187763606796495, 0.2793597819924499, 1.3263442544398758, -0.7936811937701996, -0.15393616151120165, 0.05520688739259033, -1.8565385606752336, -0.32172545332466196, 0.5038075164847766, -1.9177966894565226, 0.9632920973705353, 1.3563311373052924, 0.34447531381624724, -0.4413867171527908, -0.956840945349693, -0.3893814338755863, -1.1579619966744505, -0.8886867830976829, -1.5514639240822634, -1.2843476076274045, 1.256439946960209, 0.4571796955089669, -0.6352941465719506, -0.01840227830138182, 0.012149583965205024, -0.7139596600384576, -2.2073603980461756, -0.3769142907166705, -1.1530851450231299, 0.6545482159160557, -1.419920770287892, 0.7929584155525694, 0.9508711081337505, 0.6127102026962786, 0.05790749951701337, -0.4669327658980801, -0.06445765660094958, 0.08303432679820061, 0.7832095356792245, 0.29008929899966, 0.9489372515059938, -1.8221105051652147, 0.25122468116482677, -0.688314804778081, 1.090724486112609, -0.5553079114238013, 0.782352967608839, 0.21959952494655974, -0.7372885183735969, 0.8495989359274342, 0.9781385987871037, 1.229655208571755, 1.3868570877160415, 0.8665666205235594, 1.6780863864864783], \"yaxis\": \"y15\"}, {\"histfunc\": \"count\", \"histnorm\": \"\", \"marker\": {\"color\": \"rgba(128, 0, 128, 1.0)\", \"line\": {\"color\": \"#4D5663\", \"width\": 1.3}}, \"name\": \"D\", \"nbinsx\": 10, \"opacity\": 0.8, \"orientation\": \"v\", \"type\": \"histogram\", \"x\": [-0.21411274271333836, 0.3713237974686019, 1.0182433694657855, -0.9809308780644594, 0.11681415896180601, 0.056113925932592144, 1.038143121639036, -0.3092977150883147, -0.5433729141065714, -1.3196508208765234, -0.25708061763812173, 0.0037782350897909234, -0.2662763824170066, 0.0768552484861571, -0.9055776501046975, -1.0036356624024152, -2.97083366912784, 0.6983562301131403, -0.21374284452706516, 0.8684627325918218, -0.1861796533340893, 0.8116072183269627, 0.2479167382445622, -1.6149889045131847, 1.1122405866650933, -0.035202215333426747, 0.9464088148430557, -2.06551088435252, 1.8003719420270903, 1.3589645300664823, 2.813029349767026, -1.0659002960154034, -1.144289714564388, -0.24400458589547835, 0.07156212349079402, 2.6239711417649914, 0.7262306311124471, -2.0178252387141296, 0.9910007039302287, -0.52634820628823, 1.502801479836207, -2.5371826122745182, 0.46687136410253677, 0.3188656785987697, 0.7699121598333447, 0.15187763606796495, 0.2793597819924499, 1.3263442544398758, -0.7936811937701996, -0.15393616151120165, 0.05520688739259033, -1.8565385606752336, -0.32172545332466196, 0.5038075164847766, -1.9177966894565226, 0.9632920973705353, 1.3563311373052924, 0.34447531381624724, -0.4413867171527908, -0.956840945349693, -0.3893814338755863, -1.1579619966744505, -0.8886867830976829, -1.5514639240822634, -1.2843476076274045, 1.256439946960209, 0.4571796955089669, -0.6352941465719506, -0.01840227830138182, 0.012149583965205024, -0.7139596600384576, -2.2073603980461756, -0.3769142907166705, -1.1530851450231299, 0.6545482159160557, -1.419920770287892, 0.7929584155525694, 0.9508711081337505, 0.6127102026962786, 0.05790749951701337, -0.4669327658980801, -0.06445765660094958, 0.08303432679820061, 0.7832095356792245, 0.29008929899966, 0.9489372515059938, -1.8221105051652147, 0.25122468116482677, -0.688314804778081, 1.090724486112609, -0.5553079114238013, 0.782352967608839, 0.21959952494655974, -0.7372885183735969, 0.8495989359274342, 0.9781385987871037, 1.229655208571755, 1.3868570877160415, 0.8665666205235594, 1.6780863864864783], \"xaxis\": \"x16\", \"yaxis\": \"y16\"}],\n",
       "                        {\"bargap\": 0.02, \"legend\": {\"bgcolor\": \"#F5F6F9\", \"font\": {\"color\": \"#4D5663\"}}, \"paper_bgcolor\": \"#F5F6F9\", \"plot_bgcolor\": \"#F5F6F9\", \"showlegend\": false, \"template\": {\"data\": {\"bar\": [{\"error_x\": {\"color\": \"#2a3f5f\"}, \"error_y\": {\"color\": \"#2a3f5f\"}, \"marker\": {\"line\": {\"color\": \"#E5ECF6\", \"width\": 0.5}}, \"type\": \"bar\"}], \"barpolar\": [{\"marker\": {\"line\": {\"color\": \"#E5ECF6\", \"width\": 0.5}}, \"type\": \"barpolar\"}], \"carpet\": [{\"aaxis\": {\"endlinecolor\": \"#2a3f5f\", \"gridcolor\": \"white\", \"linecolor\": \"white\", \"minorgridcolor\": \"white\", \"startlinecolor\": \"#2a3f5f\"}, \"baxis\": {\"endlinecolor\": \"#2a3f5f\", \"gridcolor\": \"white\", \"linecolor\": \"white\", \"minorgridcolor\": \"white\", \"startlinecolor\": \"#2a3f5f\"}, \"type\": \"carpet\"}], \"choropleth\": [{\"colorbar\": {\"outlinewidth\": 0, \"ticks\": \"\"}, \"type\": \"choropleth\"}], \"contour\": [{\"colorbar\": {\"outlinewidth\": 0, \"ticks\": \"\"}, \"colorscale\": [[0.0, \"#0d0887\"], [0.1111111111111111, \"#46039f\"], [0.2222222222222222, \"#7201a8\"], [0.3333333333333333, \"#9c179e\"], [0.4444444444444444, \"#bd3786\"], [0.5555555555555556, \"#d8576b\"], [0.6666666666666666, \"#ed7953\"], [0.7777777777777778, \"#fb9f3a\"], [0.8888888888888888, \"#fdca26\"], [1.0, \"#f0f921\"]], \"type\": \"contour\"}], \"contourcarpet\": [{\"colorbar\": {\"outlinewidth\": 0, \"ticks\": \"\"}, \"type\": \"contourcarpet\"}], \"heatmap\": [{\"colorbar\": {\"outlinewidth\": 0, \"ticks\": \"\"}, \"colorscale\": [[0.0, \"#0d0887\"], [0.1111111111111111, \"#46039f\"], [0.2222222222222222, \"#7201a8\"], [0.3333333333333333, \"#9c179e\"], [0.4444444444444444, \"#bd3786\"], [0.5555555555555556, \"#d8576b\"], [0.6666666666666666, \"#ed7953\"], [0.7777777777777778, \"#fb9f3a\"], [0.8888888888888888, \"#fdca26\"], [1.0, \"#f0f921\"]], \"type\": \"heatmap\"}], \"heatmapgl\": [{\"colorbar\": {\"outlinewidth\": 0, \"ticks\": \"\"}, \"colorscale\": [[0.0, \"#0d0887\"], [0.1111111111111111, \"#46039f\"], [0.2222222222222222, \"#7201a8\"], [0.3333333333333333, \"#9c179e\"], [0.4444444444444444, \"#bd3786\"], [0.5555555555555556, \"#d8576b\"], [0.6666666666666666, \"#ed7953\"], [0.7777777777777778, \"#fb9f3a\"], [0.8888888888888888, \"#fdca26\"], [1.0, \"#f0f921\"]], \"type\": \"heatmapgl\"}], \"histogram\": [{\"marker\": {\"colorbar\": {\"outlinewidth\": 0, \"ticks\": \"\"}}, \"type\": \"histogram\"}], \"histogram2d\": [{\"colorbar\": {\"outlinewidth\": 0, \"ticks\": \"\"}, \"colorscale\": [[0.0, \"#0d0887\"], [0.1111111111111111, \"#46039f\"], [0.2222222222222222, \"#7201a8\"], [0.3333333333333333, \"#9c179e\"], [0.4444444444444444, \"#bd3786\"], [0.5555555555555556, \"#d8576b\"], [0.6666666666666666, \"#ed7953\"], [0.7777777777777778, \"#fb9f3a\"], [0.8888888888888888, \"#fdca26\"], [1.0, \"#f0f921\"]], \"type\": \"histogram2d\"}], \"histogram2dcontour\": [{\"colorbar\": {\"outlinewidth\": 0, \"ticks\": \"\"}, \"colorscale\": [[0.0, \"#0d0887\"], [0.1111111111111111, \"#46039f\"], [0.2222222222222222, \"#7201a8\"], [0.3333333333333333, \"#9c179e\"], [0.4444444444444444, \"#bd3786\"], [0.5555555555555556, \"#d8576b\"], [0.6666666666666666, \"#ed7953\"], [0.7777777777777778, \"#fb9f3a\"], [0.8888888888888888, \"#fdca26\"], [1.0, \"#f0f921\"]], \"type\": \"histogram2dcontour\"}], \"mesh3d\": [{\"colorbar\": {\"outlinewidth\": 0, \"ticks\": \"\"}, \"type\": \"mesh3d\"}], \"parcoords\": [{\"line\": {\"colorbar\": {\"outlinewidth\": 0, \"ticks\": \"\"}}, \"type\": \"parcoords\"}], \"pie\": [{\"automargin\": true, \"type\": \"pie\"}], \"scatter\": [{\"marker\": {\"colorbar\": {\"outlinewidth\": 0, \"ticks\": \"\"}}, \"type\": \"scatter\"}], \"scatter3d\": [{\"line\": {\"colorbar\": {\"outlinewidth\": 0, \"ticks\": \"\"}}, \"marker\": {\"colorbar\": {\"outlinewidth\": 0, \"ticks\": \"\"}}, \"type\": \"scatter3d\"}], \"scattercarpet\": [{\"marker\": {\"colorbar\": {\"outlinewidth\": 0, \"ticks\": \"\"}}, \"type\": \"scattercarpet\"}], \"scattergeo\": [{\"marker\": {\"colorbar\": {\"outlinewidth\": 0, \"ticks\": \"\"}}, \"type\": \"scattergeo\"}], \"scattergl\": [{\"marker\": {\"colorbar\": {\"outlinewidth\": 0, \"ticks\": \"\"}}, \"type\": \"scattergl\"}], \"scattermapbox\": [{\"marker\": {\"colorbar\": {\"outlinewidth\": 0, \"ticks\": \"\"}}, \"type\": \"scattermapbox\"}], \"scatterpolar\": [{\"marker\": {\"colorbar\": {\"outlinewidth\": 0, \"ticks\": \"\"}}, \"type\": \"scatterpolar\"}], \"scatterpolargl\": [{\"marker\": {\"colorbar\": {\"outlinewidth\": 0, \"ticks\": \"\"}}, \"type\": \"scatterpolargl\"}], \"scatterternary\": [{\"marker\": {\"colorbar\": {\"outlinewidth\": 0, \"ticks\": \"\"}}, \"type\": \"scatterternary\"}], \"surface\": [{\"colorbar\": {\"outlinewidth\": 0, \"ticks\": \"\"}, \"colorscale\": [[0.0, \"#0d0887\"], [0.1111111111111111, \"#46039f\"], [0.2222222222222222, \"#7201a8\"], [0.3333333333333333, \"#9c179e\"], [0.4444444444444444, \"#bd3786\"], [0.5555555555555556, \"#d8576b\"], [0.6666666666666666, \"#ed7953\"], [0.7777777777777778, \"#fb9f3a\"], [0.8888888888888888, \"#fdca26\"], [1.0, \"#f0f921\"]], \"type\": \"surface\"}], \"table\": [{\"cells\": {\"fill\": {\"color\": \"#EBF0F8\"}, \"line\": {\"color\": \"white\"}}, \"header\": {\"fill\": {\"color\": \"#C8D4E3\"}, \"line\": {\"color\": \"white\"}}, \"type\": \"table\"}]}, \"layout\": {\"annotationdefaults\": {\"arrowcolor\": \"#2a3f5f\", \"arrowhead\": 0, \"arrowwidth\": 1}, \"coloraxis\": {\"colorbar\": {\"outlinewidth\": 0, \"ticks\": \"\"}}, \"colorscale\": {\"diverging\": [[0, \"#8e0152\"], [0.1, \"#c51b7d\"], [0.2, \"#de77ae\"], [0.3, \"#f1b6da\"], [0.4, \"#fde0ef\"], [0.5, \"#f7f7f7\"], [0.6, \"#e6f5d0\"], [0.7, \"#b8e186\"], [0.8, \"#7fbc41\"], [0.9, \"#4d9221\"], [1, \"#276419\"]], \"sequential\": [[0.0, \"#0d0887\"], [0.1111111111111111, \"#46039f\"], [0.2222222222222222, \"#7201a8\"], [0.3333333333333333, \"#9c179e\"], [0.4444444444444444, \"#bd3786\"], [0.5555555555555556, \"#d8576b\"], [0.6666666666666666, \"#ed7953\"], [0.7777777777777778, \"#fb9f3a\"], [0.8888888888888888, \"#fdca26\"], [1.0, \"#f0f921\"]], \"sequentialminus\": [[0.0, \"#0d0887\"], [0.1111111111111111, \"#46039f\"], [0.2222222222222222, \"#7201a8\"], [0.3333333333333333, \"#9c179e\"], [0.4444444444444444, \"#bd3786\"], [0.5555555555555556, \"#d8576b\"], [0.6666666666666666, \"#ed7953\"], [0.7777777777777778, \"#fb9f3a\"], [0.8888888888888888, \"#fdca26\"], [1.0, \"#f0f921\"]]}, \"colorway\": [\"#636efa\", \"#EF553B\", \"#00cc96\", \"#ab63fa\", \"#FFA15A\", \"#19d3f3\", \"#FF6692\", \"#B6E880\", \"#FF97FF\", \"#FECB52\"], \"font\": {\"color\": \"#2a3f5f\"}, \"geo\": {\"bgcolor\": \"white\", \"lakecolor\": \"white\", \"landcolor\": \"#E5ECF6\", \"showlakes\": true, \"showland\": true, \"subunitcolor\": \"white\"}, \"hoverlabel\": {\"align\": \"left\"}, \"hovermode\": \"closest\", \"mapbox\": {\"style\": \"light\"}, \"paper_bgcolor\": \"white\", \"plot_bgcolor\": \"#E5ECF6\", \"polar\": {\"angularaxis\": {\"gridcolor\": \"white\", \"linecolor\": \"white\", \"ticks\": \"\"}, \"bgcolor\": \"#E5ECF6\", \"radialaxis\": {\"gridcolor\": \"white\", \"linecolor\": \"white\", \"ticks\": \"\"}}, \"scene\": {\"xaxis\": {\"backgroundcolor\": \"#E5ECF6\", \"gridcolor\": \"white\", \"gridwidth\": 2, \"linecolor\": \"white\", \"showbackground\": true, \"ticks\": \"\", \"zerolinecolor\": \"white\"}, \"yaxis\": {\"backgroundcolor\": \"#E5ECF6\", \"gridcolor\": \"white\", \"gridwidth\": 2, \"linecolor\": \"white\", \"showbackground\": true, \"ticks\": \"\", \"zerolinecolor\": \"white\"}, \"zaxis\": {\"backgroundcolor\": \"#E5ECF6\", \"gridcolor\": \"white\", \"gridwidth\": 2, \"linecolor\": \"white\", \"showbackground\": true, \"ticks\": \"\", \"zerolinecolor\": \"white\"}}, \"shapedefaults\": {\"line\": {\"color\": \"#2a3f5f\"}}, \"ternary\": {\"aaxis\": {\"gridcolor\": \"white\", \"linecolor\": \"white\", \"ticks\": \"\"}, \"baxis\": {\"gridcolor\": \"white\", \"linecolor\": \"white\", \"ticks\": \"\"}, \"bgcolor\": \"#E5ECF6\", \"caxis\": {\"gridcolor\": \"white\", \"linecolor\": \"white\", \"ticks\": \"\"}}, \"title\": {\"x\": 0.05}, \"xaxis\": {\"automargin\": true, \"gridcolor\": \"white\", \"linecolor\": \"white\", \"ticks\": \"\", \"title\": {\"standoff\": 15}, \"zerolinecolor\": \"white\", \"zerolinewidth\": 2}, \"yaxis\": {\"automargin\": true, \"gridcolor\": \"white\", \"linecolor\": \"white\", \"ticks\": \"\", \"title\": {\"standoff\": 15}, \"zerolinecolor\": \"white\", \"zerolinewidth\": 2}}}, \"title\": {\"font\": {\"color\": \"#4D5663\"}}, \"xaxis\": {\"anchor\": \"y\", \"domain\": [0.0, 0.2125], \"gridcolor\": \"#E1E5ED\", \"showgrid\": false, \"tickfont\": {\"color\": \"#4D5663\"}, \"title\": {\"font\": {\"color\": \"#4D5663\"}, \"text\": \"\"}, \"zerolinecolor\": \"#E1E5ED\"}, \"xaxis10\": {\"anchor\": \"y10\", \"domain\": [0.2625, 0.475], \"gridcolor\": \"#E1E5ED\", \"showgrid\": false, \"tickfont\": {\"color\": \"#4D5663\"}, \"title\": {\"font\": {\"color\": \"#4D5663\"}, \"text\": \"\"}, \"zerolinecolor\": \"#E1E5ED\"}, \"xaxis11\": {\"anchor\": \"y11\", \"domain\": [0.525, 0.7375], \"gridcolor\": \"#E1E5ED\", \"showgrid\": false, \"tickfont\": {\"color\": \"#4D5663\"}, \"title\": {\"font\": {\"color\": \"#4D5663\"}, \"text\": \"\"}, \"zerolinecolor\": \"#E1E5ED\"}, \"xaxis12\": {\"anchor\": \"y12\", \"domain\": [0.7875, 1.0], \"gridcolor\": \"#E1E5ED\", \"showgrid\": false, \"tickfont\": {\"color\": \"#4D5663\"}, \"title\": {\"font\": {\"color\": \"#4D5663\"}, \"text\": \"\"}, \"zerolinecolor\": \"#E1E5ED\"}, \"xaxis13\": {\"anchor\": \"y13\", \"domain\": [0.0, 0.2125], \"gridcolor\": \"#E1E5ED\", \"showgrid\": false, \"tickfont\": {\"color\": \"#4D5663\"}, \"title\": {\"font\": {\"color\": \"#4D5663\"}, \"text\": \"\"}, \"zerolinecolor\": \"#E1E5ED\"}, \"xaxis14\": {\"anchor\": \"y14\", \"domain\": [0.2625, 0.475], \"gridcolor\": \"#E1E5ED\", \"showgrid\": false, \"tickfont\": {\"color\": \"#4D5663\"}, \"title\": {\"font\": {\"color\": \"#4D5663\"}, \"text\": \"\"}, \"zerolinecolor\": \"#E1E5ED\"}, \"xaxis15\": {\"anchor\": \"y15\", \"domain\": [0.525, 0.7375], \"gridcolor\": \"#E1E5ED\", \"showgrid\": false, \"tickfont\": {\"color\": \"#4D5663\"}, \"title\": {\"font\": {\"color\": \"#4D5663\"}, \"text\": \"\"}, \"zerolinecolor\": \"#E1E5ED\"}, \"xaxis16\": {\"anchor\": \"y16\", \"domain\": [0.7875, 1.0], \"gridcolor\": \"#E1E5ED\", \"showgrid\": false, \"tickfont\": {\"color\": \"#4D5663\"}, \"title\": {\"font\": {\"color\": \"#4D5663\"}, \"text\": \"\"}, \"zerolinecolor\": \"#E1E5ED\"}, \"xaxis2\": {\"anchor\": \"y2\", \"domain\": [0.2625, 0.475], \"gridcolor\": \"#E1E5ED\", \"showgrid\": false, \"tickfont\": {\"color\": \"#4D5663\"}, \"title\": {\"font\": {\"color\": \"#4D5663\"}, \"text\": \"\"}, \"zerolinecolor\": \"#E1E5ED\"}, \"xaxis3\": {\"anchor\": \"y3\", \"domain\": [0.525, 0.7375], \"gridcolor\": \"#E1E5ED\", \"showgrid\": false, \"tickfont\": {\"color\": \"#4D5663\"}, \"title\": {\"font\": {\"color\": \"#4D5663\"}, \"text\": \"\"}, \"zerolinecolor\": \"#E1E5ED\"}, \"xaxis4\": {\"anchor\": \"y4\", \"domain\": [0.7875, 1.0], \"gridcolor\": \"#E1E5ED\", \"showgrid\": false, \"tickfont\": {\"color\": \"#4D5663\"}, \"title\": {\"font\": {\"color\": \"#4D5663\"}, \"text\": \"\"}, \"zerolinecolor\": \"#E1E5ED\"}, \"xaxis5\": {\"anchor\": \"y5\", \"domain\": [0.0, 0.2125], \"gridcolor\": \"#E1E5ED\", \"showgrid\": false, \"tickfont\": {\"color\": \"#4D5663\"}, \"title\": {\"font\": {\"color\": \"#4D5663\"}, \"text\": \"\"}, \"zerolinecolor\": \"#E1E5ED\"}, \"xaxis6\": {\"anchor\": \"y6\", \"domain\": [0.2625, 0.475], \"gridcolor\": \"#E1E5ED\", \"showgrid\": false, \"tickfont\": {\"color\": \"#4D5663\"}, \"title\": {\"font\": {\"color\": \"#4D5663\"}, \"text\": \"\"}, \"zerolinecolor\": \"#E1E5ED\"}, \"xaxis7\": {\"anchor\": \"y7\", \"domain\": [0.525, 0.7375], \"gridcolor\": \"#E1E5ED\", \"showgrid\": false, \"tickfont\": {\"color\": \"#4D5663\"}, \"title\": {\"font\": {\"color\": \"#4D5663\"}, \"text\": \"\"}, \"zerolinecolor\": \"#E1E5ED\"}, \"xaxis8\": {\"anchor\": \"y8\", \"domain\": [0.7875, 1.0], \"gridcolor\": \"#E1E5ED\", \"showgrid\": false, \"tickfont\": {\"color\": \"#4D5663\"}, \"title\": {\"font\": {\"color\": \"#4D5663\"}, \"text\": \"\"}, \"zerolinecolor\": \"#E1E5ED\"}, \"xaxis9\": {\"anchor\": \"y9\", \"domain\": [0.0, 0.2125], \"gridcolor\": \"#E1E5ED\", \"showgrid\": false, \"tickfont\": {\"color\": \"#4D5663\"}, \"title\": {\"font\": {\"color\": \"#4D5663\"}, \"text\": \"\"}, \"zerolinecolor\": \"#E1E5ED\"}, \"yaxis\": {\"anchor\": \"x\", \"domain\": [0.8025, 1.0], \"gridcolor\": \"#E1E5ED\", \"showgrid\": false, \"tickfont\": {\"color\": \"#4D5663\"}, \"title\": {\"font\": {\"color\": \"#4D5663\"}, \"text\": \"\"}, \"zerolinecolor\": \"#E1E5ED\"}, \"yaxis10\": {\"anchor\": \"x10\", \"domain\": [0.2675, 0.465], \"gridcolor\": \"#E1E5ED\", \"showgrid\": false, \"tickfont\": {\"color\": \"#4D5663\"}, \"title\": {\"font\": {\"color\": \"#4D5663\"}, \"text\": \"\"}, \"zerolinecolor\": \"#E1E5ED\"}, \"yaxis11\": {\"anchor\": \"x11\", \"domain\": [0.2675, 0.465], \"gridcolor\": \"#E1E5ED\", \"showgrid\": false, \"tickfont\": {\"color\": \"#4D5663\"}, \"title\": {\"font\": {\"color\": \"#4D5663\"}, \"text\": \"\"}, \"zerolinecolor\": \"#E1E5ED\"}, \"yaxis12\": {\"anchor\": \"x12\", \"domain\": [0.2675, 0.465], \"gridcolor\": \"#E1E5ED\", \"showgrid\": false, \"tickfont\": {\"color\": \"#4D5663\"}, \"title\": {\"font\": {\"color\": \"#4D5663\"}, \"text\": \"\"}, \"zerolinecolor\": \"#E1E5ED\"}, \"yaxis13\": {\"anchor\": \"x13\", \"domain\": [0.0, 0.1975], \"gridcolor\": \"#E1E5ED\", \"showgrid\": false, \"tickfont\": {\"color\": \"#4D5663\"}, \"title\": {\"font\": {\"color\": \"#4D5663\"}, \"text\": \"\"}, \"zerolinecolor\": \"#E1E5ED\"}, \"yaxis14\": {\"anchor\": \"x14\", \"domain\": [0.0, 0.1975], \"gridcolor\": \"#E1E5ED\", \"showgrid\": false, \"tickfont\": {\"color\": \"#4D5663\"}, \"title\": {\"font\": {\"color\": \"#4D5663\"}, \"text\": \"\"}, \"zerolinecolor\": \"#E1E5ED\"}, \"yaxis15\": {\"anchor\": \"x15\", \"domain\": [0.0, 0.1975], \"gridcolor\": \"#E1E5ED\", \"showgrid\": false, \"tickfont\": {\"color\": \"#4D5663\"}, \"title\": {\"font\": {\"color\": \"#4D5663\"}, \"text\": \"\"}, \"zerolinecolor\": \"#E1E5ED\"}, \"yaxis16\": {\"anchor\": \"x16\", \"domain\": [0.0, 0.1975], \"gridcolor\": \"#E1E5ED\", \"showgrid\": false, \"tickfont\": {\"color\": \"#4D5663\"}, \"title\": {\"font\": {\"color\": \"#4D5663\"}, \"text\": \"\"}, \"zerolinecolor\": \"#E1E5ED\"}, \"yaxis2\": {\"anchor\": \"x2\", \"domain\": [0.8025, 1.0], \"gridcolor\": \"#E1E5ED\", \"showgrid\": false, \"tickfont\": {\"color\": \"#4D5663\"}, \"title\": {\"font\": {\"color\": \"#4D5663\"}, \"text\": \"\"}, \"zerolinecolor\": \"#E1E5ED\"}, \"yaxis3\": {\"anchor\": \"x3\", \"domain\": [0.8025, 1.0], \"gridcolor\": \"#E1E5ED\", \"showgrid\": false, \"tickfont\": {\"color\": \"#4D5663\"}, \"title\": {\"font\": {\"color\": \"#4D5663\"}, \"text\": \"\"}, \"zerolinecolor\": \"#E1E5ED\"}, \"yaxis4\": {\"anchor\": \"x4\", \"domain\": [0.8025, 1.0], \"gridcolor\": \"#E1E5ED\", \"showgrid\": false, \"tickfont\": {\"color\": \"#4D5663\"}, \"title\": {\"font\": {\"color\": \"#4D5663\"}, \"text\": \"\"}, \"zerolinecolor\": \"#E1E5ED\"}, \"yaxis5\": {\"anchor\": \"x5\", \"domain\": [0.535, 0.7325], \"gridcolor\": \"#E1E5ED\", \"showgrid\": false, \"tickfont\": {\"color\": \"#4D5663\"}, \"title\": {\"font\": {\"color\": \"#4D5663\"}, \"text\": \"\"}, \"zerolinecolor\": \"#E1E5ED\"}, \"yaxis6\": {\"anchor\": \"x6\", \"domain\": [0.535, 0.7325], \"gridcolor\": \"#E1E5ED\", \"showgrid\": false, \"tickfont\": {\"color\": \"#4D5663\"}, \"title\": {\"font\": {\"color\": \"#4D5663\"}, \"text\": \"\"}, \"zerolinecolor\": \"#E1E5ED\"}, \"yaxis7\": {\"anchor\": \"x7\", \"domain\": [0.535, 0.7325], \"gridcolor\": \"#E1E5ED\", \"showgrid\": false, \"tickfont\": {\"color\": \"#4D5663\"}, \"title\": {\"font\": {\"color\": \"#4D5663\"}, \"text\": \"\"}, \"zerolinecolor\": \"#E1E5ED\"}, \"yaxis8\": {\"anchor\": \"x8\", \"domain\": [0.535, 0.7325], \"gridcolor\": \"#E1E5ED\", \"showgrid\": false, \"tickfont\": {\"color\": \"#4D5663\"}, \"title\": {\"font\": {\"color\": \"#4D5663\"}, \"text\": \"\"}, \"zerolinecolor\": \"#E1E5ED\"}, \"yaxis9\": {\"anchor\": \"x9\", \"domain\": [0.2675, 0.465], \"gridcolor\": \"#E1E5ED\", \"showgrid\": false, \"tickfont\": {\"color\": \"#4D5663\"}, \"title\": {\"font\": {\"color\": \"#4D5663\"}, \"text\": \"\"}, \"zerolinecolor\": \"#E1E5ED\"}},\n",
       "                        {\"showLink\": true, \"linkText\": \"Export to plot.ly\", \"plotlyServerURL\": \"https://plot.ly\", \"responsive\": true}\n",
       "                    ).then(function(){\n",
       "                            \n",
       "var gd = document.getElementById('3dd7552f-36c5-4912-aadf-4344a4ec4e78');\n",
       "var x = new MutationObserver(function (mutations, observer) {{\n",
       "        var display = window.getComputedStyle(gd).display;\n",
       "        if (!display || display === 'none') {{\n",
       "            console.log([gd, 'removed!']);\n",
       "            Plotly.purge(gd);\n",
       "            observer.disconnect();\n",
       "        }}\n",
       "}});\n",
       "\n",
       "// Listen for the removal of the full notebook cells\n",
       "var notebookContainer = gd.closest('#notebook-container');\n",
       "if (notebookContainer) {{\n",
       "    x.observe(notebookContainer, {childList: true});\n",
       "}}\n",
       "\n",
       "// Listen for the clearing of the current output cell\n",
       "var outputEl = gd.closest('.output');\n",
       "if (outputEl) {{\n",
       "    x.observe(outputEl, {childList: true});\n",
       "}}\n",
       "\n",
       "                        })\n",
       "                };\n",
       "                });\n",
       "            </script>\n",
       "        </div>"
      ]
     },
     "metadata": {},
     "output_type": "display_data"
    }
   ],
   "source": [
    "df.scatter_matrix()"
   ]
  },
  {
   "cell_type": "markdown",
   "metadata": {
    "collapsed": true
   },
   "source": [
    "# Great Job!"
   ]
  }
 ],
 "metadata": {
  "kernelspec": {
   "display_name": "Python 3",
   "language": "python",
   "name": "python3"
  },
  "language_info": {
   "codemirror_mode": {
    "name": "ipython",
    "version": 3
   },
   "file_extension": ".py",
   "mimetype": "text/x-python",
   "name": "python",
   "nbconvert_exporter": "python",
   "pygments_lexer": "ipython3",
   "version": "3.7.3"
  }
 },
 "nbformat": 4,
 "nbformat_minor": 1
}
